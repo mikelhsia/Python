{
 "cells": [
  {
   "cell_type": "heading",
   "metadata": {
    "collapsed": true
   },
   "level": 1,
   "source": [
    "### Chap 10"
   ]
  },
  {
   "cell_type": "code",
   "execution_count": 3,
   "metadata": {},
   "outputs": [],
   "source": [
    "def get_fruits1(basket, fruit):\n",
    "    try: \n",
    "        return basket[fruit]\n",
    "    except KeyError:\n",
    "        return None"
   ]
  },
  {
   "cell_type": "code",
   "execution_count": 4,
   "metadata": {},
   "outputs": [],
   "source": [
    "def get_fruits2(basket, fruit):\n",
    "    if fruit in basket:\n",
    "        return basket[fruit]"
   ]
  },
  {
   "cell_type": "code",
   "execution_count": 5,
   "metadata": {},
   "outputs": [],
   "source": [
    "def get_fruits3(basket, fruit):\n",
    "    return basket.get(fruit)"
   ]
  },
  {
   "cell_type": "code",
   "execution_count": 7,
   "metadata": {},
   "outputs": [],
   "source": [
    "import collections"
   ]
  },
  {
   "cell_type": "code",
   "execution_count": 8,
   "metadata": {},
   "outputs": [],
   "source": [
    "c = collections.Counter(\"Premature optimization is the root of all evil.\")"
   ]
  },
  {
   "cell_type": "code",
   "execution_count": 9,
   "metadata": {},
   "outputs": [
    {
     "data": {
      "text/plain": [
       "Counter({'P': 1,\n         'r': 3,\n         'e': 4,\n         'm': 2,\n         'a': 3,\n         't': 5,\n         'u': 1,\n         ' ': 7,\n         'o': 5,\n         'p': 1,\n         'i': 5,\n         'z': 1,\n         'n': 1,\n         's': 1,\n         'h': 1,\n         'f': 1,\n         'l': 3,\n         'v': 1,\n         '.': 1})"
      ]
     },
     "execution_count": 9,
     "metadata": {},
     "output_type": "execute_result"
    }
   ],
   "source": [
    "c"
   ]
  },
  {
   "cell_type": "code",
   "execution_count": 10,
   "metadata": {},
   "outputs": [
    {
     "data": {
      "text/plain": [
       "1"
      ]
     },
     "execution_count": 10,
     "metadata": {},
     "output_type": "execute_result"
    }
   ],
   "source": [
    "c['P']"
   ]
  },
  {
   "cell_type": "code",
   "execution_count": 11,
   "metadata": {},
   "outputs": [
    {
     "data": {
      "text/plain": [
       "[(' ', 7), ('t', 5)]"
      ]
     },
     "execution_count": 11,
     "metadata": {},
     "output_type": "execute_result"
    }
   ],
   "source": [
    "c.most_common(2)"
   ]
  },
  {
   "cell_type": "heading",
   "metadata": {},
   "level": 1,
   "source": [
    "### Profiling"
   ]
  },
  {
   "cell_type": "heading",
   "metadata": {},
   "level": 2,
   "source": [
    ">> python -m cProfile xxx.py"
   ]
  },
  {
   "cell_type": "heading",
   "metadata": {},
   "level": 2,
   "source": [
    "pip3 install pyprof2calltree\n",
    "python3 -m cProfile -o xxx.cprof xxx.py\n",
    "pyprof2calltree -k -i xxx.cprof"
   ]
  },
  {
   "cell_type": "code",
   "execution_count": 12,
   "metadata": {},
   "outputs": [],
   "source": [
    "def x():\n",
    "    return 42"
   ]
  },
  {
   "cell_type": "code",
   "execution_count": 13,
   "metadata": {},
   "outputs": [],
   "source": [
    "import dis"
   ]
  },
  {
   "cell_type": "code",
   "execution_count": 14,
   "metadata": {},
   "outputs": [
    {
     "name": "stdout",
     "output_type": "stream",
     "text": [
      "  2           0 LOAD_CONST               1 (42)\n              2 RETURN_VALUE\n"
     ]
    }
   ],
   "source": [
    "dis.dis(x)"
   ]
  },
  {
   "cell_type": "code",
   "execution_count": 15,
   "metadata": {},
   "outputs": [
    {
     "name": "stdout",
     "output_type": "stream",
     "text": [
      "  2           0 SETUP_EXCEPT             8 (to 10)\n\n  3           2 LOAD_FAST                0 (basket)\n              4 LOAD_FAST                1 (fruit)\n              6 BINARY_SUBSCR\n              8 RETURN_VALUE\n\n  4     >>   10 DUP_TOP\n             12 LOAD_GLOBAL              0 (KeyError)\n             14 COMPARE_OP              10 (exception match)\n             16 POP_JUMP_IF_FALSE       28\n             18 POP_TOP\n             20 POP_TOP\n             22 POP_TOP\n\n  5          24 LOAD_CONST               0 (None)\n             26 RETURN_VALUE\n        >>   28 END_FINALLY\n             30 LOAD_CONST               0 (None)\n             32 RETURN_VALUE\n"
     ]
    }
   ],
   "source": [
    "dis.dis(get_fruits1)"
   ]
  },
  {
   "cell_type": "code",
   "execution_count": 18,
   "metadata": {},
   "outputs": [],
   "source": [
    "abc = ('a', 'b', 'c')\n",
    "\n",
    "def concat_a_1():\n",
    "    for letter in abc:\n",
    "        abc[0] + letter\n",
    "        \n",
    "        \n",
    "def concat_a_2():\n",
    "    a = abc[0]\n",
    "    for letter in abc:\n",
    "        a + letter"
   ]
  },
  {
   "cell_type": "code",
   "execution_count": 20,
   "metadata": {},
   "outputs": [
    {
     "name": "stdout",
     "output_type": "stream",
     "text": [
      "  4           0 SETUP_LOOP              24 (to 26)\n              2 LOAD_GLOBAL              0 (abc)\n              4 GET_ITER\n        >>    6 FOR_ITER                16 (to 24)\n              8 STORE_FAST               0 (letter)\n\n  5          10 LOAD_GLOBAL              0 (abc)\n             12 LOAD_CONST               1 (0)\n             14 BINARY_SUBSCR\n             16 LOAD_FAST                0 (letter)\n             18 BINARY_ADD\n             20 POP_TOP\n             22 JUMP_ABSOLUTE            6\n        >>   24 POP_BLOCK\n        >>   26 LOAD_CONST               0 (None)\n             28 RETURN_VALUE\n"
     ]
    }
   ],
   "source": [
    "dis.dis(concat_a_1)"
   ]
  },
  {
   "cell_type": "code",
   "execution_count": 22,
   "metadata": {},
   "outputs": [
    {
     "name": "stdout",
     "output_type": "stream",
     "text": [
      "  9           0 LOAD_GLOBAL              0 (abc)\n              2 LOAD_CONST               1 (0)\n              4 BINARY_SUBSCR\n              6 STORE_FAST               0 (a)\n\n 10           8 SETUP_LOOP              20 (to 30)\n             10 LOAD_GLOBAL              0 (abc)\n             12 GET_ITER\n        >>   14 FOR_ITER                12 (to 28)\n             16 STORE_FAST               1 (letter)\n\n 11          18 LOAD_FAST                0 (a)\n             20 LOAD_FAST                1 (letter)\n             22 BINARY_ADD\n             24 POP_TOP\n             26 JUMP_ABSOLUTE           14\n        >>   28 POP_BLOCK\n        >>   30 LOAD_CONST               0 (None)\n             32 RETURN_VALUE\n"
     ]
    }
   ],
   "source": [
    "dis.dis(concat_a_2)"
   ]
  },
  {
   "cell_type": "code",
   "execution_count": 28,
   "metadata": {},
   "outputs": [
    {
     "name": "stdout",
     "output_type": "stream",
     "text": [
      "22.8 ns ± 1.64 ns per loop (mean ± std. dev. of 7 runs, 10000000 loops each)\n"
     ]
    }
   ],
   "source": [
    "%timeit concat_a_1"
   ]
  },
  {
   "cell_type": "code",
   "execution_count": 29,
   "metadata": {},
   "outputs": [
    {
     "name": "stdout",
     "output_type": "stream",
     "text": [
      "24.3 ns ± 1.63 ns per loop (mean ± std. dev. of 7 runs, 10000000 loops each)\n"
     ]
    }
   ],
   "source": [
    "%timeit concat_a_2"
   ]
  },
  {
   "cell_type": "heading",
   "metadata": {},
   "level": 1,
   "source": [
    "### Defining Functions Efficiently"
   ]
  },
  {
   "cell_type": "code",
   "execution_count": 33,
   "metadata": {},
   "outputs": [],
   "source": [
    "import dis\n",
    "\n",
    "def x():\n",
    "    return 42\n"
   ]
  },
  {
   "cell_type": "code",
   "execution_count": 34,
   "metadata": {},
   "outputs": [
    {
     "name": "stdout",
     "output_type": "stream",
     "text": [
      "  4           0 LOAD_CONST               1 (42)\n              2 RETURN_VALUE\n"
     ]
    }
   ],
   "source": [
    "dis.dis(x)"
   ]
  },
  {
   "cell_type": "code",
   "execution_count": 40,
   "metadata": {},
   "outputs": [],
   "source": [
    "def x():\n",
    "    def y():\n",
    "        return 42\n",
    "    return y()"
   ]
  },
  {
   "cell_type": "code",
   "execution_count": 41,
   "metadata": {},
   "outputs": [
    {
     "name": "stdout",
     "output_type": "stream",
     "text": [
      "  2           0 LOAD_CONST               1 (<code object y at 0x10a295c90, file \"<ipython-input-40-11b7e491a2dc>\", line 2>)\n              2 LOAD_CONST               2 ('x.<locals>.y')\n              4 MAKE_FUNCTION            0\n              6 STORE_FAST               0 (y)\n\n  4           8 LOAD_FAST                0 (y)\n             10 CALL_FUNCTION            0\n             12 RETURN_VALUE\n\nDisassembly of <code object y at 0x10a295c90, file \"<ipython-input-40-11b7e491a2dc>\", line 2>:\n  3           0 LOAD_CONST               1 (42)\n              2 RETURN_VALUE\n"
     ]
    }
   ],
   "source": [
    "dis.dis(x)"
   ]
  },
  {
   "cell_type": "code",
   "execution_count": 42,
   "metadata": {},
   "outputs": [],
   "source": [
    "def x():\n",
    "    a = 42\n",
    "    def y():\n",
    "        return a\n",
    "    return y()\n"
   ]
  },
  {
   "cell_type": "code",
   "execution_count": 43,
   "metadata": {},
   "outputs": [
    {
     "name": "stdout",
     "output_type": "stream",
     "text": [
      "  2           0 LOAD_CONST               1 (42)\n              2 STORE_DEREF              0 (a)\n\n  3           4 LOAD_CLOSURE             0 (a)\n              6 BUILD_TUPLE              1\n              8 LOAD_CONST               2 (<code object y at 0x10a295d20, file \"<ipython-input-42-3a4666042f01>\", line 3>)\n             10 LOAD_CONST               3 ('x.<locals>.y')\n             12 MAKE_FUNCTION            8\n             14 STORE_FAST               0 (y)\n\n  5          16 LOAD_FAST                0 (y)\n             18 CALL_FUNCTION            0\n             20 RETURN_VALUE\n\nDisassembly of <code object y at 0x10a295d20, file \"<ipython-input-42-3a4666042f01>\", line 3>:\n  4           0 LOAD_DEREF               0 (a)\n              2 RETURN_VALUE\n"
     ]
    }
   ],
   "source": [
    "dis.dis(x)"
   ]
  },
  {
   "cell_type": "heading",
   "metadata": {},
   "level": 1,
   "source": [
    "### Ordered Lists and bisect"
   ]
  },
  {
   "cell_type": "code",
   "execution_count": 58,
   "metadata": {},
   "outputs": [],
   "source": [
    "import bisect\n",
    "# bisect.bisect() function returns the position where an element should be inserted to keep the list sorted.\n",
    "farm = sorted(['haystack', 'needle', 'cow', 'pig'])"
   ]
  },
  {
   "cell_type": "code",
   "execution_count": 50,
   "metadata": {},
   "outputs": [
    {
     "data": {
      "text/plain": [
       "3"
      ]
     },
     "execution_count": 50,
     "metadata": {},
     "output_type": "execute_result"
    }
   ],
   "source": [
    "bisect.bisect(farm, 'needle')"
   ]
  },
  {
   "cell_type": "code",
   "execution_count": 51,
   "metadata": {},
   "outputs": [
    {
     "data": {
      "text/plain": [
       "2"
      ]
     },
     "execution_count": 51,
     "metadata": {},
     "output_type": "execute_result"
    }
   ],
   "source": [
    "bisect.bisect_left(farm, 'needle')"
   ]
  },
  {
   "cell_type": "code",
   "execution_count": 52,
   "metadata": {},
   "outputs": [
    {
     "data": {
      "text/plain": [
       "0"
      ]
     },
     "execution_count": 52,
     "metadata": {},
     "output_type": "execute_result"
    }
   ],
   "source": [
    "bisect.bisect(farm, 'chicken')"
   ]
  },
  {
   "cell_type": "code",
   "execution_count": 53,
   "metadata": {},
   "outputs": [
    {
     "data": {
      "text/plain": [
       "0"
      ]
     },
     "execution_count": 53,
     "metadata": {},
     "output_type": "execute_result"
    }
   ],
   "source": [
    "bisect.bisect_left(farm, 'chicken')"
   ]
  },
  {
   "cell_type": "code",
   "execution_count": 54,
   "metadata": {},
   "outputs": [
    {
     "data": {
      "text/plain": [
       "1"
      ]
     },
     "execution_count": 54,
     "metadata": {},
     "output_type": "execute_result"
    }
   ],
   "source": [
    "bisect.bisect(farm, 'egg')"
   ]
  },
  {
   "cell_type": "code",
   "execution_count": 55,
   "metadata": {},
   "outputs": [
    {
     "data": {
      "text/plain": [
       "1"
      ]
     },
     "execution_count": 55,
     "metadata": {},
     "output_type": "execute_result"
    }
   ],
   "source": [
    "bisect.bisect_left(farm, 'egg')"
   ]
  },
  {
   "cell_type": "code",
   "execution_count": 59,
   "metadata": {},
   "outputs": [
    {
     "data": {
      "text/plain": [
       "['cow', 'haystack', 'needle', 'pig']"
      ]
     },
     "execution_count": 59,
     "metadata": {},
     "output_type": "execute_result"
    }
   ],
   "source": [
    "farm"
   ]
  },
  {
   "cell_type": "code",
   "execution_count": 63,
   "metadata": {},
   "outputs": [
    {
     "data": {
      "text/plain": [
       "['cow', 'eggs', 'eggs', 'eggs', 'haystack', 'needle', 'pig']"
      ]
     },
     "execution_count": 63,
     "metadata": {},
     "output_type": "execute_result"
    }
   ],
   "source": [
    "bisect.insort(farm, 'eggs')\n",
    "farm"
   ]
  },
  {
   "cell_type": "code",
   "execution_count": 64,
   "metadata": {},
   "outputs": [
    {
     "data": {
      "text/plain": [
       "['cow', 'eggs', 'eggs', 'eggs', 'haystack', 'needle', 'pig', 'turkey']"
      ]
     },
     "execution_count": 64,
     "metadata": {},
     "output_type": "execute_result"
    }
   ],
   "source": [
    "bisect.insort(farm, 'turkey')\n",
    "farm"
   ]
  },
  {
   "cell_type": "code",
   "execution_count": 66,
   "metadata": {},
   "outputs": [],
   "source": [
    "# Special SortedList Class\n",
    "import bisect\n",
    "import unittest\n",
    "\n",
    "class SortedList(list):\n",
    "    def __init__(self, iterable):\n",
    "        super(SortedList, self).__init__(sorted(iterable))\n",
    "        \n",
    "    def insort(self, item):\n",
    "        bisect.insort(self, item)\n",
    "        \n",
    "    def extend(self, other):\n",
    "        for item in other:\n",
    "            self.insort(item)\n",
    "            \n",
    "    @staticmethod\n",
    "    def append(o):\n",
    "        raise RuntimeError(\"Cannot append to a sorted list\")\n",
    "    \n",
    "    def index(self, value, start=None, stop=None):\n",
    "        place = bisect.bisect_left(self[start:stop], value)\n",
    "        \n",
    "        if start:\n",
    "            place += start\n",
    "        \n",
    "        end = stop or len(self)\n",
    "        \n",
    "        if place < end and self[place] == value:\n",
    "            return place\n",
    "        \n",
    "        raise ValueError(f\"{value} is not in list\")\n",
    "    \n",
    "class TestSortedList(unittest.TestCase):\n",
    "    def setUp(self):\n",
    "        self.mylist = SortedList(['a', 'c', 'd', 'x', 'f', 'g', 'w'])\n",
    "        \n",
    "    def test_sorted_init(self):\n",
    "        self.assertEqual(sorted(['a', 'c', 'd', 'x', 'f', 'g', 'w']), self.mylist)\n",
    "        \n",
    "    def test_sorted_insort(self):\n",
    "        self.mylist.insort('z')\n",
    "        self.assertEqual(['a', 'c', 'd', 'f', 'g', 'w', 'x', 'z'], self.mylist)\n",
    "        \n",
    "        self.mylist.insort('b')\n",
    "        self.assertEqual(['a', 'b', 'c', 'd', 'f', 'g', 'w', 'x', 'z'], self.mylist)\n",
    "    \n",
    "    def test_index(self):\n",
    "        self.assertEqual(0, self.mylist.index('a'))\n",
    "        self.assertEqual(1, self.mylist.index('c'))\n",
    "        self.assertEqual(5, self.mylist.index('w'))\n",
    "        self.assertEqual(0, self.mylist.index('a', stop=0))\n",
    "        self.assertEqual(0, self.mylist.index('a', stop=2))\n",
    "        self.assertEqual(0, self.mylist.index('a', stop=20))\n",
    "        self.assertRaises(ValueError, self.mylist.index, 'w', stop=3)\n",
    "        self.assertRaises(ValueError, self.mylist.index, 'a', start=3)\n",
    "        self.assertRaises(ValueError, self.mylist.index, 'w', start=333)\n",
    "        \n",
    "    def test_extend(self):\n",
    "        self.mylist.extend(['b', 'h', 'j', 'c'])\n",
    "        self.assertEqual(['a', 'b', 'c', 'c', 'd', 'f', 'g', 'h', 'j', 'w', 'x'], self.mylist)"
   ]
  },
  {
   "cell_type": "heading",
   "metadata": {},
   "level": 1,
   "source": [
    "### Namedtuple and slots"
   ]
  },
  {
   "cell_type": "heading",
   "metadata": {},
   "level": 5,
   "source": [
    "Named tuples are a great replacement for small objects that consists of only a few attributes and do not require any custom methods—consider using them rather than dictionaries, for example. If your data type needs methods, has a fixed list of attributes, and might be instantiated thousands of times, then creating a custom class using __slots__ might be a good idea to save some memory."
   ]
  },
  {
   "cell_type": "code",
   "execution_count": 85,
   "metadata": {},
   "outputs": [],
   "source": [
    "import collections\n",
    "\n",
    "class Foobar(object):\n",
    "    __slot__ = ('x',)\n",
    "    def __init__(self, x):\n",
    "        self.x = x\n",
    "\n",
    "Foobar = collections.namedtuple('Foobar', ['x'])\n",
    "Foobar = collections.namedtuple('Foobar', ['x', 'y'])"
   ]
  },
  {
   "cell_type": "code",
   "execution_count": 88,
   "metadata": {},
   "outputs": [
    {
     "data": {
      "text/plain": [
       "42"
      ]
     },
     "execution_count": 88,
     "metadata": {},
     "output_type": "execute_result"
    }
   ],
   "source": [
    "Foobar(42, 43).x"
   ]
  },
  {
   "cell_type": "heading",
   "metadata": {},
   "level": 1,
   "source": [
    "### Memoization"
   ]
  },
  {
   "cell_type": "heading",
   "metadata": {},
   "level": 3,
   "source": [
    "Memoization is an optimization technique used to speed up function calls by caching their results. The results of a function can be cached only if the function is pure, meaning that it has no side effects and does not depend on any global state."
   ]
  },
  {
   "cell_type": "code",
   "execution_count": 90,
   "metadata": {},
   "outputs": [],
   "source": [
    "import math\n",
    "\n",
    "_SIN_MEMOIZED_VALUE = {}\n",
    "def memoized_sin(x):\n",
    "    if x not in _SIN_MEMOIZED_VALUE:\n",
    "        _SIN_MEMOIZED_VALUE[x] = math.sin(x)\n",
    "    return _SIN_MEMOIZED_VALUE[x]"
   ]
  },
  {
   "cell_type": "code",
   "execution_count": 91,
   "metadata": {},
   "outputs": [
    {
     "data": {
      "text/plain": [
       "0.8414709848078965"
      ]
     },
     "execution_count": 91,
     "metadata": {},
     "output_type": "execute_result"
    }
   ],
   "source": [
    "memoized_sin(1)"
   ]
  },
  {
   "cell_type": "code",
   "execution_count": 92,
   "metadata": {},
   "outputs": [
    {
     "data": {
      "text/plain": [
       "{1: 0.8414709848078965}"
      ]
     },
     "execution_count": 92,
     "metadata": {},
     "output_type": "execute_result"
    }
   ],
   "source": [
    "_SIN_MEMOIZED_VALUE"
   ]
  },
  {
   "cell_type": "code",
   "execution_count": 95,
   "metadata": {},
   "outputs": [
    {
     "data": {
      "text/plain": [
       "0.9092974268256817"
      ]
     },
     "execution_count": 95,
     "metadata": {},
     "output_type": "execute_result"
    }
   ],
   "source": [
    "memoized_sin(2)\n"
   ]
  },
  {
   "cell_type": "code",
   "execution_count": 97,
   "metadata": {},
   "outputs": [
    {
     "data": {
      "text/plain": [
       "0.9092974268256817"
      ]
     },
     "execution_count": 97,
     "metadata": {},
     "output_type": "execute_result"
    }
   ],
   "source": [
    "memoized_sin(2)"
   ]
  },
  {
   "cell_type": "code",
   "execution_count": 98,
   "metadata": {},
   "outputs": [
    {
     "data": {
      "text/plain": [
       "{1: 0.8414709848078965, 2: 0.9092974268256817}"
      ]
     },
     "execution_count": 98,
     "metadata": {},
     "output_type": "execute_result"
    }
   ],
   "source": [
    "_SIN_MEMOIZED_VALUE"
   ]
  },
  {
   "cell_type": "heading",
   "metadata": {},
   "level": 4,
   "source": [
    "LRU (Least Recently Used)"
   ]
  },
  {
   "cell_type": "code",
   "execution_count": 99,
   "metadata": {},
   "outputs": [],
   "source": [
    "import functools\n",
    "import math\n",
    "\n",
    "@functools.lru_cache(maxsize=2)\n",
    "def memorized_sin(x):\n",
    "    return math.sin(x)"
   ]
  },
  {
   "cell_type": "code",
   "execution_count": 100,
   "metadata": {},
   "outputs": [
    {
     "data": {
      "text/plain": [
       "0.9092974268256817"
      ]
     },
     "execution_count": 100,
     "metadata": {},
     "output_type": "execute_result"
    }
   ],
   "source": [
    "memorized_sin(2)"
   ]
  },
  {
   "cell_type": "code",
   "execution_count": 103,
   "metadata": {},
   "outputs": [
    {
     "data": {
      "text/plain": [
       "CacheInfo(hits=0, misses=1, maxsize=2, currsize=1)"
      ]
     },
     "execution_count": 103,
     "metadata": {},
     "output_type": "execute_result"
    }
   ],
   "source": [
    "memorized_sin.cache_info()"
   ]
  },
  {
   "cell_type": "code",
   "execution_count": 104,
   "metadata": {},
   "outputs": [
    {
     "data": {
      "text/plain": [
       "0.9092974268256817"
      ]
     },
     "execution_count": 104,
     "metadata": {},
     "output_type": "execute_result"
    }
   ],
   "source": [
    "memorized_sin(2)"
   ]
  },
  {
   "cell_type": "code",
   "execution_count": 105,
   "metadata": {},
   "outputs": [
    {
     "data": {
      "text/plain": [
       "CacheInfo(hits=1, misses=1, maxsize=2, currsize=1)"
      ]
     },
     "execution_count": 105,
     "metadata": {},
     "output_type": "execute_result"
    }
   ],
   "source": [
    "memorized_sin.cache_info()"
   ]
  },
  {
   "cell_type": "code",
   "execution_count": 106,
   "metadata": {},
   "outputs": [
    {
     "data": {
      "text/plain": [
       "0.1411200080598672"
      ]
     },
     "execution_count": 106,
     "metadata": {},
     "output_type": "execute_result"
    }
   ],
   "source": [
    "memorized_sin(3)"
   ]
  },
  {
   "cell_type": "code",
   "execution_count": 107,
   "metadata": {},
   "outputs": [
    {
     "data": {
      "text/plain": [
       "CacheInfo(hits=1, misses=2, maxsize=2, currsize=2)"
      ]
     },
     "execution_count": 107,
     "metadata": {},
     "output_type": "execute_result"
    }
   ],
   "source": [
    "memorized_sin.cache_info()"
   ]
  },
  {
   "cell_type": "code",
   "execution_count": 108,
   "metadata": {},
   "outputs": [
    {
     "data": {
      "text/plain": [
       "-0.7568024953079282"
      ]
     },
     "execution_count": 108,
     "metadata": {},
     "output_type": "execute_result"
    }
   ],
   "source": [
    "memorized_sin(4)"
   ]
  },
  {
   "cell_type": "code",
   "execution_count": 109,
   "metadata": {},
   "outputs": [
    {
     "data": {
      "text/plain": [
       "CacheInfo(hits=1, misses=3, maxsize=2, currsize=2)"
      ]
     },
     "execution_count": 109,
     "metadata": {},
     "output_type": "execute_result"
    }
   ],
   "source": [
    "memorized_sin.cache_info()"
   ]
  },
  {
   "cell_type": "code",
   "execution_count": 110,
   "metadata": {},
   "outputs": [
    {
     "data": {
      "text/plain": [
       "-0.7568024953079282"
      ]
     },
     "execution_count": 110,
     "metadata": {},
     "output_type": "execute_result"
    }
   ],
   "source": [
    "memorized_sin(4)"
   ]
  },
  {
   "cell_type": "code",
   "execution_count": 111,
   "metadata": {},
   "outputs": [
    {
     "data": {
      "text/plain": [
       "CacheInfo(hits=2, misses=3, maxsize=2, currsize=2)"
      ]
     },
     "execution_count": 111,
     "metadata": {},
     "output_type": "execute_result"
    }
   ],
   "source": [
    "memorized_sin.cache_info()"
   ]
  },
  {
   "cell_type": "code",
   "execution_count": 112,
   "metadata": {},
   "outputs": [],
   "source": [
    "memorized_sin.cache_clear()"
   ]
  },
  {
   "cell_type": "code",
   "execution_count": 114,
   "metadata": {},
   "outputs": [
    {
     "data": {
      "text/plain": [
       "CacheInfo(hits=0, misses=0, maxsize=2, currsize=0)"
      ]
     },
     "execution_count": 114,
     "metadata": {},
     "output_type": "execute_result"
    }
   ],
   "source": [
    "memorized_sin.cache_info()"
   ]
  },
  {
   "cell_type": "heading",
   "metadata": {},
   "level": 1,
   "source": [
    "### Achieving Zero Copy with the Buffer Protocal"
   ]
  },
  {
   "cell_type": "heading",
   "metadata": {},
   "level": 1,
   "source": [
    "We are making use of the fact that the memoryview object’s slice operator itself returns a memoryview object. That means it does not copy any data but merely references a particular slice of it, saving the memory that would be used by a copy. "
   ]
  },
  {
   "cell_type": "code",
   "execution_count": 115,
   "metadata": {},
   "outputs": [],
   "source": [
    "s = b\"abcdefgh\"\n",
    "view = memoryview(s)"
   ]
  },
  {
   "cell_type": "code",
   "execution_count": 116,
   "metadata": {},
   "outputs": [
    {
     "data": {
      "text/plain": [
       "98"
      ]
     },
     "execution_count": 116,
     "metadata": {},
     "output_type": "execute_result"
    }
   ],
   "source": [
    "view[1]"
   ]
  },
  {
   "cell_type": "code",
   "execution_count": 117,
   "metadata": {},
   "outputs": [
    {
     "data": {
      "text/plain": [
       "<memory at 0x10a3a1108>"
      ]
     },
     "execution_count": 117,
     "metadata": {},
     "output_type": "execute_result"
    }
   ],
   "source": [
    "limited = view[1:3]\n",
    "limited"
   ]
  },
  {
   "cell_type": "code",
   "execution_count": 118,
   "metadata": {},
   "outputs": [
    {
     "data": {
      "text/plain": [
       "b'bc'"
      ]
     },
     "execution_count": 118,
     "metadata": {},
     "output_type": "execute_result"
    }
   ],
   "source": [
    "bytes(view[1:3])"
   ]
  },
  {
   "cell_type": "heading",
   "metadata": {},
   "level": 5,
   "source": [
    "python3 -m memory_profiler chap10-19.py "
   ]
  },
  {
   "cell_type": "heading",
   "metadata": {},
   "level": 5,
   "source": [
    "python3 -m memory_profiler chap10-22-rewriteFrom19.py "
   ]
  },
  {
   "cell_type": "code",
   "execution_count": 119,
   "metadata": {},
   "outputs": [
    {
     "ename": "TypeError",
     "evalue": "an integer is required (got type ellipsis)",
     "traceback": [
      "\u001b[0;31m---------------------------------------------------------------------------\u001b[0m",
      "\u001b[0;31mTypeError\u001b[0m                                 Traceback (most recent call last)",
      "\u001b[0;32m<ipython-input-119-3064b6d7f8f8>\u001b[0m in \u001b[0;36m<module>\u001b[0;34m\u001b[0m\n\u001b[1;32m      1\u001b[0m \u001b[0;32mimport\u001b[0m \u001b[0msocket\u001b[0m\u001b[0;34m\u001b[0m\u001b[0;34m\u001b[0m\u001b[0m\n\u001b[0;32m----> 2\u001b[0;31m \u001b[0ms\u001b[0m \u001b[0;34m=\u001b[0m \u001b[0msocket\u001b[0m\u001b[0;34m.\u001b[0m\u001b[0msocket\u001b[0m\u001b[0;34m(\u001b[0m\u001b[0;34m...\u001b[0m\u001b[0;34m)\u001b[0m\u001b[0;34m\u001b[0m\u001b[0;34m\u001b[0m\u001b[0m\n\u001b[0m\u001b[1;32m      3\u001b[0m \u001b[0ms\u001b[0m\u001b[0;34m.\u001b[0m\u001b[0mconnect\u001b[0m\u001b[0;34m(\u001b[0m\u001b[0;34m...\u001b[0m\u001b[0;34m)\u001b[0m\u001b[0;34m\u001b[0m\u001b[0;34m\u001b[0m\u001b[0m\n\u001b[1;32m      4\u001b[0m \u001b[0mdata\u001b[0m \u001b[0;34m=\u001b[0m \u001b[0;34mb\"a\"\u001b[0m \u001b[0;34m*\u001b[0m \u001b[0;34m(\u001b[0m\u001b[0;36m1024\u001b[0m \u001b[0;34m*\u001b[0m \u001b[0;36m100000\u001b[0m\u001b[0;34m)\u001b[0m\u001b[0;34m\u001b[0m\u001b[0;34m\u001b[0m\u001b[0m\n\u001b[1;32m      5\u001b[0m \u001b[0;32mwhile\u001b[0m \u001b[0mdata\u001b[0m\u001b[0;34m:\u001b[0m\u001b[0;34m\u001b[0m\u001b[0;34m\u001b[0m\u001b[0m\n",
      "\u001b[0;32m/usr/local/Cellar/python/3.7.2_2/Frameworks/Python.framework/Versions/3.7/lib/python3.7/socket.py\u001b[0m in \u001b[0;36m__init__\u001b[0;34m(self, family, type, proto, fileno)\u001b[0m\n\u001b[1;32m    149\u001b[0m             \u001b[0;32mif\u001b[0m \u001b[0mproto\u001b[0m \u001b[0;34m==\u001b[0m \u001b[0;34m-\u001b[0m\u001b[0;36m1\u001b[0m\u001b[0;34m:\u001b[0m\u001b[0;34m\u001b[0m\u001b[0;34m\u001b[0m\u001b[0m\n\u001b[1;32m    150\u001b[0m                 \u001b[0mproto\u001b[0m \u001b[0;34m=\u001b[0m \u001b[0;36m0\u001b[0m\u001b[0;34m\u001b[0m\u001b[0;34m\u001b[0m\u001b[0m\n\u001b[0;32m--> 151\u001b[0;31m         \u001b[0m_socket\u001b[0m\u001b[0;34m.\u001b[0m\u001b[0msocket\u001b[0m\u001b[0;34m.\u001b[0m\u001b[0m__init__\u001b[0m\u001b[0;34m(\u001b[0m\u001b[0mself\u001b[0m\u001b[0;34m,\u001b[0m \u001b[0mfamily\u001b[0m\u001b[0;34m,\u001b[0m \u001b[0mtype\u001b[0m\u001b[0;34m,\u001b[0m \u001b[0mproto\u001b[0m\u001b[0;34m,\u001b[0m \u001b[0mfileno\u001b[0m\u001b[0;34m)\u001b[0m\u001b[0;34m\u001b[0m\u001b[0;34m\u001b[0m\u001b[0m\n\u001b[0m\u001b[1;32m    152\u001b[0m         \u001b[0mself\u001b[0m\u001b[0;34m.\u001b[0m\u001b[0m_io_refs\u001b[0m \u001b[0;34m=\u001b[0m \u001b[0;36m0\u001b[0m\u001b[0;34m\u001b[0m\u001b[0;34m\u001b[0m\u001b[0m\n\u001b[1;32m    153\u001b[0m         \u001b[0mself\u001b[0m\u001b[0;34m.\u001b[0m\u001b[0m_closed\u001b[0m \u001b[0;34m=\u001b[0m \u001b[0;32mFalse\u001b[0m\u001b[0;34m\u001b[0m\u001b[0;34m\u001b[0m\u001b[0m\n",
      "\u001b[0;31mTypeError\u001b[0m: an integer is required (got type ellipsis)"
     ],
     "output_type": "error"
    }
   ],
   "source": [
    "import socket\n",
    "s = socket.socket(...)\n",
    "s.connect(...)\n",
    "data = b\"a\" * (1024 * 100000)\n",
    "while data:\n",
    "    sent = s.send(data)\n",
    "    data = data[sent:]\n",
    "    "
   ]
  },
  {
   "cell_type": "code",
   "execution_count": null,
   "metadata": {},
   "outputs": [],
   "source": [
    "import socket\n",
    "s = socket.socket(...)\n",
    "s.connect(...)\n",
    "data = b\"a\" * (1024 * 100000)\n",
    "mv = memoryview(data)\n",
    "while mv:\n",
    "    sent = s.send(mv)\n",
    "    # This program won’t copy anything, so it won’t use any more memory than the 100MB \n",
    "    # initially needed for the data variable\n",
    "    mv = mv[sent:]\n",
    "    "
   ]
  },
  {
   "cell_type": "code",
   "execution_count": 124,
   "metadata": {},
   "outputs": [
    {
     "data": {
      "text/plain": [
       "bytearray(b'\\x00\\x00\\x00\\x00\\x00\\x00\\x00\\x00')"
      ]
     },
     "execution_count": 124,
     "metadata": {},
     "output_type": "execute_result"
    }
   ],
   "source": [
    "ba = bytearray(8)\n",
    "ba\n"
   ]
  },
  {
   "cell_type": "code",
   "execution_count": 125,
   "metadata": {},
   "outputs": [],
   "source": [
    "with open(\"/dev/urandom\", \"rb\") as source:\n",
    "    source.readinto(ba)"
   ]
  },
  {
   "cell_type": "code",
   "execution_count": 126,
   "metadata": {},
   "outputs": [
    {
     "data": {
      "text/plain": [
       "bytearray(b'\\x0f9\\x161\\xcf^%:')"
      ]
     },
     "execution_count": 126,
     "metadata": {},
     "output_type": "execute_result"
    }
   ],
   "source": [
    "ba"
   ]
  },
  {
   "cell_type": "code",
   "execution_count": 127,
   "metadata": {},
   "outputs": [
    {
     "data": {
      "text/plain": [
       "bytearray(b'\\x00\\x00\\x00\\x00\\x15\\x07\\x93M')"
      ]
     },
     "execution_count": 127,
     "metadata": {},
     "output_type": "execute_result"
    }
   ],
   "source": [
    "ba = bytearray(8)\n",
    "ba_at_4 = memoryview(ba)[4:]\n",
    "with open(\"/dev/urandom\", \"rb\") as source:\n",
    "    source.readinto(ba_at_4)\n",
    "\n",
    "ba"
   ]
  },
  {
   "cell_type": "code",
   "execution_count": null,
   "metadata": {},
   "outputs": [],
   "source": []
  }
 ],
 "metadata": {
  "kernelspec": {
   "display_name": "Python 2",
   "language": "python",
   "name": "python2"
  },
  "language_info": {
   "codemirror_mode": {
    "name": "ipython",
    "version": 2
   },
   "file_extension": ".py",
   "mimetype": "text/x-python",
   "name": "python",
   "nbconvert_exporter": "python",
   "pygments_lexer": "ipython2",
   "version": "2.7.6"
  }
 },
 "nbformat": 4,
 "nbformat_minor": 0
}
