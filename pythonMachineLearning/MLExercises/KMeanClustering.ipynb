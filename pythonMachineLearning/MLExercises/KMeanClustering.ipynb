{
 "cells": [
  {
   "cell_type": "markdown",
   "metadata": {},
   "source": [
    "# K-Means Clustering & PCA\n",
    "In this installment we'll cover two fascinating topics: K-means clustering and principal component analysis (PCA). K-means and PCA are both examples of **unsupervised learning** techniques. Unsupervised learning problems do not have any label or target for us to learn from to make predictions, so unsupervised algorithms instead attempt to learn some interesting structure in the data itself. We'll first implement K-means and see how it can be used it to compress an image. We'll also experiment with PCA to find a low-dimensional representation of images of faces."
   ]
  },
  {
   "cell_type": "markdown",
   "metadata": {},
   "source": [
    "### K-Means Clustering\n",
    "To start out we're going to implement and apply K-means to a simple 2-dimensional data set to gain some intuition about how it works. K-means is an iterative, unsupervised clustering algorithm that groups similar instances together into clusters. The algorithm starts by guessing the initial centroids for each cluster, and then repeatedly assigns instances to the nearest cluster and re-computes the centroid of that cluster. "
   ]
  },
  {
   "cell_type": "code",
   "execution_count": 2,
   "metadata": {},
   "outputs": [],
   "source": [
    "import numpy as np\n",
    "import pandas as pd\n",
    "import matplotlib.pyplot as plt\n",
    "import seaborn as sns\n",
    "from scipy.io import loadmat\n",
    "%matplotlib inline"
   ]
  },
  {
   "cell_type": "markdown",
   "metadata": {},
   "source": [
    "The first piece that we're going to implement is a function that finds the closest centroid for each instance in the data."
   ]
  },
  {
   "cell_type": "code",
   "execution_count": 3,
   "metadata": {},
   "outputs": [],
   "source": [
    "def find_closest_centroids(X, centroids):\n",
    "    m = X.shape[0]\n",
    "    k = centroids.shape[0]\n",
    "    idx = np.zeros(m)\n",
    "    \n",
    "    for i in range(m):\n",
    "        min_dist = 100000\n",
    "        for j in range(k):\n",
    "            dist = np.sum((X[i,:] - centroids[j,:]) ** 2)\n",
    "            if dist < min_dist:\n",
    "                min_dist = dist\n",
    "                idx[i] = j\n",
    "                \n",
    "    return idx"
   ]
  },
  {
   "cell_type": "markdown",
   "metadata": {},
   "source": [
    "Let's test the function to make sure it's working as expected. We'll use the test case provided in the exercise."
   ]
  },
  {
   "cell_type": "code",
   "execution_count": 5,
   "metadata": {},
   "outputs": [
    {
     "data": {
      "text/plain": [
       "array([0., 2., 1.])"
      ]
     },
     "execution_count": 5,
     "metadata": {},
     "output_type": "execute_result"
    }
   ],
   "source": [
    "data = loadmat('data/ex7data2.mat')  \n",
    "X = data['X']  \n",
    "initial_centroids = initial_centroids = np.array([[3, 3], [6, 2], [8, 5]])\n",
    "\n",
    "idx = find_closest_centroids(X, initial_centroids)  \n",
    "idx[0:3]"
   ]
  },
  {
   "cell_type": "markdown",
   "metadata": {},
   "source": [
    "The output matches the expected values in the text (remember our arrays are zero-indexed instead of one-indexed so the values are one lower than in the exercise). Next we need a function to compute the centroid of a cluster. The centroid is simply the mean of all of the examples currently assigned to the cluster."
   ]
  },
  {
   "cell_type": "code",
   "execution_count": 6,
   "metadata": {},
   "outputs": [],
   "source": [
    "def compute_centroids(X, idx, k):\n",
    "    m, n = X.shape\n",
    "    centroids = np.zeros((k, n))\n",
    "    \n",
    "    for i in range(k):\n",
    "        indices = np.where(idx == i)\n",
    "        centroids[i, :] = (np.sum(X[indices,:], axis=1) / len(indices[0])).ravel()\n",
    "        \n",
    "    return centroids"
   ]
  },
  {
   "cell_type": "code",
   "execution_count": 7,
   "metadata": {},
   "outputs": [
    {
     "data": {
      "text/plain": [
       "array([[2.42830111, 3.15792418],\n",
       "       [5.81350331, 2.63365645],\n",
       "       [7.11938687, 3.6166844 ]])"
      ]
     },
     "execution_count": 7,
     "metadata": {},
     "output_type": "execute_result"
    }
   ],
   "source": [
    "compute_centroids(X, idx, 3)"
   ]
  },
  {
   "cell_type": "markdown",
   "metadata": {},
   "source": [
    "This output also matches the expected values from the exercise. So far so good. The next part involves actually running the algorithm for some number of iterations and visualizing the result. This step was implmented for us in the exercise, but since it's not that complicated I'll build it here from scratch. In order to run the algorithm we just need to alternate between assigning examples to the nearest cluster and re-computing the cluster centroids."
   ]
  },
  {
   "cell_type": "code",
   "execution_count": 10,
   "metadata": {},
   "outputs": [],
   "source": [
    "def run_k_means(X, initial_centroids, max_iters):\n",
    "    m, n = X.shape\n",
    "    k = initial_centroids.shape[0]\n",
    "    idx = np.zeros(m)\n",
    "    centroids = initial_centroids\n",
    "    \n",
    "    for i in range(max_iters):\n",
    "        idx = find_closest_centroids(X, centroids)\n",
    "        centroids = compute_centroids(X, idx, k)\n",
    "        \n",
    "    return idx, centroids"
   ]
  },
  {
   "cell_type": "code",
   "execution_count": 11,
   "metadata": {},
   "outputs": [
    {
     "data": {
      "text/plain": [
       "(array([0., 2., 2., 0., 0., 0., 0., 0., 0., 0., 0., 0., 0., 0., 0., 0., 0.,\n",
       "        0., 0., 0., 0., 0., 0., 0., 0., 0., 0., 0., 0., 0., 0., 0., 0., 0.,\n",
       "        0., 0., 0., 0., 0., 0., 0., 0., 0., 0., 0., 0., 0., 0., 0., 0., 0.,\n",
       "        0., 0., 0., 0., 0., 0., 0., 0., 0., 0., 0., 0., 0., 0., 0., 0., 0.,\n",
       "        0., 0., 0., 0., 0., 0., 0., 0., 0., 0., 0., 0., 0., 0., 0., 0., 2.,\n",
       "        0., 0., 0., 0., 0., 0., 0., 0., 0., 0., 0., 0., 0., 0., 0., 1., 1.,\n",
       "        1., 1., 1., 1., 1., 1., 1., 1., 1., 1., 1., 1., 1., 1., 1., 1., 1.,\n",
       "        1., 1., 1., 1., 1., 1., 1., 1., 1., 1., 1., 1., 1., 1., 1., 1., 1.,\n",
       "        1., 1., 1., 1., 1., 1., 1., 1., 1., 1., 1., 1., 1., 1., 1., 1., 1.,\n",
       "        1., 1., 1., 1., 1., 1., 1., 1., 1., 1., 1., 1., 1., 1., 1., 1., 1.,\n",
       "        1., 1., 1., 1., 1., 1., 1., 1., 1., 1., 1., 1., 1., 1., 1., 1., 1.,\n",
       "        1., 1., 1., 1., 1., 1., 1., 1., 1., 1., 1., 1., 1., 2., 2., 2., 2.,\n",
       "        2., 2., 2., 2., 2., 2., 2., 2., 2., 2., 2., 2., 2., 2., 2., 2., 2.,\n",
       "        2., 2., 2., 2., 2., 2., 2., 2., 2., 2., 2., 2., 2., 2., 2., 2., 2.,\n",
       "        2., 1., 2., 2., 2., 2., 2., 2., 2., 2., 2., 2., 2., 2., 2., 2., 2.,\n",
       "        2., 2., 2., 2., 2., 2., 2., 2., 2., 2., 1., 2., 2., 2., 2., 2., 2.,\n",
       "        2., 2., 2., 2., 2., 2., 2., 2., 2., 2., 2., 2., 2., 2., 2., 2., 2.,\n",
       "        2., 2., 2., 2., 2., 2., 2., 2., 2., 2., 0.]),\n",
       " array([[1.95399466, 5.02557006],\n",
       "        [3.04367119, 1.01541041],\n",
       "        [6.03366736, 3.00052511]]))"
      ]
     },
     "execution_count": 11,
     "metadata": {},
     "output_type": "execute_result"
    }
   ],
   "source": [
    "idx, centroids = run_k_means(X, initial_centroids, 10)\n",
    "\n",
    "idx, centroids"
   ]
  },
  {
   "cell_type": "markdown",
   "metadata": {},
   "source": [
    "We can now plot the result using color coding to indicate cluster membership."
   ]
  },
  {
   "cell_type": "code",
   "execution_count": 12,
   "metadata": {},
   "outputs": [
    {
     "data": {
      "text/plain": [
       "<matplotlib.legend.Legend at 0x107747588>"
      ]
     },
     "execution_count": 12,
     "metadata": {},
     "output_type": "execute_result"
    },
    {
     "data": {
      "image/png": "[encoded data removed]",
      "text/plain": [
       "<matplotlib.figure.Figure at 0x1076a7828>"
      ]
     },
     "metadata": {},
     "output_type": "display_data"
    }
   ],
   "source": [
    "cluster1 = X[np.where(idx == 0)[0],:]  \n",
    "cluster2 = X[np.where(idx == 1)[0],:]  \n",
    "cluster3 = X[np.where(idx == 2)[0],:]\n",
    "\n",
    "fig, ax = plt.subplots(figsize=(12,8))  \n",
    "ax.scatter(cluster1[:,0], cluster1[:,1], s=30, color='r', label='Cluster 1')  \n",
    "ax.scatter(cluster2[:,0], cluster2[:,1], s=30, color='g', label='Cluster 2')  \n",
    "ax.scatter(cluster3[:,0], cluster3[:,1], s=30, color='b', label='Cluster 3')  \n",
    "ax.legend()  "
   ]
  },
  {
   "cell_type": "markdown",
   "metadata": {},
   "source": [
    "One step we skipped over is a process for initializing the centroids. This can affect the convergence of the algorithm. We're tasked with creating a function that selects random examples and uses them as the initial centroids."
   ]
  },
  {
   "cell_type": "code",
   "execution_count": 13,
   "metadata": {},
   "outputs": [],
   "source": [
    "def init_centroids(X, k):  \n",
    "    m, n = X.shape\n",
    "    centroids = np.zeros((k, n))\n",
    "    idx = np.random.randint(0, m, k)\n",
    "\n",
    "    for i in range(k):\n",
    "        centroids[i,:] = X[idx[i],:]\n",
    "\n",
    "    return centroids"
   ]
  },
  {
   "cell_type": "code",
   "execution_count": 14,
   "metadata": {},
   "outputs": [
    {
     "data": {
      "text/plain": [
       "array([[3.49798412, 1.10046402],\n",
       "       [6.44765183, 3.16560945],\n",
       "       [2.20960296, 4.91469264]])"
      ]
     },
     "execution_count": 14,
     "metadata": {},
     "output_type": "execute_result"
    }
   ],
   "source": [
    "init_centroids(X, 3)  "
   ]
  },
  {
   "cell_type": "markdown",
   "metadata": {},
   "source": [
    "Our next task is to apply K-means to image compression. The intuition here is that we can use clustering to find a small number of colors that are most representative of the image, and map the original 24-bit colors to a lower-dimensional color space using the cluster assignments. Here's the image we're going to compress."
   ]
  },
  {
   "cell_type": "markdown",
   "metadata": {},
   "source": [
    "The raw pixel data has been pre-loaded for us so let's pull it in."
   ]
  },
  {
   "cell_type": "code",
   "execution_count": 19,
   "metadata": {},
   "outputs": [
    {
     "data": {
      "text/plain": [
       "{'A': array([[[219, 180, 103],\n",
       "         [230, 185, 116],\n",
       "         [226, 186, 110],\n",
       "         ...,\n",
       "         [ 14,  15,  13],\n",
       "         [ 13,  15,  12],\n",
       "         [ 12,  14,  12]],\n",
       " \n",
       "        [[230, 193, 119],\n",
       "         [224, 192, 120],\n",
       "         [226, 192, 124],\n",
       "         ...,\n",
       "         [ 16,  16,  13],\n",
       "         [ 14,  15,  10],\n",
       "         [ 11,  14,   9]],\n",
       " \n",
       "        [[228, 191, 123],\n",
       "         [228, 191, 121],\n",
       "         [220, 185, 118],\n",
       "         ...,\n",
       "         [ 14,  16,  13],\n",
       "         [ 13,  13,  11],\n",
       "         [ 11,  15,  10]],\n",
       " \n",
       "        ...,\n",
       " \n",
       "        [[ 15,  18,  16],\n",
       "         [ 18,  21,  18],\n",
       "         [ 18,  19,  16],\n",
       "         ...,\n",
       "         [ 81,  45,  45],\n",
       "         [ 70,  43,  35],\n",
       "         [ 72,  51,  43]],\n",
       " \n",
       "        [[ 16,  17,  17],\n",
       "         [ 17,  18,  19],\n",
       "         [ 20,  19,  20],\n",
       "         ...,\n",
       "         [ 80,  38,  40],\n",
       "         [ 68,  39,  40],\n",
       "         [ 59,  43,  42]],\n",
       " \n",
       "        [[ 15,  19,  19],\n",
       "         [ 20,  20,  18],\n",
       "         [ 18,  19,  17],\n",
       "         ...,\n",
       "         [ 65,  43,  39],\n",
       "         [ 58,  37,  38],\n",
       "         [ 52,  39,  34]]], dtype=uint8),\n",
       " '__globals__': [],\n",
       " '__header__': b'MATLAB 5.0 MAT-file, Platform: GLNXA64, Created on: Tue Jun  5 04:06:24 2012',\n",
       " '__version__': '1.0'}"
      ]
     },
     "execution_count": 19,
     "metadata": {},
     "output_type": "execute_result"
    }
   ],
   "source": [
    "image_data = loadmat('data/bird_small.mat')\n",
    "image_data"
   ]
  },
  {
   "cell_type": "markdown",
   "metadata": {},
   "source": [
    "We can quickly look at the shape of the data to validate that it looks like what we'd expect for an image."
   ]
  },
  {
   "cell_type": "code",
   "execution_count": 20,
   "metadata": {},
   "outputs": [
    {
     "data": {
      "text/plain": [
       "(128, 128, 3)"
      ]
     },
     "execution_count": 20,
     "metadata": {},
     "output_type": "execute_result"
    }
   ],
   "source": [
    "A = image_data['A']\n",
    "A.shape"
   ]
  },
  {
   "cell_type": "markdown",
   "metadata": {},
   "source": [
    "Now we need to apply some pre-processing to the data and feed it into the K-means algorithm"
   ]
  },
  {
   "cell_type": "code",
   "execution_count": 21,
   "metadata": {},
   "outputs": [
    {
     "data": {
      "text/plain": [
       "<matplotlib.image.AxesImage at 0x1084a6eb8>"
      ]
     },
     "execution_count": 21,
     "metadata": {},
     "output_type": "execute_result"
    },
    {
     "data": {
      "image/png": "[encoded data removed]",
      "text/plain": [
       "<matplotlib.figure.Figure at 0x107f7ae10>"
      ]
     },
     "metadata": {},
     "output_type": "display_data"
    }
   ],
   "source": [
    "# normalize value ranges\n",
    "A = A / 255.\n",
    "\n",
    "# reshape the array\n",
    "X = np.reshape(A, (A.shape[0] * A.shape[1], A.shape[2]))\n",
    "\n",
    "# randomly initialize the centroids\n",
    "initial_centroids = init_centroids(X, 16)\n",
    "\n",
    "# run the algorithm\n",
    "idx, centroids = run_k_means(X, initial_centroids, 10)\n",
    "\n",
    "# get the closest centroids one last time\n",
    "idx = find_closest_centroids(X, centroids)\n",
    "\n",
    "# map each pixel to the centroid value\n",
    "X_recovered = centroids[idx.astype(int),:]\n",
    "\n",
    "# reshape to the original dimensions\n",
    "X_recovered = np.reshape(X_recovered, (A.shape[0], A.shape[1], A.shape[2]))\n",
    "\n",
    "plt.imshow(X_recovered)"
   ]
  },
  {
   "cell_type": "markdown",
   "metadata": {},
   "source": [
    "Cool! You can see that we created some artifacts in the compression but the main features of the image are still there despite mapping the original image to only 16 colors. That's it for K-means. We'll now move on to principal component analysis."
   ]
  },
  {
   "cell_type": "markdown",
   "metadata": {},
   "source": [
    "### Principla Component Analysis\n",
    "PCA is a linear transformation that finds the \"principal components\", or directions of greatest variance, in a data set. It can be used for dimension reduction among other things. In this exercise we're first tasked with implementing PCA and applying it to a simple 2-dimensional data set to see how it works. Let's start off by loading and visualizing the data set."
   ]
  },
  {
   "cell_type": "code",
   "execution_count": 22,
   "metadata": {},
   "outputs": [
    {
     "data": {
      "text/plain": [
       "<matplotlib.collections.PathCollection at 0x10849eb00>"
      ]
     },
     "execution_count": 22,
     "metadata": {},
     "output_type": "execute_result"
    },
    {
     "data": {
      "image/png": "[encoded data removed]",
      "text/plain": [
       "<matplotlib.figure.Figure at 0x10849ea90>"
      ]
     },
     "metadata": {},
     "output_type": "display_data"
    }
   ],
   "source": [
    "data = loadmat('data/ex7data1.mat')\n",
    "X = data['X']\n",
    "\n",
    "fig, ax = plt.subplots(figsize=(12, 8))\n",
    "ax.scatter(X[:, 0], X[:, 1])"
   ]
  },
  {
   "cell_type": "markdown",
   "metadata": {},
   "source": [
    "The algorithm for PCA is fairly simple. After ensuring that the data is normalized, the output is simply the singular value decomposition of the covariance matrix of the original data. Since numpy already has built-in functions to calculate the covariance and SVD of a matrix, we'll use those rather than build from scratch."
   ]
  },
  {
   "cell_type": "code",
   "execution_count": 23,
   "metadata": {},
   "outputs": [],
   "source": [
    "def pca(X):\n",
    "    # normalize the features\n",
    "    X = (X - X.mean()) / X.std()\n",
    "    \n",
    "    # compute the covariance matrix\n",
    "    X = np.matrix(X)\n",
    "    cov = (X.T * X) / X.shape[0]\n",
    "    \n",
    "    # perform SVD\n",
    "    U, S, V = np.linalg.svd(cov)\n",
    "    \n",
    "    return U, S, V"
   ]
  },
  {
   "cell_type": "code",
   "execution_count": 24,
   "metadata": {},
   "outputs": [
    {
     "data": {
      "text/plain": [
       "(matrix([[-0.79241747, -0.60997914],\n",
       "         [-0.60997914,  0.79241747]]),\n",
       " array([1.43584536, 0.56415464]),\n",
       " matrix([[-0.79241747, -0.60997914],\n",
       "         [-0.60997914,  0.79241747]]))"
      ]
     },
     "execution_count": 24,
     "metadata": {},
     "output_type": "execute_result"
    }
   ],
   "source": [
    "U, S, V = pca(X)\n",
    "U, S, V"
   ]
  },
  {
   "cell_type": "markdown",
   "metadata": {},
   "source": [
    "Now that we have the principal components (matrix U), we can use these to project the original data into a lower-dimensional space. For this task we'll implement a function that computes the projection and selects only the top K components, effectively reducing the number of dimensions."
   ]
  },
  {
   "cell_type": "code",
   "execution_count": 25,
   "metadata": {},
   "outputs": [],
   "source": [
    "def project_data(X, U, k):\n",
    "    U_reduced = U[:, :k]\n",
    "    return np.dot(X, U_reduced)"
   ]
  },
  {
   "cell_type": "code",
   "execution_count": 27,
   "metadata": {},
   "outputs": [
    {
     "data": {
      "text/plain": [
       "matrix([[-4.74689738],\n",
       "        [-7.15889408],\n",
       "        [-4.79563345],\n",
       "        [-4.45754509],\n",
       "        [-4.80263579],\n",
       "        [-7.04081342],\n",
       "        [-4.97025076],\n",
       "        [-8.75934561],\n",
       "        [-6.2232703 ],\n",
       "        [-7.04497331],\n",
       "        [-6.91702866],\n",
       "        [-6.79543508],\n",
       "        [-6.3438312 ],\n",
       "        [-6.99891495],\n",
       "        [-4.54558119],\n",
       "        [-8.31574426],\n",
       "        [-7.16920841],\n",
       "        [-5.08083842],\n",
       "        [-8.54077427],\n",
       "        [-6.94102769],\n",
       "        [-8.5978815 ],\n",
       "        [-5.76620067],\n",
       "        [-8.2020797 ],\n",
       "        [-6.23890078],\n",
       "        [-4.37943868],\n",
       "        [-5.56947441],\n",
       "        [-7.53865023],\n",
       "        [-7.70645413],\n",
       "        [-5.17158343],\n",
       "        [-6.19268884],\n",
       "        [-6.24385246],\n",
       "        [-8.02715303],\n",
       "        [-4.81235176],\n",
       "        [-7.07993347],\n",
       "        [-5.45953289],\n",
       "        [-7.60014707],\n",
       "        [-4.39612191],\n",
       "        [-7.82288033],\n",
       "        [-3.40498213],\n",
       "        [-6.54290343],\n",
       "        [-7.17879573],\n",
       "        [-5.22572421],\n",
       "        [-4.83081168],\n",
       "        [-7.23907851],\n",
       "        [-4.36164051],\n",
       "        [-6.44590096],\n",
       "        [-2.69118076],\n",
       "        [-4.61386195],\n",
       "        [-5.88236227],\n",
       "        [-7.76732508]])"
      ]
     },
     "execution_count": 27,
     "metadata": {},
     "output_type": "execute_result"
    }
   ],
   "source": [
    "Z = project_data(X, U, 1)\n",
    "Z"
   ]
  },
  {
   "cell_type": "markdown",
   "metadata": {},
   "source": [
    "We can also attempt to recover the original data by reversing the steps we took to project it."
   ]
  },
  {
   "cell_type": "code",
   "execution_count": 28,
   "metadata": {},
   "outputs": [],
   "source": [
    "def recover_data(Z, U, k):\n",
    "    U_reduced = U[:, :k]\n",
    "    return np.dot(Z, U_reduced.T)"
   ]
  },
  {
   "cell_type": "code",
   "execution_count": 32,
   "metadata": {},
   "outputs": [
    {
     "data": {
      "text/plain": [
       "matrix([[3.76152442, 2.89550838],\n",
       "        [5.67283275, 4.36677606],\n",
       "        [3.80014373, 2.92523637],\n",
       "        [3.53223661, 2.71900952],\n",
       "        [3.80569251, 2.92950765],\n",
       "        [5.57926356, 4.29474931],\n",
       "        [3.93851354, 3.03174929],\n",
       "        [6.94105849, 5.3430181 ],\n",
       "        [4.93142811, 3.79606507],\n",
       "        [5.58255993, 4.29728676],\n",
       "        [5.48117436, 4.21924319],\n",
       "        [5.38482148, 4.14507365],\n",
       "        [5.02696267, 3.8696047 ],\n",
       "        [5.54606249, 4.26919213],\n",
       "        [3.60199795, 2.77270971],\n",
       "        [6.58954104, 5.07243054],\n",
       "        [5.681006  , 4.37306758],\n",
       "        [4.02614513, 3.09920545],\n",
       "        [6.76785875, 5.20969415],\n",
       "        [5.50019161, 4.2338821 ],\n",
       "        [6.81311151, 5.24452836],\n",
       "        [4.56923815, 3.51726213],\n",
       "        [6.49947125, 5.00309752],\n",
       "        [4.94381398, 3.80559934],\n",
       "        [3.47034372, 2.67136624],\n",
       "        [4.41334883, 3.39726321],\n",
       "        [5.97375815, 4.59841938],\n",
       "        [6.10672889, 4.70077626],\n",
       "        [4.09805306, 3.15455801],\n",
       "        [4.90719483, 3.77741101],\n",
       "        [4.94773778, 3.80861976],\n",
       "        [6.36085631, 4.8963959 ],\n",
       "        [3.81339161, 2.93543419],\n",
       "        [5.61026298, 4.31861173],\n",
       "        [4.32622924, 3.33020118],\n",
       "        [6.02248932, 4.63593118],\n",
       "        [3.48356381, 2.68154267],\n",
       "        [6.19898705, 4.77179382],\n",
       "        [2.69816733, 2.07696807],\n",
       "        [5.18471099, 3.99103461],\n",
       "        [5.68860316, 4.37891565],\n",
       "        [4.14095516, 3.18758276],\n",
       "        [3.82801958, 2.94669436],\n",
       "        [5.73637229, 4.41568689],\n",
       "        [3.45624014, 2.66050973],\n",
       "        [5.10784454, 3.93186513],\n",
       "        [2.13253865, 1.64156413],\n",
       "        [3.65610482, 2.81435955],\n",
       "        [4.66128664, 3.58811828],\n",
       "        [6.1549641 , 4.73790627]])"
      ]
     },
     "execution_count": 32,
     "metadata": {},
     "output_type": "execute_result"
    }
   ],
   "source": [
    "X_recovered = recover_data(Z, U, 1)\n",
    "X_recovered"
   ]
  },
  {
   "cell_type": "markdown",
   "metadata": {},
   "source": [
    "If we then attempt to visualize the recovered data, the intuition behind how the algorithm works becomes really obvious."
   ]
  },
  {
   "cell_type": "code",
   "execution_count": 37,
   "metadata": {},
   "outputs": [
    {
     "ename": "ValueError",
     "evalue": "Masked arrays must be 1-D",
     "output_type": "error",
     "traceback": [
      "\u001b[0;31m---------------------------------------------------------------------------\u001b[0m",
      "\u001b[0;31mValueError\u001b[0m                                Traceback (most recent call last)",
      "\u001b[0;32m<ipython-input-37-0bef81cb8f61>\u001b[0m in \u001b[0;36m<module>\u001b[0;34m()\u001b[0m\n\u001b[1;32m      1\u001b[0m \u001b[0mfig\u001b[0m\u001b[0;34m,\u001b[0m \u001b[0max\u001b[0m \u001b[0;34m=\u001b[0m \u001b[0mplt\u001b[0m\u001b[0;34m.\u001b[0m\u001b[0msubplots\u001b[0m\u001b[0;34m(\u001b[0m\u001b[0mfigsize\u001b[0m\u001b[0;34m=\u001b[0m\u001b[0;34m(\u001b[0m\u001b[0;36m12\u001b[0m\u001b[0;34m,\u001b[0m\u001b[0;36m8\u001b[0m\u001b[0;34m)\u001b[0m\u001b[0;34m)\u001b[0m\u001b[0;34m\u001b[0m\u001b[0m\n\u001b[0;32m----> 2\u001b[0;31m \u001b[0max\u001b[0m\u001b[0;34m.\u001b[0m\u001b[0mscatter\u001b[0m\u001b[0;34m(\u001b[0m\u001b[0mX_recovered\u001b[0m\u001b[0;34m[\u001b[0m\u001b[0;34m:\u001b[0m\u001b[0;34m,\u001b[0m \u001b[0;36m0\u001b[0m\u001b[0;34m]\u001b[0m\u001b[0;34m,\u001b[0m \u001b[0mX_recovered\u001b[0m\u001b[0;34m[\u001b[0m\u001b[0;34m:\u001b[0m\u001b[0;34m,\u001b[0m \u001b[0;36m1\u001b[0m\u001b[0;34m]\u001b[0m\u001b[0;34m)\u001b[0m\u001b[0;34m\u001b[0m\u001b[0m\n\u001b[0m",
      "\u001b[0;32m/usr/local/lib/python3.6/site-packages/matplotlib/__init__.py\u001b[0m in \u001b[0;36minner\u001b[0;34m(ax, *args, **kwargs)\u001b[0m\n\u001b[1;32m   1715\u001b[0m                     warnings.warn(msg % (label_namer, func.__name__),\n\u001b[1;32m   1716\u001b[0m                                   RuntimeWarning, stacklevel=2)\n\u001b[0;32m-> 1717\u001b[0;31m             \u001b[0;32mreturn\u001b[0m \u001b[0mfunc\u001b[0m\u001b[0;34m(\u001b[0m\u001b[0max\u001b[0m\u001b[0;34m,\u001b[0m \u001b[0;34m*\u001b[0m\u001b[0margs\u001b[0m\u001b[0;34m,\u001b[0m \u001b[0;34m**\u001b[0m\u001b[0mkwargs\u001b[0m\u001b[0;34m)\u001b[0m\u001b[0;34m\u001b[0m\u001b[0m\n\u001b[0m\u001b[1;32m   1718\u001b[0m         \u001b[0mpre_doc\u001b[0m \u001b[0;34m=\u001b[0m \u001b[0minner\u001b[0m\u001b[0;34m.\u001b[0m\u001b[0m__doc__\u001b[0m\u001b[0;34m\u001b[0m\u001b[0m\n\u001b[1;32m   1719\u001b[0m         \u001b[0;32mif\u001b[0m \u001b[0mpre_doc\u001b[0m \u001b[0;32mis\u001b[0m \u001b[0;32mNone\u001b[0m\u001b[0;34m:\u001b[0m\u001b[0;34m\u001b[0m\u001b[0m\n",
      "\u001b[0;32m/usr/local/lib/python3.6/site-packages/matplotlib/axes/_axes.py\u001b[0m in \u001b[0;36mscatter\u001b[0;34m(self, x, y, s, c, marker, cmap, norm, vmin, vmax, alpha, linewidths, verts, edgecolors, **kwargs)\u001b[0m\n\u001b[1;32m   3997\u001b[0m         \u001b[0mx\u001b[0m\u001b[0;34m,\u001b[0m \u001b[0my\u001b[0m\u001b[0;34m,\u001b[0m \u001b[0ms\u001b[0m\u001b[0;34m,\u001b[0m \u001b[0mc\u001b[0m\u001b[0;34m,\u001b[0m \u001b[0mcolors\u001b[0m\u001b[0;34m,\u001b[0m \u001b[0medgecolors\u001b[0m\u001b[0;34m,\u001b[0m \u001b[0mlinewidths\u001b[0m \u001b[0;34m=\u001b[0m\u001b[0;31m\\\u001b[0m\u001b[0;34m\u001b[0m\u001b[0m\n\u001b[1;32m   3998\u001b[0m             cbook.delete_masked_points(\n\u001b[0;32m-> 3999\u001b[0;31m                 x, y, s, c, colors, edgecolors, linewidths)\n\u001b[0m\u001b[1;32m   4000\u001b[0m \u001b[0;34m\u001b[0m\u001b[0m\n\u001b[1;32m   4001\u001b[0m         \u001b[0mscales\u001b[0m \u001b[0;34m=\u001b[0m \u001b[0ms\u001b[0m   \u001b[0;31m# Renamed for readability below.\u001b[0m\u001b[0;34m\u001b[0m\u001b[0m\n",
      "\u001b[0;32m/usr/local/lib/python3.6/site-packages/matplotlib/cbook/__init__.py\u001b[0m in \u001b[0;36mdelete_masked_points\u001b[0;34m(*args)\u001b[0m\n\u001b[1;32m   1638\u001b[0m             \u001b[0;32mif\u001b[0m \u001b[0misinstance\u001b[0m\u001b[0;34m(\u001b[0m\u001b[0mx\u001b[0m\u001b[0;34m,\u001b[0m \u001b[0mnp\u001b[0m\u001b[0;34m.\u001b[0m\u001b[0mma\u001b[0m\u001b[0;34m.\u001b[0m\u001b[0mMaskedArray\u001b[0m\u001b[0;34m)\u001b[0m\u001b[0;34m:\u001b[0m\u001b[0;34m\u001b[0m\u001b[0m\n\u001b[1;32m   1639\u001b[0m                 \u001b[0;32mif\u001b[0m \u001b[0mx\u001b[0m\u001b[0;34m.\u001b[0m\u001b[0mndim\u001b[0m \u001b[0;34m>\u001b[0m \u001b[0;36m1\u001b[0m\u001b[0;34m:\u001b[0m\u001b[0;34m\u001b[0m\u001b[0m\n\u001b[0;32m-> 1640\u001b[0;31m                     \u001b[0;32mraise\u001b[0m \u001b[0mValueError\u001b[0m\u001b[0;34m(\u001b[0m\u001b[0;34m\"Masked arrays must be 1-D\"\u001b[0m\u001b[0;34m)\u001b[0m\u001b[0;34m\u001b[0m\u001b[0m\n\u001b[0m\u001b[1;32m   1641\u001b[0m             \u001b[0;32melse\u001b[0m\u001b[0;34m:\u001b[0m\u001b[0;34m\u001b[0m\u001b[0m\n\u001b[1;32m   1642\u001b[0m                 \u001b[0mx\u001b[0m \u001b[0;34m=\u001b[0m \u001b[0mnp\u001b[0m\u001b[0;34m.\u001b[0m\u001b[0masarray\u001b[0m\u001b[0;34m(\u001b[0m\u001b[0mx\u001b[0m\u001b[0;34m)\u001b[0m\u001b[0;34m\u001b[0m\u001b[0m\n",
      "\u001b[0;31mValueError\u001b[0m: Masked arrays must be 1-D"
     ]
    },
    {
     "data": {
      "image/png": "[encoded data removed]",
      "text/plain": [
       "<matplotlib.figure.Figure at 0x108057400>"
      ]
     },
     "metadata": {},
     "output_type": "display_data"
    }
   ],
   "source": [
    "fig, ax = plt.subplots(figsize=(12,8))\n",
    "ax.scatter(X_recovered[:, 0], X_recovered[:, 1])"
   ]
  },
  {
   "cell_type": "markdown",
   "metadata": {},
   "source": [
    "Notice how the points all seem to be compressed down to an invisible line. That invisible line is essentially the first principal component. The second principal component, which we cut off when we reduced the data to one dimension, can be thought of as the variation orthogonal to that line. Since we lost that information, our reconstruction can only place the points relative to the first principal component.\n",
    "\n",
    "Our last task in this exercise is to apply PCA to images of faces. By using the same dimension reduction techniques we can capture the \"essence\" of the images using much less data than the original images."
   ]
  },
  {
   "cell_type": "code",
   "execution_count": 38,
   "metadata": {},
   "outputs": [
    {
     "data": {
      "text/plain": [
       "(5000, 1024)"
      ]
     },
     "execution_count": 38,
     "metadata": {},
     "output_type": "execute_result"
    }
   ],
   "source": [
    "faces = loadmat('data/ex7faces.mat')  \n",
    "X = faces['X']  \n",
    "X.shape  "
   ]
  },
  {
   "cell_type": "markdown",
   "metadata": {},
   "source": [
    "The exercise code includes a function that will render the first 100 faces in the data set in a grid. Rather than try to re-produce that here, you can look in the exercise text for an example of what they look like. We can at least render one image fairly easily though."
   ]
  },
  {
   "cell_type": "code",
   "execution_count": 39,
   "metadata": {},
   "outputs": [
    {
     "data": {
      "text/plain": [
       "<matplotlib.image.AxesImage at 0x1089fa3c8>"
      ]
     },
     "execution_count": 39,
     "metadata": {},
     "output_type": "execute_result"
    },
    {
     "data": {
      "image/png": "[encoded data removed]",
      "text/plain": [
       "<matplotlib.figure.Figure at 0x109031080>"
      ]
     },
     "metadata": {},
     "output_type": "display_data"
    }
   ],
   "source": [
    "face = np.reshape(X[3,:], (32, 32))\n",
    "plt.imshow(face)"
   ]
  },
  {
   "cell_type": "markdown",
   "metadata": {},
   "source": [
    "Yikes, that looks awful! These are only 32 x 32 grayscale images though (it's also rendering sideways, but we can ignore that for now). Our next step is to run PCA on the faces data set and take the top 100 principal components."
   ]
  },
  {
   "cell_type": "code",
   "execution_count": 40,
   "metadata": {},
   "outputs": [],
   "source": [
    "U, S, V = pca(X)\n",
    "Z = project_data(X, U, 100)"
   ]
  },
  {
   "cell_type": "markdown",
   "metadata": {},
   "source": [
    "Now we can attempt to recover the original structure and render it again"
   ]
  },
  {
   "cell_type": "code",
   "execution_count": 41,
   "metadata": {},
   "outputs": [
    {
     "data": {
      "text/plain": [
       "<matplotlib.image.AxesImage at 0x10912f128>"
      ]
     },
     "execution_count": 41,
     "metadata": {},
     "output_type": "execute_result"
    },
    {
     "data": {
      "image/png": "[encoded data removed]",
      "text/plain": [
       "<matplotlib.figure.Figure at 0x108fc6780>"
      ]
     },
     "metadata": {},
     "output_type": "display_data"
    }
   ],
   "source": [
    "X_recovered = recover_data(Z, U, 100)  \n",
    "face = np.reshape(X_recovered[3,:], (32, 32))  \n",
    "plt.imshow(face)  "
   ]
  },
  {
   "cell_type": "markdown",
   "metadata": {},
   "source": [
    "Notice that we lost some detail, though not as much as you might expect for a 10x reduction in the number of dimensions."
   ]
  }
 ],
 "metadata": {
  "kernelspec": {
   "display_name": "Python 3",
   "language": "python",
   "name": "python3"
  },
  "language_info": {
   "codemirror_mode": {
    "name": "ipython",
    "version": 3
   },
   "file_extension": ".py",
   "mimetype": "text/x-python",
   "name": "python",
   "nbconvert_exporter": "python",
   "pygments_lexer": "ipython3",
   "version": "3.6.2"
  }
 },
 "nbformat": 4,
 "nbformat_minor": 2
}
