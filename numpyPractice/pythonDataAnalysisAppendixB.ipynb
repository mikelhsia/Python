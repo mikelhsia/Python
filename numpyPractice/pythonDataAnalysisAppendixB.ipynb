{
 "cells": [
  {
   "cell_type": "markdown",
   "metadata": {},
   "source": [
    "# More on iPython System"
   ]
  },
  {
   "cell_type": "markdown",
   "metadata": {},
   "source": [
    "#### %run command: to run code snippet"
   ]
  },
  {
   "cell_type": "code",
   "execution_count": 5,
   "metadata": {},
   "outputs": [
    {
     "name": "stdout",
     "output_type": "stream",
     "text": [
      "######################################\n",
      "Print out BMIs of all baseball players whose BMI is below 21:\n",
      "[20.54255679 20.54255679 20.69282047 20.69282047 20.34343189 20.44955826\n",
      " 20.75174162]\n",
      "[74 74 72 75 75 73]\n",
      "205\n"
     ]
    }
   ],
   "source": [
    "%run numpyPractice.py"
   ]
  },
  {
   "cell_type": "markdown",
   "metadata": {},
   "source": [
    "#### Input and Output Variables"
   ]
  },
  {
   "cell_type": "code",
   "execution_count": 6,
   "metadata": {},
   "outputs": [
    {
     "data": {
      "text/plain": [
       "134217728"
      ]
     },
     "execution_count": 6,
     "metadata": {},
     "output_type": "execute_result"
    }
   ],
   "source": [
    "2 ** 27"
   ]
  },
  {
   "cell_type": "code",
   "execution_count": 7,
   "metadata": {},
   "outputs": [
    {
     "data": {
      "text/plain": [
       "134217728"
      ]
     },
     "execution_count": 7,
     "metadata": {},
     "output_type": "execute_result"
    }
   ],
   "source": [
    "_"
   ]
  },
  {
   "cell_type": "markdown",
   "metadata": {},
   "source": [
    "So after input line 7, say, there will be two new variables _7 (for the output) and _i7 for the input:"
   ]
  },
  {
   "cell_type": "code",
   "execution_count": 8,
   "metadata": {},
   "outputs": [],
   "source": [
    "foo = 'bar'"
   ]
  },
  {
   "cell_type": "code",
   "execution_count": 9,
   "metadata": {},
   "outputs": [
    {
     "data": {
      "text/plain": [
       "'bar'"
      ]
     },
     "execution_count": 9,
     "metadata": {},
     "output_type": "execute_result"
    }
   ],
   "source": [
    "foo"
   ]
  },
  {
   "cell_type": "code",
   "execution_count": 10,
   "metadata": {},
   "outputs": [
    {
     "data": {
      "text/plain": [
       "'_'"
      ]
     },
     "execution_count": 10,
     "metadata": {},
     "output_type": "execute_result"
    }
   ],
   "source": [
    "_i7"
   ]
  },
  {
   "cell_type": "code",
   "execution_count": 11,
   "metadata": {},
   "outputs": [
    {
     "data": {
      "text/plain": [
       "134217728"
      ]
     },
     "execution_count": 11,
     "metadata": {},
     "output_type": "execute_result"
    }
   ],
   "source": [
    "_7"
   ]
  },
  {
   "cell_type": "code",
   "execution_count": 12,
   "metadata": {},
   "outputs": [],
   "source": [
    "exec(_i7)"
   ]
  },
  {
   "cell_type": "code",
   "execution_count": 13,
   "metadata": {},
   "outputs": [
    {
     "name": "stdout",
     "output_type": "stream",
     "text": [
      "%run numpyPractice.py\n",
      "2 ** 27\n",
      "_\n",
      "foo = 'bar'\n",
      "%run numpyPractice.py\n",
      "2 ** 27\n",
      "_\n",
      "foo = 'bar'\n",
      "foo\n",
      "_i7\n",
      "_7\n",
      "exec(_i7)\n",
      "%hist\n"
     ]
    }
   ],
   "source": [
    "%hist"
   ]
  },
  {
   "cell_type": "code",
   "execution_count": 14,
   "metadata": {},
   "outputs": [
    {
     "name": "stdout",
     "output_type": "stream",
     "text": [
      "Once deleted, variables cannot be recovered. Proceed (y/[n])? n\n",
      "Nothing done.\n"
     ]
    }
   ],
   "source": [
    "%reset"
   ]
  },
  {
   "cell_type": "markdown",
   "metadata": {},
   "source": [
    "#### Shell Commands and Aliases"
   ]
  },
  {
   "cell_type": "code",
   "execution_count": 15,
   "metadata": {},
   "outputs": [
    {
     "data": {
      "text/plain": [
       "(['\\tinet6 fe80::14c8:43d2:f89b:6360%en0 prefixlen 64 secured scopeid 0x6 ',\n",
       "  '\\tinet 192.168.0.231 netmask 0xffffff00 broadcast 192.168.0.255'],\n",
       " 'inet6 fe80::14c8:43d2:f89b:6360%en0 prefixlen 64 secured scopeid 0x6')"
      ]
     },
     "execution_count": 15,
     "metadata": {},
     "output_type": "execute_result"
    }
   ],
   "source": [
    "ip_info = !ifconfig en0|grep \"inet\"\n",
    "ip_info, ip_info[0].strip()"
   ]
  },
  {
   "cell_type": "code",
   "execution_count": 16,
   "metadata": {},
   "outputs": [
    {
     "name": "stdout",
     "output_type": "stream",
     "text": [
      "\u001b[34mbabynames\u001b[m\u001b[m    \u001b[34mbitly_usagov\u001b[m\u001b[m \u001b[34mmovielens\u001b[m\u001b[m    \u001b[34mtitanic\u001b[m\u001b[m      \u001b[34musda_food\u001b[m\u001b[m\r\n"
     ]
    }
   ],
   "source": [
    "foo = 'data*'\n",
    "\n",
    "!ls $foo"
   ]
  },
  {
   "cell_type": "code",
   "execution_count": 17,
   "metadata": {},
   "outputs": [],
   "source": [
    "%alias ll ls -l"
   ]
  },
  {
   "cell_type": "code",
   "execution_count": 18,
   "metadata": {},
   "outputs": [
    {
     "name": "stdout",
     "output_type": "stream",
     "text": [
      "total 8992\r\n",
      "-rw-r--r--   1 tsuyuhsia  staff        0 Nov  1 10:50 __init__.py\r\n",
      "drwxr-xr-x   7 tsuyuhsia  staff      224 Jan 15 09:16 \u001b[34mdatasets\u001b[m\u001b[m\r\n",
      "drwxr-xr-x  31 tsuyuhsia  staff      992 Feb 13 15:19 \u001b[34mexamples\u001b[m\u001b[m\r\n",
      "-rw-r--r--   1 tsuyuhsia  staff   187144 Dec 19 09:20 mydata.h5\r\n",
      "-rw-r--r--   1 tsuyuhsia  staff     8192 Dec 19 09:20 mydata.sqlite\r\n",
      "-rw-r--r--   1 tsuyuhsia  staff    84277 Dec 19 09:20 mydata2.h5\r\n",
      "-rw-r--r--   1 tsuyuhsia  staff     4648 Nov  6 09:28 numpyPractice.py\r\n",
      "-rw-r--r--   1 tsuyuhsia  staff    71214 Feb 13 11:14 pythonDataAnalysisAppendixA.ipynb\r\n",
      "-rw-r--r--   1 tsuyuhsia  staff    19763 Feb 13 15:23 pythonDataAnalysisAppendixB.ipynb\r\n",
      "-rw-r--r--   1 tsuyuhsia  staff   210664 Dec 27 09:31 pythonDataAnalysisChap10.ipynb\r\n",
      "-rw-r--r--   1 tsuyuhsia  staff   290781 Jan  4 09:18 pythonDataAnalysisChap11.ipynb\r\n",
      "-rw-r--r--   1 tsuyuhsia  staff    58024 Jan  8 11:45 pythonDataAnalysisChap12.ipynb\r\n",
      "-rw-r--r--   1 tsuyuhsia  staff    74524 Jan 10 09:31 pythonDataAnalysisChap13.ipynb\r\n",
      "-rw-r--r--   1 tsuyuhsia  staff   546522 Jan 15 09:16 pythonDataAnalysisChap14.ipynb\r\n",
      "-rw-r--r--   1 tsuyuhsia  staff    40149 Feb  2 10:10 pythonDataAnalysisChap2.ipynb\r\n",
      "-rw-r--r--   1 tsuyuhsia  staff    44269 Jan 22 09:52 pythonDataAnalysisChap3.ipynb\r\n",
      "-rw-r--r--   1 tsuyuhsia  staff   110676 Dec 21 14:56 pythonDataAnalysisChap4.ipynb\r\n",
      "-rw-r--r--   1 tsuyuhsia  staff   102818 Dec 18 09:22 pythonDataAnalysisChap5.ipynb\r\n",
      "-rw-r--r--   1 tsuyuhsia  staff    85224 Dec 19 09:20 pythonDataAnalysisChap6.ipynb\r\n",
      "-rw-r--r--   1 tsuyuhsia  staff   122820 Dec 20 17:18 pythonDataAnalysisChap7.ipynb\r\n",
      "-rw-r--r--   1 tsuyuhsia  staff   210962 Dec 22 17:06 pythonDataAnalysisChap8.ipynb\r\n",
      "-rw-r--r--   1 tsuyuhsia  staff  2422628 Dec 26 18:58 pythonDataAnalysisChap9.ipynb\r\n",
      "-rw-r--r--   1 tsuyuhsia  staff    18291 Dec 13 14:39 pythonPDnNPAxis.ipynb\r\n"
     ]
    }
   ],
   "source": [
    "ll ."
   ]
  },
  {
   "cell_type": "code",
   "execution_count": 19,
   "metadata": {},
   "outputs": [],
   "source": [
    "%alias test_alias (cd data; ls; cd ..)"
   ]
  },
  {
   "cell_type": "code",
   "execution_count": 20,
   "metadata": {},
   "outputs": [
    {
     "name": "stdout",
     "output_type": "stream",
     "text": [
      "/bin/sh: line 0: cd: data: No such file or directory\r\n",
      "__init__.py                       pythonDataAnalysisChap13.ipynb\r\n",
      "\u001b[34mdatasets\u001b[m\u001b[m                          pythonDataAnalysisChap14.ipynb\r\n",
      "\u001b[34mexamples\u001b[m\u001b[m                          pythonDataAnalysisChap2.ipynb\r\n",
      "mydata.h5                         pythonDataAnalysisChap3.ipynb\r\n",
      "mydata.sqlite                     pythonDataAnalysisChap4.ipynb\r\n",
      "mydata2.h5                        pythonDataAnalysisChap5.ipynb\r\n",
      "numpyPractice.py                  pythonDataAnalysisChap6.ipynb\r\n",
      "pythonDataAnalysisAppendixA.ipynb pythonDataAnalysisChap7.ipynb\r\n",
      "pythonDataAnalysisAppendixB.ipynb pythonDataAnalysisChap8.ipynb\r\n",
      "pythonDataAnalysisChap10.ipynb    pythonDataAnalysisChap9.ipynb\r\n",
      "pythonDataAnalysisChap11.ipynb    pythonPDnNPAxis.ipynb\r\n",
      "pythonDataAnalysisChap12.ipynb\r\n"
     ]
    }
   ],
   "source": [
    "test_alias"
   ]
  },
  {
   "cell_type": "markdown",
   "metadata": {},
   "source": [
    "#### Directory Bookmark System\n",
    "IPython has a simple directory bookmarking system to enable you to save aliases for common directories so that you can jump around very easily. For example, suppose you wanted to create a bookmark that points to the supplementary materials for this book:"
   ]
  },
  {
   "cell_type": "code",
   "execution_count": 21,
   "metadata": {},
   "outputs": [],
   "source": [
    "%bookmark py4da /Users/tsuyuhsia/Desktop/Python/numpyPractice"
   ]
  },
  {
   "cell_type": "code",
   "execution_count": 22,
   "metadata": {},
   "outputs": [
    {
     "name": "stdout",
     "output_type": "stream",
     "text": [
      "(bookmark:py4da) -> /Users/tsuyuhsia/Desktop/Python/numpyPractice\n",
      "/Users/tsuyuhsia/Desktop/Python/numpyPractice\n"
     ]
    }
   ],
   "source": [
    "cd py4da"
   ]
  },
  {
   "cell_type": "code",
   "execution_count": 23,
   "metadata": {},
   "outputs": [
    {
     "name": "stdout",
     "output_type": "stream",
     "text": [
      "Current bookmarks:\n",
      "py4da -> /Users/tsuyuhsia/Desktop/Python/numpyPractice\n"
     ]
    }
   ],
   "source": [
    "%bookmark -l"
   ]
  },
  {
   "cell_type": "markdown",
   "metadata": {},
   "source": [
    "#### Interactive Debugger"
   ]
  },
  {
   "cell_type": "code",
   "execution_count": 24,
   "metadata": {},
   "outputs": [
    {
     "ename": "AssertionError",
     "evalue": "",
     "output_type": "error",
     "traceback": [
      "\u001b[0;31m---------------------------------------------------------------------------\u001b[0m",
      "\u001b[0;31mAssertionError\u001b[0m                            Traceback (most recent call last)",
      "\u001b[0;32m~/Desktop/Python/numpyPractice/examples/ipython_bug.py\u001b[0m in \u001b[0;36m<module>\u001b[0;34m()\u001b[0m\n\u001b[1;32m     13\u001b[0m     \u001b[0mthrows_an_exception\u001b[0m\u001b[0;34m(\u001b[0m\u001b[0;34m)\u001b[0m\u001b[0;34m\u001b[0m\u001b[0m\n\u001b[1;32m     14\u001b[0m \u001b[0;34m\u001b[0m\u001b[0m\n\u001b[0;32m---> 15\u001b[0;31m \u001b[0mcalling_things\u001b[0m\u001b[0;34m(\u001b[0m\u001b[0;34m)\u001b[0m\u001b[0;34m\u001b[0m\u001b[0m\n\u001b[0m",
      "\u001b[0;32m~/Desktop/Python/numpyPractice/examples/ipython_bug.py\u001b[0m in \u001b[0;36mcalling_things\u001b[0;34m()\u001b[0m\n\u001b[1;32m     11\u001b[0m \u001b[0;32mdef\u001b[0m \u001b[0mcalling_things\u001b[0m\u001b[0;34m(\u001b[0m\u001b[0;34m)\u001b[0m\u001b[0;34m:\u001b[0m\u001b[0;34m\u001b[0m\u001b[0m\n\u001b[1;32m     12\u001b[0m     \u001b[0mworks_fine\u001b[0m\u001b[0;34m(\u001b[0m\u001b[0;34m)\u001b[0m\u001b[0;34m\u001b[0m\u001b[0m\n\u001b[0;32m---> 13\u001b[0;31m     \u001b[0mthrows_an_exception\u001b[0m\u001b[0;34m(\u001b[0m\u001b[0;34m)\u001b[0m\u001b[0;34m\u001b[0m\u001b[0m\n\u001b[0m\u001b[1;32m     14\u001b[0m \u001b[0;34m\u001b[0m\u001b[0m\n\u001b[1;32m     15\u001b[0m \u001b[0mcalling_things\u001b[0m\u001b[0;34m(\u001b[0m\u001b[0;34m)\u001b[0m\u001b[0;34m\u001b[0m\u001b[0m\n",
      "\u001b[0;32m~/Desktop/Python/numpyPractice/examples/ipython_bug.py\u001b[0m in \u001b[0;36mthrows_an_exception\u001b[0;34m()\u001b[0m\n\u001b[1;32m      7\u001b[0m     \u001b[0ma\u001b[0m \u001b[0;34m=\u001b[0m \u001b[0;36m5\u001b[0m\u001b[0;34m\u001b[0m\u001b[0m\n\u001b[1;32m      8\u001b[0m     \u001b[0mb\u001b[0m \u001b[0;34m=\u001b[0m \u001b[0;36m6\u001b[0m\u001b[0;34m\u001b[0m\u001b[0m\n\u001b[0;32m----> 9\u001b[0;31m     \u001b[0;32massert\u001b[0m\u001b[0;34m(\u001b[0m\u001b[0ma\u001b[0m \u001b[0;34m+\u001b[0m \u001b[0mb\u001b[0m \u001b[0;34m==\u001b[0m \u001b[0;36m10\u001b[0m\u001b[0;34m)\u001b[0m\u001b[0;34m\u001b[0m\u001b[0m\n\u001b[0m\u001b[1;32m     10\u001b[0m \u001b[0;34m\u001b[0m\u001b[0m\n\u001b[1;32m     11\u001b[0m \u001b[0;32mdef\u001b[0m \u001b[0mcalling_things\u001b[0m\u001b[0;34m(\u001b[0m\u001b[0;34m)\u001b[0m\u001b[0;34m:\u001b[0m\u001b[0;34m\u001b[0m\u001b[0m\n",
      "\u001b[0;31mAssertionError\u001b[0m: "
     ]
    }
   ],
   "source": [
    "run examples/ipython_bug.py"
   ]
  },
  {
   "cell_type": "code",
   "execution_count": 25,
   "metadata": {},
   "outputs": [
    {
     "name": "stdout",
     "output_type": "stream",
     "text": [
      "> \u001b[0;32m/Users/tsuyuhsia/Desktop/Python/numpyPractice/examples/ipython_bug.py\u001b[0m(9)\u001b[0;36mthrows_an_exception\u001b[0;34m()\u001b[0m\n",
      "\u001b[0;32m      7 \u001b[0;31m    \u001b[0ma\u001b[0m \u001b[0;34m=\u001b[0m \u001b[0;36m5\u001b[0m\u001b[0;34m\u001b[0m\u001b[0m\n",
      "\u001b[0m\u001b[0;32m      8 \u001b[0;31m    \u001b[0mb\u001b[0m \u001b[0;34m=\u001b[0m \u001b[0;36m6\u001b[0m\u001b[0;34m\u001b[0m\u001b[0m\n",
      "\u001b[0m\u001b[0;32m----> 9 \u001b[0;31m    \u001b[0;32massert\u001b[0m\u001b[0;34m(\u001b[0m\u001b[0ma\u001b[0m \u001b[0;34m+\u001b[0m \u001b[0mb\u001b[0m \u001b[0;34m==\u001b[0m \u001b[0;36m10\u001b[0m\u001b[0;34m)\u001b[0m\u001b[0;34m\u001b[0m\u001b[0m\n",
      "\u001b[0m\u001b[0;32m     10 \u001b[0;31m\u001b[0;34m\u001b[0m\u001b[0m\n",
      "\u001b[0m\u001b[0;32m     11 \u001b[0;31m\u001b[0;32mdef\u001b[0m \u001b[0mcalling_things\u001b[0m\u001b[0;34m(\u001b[0m\u001b[0;34m)\u001b[0m\u001b[0;34m:\u001b[0m\u001b[0;34m\u001b[0m\u001b[0m\n",
      "\u001b[0m\n",
      "ipdb> u\n",
      "> \u001b[0;32m/Users/tsuyuhsia/Desktop/Python/numpyPractice/examples/ipython_bug.py\u001b[0m(13)\u001b[0;36mcalling_things\u001b[0;34m()\u001b[0m\n",
      "\u001b[0;32m     11 \u001b[0;31m\u001b[0;32mdef\u001b[0m \u001b[0mcalling_things\u001b[0m\u001b[0;34m(\u001b[0m\u001b[0;34m)\u001b[0m\u001b[0;34m:\u001b[0m\u001b[0;34m\u001b[0m\u001b[0m\n",
      "\u001b[0m\u001b[0;32m     12 \u001b[0;31m    \u001b[0mworks_fine\u001b[0m\u001b[0;34m(\u001b[0m\u001b[0;34m)\u001b[0m\u001b[0;34m\u001b[0m\u001b[0m\n",
      "\u001b[0m\u001b[0;32m---> 13 \u001b[0;31m    \u001b[0mthrows_an_exception\u001b[0m\u001b[0;34m(\u001b[0m\u001b[0;34m)\u001b[0m\u001b[0;34m\u001b[0m\u001b[0m\n",
      "\u001b[0m\u001b[0;32m     14 \u001b[0;31m\u001b[0;34m\u001b[0m\u001b[0m\n",
      "\u001b[0m\u001b[0;32m     15 \u001b[0;31m\u001b[0mcalling_things\u001b[0m\u001b[0;34m(\u001b[0m\u001b[0;34m)\u001b[0m\u001b[0;34m\u001b[0m\u001b[0m\n",
      "\u001b[0m\n",
      "ipdb> q\n"
     ]
    }
   ],
   "source": [
    "# By pressing u (up) and d (down), you can switch between the levels of the stack trace\n",
    "%debug"
   ]
  },
  {
   "cell_type": "markdown",
   "metadata": {},
   "source": [
    "Executing the %pdb command makes it so that IPython automatically invokes the debugger after any exception, a mode that many users will find especially useful.\n",
    "\n",
    "It’s also easy to use the debugger to help develop code, especially when you wish to set breakpoints or step through the execution of a function or script to examine the state at each stage. There are several ways to accomplish this. The first is by using **%run with the -d flag**, which invokes the debugger before executing any code in the passed script. You must immediately press **s (step)** to enter the script:\n",
    "\n",
    "\n",
    "After this point, it’s up to you how you want to work your way through the file. For example, in the preceding exception, we could set a breakpoint right before calling the works_fine method and run the script until we reach the breakpoint by pressing **c (continue)**:\n",
    "\n",
    "At this point, you can step into works_fine() or execute works_fine() by pressing **n (next)** to advance to the next line:"
   ]
  },
  {
   "cell_type": "code",
   "execution_count": 26,
   "metadata": {},
   "outputs": [
    {
     "name": "stdout",
     "output_type": "stream",
     "text": [
      "Breakpoint 1 at /Users/tsuyuhsia/Desktop/Python/numpyPractice/examples/ipython_bug.py:1\n",
      "NOTE: Enter 'c' at the ipdb>  prompt to continue execution.\n",
      "> \u001b[0;32m/Users/tsuyuhsia/Desktop/Python/numpyPractice/examples/ipython_bug.py\u001b[0m(1)\u001b[0;36m<module>\u001b[0;34m()\u001b[0m\n",
      "\u001b[1;31m1\u001b[0;32m---> 1 \u001b[0;31m\u001b[0;32mdef\u001b[0m \u001b[0mworks_fine\u001b[0m\u001b[0;34m(\u001b[0m\u001b[0;34m)\u001b[0m\u001b[0;34m:\u001b[0m\u001b[0;34m\u001b[0m\u001b[0m\n",
      "\u001b[0m\u001b[0;32m      2 \u001b[0;31m    \u001b[0ma\u001b[0m \u001b[0;34m=\u001b[0m \u001b[0;36m5\u001b[0m\u001b[0;34m\u001b[0m\u001b[0m\n",
      "\u001b[0m\u001b[0;32m      3 \u001b[0;31m    \u001b[0mb\u001b[0m \u001b[0;34m=\u001b[0m \u001b[0;36m6\u001b[0m\u001b[0;34m\u001b[0m\u001b[0m\n",
      "\u001b[0m\u001b[0;32m      4 \u001b[0;31m    \u001b[0;32massert\u001b[0m\u001b[0;34m(\u001b[0m\u001b[0ma\u001b[0m \u001b[0;34m+\u001b[0m \u001b[0mb\u001b[0m \u001b[0;34m==\u001b[0m \u001b[0;36m11\u001b[0m\u001b[0;34m)\u001b[0m\u001b[0;34m\u001b[0m\u001b[0m\n",
      "\u001b[0m\u001b[0;32m      5 \u001b[0;31m\u001b[0;34m\u001b[0m\u001b[0m\n",
      "\u001b[0m\n",
      "ipdb> b 12\n",
      "Breakpoint 2 at /Users/tsuyuhsia/Desktop/Python/numpyPractice/examples/ipython_bug.py:12\n",
      "ipdb> c\n",
      "> \u001b[0;32m/Users/tsuyuhsia/Desktop/Python/numpyPractice/examples/ipython_bug.py\u001b[0m(12)\u001b[0;36mcalling_things\u001b[0;34m()\u001b[0m\n",
      "\u001b[0;32m     10 \u001b[0;31m\u001b[0;34m\u001b[0m\u001b[0m\n",
      "\u001b[0m\u001b[0;32m     11 \u001b[0;31m\u001b[0;32mdef\u001b[0m \u001b[0mcalling_things\u001b[0m\u001b[0;34m(\u001b[0m\u001b[0;34m)\u001b[0m\u001b[0;34m:\u001b[0m\u001b[0;34m\u001b[0m\u001b[0m\n",
      "\u001b[0m\u001b[1;31m2\u001b[0;32m--> 12 \u001b[0;31m    \u001b[0mworks_fine\u001b[0m\u001b[0;34m(\u001b[0m\u001b[0;34m)\u001b[0m\u001b[0;34m\u001b[0m\u001b[0m\n",
      "\u001b[0m\u001b[0;32m     13 \u001b[0;31m    \u001b[0mthrows_an_exception\u001b[0m\u001b[0;34m(\u001b[0m\u001b[0;34m)\u001b[0m\u001b[0;34m\u001b[0m\u001b[0m\n",
      "\u001b[0m\u001b[0;32m     14 \u001b[0;31m\u001b[0;34m\u001b[0m\u001b[0m\n",
      "\u001b[0m\n",
      "ipdb> !a\n",
      "*** NameError: name 'a' is not defined\n",
      "ipdb> n\n",
      "> \u001b[0;32m/Users/tsuyuhsia/Desktop/Python/numpyPractice/examples/ipython_bug.py\u001b[0m(13)\u001b[0;36mcalling_things\u001b[0;34m()\u001b[0m\n",
      "\u001b[0;32m     11 \u001b[0;31m\u001b[0;32mdef\u001b[0m \u001b[0mcalling_things\u001b[0m\u001b[0;34m(\u001b[0m\u001b[0;34m)\u001b[0m\u001b[0;34m:\u001b[0m\u001b[0;34m\u001b[0m\u001b[0m\n",
      "\u001b[0m\u001b[1;31m2\u001b[0;32m    12 \u001b[0;31m    \u001b[0mworks_fine\u001b[0m\u001b[0;34m(\u001b[0m\u001b[0;34m)\u001b[0m\u001b[0;34m\u001b[0m\u001b[0m\n",
      "\u001b[0m\u001b[0;32m---> 13 \u001b[0;31m    \u001b[0mthrows_an_exception\u001b[0m\u001b[0;34m(\u001b[0m\u001b[0;34m)\u001b[0m\u001b[0;34m\u001b[0m\u001b[0m\n",
      "\u001b[0m\u001b[0;32m     14 \u001b[0;31m\u001b[0;34m\u001b[0m\u001b[0m\n",
      "\u001b[0m\u001b[0;32m     15 \u001b[0;31m\u001b[0mcalling_things\u001b[0m\u001b[0;34m(\u001b[0m\u001b[0;34m)\u001b[0m\u001b[0;34m\u001b[0m\u001b[0m\n",
      "\u001b[0m\n",
      "ipdb> q\n"
     ]
    }
   ],
   "source": [
    "run -d examples/ipython_bug.py"
   ]
  },
  {
   "cell_type": "markdown",
   "metadata": {},
   "source": [
    "<h4 style='text-align:center;'>Table B-2. (I)Python debugger commands</h4>\n",
    "\n",
    "Command  |  Action\n",
    ":-:|:- \n",
    "h(elp)|Display command list\n",
    "help command|Show documentation for command\n",
    "c(ontinue)|Resume program execution\n",
    "q(uit)|Exit debugger without executing any more code\n",
    "b(reak) number|Set breakpoint at number in current file\n",
    "bpath/to/file.py:number|Set breakpoint at linenumberin specifed file\n",
    "s(tep)|Step into function call\n",
    "n(ext)|Execute current line and advance to next line at current level \n",
    "u(p)/d(own)|Move up/down in function call stack\n",
    "a(rgs)|Show arguments for current function\n",
    "debug statement|Invoke statement statement in new (recursive) debugger\n",
    "l(ist) statement|Show current position and context at current level of stack\n",
    "w(here)|Print full stack trace with context at current position"
   ]
  },
  {
   "cell_type": "markdown",
   "metadata": {},
   "source": [
    "#### Other ways to make use of the debugger\n",
    "There are a couple of other useful ways to invoke the debugger. The first is by using a special set_trace function (named after pdb.set_trace), which is basically a “poor man’s breakpoint.” Here are two small recipes you might want to put somewhere for your general use (potentially adding them to your IPython profile as I do):"
   ]
  },
  {
   "cell_type": "code",
   "execution_count": 27,
   "metadata": {},
   "outputs": [],
   "source": [
    "from IPython.core.debugger import Pdb \n",
    "def set_trace():\n",
    "    Pdb(color_scheme='Linux').set_trace(sys._getframe().f_back)\n",
    "\n",
    "def debug(f, *args, **kwargs):\n",
    "    pdb = Pdb(color_scheme='Linux') \n",
    "    return pdb.runcall(f, *args, **kwargs)"
   ]
  },
  {
   "cell_type": "code",
   "execution_count": 28,
   "metadata": {},
   "outputs": [
    {
     "name": "stdout",
     "output_type": "stream",
     "text": [
      "Breakpoint 1 at /Users/tsuyuhsia/Desktop/Python/numpyPractice/examples/ipython_bug.py:2\n",
      "NOTE: Enter 'c' at the ipdb>  prompt to continue execution.\n",
      "> \u001b[0;32m/Users/tsuyuhsia/Desktop/Python/numpyPractice/examples/ipython_bug.py\u001b[0m(1)\u001b[0;36m<module>\u001b[0;34m()\u001b[0m\n",
      "\u001b[0;32m----> 1 \u001b[0;31m\u001b[0;32mdef\u001b[0m \u001b[0mworks_fine\u001b[0m\u001b[0;34m(\u001b[0m\u001b[0;34m)\u001b[0m\u001b[0;34m:\u001b[0m\u001b[0;34m\u001b[0m\u001b[0m\n",
      "\u001b[0m\u001b[1;31m1\u001b[0;32m     2 \u001b[0;31m    \u001b[0ma\u001b[0m \u001b[0;34m=\u001b[0m \u001b[0;36m5\u001b[0m\u001b[0;34m\u001b[0m\u001b[0m\n",
      "\u001b[0m\u001b[0;32m      3 \u001b[0;31m    \u001b[0mb\u001b[0m \u001b[0;34m=\u001b[0m \u001b[0;36m6\u001b[0m\u001b[0;34m\u001b[0m\u001b[0m\n",
      "\u001b[0m\u001b[0;32m      4 \u001b[0;31m    \u001b[0;32massert\u001b[0m\u001b[0;34m(\u001b[0m\u001b[0ma\u001b[0m \u001b[0;34m+\u001b[0m \u001b[0mb\u001b[0m \u001b[0;34m==\u001b[0m \u001b[0;36m11\u001b[0m\u001b[0;34m)\u001b[0m\u001b[0;34m\u001b[0m\u001b[0m\n",
      "\u001b[0m\u001b[0;32m      5 \u001b[0;31m\u001b[0;34m\u001b[0m\u001b[0m\n",
      "\u001b[0m\n",
      "ipdb> s\n",
      "> \u001b[0;32m/Users/tsuyuhsia/Desktop/Python/numpyPractice/examples/ipython_bug.py\u001b[0m(6)\u001b[0;36m<module>\u001b[0;34m()\u001b[0m\n",
      "\u001b[0;32m      4 \u001b[0;31m    \u001b[0;32massert\u001b[0m\u001b[0;34m(\u001b[0m\u001b[0ma\u001b[0m \u001b[0;34m+\u001b[0m \u001b[0mb\u001b[0m \u001b[0;34m==\u001b[0m \u001b[0;36m11\u001b[0m\u001b[0;34m)\u001b[0m\u001b[0;34m\u001b[0m\u001b[0m\n",
      "\u001b[0m\u001b[0;32m      5 \u001b[0;31m\u001b[0;34m\u001b[0m\u001b[0m\n",
      "\u001b[0m\u001b[0;32m----> 6 \u001b[0;31m\u001b[0;32mdef\u001b[0m \u001b[0mthrows_an_exception\u001b[0m\u001b[0;34m(\u001b[0m\u001b[0;34m)\u001b[0m\u001b[0;34m:\u001b[0m\u001b[0;34m\u001b[0m\u001b[0m\n",
      "\u001b[0m\u001b[0;32m      7 \u001b[0;31m    \u001b[0ma\u001b[0m \u001b[0;34m=\u001b[0m \u001b[0;36m5\u001b[0m\u001b[0;34m\u001b[0m\u001b[0m\n",
      "\u001b[0m\u001b[0;32m      8 \u001b[0;31m    \u001b[0mb\u001b[0m \u001b[0;34m=\u001b[0m \u001b[0;36m6\u001b[0m\u001b[0;34m\u001b[0m\u001b[0m\n",
      "\u001b[0m\n",
      "ipdb> s\n",
      "> \u001b[0;32m/Users/tsuyuhsia/Desktop/Python/numpyPractice/examples/ipython_bug.py\u001b[0m(11)\u001b[0;36m<module>\u001b[0;34m()\u001b[0m\n",
      "\u001b[0;32m      9 \u001b[0;31m    \u001b[0;32massert\u001b[0m\u001b[0;34m(\u001b[0m\u001b[0ma\u001b[0m \u001b[0;34m+\u001b[0m \u001b[0mb\u001b[0m \u001b[0;34m==\u001b[0m \u001b[0;36m10\u001b[0m\u001b[0;34m)\u001b[0m\u001b[0;34m\u001b[0m\u001b[0m\n",
      "\u001b[0m\u001b[0;32m     10 \u001b[0;31m\u001b[0;34m\u001b[0m\u001b[0m\n",
      "\u001b[0m\u001b[0;32m---> 11 \u001b[0;31m\u001b[0;32mdef\u001b[0m \u001b[0mcalling_things\u001b[0m\u001b[0;34m(\u001b[0m\u001b[0;34m)\u001b[0m\u001b[0;34m:\u001b[0m\u001b[0;34m\u001b[0m\u001b[0m\n",
      "\u001b[0m\u001b[0;32m     12 \u001b[0;31m    \u001b[0mworks_fine\u001b[0m\u001b[0;34m(\u001b[0m\u001b[0;34m)\u001b[0m\u001b[0;34m\u001b[0m\u001b[0m\n",
      "\u001b[0m\u001b[0;32m     13 \u001b[0;31m    \u001b[0mthrows_an_exception\u001b[0m\u001b[0;34m(\u001b[0m\u001b[0;34m)\u001b[0m\u001b[0;34m\u001b[0m\u001b[0m\n",
      "\u001b[0m\n",
      "ipdb> u\n",
      "> \u001b[0;32m/usr/local/lib/python3.6/site-packages/IPython/utils/py3compat.py\u001b[0m(186)\u001b[0;36mexecfile\u001b[0;34m()\u001b[0m\n",
      "\u001b[0;32m    184 \u001b[0;31m        \u001b[0;32mwith\u001b[0m \u001b[0mopen\u001b[0m\u001b[0;34m(\u001b[0m\u001b[0mfname\u001b[0m\u001b[0;34m,\u001b[0m \u001b[0;34m'rb'\u001b[0m\u001b[0;34m)\u001b[0m \u001b[0;32mas\u001b[0m \u001b[0mf\u001b[0m\u001b[0;34m:\u001b[0m\u001b[0;34m\u001b[0m\u001b[0m\n",
      "\u001b[0m\u001b[0;32m    185 \u001b[0;31m            \u001b[0mcompiler\u001b[0m \u001b[0;34m=\u001b[0m \u001b[0mcompiler\u001b[0m \u001b[0;32mor\u001b[0m \u001b[0mcompile\u001b[0m\u001b[0;34m\u001b[0m\u001b[0m\n",
      "\u001b[0m\u001b[0;32m--> 186 \u001b[0;31m            \u001b[0mexec\u001b[0m\u001b[0;34m(\u001b[0m\u001b[0mcompiler\u001b[0m\u001b[0;34m(\u001b[0m\u001b[0mf\u001b[0m\u001b[0;34m.\u001b[0m\u001b[0mread\u001b[0m\u001b[0;34m(\u001b[0m\u001b[0;34m)\u001b[0m\u001b[0;34m,\u001b[0m \u001b[0mfname\u001b[0m\u001b[0;34m,\u001b[0m \u001b[0;34m'exec'\u001b[0m\u001b[0;34m)\u001b[0m\u001b[0;34m,\u001b[0m \u001b[0mglob\u001b[0m\u001b[0;34m,\u001b[0m \u001b[0mloc\u001b[0m\u001b[0;34m)\u001b[0m\u001b[0;34m\u001b[0m\u001b[0m\n",
      "\u001b[0m\u001b[0;32m    187 \u001b[0;31m\u001b[0;34m\u001b[0m\u001b[0m\n",
      "\u001b[0m\u001b[0;32m    188 \u001b[0;31m    \u001b[0;31m# Refactor print statements in doctests.\u001b[0m\u001b[0;34m\u001b[0m\u001b[0;34m\u001b[0m\u001b[0m\n",
      "\u001b[0m\n",
      "ipdb> n\n",
      "> \u001b[0;32m/Users/tsuyuhsia/Desktop/Python/numpyPractice/examples/ipython_bug.py\u001b[0m(2)\u001b[0;36mworks_fine\u001b[0;34m()\u001b[0m\n",
      "\u001b[0;32m      1 \u001b[0;31m\u001b[0;32mdef\u001b[0m \u001b[0mworks_fine\u001b[0m\u001b[0;34m(\u001b[0m\u001b[0;34m)\u001b[0m\u001b[0;34m:\u001b[0m\u001b[0;34m\u001b[0m\u001b[0m\n",
      "\u001b[0m\u001b[1;31m1\u001b[0;32m---> 2 \u001b[0;31m    \u001b[0ma\u001b[0m \u001b[0;34m=\u001b[0m \u001b[0;36m5\u001b[0m\u001b[0;34m\u001b[0m\u001b[0m\n",
      "\u001b[0m\u001b[0;32m      3 \u001b[0;31m    \u001b[0mb\u001b[0m \u001b[0;34m=\u001b[0m \u001b[0;36m6\u001b[0m\u001b[0;34m\u001b[0m\u001b[0m\n",
      "\u001b[0m\u001b[0;32m      4 \u001b[0;31m    \u001b[0;32massert\u001b[0m\u001b[0;34m(\u001b[0m\u001b[0ma\u001b[0m \u001b[0;34m+\u001b[0m \u001b[0mb\u001b[0m \u001b[0;34m==\u001b[0m \u001b[0;36m11\u001b[0m\u001b[0;34m)\u001b[0m\u001b[0;34m\u001b[0m\u001b[0m\n",
      "\u001b[0m\u001b[0;32m      5 \u001b[0;31m\u001b[0;34m\u001b[0m\u001b[0m\n",
      "\u001b[0m\n",
      "ipdb> n\n",
      "> \u001b[0;32m/Users/tsuyuhsia/Desktop/Python/numpyPractice/examples/ipython_bug.py\u001b[0m(3)\u001b[0;36mworks_fine\u001b[0;34m()\u001b[0m\n",
      "\u001b[0;32m      1 \u001b[0;31m\u001b[0;32mdef\u001b[0m \u001b[0mworks_fine\u001b[0m\u001b[0;34m(\u001b[0m\u001b[0;34m)\u001b[0m\u001b[0;34m:\u001b[0m\u001b[0;34m\u001b[0m\u001b[0m\n",
      "\u001b[0m\u001b[1;31m1\u001b[0;32m     2 \u001b[0;31m    \u001b[0ma\u001b[0m \u001b[0;34m=\u001b[0m \u001b[0;36m5\u001b[0m\u001b[0;34m\u001b[0m\u001b[0m\n",
      "\u001b[0m\u001b[0;32m----> 3 \u001b[0;31m    \u001b[0mb\u001b[0m \u001b[0;34m=\u001b[0m \u001b[0;36m6\u001b[0m\u001b[0;34m\u001b[0m\u001b[0m\n",
      "\u001b[0m\u001b[0;32m      4 \u001b[0;31m    \u001b[0;32massert\u001b[0m\u001b[0;34m(\u001b[0m\u001b[0ma\u001b[0m \u001b[0;34m+\u001b[0m \u001b[0mb\u001b[0m \u001b[0;34m==\u001b[0m \u001b[0;36m11\u001b[0m\u001b[0;34m)\u001b[0m\u001b[0;34m\u001b[0m\u001b[0m\n",
      "\u001b[0m\u001b[0;32m      5 \u001b[0;31m\u001b[0;34m\u001b[0m\u001b[0m\n",
      "\u001b[0m\n",
      "ipdb> n\n",
      "> \u001b[0;32m/Users/tsuyuhsia/Desktop/Python/numpyPractice/examples/ipython_bug.py\u001b[0m(4)\u001b[0;36mworks_fine\u001b[0;34m()\u001b[0m\n",
      "\u001b[1;31m1\u001b[0;32m     2 \u001b[0;31m    \u001b[0ma\u001b[0m \u001b[0;34m=\u001b[0m \u001b[0;36m5\u001b[0m\u001b[0;34m\u001b[0m\u001b[0m\n",
      "\u001b[0m\u001b[0;32m      3 \u001b[0;31m    \u001b[0mb\u001b[0m \u001b[0;34m=\u001b[0m \u001b[0;36m6\u001b[0m\u001b[0;34m\u001b[0m\u001b[0m\n",
      "\u001b[0m\u001b[0;32m----> 4 \u001b[0;31m    \u001b[0;32massert\u001b[0m\u001b[0;34m(\u001b[0m\u001b[0ma\u001b[0m \u001b[0;34m+\u001b[0m \u001b[0mb\u001b[0m \u001b[0;34m==\u001b[0m \u001b[0;36m11\u001b[0m\u001b[0;34m)\u001b[0m\u001b[0;34m\u001b[0m\u001b[0m\n",
      "\u001b[0m\u001b[0;32m      5 \u001b[0;31m\u001b[0;34m\u001b[0m\u001b[0m\n",
      "\u001b[0m\u001b[0;32m      6 \u001b[0;31m\u001b[0;32mdef\u001b[0m \u001b[0mthrows_an_exception\u001b[0m\u001b[0;34m(\u001b[0m\u001b[0;34m)\u001b[0m\u001b[0;34m:\u001b[0m\u001b[0;34m\u001b[0m\u001b[0m\n",
      "\u001b[0m\n",
      "ipdb> !a\n",
      "5\n",
      "ipdb> !b\n",
      "6\n",
      "ipdb> q\n"
     ]
    }
   ],
   "source": [
    "# Adding -b with a line number starts the debugger with a breakpoint set already:\n",
    "%run -d -b2 examples/ipython_bug.py"
   ]
  },
  {
   "cell_type": "markdown",
   "metadata": {},
   "source": [
    "#### Timing Code: %time and %timeit"
   ]
  },
  {
   "cell_type": "raw",
   "metadata": {},
   "source": [
    "import time\n",
    "start = time.time()\n",
    "for i in range(iterations):\n",
    "    # some code to run here\n",
    "elapsed_per = (time.time() - start) / iterations"
   ]
  },
  {
   "cell_type": "code",
   "execution_count": 29,
   "metadata": {},
   "outputs": [],
   "source": [
    "strings = ['foo', 'foobar', 'baz', 'qux', 'python', 'Guido Van Rossum'] * 100000"
   ]
  },
  {
   "cell_type": "markdown",
   "metadata": {},
   "source": [
    "The Wall time (short for “wall-clock time”) is the main number of interest. So, it looks like the first method takes more than twice as long, but it’s not a very precise measurement. If you try %time-ing those statements multiple times yourself, you’ll find that the results are somewhat variable. To get a more precise measurement, use the %timeit magic function. Given an arbitrary statement, it has a heuristic to run a statement multiple times to produce a more accurate average runtime:"
   ]
  },
  {
   "cell_type": "code",
   "execution_count": 30,
   "metadata": {},
   "outputs": [
    {
     "name": "stdout",
     "output_type": "stream",
     "text": [
      "CPU times: user 155 ms, sys: 4.08 ms, total: 159 ms\n",
      "Wall time: 160 ms\n"
     ]
    }
   ],
   "source": [
    "%time method1 = [x for x in strings if x.startswith('foo')]"
   ]
  },
  {
   "cell_type": "code",
   "execution_count": 31,
   "metadata": {},
   "outputs": [
    {
     "name": "stdout",
     "output_type": "stream",
     "text": [
      "168 ms ± 12.4 ms per loop (mean ± std. dev. of 7 runs, 10 loops each)\n"
     ]
    }
   ],
   "source": [
    "%timeit [x for x in strings if x.startswith('foo')]"
   ]
  },
  {
   "cell_type": "code",
   "execution_count": 32,
   "metadata": {},
   "outputs": [
    {
     "name": "stdout",
     "output_type": "stream",
     "text": [
      "CPU times: user 129 ms, sys: 8.1 ms, total: 137 ms\n",
      "Wall time: 163 ms\n"
     ]
    }
   ],
   "source": [
    "%time method2 = [x for x in strings if x[:3] == 'foo']"
   ]
  },
  {
   "cell_type": "code",
   "execution_count": 33,
   "metadata": {},
   "outputs": [
    {
     "name": "stdout",
     "output_type": "stream",
     "text": [
      "109 ms ± 6.54 ms per loop (mean ± std. dev. of 7 runs, 10 loops each)\n"
     ]
    }
   ],
   "source": [
    "%timeit [x for x in strings if x[:3] == 'foo']"
   ]
  },
  {
   "cell_type": "markdown",
   "metadata": {},
   "source": [
    "#### Basic Pro ling: %prun and %run -p\n",
    "Profiling code is closely related to timing code, except it is concerned with determin‐ ing where time is spent. The main Python profiling tool is the cProfile module, which is not specific to IPython at all. cProfile executes a program or any arbitrary block of code while keeping track of how much time is spent in each function.\n",
    "\n",
    "A common way to use cProfile is on the command line, running an entire program and outputting the aggregated time per function. Suppose we had a simple script that does some linear algebra in a loop (computing the maximum absolute eigenvalues of a series of 100 × 100 matrices):"
   ]
  },
  {
   "cell_type": "code",
   "execution_count": 34,
   "metadata": {},
   "outputs": [
    {
     "name": "stdout",
     "output_type": "stream",
     "text": [
      "Traceback (most recent call last):\r\n",
      "  File \"/usr/local/Cellar/python3/3.6.4_2/Frameworks/Python.framework/Versions/3.6/lib/python3.6/runpy.py\", line 193, in _run_module_as_main\r\n",
      "    \"__main__\", mod_spec)\r\n",
      "  File \"/usr/local/Cellar/python3/3.6.4_2/Frameworks/Python.framework/Versions/3.6/lib/python3.6/runpy.py\", line 85, in _run_code\r\n",
      "    exec(code, run_globals)\r\n",
      "  File \"/usr/local/Cellar/python3/3.6.4_2/Frameworks/Python.framework/Versions/3.6/lib/python3.6/cProfile.py\", line 160, in <module>\r\n",
      "    main()\r\n",
      "  File \"/usr/local/Cellar/python3/3.6.4_2/Frameworks/Python.framework/Versions/3.6/lib/python3.6/cProfile.py\", line 146, in main\r\n",
      "    code = compile(fp.read(), progname, 'exec')\r\n",
      "  File \"examples/cprof_example.py\", line 12\r\n",
      "    print 'Largest one we saw: %s' % np.max(some_results)\r\n",
      "                                 ^\r\n",
      "SyntaxError: invalid syntax\r\n"
     ]
    }
   ],
   "source": [
    "!python -m cProfile examples/cprof_example.py"
   ]
  },
  {
   "cell_type": "markdown",
   "metadata": {},
   "source": [
    "If you try that, you’ll find that the output is sorted by function name. This makes it a bit hard to get an idea of where the most time is spent, so it’s very common to specify a sort order using the -s flag:"
   ]
  },
  {
   "cell_type": "code",
   "execution_count": 35,
   "metadata": {},
   "outputs": [
    {
     "name": "stdout",
     "output_type": "stream",
     "text": [
      "Largest one we saw: 10.6014372533\r\n",
      "         10595 function calls (10507 primitive calls) in 0.815 seconds\r\n",
      "\r\n",
      "   Ordered by: cumulative time\r\n",
      "\r\n",
      "   ncalls  tottime  percall  cumtime  percall filename:lineno(function)\r\n",
      "        3    0.234    0.078    0.853    0.284 __init__.py:1(<module>)\r\n",
      "        1    0.006    0.006    0.817    0.817 cprof_example.py:1(<module>)\r\n",
      "        1    0.051    0.051    0.785    0.785 __init__.py:106(<module>)\r\n",
      "        1    0.004    0.004    0.537    0.537 add_newdocs.py:10(<module>)\r\n",
      "        1    0.008    0.008    0.322    0.322 type_check.py:3(<module>)\r\n",
      "        1    0.039    0.039    0.097    0.097 __init__.py:15(<module>)\r\n",
      "        1    0.016    0.016    0.089    0.089 __init__.py:7(<module>)\r\n",
      "        1    0.031    0.031    0.071    0.071 numeric.py:1(<module>)\r\n",
      "        1    0.021    0.021    0.064    0.064 __init__.py:45(<module>)\r\n",
      "        1    0.018    0.018    0.045    0.045 index_tricks.py:1(<module>)\r\n",
      "        1    0.026    0.026    0.039    0.039 npyio.py:1(<module>)\r\n",
      "        1    0.037    0.037    0.037    0.037 __init__.py:88(<module>)\r\n",
      "        1    0.003    0.003    0.029    0.029 polynomial.py:4(<module>)\r\n",
      "        1    0.000    0.000    0.026    0.026 cprof_example.py:3(run_experiment)\r\n",
      "        1    0.008    0.008    0.026    0.026 __init__.py:44(<module>)\r\n",
      "        1    0.017    0.017    0.026    0.026 collections.py:1(<module>)\r\n",
      "        1    0.021    0.021    0.025    0.025 __init__.py:38(<module>)\r\n",
      "        1    0.023    0.023    0.024    0.024 linalg.py:819(eigvals)\r\n",
      "        2    0.020    0.010    0.021    0.011 function_base.py:1(<module>)\r\n",
      "        1    0.006    0.006    0.021    0.021 ctypeslib.py:51(<module>)\r\n",
      "        1    0.019    0.019    0.020    0.020 polynomial.py:55(<module>)\r\n",
      "        1    0.016    0.016    0.018    0.018 case.py:1(<module>)\r\n",
      "        1    0.018    0.018    0.018    0.018 linalg.py:10(<module>)\r\n",
      "        1    0.014    0.014    0.015    0.015 __init__.py:4(<module>)\r\n",
      "        1    0.011    0.011    0.013    0.013 result.py:1(<module>)\r\n",
      "        1    0.012    0.012    0.012    0.012 arrayprint.py:5(<module>)\r\n",
      "        1    0.008    0.008    0.012    0.012 _datasource.py:33(<module>)\r\n",
      "      275    0.008    0.000    0.010    0.000 function_base.py:2940(add_newdoc)\r\n",
      "        1    0.009    0.009    0.009    0.009 heapq.py:31(<module>)\r\n",
      "        1    0.008    0.008    0.009    0.009 hermite_e.py:59(<module>)\r\n",
      "        1    0.008    0.008    0.008    0.008 utils.py:4(<module>)\r\n",
      "        1    0.008    0.008    0.008    0.008 fftpack.py:32(<module>)\r\n",
      "        1    0.006    0.006    0.008    0.008 hermite.py:59(<module>)\r\n",
      "        1    0.006    0.006    0.008    0.008 legendre.py:83(<module>)\r\n",
      "        1    0.006    0.006    0.008    0.008 chebyshev.py:87(<module>)\r\n",
      "        6    0.000    0.000    0.007    0.001 string.py:148(substitute)\r\n",
      "        1    0.001    0.001    0.007    0.007 _internal.py:6(<module>)\r\n",
      "        6    0.006    0.001    0.007    0.001 {method 'sub' of '_sre.SRE_Pattern' objects}\r\n",
      "        1    0.001    0.001    0.007    0.007 main.py:1(<module>)\r\n",
      "        1    0.006    0.006    0.006    0.006 runner.py:1(<module>)\r\n",
      "       13    0.000    0.000    0.006    0.000 re.py:192(compile)\r\n",
      "       13    0.000    0.000    0.006    0.000 re.py:230(_compile)\r\n",
      "       11    0.000    0.000    0.006    0.001 sre_compile.py:567(compile)\r\n",
      "        1    0.005    0.005    0.005    0.005 __init__.py:3(<module>)\r\n",
      "        1    0.004    0.004    0.005    0.005 laguerre.py:59(<module>)\r\n",
      "        1    0.002    0.002    0.005    0.005 numerictypes.py:82(<module>)\r\n",
      "        1    0.004    0.004    0.005    0.005 loader.py:1(<module>)\r\n",
      "        1    0.004    0.004    0.004    0.004 shutil.py:5(<module>)\r\n",
      "        1    0.004    0.004    0.004    0.004 __init__.py:10(<module>)\r\n",
      "        1    0.001    0.001    0.003    0.003 core.py:21(<module>)\r\n",
      "       11    0.000    0.000    0.003    0.000 sre_parse.py:706(parse)\r\n",
      "       11    0.000    0.000    0.003    0.000 sre_compile.py:552(_code)\r\n",
      "    17/11    0.000    0.000    0.003    0.000 sre_parse.py:317(_parse_sub)\r\n",
      "    17/11    0.001    0.000    0.002    0.000 sre_parse.py:395(_parse)\r\n",
      "        2    0.002    0.001    0.002    0.001 collections.py:293(namedtuple)\r\n",
      "    38/11    0.001    0.000    0.002    0.000 sre_compile.py:64(_compile)\r\n",
      "        1    0.002    0.002    0.002    0.002 {method 'randn' of 'mtrand.RandomState' objects}\r\n",
      "        1    0.002    0.002    0.002    0.002 scimath.py:17(<module>)\r\n",
      "        1    0.000    0.000    0.002    0.002 difflib.py:27(<module>)\r\n",
      "        1    0.000    0.000    0.001    0.001 linalg.py:214(_assertFinite)\r\n",
      "        2    0.000    0.000    0.001    0.001 {method 'all' of 'numpy.ndarray' objects}\r\n",
      "        4    0.001    0.000    0.001    0.000 {method 'reduce' of 'numpy.ufunc' objects}\r\n",
      "        2    0.000    0.000    0.001    0.001 _methods.py:35(_all)\r\n",
      "        1    0.000    0.000    0.001    0.001 util.py:1(<module>)\r\n",
      "      666    0.001    0.000    0.001    0.000 string.py:162(convert)\r\n",
      "       40    0.000    0.000    0.001    0.000 core.py:109(get_object_signature)\r\n",
      "        1    0.000    0.000    0.001    0.001 utils.py:1(<module>)\r\n",
      "        1    0.001    0.001    0.001    0.001 numerictypes.py:458(_set_array_types)\r\n",
      "       23    0.000    0.000    0.001    0.000 core.py:5983(__init__)\r\n",
      "        3    0.000    0.000    0.001    0.000 warnings.py:49(filterwarnings)\r\n",
      "       23    0.000    0.000    0.001    0.000 core.py:5988(getdoc)\r\n",
      "       15    0.000    0.000    0.001    0.000 sre_compile.py:228(_compile_charset)\r\n",
      "        1    0.001    0.001    0.001    0.001 fromnumeric.py:3(<module>)\r\n",
      "        1    0.000    0.000    0.001    0.001 numeric.py:2716(_setdef)\r\n",
      "        3    0.001    0.000    0.001    0.000 {numpy.core.umath.seterrobj}\r\n",
      "      243    0.000    0.000    0.001    0.000 sre_parse.py:212(get)\r\n",
      "        1    0.000    0.000    0.001    0.001 defmatrix.py:1(<module>)\r\n",
      "       15    0.000    0.000    0.001    0.000 sre_compile.py:256(_optimize_charset)\r\n",
      "      285    0.001    0.000    0.001    0.000 sre_parse.py:193(__next)\r\n",
      "        1    0.000    0.000    0.001    0.001 numerictypes.py:304(_add_aliases)\r\n",
      "        1    0.000    0.000    0.001    0.001 extras.py:10(<module>)\r\n",
      "       31    0.000    0.000    0.001    0.000 _inspect.py:159(formatargspec)\r\n",
      "       40    0.000    0.000    0.000    0.000 _inspect.py:120(getargspec)\r\n",
      "       11    0.000    0.000    0.000    0.000 sre_compile.py:433(_compile_info)\r\n",
      "      410    0.000    0.000    0.000    0.000 {getattr}\r\n",
      "       19    0.000    0.000    0.000    0.000 nosetester.py:140(__init__)\r\n",
      "      932    0.000    0.000    0.000    0.000 {isinstance}\r\n",
      "        3    0.000    0.000    0.000    0.000 numeric.py:346(extend_all)\r\n",
      "       40    0.000    0.000    0.000    0.000 {numpy.core.multiarray.array}\r\n",
      "       21    0.000    0.000    0.000    0.000 {numpy.core.multiarray.empty}\r\n",
      "        1    0.000    0.000    0.000    0.000 _iotools.py:3(<module>)\r\n",
      "        1    0.000    0.000    0.000    0.000 arrayterator.py:9(<module>)\r\n",
      "    59/32    0.000    0.000    0.000    0.000 sre_parse.py:151(getwidth)\r\n",
      "        1    0.000    0.000    0.000    0.000 nosetester.py:6(<module>)\r\n",
      "        1    0.000    0.000    0.000    0.000 core.py:2563(MaskedArray)\r\n",
      "        9    0.000    0.000    0.000    0.000 extras.py:241(__init__)\r\n",
      "      145    0.000    0.000    0.000    0.000 sre_parse.py:141(__getitem__)\r\n",
      "        1    0.000    0.000    0.000    0.000 records.py:36(<module>)\r\n",
      "        9    0.000    0.000    0.000    0.000 extras.py:245(getdoc)\r\n",
      "     1296    0.000    0.000    0.000    0.000 {method 'append' of 'list' objects}\r\n",
      "        1    0.000    0.000    0.000    0.000 __init__.py:265(_reset_cache)\r\n",
      "       26    0.000    0.000    0.000    0.000 numerictypes.py:232(bitname)\r\n",
      "  958/936    0.000    0.000    0.000    0.000 {len}\r\n",
      "      272    0.000    0.000    0.000    0.000 {method 'strip' of 'str' objects}\r\n",
      "      906    0.000    0.000    0.000    0.000 {method 'group' of '_sre.SRE_Match' objects}\r\n",
      "      272    0.000    0.000    0.000    0.000 {numpy.lib._compiled_base.add_docstring}\r\n",
      "       31    0.000    0.000    0.000    0.000 _inspect.py:61(getargs)\r\n",
      "       27    0.000    0.000    0.000    0.000 core.py:822(__init__)\r\n",
      "        1    0.000    0.000    0.000    0.000 polyutils.py:33(<module>)\r\n",
      "        1    0.000    0.000    0.000    0.000 defchararray.py:17(<module>)\r\n",
      "        1    0.000    0.000    0.000    0.000 suite.py:1(<module>)\r\n",
      "      512    0.000    0.000    0.000    0.000 {chr}\r\n",
      "        3    0.000    0.000    0.000    0.000 __init__.py:78(CFUNCTYPE)\r\n",
      "        8    0.000    0.000    0.000    0.000 core.py:7190(__init__)\r\n",
      "        1    0.000    0.000    0.000    0.000 memmap.py:1(<module>)\r\n",
      "       19    0.000    0.000    0.000    0.000 posixpath.py:120(dirname)\r\n",
      "        1    0.000    0.000    0.000    0.000 _endian.py:4(<module>)\r\n",
      "        8    0.000    0.000    0.000    0.000 core.py:7195(getdoc)\r\n",
      "        3    0.000    0.000    0.000    0.000 __init__.py:493(PYFUNCTYPE)\r\n",
      "        1    0.000    0.000    0.000    0.000 getlimits.py:3(<module>)\r\n",
      "       14    0.000    0.000    0.000    0.000 __init__.py:147(_check_size)\r\n",
      "        1    0.000    0.000    0.000    0.000 _import_tools.py:1(<module>)\r\n",
      "        1    0.000    0.000    0.000    0.000 numerictypes.py:288(_add_types)\r\n",
      "       51    0.000    0.000    0.000    0.000 {method 'join' of 'str' objects}\r\n",
      "        2    0.000    0.000    0.000    0.000 {_ctypes.POINTER}\r\n",
      "       18    0.000    0.000    0.000    0.000 core.py:902(__init__)\r\n",
      "      112    0.000    0.000    0.000    0.000 sre_parse.py:206(match)\r\n",
      "        1    0.000    0.000    0.000    0.000 signals.py:1(<module>)\r\n",
      "        4    0.000    0.000    0.000    0.000 sre_compile.py:411(_mk_bitmap)\r\n",
      "        1    0.000    0.000    0.000    0.000 <string>:2(<module>)\r\n",
      "        5    0.000    0.000    0.000    0.000 {map}\r\n",
      "        1    0.000    0.000    0.000    0.000 format.py:136(<module>)\r\n",
      "      115    0.000    0.000    0.000    0.000 sre_parse.py:149(append)\r\n",
      "       21    0.000    0.000    0.000    0.000 sre_compile.py:428(_simple)\r\n",
      "        1    0.000    0.000    0.000    0.000 machar.py:7(<module>)\r\n",
      "       74    0.000    0.000    0.000    0.000 _inspect.py:152(strseq)\r\n",
      "        1    0.000    0.000    0.000    0.000 nanfunctions.py:20(<module>)\r\n",
      "        2    0.000    0.000    0.000    0.000 shape_base.py:1(<module>)\r\n",
      "        1    0.000    0.000    0.000    0.000 numerictypes.py:787(_construct_lookups)\r\n",
      "        1    0.000    0.000    0.000    0.000 core.py:5758(__new__)\r\n",
      "       30    0.000    0.000    0.000    0.000 numerictypes.py:450(_add_array_type)\r\n",
      "       79    0.000    0.000    0.000    0.000 {range}\r\n",
      "        1    0.000    0.000    0.000    0.000 {method 'view' of 'numpy.ndarray' objects}\r\n",
      "       66    0.000    0.000    0.000    0.000 sre_compile.py:101(fixup)\r\n",
      "        1    0.000    0.000    0.000    0.000 pprint.py:35(<module>)\r\n",
      "        1    0.000    0.000    0.000    0.000 stride_tricks.py:7(<module>)\r\n",
      "        1    0.000    0.000    0.000    0.000 result.py:26(TestResult)\r\n",
      "       21    0.000    0.000    0.000    0.000 numerictypes.py:219(_evalname)\r\n",
      "        1    0.000    0.000    0.000    0.000 numerictypes.py:345(_add_integer_aliases)\r\n",
      "       12    0.000    0.000    0.000    0.000 ctypeslib.py:303(prep_simple)\r\n",
      "       72    0.000    0.000    0.000    0.000 numerictypes.py:130(english_lower)\r\n",
      "      142    0.000    0.000    0.000    0.000 {_sre.getlower}\r\n",
      "       11    0.000    0.000    0.000    0.000 sre_parse.py:189(__init__)\r\n",
      "        1    0.000    0.000    0.000    0.000 linalg.py:76(_determine_error_states)\r\n",
      "       85    0.000    0.000    0.000    0.000 sre_parse.py:137(__len__)\r\n",
      "        8    0.000    0.000    0.000    0.000 {all}\r\n",
      "        2    0.000    0.000    0.000    0.000 utils.py:152(deprecate)\r\n",
      "        3    0.000    0.000    0.000    0.000 result.py:14(failfast)\r\n",
      "       14    0.000    0.000    0.000    0.000 {method 'format' of 'str' objects}\r\n",
      "       18    0.000    0.000    0.000    0.000 {_struct.calcsize}\r\n",
      "        1    0.000    0.000    0.000    0.000 __init__.py:349(__init__)\r\n",
      "       40    0.000    0.000    0.000    0.000 _inspect.py:15(ismethod)\r\n",
      "        1    0.000    0.000    0.000    0.000 defchararray.py:1668(chararray)\r\n",
      "        1    0.000    0.000    0.000    0.000 {method 'max' of 'numpy.ndarray' objects}\r\n",
      "        1    0.000    0.000    0.000    0.000 <string>:7(HermiteE)\r\n",
      "        6    0.000    0.000    0.000    0.000 core.py:1046(__init__)\r\n",
      "        1    0.000    0.000    0.000    0.000 info.py:34(<module>)\r\n",
      "        2    0.000    0.000    0.000    0.000 numeric.py:1617(set_string_function)\r\n",
      "        1    0.000    0.000    0.000    0.000 numerictypes.py:435(_construct_char_code_lookup)\r\n",
      "       40    0.000    0.000    0.000    0.000 _inspect.py:26(isfunction)\r\n",
      "      124    0.000    0.000    0.000    0.000 {method 'startswith' of 'str' objects}\r\n",
      "        1    0.000    0.000    0.000    0.000 fromnumeric.py:1842(all)\r\n",
      "       43    0.000    0.000    0.000    0.000 _inspect.py:163(<lambda>)\r\n",
      "       49    0.000    0.000    0.000    0.000 {method 'find' of 'bytearray' objects}\r\n",
      "        2    0.000    0.000    0.000    0.000 {numpy.core.multiarray.set_string_function}\r\n",
      "       46    0.000    0.000    0.000    0.000 collections.py:337(<genexpr>)\r\n",
      "       11    0.000    0.000    0.000    0.000 sre_parse.py:268(_escape)\r\n",
      "        1    0.000    0.000    0.000    0.000 npyio.py:90(BagObj)\r\n",
      "        1    0.000    0.000    0.000    0.000 linalg.py:198(_assertRankAtLeast2)\r\n",
      "       40    0.000    0.000    0.000    0.000 numerictypes.py:157(english_upper)\r\n",
      "        1    0.000    0.000    0.000    0.000 polytemplate.py:11(<module>)\r\n",
      "        1    0.000    0.000    0.000    0.000 StringIO.py:30(<module>)\r\n",
      "        1    0.000    0.000    0.000    0.000 twodim_base.py:3(<module>)\r\n",
      "        1    0.000    0.000    0.000    0.000 __future__.py:48(<module>)\r\n",
      "        1    0.000    0.000    0.000    0.000 case.py:133(TestCase)\r\n",
      "        3    0.000    0.000    0.000    0.000 functools.py:17(update_wrapper)\r\n",
      "        1    0.000    0.000    0.000    0.000 <string>:7(Hermite)\r\n",
      "        9    0.000    0.000    0.000    0.000 core.py:2419(__init__)\r\n",
      "      116    0.000    0.000    0.000    0.000 {method 'translate' of 'str' objects}\r\n",
      "       77    0.000    0.000    0.000    0.000 {min}\r\n",
      "       22    0.000    0.000    0.000    0.000 sre_compile.py:546(isstring)\r\n",
      "        1    0.000    0.000    0.000    0.000 <string>:7(Polynomial)\r\n",
      "        1    0.000    0.000    0.000    0.000 arraypad.py:5(<module>)\r\n",
      "        1    0.000    0.000    0.000    0.000 <string>:7(Legendre)\r\n",
      "       38    0.000    0.000    0.000    0.000 sre_parse.py:92(__init__)\r\n",
      "        4    0.000    0.000    0.000    0.000 sre_parse.py:227(isname)\r\n",
      "        1    0.000    0.000    0.000    0.000 arraysetops.py:26(<module>)\r\n",
      "        1    0.000    0.000    0.000    0.000 _inspect.py:7(<module>)\r\n",
      "        2    0.000    0.000    0.000    0.000 utils.py:108(__call__)\r\n",
      "        1    0.000    0.000    0.000    0.000 <string>:7(Chebyshev)\r\n",
      "       11    0.000    0.000    0.000    0.000 {_sre.compile}\r\n",
      "        1    0.000    0.000    0.000    0.000 _iotools.py:466(StringConverter)\r\n",
      "       45    0.000    0.000    0.000    0.000 {repr}\r\n",
      "        1    0.000    0.000    0.000    0.000 nosetester.py:88(NoseTester)\r\n",
      "       14    0.000    0.000    0.000    0.000 numerictypes.py:184(english_capitalize)\r\n",
      "        1    0.000    0.000    0.000    0.000 _methods.py:5(<module>)\r\n",
      "       31    0.000    0.000    0.000    0.000 _inspect.py:39(iscode)\r\n",
      "        1    0.000    0.000    0.000    0.000 financial.py:10(<module>)\r\n",
      "        1    0.000    0.000    0.000    0.000 numerictypes.py:386(_set_up_aliases)\r\n",
      "       18    0.000    0.000    0.000    0.000 {method 'extend' of 'list' objects}\r\n",
      "        1    0.000    0.000    0.000    0.000 collections.py:26(OrderedDict)\r\n",
      "       62    0.000    0.000    0.000    0.000 {method 'get' of 'dict' objects}\r\n",
      "        2    0.000    0.000    0.000    0.000 getlimits.py:244(__init__)\r\n",
      "        2    0.000    0.000    0.000    0.000 _methods.py:15(_amax)\r\n",
      "        1    0.000    0.000    0.000    0.000 info.py:147(<module>)\r\n",
      "        8    0.000    0.000    0.000    0.000 collections.py:363(<genexpr>)\r\n",
      "        1    0.000    0.000    0.000    0.000 helper.py:4(<module>)\r\n",
      "       17    0.000    0.000    0.000    0.000 {method 'keys' of 'dict' objects}\r\n",
      "        1    0.000    0.000    0.000    0.000 decorators.py:15(<module>)\r\n",
      "        1    0.000    0.000    0.000    0.000 defmatrix.py:206(matrix)\r\n",
      "        1    0.000    0.000    0.000    0.000 {posix.uname}\r\n",
      "        2    0.000    0.000    0.000    0.000 numeric.py:2320(seterr)\r\n",
      "        1    0.000    0.000    0.000    0.000 numpytest.py:1(<module>)\r\n",
      "        1    0.000    0.000    0.000    0.000 ufunclike.py:5(<module>)\r\n",
      "        1    0.000    0.000    0.000    0.000 <string>:7(Laguerre)\r\n",
      "       21    0.000    0.000    0.000    0.000 {sys._getframe}\r\n",
      "      126    0.000    0.000    0.000    0.000 {ord}\r\n",
      "       11    0.000    0.000    0.000    0.000 sre_parse.py:67(__init__)\r\n",
      "        5    0.000    0.000    0.000    0.000 sre_parse.py:74(opengroup)\r\n",
      "       19    0.000    0.000    0.000    0.000 {method 'rfind' of 'str' objects}\r\n",
      "        8    0.000    0.000    0.000    0.000 collections.py:361(<genexpr>)\r\n",
      "        9    0.000    0.000    0.000    0.000 core.py:2425(getdoc)\r\n",
      "        1    0.000    0.000    0.000    0.000 numeric.py:2705(__enter__)\r\n",
      "        1    0.000    0.000    0.000    0.000 fromnumeric.py:2048(amax)\r\n",
      "       33    0.000    0.000    0.000    0.000 {issubclass}\r\n",
      "        1    0.000    0.000    0.000    0.000 linalg.py:139(_commonType)\r\n",
      "        1    0.000    0.000    0.000    0.000 py3k.py:4(<module>)\r\n",
      "       50    0.000    0.000    0.000    0.000 {_ctypes.sizeof}\r\n",
      "        1    0.000    0.000    0.000    0.000 info.py:83(<module>)\r\n",
      "        1    0.000    0.000    0.000    0.000 linalg.py:106(_makearray)\r\n",
      "        1    0.000    0.000    0.000    0.000 <string>:1(Mismatch)\r\n",
      "        1    0.000    0.000    0.000    0.000 arrayterator.py:21(Arrayterator)\r\n",
      "        1    0.000    0.000    0.000    0.000 _internal.py:196(_getintp_ctype)\r\n",
      "        1    0.000    0.000    0.000    0.000 polynomial.py:930(poly1d)\r\n",
      "        1    0.000    0.000    0.000    0.000 fnmatch.py:11(<module>)\r\n",
      "        1    0.000    0.000    0.000    0.000 extras.py:1501(__init__)\r\n",
      "        4    0.000    0.000    0.000    0.000 core.py:92(doc_note)\r\n",
      "        2    0.000    0.000    0.000    0.000 getlimits.py:269(max)\r\n",
      "        1    0.000    0.000    0.000    0.000 <string>:1(Match)\r\n",
      "       19    0.000    0.000    0.000    0.000 {method 'rstrip' of 'str' objects}\r\n",
      "        1    0.000    0.000    0.000    0.000 keyword.py:11(<module>)\r\n",
      "        1    0.000    0.000    0.000    0.000 _iotools.py:246(NameValidator)\r\n",
      "        9    0.000    0.000    0.000    0.000 {method 'update' of 'dict' objects}\r\n",
      "       24    0.000    0.000    0.000    0.000 sre_parse.py:221(isident)\r\n",
      "       21    0.000    0.000    0.000    0.000 sre_parse.py:145(__setitem__)\r\n",
      "       13    0.000    0.000    0.000    0.000 {method 'items' of 'dict' objects}\r\n",
      "        1    0.000    0.000    0.000    0.000 core.py:5752(MaskedConstant)\r\n",
      "        1    0.000    0.000    0.000    0.000 copy_reg.py:14(pickle)\r\n",
      "        3    0.000    0.000    0.000    0.000 linalg.py:111(isComplexType)\r\n",
      "        1    0.000    0.000    0.000    0.000 extras.py:1431(__init__)\r\n",
      "        5    0.000    0.000    0.000    0.000 sre_parse.py:85(closegroup)\r\n",
      "        1    0.000    0.000    0.000    0.000 npyio.py:133(NpzFile)\r\n",
      "        1    0.000    0.000    0.000    0.000 numeric.py:2710(__exit__)\r\n",
      "        3    0.000    0.000    0.000    0.000 index_tricks.py:231(__init__)\r\n",
      "        1    0.000    0.000    0.000    0.000 _internal.py:224(_ctypes)\r\n",
      "        1    0.000    0.000    0.000    0.000 StringIO.py:42(StringIO)\r\n",
      "        1    0.000    0.000    0.000    0.000 utils.py:957(SafeEval)\r\n",
      "        1    0.000    0.000    0.000    0.000 runner.py:28(TextTestResult)\r\n",
      "        1    0.000    0.000    0.000    0.000 records.py:286(recarray)\r\n",
      "        1    0.000    0.000    0.000    0.000 _import_tools.py:8(PackageLoader)\r\n",
      "        1    0.000    0.000    0.000    0.000 numeric.py:462(asanyarray)\r\n",
      "        1    0.000    0.000    0.000    0.000 warnings.py:78(simplefilter)\r\n",
      "        1    0.000    0.000    0.000    0.000 {zip}\r\n",
      "        1    0.000    0.000    0.000    0.000 numeric.py:2701(__init__)\r\n",
      "        1    0.000    0.000    0.000    0.000 main.py:63(TestProgram)\r\n",
      "        1    0.000    0.000    0.000    0.000 info.py:176(<module>)\r\n",
      "        1    0.000    0.000    0.000    0.000 index_tricks.py:434(__init__)\r\n",
      "        1    0.000    0.000    0.000    0.000 {method 'astype' of 'numpy.ndarray' objects}\r\n",
      "        2    0.000    0.000    0.000    0.000 numeric.py:2416(geterr)\r\n",
      "       67    0.000    0.000    0.000    0.000 {globals}\r\n",
      "        4    0.000    0.000    0.000    0.000 {method 'replace' of 'str' objects}\r\n",
      "        1    0.000    0.000    0.000    0.000 linalg.py:209(_assertNdSquareness)\r\n",
      "        1    0.000    0.000    0.000    0.000 index_tricks.py:213(AxisConcatenator)\r\n",
      "        1    0.000    0.000    0.000    0.000 loader.py:38(TestLoader)\r\n",
      "        1    0.000    0.000    0.000    0.000 __config__.py:3(<module>)\r\n",
      "        1    0.000    0.000    0.000    0.000 numeric.py:392(asarray)\r\n",
      "        1    0.000    0.000    0.000    0.000 index_tricks.py:456(__init__)\r\n",
      "        1    0.000    0.000    0.000    0.000 getlimits.py:194(iinfo)\r\n",
      "        9    0.000    0.000    0.000    0.000 {setattr}\r\n",
      "        1    0.000    0.000    0.000    0.000 index_tricks.py:510(ndindex)\r\n",
      "        3    0.000    0.000    0.000    0.000 {method 'split' of 'str' objects}\r\n",
      "        1    0.000    0.000    0.000    0.000 function_base.py:1405(vectorize)\r\n",
      "        1    0.000    0.000    0.000    0.000 info.py:84(<module>)\r\n",
      "       38    0.000    0.000    0.000    0.000 {method 'isalnum' of 'str' objects}\r\n",
      "        1    0.000    0.000    0.000    0.000 _datasource.py:150(DataSource)\r\n",
      "        3    0.000    0.000    0.000    0.000 functools.py:39(wraps)\r\n",
      "        1    0.000    0.000    0.000    0.000 core.py:2390(_arraymethod)\r\n",
      "        1    0.000    0.000    0.000    0.000 collections.py:395(Counter)\r\n",
      "        1    0.000    0.000    0.000    0.000 linalg.py:127(_complexType)\r\n",
      "        3    0.000    0.000    0.000    0.000 __init__.py:494(CFunctionType)\r\n",
      "        1    0.000    0.000    0.000    0.000 ctypeslib.py:150(_ndptr)\r\n",
      "        1    0.000    0.000    0.000    0.000 weakref.py:282(__init__)\r\n",
      "        1    0.000    0.000    0.000    0.000 records.py:85(format_parser)\r\n",
      "        1    0.000    0.000    0.000    0.000 _iotools.py:155(LineSplitter)\r\n",
      "        1    0.000    0.000    0.000    0.000 suite.py:16(BaseTestSuite)\r\n",
      "        1    0.000    0.000    0.000    0.000 core.py:5555(mvoid)\r\n",
      "        1    0.000    0.000    0.000    0.000 UserDict.py:58(get)\r\n",
      "        1    0.000    0.000    0.000    0.000 case.py:1020(FunctionTestCase)\r\n",
      "        1    0.000    0.000    0.000    0.000 _datasource.py:497(Repository)\r\n",
      "        1    0.000    0.000    0.000    0.000 version.py:3(<module>)\r\n",
      "        2    0.000    0.000    0.000    0.000 utils.py:103(__init__)\r\n",
      "        1    0.000    0.000    0.000    0.000 arrayprint.py:715(DatetimeFormat)\r\n",
      "        1    0.000    0.000    0.000    0.000 linalg.py:101(get_linalg_error_extobj)\r\n",
      "        1    0.000    0.000    0.000    0.000 difflib.py:44(SequenceMatcher)\r\n",
      "        7    0.000    0.000    0.000    0.000 {method 'pop' of 'dict' objects}\r\n",
      "        1    0.000    0.000    0.000    0.000 warnings.py:359(__exit__)\r\n",
      "        1    0.000    0.000    0.000    0.000 difflib.py:1670(HtmlDiff)\r\n",
      "        1    0.000    0.000    0.000    0.000 records.py:216(record)\r\n",
      "        4    0.000    0.000    0.000    0.000 {method 'insert' of 'list' objects}\r\n",
      "        1    0.000    0.000    0.000    0.000 getlimits.py:24(finfo)\r\n",
      "        1    0.000    0.000    0.000    0.000 pprint.py:84(PrettyPrinter)\r\n",
      "        1    0.000    0.000    0.000    0.000 string.py:131(__init__)\r\n",
      "        1    0.000    0.000    0.000    0.000 _datasource.py:72(__init__)\r\n",
      "        6    0.000    0.000    0.000    0.000 {numpy.core.umath.geterrobj}\r\n",
      "        1    0.000    0.000    0.000    0.000 linalg.py:219(_assertNoEmpty2d)\r\n",
      "        7    0.000    0.000    0.000    0.000 __future__.py:75(__init__)\r\n",
      "        1    0.000    0.000    0.000    0.000 warnings.py:343(__enter__)\r\n",
      "        1    0.000    0.000    0.000    0.000 memmap.py:23(memmap)\r\n",
      "        1    0.000    0.000    0.000    0.000 <string>:1(<module>)\r\n",
      "        1    0.000    0.000    0.000    0.000 index_tricks.py:85(nd_grid)\r\n",
      "        1    0.000    0.000    0.000    0.000 core.py:5931(__init__)\r\n",
      "        5    0.000    0.000    0.000    0.000 {method 'remove' of 'list' objects}\r\n",
      "        1    0.000    0.000    0.000    0.000 __init__.py:332(CDLL)\r\n",
      "        6    0.000    0.000    0.000    0.000 core.py:769(__init__)\r\n",
      "        8    0.000    0.000    0.000    0.000 {method '__contains__' of 'frozenset' objects}\r\n",
      "        1    0.000    0.000    0.000    0.000 warnings.py:322(__init__)\r\n",
      "        1    0.000    0.000    0.000    0.000 suite.py:252(_ErrorHolder)\r\n",
      "        1    0.000    0.000    0.000    0.000 core.py:5919(__init__)\r\n",
      "        1    0.000    0.000    0.000    0.000 core.py:2241(_MaskedPrintOption)\r\n",
      "        2    0.000    0.000    0.000    0.000 index_tricks.py:145(__init__)\r\n",
      "        1    0.000    0.000    0.000    0.000 {_ctypes.set_conversion_mode}\r\n",
      "        1    0.000    0.000    0.000    0.000 extras.py:224(_fromnxfunction)\r\n",
      "        2    0.000    0.000    0.000    0.000 {hasattr}\r\n",
      "        1    0.000    0.000    0.000    0.000 runner.py:119(TextTestRunner)\r\n",
      "        1    0.000    0.000    0.000    0.000 __future__.py:74(_Feature)\r\n",
      "        1    0.000    0.000    0.000    0.000 arrayprint.py:532(FloatFormat)\r\n",
      "        1    0.000    0.000    0.000    0.000 core.py:883(_MaskedBinaryOperation)\r\n",
      "        2    0.000    0.000    0.000    0.000 utils.py:87(_set_function_name)\r\n",
      "        3    0.000    0.000    0.000    0.000 core.py:737(__init__)\r\n",
      "        1    0.000    0.000    0.000    0.000 core.py:5973(_frommethod)\r\n",
      "        1    0.000    0.000    0.000    0.000 suite.py:78(TestSuite)\r\n",
      "        3    0.000    0.000    0.000    0.000 __init__.py:104(CFunctionType)\r\n",
      "        1    0.000    0.000    0.000    0.000 utils.py:92(_Deprecate)\r\n",
      "        4    0.000    0.000    0.000    0.000 core.py:2432(__get__)\r\n",
      "        1    0.000    0.000    0.000    0.000 difflib.py:764(Differ)\r\n",
      "        1    0.000    0.000    0.000    0.000 linalg.py:124(_realType)\r\n",
      "        7    0.000    0.000    0.000    0.000 case.py:609(_deprecate)\r\n",
      "        1    0.000    0.000    0.000    0.000 {_ctypes.dlopen}\r\n",
      "        1    0.000    0.000    0.000    0.000 machar.py:17(MachAr)\r\n",
      "        1    0.000    0.000    0.000    0.000 index_tricks.py:461(ndenumerate)\r\n",
      "        1    0.000    0.000    0.000    0.000 _datasource.py:49(_FileOpeners)\r\n",
      "        3    0.000    0.000    0.000    0.000 _inspect.py:161(<lambda>)\r\n",
      "        1    0.000    0.000    0.000    0.000 core.py:2460(MaskedIterator)\r\n",
      "        1    0.000    0.000    0.000    0.000 {numpy.core.multiarray.set_typeDict}\r\n",
      "        1    0.000    0.000    0.000    0.000 __init__.py:388(PyDLL)\r\n",
      "        1    0.000    0.000    0.000    0.000 __init__.py:243(c_char_p)\r\n",
      "        2    0.000    0.000    0.000    0.000 core.py:796(__init__)\r\n",
      "        3    0.000    0.000    0.000    0.000 core.py:784(__init__)\r\n",
      "        1    0.000    0.000    0.000    0.000 stride_tricks.py:14(DummyArray)\r\n",
      "        2    0.000    0.000    0.000    0.000 index_tricks.py:627(__init__)\r\n",
      "        1    0.000    0.000    0.000    0.000 numeric.py:2639(errstate)\r\n",
      "        1    0.000    0.000    0.000    0.000 utils.py:1366(WarningMessage)\r\n",
      "        8    0.000    0.000    0.000    0.000 {method 'isdigit' of 'str' objects}\r\n",
      "        1    0.000    0.000    0.000    0.000 linalg.py:43(LinAlgError)\r\n",
      "        1    0.000    0.000    0.000    0.000 __init__.py:428(LibraryLoader)\r\n",
      "        1    0.000    0.000    0.000    0.000 case.py:98(_AssertRaisesContext)\r\n",
      "        6    0.000    0.000    0.000    0.000 {method 'add' of 'set' objects}\r\n",
      "        1    0.000    0.000    0.000    0.000 __init__.py:159(py_object)\r\n",
      "        1    0.000    0.000    0.000    0.000 numerictypes.py:772(_typedict)\r\n",
      "        1    0.000    0.000    0.000    0.000 case.py:25(SkipTest)\r\n",
      "        1    0.000    0.000    0.000    0.000 copy_reg.py:27(constructor)\r\n",
      "        1    0.000    0.000    0.000    0.000 arrayprint.py:658(LongFloatFormat)\r\n",
      "        1    0.000    0.000    0.000    0.000 __init__.py:359(_FuncPtr)\r\n",
      "        1    0.000    0.000    0.000    0.000 core.py:767(_DomainSafeDivide)\r\n",
      "        1    0.000    0.000    0.000    0.000 _endian.py:26(_swapped_meta)\r\n",
      "        1    0.000    0.000    0.000    0.000 arrayprint.py:638(IntegerFormat)\r\n",
      "        1    0.000    0.000    0.000    0.000 extras.py:1419(MAxisConcatenator)\r\n",
      "        1    0.000    0.000    0.000    0.000 shutil.py:31(Error)\r\n",
      "        1    0.000    0.000    0.000    0.000 utils.py:1398(WarningManager)\r\n",
      "        2    0.000    0.000    0.000    0.000 __init__.py:429(__init__)\r\n",
      "        1    0.000    0.000    0.000    0.000 core.py:128(MAError)\r\n",
      "        1    0.000    0.000    0.000    0.000 core.py:5862(_extrema_operation)\r\n",
      "        1    0.000    0.000    0.000    0.000 arrayprint.py:743(TimedeltaFormat)\r\n",
      "        1    0.000    0.000    0.000    0.000 polyutils.py:48(RankWarning)\r\n",
      "        1    0.000    0.000    0.000    0.000 _import_tools.py:336(PackageLoaderDebug)\r\n",
      "        1    0.000    0.000    0.000    0.000 core.py:131(MaskError)\r\n",
      "        1    0.000    0.000    0.000    0.000 __init__.py:294(c_wchar)\r\n",
      "        1    0.000    0.000    0.000    0.000 shutil.py:38(ExecError)\r\n",
      "        1    0.000    0.000    0.000    0.000 __init__.py:291(c_wchar_p)\r\n",
      "        1    0.000    0.000    0.000    0.000 polyutils.py:52(PolyError)\r\n",
      "        1    0.000    0.000    0.000    0.000 arrayprint.py:688(LongComplexFormat)\r\n",
      "        1    0.000    0.000    0.000    0.000 utils.py:1581(IgnoreException)\r\n",
      "        1    0.000    0.000    0.000    0.000 __init__.py:226(c_ubyte)\r\n",
      "        1    0.000    0.000    0.000    0.000 index_tricks.py:340(RClass)\r\n",
      "        1    0.000    0.000    0.000    0.000 polynomial.py:21(RankWarning)\r\n",
      "        1    0.000    0.000    0.000    0.000 runner.py:12(_WritelnDecorator)\r\n",
      "        1    0.000    0.000    0.000    0.000 shutil.py:34(SpecialFileError)\r\n",
      "        1    0.000    0.000    0.000    0.000 polyutils.py:69(PolyBase)\r\n",
      "        1    0.000    0.000    0.000    0.000 _iotools.py:438(ConverterError)\r\n",
      "        1    0.000    0.000    0.000    0.000 core.py:805(_MaskedUnaryOperation)\r\n",
      "        1    0.000    0.000    0.000    0.000 arrayprint.py:699(ComplexFormat)\r\n",
      "        2    0.000    0.000    0.000    0.000 {method 'clear' of 'dict' objects}\r\n",
      "        1    0.000    0.000    0.000    0.000 __init__.py:260(c_bool)\r\n",
      "        1    0.000    0.000    0.000    0.000 __init__.py:197(c_float)\r\n",
      "        1    0.000    0.000    0.000    0.000 __init__.py:172(c_ushort)\r\n",
      "        1    0.000    0.000    0.000    0.000 signals.py:9(_InterruptHandler)\r\n",
      "        1    0.000    0.000    0.000    0.000 _iotools.py:452(ConversionWarning)\r\n",
      "        1    0.000    0.000    0.000    0.000 {max}\r\n",
      "        1    0.000    0.000    0.000    0.000 __init__.py:233(c_byte)\r\n",
      "        1    0.000    0.000    0.000    0.000 numeric.py:2635(_unspecified)\r\n",
      "        1    0.000    0.000    0.000    0.000 index_tricks.py:439(CClass)\r\n",
      "        1    0.000    0.000    0.000    0.000 nanfunctions.py:31(NanWarning)\r\n",
      "        1    0.000    0.000    0.000    0.000 core.py:751(_DomainTan)\r\n",
      "        1    0.000    0.000    0.000    0.000 core.py:7178(_convert2ma)\r\n",
      "        1    0.000    0.000    0.000    0.000 UserDict.py:70(__contains__)\r\n",
      "        1    0.000    0.000    0.000    0.000 __init__.py:112(ModuleDeprecationWarning)\r\n",
      "        1    0.000    0.000    0.000    0.000 core.py:2246(__init__)\r\n",
      "        1    0.000    0.000    0.000    0.000 _iotools.py:445(ConverterLockError)\r\n",
      "        1    0.000    0.000    0.000    0.000 index_tricks.py:584(IndexExpression)\r\n",
      "        1    0.000    0.000    0.000    0.000 core.py:729(_DomainCheckInterval)\r\n",
      "        1    0.000    0.000    0.000    0.000 _inspect.py:162(<lambda>)\r\n",
      "        1    0.000    0.000    0.000    0.000 core.py:782(_DomainGreater)\r\n",
      "        1    0.000    0.000    0.000    0.000 __init__.py:168(c_short)\r\n",
      "        1    0.000    0.000    0.000    0.000 __init__.py:193(c_uint)\r\n",
      "        1    0.000    0.000    0.000    0.000 __init__.py:255(c_void_p)\r\n",
      "        1    0.000    0.000    0.000    0.000 __init__.py:201(c_double)\r\n",
      "        1    0.000    0.000    0.000    0.000 polyutils.py:56(PolyDomainError)\r\n",
      "        1    0.000    0.000    0.000    0.000 __init__.py:189(c_int)\r\n",
      "        1    0.000    0.000    0.000    0.000 core.py:5917(_minimum_operation)\r\n",
      "        1    0.000    0.000    0.000    0.000 __init__.py:238(c_char)\r\n",
      "        1    0.000    0.000    0.000    0.000 _endian.py:49(BigEndianStructure)\r\n",
      "        1    0.000    0.000    0.000    0.000 core.py:1026(_DomainedBinaryOperation)\r\n",
      "        1    0.000    0.000    0.000    0.000 __init__.py:205(c_longdouble)\r\n",
      "        1    0.000    0.000    0.000    0.000 extras.py:1485(mr_class)\r\n",
      "        1    0.000    0.000    0.000    0.000 numeric.py:49(ComplexWarning)\r\n",
      "        1    0.000    0.000    0.000    0.000 __init__.py:176(c_long)\r\n",
      "        1    0.000    0.000    0.000    0.000 _internal.py:217(_missing_ctypes)\r\n",
      "        1    0.000    0.000    0.000    0.000 suite.py:299(_DebugResult)\r\n",
      "        1    0.000    0.000    0.000    0.000 case.py:34(_ExpectedFailure)\r\n",
      "        1    0.000    0.000    0.000    0.000 core.py:794(_DomainGreaterEqual)\r\n",
      "        1    0.000    0.000    0.000    0.000 core.py:5929(_maximum_operation)\r\n",
      "        2    0.000    0.000    0.000    0.000 sre_parse.py:224(isdigit)\r\n",
      "        1    0.000    0.000    0.000    0.000 case.py:45(_UnexpectedSuccess)\r\n",
      "        1    0.000    0.000    0.000    0.000 core.py:757(__init__)\r\n",
      "        1    0.000    0.000    0.000    0.000 __init__.py:180(c_ulong)\r\n",
      "        1    0.000    0.000    0.000    0.000 core.py:5761(__array_finalize__)\r\n",
      "        1    0.000    0.000    0.000    0.000 {method 'disable' of '_lsprof.Profiler' objects}\r\n",
      "\r\n",
      "\r\n"
     ]
    }
   ],
   "source": [
    "!python -m cProfile -s cumulative examples/cprof_example.py"
   ]
  },
  {
   "cell_type": "markdown",
   "metadata": {},
   "source": [
    "In addition to the command-line usage, cProfile can also be used programmatically to profile arbitrary blocks of code without having to run a new process. IPython has a convenient interface to this capability using the %prun command and the -p option to %run. %prun takes the same “command-line options” as cProfile but will profile an arbitrary Python statement instead of a whole .py file:"
   ]
  },
  {
   "cell_type": "code",
   "execution_count": 36,
   "metadata": {},
   "outputs": [
    {
     "ename": "NameError",
     "evalue": "name 'run_experiment' is not defined",
     "output_type": "error",
     "traceback": [
      "\u001b[0;31m---------------------------------------------------------------------------\u001b[0m",
      "\u001b[0;31mNameError\u001b[0m                                 Traceback (most recent call last)",
      "\u001b[0;32m<ipython-input-36-8a91a4144c55>\u001b[0m in \u001b[0;36m<module>\u001b[0;34m()\u001b[0m\n\u001b[0;32m----> 1\u001b[0;31m \u001b[0mget_ipython\u001b[0m\u001b[0;34m(\u001b[0m\u001b[0;34m)\u001b[0m\u001b[0;34m.\u001b[0m\u001b[0mrun_line_magic\u001b[0m\u001b[0;34m(\u001b[0m\u001b[0;34m'prun'\u001b[0m\u001b[0;34m,\u001b[0m \u001b[0;34m'-l 69 -s cumulative run_experiment()'\u001b[0m\u001b[0;34m)\u001b[0m\u001b[0;34m\u001b[0m\u001b[0m\n\u001b[0m",
      "\u001b[0;32m/usr/local/lib/python3.6/site-packages/IPython/core/interactiveshell.py\u001b[0m in \u001b[0;36mrun_line_magic\u001b[0;34m(self, magic_name, line, _stack_depth)\u001b[0m\n\u001b[1;32m   2093\u001b[0m                 \u001b[0mkwargs\u001b[0m\u001b[0;34m[\u001b[0m\u001b[0;34m'local_ns'\u001b[0m\u001b[0;34m]\u001b[0m \u001b[0;34m=\u001b[0m \u001b[0msys\u001b[0m\u001b[0;34m.\u001b[0m\u001b[0m_getframe\u001b[0m\u001b[0;34m(\u001b[0m\u001b[0mstack_depth\u001b[0m\u001b[0;34m)\u001b[0m\u001b[0;34m.\u001b[0m\u001b[0mf_locals\u001b[0m\u001b[0;34m\u001b[0m\u001b[0m\n\u001b[1;32m   2094\u001b[0m             \u001b[0;32mwith\u001b[0m \u001b[0mself\u001b[0m\u001b[0;34m.\u001b[0m\u001b[0mbuiltin_trap\u001b[0m\u001b[0;34m:\u001b[0m\u001b[0;34m\u001b[0m\u001b[0m\n\u001b[0;32m-> 2095\u001b[0;31m                 \u001b[0mresult\u001b[0m \u001b[0;34m=\u001b[0m \u001b[0mfn\u001b[0m\u001b[0;34m(\u001b[0m\u001b[0;34m*\u001b[0m\u001b[0margs\u001b[0m\u001b[0;34m,\u001b[0m\u001b[0;34m**\u001b[0m\u001b[0mkwargs\u001b[0m\u001b[0;34m)\u001b[0m\u001b[0;34m\u001b[0m\u001b[0m\n\u001b[0m\u001b[1;32m   2096\u001b[0m             \u001b[0;32mreturn\u001b[0m \u001b[0mresult\u001b[0m\u001b[0;34m\u001b[0m\u001b[0m\n\u001b[1;32m   2097\u001b[0m \u001b[0;34m\u001b[0m\u001b[0m\n",
      "\u001b[0;32m<decorator-gen-56>\u001b[0m in \u001b[0;36mprun\u001b[0;34m(self, parameter_s, cell)\u001b[0m\n",
      "\u001b[0;32m/usr/local/lib/python3.6/site-packages/IPython/core/magic.py\u001b[0m in \u001b[0;36m<lambda>\u001b[0;34m(f, *a, **k)\u001b[0m\n\u001b[1;32m    185\u001b[0m     \u001b[0;31m# but it's overkill for just that one bit of state.\u001b[0m\u001b[0;34m\u001b[0m\u001b[0;34m\u001b[0m\u001b[0m\n\u001b[1;32m    186\u001b[0m     \u001b[0;32mdef\u001b[0m \u001b[0mmagic_deco\u001b[0m\u001b[0;34m(\u001b[0m\u001b[0marg\u001b[0m\u001b[0;34m)\u001b[0m\u001b[0;34m:\u001b[0m\u001b[0;34m\u001b[0m\u001b[0m\n\u001b[0;32m--> 187\u001b[0;31m         \u001b[0mcall\u001b[0m \u001b[0;34m=\u001b[0m \u001b[0;32mlambda\u001b[0m \u001b[0mf\u001b[0m\u001b[0;34m,\u001b[0m \u001b[0;34m*\u001b[0m\u001b[0ma\u001b[0m\u001b[0;34m,\u001b[0m \u001b[0;34m**\u001b[0m\u001b[0mk\u001b[0m\u001b[0;34m:\u001b[0m \u001b[0mf\u001b[0m\u001b[0;34m(\u001b[0m\u001b[0;34m*\u001b[0m\u001b[0ma\u001b[0m\u001b[0;34m,\u001b[0m \u001b[0;34m**\u001b[0m\u001b[0mk\u001b[0m\u001b[0;34m)\u001b[0m\u001b[0;34m\u001b[0m\u001b[0m\n\u001b[0m\u001b[1;32m    188\u001b[0m \u001b[0;34m\u001b[0m\u001b[0m\n\u001b[1;32m    189\u001b[0m         \u001b[0;32mif\u001b[0m \u001b[0mcallable\u001b[0m\u001b[0;34m(\u001b[0m\u001b[0marg\u001b[0m\u001b[0;34m)\u001b[0m\u001b[0;34m:\u001b[0m\u001b[0;34m\u001b[0m\u001b[0m\n",
      "\u001b[0;32m/usr/local/lib/python3.6/site-packages/IPython/core/magics/execution.py\u001b[0m in \u001b[0;36mprun\u001b[0;34m(self, parameter_s, cell)\u001b[0m\n\u001b[1;32m    300\u001b[0m             \u001b[0marg_str\u001b[0m \u001b[0;34m+=\u001b[0m \u001b[0;34m'\\n'\u001b[0m \u001b[0;34m+\u001b[0m \u001b[0mcell\u001b[0m\u001b[0;34m\u001b[0m\u001b[0m\n\u001b[1;32m    301\u001b[0m         \u001b[0marg_str\u001b[0m \u001b[0;34m=\u001b[0m \u001b[0mself\u001b[0m\u001b[0;34m.\u001b[0m\u001b[0mshell\u001b[0m\u001b[0;34m.\u001b[0m\u001b[0minput_splitter\u001b[0m\u001b[0;34m.\u001b[0m\u001b[0mtransform_cell\u001b[0m\u001b[0;34m(\u001b[0m\u001b[0marg_str\u001b[0m\u001b[0;34m)\u001b[0m\u001b[0;34m\u001b[0m\u001b[0m\n\u001b[0;32m--> 302\u001b[0;31m         \u001b[0;32mreturn\u001b[0m \u001b[0mself\u001b[0m\u001b[0;34m.\u001b[0m\u001b[0m_run_with_profiler\u001b[0m\u001b[0;34m(\u001b[0m\u001b[0marg_str\u001b[0m\u001b[0;34m,\u001b[0m \u001b[0mopts\u001b[0m\u001b[0;34m,\u001b[0m \u001b[0mself\u001b[0m\u001b[0;34m.\u001b[0m\u001b[0mshell\u001b[0m\u001b[0;34m.\u001b[0m\u001b[0muser_ns\u001b[0m\u001b[0;34m)\u001b[0m\u001b[0;34m\u001b[0m\u001b[0m\n\u001b[0m\u001b[1;32m    303\u001b[0m \u001b[0;34m\u001b[0m\u001b[0m\n\u001b[1;32m    304\u001b[0m     \u001b[0;32mdef\u001b[0m \u001b[0m_run_with_profiler\u001b[0m\u001b[0;34m(\u001b[0m\u001b[0mself\u001b[0m\u001b[0;34m,\u001b[0m \u001b[0mcode\u001b[0m\u001b[0;34m,\u001b[0m \u001b[0mopts\u001b[0m\u001b[0;34m,\u001b[0m \u001b[0mnamespace\u001b[0m\u001b[0;34m)\u001b[0m\u001b[0;34m:\u001b[0m\u001b[0;34m\u001b[0m\u001b[0m\n",
      "\u001b[0;32m/usr/local/lib/python3.6/site-packages/IPython/core/magics/execution.py\u001b[0m in \u001b[0;36m_run_with_profiler\u001b[0;34m(self, code, opts, namespace)\u001b[0m\n\u001b[1;32m    322\u001b[0m         \u001b[0mprof\u001b[0m \u001b[0;34m=\u001b[0m \u001b[0mprofile\u001b[0m\u001b[0;34m.\u001b[0m\u001b[0mProfile\u001b[0m\u001b[0;34m(\u001b[0m\u001b[0;34m)\u001b[0m\u001b[0;34m\u001b[0m\u001b[0m\n\u001b[1;32m    323\u001b[0m         \u001b[0;32mtry\u001b[0m\u001b[0;34m:\u001b[0m\u001b[0;34m\u001b[0m\u001b[0m\n\u001b[0;32m--> 324\u001b[0;31m             \u001b[0mprof\u001b[0m \u001b[0;34m=\u001b[0m \u001b[0mprof\u001b[0m\u001b[0;34m.\u001b[0m\u001b[0mrunctx\u001b[0m\u001b[0;34m(\u001b[0m\u001b[0mcode\u001b[0m\u001b[0;34m,\u001b[0m \u001b[0mnamespace\u001b[0m\u001b[0;34m,\u001b[0m \u001b[0mnamespace\u001b[0m\u001b[0;34m)\u001b[0m\u001b[0;34m\u001b[0m\u001b[0m\n\u001b[0m\u001b[1;32m    325\u001b[0m             \u001b[0msys_exit\u001b[0m \u001b[0;34m=\u001b[0m \u001b[0;34m''\u001b[0m\u001b[0;34m\u001b[0m\u001b[0m\n\u001b[1;32m    326\u001b[0m         \u001b[0;32mexcept\u001b[0m \u001b[0mSystemExit\u001b[0m\u001b[0;34m:\u001b[0m\u001b[0;34m\u001b[0m\u001b[0m\n",
      "\u001b[0;32m/usr/local/Cellar/python3/3.6.4_2/Frameworks/Python.framework/Versions/3.6/lib/python3.6/cProfile.py\u001b[0m in \u001b[0;36mrunctx\u001b[0;34m(self, cmd, globals, locals)\u001b[0m\n\u001b[1;32m     98\u001b[0m         \u001b[0mself\u001b[0m\u001b[0;34m.\u001b[0m\u001b[0menable\u001b[0m\u001b[0;34m(\u001b[0m\u001b[0;34m)\u001b[0m\u001b[0;34m\u001b[0m\u001b[0m\n\u001b[1;32m     99\u001b[0m         \u001b[0;32mtry\u001b[0m\u001b[0;34m:\u001b[0m\u001b[0;34m\u001b[0m\u001b[0m\n\u001b[0;32m--> 100\u001b[0;31m             \u001b[0mexec\u001b[0m\u001b[0;34m(\u001b[0m\u001b[0mcmd\u001b[0m\u001b[0;34m,\u001b[0m \u001b[0mglobals\u001b[0m\u001b[0;34m,\u001b[0m \u001b[0mlocals\u001b[0m\u001b[0;34m)\u001b[0m\u001b[0;34m\u001b[0m\u001b[0m\n\u001b[0m\u001b[1;32m    101\u001b[0m         \u001b[0;32mfinally\u001b[0m\u001b[0;34m:\u001b[0m\u001b[0;34m\u001b[0m\u001b[0m\n\u001b[1;32m    102\u001b[0m             \u001b[0mself\u001b[0m\u001b[0;34m.\u001b[0m\u001b[0mdisable\u001b[0m\u001b[0;34m(\u001b[0m\u001b[0;34m)\u001b[0m\u001b[0;34m\u001b[0m\u001b[0m\n",
      "\u001b[0;32m<string>\u001b[0m in \u001b[0;36m<module>\u001b[0;34m()\u001b[0m\n",
      "\u001b[0;31mNameError\u001b[0m: name 'run_experiment' is not defined"
     ]
    }
   ],
   "source": [
    "%prun -l 69 -s cumulative run_experiment()"
   ]
  },
  {
   "cell_type": "markdown",
   "metadata": {},
   "source": [
    "In the Jupyter notebook, you can use the %%prun magic (two % signs) to profile an entire code block. This pops up a separate window with the profile output. This can be useful in getting possibly quick answers to questions like, “Why did that code block take so long to run?”"
   ]
  },
  {
   "cell_type": "markdown",
   "metadata": {},
   "source": [
    "#### Profiling a Function Line by Line\n",
    "line_profiler can be used programmatically (see the full documentation), but it is perhaps most powerful when used interactively in IPython. Suppose you had a mod‐ ule prof_mod with the following code doing some NumPy array operations:"
   ]
  },
  {
   "cell_type": "code",
   "execution_count": 37,
   "metadata": {},
   "outputs": [],
   "source": [
    "import examples.prof_mod"
   ]
  },
  {
   "cell_type": "code",
   "execution_count": 38,
   "metadata": {},
   "outputs": [],
   "source": [
    "%run examples/prof_mod"
   ]
  },
  {
   "cell_type": "code",
   "execution_count": 39,
   "metadata": {},
   "outputs": [],
   "source": [
    "x = randn(3000, 3000)\n",
    "y = randn(3000, 3000)"
   ]
  },
  {
   "cell_type": "code",
   "execution_count": 40,
   "metadata": {},
   "outputs": [
    {
     "name": "stdout",
     "output_type": "stream",
     "text": [
      " "
     ]
    }
   ],
   "source": [
    "%prun add_and_sum(x, y)"
   ]
  },
  {
   "cell_type": "markdown",
   "metadata": {},
   "source": [
    "This is not especially enlightening. With the line_profiler IPython extension acti‐ vated, a new command %lprun is available. The only difference in usage is that we must instruct %lprun which function or functions we wish to profile. The general syntax is:"
   ]
  },
  {
   "cell_type": "code",
   "execution_count": 41,
   "metadata": {},
   "outputs": [
    {
     "name": "stderr",
     "output_type": "stream",
     "text": [
      "UsageError: Line magic function `%lprun` not found.\n"
     ]
    }
   ],
   "source": [
    "%lprun -f add_and_sum add_and_sum(x, y)"
   ]
  },
  {
   "cell_type": "code",
   "execution_count": 42,
   "metadata": {},
   "outputs": [
    {
     "name": "stderr",
     "output_type": "stream",
     "text": [
      "UsageError: Line magic function `%lprun` not found.\n"
     ]
    }
   ],
   "source": [
    "%lprun -f add_and_sum -f call_function call_function()"
   ]
  },
  {
   "cell_type": "markdown",
   "metadata": {},
   "source": [
    "## Tips for Productive Code Development Using IPython\n",
    "* Reloading Module Dependencies\n",
    "* Code Design Tips\n",
    "    * Keep relevant objects and data alive\n",
    "    * Flat is better than nested\n",
    "    * Overcome a fear of longer  les"
   ]
  },
  {
   "cell_type": "markdown",
   "metadata": {},
   "source": [
    "## Advanced IPython Features\n",
    "#### Making Your Own Classes IPython-Friendly"
   ]
  },
  {
   "cell_type": "code",
   "execution_count": 44,
   "metadata": {},
   "outputs": [],
   "source": [
    "class Message:\n",
    "    def __init__(self, msg):\n",
    "        self.msg = msg\n",
    "        \n",
    "    @classmethod\n",
    "    def hi(cls, msg):\n",
    "        return \"hi\""
   ]
  },
  {
   "cell_type": "markdown",
   "metadata": {},
   "source": [
    "If you wrote this, you would be disappointed to discover that the default output for\n",
    "your class isn’t very nice:"
   ]
  },
  {
   "cell_type": "code",
   "execution_count": 45,
   "metadata": {},
   "outputs": [],
   "source": [
    "x = Message(\"I have a secret\")"
   ]
  },
  {
   "cell_type": "markdown",
   "metadata": {},
   "source": [
    "IPython takes the string returned by the __repr__ magic method (by doing output = repr(obj)) and prints that to the console. Thus, we can add a simple __repr__ method to the preceding class to get a more helpful output:"
   ]
  },
  {
   "cell_type": "code",
   "execution_count": 46,
   "metadata": {},
   "outputs": [],
   "source": [
    "class Message:\n",
    "    def __init__(self, msg):\n",
    "        self.msg = msg\n",
    "    \n",
    "    def __repr__(self):\n",
    "        return 'Message: %s' % self.msg\n",
    "        \n",
    "    @classmethod\n",
    "    def hi(cls, msg):\n",
    "        return \"hi\""
   ]
  },
  {
   "cell_type": "code",
   "execution_count": 47,
   "metadata": {},
   "outputs": [
    {
     "data": {
      "text/plain": [
       "Message: I have a secret"
      ]
     },
     "execution_count": 47,
     "metadata": {},
     "output_type": "execute_result"
    }
   ],
   "source": [
    "x = Message('I have a secret')\n",
    "x"
   ]
  }
 ],
 "metadata": {
  "kernelspec": {
   "display_name": "Python 3",
   "language": "python",
   "name": "python3"
  },
  "language_info": {
   "codemirror_mode": {
    "name": "ipython",
    "version": 3
   },
   "file_extension": ".py",
   "mimetype": "text/x-python",
   "name": "python",
   "nbconvert_exporter": "python",
   "pygments_lexer": "ipython3",
   "version": "3.6.4"
  }
 },
 "nbformat": 4,
 "nbformat_minor": 2
}
