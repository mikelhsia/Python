{
 "cells": [
  {
   "cell_type": "markdown",
   "metadata": {},
   "source": [
    "# More on iPython System"
   ]
  },
  {
   "cell_type": "markdown",
   "metadata": {},
   "source": [
    "#### %run command: to run code snippet"
   ]
  },
  {
   "cell_type": "code",
   "execution_count": 5,
   "metadata": {},
   "outputs": [
    {
     "name": "stdout",
     "output_type": "stream",
     "text": [
      "######################################\n",
      "Print out BMIs of all baseball players whose BMI is below 21:\n",
      "[20.54255679 20.54255679 20.69282047 20.69282047 20.34343189 20.44955826\n",
      " 20.75174162]\n",
      "[74 74 72 75 75 73]\n",
      "205\n"
     ]
    }
   ],
   "source": [
    "%run numpyPractice.py"
   ]
  },
  {
   "cell_type": "markdown",
   "metadata": {},
   "source": [
    "#### Input and Output Variables"
   ]
  },
  {
   "cell_type": "code",
   "execution_count": 6,
   "metadata": {},
   "outputs": [
    {
     "data": {
      "text/plain": [
       "134217728"
      ]
     },
     "execution_count": 6,
     "metadata": {},
     "output_type": "execute_result"
    }
   ],
   "source": [
    "2 ** 27"
   ]
  },
  {
   "cell_type": "code",
   "execution_count": 7,
   "metadata": {},
   "outputs": [
    {
     "data": {
      "text/plain": [
       "134217728"
      ]
     },
     "execution_count": 7,
     "metadata": {},
     "output_type": "execute_result"
    }
   ],
   "source": [
    "_"
   ]
  },
  {
   "cell_type": "markdown",
   "metadata": {},
   "source": [
    "So after input line 7, say, there will be two new variables _7 (for the output) and _i7 for the input:"
   ]
  },
  {
   "cell_type": "code",
   "execution_count": 8,
   "metadata": {},
   "outputs": [],
   "source": [
    "foo = 'bar'"
   ]
  },
  {
   "cell_type": "code",
   "execution_count": 9,
   "metadata": {},
   "outputs": [
    {
     "data": {
      "text/plain": [
       "'bar'"
      ]
     },
     "execution_count": 9,
     "metadata": {},
     "output_type": "execute_result"
    }
   ],
   "source": [
    "foo"
   ]
  },
  {
   "cell_type": "code",
   "execution_count": 10,
   "metadata": {},
   "outputs": [
    {
     "data": {
      "text/plain": [
       "'_'"
      ]
     },
     "execution_count": 10,
     "metadata": {},
     "output_type": "execute_result"
    }
   ],
   "source": [
    "_i7"
   ]
  },
  {
   "cell_type": "code",
   "execution_count": 11,
   "metadata": {},
   "outputs": [
    {
     "data": {
      "text/plain": [
       "134217728"
      ]
     },
     "execution_count": 11,
     "metadata": {},
     "output_type": "execute_result"
    }
   ],
   "source": [
    "_7"
   ]
  },
  {
   "cell_type": "code",
   "execution_count": 12,
   "metadata": {},
   "outputs": [],
   "source": [
    "exec(_i7)"
   ]
  },
  {
   "cell_type": "code",
   "execution_count": 13,
   "metadata": {},
   "outputs": [
    {
     "name": "stdout",
     "output_type": "stream",
     "text": [
      "%run numpyPractice.py\n",
      "2 ** 27\n",
      "_\n",
      "foo = 'bar'\n",
      "%run numpyPractice.py\n",
      "2 ** 27\n",
      "_\n",
      "foo = 'bar'\n",
      "foo\n",
      "_i7\n",
      "_7\n",
      "exec(_i7)\n",
      "%hist\n"
     ]
    }
   ],
   "source": [
    "%hist"
   ]
  },
  {
   "cell_type": "code",
   "execution_count": 14,
   "metadata": {},
   "outputs": [
    {
     "name": "stdout",
     "output_type": "stream",
     "text": [
      "Once deleted, variables cannot be recovered. Proceed (y/[n])? n\n",
      "Nothing done.\n"
     ]
    }
   ],
   "source": [
    "%reset"
   ]
  },
  {
   "cell_type": "markdown",
   "metadata": {},
   "source": [
    "#### Shell Commands and Aliases"
   ]
  },
  {
   "cell_type": "code",
   "execution_count": 15,
   "metadata": {},
   "outputs": [
    {
     "data": {
      "text/plain": [
       "(['\\tinet6 fe80::14c8:43d2:f89b:6360%en0 prefixlen 64 secured scopeid 0x6 ',\n",
       "  '\\tinet 192.168.0.231 netmask 0xffffff00 broadcast 192.168.0.255'],\n",
       " 'inet6 fe80::14c8:43d2:f89b:6360%en0 prefixlen 64 secured scopeid 0x6')"
      ]
     },
     "execution_count": 15,
     "metadata": {},
     "output_type": "execute_result"
    }
   ],
   "source": [
    "ip_info = !ifconfig en0|grep \"inet\"\n",
    "ip_info, ip_info[0].strip()"
   ]
  },
  {
   "cell_type": "code",
   "execution_count": 16,
   "metadata": {},
   "outputs": [
    {
     "name": "stdout",
     "output_type": "stream",
     "text": [
      "\u001b[34mbabynames\u001b[m\u001b[m    \u001b[34mbitly_usagov\u001b[m\u001b[m \u001b[34mmovielens\u001b[m\u001b[m    \u001b[34mtitanic\u001b[m\u001b[m      \u001b[34musda_food\u001b[m\u001b[m\n"
     ]
    }
   ],
   "source": [
    "foo = 'data*'\n",
    "\n",
    "!ls $foo"
   ]
  },
  {
   "cell_type": "code",
   "execution_count": 17,
   "metadata": {},
   "outputs": [],
   "source": [
    "%alias ll ls -l"
   ]
  },
  {
   "cell_type": "code",
   "execution_count": 18,
   "metadata": {},
   "outputs": [
    {
     "name": "stdout",
     "output_type": "stream",
     "text": [
      "total 8992\n",
      "-rw-r--r--   1 tsuyuhsia  staff        0 Nov  1 10:50 __init__.py\n",
      "drwxr-xr-x   7 tsuyuhsia  staff      224 Jan 15 09:16 \u001b[34mdatasets\u001b[m\u001b[m\n",
      "drwxr-xr-x  31 tsuyuhsia  staff      992 Feb 13 15:19 \u001b[34mexamples\u001b[m\u001b[m\n",
      "-rw-r--r--   1 tsuyuhsia  staff   187144 Dec 19 09:20 mydata.h5\n",
      "-rw-r--r--   1 tsuyuhsia  staff     8192 Dec 19 09:20 mydata.sqlite\n",
      "-rw-r--r--   1 tsuyuhsia  staff    84277 Dec 19 09:20 mydata2.h5\n",
      "-rw-r--r--   1 tsuyuhsia  staff     4648 Nov  6 09:28 numpyPractice.py\n",
      "-rw-r--r--   1 tsuyuhsia  staff    71214 Feb 13 11:14 pythonDataAnalysisAppendixA.ipynb\n",
      "-rw-r--r--   1 tsuyuhsia  staff    19763 Feb 13 15:23 pythonDataAnalysisAppendixB.ipynb\n",
      "-rw-r--r--   1 tsuyuhsia  staff   210664 Dec 27 09:31 pythonDataAnalysisChap10.ipynb\n",
      "-rw-r--r--   1 tsuyuhsia  staff   290781 Jan  4 09:18 pythonDataAnalysisChap11.ipynb\n",
      "-rw-r--r--   1 tsuyuhsia  staff    58024 Jan  8 11:45 pythonDataAnalysisChap12.ipynb\n",
      "-rw-r--r--   1 tsuyuhsia  staff    74524 Jan 10 09:31 pythonDataAnalysisChap13.ipynb\n",
      "-rw-r--r--   1 tsuyuhsia  staff   546522 Jan 15 09:16 pythonDataAnalysisChap14.ipynb\n",
      "-rw-r--r--   1 tsuyuhsia  staff    40149 Feb  2 10:10 pythonDataAnalysisChap2.ipynb\n",
      "-rw-r--r--   1 tsuyuhsia  staff    44269 Jan 22 09:52 pythonDataAnalysisChap3.ipynb\n",
      "-rw-r--r--   1 tsuyuhsia  staff   110676 Dec 21 14:56 pythonDataAnalysisChap4.ipynb\n",
      "-rw-r--r--   1 tsuyuhsia  staff   102818 Dec 18 09:22 pythonDataAnalysisChap5.ipynb\n",
      "-rw-r--r--   1 tsuyuhsia  staff    85224 Dec 19 09:20 pythonDataAnalysisChap6.ipynb\n",
      "-rw-r--r--   1 tsuyuhsia  staff   122820 Dec 20 17:18 pythonDataAnalysisChap7.ipynb\n",
      "-rw-r--r--   1 tsuyuhsia  staff   210962 Dec 22 17:06 pythonDataAnalysisChap8.ipynb\n",
      "-rw-r--r--   1 tsuyuhsia  staff  2422628 Dec 26 18:58 pythonDataAnalysisChap9.ipynb\n",
      "-rw-r--r--   1 tsuyuhsia  staff    18291 Dec 13 14:39 pythonPDnNPAxis.ipynb\n"
     ]
    }
   ],
   "source": [
    "ll ."
   ]
  },
  {
   "cell_type": "code",
   "execution_count": 19,
   "metadata": {},
   "outputs": [],
   "source": [
    "%alias test_alias (cd data; ls; cd ..)"
   ]
  },
  {
   "cell_type": "code",
   "execution_count": 20,
   "metadata": {},
   "outputs": [
    {
     "name": "stdout",
     "output_type": "stream",
     "text": [
      "/bin/sh: line 0: cd: data: No such file or directory\n",
      "__init__.py                       pythonDataAnalysisChap13.ipynb\n",
      "\u001b[34mdatasets\u001b[m\u001b[m                          pythonDataAnalysisChap14.ipynb\n",
      "\u001b[34mexamples\u001b[m\u001b[m                          pythonDataAnalysisChap2.ipynb\n",
      "mydata.h5                         pythonDataAnalysisChap3.ipynb\n",
      "mydata.sqlite                     pythonDataAnalysisChap4.ipynb\n",
      "mydata2.h5                        pythonDataAnalysisChap5.ipynb\n",
      "numpyPractice.py                  pythonDataAnalysisChap6.ipynb\n",
      "pythonDataAnalysisAppendixA.ipynb pythonDataAnalysisChap7.ipynb\n",
      "pythonDataAnalysisAppendixB.ipynb pythonDataAnalysisChap8.ipynb\n",
      "pythonDataAnalysisChap10.ipynb    pythonDataAnalysisChap9.ipynb\n",
      "pythonDataAnalysisChap11.ipynb    pythonPDnNPAxis.ipynb\n",
      "pythonDataAnalysisChap12.ipynb\n"
     ]
    }
   ],
   "source": [
    "test_alias"
   ]
  },
  {
   "cell_type": "markdown",
   "metadata": {},
   "source": [
    "#### Directory Bookmark System\n",
    "IPython has a simple directory bookmarking system to enable you to save aliases for common directories so that you can jump around very easily. For example, suppose you wanted to create a bookmark that points to the supplementary materials for this book:"
   ]
  },
  {
   "cell_type": "code",
   "execution_count": 21,
   "metadata": {},
   "outputs": [],
   "source": [
    "%bookmark py4da /Users/tsuyuhsia/Desktop/Python/numpyPractice"
   ]
  },
  {
   "cell_type": "code",
   "execution_count": 22,
   "metadata": {},
   "outputs": [
    {
     "name": "stdout",
     "output_type": "stream",
     "text": [
      "(bookmark:py4da) -> /Users/tsuyuhsia/Desktop/Python/numpyPractice\n",
      "/Users/tsuyuhsia/Desktop/Python/numpyPractice\n"
     ]
    }
   ],
   "source": [
    "cd py4da"
   ]
  },
  {
   "cell_type": "code",
   "execution_count": 23,
   "metadata": {},
   "outputs": [
    {
     "name": "stdout",
     "output_type": "stream",
     "text": [
      "Current bookmarks:\n",
      "py4da -> /Users/tsuyuhsia/Desktop/Python/numpyPractice\n"
     ]
    }
   ],
   "source": [
    "%bookmark -l"
   ]
  },
  {
   "cell_type": "markdown",
   "metadata": {},
   "source": [
    "#### Interactive Debugger"
   ]
  },
  {
   "cell_type": "code",
   "execution_count": 24,
   "metadata": {},
   "outputs": [
    {
     "ename": "AssertionError",
     "evalue": "",
     "output_type": "error",
     "traceback": [
      "\u001b[0;31m---------------------------------------------------------------------------\u001b[0m",
      "\u001b[0;31mAssertionError\u001b[0m                            Traceback (most recent call last)",
      "\u001b[0;32m~/Desktop/Python/numpyPractice/examples/ipython_bug.py\u001b[0m in \u001b[0;36m<module>\u001b[0;34m()\u001b[0m\n\u001b[1;32m     13\u001b[0m     \u001b[0mthrows_an_exception\u001b[0m\u001b[0;34m(\u001b[0m\u001b[0;34m)\u001b[0m\u001b[0;34m\u001b[0m\u001b[0m\n\u001b[1;32m     14\u001b[0m \u001b[0;34m\u001b[0m\u001b[0m\n\u001b[0;32m---> 15\u001b[0;31m \u001b[0mcalling_things\u001b[0m\u001b[0;34m(\u001b[0m\u001b[0;34m)\u001b[0m\u001b[0;34m\u001b[0m\u001b[0m\n\u001b[0m",
      "\u001b[0;32m~/Desktop/Python/numpyPractice/examples/ipython_bug.py\u001b[0m in \u001b[0;36mcalling_things\u001b[0;34m()\u001b[0m\n\u001b[1;32m     11\u001b[0m \u001b[0;32mdef\u001b[0m \u001b[0mcalling_things\u001b[0m\u001b[0;34m(\u001b[0m\u001b[0;34m)\u001b[0m\u001b[0;34m:\u001b[0m\u001b[0;34m\u001b[0m\u001b[0m\n\u001b[1;32m     12\u001b[0m     \u001b[0mworks_fine\u001b[0m\u001b[0;34m(\u001b[0m\u001b[0;34m)\u001b[0m\u001b[0;34m\u001b[0m\u001b[0m\n\u001b[0;32m---> 13\u001b[0;31m     \u001b[0mthrows_an_exception\u001b[0m\u001b[0;34m(\u001b[0m\u001b[0;34m)\u001b[0m\u001b[0;34m\u001b[0m\u001b[0m\n\u001b[0m\u001b[1;32m     14\u001b[0m \u001b[0;34m\u001b[0m\u001b[0m\n\u001b[1;32m     15\u001b[0m \u001b[0mcalling_things\u001b[0m\u001b[0;34m(\u001b[0m\u001b[0;34m)\u001b[0m\u001b[0;34m\u001b[0m\u001b[0m\n",
      "\u001b[0;32m~/Desktop/Python/numpyPractice/examples/ipython_bug.py\u001b[0m in \u001b[0;36mthrows_an_exception\u001b[0;34m()\u001b[0m\n\u001b[1;32m      7\u001b[0m     \u001b[0ma\u001b[0m \u001b[0;34m=\u001b[0m \u001b[0;36m5\u001b[0m\u001b[0;34m\u001b[0m\u001b[0m\n\u001b[1;32m      8\u001b[0m     \u001b[0mb\u001b[0m \u001b[0;34m=\u001b[0m \u001b[0;36m6\u001b[0m\u001b[0;34m\u001b[0m\u001b[0m\n\u001b[0;32m----> 9\u001b[0;31m     \u001b[0;32massert\u001b[0m\u001b[0;34m(\u001b[0m\u001b[0ma\u001b[0m \u001b[0;34m+\u001b[0m \u001b[0mb\u001b[0m \u001b[0;34m==\u001b[0m \u001b[0;36m10\u001b[0m\u001b[0;34m)\u001b[0m\u001b[0;34m\u001b[0m\u001b[0m\n\u001b[0m\u001b[1;32m     10\u001b[0m \u001b[0;34m\u001b[0m\u001b[0m\n\u001b[1;32m     11\u001b[0m \u001b[0;32mdef\u001b[0m \u001b[0mcalling_things\u001b[0m\u001b[0;34m(\u001b[0m\u001b[0;34m)\u001b[0m\u001b[0;34m:\u001b[0m\u001b[0;34m\u001b[0m\u001b[0m\n",
      "\u001b[0;31mAssertionError\u001b[0m: "
     ]
    }
   ],
   "source": [
    "run examples/ipython_bug.py"
   ]
  },
  {
   "cell_type": "code",
   "execution_count": 25,
   "metadata": {},
   "outputs": [
    {
     "name": "stdout",
     "output_type": "stream",
     "text": [
      "> \u001b[0;32m/Users/tsuyuhsia/Desktop/Python/numpyPractice/examples/ipython_bug.py\u001b[0m(9)\u001b[0;36mthrows_an_exception\u001b[0;34m()\u001b[0m\n",
      "\u001b[0;32m      7 \u001b[0;31m    \u001b[0ma\u001b[0m \u001b[0;34m=\u001b[0m \u001b[0;36m5\u001b[0m\u001b[0;34m\u001b[0m\u001b[0m\n",
      "\u001b[0m\u001b[0;32m      8 \u001b[0;31m    \u001b[0mb\u001b[0m \u001b[0;34m=\u001b[0m \u001b[0;36m6\u001b[0m\u001b[0;34m\u001b[0m\u001b[0m\n",
      "\u001b[0m\u001b[0;32m----> 9 \u001b[0;31m    \u001b[0;32massert\u001b[0m\u001b[0;34m(\u001b[0m\u001b[0ma\u001b[0m \u001b[0;34m+\u001b[0m \u001b[0mb\u001b[0m \u001b[0;34m==\u001b[0m \u001b[0;36m10\u001b[0m\u001b[0;34m)\u001b[0m\u001b[0;34m\u001b[0m\u001b[0m\n",
      "\u001b[0m\u001b[0;32m     10 \u001b[0;31m\u001b[0;34m\u001b[0m\u001b[0m\n",
      "\u001b[0m\u001b[0;32m     11 \u001b[0;31m\u001b[0;32mdef\u001b[0m \u001b[0mcalling_things\u001b[0m\u001b[0;34m(\u001b[0m\u001b[0;34m)\u001b[0m\u001b[0;34m:\u001b[0m\u001b[0;34m\u001b[0m\u001b[0m\n",
      "\u001b[0m\n",
      "ipdb> u\n",
      "> \u001b[0;32m/Users/tsuyuhsia/Desktop/Python/numpyPractice/examples/ipython_bug.py\u001b[0m(13)\u001b[0;36mcalling_things\u001b[0;34m()\u001b[0m\n",
      "\u001b[0;32m     11 \u001b[0;31m\u001b[0;32mdef\u001b[0m \u001b[0mcalling_things\u001b[0m\u001b[0;34m(\u001b[0m\u001b[0;34m)\u001b[0m\u001b[0;34m:\u001b[0m\u001b[0;34m\u001b[0m\u001b[0m\n",
      "\u001b[0m\u001b[0;32m     12 \u001b[0;31m    \u001b[0mworks_fine\u001b[0m\u001b[0;34m(\u001b[0m\u001b[0;34m)\u001b[0m\u001b[0;34m\u001b[0m\u001b[0m\n",
      "\u001b[0m\u001b[0;32m---> 13 \u001b[0;31m    \u001b[0mthrows_an_exception\u001b[0m\u001b[0;34m(\u001b[0m\u001b[0;34m)\u001b[0m\u001b[0;34m\u001b[0m\u001b[0m\n",
      "\u001b[0m\u001b[0;32m     14 \u001b[0;31m\u001b[0;34m\u001b[0m\u001b[0m\n",
      "\u001b[0m\u001b[0;32m     15 \u001b[0;31m\u001b[0mcalling_things\u001b[0m\u001b[0;34m(\u001b[0m\u001b[0;34m)\u001b[0m\u001b[0;34m\u001b[0m\u001b[0m\n",
      "\u001b[0m\n",
      "ipdb> q\n"
     ]
    }
   ],
   "source": [
    "# By pressing u (up) and d (down), you can switch between the levels of the stack trace\n",
    "%debug"
   ]
  },
  {
   "cell_type": "markdown",
   "metadata": {},
   "source": [
    "Executing the %pdb command makes it so that IPython automatically invokes the debugger after any exception, a mode that many users will find especially useful.\n",
    "\n",
    "It’s also easy to use the debugger to help develop code, especially when you wish to set breakpoints or step through the execution of a function or script to examine the state at each stage. There are several ways to accomplish this. The first is by using **%run with the -d flag**, which invokes the debugger before executing any code in the passed script. You must immediately press **s (step)** to enter the script:\n",
    "\n",
    "\n",
    "After this point, it’s up to you how you want to work your way through the file. For example, in the preceding exception, we could set a breakpoint right before calling the works_fine method and run the script until we reach the breakpoint by pressing **c (continue)**:\n",
    "\n",
    "At this point, you can step into works_fine() or execute works_fine() by pressing **n (next)** to advance to the next line:"
   ]
  },
  {
   "cell_type": "code",
   "execution_count": 26,
   "metadata": {},
   "outputs": [
    {
     "name": "stdout",
     "output_type": "stream",
     "text": [
      "Breakpoint 1 at /Users/tsuyuhsia/Desktop/Python/numpyPractice/examples/ipython_bug.py:1\n",
      "NOTE: Enter 'c' at the ipdb>  prompt to continue execution.\n",
      "> \u001b[0;32m/Users/tsuyuhsia/Desktop/Python/numpyPractice/examples/ipython_bug.py\u001b[0m(1)\u001b[0;36m<module>\u001b[0;34m()\u001b[0m\n",
      "\u001b[1;31m1\u001b[0;32m---> 1 \u001b[0;31m\u001b[0;32mdef\u001b[0m \u001b[0mworks_fine\u001b[0m\u001b[0;34m(\u001b[0m\u001b[0;34m)\u001b[0m\u001b[0;34m:\u001b[0m\u001b[0;34m\u001b[0m\u001b[0m\n",
      "\u001b[0m\u001b[0;32m      2 \u001b[0;31m    \u001b[0ma\u001b[0m \u001b[0;34m=\u001b[0m \u001b[0;36m5\u001b[0m\u001b[0;34m\u001b[0m\u001b[0m\n",
      "\u001b[0m\u001b[0;32m      3 \u001b[0;31m    \u001b[0mb\u001b[0m \u001b[0;34m=\u001b[0m \u001b[0;36m6\u001b[0m\u001b[0;34m\u001b[0m\u001b[0m\n",
      "\u001b[0m\u001b[0;32m      4 \u001b[0;31m    \u001b[0;32massert\u001b[0m\u001b[0;34m(\u001b[0m\u001b[0ma\u001b[0m \u001b[0;34m+\u001b[0m \u001b[0mb\u001b[0m \u001b[0;34m==\u001b[0m \u001b[0;36m11\u001b[0m\u001b[0;34m)\u001b[0m\u001b[0;34m\u001b[0m\u001b[0m\n",
      "\u001b[0m\u001b[0;32m      5 \u001b[0;31m\u001b[0;34m\u001b[0m\u001b[0m\n",
      "\u001b[0m\n",
      "ipdb> b 12\n",
      "Breakpoint 2 at /Users/tsuyuhsia/Desktop/Python/numpyPractice/examples/ipython_bug.py:12\n",
      "ipdb> c\n",
      "> \u001b[0;32m/Users/tsuyuhsia/Desktop/Python/numpyPractice/examples/ipython_bug.py\u001b[0m(12)\u001b[0;36mcalling_things\u001b[0;34m()\u001b[0m\n",
      "\u001b[0;32m     10 \u001b[0;31m\u001b[0;34m\u001b[0m\u001b[0m\n",
      "\u001b[0m\u001b[0;32m     11 \u001b[0;31m\u001b[0;32mdef\u001b[0m \u001b[0mcalling_things\u001b[0m\u001b[0;34m(\u001b[0m\u001b[0;34m)\u001b[0m\u001b[0;34m:\u001b[0m\u001b[0;34m\u001b[0m\u001b[0m\n",
      "\u001b[0m\u001b[1;31m2\u001b[0;32m--> 12 \u001b[0;31m    \u001b[0mworks_fine\u001b[0m\u001b[0;34m(\u001b[0m\u001b[0;34m)\u001b[0m\u001b[0;34m\u001b[0m\u001b[0m\n",
      "\u001b[0m\u001b[0;32m     13 \u001b[0;31m    \u001b[0mthrows_an_exception\u001b[0m\u001b[0;34m(\u001b[0m\u001b[0;34m)\u001b[0m\u001b[0;34m\u001b[0m\u001b[0m\n",
      "\u001b[0m\u001b[0;32m     14 \u001b[0;31m\u001b[0;34m\u001b[0m\u001b[0m\n",
      "\u001b[0m\n",
      "ipdb> !a\n",
      "*** NameError: name 'a' is not defined\n",
      "ipdb> n\n",
      "> \u001b[0;32m/Users/tsuyuhsia/Desktop/Python/numpyPractice/examples/ipython_bug.py\u001b[0m(13)\u001b[0;36mcalling_things\u001b[0;34m()\u001b[0m\n",
      "\u001b[0;32m     11 \u001b[0;31m\u001b[0;32mdef\u001b[0m \u001b[0mcalling_things\u001b[0m\u001b[0;34m(\u001b[0m\u001b[0;34m)\u001b[0m\u001b[0;34m:\u001b[0m\u001b[0;34m\u001b[0m\u001b[0m\n",
      "\u001b[0m\u001b[1;31m2\u001b[0;32m    12 \u001b[0;31m    \u001b[0mworks_fine\u001b[0m\u001b[0;34m(\u001b[0m\u001b[0;34m)\u001b[0m\u001b[0;34m\u001b[0m\u001b[0m\n",
      "\u001b[0m\u001b[0;32m---> 13 \u001b[0;31m    \u001b[0mthrows_an_exception\u001b[0m\u001b[0;34m(\u001b[0m\u001b[0;34m)\u001b[0m\u001b[0;34m\u001b[0m\u001b[0m\n",
      "\u001b[0m\u001b[0;32m     14 \u001b[0;31m\u001b[0;34m\u001b[0m\u001b[0m\n",
      "\u001b[0m\u001b[0;32m     15 \u001b[0;31m\u001b[0mcalling_things\u001b[0m\u001b[0;34m(\u001b[0m\u001b[0;34m)\u001b[0m\u001b[0;34m\u001b[0m\u001b[0m\n",
      "\u001b[0m\n",
      "ipdb> q\n"
     ]
    }
   ],
   "source": [
    "run -d examples/ipython_bug.py"
   ]
  },
  {
   "cell_type": "markdown",
   "metadata": {},
   "source": [
    "<h4 style='text-align:center;'>Table B-2. (I)Python debugger commands</h4>\n",
    "\n",
    "Command  |  Action\n",
    ":-:|:- \n",
    "h(elp)|Display command list\n",
    "help command|Show documentation for command\n",
    "c(ontinue)|Resume program execution\n",
    "q(uit)|Exit debugger without executing any more code\n",
    "b(reak) number|Set breakpoint at number in current file\n",
    "bpath/to/file.py:number|Set breakpoint at linenumberin specifed file\n",
    "s(tep)|Step into function call\n",
    "n(ext)|Execute current line and advance to next line at current level \n",
    "u(p)/d(own)|Move up/down in function call stack\n",
    "a(rgs)|Show arguments for current function\n",
    "debug statement|Invoke statement statement in new (recursive) debugger\n",
    "l(ist) statement|Show current position and context at current level of stack\n",
    "w(here)|Print full stack trace with context at current position"
   ]
  },
  {
   "cell_type": "markdown",
   "metadata": {},
   "source": [
    "#### Other ways to make use of the debugger\n",
    "There are a couple of other useful ways to invoke the debugger. The first is by using a special set_trace function (named after pdb.set_trace), which is basically a “poor man’s breakpoint.” Here are two small recipes you might want to put somewhere for your general use (potentially adding them to your IPython profile as I do):"
   ]
  },
  {
   "cell_type": "code",
   "execution_count": 27,
   "metadata": {},
   "outputs": [],
   "source": [
    "from IPython.core.debugger import Pdb \n",
    "def set_trace():\n",
    "    Pdb(color_scheme='Linux').set_trace(sys._getframe().f_back)\n",
    "\n",
    "def debug(f, *args, **kwargs):\n",
    "    pdb = Pdb(color_scheme='Linux') \n",
    "    return pdb.runcall(f, *args, **kwargs)"
   ]
  },
  {
   "cell_type": "code",
   "execution_count": 28,
   "metadata": {},
   "outputs": [
    {
     "name": "stdout",
     "output_type": "stream",
     "text": [
      "Breakpoint 1 at /Users/tsuyuhsia/Desktop/Python/numpyPractice/examples/ipython_bug.py:2\n",
      "NOTE: Enter 'c' at the ipdb>  prompt to continue execution.\n",
      "> \u001b[0;32m/Users/tsuyuhsia/Desktop/Python/numpyPractice/examples/ipython_bug.py\u001b[0m(1)\u001b[0;36m<module>\u001b[0;34m()\u001b[0m\n",
      "\u001b[0;32m----> 1 \u001b[0;31m\u001b[0;32mdef\u001b[0m \u001b[0mworks_fine\u001b[0m\u001b[0;34m(\u001b[0m\u001b[0;34m)\u001b[0m\u001b[0;34m:\u001b[0m\u001b[0;34m\u001b[0m\u001b[0m\n",
      "\u001b[0m\u001b[1;31m1\u001b[0;32m     2 \u001b[0;31m    \u001b[0ma\u001b[0m \u001b[0;34m=\u001b[0m \u001b[0;36m5\u001b[0m\u001b[0;34m\u001b[0m\u001b[0m\n",
      "\u001b[0m\u001b[0;32m      3 \u001b[0;31m    \u001b[0mb\u001b[0m \u001b[0;34m=\u001b[0m \u001b[0;36m6\u001b[0m\u001b[0;34m\u001b[0m\u001b[0m\n",
      "\u001b[0m\u001b[0;32m      4 \u001b[0;31m    \u001b[0;32massert\u001b[0m\u001b[0;34m(\u001b[0m\u001b[0ma\u001b[0m \u001b[0;34m+\u001b[0m \u001b[0mb\u001b[0m \u001b[0;34m==\u001b[0m \u001b[0;36m11\u001b[0m\u001b[0;34m)\u001b[0m\u001b[0;34m\u001b[0m\u001b[0m\n",
      "\u001b[0m\u001b[0;32m      5 \u001b[0;31m\u001b[0;34m\u001b[0m\u001b[0m\n",
      "\u001b[0m\n",
      "ipdb> s\n",
      "> \u001b[0;32m/Users/tsuyuhsia/Desktop/Python/numpyPractice/examples/ipython_bug.py\u001b[0m(6)\u001b[0;36m<module>\u001b[0;34m()\u001b[0m\n",
      "\u001b[0;32m      4 \u001b[0;31m    \u001b[0;32massert\u001b[0m\u001b[0;34m(\u001b[0m\u001b[0ma\u001b[0m \u001b[0;34m+\u001b[0m \u001b[0mb\u001b[0m \u001b[0;34m==\u001b[0m \u001b[0;36m11\u001b[0m\u001b[0;34m)\u001b[0m\u001b[0;34m\u001b[0m\u001b[0m\n",
      "\u001b[0m\u001b[0;32m      5 \u001b[0;31m\u001b[0;34m\u001b[0m\u001b[0m\n",
      "\u001b[0m\u001b[0;32m----> 6 \u001b[0;31m\u001b[0;32mdef\u001b[0m \u001b[0mthrows_an_exception\u001b[0m\u001b[0;34m(\u001b[0m\u001b[0;34m)\u001b[0m\u001b[0;34m:\u001b[0m\u001b[0;34m\u001b[0m\u001b[0m\n",
      "\u001b[0m\u001b[0;32m      7 \u001b[0;31m    \u001b[0ma\u001b[0m \u001b[0;34m=\u001b[0m \u001b[0;36m5\u001b[0m\u001b[0;34m\u001b[0m\u001b[0m\n",
      "\u001b[0m\u001b[0;32m      8 \u001b[0;31m    \u001b[0mb\u001b[0m \u001b[0;34m=\u001b[0m \u001b[0;36m6\u001b[0m\u001b[0;34m\u001b[0m\u001b[0m\n",
      "\u001b[0m\n",
      "ipdb> s\n",
      "> \u001b[0;32m/Users/tsuyuhsia/Desktop/Python/numpyPractice/examples/ipython_bug.py\u001b[0m(11)\u001b[0;36m<module>\u001b[0;34m()\u001b[0m\n",
      "\u001b[0;32m      9 \u001b[0;31m    \u001b[0;32massert\u001b[0m\u001b[0;34m(\u001b[0m\u001b[0ma\u001b[0m \u001b[0;34m+\u001b[0m \u001b[0mb\u001b[0m \u001b[0;34m==\u001b[0m \u001b[0;36m10\u001b[0m\u001b[0;34m)\u001b[0m\u001b[0;34m\u001b[0m\u001b[0m\n",
      "\u001b[0m\u001b[0;32m     10 \u001b[0;31m\u001b[0;34m\u001b[0m\u001b[0m\n",
      "\u001b[0m\u001b[0;32m---> 11 \u001b[0;31m\u001b[0;32mdef\u001b[0m \u001b[0mcalling_things\u001b[0m\u001b[0;34m(\u001b[0m\u001b[0;34m)\u001b[0m\u001b[0;34m:\u001b[0m\u001b[0;34m\u001b[0m\u001b[0m\n",
      "\u001b[0m\u001b[0;32m     12 \u001b[0;31m    \u001b[0mworks_fine\u001b[0m\u001b[0;34m(\u001b[0m\u001b[0;34m)\u001b[0m\u001b[0;34m\u001b[0m\u001b[0m\n",
      "\u001b[0m\u001b[0;32m     13 \u001b[0;31m    \u001b[0mthrows_an_exception\u001b[0m\u001b[0;34m(\u001b[0m\u001b[0;34m)\u001b[0m\u001b[0;34m\u001b[0m\u001b[0m\n",
      "\u001b[0m\n",
      "ipdb> u\n",
      "> \u001b[0;32m/usr/local/lib/python3.6/site-packages/IPython/utils/py3compat.py\u001b[0m(186)\u001b[0;36mexecfile\u001b[0;34m()\u001b[0m\n",
      "\u001b[0;32m    184 \u001b[0;31m        \u001b[0;32mwith\u001b[0m \u001b[0mopen\u001b[0m\u001b[0;34m(\u001b[0m\u001b[0mfname\u001b[0m\u001b[0;34m,\u001b[0m \u001b[0;34m'rb'\u001b[0m\u001b[0;34m)\u001b[0m \u001b[0;32mas\u001b[0m \u001b[0mf\u001b[0m\u001b[0;34m:\u001b[0m\u001b[0;34m\u001b[0m\u001b[0m\n",
      "\u001b[0m\u001b[0;32m    185 \u001b[0;31m            \u001b[0mcompiler\u001b[0m \u001b[0;34m=\u001b[0m \u001b[0mcompiler\u001b[0m \u001b[0;32mor\u001b[0m \u001b[0mcompile\u001b[0m\u001b[0;34m\u001b[0m\u001b[0m\n",
      "\u001b[0m\u001b[0;32m--> 186 \u001b[0;31m            \u001b[0mexec\u001b[0m\u001b[0;34m(\u001b[0m\u001b[0mcompiler\u001b[0m\u001b[0;34m(\u001b[0m\u001b[0mf\u001b[0m\u001b[0;34m.\u001b[0m\u001b[0mread\u001b[0m\u001b[0;34m(\u001b[0m\u001b[0;34m)\u001b[0m\u001b[0;34m,\u001b[0m \u001b[0mfname\u001b[0m\u001b[0;34m,\u001b[0m \u001b[0;34m'exec'\u001b[0m\u001b[0;34m)\u001b[0m\u001b[0;34m,\u001b[0m \u001b[0mglob\u001b[0m\u001b[0;34m,\u001b[0m \u001b[0mloc\u001b[0m\u001b[0;34m)\u001b[0m\u001b[0;34m\u001b[0m\u001b[0m\n",
      "\u001b[0m\u001b[0;32m    187 \u001b[0;31m\u001b[0;34m\u001b[0m\u001b[0m\n",
      "\u001b[0m\u001b[0;32m    188 \u001b[0;31m    \u001b[0;31m# Refactor print statements in doctests.\u001b[0m\u001b[0;34m\u001b[0m\u001b[0;34m\u001b[0m\u001b[0m\n",
      "\u001b[0m\n",
      "ipdb> n\n",
      "> \u001b[0;32m/Users/tsuyuhsia/Desktop/Python/numpyPractice/examples/ipython_bug.py\u001b[0m(2)\u001b[0;36mworks_fine\u001b[0;34m()\u001b[0m\n",
      "\u001b[0;32m      1 \u001b[0;31m\u001b[0;32mdef\u001b[0m \u001b[0mworks_fine\u001b[0m\u001b[0;34m(\u001b[0m\u001b[0;34m)\u001b[0m\u001b[0;34m:\u001b[0m\u001b[0;34m\u001b[0m\u001b[0m\n",
      "\u001b[0m\u001b[1;31m1\u001b[0;32m---> 2 \u001b[0;31m    \u001b[0ma\u001b[0m \u001b[0;34m=\u001b[0m \u001b[0;36m5\u001b[0m\u001b[0;34m\u001b[0m\u001b[0m\n",
      "\u001b[0m\u001b[0;32m      3 \u001b[0;31m    \u001b[0mb\u001b[0m \u001b[0;34m=\u001b[0m \u001b[0;36m6\u001b[0m\u001b[0;34m\u001b[0m\u001b[0m\n",
      "\u001b[0m\u001b[0;32m      4 \u001b[0;31m    \u001b[0;32massert\u001b[0m\u001b[0;34m(\u001b[0m\u001b[0ma\u001b[0m \u001b[0;34m+\u001b[0m \u001b[0mb\u001b[0m \u001b[0;34m==\u001b[0m \u001b[0;36m11\u001b[0m\u001b[0;34m)\u001b[0m\u001b[0;34m\u001b[0m\u001b[0m\n",
      "\u001b[0m\u001b[0;32m      5 \u001b[0;31m\u001b[0;34m\u001b[0m\u001b[0m\n",
      "\u001b[0m\n",
      "ipdb> n\n",
      "> \u001b[0;32m/Users/tsuyuhsia/Desktop/Python/numpyPractice/examples/ipython_bug.py\u001b[0m(3)\u001b[0;36mworks_fine\u001b[0;34m()\u001b[0m\n",
      "\u001b[0;32m      1 \u001b[0;31m\u001b[0;32mdef\u001b[0m \u001b[0mworks_fine\u001b[0m\u001b[0;34m(\u001b[0m\u001b[0;34m)\u001b[0m\u001b[0;34m:\u001b[0m\u001b[0;34m\u001b[0m\u001b[0m\n",
      "\u001b[0m\u001b[1;31m1\u001b[0;32m     2 \u001b[0;31m    \u001b[0ma\u001b[0m \u001b[0;34m=\u001b[0m \u001b[0;36m5\u001b[0m\u001b[0;34m\u001b[0m\u001b[0m\n",
      "\u001b[0m\u001b[0;32m----> 3 \u001b[0;31m    \u001b[0mb\u001b[0m \u001b[0;34m=\u001b[0m \u001b[0;36m6\u001b[0m\u001b[0;34m\u001b[0m\u001b[0m\n",
      "\u001b[0m\u001b[0;32m      4 \u001b[0;31m    \u001b[0;32massert\u001b[0m\u001b[0;34m(\u001b[0m\u001b[0ma\u001b[0m \u001b[0;34m+\u001b[0m \u001b[0mb\u001b[0m \u001b[0;34m==\u001b[0m \u001b[0;36m11\u001b[0m\u001b[0;34m)\u001b[0m\u001b[0;34m\u001b[0m\u001b[0m\n",
      "\u001b[0m\u001b[0;32m      5 \u001b[0;31m\u001b[0;34m\u001b[0m\u001b[0m\n",
      "\u001b[0m\n",
      "ipdb> n\n",
      "> \u001b[0;32m/Users/tsuyuhsia/Desktop/Python/numpyPractice/examples/ipython_bug.py\u001b[0m(4)\u001b[0;36mworks_fine\u001b[0;34m()\u001b[0m\n",
      "\u001b[1;31m1\u001b[0;32m     2 \u001b[0;31m    \u001b[0ma\u001b[0m \u001b[0;34m=\u001b[0m \u001b[0;36m5\u001b[0m\u001b[0;34m\u001b[0m\u001b[0m\n",
      "\u001b[0m\u001b[0;32m      3 \u001b[0;31m    \u001b[0mb\u001b[0m \u001b[0;34m=\u001b[0m \u001b[0;36m6\u001b[0m\u001b[0;34m\u001b[0m\u001b[0m\n",
      "\u001b[0m\u001b[0;32m----> 4 \u001b[0;31m    \u001b[0;32massert\u001b[0m\u001b[0;34m(\u001b[0m\u001b[0ma\u001b[0m \u001b[0;34m+\u001b[0m \u001b[0mb\u001b[0m \u001b[0;34m==\u001b[0m \u001b[0;36m11\u001b[0m\u001b[0;34m)\u001b[0m\u001b[0;34m\u001b[0m\u001b[0m\n",
      "\u001b[0m\u001b[0;32m      5 \u001b[0;31m\u001b[0;34m\u001b[0m\u001b[0m\n",
      "\u001b[0m\u001b[0;32m      6 \u001b[0;31m\u001b[0;32mdef\u001b[0m \u001b[0mthrows_an_exception\u001b[0m\u001b[0;34m(\u001b[0m\u001b[0;34m)\u001b[0m\u001b[0;34m:\u001b[0m\u001b[0;34m\u001b[0m\u001b[0m\n",
      "\u001b[0m\n",
      "ipdb> !a\n",
      "5\n",
      "ipdb> !b\n",
      "6\n",
      "ipdb> q\n"
     ]
    }
   ],
   "source": [
    "# Adding -b with a line number starts the debugger with a breakpoint set already:\n",
    "%run -d -b2 examples/ipython_bug.py"
   ]
  },
  {
   "cell_type": "markdown",
   "metadata": {},
   "source": [
    "#### Timing Code: %time and %timeit"
   ]
  },
  {
   "cell_type": "raw",
   "metadata": {},
   "source": [
    "import time\n",
    "start = time.time()\n",
    "for i in range(iterations):\n",
    "    # some code to run here\n",
    "elapsed_per = (time.time() - start) / iterations"
   ]
  },
  {
   "cell_type": "code",
   "execution_count": 29,
   "metadata": {},
   "outputs": [],
   "source": [
    "strings = ['foo', 'foobar', 'baz', 'qux', 'python', 'Guido Van Rossum'] * 100000"
   ]
  },
  {
   "cell_type": "markdown",
   "metadata": {},
   "source": [
    "The Wall time (short for “wall-clock time”) is the main number of interest. So, it looks like the first method takes more than twice as long, but it’s not a very precise measurement. If you try %time-ing those statements multiple times yourself, you’ll find that the results are somewhat variable. To get a more precise measurement, use the %timeit magic function. Given an arbitrary statement, it has a heuristic to run a statement multiple times to produce a more accurate average runtime:"
   ]
  },
  {
   "cell_type": "code",
   "execution_count": 30,
   "metadata": {},
   "outputs": [
    {
     "name": "stdout",
     "output_type": "stream",
     "text": [
      "CPU times: user 155 ms, sys: 4.08 ms, total: 159 ms\n",
      "Wall time: 160 ms\n"
     ]
    }
   ],
   "source": [
    "%time method1 = [x for x in strings if x.startswith('foo')]"
   ]
  },
  {
   "cell_type": "code",
   "execution_count": 31,
   "metadata": {},
   "outputs": [
    {
     "name": "stdout",
     "output_type": "stream",
     "text": [
      "168 ms ± 12.4 ms per loop (mean ± std. dev. of 7 runs, 10 loops each)\n"
     ]
    }
   ],
   "source": [
    "%timeit [x for x in strings if x.startswith('foo')]"
   ]
  },
  {
   "cell_type": "code",
   "execution_count": 32,
   "metadata": {},
   "outputs": [
    {
     "name": "stdout",
     "output_type": "stream",
     "text": [
      "CPU times: user 129 ms, sys: 8.1 ms, total: 137 ms\n",
      "Wall time: 163 ms\n"
     ]
    }
   ],
   "source": [
    "%time method2 = [x for x in strings if x[:3] == 'foo']"
   ]
  },
  {
   "cell_type": "code",
   "execution_count": 33,
   "metadata": {},
   "outputs": [
    {
     "name": "stdout",
     "output_type": "stream",
     "text": [
      "109 ms ± 6.54 ms per loop (mean ± std. dev. of 7 runs, 10 loops each)\n"
     ]
    }
   ],
   "source": [
    "%timeit [x for x in strings if x[:3] == 'foo']"
   ]
  },
  {
   "cell_type": "markdown",
   "metadata": {},
   "source": [
    "#### Basic Pro ling: %prun and %run -p\n",
    "Profiling code is closely related to timing code, except it is concerned with determin‐ ing where time is spent. The main Python profiling tool is the cProfile module, which is not specific to IPython at all. cProfile executes a program or any arbitrary block of code while keeping track of how much time is spent in each function.\n",
    "\n",
    "A common way to use cProfile is on the command line, running an entire program and outputting the aggregated time per function. Suppose we had a simple script that does some linear algebra in a loop (computing the maximum absolute eigenvalues of a series of 100 × 100 matrices):"
   ]
  },
  {
   "cell_type": "code",
   "execution_count": 34,
   "metadata": {},
   "outputs": [
    {
     "name": "stdout",
     "output_type": "stream",
     "text": [
      "Traceback (most recent call last):\n",
      "  File \"/usr/local/Cellar/python3/3.6.4_2/Frameworks/Python.framework/Versions/3.6/lib/python3.6/runpy.py\", line 193, in _run_module_as_main\n",
      "    \"__main__\", mod_spec)\n",
      "  File \"/usr/local/Cellar/python3/3.6.4_2/Frameworks/Python.framework/Versions/3.6/lib/python3.6/runpy.py\", line 85, in _run_code\n",
      "    exec(code, run_globals)\n",
      "  File \"/usr/local/Cellar/python3/3.6.4_2/Frameworks/Python.framework/Versions/3.6/lib/python3.6/cProfile.py\", line 160, in <module>\n",
      "    main()\n",
      "  File \"/usr/local/Cellar/python3/3.6.4_2/Frameworks/Python.framework/Versions/3.6/lib/python3.6/cProfile.py\", line 146, in main\n",
      "    code = compile(fp.read(), progname, 'exec')\n",
      "  File \"examples/cprof_example.py\", line 12\n",
      "    print 'Largest one we saw: %s' % np.max(some_results)\n",
      "                                 ^\n",
      "SyntaxError: invalid syntax\n"
     ]
    }
   ],
   "source": [
    "!python -m cProfile examples/cprof_example.py"
   ]
  },
  {
   "cell_type": "markdown",
   "metadata": {},
   "source": [
    "If you try that, you’ll find that the output is sorted by function name. This makes it a bit hard to get an idea of where the most time is spent, so it’s very common to specify a sort order using the -s flag:"
   ]
  },
  {
   "cell_type": "code",
   "execution_count": 35,
   "metadata": {},
   "outputs": [
    {
     "name": "stdout",
     "output_type": "stream",
     "text": [
      "Largest one we saw: 10.6014372533\n",
      "         10595 function calls (10507 primitive calls) in 0.815 seconds\n",
      "\n",
      "   Ordered by: cumulative time\n",
      "\n",
      "   ncalls  tottime  percall  cumtime  percall filename:lineno(function)\n",
      "        3    0.234    0.078    0.853    0.284 __init__.py:1(<module>)\n",
      "        1    0.006    0.006    0.817    0.817 cprof_example.py:1(<module>)\n",
      "        1    0.051    0.051    0.785    0.785 __init__.py:106(<module>)\n",
      "        1    0.004    0.004    0.537    0.537 add_newdocs.py:10(<module>)\n",
      "        1    0.008    0.008    0.322    0.322 type_check.py:3(<module>)\n",
      "        1    0.039    0.039    0.097    0.097 __init__.py:15(<module>)\n",
      "        1    0.016    0.016    0.089    0.089 __init__.py:7(<module>)\n",
      "        1    0.031    0.031    0.071    0.071 numeric.py:1(<module>)\n",
      "        1    0.021    0.021    0.064    0.064 __init__.py:45(<module>)\n",
      "        1    0.018    0.018    0.045    0.045 index_tricks.py:1(<module>)\n",
      "        1    0.026    0.026    0.039    0.039 npyio.py:1(<module>)\n",
      "        1    0.037    0.037    0.037    0.037 __init__.py:88(<module>)\n",
      "        1    0.003    0.003    0.029    0.029 polynomial.py:4(<module>)\n",
      "        1    0.000    0.000    0.026    0.026 cprof_example.py:3(run_experiment)\n",
      "        1    0.008    0.008    0.026    0.026 __init__.py:44(<module>)\n",
      "        1    0.017    0.017    0.026    0.026 collections.py:1(<module>)\n",
      "        1    0.021    0.021    0.025    0.025 __init__.py:38(<module>)\n",
      "        1    0.023    0.023    0.024    0.024 linalg.py:819(eigvals)\n",
      "        2    0.020    0.010    0.021    0.011 function_base.py:1(<module>)\n",
      "        1    0.006    0.006    0.021    0.021 ctypeslib.py:51(<module>)\n",
      "        1    0.019    0.019    0.020    0.020 polynomial.py:55(<module>)\n",
      "        1    0.016    0.016    0.018    0.018 case.py:1(<module>)\n",
      "        1    0.018    0.018    0.018    0.018 linalg.py:10(<module>)\n",
      "        1    0.014    0.014    0.015    0.015 __init__.py:4(<module>)\n",
      "        1    0.011    0.011    0.013    0.013 result.py:1(<module>)\n",
      "        1    0.012    0.012    0.012    0.012 arrayprint.py:5(<module>)\n",
      "        1    0.008    0.008    0.012    0.012 _datasource.py:33(<module>)\n",
      "      275    0.008    0.000    0.010    0.000 function_base.py:2940(add_newdoc)\n",
      "        1    0.009    0.009    0.009    0.009 heapq.py:31(<module>)\n",
      "        1    0.008    0.008    0.009    0.009 hermite_e.py:59(<module>)\n",
      "        1    0.008    0.008    0.008    0.008 utils.py:4(<module>)\n",
      "        1    0.008    0.008    0.008    0.008 fftpack.py:32(<module>)\n",
      "        1    0.006    0.006    0.008    0.008 hermite.py:59(<module>)\n",
      "        1    0.006    0.006    0.008    0.008 legendre.py:83(<module>)\n",
      "        1    0.006    0.006    0.008    0.008 chebyshev.py:87(<module>)\n",
      "        6    0.000    0.000    0.007    0.001 string.py:148(substitute)\n",
      "        1    0.001    0.001    0.007    0.007 _internal.py:6(<module>)\n",
      "        6    0.006    0.001    0.007    0.001 {method 'sub' of '_sre.SRE_Pattern' objects}\n",
      "        1    0.001    0.001    0.007    0.007 main.py:1(<module>)\n",
      "        1    0.006    0.006    0.006    0.006 runner.py:1(<module>)\n",
      "       13    0.000    0.000    0.006    0.000 re.py:192(compile)\n",
      "       13    0.000    0.000    0.006    0.000 re.py:230(_compile)\n",
      "       11    0.000    0.000    0.006    0.001 sre_compile.py:567(compile)\n",
      "        1    0.005    0.005    0.005    0.005 __init__.py:3(<module>)\n",
      "        1    0.004    0.004    0.005    0.005 laguerre.py:59(<module>)\n",
      "        1    0.002    0.002    0.005    0.005 numerictypes.py:82(<module>)\n",
      "        1    0.004    0.004    0.005    0.005 loader.py:1(<module>)\n",
      "        1    0.004    0.004    0.004    0.004 shutil.py:5(<module>)\n",
      "        1    0.004    0.004    0.004    0.004 __init__.py:10(<module>)\n",
      "        1    0.001    0.001    0.003    0.003 core.py:21(<module>)\n",
      "       11    0.000    0.000    0.003    0.000 sre_parse.py:706(parse)\n",
      "       11    0.000    0.000    0.003    0.000 sre_compile.py:552(_code)\n",
      "    17/11    0.000    0.000    0.003    0.000 sre_parse.py:317(_parse_sub)\n",
      "    17/11    0.001    0.000    0.002    0.000 sre_parse.py:395(_parse)\n",
      "        2    0.002    0.001    0.002    0.001 collections.py:293(namedtuple)\n",
      "    38/11    0.001    0.000    0.002    0.000 sre_compile.py:64(_compile)\n",
      "        1    0.002    0.002    0.002    0.002 {method 'randn' of 'mtrand.RandomState' objects}\n",
      "        1    0.002    0.002    0.002    0.002 scimath.py:17(<module>)\n",
      "        1    0.000    0.000    0.002    0.002 difflib.py:27(<module>)\n",
      "        1    0.000    0.000    0.001    0.001 linalg.py:214(_assertFinite)\n",
      "        2    0.000    0.000    0.001    0.001 {method 'all' of 'numpy.ndarray' objects}\n",
      "        4    0.001    0.000    0.001    0.000 {method 'reduce' of 'numpy.ufunc' objects}\n",
      "        2    0.000    0.000    0.001    0.001 _methods.py:35(_all)\n",
      "        1    0.000    0.000    0.001    0.001 util.py:1(<module>)\n",
      "      666    0.001    0.000    0.001    0.000 string.py:162(convert)\n",
      "       40    0.000    0.000    0.001    0.000 core.py:109(get_object_signature)\n",
      "        1    0.000    0.000    0.001    0.001 utils.py:1(<module>)\n",
      "        1    0.001    0.001    0.001    0.001 numerictypes.py:458(_set_array_types)\n",
      "       23    0.000    0.000    0.001    0.000 core.py:5983(__init__)\n",
      "        3    0.000    0.000    0.001    0.000 warnings.py:49(filterwarnings)\n",
      "       23    0.000    0.000    0.001    0.000 core.py:5988(getdoc)\n",
      "       15    0.000    0.000    0.001    0.000 sre_compile.py:228(_compile_charset)\n",
      "        1    0.001    0.001    0.001    0.001 fromnumeric.py:3(<module>)\n",
      "        1    0.000    0.000    0.001    0.001 numeric.py:2716(_setdef)\n",
      "        3    0.001    0.000    0.001    0.000 {numpy.core.umath.seterrobj}\n",
      "      243    0.000    0.000    0.001    0.000 sre_parse.py:212(get)\n",
      "        1    0.000    0.000    0.001    0.001 defmatrix.py:1(<module>)\n",
      "       15    0.000    0.000    0.001    0.000 sre_compile.py:256(_optimize_charset)\n",
      "      285    0.001    0.000    0.001    0.000 sre_parse.py:193(__next)\n",
      "        1    0.000    0.000    0.001    0.001 numerictypes.py:304(_add_aliases)\n",
      "        1    0.000    0.000    0.001    0.001 extras.py:10(<module>)\n",
      "       31    0.000    0.000    0.001    0.000 _inspect.py:159(formatargspec)\n",
      "       40    0.000    0.000    0.000    0.000 _inspect.py:120(getargspec)\n",
      "       11    0.000    0.000    0.000    0.000 sre_compile.py:433(_compile_info)\n",
      "      410    0.000    0.000    0.000    0.000 {getattr}\n",
      "       19    0.000    0.000    0.000    0.000 nosetester.py:140(__init__)\n",
      "      932    0.000    0.000    0.000    0.000 {isinstance}\n",
      "        3    0.000    0.000    0.000    0.000 numeric.py:346(extend_all)\n",
      "       40    0.000    0.000    0.000    0.000 {numpy.core.multiarray.array}\n",
      "       21    0.000    0.000    0.000    0.000 {numpy.core.multiarray.empty}\n",
      "        1    0.000    0.000    0.000    0.000 _iotools.py:3(<module>)\n",
      "        1    0.000    0.000    0.000    0.000 arrayterator.py:9(<module>)\n",
      "    59/32    0.000    0.000    0.000    0.000 sre_parse.py:151(getwidth)\n",
      "        1    0.000    0.000    0.000    0.000 nosetester.py:6(<module>)\n",
      "        1    0.000    0.000    0.000    0.000 core.py:2563(MaskedArray)\n",
      "        9    0.000    0.000    0.000    0.000 extras.py:241(__init__)\n",
      "      145    0.000    0.000    0.000    0.000 sre_parse.py:141(__getitem__)\n",
      "        1    0.000    0.000    0.000    0.000 records.py:36(<module>)\n",
      "        9    0.000    0.000    0.000    0.000 extras.py:245(getdoc)\n",
      "     1296    0.000    0.000    0.000    0.000 {method 'append' of 'list' objects}\n",
      "        1    0.000    0.000    0.000    0.000 __init__.py:265(_reset_cache)\n",
      "       26    0.000    0.000    0.000    0.000 numerictypes.py:232(bitname)\n",
      "  958/936    0.000    0.000    0.000    0.000 {len}\n",
      "      272    0.000    0.000    0.000    0.000 {method 'strip' of 'str' objects}\n",
      "      906    0.000    0.000    0.000    0.000 {method 'group' of '_sre.SRE_Match' objects}\n",
      "      272    0.000    0.000    0.000    0.000 {numpy.lib._compiled_base.add_docstring}\n",
      "       31    0.000    0.000    0.000    0.000 _inspect.py:61(getargs)\n",
      "       27    0.000    0.000    0.000    0.000 core.py:822(__init__)\n",
      "        1    0.000    0.000    0.000    0.000 polyutils.py:33(<module>)\n",
      "        1    0.000    0.000    0.000    0.000 defchararray.py:17(<module>)\n",
      "        1    0.000    0.000    0.000    0.000 suite.py:1(<module>)\n",
      "      512    0.000    0.000    0.000    0.000 {chr}\n",
      "        3    0.000    0.000    0.000    0.000 __init__.py:78(CFUNCTYPE)\n",
      "        8    0.000    0.000    0.000    0.000 core.py:7190(__init__)\n",
      "        1    0.000    0.000    0.000    0.000 memmap.py:1(<module>)\n",
      "       19    0.000    0.000    0.000    0.000 posixpath.py:120(dirname)\n",
      "        1    0.000    0.000    0.000    0.000 _endian.py:4(<module>)\n",
      "        8    0.000    0.000    0.000    0.000 core.py:7195(getdoc)\n",
      "        3    0.000    0.000    0.000    0.000 __init__.py:493(PYFUNCTYPE)\n",
      "        1    0.000    0.000    0.000    0.000 getlimits.py:3(<module>)\n",
      "       14    0.000    0.000    0.000    0.000 __init__.py:147(_check_size)\n",
      "        1    0.000    0.000    0.000    0.000 _import_tools.py:1(<module>)\n",
      "        1    0.000    0.000    0.000    0.000 numerictypes.py:288(_add_types)\n",
      "       51    0.000    0.000    0.000    0.000 {method 'join' of 'str' objects}\n",
      "        2    0.000    0.000    0.000    0.000 {_ctypes.POINTER}\n",
      "       18    0.000    0.000    0.000    0.000 core.py:902(__init__)\n",
      "      112    0.000    0.000    0.000    0.000 sre_parse.py:206(match)\n",
      "        1    0.000    0.000    0.000    0.000 signals.py:1(<module>)\n",
      "        4    0.000    0.000    0.000    0.000 sre_compile.py:411(_mk_bitmap)\n",
      "        1    0.000    0.000    0.000    0.000 <string>:2(<module>)\n",
      "        5    0.000    0.000    0.000    0.000 {map}\n",
      "        1    0.000    0.000    0.000    0.000 format.py:136(<module>)\n",
      "      115    0.000    0.000    0.000    0.000 sre_parse.py:149(append)\n",
      "       21    0.000    0.000    0.000    0.000 sre_compile.py:428(_simple)\n",
      "        1    0.000    0.000    0.000    0.000 machar.py:7(<module>)\n",
      "       74    0.000    0.000    0.000    0.000 _inspect.py:152(strseq)\n",
      "        1    0.000    0.000    0.000    0.000 nanfunctions.py:20(<module>)\n",
      "        2    0.000    0.000    0.000    0.000 shape_base.py:1(<module>)\n",
      "        1    0.000    0.000    0.000    0.000 numerictypes.py:787(_construct_lookups)\n",
      "        1    0.000    0.000    0.000    0.000 core.py:5758(__new__)\n",
      "       30    0.000    0.000    0.000    0.000 numerictypes.py:450(_add_array_type)\n",
      "       79    0.000    0.000    0.000    0.000 {range}\n",
      "        1    0.000    0.000    0.000    0.000 {method 'view' of 'numpy.ndarray' objects}\n",
      "       66    0.000    0.000    0.000    0.000 sre_compile.py:101(fixup)\n",
      "        1    0.000    0.000    0.000    0.000 pprint.py:35(<module>)\n",
      "        1    0.000    0.000    0.000    0.000 stride_tricks.py:7(<module>)\n",
      "        1    0.000    0.000    0.000    0.000 result.py:26(TestResult)\n",
      "       21    0.000    0.000    0.000    0.000 numerictypes.py:219(_evalname)\n",
      "        1    0.000    0.000    0.000    0.000 numerictypes.py:345(_add_integer_aliases)\n",
      "       12    0.000    0.000    0.000    0.000 ctypeslib.py:303(prep_simple)\n",
      "       72    0.000    0.000    0.000    0.000 numerictypes.py:130(english_lower)\n",
      "      142    0.000    0.000    0.000    0.000 {_sre.getlower}\n",
      "       11    0.000    0.000    0.000    0.000 sre_parse.py:189(__init__)\n",
      "        1    0.000    0.000    0.000    0.000 linalg.py:76(_determine_error_states)\n",
      "       85    0.000    0.000    0.000    0.000 sre_parse.py:137(__len__)\n",
      "        8    0.000    0.000    0.000    0.000 {all}\n",
      "        2    0.000    0.000    0.000    0.000 utils.py:152(deprecate)\n",
      "        3    0.000    0.000    0.000    0.000 result.py:14(failfast)\n",
      "       14    0.000    0.000    0.000    0.000 {method 'format' of 'str' objects}\n",
      "       18    0.000    0.000    0.000    0.000 {_struct.calcsize}\n",
      "        1    0.000    0.000    0.000    0.000 __init__.py:349(__init__)\n",
      "       40    0.000    0.000    0.000    0.000 _inspect.py:15(ismethod)\n",
      "        1    0.000    0.000    0.000    0.000 defchararray.py:1668(chararray)\n",
      "        1    0.000    0.000    0.000    0.000 {method 'max' of 'numpy.ndarray' objects}\n",
      "        1    0.000    0.000    0.000    0.000 <string>:7(HermiteE)\n",
      "        6    0.000    0.000    0.000    0.000 core.py:1046(__init__)\n",
      "        1    0.000    0.000    0.000    0.000 info.py:34(<module>)\n",
      "        2    0.000    0.000    0.000    0.000 numeric.py:1617(set_string_function)\n",
      "        1    0.000    0.000    0.000    0.000 numerictypes.py:435(_construct_char_code_lookup)\n",
      "       40    0.000    0.000    0.000    0.000 _inspect.py:26(isfunction)\n",
      "      124    0.000    0.000    0.000    0.000 {method 'startswith' of 'str' objects}\n",
      "        1    0.000    0.000    0.000    0.000 fromnumeric.py:1842(all)\n",
      "       43    0.000    0.000    0.000    0.000 _inspect.py:163(<lambda>)\n",
      "       49    0.000    0.000    0.000    0.000 {method 'find' of 'bytearray' objects}\n",
      "        2    0.000    0.000    0.000    0.000 {numpy.core.multiarray.set_string_function}\n",
      "       46    0.000    0.000    0.000    0.000 collections.py:337(<genexpr>)\n",
      "       11    0.000    0.000    0.000    0.000 sre_parse.py:268(_escape)\n",
      "        1    0.000    0.000    0.000    0.000 npyio.py:90(BagObj)\n",
      "        1    0.000    0.000    0.000    0.000 linalg.py:198(_assertRankAtLeast2)\n",
      "       40    0.000    0.000    0.000    0.000 numerictypes.py:157(english_upper)\n",
      "        1    0.000    0.000    0.000    0.000 polytemplate.py:11(<module>)\n",
      "        1    0.000    0.000    0.000    0.000 StringIO.py:30(<module>)\n",
      "        1    0.000    0.000    0.000    0.000 twodim_base.py:3(<module>)\n",
      "        1    0.000    0.000    0.000    0.000 __future__.py:48(<module>)\n",
      "        1    0.000    0.000    0.000    0.000 case.py:133(TestCase)\n",
      "        3    0.000    0.000    0.000    0.000 functools.py:17(update_wrapper)\n",
      "        1    0.000    0.000    0.000    0.000 <string>:7(Hermite)\n",
      "        9    0.000    0.000    0.000    0.000 core.py:2419(__init__)\n",
      "      116    0.000    0.000    0.000    0.000 {method 'translate' of 'str' objects}\n",
      "       77    0.000    0.000    0.000    0.000 {min}\n",
      "       22    0.000    0.000    0.000    0.000 sre_compile.py:546(isstring)\n",
      "        1    0.000    0.000    0.000    0.000 <string>:7(Polynomial)\n",
      "        1    0.000    0.000    0.000    0.000 arraypad.py:5(<module>)\n",
      "        1    0.000    0.000    0.000    0.000 <string>:7(Legendre)\n",
      "       38    0.000    0.000    0.000    0.000 sre_parse.py:92(__init__)\n",
      "        4    0.000    0.000    0.000    0.000 sre_parse.py:227(isname)\n",
      "        1    0.000    0.000    0.000    0.000 arraysetops.py:26(<module>)\n",
      "        1    0.000    0.000    0.000    0.000 _inspect.py:7(<module>)\n",
      "        2    0.000    0.000    0.000    0.000 utils.py:108(__call__)\n",
      "        1    0.000    0.000    0.000    0.000 <string>:7(Chebyshev)\n",
      "       11    0.000    0.000    0.000    0.000 {_sre.compile}\n",
      "        1    0.000    0.000    0.000    0.000 _iotools.py:466(StringConverter)\n",
      "       45    0.000    0.000    0.000    0.000 {repr}\n",
      "        1    0.000    0.000    0.000    0.000 nosetester.py:88(NoseTester)\n",
      "       14    0.000    0.000    0.000    0.000 numerictypes.py:184(english_capitalize)\n",
      "        1    0.000    0.000    0.000    0.000 _methods.py:5(<module>)\n",
      "       31    0.000    0.000    0.000    0.000 _inspect.py:39(iscode)\n",
      "        1    0.000    0.000    0.000    0.000 financial.py:10(<module>)\n",
      "        1    0.000    0.000    0.000    0.000 numerictypes.py:386(_set_up_aliases)\n",
      "       18    0.000    0.000    0.000    0.000 {method 'extend' of 'list' objects}\n",
      "        1    0.000    0.000    0.000    0.000 collections.py:26(OrderedDict)\n",
      "       62    0.000    0.000    0.000    0.000 {method 'get' of 'dict' objects}\n",
      "        2    0.000    0.000    0.000    0.000 getlimits.py:244(__init__)\n",
      "        2    0.000    0.000    0.000    0.000 _methods.py:15(_amax)\n",
      "        1    0.000    0.000    0.000    0.000 info.py:147(<module>)\n",
      "        8    0.000    0.000    0.000    0.000 collections.py:363(<genexpr>)\n",
      "        1    0.000    0.000    0.000    0.000 helper.py:4(<module>)\n",
      "       17    0.000    0.000    0.000    0.000 {method 'keys' of 'dict' objects}\n",
      "        1    0.000    0.000    0.000    0.000 decorators.py:15(<module>)\n",
      "        1    0.000    0.000    0.000    0.000 defmatrix.py:206(matrix)\n",
      "        1    0.000    0.000    0.000    0.000 {posix.uname}\n",
      "        2    0.000    0.000    0.000    0.000 numeric.py:2320(seterr)\n",
      "        1    0.000    0.000    0.000    0.000 numpytest.py:1(<module>)\n",
      "        1    0.000    0.000    0.000    0.000 ufunclike.py:5(<module>)\n",
      "        1    0.000    0.000    0.000    0.000 <string>:7(Laguerre)\n",
      "       21    0.000    0.000    0.000    0.000 {sys._getframe}\n",
      "      126    0.000    0.000    0.000    0.000 {ord}\n",
      "       11    0.000    0.000    0.000    0.000 sre_parse.py:67(__init__)\n",
      "        5    0.000    0.000    0.000    0.000 sre_parse.py:74(opengroup)\n",
      "       19    0.000    0.000    0.000    0.000 {method 'rfind' of 'str' objects}\n",
      "        8    0.000    0.000    0.000    0.000 collections.py:361(<genexpr>)\n",
      "        9    0.000    0.000    0.000    0.000 core.py:2425(getdoc)\n",
      "        1    0.000    0.000    0.000    0.000 numeric.py:2705(__enter__)\n",
      "        1    0.000    0.000    0.000    0.000 fromnumeric.py:2048(amax)\n",
      "       33    0.000    0.000    0.000    0.000 {issubclass}\n",
      "        1    0.000    0.000    0.000    0.000 linalg.py:139(_commonType)\n",
      "        1    0.000    0.000    0.000    0.000 py3k.py:4(<module>)\n",
      "       50    0.000    0.000    0.000    0.000 {_ctypes.sizeof}\n",
      "        1    0.000    0.000    0.000    0.000 info.py:83(<module>)\n",
      "        1    0.000    0.000    0.000    0.000 linalg.py:106(_makearray)\n",
      "        1    0.000    0.000    0.000    0.000 <string>:1(Mismatch)\n",
      "        1    0.000    0.000    0.000    0.000 arrayterator.py:21(Arrayterator)\n",
      "        1    0.000    0.000    0.000    0.000 _internal.py:196(_getintp_ctype)\n",
      "        1    0.000    0.000    0.000    0.000 polynomial.py:930(poly1d)\n",
      "        1    0.000    0.000    0.000    0.000 fnmatch.py:11(<module>)\n",
      "        1    0.000    0.000    0.000    0.000 extras.py:1501(__init__)\n",
      "        4    0.000    0.000    0.000    0.000 core.py:92(doc_note)\n",
      "        2    0.000    0.000    0.000    0.000 getlimits.py:269(max)\n",
      "        1    0.000    0.000    0.000    0.000 <string>:1(Match)\n",
      "       19    0.000    0.000    0.000    0.000 {method 'rstrip' of 'str' objects}\n",
      "        1    0.000    0.000    0.000    0.000 keyword.py:11(<module>)\n",
      "        1    0.000    0.000    0.000    0.000 _iotools.py:246(NameValidator)\n",
      "        9    0.000    0.000    0.000    0.000 {method 'update' of 'dict' objects}\n",
      "       24    0.000    0.000    0.000    0.000 sre_parse.py:221(isident)\n",
      "       21    0.000    0.000    0.000    0.000 sre_parse.py:145(__setitem__)\n",
      "       13    0.000    0.000    0.000    0.000 {method 'items' of 'dict' objects}\n",
      "        1    0.000    0.000    0.000    0.000 core.py:5752(MaskedConstant)\n",
      "        1    0.000    0.000    0.000    0.000 copy_reg.py:14(pickle)\n",
      "        3    0.000    0.000    0.000    0.000 linalg.py:111(isComplexType)\n",
      "        1    0.000    0.000    0.000    0.000 extras.py:1431(__init__)\n",
      "        5    0.000    0.000    0.000    0.000 sre_parse.py:85(closegroup)\n",
      "        1    0.000    0.000    0.000    0.000 npyio.py:133(NpzFile)\n",
      "        1    0.000    0.000    0.000    0.000 numeric.py:2710(__exit__)\n",
      "        3    0.000    0.000    0.000    0.000 index_tricks.py:231(__init__)\n",
      "        1    0.000    0.000    0.000    0.000 _internal.py:224(_ctypes)\n",
      "        1    0.000    0.000    0.000    0.000 StringIO.py:42(StringIO)\n",
      "        1    0.000    0.000    0.000    0.000 utils.py:957(SafeEval)\n",
      "        1    0.000    0.000    0.000    0.000 runner.py:28(TextTestResult)\n",
      "        1    0.000    0.000    0.000    0.000 records.py:286(recarray)\n",
      "        1    0.000    0.000    0.000    0.000 _import_tools.py:8(PackageLoader)\n",
      "        1    0.000    0.000    0.000    0.000 numeric.py:462(asanyarray)\n",
      "        1    0.000    0.000    0.000    0.000 warnings.py:78(simplefilter)\n",
      "        1    0.000    0.000    0.000    0.000 {zip}\n",
      "        1    0.000    0.000    0.000    0.000 numeric.py:2701(__init__)\n",
      "        1    0.000    0.000    0.000    0.000 main.py:63(TestProgram)\n",
      "        1    0.000    0.000    0.000    0.000 info.py:176(<module>)\n",
      "        1    0.000    0.000    0.000    0.000 index_tricks.py:434(__init__)\n",
      "        1    0.000    0.000    0.000    0.000 {method 'astype' of 'numpy.ndarray' objects}\n",
      "        2    0.000    0.000    0.000    0.000 numeric.py:2416(geterr)\n",
      "       67    0.000    0.000    0.000    0.000 {globals}\n",
      "        4    0.000    0.000    0.000    0.000 {method 'replace' of 'str' objects}\n",
      "        1    0.000    0.000    0.000    0.000 linalg.py:209(_assertNdSquareness)\n",
      "        1    0.000    0.000    0.000    0.000 index_tricks.py:213(AxisConcatenator)\n",
      "        1    0.000    0.000    0.000    0.000 loader.py:38(TestLoader)\n",
      "        1    0.000    0.000    0.000    0.000 __config__.py:3(<module>)\n",
      "        1    0.000    0.000    0.000    0.000 numeric.py:392(asarray)\n",
      "        1    0.000    0.000    0.000    0.000 index_tricks.py:456(__init__)\n",
      "        1    0.000    0.000    0.000    0.000 getlimits.py:194(iinfo)\n",
      "        9    0.000    0.000    0.000    0.000 {setattr}\n",
      "        1    0.000    0.000    0.000    0.000 index_tricks.py:510(ndindex)\n",
      "        3    0.000    0.000    0.000    0.000 {method 'split' of 'str' objects}\n",
      "        1    0.000    0.000    0.000    0.000 function_base.py:1405(vectorize)\n",
      "        1    0.000    0.000    0.000    0.000 info.py:84(<module>)\n",
      "       38    0.000    0.000    0.000    0.000 {method 'isalnum' of 'str' objects}\n",
      "        1    0.000    0.000    0.000    0.000 _datasource.py:150(DataSource)\n",
      "        3    0.000    0.000    0.000    0.000 functools.py:39(wraps)\n",
      "        1    0.000    0.000    0.000    0.000 core.py:2390(_arraymethod)\n",
      "        1    0.000    0.000    0.000    0.000 collections.py:395(Counter)\n",
      "        1    0.000    0.000    0.000    0.000 linalg.py:127(_complexType)\n",
      "        3    0.000    0.000    0.000    0.000 __init__.py:494(CFunctionType)\n",
      "        1    0.000    0.000    0.000    0.000 ctypeslib.py:150(_ndptr)\n",
      "        1    0.000    0.000    0.000    0.000 weakref.py:282(__init__)\n",
      "        1    0.000    0.000    0.000    0.000 records.py:85(format_parser)\n",
      "        1    0.000    0.000    0.000    0.000 _iotools.py:155(LineSplitter)\n",
      "        1    0.000    0.000    0.000    0.000 suite.py:16(BaseTestSuite)\n",
      "        1    0.000    0.000    0.000    0.000 core.py:5555(mvoid)\n",
      "        1    0.000    0.000    0.000    0.000 UserDict.py:58(get)\n",
      "        1    0.000    0.000    0.000    0.000 case.py:1020(FunctionTestCase)\n",
      "        1    0.000    0.000    0.000    0.000 _datasource.py:497(Repository)\n",
      "        1    0.000    0.000    0.000    0.000 version.py:3(<module>)\n",
      "        2    0.000    0.000    0.000    0.000 utils.py:103(__init__)\n",
      "        1    0.000    0.000    0.000    0.000 arrayprint.py:715(DatetimeFormat)\n",
      "        1    0.000    0.000    0.000    0.000 linalg.py:101(get_linalg_error_extobj)\n",
      "        1    0.000    0.000    0.000    0.000 difflib.py:44(SequenceMatcher)\n",
      "        7    0.000    0.000    0.000    0.000 {method 'pop' of 'dict' objects}\n",
      "        1    0.000    0.000    0.000    0.000 warnings.py:359(__exit__)\n",
      "        1    0.000    0.000    0.000    0.000 difflib.py:1670(HtmlDiff)\n",
      "        1    0.000    0.000    0.000    0.000 records.py:216(record)\n",
      "        4    0.000    0.000    0.000    0.000 {method 'insert' of 'list' objects}\n",
      "        1    0.000    0.000    0.000    0.000 getlimits.py:24(finfo)\n",
      "        1    0.000    0.000    0.000    0.000 pprint.py:84(PrettyPrinter)\n",
      "        1    0.000    0.000    0.000    0.000 string.py:131(__init__)\n",
      "        1    0.000    0.000    0.000    0.000 _datasource.py:72(__init__)\n",
      "        6    0.000    0.000    0.000    0.000 {numpy.core.umath.geterrobj}\n",
      "        1    0.000    0.000    0.000    0.000 linalg.py:219(_assertNoEmpty2d)\n",
      "        7    0.000    0.000    0.000    0.000 __future__.py:75(__init__)\n",
      "        1    0.000    0.000    0.000    0.000 warnings.py:343(__enter__)\n",
      "        1    0.000    0.000    0.000    0.000 memmap.py:23(memmap)\n",
      "        1    0.000    0.000    0.000    0.000 <string>:1(<module>)\n",
      "        1    0.000    0.000    0.000    0.000 index_tricks.py:85(nd_grid)\n",
      "        1    0.000    0.000    0.000    0.000 core.py:5931(__init__)\n",
      "        5    0.000    0.000    0.000    0.000 {method 'remove' of 'list' objects}\n",
      "        1    0.000    0.000    0.000    0.000 __init__.py:332(CDLL)\n",
      "        6    0.000    0.000    0.000    0.000 core.py:769(__init__)\n",
      "        8    0.000    0.000    0.000    0.000 {method '__contains__' of 'frozenset' objects}\n",
      "        1    0.000    0.000    0.000    0.000 warnings.py:322(__init__)\n",
      "        1    0.000    0.000    0.000    0.000 suite.py:252(_ErrorHolder)\n",
      "        1    0.000    0.000    0.000    0.000 core.py:5919(__init__)\n",
      "        1    0.000    0.000    0.000    0.000 core.py:2241(_MaskedPrintOption)\n",
      "        2    0.000    0.000    0.000    0.000 index_tricks.py:145(__init__)\n",
      "        1    0.000    0.000    0.000    0.000 {_ctypes.set_conversion_mode}\n",
      "        1    0.000    0.000    0.000    0.000 extras.py:224(_fromnxfunction)\n",
      "        2    0.000    0.000    0.000    0.000 {hasattr}\n",
      "        1    0.000    0.000    0.000    0.000 runner.py:119(TextTestRunner)\n",
      "        1    0.000    0.000    0.000    0.000 __future__.py:74(_Feature)\n",
      "        1    0.000    0.000    0.000    0.000 arrayprint.py:532(FloatFormat)\n",
      "        1    0.000    0.000    0.000    0.000 core.py:883(_MaskedBinaryOperation)\n",
      "        2    0.000    0.000    0.000    0.000 utils.py:87(_set_function_name)\n",
      "        3    0.000    0.000    0.000    0.000 core.py:737(__init__)\n",
      "        1    0.000    0.000    0.000    0.000 core.py:5973(_frommethod)\n",
      "        1    0.000    0.000    0.000    0.000 suite.py:78(TestSuite)\n",
      "        3    0.000    0.000    0.000    0.000 __init__.py:104(CFunctionType)\n",
      "        1    0.000    0.000    0.000    0.000 utils.py:92(_Deprecate)\n",
      "        4    0.000    0.000    0.000    0.000 core.py:2432(__get__)\n",
      "        1    0.000    0.000    0.000    0.000 difflib.py:764(Differ)\n",
      "        1    0.000    0.000    0.000    0.000 linalg.py:124(_realType)\n",
      "        7    0.000    0.000    0.000    0.000 case.py:609(_deprecate)\n",
      "        1    0.000    0.000    0.000    0.000 {_ctypes.dlopen}\n",
      "        1    0.000    0.000    0.000    0.000 machar.py:17(MachAr)\n",
      "        1    0.000    0.000    0.000    0.000 index_tricks.py:461(ndenumerate)\n",
      "        1    0.000    0.000    0.000    0.000 _datasource.py:49(_FileOpeners)\n",
      "        3    0.000    0.000    0.000    0.000 _inspect.py:161(<lambda>)\n",
      "        1    0.000    0.000    0.000    0.000 core.py:2460(MaskedIterator)\n",
      "        1    0.000    0.000    0.000    0.000 {numpy.core.multiarray.set_typeDict}\n",
      "        1    0.000    0.000    0.000    0.000 __init__.py:388(PyDLL)\n",
      "        1    0.000    0.000    0.000    0.000 __init__.py:243(c_char_p)\n",
      "        2    0.000    0.000    0.000    0.000 core.py:796(__init__)\n",
      "        3    0.000    0.000    0.000    0.000 core.py:784(__init__)\n",
      "        1    0.000    0.000    0.000    0.000 stride_tricks.py:14(DummyArray)\n",
      "        2    0.000    0.000    0.000    0.000 index_tricks.py:627(__init__)\n",
      "        1    0.000    0.000    0.000    0.000 numeric.py:2639(errstate)\n",
      "        1    0.000    0.000    0.000    0.000 utils.py:1366(WarningMessage)\n",
      "        8    0.000    0.000    0.000    0.000 {method 'isdigit' of 'str' objects}\n",
      "        1    0.000    0.000    0.000    0.000 linalg.py:43(LinAlgError)\n",
      "        1    0.000    0.000    0.000    0.000 __init__.py:428(LibraryLoader)\n",
      "        1    0.000    0.000    0.000    0.000 case.py:98(_AssertRaisesContext)\n",
      "        6    0.000    0.000    0.000    0.000 {method 'add' of 'set' objects}\n",
      "        1    0.000    0.000    0.000    0.000 __init__.py:159(py_object)\n",
      "        1    0.000    0.000    0.000    0.000 numerictypes.py:772(_typedict)\n",
      "        1    0.000    0.000    0.000    0.000 case.py:25(SkipTest)\n",
      "        1    0.000    0.000    0.000    0.000 copy_reg.py:27(constructor)\n",
      "        1    0.000    0.000    0.000    0.000 arrayprint.py:658(LongFloatFormat)\n",
      "        1    0.000    0.000    0.000    0.000 __init__.py:359(_FuncPtr)\n",
      "        1    0.000    0.000    0.000    0.000 core.py:767(_DomainSafeDivide)\n",
      "        1    0.000    0.000    0.000    0.000 _endian.py:26(_swapped_meta)\n",
      "        1    0.000    0.000    0.000    0.000 arrayprint.py:638(IntegerFormat)\n",
      "        1    0.000    0.000    0.000    0.000 extras.py:1419(MAxisConcatenator)\n",
      "        1    0.000    0.000    0.000    0.000 shutil.py:31(Error)\n",
      "        1    0.000    0.000    0.000    0.000 utils.py:1398(WarningManager)\n",
      "        2    0.000    0.000    0.000    0.000 __init__.py:429(__init__)\n",
      "        1    0.000    0.000    0.000    0.000 core.py:128(MAError)\n",
      "        1    0.000    0.000    0.000    0.000 core.py:5862(_extrema_operation)\n",
      "        1    0.000    0.000    0.000    0.000 arrayprint.py:743(TimedeltaFormat)\n",
      "        1    0.000    0.000    0.000    0.000 polyutils.py:48(RankWarning)\n",
      "        1    0.000    0.000    0.000    0.000 _import_tools.py:336(PackageLoaderDebug)\n",
      "        1    0.000    0.000    0.000    0.000 core.py:131(MaskError)\n",
      "        1    0.000    0.000    0.000    0.000 __init__.py:294(c_wchar)\n",
      "        1    0.000    0.000    0.000    0.000 shutil.py:38(ExecError)\n",
      "        1    0.000    0.000    0.000    0.000 __init__.py:291(c_wchar_p)\n",
      "        1    0.000    0.000    0.000    0.000 polyutils.py:52(PolyError)\n",
      "        1    0.000    0.000    0.000    0.000 arrayprint.py:688(LongComplexFormat)\n",
      "        1    0.000    0.000    0.000    0.000 utils.py:1581(IgnoreException)\n",
      "        1    0.000    0.000    0.000    0.000 __init__.py:226(c_ubyte)\n",
      "        1    0.000    0.000    0.000    0.000 index_tricks.py:340(RClass)\n",
      "        1    0.000    0.000    0.000    0.000 polynomial.py:21(RankWarning)\n",
      "        1    0.000    0.000    0.000    0.000 runner.py:12(_WritelnDecorator)\n",
      "        1    0.000    0.000    0.000    0.000 shutil.py:34(SpecialFileError)\n",
      "        1    0.000    0.000    0.000    0.000 polyutils.py:69(PolyBase)\n",
      "        1    0.000    0.000    0.000    0.000 _iotools.py:438(ConverterError)\n",
      "        1    0.000    0.000    0.000    0.000 core.py:805(_MaskedUnaryOperation)\n",
      "        1    0.000    0.000    0.000    0.000 arrayprint.py:699(ComplexFormat)\n",
      "        2    0.000    0.000    0.000    0.000 {method 'clear' of 'dict' objects}\n",
      "        1    0.000    0.000    0.000    0.000 __init__.py:260(c_bool)\n",
      "        1    0.000    0.000    0.000    0.000 __init__.py:197(c_float)\n",
      "        1    0.000    0.000    0.000    0.000 __init__.py:172(c_ushort)\n",
      "        1    0.000    0.000    0.000    0.000 signals.py:9(_InterruptHandler)\n",
      "        1    0.000    0.000    0.000    0.000 _iotools.py:452(ConversionWarning)\n",
      "        1    0.000    0.000    0.000    0.000 {max}\n",
      "        1    0.000    0.000    0.000    0.000 __init__.py:233(c_byte)\n",
      "        1    0.000    0.000    0.000    0.000 numeric.py:2635(_unspecified)\n",
      "        1    0.000    0.000    0.000    0.000 index_tricks.py:439(CClass)\n",
      "        1    0.000    0.000    0.000    0.000 nanfunctions.py:31(NanWarning)\n",
      "        1    0.000    0.000    0.000    0.000 core.py:751(_DomainTan)\n",
      "        1    0.000    0.000    0.000    0.000 core.py:7178(_convert2ma)\n",
      "        1    0.000    0.000    0.000    0.000 UserDict.py:70(__contains__)\n",
      "        1    0.000    0.000    0.000    0.000 __init__.py:112(ModuleDeprecationWarning)\n",
      "        1    0.000    0.000    0.000    0.000 core.py:2246(__init__)\n",
      "        1    0.000    0.000    0.000    0.000 _iotools.py:445(ConverterLockError)\n",
      "        1    0.000    0.000    0.000    0.000 index_tricks.py:584(IndexExpression)\n",
      "        1    0.000    0.000    0.000    0.000 core.py:729(_DomainCheckInterval)\n",
      "        1    0.000    0.000    0.000    0.000 _inspect.py:162(<lambda>)\n",
      "        1    0.000    0.000    0.000    0.000 core.py:782(_DomainGreater)\n",
      "        1    0.000    0.000    0.000    0.000 __init__.py:168(c_short)\n",
      "        1    0.000    0.000    0.000    0.000 __init__.py:193(c_uint)\n",
      "        1    0.000    0.000    0.000    0.000 __init__.py:255(c_void_p)\n",
      "        1    0.000    0.000    0.000    0.000 __init__.py:201(c_double)\n",
      "        1    0.000    0.000    0.000    0.000 polyutils.py:56(PolyDomainError)\n",
      "        1    0.000    0.000    0.000    0.000 __init__.py:189(c_int)\n",
      "        1    0.000    0.000    0.000    0.000 core.py:5917(_minimum_operation)\n",
      "        1    0.000    0.000    0.000    0.000 __init__.py:238(c_char)\n",
      "        1    0.000    0.000    0.000    0.000 _endian.py:49(BigEndianStructure)\n",
      "        1    0.000    0.000    0.000    0.000 core.py:1026(_DomainedBinaryOperation)\n",
      "        1    0.000    0.000    0.000    0.000 __init__.py:205(c_longdouble)\n",
      "        1    0.000    0.000    0.000    0.000 extras.py:1485(mr_class)\n",
      "        1    0.000    0.000    0.000    0.000 numeric.py:49(ComplexWarning)\n",
      "        1    0.000    0.000    0.000    0.000 __init__.py:176(c_long)\n",
      "        1    0.000    0.000    0.000    0.000 _internal.py:217(_missing_ctypes)\n",
      "        1    0.000    0.000    0.000    0.000 suite.py:299(_DebugResult)\n",
      "        1    0.000    0.000    0.000    0.000 case.py:34(_ExpectedFailure)\n",
      "        1    0.000    0.000    0.000    0.000 core.py:794(_DomainGreaterEqual)\n",
      "        1    0.000    0.000    0.000    0.000 core.py:5929(_maximum_operation)\n",
      "        2    0.000    0.000    0.000    0.000 sre_parse.py:224(isdigit)\n",
      "        1    0.000    0.000    0.000    0.000 case.py:45(_UnexpectedSuccess)\n",
      "        1    0.000    0.000    0.000    0.000 core.py:757(__init__)\n",
      "        1    0.000    0.000    0.000    0.000 __init__.py:180(c_ulong)\n",
      "        1    0.000    0.000    0.000    0.000 core.py:5761(__array_finalize__)\n",
      "        1    0.000    0.000    0.000    0.000 {method 'disable' of '_lsprof.Profiler' objects}\n",
      "\n",
      "\n"
     ]
    }
   ],
   "source": [
    "!python -m cProfile -s cumulative examples/cprof_example.py"
   ]
  },
  {
   "cell_type": "markdown",
   "metadata": {},
   "source": [
    "In addition to the command-line usage, cProfile can also be used programmatically to profile arbitrary blocks of code without having to run a new process. IPython has a convenient interface to this capability using the %prun command and the -p option to %run. %prun takes the same “command-line options” as cProfile but will profile an arbitrary Python statement instead of a whole .py file:"
   ]
  },
  {
   "cell_type": "code",
   "execution_count": 36,
   "metadata": {},
   "outputs": [
    {
     "ename": "NameError",
     "evalue": "name 'run_experiment' is not defined",
     "output_type": "error",
     "traceback": [
      "\u001b[0;31m---------------------------------------------------------------------------\u001b[0m",
      "\u001b[0;31mNameError\u001b[0m                                 Traceback (most recent call last)",
      "\u001b[0;32m<ipython-input-36-8a91a4144c55>\u001b[0m in \u001b[0;36m<module>\u001b[0;34m()\u001b[0m\n\u001b[0;32m----> 1\u001b[0;31m \u001b[0mget_ipython\u001b[0m\u001b[0;34m(\u001b[0m\u001b[0;34m)\u001b[0m\u001b[0;34m.\u001b[0m\u001b[0mrun_line_magic\u001b[0m\u001b[0;34m(\u001b[0m\u001b[0;34m'prun'\u001b[0m\u001b[0;34m,\u001b[0m \u001b[0;34m'-l 69 -s cumulative run_experiment()'\u001b[0m\u001b[0;34m)\u001b[0m\u001b[0;34m\u001b[0m\u001b[0m\n\u001b[0m",
      "\u001b[0;32m/usr/local/lib/python3.6/site-packages/IPython/core/interactiveshell.py\u001b[0m in \u001b[0;36mrun_line_magic\u001b[0;34m(self, magic_name, line, _stack_depth)\u001b[0m\n\u001b[1;32m   2093\u001b[0m                 \u001b[0mkwargs\u001b[0m\u001b[0;34m[\u001b[0m\u001b[0;34m'local_ns'\u001b[0m\u001b[0;34m]\u001b[0m \u001b[0;34m=\u001b[0m \u001b[0msys\u001b[0m\u001b[0;34m.\u001b[0m\u001b[0m_getframe\u001b[0m\u001b[0;34m(\u001b[0m\u001b[0mstack_depth\u001b[0m\u001b[0;34m)\u001b[0m\u001b[0;34m.\u001b[0m\u001b[0mf_locals\u001b[0m\u001b[0;34m\u001b[0m\u001b[0m\n\u001b[1;32m   2094\u001b[0m             \u001b[0;32mwith\u001b[0m \u001b[0mself\u001b[0m\u001b[0;34m.\u001b[0m\u001b[0mbuiltin_trap\u001b[0m\u001b[0;34m:\u001b[0m\u001b[0;34m\u001b[0m\u001b[0m\n\u001b[0;32m-> 2095\u001b[0;31m                 \u001b[0mresult\u001b[0m \u001b[0;34m=\u001b[0m \u001b[0mfn\u001b[0m\u001b[0;34m(\u001b[0m\u001b[0;34m*\u001b[0m\u001b[0margs\u001b[0m\u001b[0;34m,\u001b[0m\u001b[0;34m**\u001b[0m\u001b[0mkwargs\u001b[0m\u001b[0;34m)\u001b[0m\u001b[0;34m\u001b[0m\u001b[0m\n\u001b[0m\u001b[1;32m   2096\u001b[0m             \u001b[0;32mreturn\u001b[0m \u001b[0mresult\u001b[0m\u001b[0;34m\u001b[0m\u001b[0m\n\u001b[1;32m   2097\u001b[0m \u001b[0;34m\u001b[0m\u001b[0m\n",
      "\u001b[0;32m<decorator-gen-56>\u001b[0m in \u001b[0;36mprun\u001b[0;34m(self, parameter_s, cell)\u001b[0m\n",
      "\u001b[0;32m/usr/local/lib/python3.6/site-packages/IPython/core/magic.py\u001b[0m in \u001b[0;36m<lambda>\u001b[0;34m(f, *a, **k)\u001b[0m\n\u001b[1;32m    185\u001b[0m     \u001b[0;31m# but it's overkill for just that one bit of state.\u001b[0m\u001b[0;34m\u001b[0m\u001b[0;34m\u001b[0m\u001b[0m\n\u001b[1;32m    186\u001b[0m     \u001b[0;32mdef\u001b[0m \u001b[0mmagic_deco\u001b[0m\u001b[0;34m(\u001b[0m\u001b[0marg\u001b[0m\u001b[0;34m)\u001b[0m\u001b[0;34m:\u001b[0m\u001b[0;34m\u001b[0m\u001b[0m\n\u001b[0;32m--> 187\u001b[0;31m         \u001b[0mcall\u001b[0m \u001b[0;34m=\u001b[0m \u001b[0;32mlambda\u001b[0m \u001b[0mf\u001b[0m\u001b[0;34m,\u001b[0m \u001b[0;34m*\u001b[0m\u001b[0ma\u001b[0m\u001b[0;34m,\u001b[0m \u001b[0;34m**\u001b[0m\u001b[0mk\u001b[0m\u001b[0;34m:\u001b[0m \u001b[0mf\u001b[0m\u001b[0;34m(\u001b[0m\u001b[0;34m*\u001b[0m\u001b[0ma\u001b[0m\u001b[0;34m,\u001b[0m \u001b[0;34m**\u001b[0m\u001b[0mk\u001b[0m\u001b[0;34m)\u001b[0m\u001b[0;34m\u001b[0m\u001b[0m\n\u001b[0m\u001b[1;32m    188\u001b[0m \u001b[0;34m\u001b[0m\u001b[0m\n\u001b[1;32m    189\u001b[0m         \u001b[0;32mif\u001b[0m \u001b[0mcallable\u001b[0m\u001b[0;34m(\u001b[0m\u001b[0marg\u001b[0m\u001b[0;34m)\u001b[0m\u001b[0;34m:\u001b[0m\u001b[0;34m\u001b[0m\u001b[0m\n",
      "\u001b[0;32m/usr/local/lib/python3.6/site-packages/IPython/core/magics/execution.py\u001b[0m in \u001b[0;36mprun\u001b[0;34m(self, parameter_s, cell)\u001b[0m\n\u001b[1;32m    300\u001b[0m             \u001b[0marg_str\u001b[0m \u001b[0;34m+=\u001b[0m \u001b[0;34m'\\n'\u001b[0m \u001b[0;34m+\u001b[0m \u001b[0mcell\u001b[0m\u001b[0;34m\u001b[0m\u001b[0m\n\u001b[1;32m    301\u001b[0m         \u001b[0marg_str\u001b[0m \u001b[0;34m=\u001b[0m \u001b[0mself\u001b[0m\u001b[0;34m.\u001b[0m\u001b[0mshell\u001b[0m\u001b[0;34m.\u001b[0m\u001b[0minput_splitter\u001b[0m\u001b[0;34m.\u001b[0m\u001b[0mtransform_cell\u001b[0m\u001b[0;34m(\u001b[0m\u001b[0marg_str\u001b[0m\u001b[0;34m)\u001b[0m\u001b[0;34m\u001b[0m\u001b[0m\n\u001b[0;32m--> 302\u001b[0;31m         \u001b[0;32mreturn\u001b[0m \u001b[0mself\u001b[0m\u001b[0;34m.\u001b[0m\u001b[0m_run_with_profiler\u001b[0m\u001b[0;34m(\u001b[0m\u001b[0marg_str\u001b[0m\u001b[0;34m,\u001b[0m \u001b[0mopts\u001b[0m\u001b[0;34m,\u001b[0m \u001b[0mself\u001b[0m\u001b[0;34m.\u001b[0m\u001b[0mshell\u001b[0m\u001b[0;34m.\u001b[0m\u001b[0muser_ns\u001b[0m\u001b[0;34m)\u001b[0m\u001b[0;34m\u001b[0m\u001b[0m\n\u001b[0m\u001b[1;32m    303\u001b[0m \u001b[0;34m\u001b[0m\u001b[0m\n\u001b[1;32m    304\u001b[0m     \u001b[0;32mdef\u001b[0m \u001b[0m_run_with_profiler\u001b[0m\u001b[0;34m(\u001b[0m\u001b[0mself\u001b[0m\u001b[0;34m,\u001b[0m \u001b[0mcode\u001b[0m\u001b[0;34m,\u001b[0m \u001b[0mopts\u001b[0m\u001b[0;34m,\u001b[0m \u001b[0mnamespace\u001b[0m\u001b[0;34m)\u001b[0m\u001b[0;34m:\u001b[0m\u001b[0;34m\u001b[0m\u001b[0m\n",
      "\u001b[0;32m/usr/local/lib/python3.6/site-packages/IPython/core/magics/execution.py\u001b[0m in \u001b[0;36m_run_with_profiler\u001b[0;34m(self, code, opts, namespace)\u001b[0m\n\u001b[1;32m    322\u001b[0m         \u001b[0mprof\u001b[0m \u001b[0;34m=\u001b[0m \u001b[0mprofile\u001b[0m\u001b[0;34m.\u001b[0m\u001b[0mProfile\u001b[0m\u001b[0;34m(\u001b[0m\u001b[0;34m)\u001b[0m\u001b[0;34m\u001b[0m\u001b[0m\n\u001b[1;32m    323\u001b[0m         \u001b[0;32mtry\u001b[0m\u001b[0;34m:\u001b[0m\u001b[0;34m\u001b[0m\u001b[0m\n\u001b[0;32m--> 324\u001b[0;31m             \u001b[0mprof\u001b[0m \u001b[0;34m=\u001b[0m \u001b[0mprof\u001b[0m\u001b[0;34m.\u001b[0m\u001b[0mrunctx\u001b[0m\u001b[0;34m(\u001b[0m\u001b[0mcode\u001b[0m\u001b[0;34m,\u001b[0m \u001b[0mnamespace\u001b[0m\u001b[0;34m,\u001b[0m \u001b[0mnamespace\u001b[0m\u001b[0;34m)\u001b[0m\u001b[0;34m\u001b[0m\u001b[0m\n\u001b[0m\u001b[1;32m    325\u001b[0m             \u001b[0msys_exit\u001b[0m \u001b[0;34m=\u001b[0m \u001b[0;34m''\u001b[0m\u001b[0;34m\u001b[0m\u001b[0m\n\u001b[1;32m    326\u001b[0m         \u001b[0;32mexcept\u001b[0m \u001b[0mSystemExit\u001b[0m\u001b[0;34m:\u001b[0m\u001b[0;34m\u001b[0m\u001b[0m\n",
      "\u001b[0;32m/usr/local/Cellar/python3/3.6.4_2/Frameworks/Python.framework/Versions/3.6/lib/python3.6/cProfile.py\u001b[0m in \u001b[0;36mrunctx\u001b[0;34m(self, cmd, globals, locals)\u001b[0m\n\u001b[1;32m     98\u001b[0m         \u001b[0mself\u001b[0m\u001b[0;34m.\u001b[0m\u001b[0menable\u001b[0m\u001b[0;34m(\u001b[0m\u001b[0;34m)\u001b[0m\u001b[0;34m\u001b[0m\u001b[0m\n\u001b[1;32m     99\u001b[0m         \u001b[0;32mtry\u001b[0m\u001b[0;34m:\u001b[0m\u001b[0;34m\u001b[0m\u001b[0m\n\u001b[0;32m--> 100\u001b[0;31m             \u001b[0mexec\u001b[0m\u001b[0;34m(\u001b[0m\u001b[0mcmd\u001b[0m\u001b[0;34m,\u001b[0m \u001b[0mglobals\u001b[0m\u001b[0;34m,\u001b[0m \u001b[0mlocals\u001b[0m\u001b[0;34m)\u001b[0m\u001b[0;34m\u001b[0m\u001b[0m\n\u001b[0m\u001b[1;32m    101\u001b[0m         \u001b[0;32mfinally\u001b[0m\u001b[0;34m:\u001b[0m\u001b[0;34m\u001b[0m\u001b[0m\n\u001b[1;32m    102\u001b[0m             \u001b[0mself\u001b[0m\u001b[0;34m.\u001b[0m\u001b[0mdisable\u001b[0m\u001b[0;34m(\u001b[0m\u001b[0;34m)\u001b[0m\u001b[0;34m\u001b[0m\u001b[0m\n",
      "\u001b[0;32m<string>\u001b[0m in \u001b[0;36m<module>\u001b[0;34m()\u001b[0m\n",
      "\u001b[0;31mNameError\u001b[0m: name 'run_experiment' is not defined"
     ]
    }
   ],
   "source": [
    "%prun -l 69 -s cumulative run_experiment()"
   ]
  },
  {
   "cell_type": "markdown",
   "metadata": {},
   "source": [
    "In the Jupyter notebook, you can use the %%prun magic (two % signs) to profile an entire code block. This pops up a separate window with the profile output. This can be useful in getting possibly quick answers to questions like, “Why did that code block take so long to run?”"
   ]
  },
  {
   "cell_type": "markdown",
   "metadata": {},
   "source": [
    "#### Profiling a Function Line by Line\n",
    "line_profiler can be used programmatically (see the full documentation), but it is perhaps most powerful when used interactively in IPython. Suppose you had a mod‐ ule prof_mod with the following code doing some NumPy array operations:"
   ]
  },
  {
   "cell_type": "code",
   "execution_count": 37,
   "metadata": {},
   "outputs": [],
   "source": [
    "import examples.prof_mod"
   ]
  },
  {
   "cell_type": "code",
   "execution_count": 38,
   "metadata": {},
   "outputs": [],
   "source": [
    "%run examples/prof_mod"
   ]
  },
  {
   "cell_type": "code",
   "execution_count": 39,
   "metadata": {},
   "outputs": [],
   "source": [
    "x = randn(3000, 3000)\n",
    "y = randn(3000, 3000)"
   ]
  },
  {
   "cell_type": "code",
   "execution_count": 40,
   "metadata": {},
   "outputs": [
    {
     "name": "stdout",
     "output_type": "stream",
     "text": [
      " "
     ]
    }
   ],
   "source": [
    "%prun add_and_sum(x, y)"
   ]
  },
  {
   "cell_type": "markdown",
   "metadata": {},
   "source": [
    "This is not especially enlightening. With the line_profiler IPython extension acti‐ vated, a new command %lprun is available. The only difference in usage is that we must instruct %lprun which function or functions we wish to profile. The general syntax is:"
   ]
  },
  {
   "cell_type": "code",
   "execution_count": 41,
   "metadata": {},
   "outputs": [
    {
     "name": "stderr",
     "output_type": "stream",
     "text": [
      "UsageError: Line magic function `%lprun` not found.\n"
     ]
    }
   ],
   "source": [
    "%lprun -f add_and_sum add_and_sum(x, y)"
   ]
  },
  {
   "cell_type": "code",
   "execution_count": 42,
   "metadata": {},
   "outputs": [
    {
     "name": "stderr",
     "output_type": "stream",
     "text": [
      "UsageError: Line magic function `%lprun` not found.\n"
     ]
    }
   ],
   "source": [
    "%lprun -f add_and_sum -f call_function call_function()"
   ]
  },
  {
   "cell_type": "markdown",
   "metadata": {},
   "source": [
    "## Tips for Productive Code Development Using IPython\n",
    "* Reloading Module Dependencies\n",
    "* Code Design Tips\n",
    "    * Keep relevant objects and data alive\n",
    "    * Flat is better than nested\n",
    "    * Overcome a fear of longer  les"
   ]
  },
  {
   "cell_type": "markdown",
   "metadata": {},
   "source": [
    "## Advanced IPython Features\n",
    "#### Making Your Own Classes IPython-Friendly"
   ]
  },
  {
   "cell_type": "code",
   "execution_count": 44,
   "metadata": {},
   "outputs": [],
   "source": [
    "class Message:\n",
    "    def __init__(self, msg):\n",
    "        self.msg = msg\n",
    "        \n",
    "    @classmethod\n",
    "    def hi(cls, msg):\n",
    "        return \"hi\""
   ]
  },
  {
   "cell_type": "markdown",
   "metadata": {},
   "source": [
    "If you wrote this, you would be disappointed to discover that the default output for\n",
    "your class isn’t very nice:"
   ]
  },
  {
   "cell_type": "code",
   "execution_count": 45,
   "metadata": {},
   "outputs": [],
   "source": [
    "x = Message(\"I have a secret\")"
   ]
  },
  {
   "cell_type": "markdown",
   "metadata": {},
   "source": [
    "IPython takes the string returned by the __repr__ magic method (by doing output = repr(obj)) and prints that to the console. Thus, we can add a simple __repr__ method to the preceding class to get a more helpful output:"
   ]
  },
  {
   "cell_type": "code",
   "execution_count": 46,
   "metadata": {},
   "outputs": [],
   "source": [
    "class Message:\n",
    "    def __init__(self, msg):\n",
    "        self.msg = msg\n",
    "    \n",
    "    def __repr__(self):\n",
    "        return 'Message: %s' % self.msg\n",
    "        \n",
    "    @classmethod\n",
    "    def hi(cls, msg):\n",
    "        return \"hi\""
   ]
  },
  {
   "cell_type": "code",
   "execution_count": 47,
   "metadata": {},
   "outputs": [
    {
     "data": {
      "text/plain": [
       "Message: I have a secret"
      ]
     },
     "execution_count": 47,
     "metadata": {},
     "output_type": "execute_result"
    }
   ],
   "source": [
    "x = Message('I have a secret')\n",
    "x"
   ]
  }
 ],
 "metadata": {
  "kernelspec": {
   "display_name": "Python 3",
   "language": "python",
   "name": "python3"
  },
  "language_info": {
   "codemirror_mode": {
    "name": "ipython",
    "version": 3
   },
   "file_extension": ".py",
   "mimetype": "text/x-python",
   "name": "python",
   "nbconvert_exporter": "python",
   "pygments_lexer": "ipython3",
   "version": "3.7.2"
  }
 },
 "nbformat": 4,
 "nbformat_minor": 4
}
