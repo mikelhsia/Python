{
 "cells": [
  {
   "cell_type": "markdown",
   "metadata": {},
   "source": [
    "# Multi-factor: S&P 500 Index Premium <a class=\"tocSkip\">"
   ]
  },
  {
   "cell_type": "markdown",
   "metadata": {},
   "source": [
    "[Context](https://www.joinquant.com/view/community/detail/8c60c343407d41b09def615c52c8693d?type=1#%E5%9B%9B%E3%80%81%E5%9B%A0%E5%AD%90%E5%A4%9A%E9%87%8D%E5%85%B1%E7%BA%BF%E6%80%A7%E7%9A%84%E5%A4%84%E7%90%86)"
   ]
  },
  {
   "cell_type": "code",
   "execution_count": 1,
   "metadata": {
    "ExecuteTime": {
     "end_time": "2021-03-09T02:50:36.997635Z",
     "start_time": "2021-03-09T02:50:33.923110Z"
    }
   },
   "outputs": [],
   "source": [
    "import os\n",
    "import requests\n",
    "import pandas as pd\n",
    "import numpy as np\n",
    "from dateutil.parser import parse\n",
    "import datetime\n",
    "from dotenv import load_dotenv, find_dotenv\n",
    "\n",
    "import statsmodels.api as sm\n",
    "import scipy\n",
    "import scipy.stats as stats\n",
    "import talib as ta\n",
    "\n",
    "import matplotlib.pyplot as plt\n",
    "import seaborn as sns\n",
    "\n",
    "from tqdm import notebook\n",
    "import cvxpy as cvx\n",
    "\n",
    "from pprint import pprint"
   ]
  },
  {
   "cell_type": "code",
   "execution_count": 2,
   "metadata": {
    "ExecuteTime": {
     "end_time": "2021-03-09T02:50:38.501499Z",
     "start_time": "2021-03-09T02:50:38.495272Z"
    },
    "code_folding": []
   },
   "outputs": [],
   "source": [
    "#显示所有列\n",
    "pd.set_option('display.max_columns', None)\n",
    "#显示所有行\n",
    "# pd.set_option('display.max_rows', None)\n",
    "# pd.set_option('display.max_rows', 20)\n",
    "#设置value的显示长度为100，默认为50\n",
    "pd.set_option('max_colwidth',100)\n",
    "\n",
    "\n",
    "load_dotenv(find_dotenv(), verbose=True, override=True)\n",
    "\n",
    "TIINGO_API_TOKEN = os.getenv('TIINGO_API_TOKEN')\n",
    "DATA_PATH = os.path.expanduser(os.path.abspath(f'../data'))"
   ]
  },
  {
   "cell_type": "markdown",
   "metadata": {},
   "source": [
    "# Helper Functions"
   ]
  },
  {
   "cell_type": "markdown",
   "metadata": {},
   "source": [
    "## Tiingo module to get price and fundamental data"
   ]
  },
  {
   "cell_type": "code",
   "execution_count": 3,
   "metadata": {
    "ExecuteTime": {
     "end_time": "2021-03-09T02:50:40.787949Z",
     "start_time": "2021-03-09T02:50:40.784936Z"
    }
   },
   "outputs": [],
   "source": [
    "__headers = {\n",
    "    'Content-Type': 'application/json'\n",
    "}\n",
    "__token = TIINGO_API_TOKEN"
   ]
  },
  {
   "cell_type": "code",
   "execution_count": 4,
   "metadata": {
    "ExecuteTime": {
     "end_time": "2021-03-09T02:50:41.627800Z",
     "start_time": "2021-03-09T02:50:41.623660Z"
    },
    "cell_style": "center"
   },
   "outputs": [],
   "source": [
    "def load_meta() -> str:\n",
    "    fundamental_meta_data_path = os.path.join(DATA_PATH, 'meta.json')\n",
    "    with open(fundamental_meta_data_path, 'r') as fp:\n",
    "        content=fp.read()\n",
    "    content = json.loads(content)\n",
    "    return content"
   ]
  },
  {
   "cell_type": "code",
   "execution_count": 5,
   "metadata": {
    "ExecuteTime": {
     "end_time": "2021-03-09T02:50:42.310003Z",
     "start_time": "2021-03-09T02:50:42.303912Z"
    }
   },
   "outputs": [],
   "source": [
    "def get_price(symbol, start_date=None, end_date=None, resampleFreq='daily'):\n",
    "    \n",
    "    start_param = 'startDate={}'.format(start_date) if start_date is not None else ''\n",
    "    end_param = '&endDate={}'.format(end_date) if end_date is not None else ''\n",
    "    pricing_daily_url = 'https://api.tiingo.com/tiingo/daily/{}/prices?token={}&{}{}&resampleFreq={}'.format(symbol, __token, start_param, end_param, resampleFreq)\n",
    "\n",
    "    try:\n",
    "        pricing_daily_data = requests.get(\n",
    "            url=pricing_daily_url,\n",
    "            headers=__headers\n",
    "        )\n",
    "    except Exception as e:\n",
    "        raise(e)\n",
    "    else:\n",
    "        if pricing_daily_data.status_code == 200:\n",
    "            return pricing_daily_data.json()\n",
    "    print('[{}] \"pricing_daily_url\" doesn\\'t return successfully'.format(symbol))\n",
    "    return None"
   ]
  },
  {
   "cell_type": "code",
   "execution_count": 6,
   "metadata": {
    "ExecuteTime": {
     "end_time": "2021-03-09T02:50:44.018695Z",
     "start_time": "2021-03-09T02:50:44.012120Z"
    }
   },
   "outputs": [],
   "source": [
    "def get_daily_fundamental(symbol, start_date=None, end_date=None):\n",
    "    \n",
    "    start_param = 'startDate={}'.format(start_date) if start_date is not None else ''\n",
    "    end_param = '&endDate={}'.format(end_date) if end_date is not None else ''\n",
    "    fundamental_daily_fundamental_url = 'https://api.tiingo.com/tiingo/fundamentals/{}/daily?token={}&{}{}'.format(symbol, __token, start_param, end_param)\n",
    "    \n",
    "    try:\n",
    "        fundamental_daily_fundamental_data = requests.get(\n",
    "            url=fundamental_daily_fundamental_url,\n",
    "            headers=__headers\n",
    "        )\n",
    "    except Exception as e:\n",
    "        raise(e)\n",
    "    else:\n",
    "        if fundamental_daily_fundamental_data.status_code == 200:\n",
    "            return fundamental_daily_fundamental_data.json()\n",
    "    print('[{}] \"fundamental_daily_fundamental_url\" doesn\\'t return successfully'.format(symbol))\n",
    "    return None"
   ]
  },
  {
   "cell_type": "code",
   "execution_count": 7,
   "metadata": {
    "ExecuteTime": {
     "end_time": "2021-03-09T02:50:44.528068Z",
     "start_time": "2021-03-09T02:50:44.522434Z"
    }
   },
   "outputs": [],
   "source": [
    "def get_quarterly_fundamental(symbol, start_date=None, end_date=None):\n",
    "    \n",
    "    start_param = 'startDate={}'.format(start_date) if start_date is not None else ''\n",
    "    end_param = '&endDate={}'.format(end_date) if end_date is not None else ''\n",
    "    fundamental_quarterly_url = 'https://api.tiingo.com/tiingo/fundamentals/{}/statements?token={}&{}{}'.format(symbol, __token, start_param, end_param)\n",
    "    \n",
    "    try:\n",
    "        fundamental_quarterly_data = requests.get(\n",
    "            url=fundamental_quarterly_url,\n",
    "            headers=__headers\n",
    "        )\n",
    "    except Exception as e:\n",
    "        raise(e)\n",
    "    else:\n",
    "        if fundamental_quarterly_data.status_code == 200:\n",
    "            return fundamental_quarterly_data.json()\n",
    "    print('[{}] \"fundamental_quarterly_url\" doesn\\'t return successfully'.format(symbol))\n",
    "    return None"
   ]
  },
  {
   "cell_type": "code",
   "execution_count": 8,
   "metadata": {
    "ExecuteTime": {
     "end_time": "2021-03-09T02:50:44.760446Z",
     "start_time": "2021-03-09T02:50:44.750037Z"
    }
   },
   "outputs": [],
   "source": [
    "def normalize_fundamental_quarterly_data(data):\n",
    "    \"\"\"[summary]\n",
    "\n",
    "    Args:\n",
    "        data ([type]): [description]\n",
    "\n",
    "    Returns:\n",
    "        [type]: [description]\n",
    "    \"\"\"\n",
    "    df = pd.json_normalize(data)\n",
    "\n",
    "    sheets = [\n",
    "        'statementData.balanceSheet',\n",
    "        'statementData.cashFlow',\n",
    "        'statementData.incomeStatement',\n",
    "        'statementData.overview'\n",
    "    ]\n",
    "\n",
    "    for col in sheets:\n",
    "        if col not in df.columns:\n",
    "            continue\n",
    "\n",
    "        fdf = None\n",
    "        for i in df.index:\n",
    "            dic = {}\n",
    "\n",
    "            if df.iloc[i][col] is np.NaN:\n",
    "                continue\n",
    "            for item in df.iloc[i][col]:\n",
    "                code = None\n",
    "                value = None\n",
    "                for k in item.keys():\n",
    "                    if k == 'dataCode':\n",
    "                        code = item[k]\n",
    "                    if k == 'value':\n",
    "                        value = item[k]\n",
    "                dic[code] = value\n",
    "            data = [x for x in dic.values()]\n",
    "            cols = [col + '.' + x for x in dic.keys()]\n",
    "\n",
    "            if fdf is None:\n",
    "                fdf = pd.DataFrame(np.array([data]), index=[i], columns=cols)\n",
    "            else:\n",
    "                fdf = fdf.append(pd.DataFrame(np.array([data]), index=[i], columns=cols))\n",
    "        df = pd.concat([df, fdf], axis=1)\n",
    "        df = df.drop([col], axis=1)\n",
    "\n",
    "    df['date'] = df['date'].astype('datetime64[ns]')\n",
    "    return df"
   ]
  },
  {
   "cell_type": "markdown",
   "metadata": {},
   "source": [
    "---"
   ]
  },
  {
   "cell_type": "markdown",
   "metadata": {},
   "source": [
    "## Filter Stocks"
   ]
  },
  {
   "cell_type": "code",
   "execution_count": 9,
   "metadata": {
    "ExecuteTime": {
     "end_time": "2021-03-09T02:50:45.741442Z",
     "start_time": "2021-03-09T02:50:45.733290Z"
    }
   },
   "outputs": [],
   "source": [
    "def cleanup_stock_list(stock_list) -> list:\n",
    "    stock_list = [s.lower() for s in stock_list]\n",
    "    stock_list = [s if s != 'brk.b' else 'brk-b' for s in stock_list]\n",
    "    stock_list = [s if s != 'bf.b' else 'bf-b' for s in stock_list]\n",
    "    stock_list = [s if s != 'chk' else 'chkaq' for s in stock_list]\n",
    "    stock_list = [s if s != 'dps' else 'kdp' for s in stock_list]\n",
    "    \n",
    "    # WYN spun-off to WH\n",
    "    stock_list = [s if s != 'wyn' else 'wh' for s in stock_list]\n",
    "\n",
    "    # Fundamental not found\n",
    "    stock_list = [s for s in stock_list if s not in ['frc']]\n",
    "\n",
    "    # Class B or C\n",
    "    # goog => googl\n",
    "    # ua => uaa\n",
    "    # fox => foxa\n",
    "    # nws => nwsa\n",
    "    # disck => disca\n",
    "    stock_list = [s for s in stock_list if s not in ['ua','fox', 'goog', 'nws', 'disck']]\n",
    "\n",
    "    # Stock was acquired by another company @ 2018-01-03\n",
    "    stock_list = [s for s in stock_list if s not in ['bcr']]\n",
    "\n",
    "    # Stock fundamental is only available before 2018-01-01\n",
    "    stock_list = [s for s in stock_list if s not in ['csra', 'sni']]\n",
    "    \n",
    "    # Symbol changed\n",
    "    stock_list = [s for s in stock_list if s not in ['dwdp']]\n",
    "    return stock_list"
   ]
  },
  {
   "cell_type": "code",
   "execution_count": 10,
   "metadata": {
    "ExecuteTime": {
     "end_time": "2021-03-09T02:50:45.957293Z",
     "start_time": "2021-03-09T02:50:45.953161Z"
    }
   },
   "outputs": [],
   "source": [
    "def get_current_snp_tickers() -> list:\n",
    "    _header = {\n",
    "        'authority': 'www.slickcharts.com',\n",
    "        'user-agent': 'Mozilla/5.0 (Macintosh; Intel Mac OS X 11_2_0) AppleWebKit/537.36 (KHTML, like Gecko) Chrome/88.0.4324.146 Safari/537.36'\n",
    "    }\n",
    "    \n",
    "    res = requests.get('https://www.slickcharts.com/sp500', headers=_header)\n",
    "    snp500_current = pd.read_html(res.content, index_col=0)\n",
    "    \n",
    "    # The latest S&P 500 composition (https://www.slickcharts.com/sp500)\n",
    "    l = snp500_current[0].Symbol.to_list()\n",
    "    \n",
    "    return l"
   ]
  },
  {
   "cell_type": "code",
   "execution_count": 11,
   "metadata": {
    "ExecuteTime": {
     "end_time": "2021-03-09T02:50:46.194054Z",
     "start_time": "2021-03-09T02:50:46.171655Z"
    }
   },
   "outputs": [],
   "source": [
    "def get_snp_stock_scaffolding(start_date, end_date, freq='daily'):\n",
    "    data = pd.read_html('https://en.wikipedia.org/wiki/List_of_S%26P_500_companies')\n",
    "\n",
    "    # Get current S&P table and set header column\n",
    "    sp500 = data[0].iloc[1:,[0,1,6,7]]\n",
    "    columns = ['added_ticker', 'name', 'date', 'cik']\n",
    "    sp500.columns = columns\n",
    "    sp500.loc[sp500['date'].isnull(), 'date'] = '1957-01-01'\n",
    "\n",
    "    # One date is in the wrong format. Correcting it.\n",
    "    sp500.loc[:,'date'] = sp500.loc[:,'date'].apply(lambda x: datetime.datetime.strptime(x[:10],'%Y-%m-%d'))\n",
    "    sp500 = pd.melt(sp500, id_vars=['date', 'name', 'cik'], value_vars=['added_ticker'])\n",
    "\n",
    "    sp500_adjustments = data[1]\n",
    "    sp500_adjustments = sp500_adjustments[2:].copy()\n",
    "    columns = ['date', 'added_ticker', 'added_name', 'removed_ticker', 'removed_name', 'reason']\n",
    "    sp500_adjustments.columns = columns\n",
    "    updates = sp500_adjustments[~sp500_adjustments['date'].str.contains(',')].T.shift(1).T\n",
    "    sp500_adjustments['date'].loc[~sp500_adjustments['date'].str.contains(',')] = np.nan\n",
    "    sp500_adjustments[sp500_adjustments['added_ticker'].isnull()]\n",
    "    sp500_adjustments.update(updates)\n",
    "    sp500_adjustments['date'].loc[sp500_adjustments['date'].isnull()] = sp500_adjustments['date'].T.shift(1).T\n",
    "    sp500_adjustments['date'].loc[sp500_adjustments['date'].isnull()] = sp500_adjustments['date'].T.shift(1).T\n",
    "    sp500_adjustments['date'].loc[sp500_adjustments['date'].isnull()] = sp500_adjustments['date'].T.shift(1).T\n",
    "    sp500_adjustments['date'].loc[sp500_adjustments['date'].isnull()] = sp500_adjustments['date'].T.shift(1).T\n",
    "    sp500_adjustments['date'].loc[sp500_adjustments['date'].isnull()] = sp500_adjustments['date'].T.shift(1).T\n",
    "    sp500_additions = sp500_adjustments[~sp500_adjustments['added_ticker'].isnull()]\n",
    "    sp500_additions = sp500_additions[['date', 'added_ticker', 'added_name']]\n",
    "    sp500_additions.rename(columns={'added_name': 'name'}, inplace=True)\n",
    "    sp500_additions = pd.melt(sp500_additions, id_vars=['date','name'], value_vars=['added_ticker'])\n",
    "    sp500_deletions = sp500_adjustments[~sp500_adjustments['removed_ticker'].isnull()]\n",
    "    sp500_deletions = sp500_deletions[['date', 'removed_ticker', 'removed_name']]\n",
    "    sp500_deletions.rename(columns={'removed_name': 'name'}, inplace=True)\n",
    "    sp500_deletions = pd.melt(sp500_deletions, id_vars=['date','name'], value_vars=['removed_ticker'])\n",
    "    sp500_history = pd.concat([sp500_deletions, sp500_additions])\n",
    "    \n",
    "    df = pd.concat([sp500, sp500_history], ignore_index=True)\n",
    "    df['date'] = pd.to_datetime(df['date'], utc=True)\n",
    "    df.sort_values(by='cik', ascending=False, inplace=True)\n",
    "    deduped_df = df[~df.duplicated(['date', 'variable', 'value'])].copy()    \n",
    "    deduped_df = deduped_df.sort_values(['date', 'variable']).set_index(['date', 'variable'])\n",
    "\n",
    "    l = get_current_snp_tickers()\n",
    "    dictionary = {}\n",
    "\n",
    "    for d in deduped_df.index.levels[0][::-1]:\n",
    "        if 'added_ticker' in deduped_df.loc[pd.to_datetime(d),:].index:\n",
    "            removed_stock_list = [s.upper() for s in deduped_df.loc[(pd.to_datetime(d), 'added_ticker'), 'value'].values]\n",
    "        else:\n",
    "            removed_stock_list = []\n",
    "\n",
    "        if 'removed_ticker' in deduped_df.loc[pd.to_datetime(d),:].index:\n",
    "            added_stock_list = [s.upper() for s in deduped_df.loc[(pd.to_datetime(d), 'removed_ticker'), 'value'].values]\n",
    "        else:\n",
    "            added_stock_list = []\n",
    "\n",
    "        l = [x.upper() for x in (l + added_stock_list) if x not in removed_stock_list]\n",
    "        l = list(set(l))\n",
    "        dictionary[d] = l\n",
    "\n",
    "        if d <= pd.to_datetime(START_DATE, utc=True):\n",
    "            break\n",
    "\n",
    "    if freq == 'daily':\n",
    "        # Business Day\n",
    "        re = pd.DataFrame(index=pd.to_datetime(pd.date_range(start_date, end_date, freq = 'B'), utc=True))\n",
    "    elif freq == 'weekly':\n",
    "        # business month start frequency\n",
    "        re = pd.DataFrame(index=pd.to_datetime(pd.date_range(START_DATE,END_DATE, freq = 'BMS'), utc=True))\n",
    "\n",
    "    re['ticker'] = pd.DataFrame([dictionary]).T\n",
    "    re = re.ffill().dropna()\n",
    "    re = re.explode('ticker').reset_index().sort_values(['index', 'ticker'])\n",
    "    re['ticker'] = re['ticker'].str.lower()\n",
    "    re = re.set_index(['index', 'ticker'])\n",
    "    re.index.rename(['date', 'ticker'], inplace=True)\n",
    "    return re"
   ]
  },
  {
   "cell_type": "markdown",
   "metadata": {},
   "source": [
    "---"
   ]
  },
  {
   "cell_type": "markdown",
   "metadata": {},
   "source": [
    "## Fetching data"
   ]
  },
  {
   "cell_type": "code",
   "execution_count": 12,
   "metadata": {
    "ExecuteTime": {
     "end_time": "2021-03-09T02:50:47.199990Z",
     "start_time": "2021-03-09T02:50:47.189451Z"
    }
   },
   "outputs": [],
   "source": [
    "def download_csv_data(symbol, start_date, end_date=None, freq='daily', path=None):\n",
    "    '''\n",
    "    Function for downloading data from Tiingo and storing the results in a CSV file\n",
    "\n",
    "    Parameters\n",
    "    ------------\n",
    "    symbol : str\n",
    "        The symbol of the assset\n",
    "    start_date : str\n",
    "        The start date for downloading the data\n",
    "    end_date : str\n",
    "        The end date for downloading the data\n",
    "    path : str\n",
    "        The path to store the CSV file\n",
    "    freq : str\n",
    "        The frequency of the data\n",
    "    '''\n",
    "    df_path=os.path.join(path, f'{symbol}.csv')\n",
    "    fund_df_path=os.path.join(path, f'{symbol}_fund.csv')\n",
    "    \n",
    "    if os.path.exists(df_path):\n",
    "#         print(f'{symbol}.csv exists')\n",
    "        return\n",
    "    \n",
    "    df = pd.DataFrame(get_price(symbol, start_date, end_date, freq))\n",
    "    df2 = pd.DataFrame(get_daily_fundamental(symbol, start_date, end_date))\n",
    "    df3 = normalize_fundamental_quarterly_data(get_quarterly_fundamental(symbol, start_date, end_date))\n",
    "    df3 = df3[~df3['quarter'].isin([0])]    # Remove the records that quarter = 0\n",
    "    \n",
    "    df['date'] = pd.to_datetime(df['date'], utc=True)\n",
    "    df2['date'] = pd.to_datetime(df2['date'], utc=True)\n",
    "    df3['date'] = pd.to_datetime(df3['date'], utc=True)\n",
    "\n",
    "    dd = pd.merge(df, df2, on='date', how='left')\n",
    "    dd = dd.ffill()\n",
    "    df3 = df3.ffill()\n",
    "    df3 = df3[~df3['quarter'].isin([0])]\n",
    "\n",
    "    dd.to_csv(df_path, header=True, index=True)\n",
    "    df3.to_csv(fund_df_path, header=True, index=True)\n",
    "        \n",
    "    del df\n",
    "    del df2\n",
    "    del df3\n",
    "    del dd"
   ]
  },
  {
   "cell_type": "code",
   "execution_count": 13,
   "metadata": {
    "ExecuteTime": {
     "end_time": "2021-03-09T02:50:48.946708Z",
     "start_time": "2021-03-09T02:50:48.940606Z"
    }
   },
   "outputs": [],
   "source": [
    "def load_data(symbol, start_date, end_date=None, freq='daily', path=None):\n",
    "    df_path=f'{path}/{symbol}.csv'\n",
    "    fund_df_path=f'{path}/{symbol}_fund.csv'\n",
    "    \n",
    "    try:\n",
    "        df = pd.read_csv(df_path, index_col=0)\n",
    "        fund_df = pd.read_csv(fund_df_path, index_col=0)\n",
    "    except Exception as e:\n",
    "        raise(e)\n",
    "        \n",
    "    return df, fund_df"
   ]
  },
  {
   "cell_type": "markdown",
   "metadata": {},
   "source": [
    "## Misc"
   ]
  },
  {
   "cell_type": "code",
   "execution_count": 14,
   "metadata": {
    "ExecuteTime": {
     "end_time": "2021-03-09T02:50:50.138243Z",
     "start_time": "2021-03-09T02:50:50.133336Z"
    }
   },
   "outputs": [],
   "source": [
    "def get_cov_by_date(date):\n",
    "    return np.cov(\n",
    "        pd.pivot(price_df.loc[(\n",
    "            slice(\n",
    "                (pd.to_datetime(date)-datetime.timedelta(days=60)),\n",
    "                (pd.to_datetime(date))\n",
    "            ), unoptimize_portfolio.loc[pd.to_datetime(date)]['ticker'].values\n",
    "        ), :]['adjClose'].reset_index(),\n",
    "            index='date', \n",
    "            columns='ticker', \n",
    "            values='adjClose'\n",
    "        )[-30:].T.values\n",
    "    )"
   ]
  },
  {
   "cell_type": "code",
   "execution_count": 15,
   "metadata": {
    "ExecuteTime": {
     "end_time": "2021-03-09T02:50:52.101508Z",
     "start_time": "2021-03-09T02:50:52.095148Z"
    }
   },
   "outputs": [],
   "source": [
    "def get_optimized_weights(df:pd.DataFrame):\n",
    "    df_ = df.copy()\n",
    "    rtn = df_['log_rtn']\n",
    "    cov = get_cov_by_date(df_.index.get_level_values(0)[0])\n",
    "    w = cvx.Variable(rtn.shape[0])\n",
    "    portfolio_variance = cvx.quad_form(w, cov)\n",
    "    objective = cvx.Minimize(portfolio_variance)\n",
    "    constraints = [0 <= w, w <= 0.1, sum(w) == 1]\n",
    "    problem = cvx.Problem(objective, constraints).solve()\n",
    "    return pd.DataFrame(w.value, index=df_['ticker'].values)"
   ]
  },
  {
   "cell_type": "code",
   "execution_count": 16,
   "metadata": {
    "ExecuteTime": {
     "end_time": "2021-03-09T02:50:52.711182Z",
     "start_time": "2021-03-09T02:50:52.706185Z"
    }
   },
   "outputs": [],
   "source": [
    "def list_diff(l1, l2):\n",
    "    l1 = l1.values[0]\n",
    "    l2 = l2.values[0]\n",
    "\n",
    "    l1 = [] if not isinstance(l1,np.ndarray) else list(l1)\n",
    "    l2 = [] if not isinstance(l2,np.ndarray) else list(l2)\n",
    "    l = list(set(l1)^set(l2))\n",
    "\n",
    "    return len(l)"
   ]
  },
  {
   "cell_type": "markdown",
   "metadata": {},
   "source": [
    "---"
   ]
  },
  {
   "cell_type": "markdown",
   "metadata": {},
   "source": [
    "# Constucting Factors"
   ]
  },
  {
   "cell_type": "markdown",
   "metadata": {},
   "source": [
    "## Define factors"
   ]
  },
  {
   "cell_type": "markdown",
   "metadata": {},
   "source": [
    "### Quality factors"
   ]
  },
  {
   "cell_type": "code",
   "execution_count": 17,
   "metadata": {
    "ExecuteTime": {
     "end_time": "2021-03-09T02:50:55.325934Z",
     "start_time": "2021-03-09T02:50:55.307433Z"
    }
   },
   "outputs": [],
   "source": [
    "def EPTTM(df, qdf):\n",
    "    '''\n",
    "    Description: Reciprocal of pe_ratio TTM (For Trailing Twelve Months)\n",
    "    Method: Earning / Market Value\n",
    "    '''\n",
    "    qdf.sort_values('date', inplace=True)\n",
    "    \n",
    "    fields = ['date']\n",
    "    quarter_fields = ['date', 'statementData.incomeStatement.eps']\n",
    "    \n",
    "    tmp = qdf[quarter_fields].copy(deep=True)\n",
    "    \n",
    "    tmp['trailing_eps'] = tmp['statementData.incomeStatement.eps'].rolling(4).mean()\n",
    "\n",
    "    tmp = pd.merge(df, tmp[['date', 'trailing_eps']], on='date', how='outer').sort_values('date')\n",
    "    tmp['trailing_eps'].ffill(inplace=True)\n",
    "    tmp = tmp[~pd.isna(tmp['close'])]\n",
    "    \n",
    "    tmp['ep_ratio'] = tmp['trailing_eps'] / tmp['adjClose']\n",
    "\n",
    "    return tmp['ep_ratio']\n",
    "\n",
    "def SPTTM(df, qdf):\n",
    "    '''\n",
    "    Description: Reciprocal of ps_ratio TTM (For Trailing Twelve Months)\n",
    "    Method: Sales Income / Market Value\n",
    "    '''\n",
    "    qdf.sort_values('date', inplace=True)\n",
    "    \n",
    "    fields = ['date']\n",
    "    quarter_fields = ['date', 'statementData.overview.rps']\n",
    "    \n",
    "    tmp = qdf[quarter_fields].copy(deep=True)\n",
    "    \n",
    "    tmp['trailing_rps'] = tmp['statementData.overview.rps'].rolling(4).mean()\n",
    "\n",
    "    tmp = pd.merge(df, tmp[['date', 'trailing_rps']], on='date', how='outer').sort_values('date')\n",
    "    tmp['trailing_rps'].ffill(inplace=True)\n",
    "    tmp = tmp[~pd.isna(tmp['close'])]\n",
    "    \n",
    "    tmp['sp_ratio'] = tmp['trailing_rps'] / tmp['adjClose']\n",
    "\n",
    "    return tmp['sp_ratio']\n",
    "\n",
    "def roe_ttm(df, qdf):\n",
    "    '''\n",
    "    Description: ROE TTM (For Trailing Twelve Months)\n",
    "    Method: ROE.mean() for the last 4 seasons\n",
    "    '''\n",
    "    qdf.sort_values('date', inplace=True)\n",
    "    \n",
    "    field = ['date']\n",
    "    quarter_field = ['date', 'statementData.overview.roe']\n",
    "    window = 20\n",
    "    quarter_window = 4\n",
    "    \n",
    "    tmp = qdf[quarter_field].copy(deep=True)\n",
    "    \n",
    "    tmp['ROE_TTM'] = tmp['statementData.overview.roe'].rolling(quarter_window).sum()\n",
    "        \n",
    "    tmp = pd.merge(df, tmp[['date', 'ROE_TTM']], on='date', how='outer').sort_values('date')\n",
    "    tmp['ROE_TTM'].ffill(inplace=True)\n",
    "    tmp = tmp[~pd.isna(tmp['close'])]\n",
    "\n",
    "    return tmp['ROE_TTM']\n",
    "\n",
    "def roa_ttm(df, qdf):\n",
    "    '''\n",
    "    Description: ROA TTM (For Trailing Twelve Months)\n",
    "    Method: ROA.mean() for the last 4 seasons\n",
    "    '''\n",
    "    qdf.sort_values('date', inplace=True)\n",
    "    \n",
    "    field = []\n",
    "    quarter_field = ['date', 'statementData.overview.roa']\n",
    "    window = 20\n",
    "    quarter_window = 4\n",
    "    \n",
    "    tmp = qdf[quarter_field].copy(deep=True)\n",
    "    \n",
    "    tmp['ROA_TTM'] = tmp['statementData.overview.roa'].rolling(quarter_window).sum()\n",
    "        \n",
    "    tmp = pd.merge(df, tmp[['date', 'ROA_TTM']], on='date', how='outer').sort_values('date')\n",
    "    tmp['ROA_TTM'].ffill(inplace=True)\n",
    "    tmp = tmp[~pd.isna(tmp['close'])]\n",
    "\n",
    "    return tmp['ROA_TTM']\n",
    "\n",
    "def book_to_price_ratio(df, qdf):\n",
    "    '''\n",
    "    Description: Book to price ratio\n",
    "    Method: 1 / pbRatio\n",
    "    '''\n",
    "    fields = ['date', 'pbRatio']\n",
    "    \n",
    "    tmp = df[fields].copy(deep=True)\n",
    "    tmp['book_to_price'] = (1 / tmp['pbRatio']).shift(1)\n",
    "\n",
    "    return tmp['book_to_price']"
   ]
  },
  {
   "cell_type": "markdown",
   "metadata": {},
   "source": [
    "### Growth factors"
   ]
  },
  {
   "cell_type": "code",
   "execution_count": 18,
   "metadata": {
    "ExecuteTime": {
     "end_time": "2021-03-09T02:50:55.982682Z",
     "start_time": "2021-03-09T02:50:55.953488Z"
    }
   },
   "outputs": [],
   "source": [
    "def SUE0(df, qdf):\n",
    "    '''\n",
    "    Description: Standardized unexpected profit\n",
    "    Method: (actual net profit in one season - expected net profit)/ expected net profit standard deviation\n",
    "    '''\n",
    "    qdf.sort_values('date', inplace=True)\n",
    "    \n",
    "    fields = ['date']\n",
    "    quarter_fields = ['date', 'statementData.incomeStatement.revenue', 'statementData.incomeStatement.costRev']\n",
    "    \n",
    "    tmp = qdf[quarter_fields].copy(deep=True)\n",
    "    tmp['net_revenue'] = tmp['statementData.incomeStatement.revenue'] - tmp['statementData.incomeStatement.costRev']\n",
    "    tmp['previous_quarter'] = tmp['net_revenue'].shift(1)\n",
    "    tmp['this_quarter_shift_4'] = tmp['net_revenue'].shift(4)\n",
    "    tmp['previous_quarter_shift_4'] = tmp['previous_quarter'].shift(4)\n",
    "    tmp['C'] = (tmp['previous_quarter'] - tmp['previous_quarter_shift_4']).rolling(4).mean()\n",
    "    tmp['epsilon'] = (tmp['previous_quarter'] - tmp['previous_quarter_shift_4']).rolling(4).std()\n",
    "    tmp['Q'] = tmp['this_quarter_shift_4'] + tmp['C'] + tmp['epsilon']\n",
    "    tmp['SUE0'] = (tmp['net_revenue'] - tmp['Q']) / tmp['epsilon']\n",
    "    \n",
    "    tmp = pd.merge(df, tmp[['date', 'SUE0']], on='date', how='outer').sort_values('date')\n",
    "    tmp['SUE0'].ffill(inplace=True)\n",
    "    tmp = tmp[~pd.isna(tmp['close'])]\n",
    "\n",
    "    return tmp['SUE0']\n",
    "\n",
    "\n",
    "def SUR0(df, qdf):\n",
    "    '''\n",
    "    Description: Standardized unexpected revenue\n",
    "    Method: (actual operating income in one season - expected operating income)/ expected operating income standard deviation\n",
    "    '''\n",
    "    qdf.sort_values('date', inplace=True)\n",
    "    \n",
    "    fields = ['date']\n",
    "    quarter_fields = ['date', 'statementData.incomeStatement.opinc']\n",
    "    \n",
    "    tmp = qdf[quarter_fields].copy(deep=True)\n",
    "    tmp['previous_quarter'] = tmp['statementData.incomeStatement.opinc'].shift(1)\n",
    "    tmp['this_quarter_shift_4'] = tmp['statementData.incomeStatement.opinc'].shift(4)\n",
    "    tmp['previous_quarter_shift_4'] = tmp['previous_quarter'].shift(4)\n",
    "    tmp['C'] = (tmp['previous_quarter'] - tmp['previous_quarter_shift_4']).rolling(4).mean()\n",
    "    tmp['epsilon'] = (tmp['previous_quarter'] - tmp['previous_quarter_shift_4']).rolling(4).std()\n",
    "    tmp['Q'] = tmp['this_quarter_shift_4'] + tmp['C'] + tmp['epsilon']\n",
    "    tmp['SUR0'] = (tmp['statementData.incomeStatement.opinc'] - tmp['Q']) / tmp['epsilon']\n",
    "    \n",
    "    tmp = pd.merge(df, tmp[['date', 'SUR0']], on='date', how='outer').sort_values('date')\n",
    "    tmp['SUR0'].ffill(inplace=True)\n",
    "    tmp = tmp[~pd.isna(tmp['close'])]\n",
    "\n",
    "    return tmp['SUR0']\n",
    "\n",
    "def DELTAROE(df, qdf):\n",
    "    '''\n",
    "    Description: Quarter-on-quarter ROE change ratio\n",
    "    Method: ROE this quarter - ROA same quarter last year\n",
    "    '''\n",
    "    qdf.sort_values('date', inplace=True)\n",
    "    \n",
    "    fields = ['date']\n",
    "    quarter_fields = ['date', 'statementData.overview.roe']\n",
    "    \n",
    "    tmp = qdf[quarter_fields].copy(deep=True)\n",
    "    tmp['last_year_roe'] = tmp['statementData.overview.roe'].shift(4)\n",
    "    tmp['DELTAROE'] = tmp['statementData.overview.roe'] - tmp['last_year_roe']\n",
    "\n",
    "    tmp = pd.merge(df, tmp[['date', 'DELTAROE']], on='date', how='outer').sort_values('date')\n",
    "    tmp['DELTAROE'].ffill(inplace=True)\n",
    "    tmp = tmp[~pd.isna(tmp['close'])]\n",
    "\n",
    "    return tmp['DELTAROE']\n",
    "\n",
    "\n",
    "def DELTAROA(df, qdf):\n",
    "    '''\n",
    "    Description: Quarter-on-quarter ROA ratio\n",
    "    Method: ROA this quarter - ROA same quarter last year\n",
    "    '''\n",
    "    qdf.sort_values('date', inplace=True)\n",
    "    \n",
    "    fields = ['date']\n",
    "    quarter_fields = ['date', 'statementData.overview.roa']\n",
    "    \n",
    "    tmp = qdf[quarter_fields].copy(deep=True)\n",
    "    tmp['last_year_roa'] = tmp['statementData.overview.roa'].shift(4)\n",
    "    tmp['DELTAROA'] = tmp['statementData.overview.roa'] - tmp['last_year_roa']\n",
    "\n",
    "    tmp = pd.merge(df, tmp[['date', 'DELTAROA']], on='date', how='outer').sort_values('date')\n",
    "    tmp['DELTAROA'].ffill(inplace=True)\n",
    "    tmp = tmp[~pd.isna(tmp['close'])]\n",
    "\n",
    "    return tmp['DELTAROA']\n",
    "\n",
    "def net_profit_growth_rate(df, qdf):\n",
    "    '''\n",
    "    Description: annual net profit growth rate\n",
    "    Method: (Net profit this year TTM / net profit last year TTM) - 100%\n",
    "    '''\n",
    "    qdf.sort_values('date', inplace=True)\n",
    "    \n",
    "    fields = ['date']\n",
    "    quarter_fields = ['date', 'year', 'quarter', 'statementData.incomeStatement.revenue', 'statementData.incomeStatement.costRev']\n",
    "    quarter_window = 4\n",
    "    \n",
    "    tmp = qdf[quarter_fields].copy(deep=True)\n",
    "    tmp['net_profit'] = tmp['statementData.incomeStatement.revenue'] - tmp['statementData.incomeStatement.costRev']\n",
    "    tmp['net_profit_TTM'] = tmp['net_profit'].rolling(quarter_window).sum()\n",
    "    tmp['net_profit_TTM_shift_4'] = tmp['net_profit_TTM'].shift(quarter_window)\n",
    "    tmp['net_profit_growth_rate'] = (tmp['net_profit_TTM'] / tmp['net_profit_TTM_shift_4']) - 1\n",
    "\n",
    "    tmp = pd.merge(df, tmp[['date', 'net_profit_growth_rate']], on='date', how='outer').sort_values('date')\n",
    "    tmp['net_profit_growth_rate'].ffill(inplace=True)\n",
    "    tmp = tmp[~pd.isna(tmp['close'])]\n",
    "\n",
    "    return tmp['net_profit_growth_rate']\n",
    "\n",
    "def operating_revenue_growth_rate(df, qdf):\n",
    "    '''\n",
    "    Description: annual operating revenue growth rate\n",
    "    Method: (operating revenue this year TTM / operating revenue last year TTM) - 100%\n",
    "    '''\n",
    "    qdf.sort_values('date', inplace=True)\n",
    "    \n",
    "    fields = ['date']\n",
    "    quarter_fields = ['date', 'year', 'quarter', 'statementData.incomeStatement.opinc']\n",
    "    quarter_window = 4\n",
    "    \n",
    "    tmp = qdf[quarter_fields].copy(deep=True)\n",
    "    tmp['revenue_TTM'] = tmp['statementData.incomeStatement.opinc'].rolling(quarter_window).sum()\n",
    "    tmp['revenue_TTM_shift_4'] = tmp['revenue_TTM'].shift(quarter_window)\n",
    "    tmp['total_revenue_growth_rate'] = (tmp['revenue_TTM'] / tmp['revenue_TTM_shift_4']) - 1\n",
    "\n",
    "    tmp = pd.merge(df, tmp[['date', 'total_revenue_growth_rate']], on='date', how='outer').sort_values('date')\n",
    "    tmp['total_revenue_growth_rate'].ffill(inplace=True)\n",
    "    tmp = tmp[~pd.isna(tmp['close'])]\n",
    "\n",
    "    return tmp['total_revenue_growth_rate']\n",
    "\n",
    "def total_profit_growth_rate(df, qdf):\n",
    "    '''\n",
    "    Description: annual total revenue growth rate\n",
    "    Method: (total revenue this year TTM / total revenue last year TTM) - 100%\n",
    "    '''\n",
    "    qdf.sort_values('date', inplace=True)\n",
    "    \n",
    "    fields = ['date']\n",
    "    quarter_fields = ['date', 'year', 'quarter', 'statementData.incomeStatement.revenue']\n",
    "    quarter_window = 4\n",
    "    \n",
    "    tmp = qdf[quarter_fields].copy(deep=True)\n",
    "    tmp['profit_TTM'] = tmp['statementData.incomeStatement.revenue'].rolling(quarter_window).sum()\n",
    "    tmp['profit_TTM_shift_4'] = tmp['profit_TTM'].shift(quarter_window)\n",
    "    tmp['total_profit_growth_rate'] = (tmp['profit_TTM'] / tmp['profit_TTM_shift_4']) - 1\n",
    "\n",
    "    tmp = pd.merge(df, tmp[['date', 'total_profit_growth_rate']], on='date', how='outer').sort_values('date')\n",
    "    tmp['total_profit_growth_rate'].ffill(inplace=True)\n",
    "    tmp = tmp[~pd.isna(tmp['close'])]\n",
    "\n",
    "    return tmp['total_profit_growth_rate']"
   ]
  },
  {
   "cell_type": "markdown",
   "metadata": {},
   "source": [
    "### Momentum factors"
   ]
  },
  {
   "cell_type": "code",
   "execution_count": 19,
   "metadata": {
    "ExecuteTime": {
     "end_time": "2021-03-09T02:50:56.351446Z",
     "start_time": "2021-03-09T02:50:56.340437Z"
    }
   },
   "outputs": [],
   "source": [
    "def ILLIQ(df, qdf):\n",
    "    '''\n",
    "    Description: illiquidity factor\n",
    "    Method: mean of the (absolute value of the price change in the past 20 days / trade volume)\n",
    "    '''\n",
    "    # ! We should use trading money instead of trading volume.\n",
    "    # ! Trading money = the money amount that has been traded on the market\n",
    "    fields = ['adjClose', 'adjVolume']\n",
    "    window = 20\n",
    "    tmp = df[fields].copy(deep=True)\n",
    "    tmp.ffill(inplace=True)\n",
    "    \n",
    "    tmp['pct_change'] = df['adjClose'].pct_change()\n",
    "    tmp['Vol'] = df['adjVolume']\n",
    "    tmp['pct_vol'] = tmp['pct_change'] / tmp['Vol']\n",
    "    tmp['ILLIQ'] = tmp['pct_vol'].rolling(window).mean().shift(1)\n",
    "\n",
    "    return tmp['ILLIQ']\n",
    "\n",
    "def VOL20(df, qdf):\n",
    "    '''\n",
    "    Description: 20-day turnover average\n",
    "    Method: average of turnover in past 20 days\n",
    "    '''\n",
    "    qdf.sort_values('date', inplace=True)\n",
    "    \n",
    "    field = ['adjVolume']\n",
    "    quarter_field = ['date', 'statementData.balanceSheet.sharesBasic']\n",
    "    window = 20\n",
    "    tmp = qdf[quarter_field].copy(deep=True)\n",
    "        \n",
    "    tmp = pd.merge(df, tmp[['date', 'statementData.balanceSheet.sharesBasic']], on='date', how='outer').sort_values('date')\n",
    "    tmp['statementData.balanceSheet.sharesBasic'].ffill(inplace=True)\n",
    "    tmp = tmp[~pd.isna(tmp['close'])]\n",
    "    \n",
    "    tmp['vol'] = tmp['adjVolume'] / tmp['statementData.balanceSheet.sharesBasic']\n",
    "    tmp['vol20'] = tmp['vol'].rolling(window).sum().shift(1)\n",
    "\n",
    "    return tmp['vol20']\n",
    "\n",
    "\n",
    "def VOL60(df, qdf):\n",
    "    '''\n",
    "    Description: 60-day turnover average\n",
    "    Method: average of turnover in past 60 days\n",
    "    '''\n",
    "    field = ['adjVolume']\n",
    "    quarter_field = ['date', 'statementData.balanceSheet.sharesBasic']\n",
    "    window = 60\n",
    "    tmp = qdf[quarter_field].copy(deep=True)\n",
    "        \n",
    "    tmp = pd.merge(df, tmp[['date', 'statementData.balanceSheet.sharesBasic']], on='date', how='outer').sort_values('date')\n",
    "    tmp['statementData.balanceSheet.sharesBasic'].ffill(inplace=True)\n",
    "    tmp = tmp[~pd.isna(tmp['close'])]\n",
    "    \n",
    "    tmp['vol'] = tmp['adjVolume'] / tmp['statementData.balanceSheet.sharesBasic']\n",
    "    tmp['vol60'] = tmp['vol'].rolling(window).sum().shift(1)\n",
    "\n",
    "    return tmp['vol60']"
   ]
  },
  {
   "cell_type": "markdown",
   "metadata": {},
   "source": [
    "### Volatility factors"
   ]
  },
  {
   "cell_type": "code",
   "execution_count": 20,
   "metadata": {
    "ExecuteTime": {
     "end_time": "2021-03-09T02:50:56.727923Z",
     "start_time": "2021-03-09T02:50:56.716350Z"
    }
   },
   "outputs": [],
   "source": [
    "def ATR1M(df, qdf):\n",
    "    '''\n",
    "    Description: Average true range of the past month\n",
    "    Method: Calculate the ATR indicator in the past 20 days\n",
    "    '''\n",
    "\n",
    "    fields = ['date','adjHigh', 'adjLow', 'adjClose']\n",
    "    window = 20\n",
    "    tmp = df[fields].copy(deep=True)\n",
    "    tmp.ffill(inplace=True)\n",
    "    \n",
    "    tmp['high'] = tmp['adjHigh'].shift(1)\n",
    "    tmp['low'] = tmp['adjLow'].shift(1)\n",
    "    tmp['close'] = tmp['adjClose'].shift(1)\n",
    "    \n",
    "    tmp['hml'] = tmp['high'] - tmp['low']\n",
    "    tmp['cmh'] = (tmp['close'].shift(1) - tmp['high']).abs()\n",
    "    tmp['cml'] = (tmp['close'].shift(1) - tmp['low']).abs()\n",
    "    \n",
    "    tmp['TR'] = tmp[['hml', 'cmh', 'cml']].max(axis=1, skipna=False)\n",
    "    tmp['ATR1M'] = tmp['TR'].rolling(window).mean().shift(1)\n",
    "    \n",
    "    return tmp['ATR1M']\n",
    "    \n",
    "def ATR3M(df, qdf):\n",
    "    '''\n",
    "    \n",
    "    Description: Average true range of the past three months\n",
    "    Method: Calculate the ATR indicator in the past 60 days\n",
    "    '''\n",
    "\n",
    "    fields = ['date','adjHigh', 'adjLow', 'adjClose']\n",
    "    window = 60\n",
    "    tmp = df[fields].copy(deep=True)\n",
    "    tmp.fillna(0, inplace=True)\n",
    "    \n",
    "    tmp['high'] = tmp['adjHigh'].shift(1)\n",
    "    tmp['low'] = tmp['adjLow'].shift(1)\n",
    "    tmp['close'] = tmp['adjClose'].shift(1)\n",
    "    \n",
    "    tmp['hml'] = tmp['high'] - tmp['low']\n",
    "    tmp['cmh'] = (tmp['close'].shift(1) - tmp['high']).abs()\n",
    "    tmp['cml'] = (tmp['close'].shift(1) - tmp['low']).abs()\n",
    "    \n",
    "    tmp['TR'] = tmp[['hml', 'cmh', 'cml']].max(axis=1, skipna=False)\n",
    "    tmp['ATR3M'] = tmp['TR'].rolling(window).mean().shift(1)\n",
    "    \n",
    "    return tmp['ATR3M']"
   ]
  },
  {
   "cell_type": "markdown",
   "metadata": {},
   "source": [
    "### Size factors"
   ]
  },
  {
   "cell_type": "code",
   "execution_count": 21,
   "metadata": {
    "ExecuteTime": {
     "end_time": "2021-03-09T02:50:57.286949Z",
     "start_time": "2021-03-09T02:50:57.282615Z"
    }
   },
   "outputs": [],
   "source": [
    "def natural_log_of_market_cap(df, qdf):\n",
    "    '''\n",
    "    Description: natural of the market capital\n",
    "    Method: log(marketCap)\n",
    "    '''\n",
    "    fields = ['date', 'marketCap']\n",
    "    \n",
    "    tmp = df[fields].copy(deep=True)\n",
    "    tmp['ln_of_market_cap'] = tmp['marketCap'].apply(np.log).shift(1)\n",
    "                              \n",
    "    return tmp['ln_of_market_cap']"
   ]
  },
  {
   "cell_type": "markdown",
   "metadata": {},
   "source": [
    "### Technical factors"
   ]
  },
  {
   "cell_type": "code",
   "execution_count": 22,
   "metadata": {
    "ExecuteTime": {
     "end_time": "2021-03-09T02:50:57.688867Z",
     "start_time": "2021-03-09T02:50:57.681127Z"
    }
   },
   "outputs": [],
   "source": [
    "def ROC20(df, qdf):\n",
    "    '''\n",
    "    Description: Price rate of change in 20 days\n",
    "    Method: \n",
    "        1. AX=today's close - 20 days ago close price\n",
    "        2. BX=20 days ago close price\n",
    "        3. ROC=AX/BX*100%\n",
    "    '''\n",
    "\n",
    "    fields = ['date', 'adjClose']\n",
    "\n",
    "    window = 20\n",
    "    tmp = df[fields].copy(deep=True)\n",
    "    tmp.fillna(0, inplace=True)\n",
    "    \n",
    "    tmp['BX'] = tmp['adjClose'].shift(window)\n",
    "    tmp['AX'] = tmp['adjClose'] - tmp['BX']\n",
    "    tmp['ROC20'] = ((tmp['AX'] / tmp['BX'])*100).shift(1)\n",
    "\n",
    "    return tmp['ROC20']\n",
    "\n",
    "\n",
    "def ROC60(df, qdf):\n",
    "    '''\n",
    "    Description: Price rate of change in 60 days\n",
    "    Method: \n",
    "        1. AX=today's close - 60 days ago close price\n",
    "        2. BX=60 days ago close price\n",
    "        3. ROC=AX/BX*100%\n",
    "    '''\n",
    "\n",
    "    fields = ['date', 'adjClose']\n",
    "\n",
    "    window = 60\n",
    "    tmp = df[fields].copy(deep=True)\n",
    "    tmp.fillna(0, inplace=True)\n",
    "    \n",
    "    tmp['BX'] = tmp['adjClose'].shift(window)\n",
    "    tmp['AX'] = tmp['adjClose'] - tmp['BX']\n",
    "    tmp['ROC60'] = ((tmp['AX'] / tmp['BX'])*100).shift(1)\n",
    "\n",
    "    return tmp['ROC60']"
   ]
  },
  {
   "cell_type": "markdown",
   "metadata": {},
   "source": [
    "### Fundamental data"
   ]
  },
  {
   "cell_type": "code",
   "execution_count": 23,
   "metadata": {
    "ExecuteTime": {
     "end_time": "2021-03-09T02:50:58.086770Z",
     "start_time": "2021-03-09T02:50:58.081978Z"
    }
   },
   "outputs": [],
   "source": [
    "def get_market_cap(df, qdf):\n",
    "    '''\n",
    "    Description: marketCap directly from financial report\n",
    "    Method: marketCap\n",
    "    '''\n",
    "    fields = ['date', 'marketCap']\n",
    "                              \n",
    "    return df['marketCap']\n",
    "\n",
    "def get_adj_price(df, qdf):\n",
    "    '''\n",
    "    Description: close price directly from financial report\n",
    "    Method: use adjClose price\n",
    "    '''\n",
    "    fields = ['adjOpen', 'adjHigh', 'adjLow', 'adjClose']\n",
    "                              \n",
    "    return df[fields]"
   ]
  },
  {
   "cell_type": "markdown",
   "metadata": {},
   "source": [
    "## Constants setup"
   ]
  },
  {
   "cell_type": "code",
   "execution_count": 24,
   "metadata": {
    "ExecuteTime": {
     "end_time": "2021-03-09T02:51:00.385097Z",
     "start_time": "2021-03-09T02:51:00.379209Z"
    }
   },
   "outputs": [],
   "source": [
    "START_DATE = '2018-1-1'\n",
    "END_DATE = (datetime.datetime.now() - datetime.timedelta(days=1)).strftime('%Y-%m-%d')\n",
    "\n",
    "FREQ = 'daily'\n",
    "# daily\n",
    "# weekly\n",
    "# monthly\n",
    "\n",
    "USE_ORTHOGONAL_DATA = False\n",
    "\n",
    "REMOVING_FACTORS = [\n",
    "# Observing\n",
    "    'ILLIQ',\n",
    "    'ATR1M',  \n",
    "    'ATR3M',\n",
    "    'total_revenue_growth_rate',\n",
    "    'ep_ratio',\n",
    "\n",
    "# Negative impact\n",
    "    'ROC60',\n",
    "    'ROC20',\n",
    "    \n",
    "# Good for optional for later check\n",
    "    'SUE0',\n",
    "    'total_profit_growth_rate',\n",
    "    'sp_ratio',\n",
    "    'ln_of_market_cap',\n",
    "    'ROE_TTM',\n",
    "    'ROA_TTM',\n",
    "    'DELTAROE',\n",
    "    'DELTAROA',\n",
    "    \n",
    "# Factor that we are using\n",
    "#     'net_profit_growth_rate',    \n",
    "#     'vol60',\n",
    "#     'SUR0',\n",
    "#     'vol20',\n",
    "#     'book_to_price',\n",
    "]\n",
    "\n",
    "\n",
    "# 'IC'\n",
    "# 'IR'\n",
    "# 'EQUAL'\n",
    "FACTOR_WEIGHT_METHOD = 'IR'"
   ]
  },
  {
   "cell_type": "markdown",
   "metadata": {},
   "source": [
    "## Get factors data"
   ]
  },
  {
   "cell_type": "markdown",
   "metadata": {},
   "source": [
    "### Download raw data"
   ]
  },
  {
   "cell_type": "code",
   "execution_count": 25,
   "metadata": {
    "ExecuteTime": {
     "end_time": "2021-03-09T02:51:08.365423Z",
     "start_time": "2021-03-09T02:51:02.161004Z"
    },
    "scrolled": true
   },
   "outputs": [
    {
     "data": {
      "text/html": [
       "<div>\n",
       "<style scoped>\n",
       "    .dataframe tbody tr th:only-of-type {\n",
       "        vertical-align: middle;\n",
       "    }\n",
       "\n",
       "    .dataframe tbody tr th {\n",
       "        vertical-align: top;\n",
       "    }\n",
       "\n",
       "    .dataframe thead th {\n",
       "        text-align: right;\n",
       "    }\n",
       "</style>\n",
       "<table border=\"1\" class=\"dataframe\">\n",
       "  <thead>\n",
       "    <tr style=\"text-align: right;\">\n",
       "      <th></th>\n",
       "      <th></th>\n",
       "    </tr>\n",
       "    <tr>\n",
       "      <th>date</th>\n",
       "      <th>ticker</th>\n",
       "    </tr>\n",
       "  </thead>\n",
       "  <tbody>\n",
       "    <tr>\n",
       "      <th rowspan=\"5\" valign=\"top\">2018-01-03 00:00:00+00:00</th>\n",
       "      <th>a</th>\n",
       "    </tr>\n",
       "    <tr>\n",
       "      <th>aal</th>\n",
       "    </tr>\n",
       "    <tr>\n",
       "      <th>aap</th>\n",
       "    </tr>\n",
       "    <tr>\n",
       "      <th>aapl</th>\n",
       "    </tr>\n",
       "    <tr>\n",
       "      <th>abbv</th>\n",
       "    </tr>\n",
       "    <tr>\n",
       "      <th>...</th>\n",
       "      <th>...</th>\n",
       "    </tr>\n",
       "    <tr>\n",
       "      <th rowspan=\"5\" valign=\"top\">2021-03-08 00:00:00+00:00</th>\n",
       "      <th>yum</th>\n",
       "    </tr>\n",
       "    <tr>\n",
       "      <th>zbh</th>\n",
       "    </tr>\n",
       "    <tr>\n",
       "      <th>zbra</th>\n",
       "    </tr>\n",
       "    <tr>\n",
       "      <th>zion</th>\n",
       "    </tr>\n",
       "    <tr>\n",
       "      <th>zts</th>\n",
       "    </tr>\n",
       "  </tbody>\n",
       "</table>\n",
       "<p>417106 rows × 0 columns</p>\n",
       "</div>"
      ],
      "text/plain": [
       "Empty DataFrame\n",
       "Columns: []\n",
       "Index: [(2018-01-03 00:00:00+00:00, a), (2018-01-03 00:00:00+00:00, aal), (2018-01-03 00:00:00+00:00, aap), (2018-01-03 00:00:00+00:00, aapl), (2018-01-03 00:00:00+00:00, abbv), (2018-01-03 00:00:00+00:00, abc), (2018-01-03 00:00:00+00:00, abt), (2018-01-03 00:00:00+00:00, acn), (2018-01-03 00:00:00+00:00, adbe), (2018-01-03 00:00:00+00:00, adi), (2018-01-03 00:00:00+00:00, adm), (2018-01-03 00:00:00+00:00, adp), (2018-01-03 00:00:00+00:00, ads), (2018-01-03 00:00:00+00:00, adsk), (2018-01-03 00:00:00+00:00, aee), (2018-01-03 00:00:00+00:00, aep), (2018-01-03 00:00:00+00:00, aes), (2018-01-03 00:00:00+00:00, aet), (2018-01-03 00:00:00+00:00, afl), (2018-01-03 00:00:00+00:00, agn), (2018-01-03 00:00:00+00:00, aig), (2018-01-03 00:00:00+00:00, aiv), (2018-01-03 00:00:00+00:00, aiz), (2018-01-03 00:00:00+00:00, ajg), (2018-01-03 00:00:00+00:00, akam), (2018-01-03 00:00:00+00:00, alb), (2018-01-03 00:00:00+00:00, algn), (2018-01-03 00:00:00+00:00, alk), (2018-01-03 00:00:00+00:00, all), (2018-01-03 00:00:00+00:00, alle), (2018-01-03 00:00:00+00:00, alxn), (2018-01-03 00:00:00+00:00, amat), (2018-01-03 00:00:00+00:00, amd), (2018-01-03 00:00:00+00:00, ame), (2018-01-03 00:00:00+00:00, amg), (2018-01-03 00:00:00+00:00, amgn), (2018-01-03 00:00:00+00:00, amp), (2018-01-03 00:00:00+00:00, amt), (2018-01-03 00:00:00+00:00, amzn), (2018-01-03 00:00:00+00:00, andv), (2018-01-03 00:00:00+00:00, anss), (2018-01-03 00:00:00+00:00, antm), (2018-01-03 00:00:00+00:00, aon), (2018-01-03 00:00:00+00:00, aos), (2018-01-03 00:00:00+00:00, apa), (2018-01-03 00:00:00+00:00, apc), (2018-01-03 00:00:00+00:00, apd), (2018-01-03 00:00:00+00:00, aph), (2018-01-03 00:00:00+00:00, aptv), (2018-01-03 00:00:00+00:00, are), (2018-01-03 00:00:00+00:00, atvi), (2018-01-03 00:00:00+00:00, avb), (2018-01-03 00:00:00+00:00, avgo), (2018-01-03 00:00:00+00:00, avy), (2018-01-03 00:00:00+00:00, awk), (2018-01-03 00:00:00+00:00, axp), (2018-01-03 00:00:00+00:00, ayi), (2018-01-03 00:00:00+00:00, azo), (2018-01-03 00:00:00+00:00, ba), (2018-01-03 00:00:00+00:00, bac), (2018-01-03 00:00:00+00:00, bax), (2018-01-03 00:00:00+00:00, bby), (2018-01-03 00:00:00+00:00, bcr), (2018-01-03 00:00:00+00:00, bdx), (2018-01-03 00:00:00+00:00, ben), (2018-01-03 00:00:00+00:00, bf.b), (2018-01-03 00:00:00+00:00, bhf), (2018-01-03 00:00:00+00:00, biib), (2018-01-03 00:00:00+00:00, bk), (2018-01-03 00:00:00+00:00, bkng), (2018-01-03 00:00:00+00:00, bkr), (2018-01-03 00:00:00+00:00, blk), (2018-01-03 00:00:00+00:00, bll), (2018-01-03 00:00:00+00:00, bmy), (2018-01-03 00:00:00+00:00, brk.b), (2018-01-03 00:00:00+00:00, bsx), (2018-01-03 00:00:00+00:00, bwa), (2018-01-03 00:00:00+00:00, bxp), (2018-01-03 00:00:00+00:00, c), (2018-01-03 00:00:00+00:00, ca), (2018-01-03 00:00:00+00:00, cag), (2018-01-03 00:00:00+00:00, cah), (2018-01-03 00:00:00+00:00, cat), (2018-01-03 00:00:00+00:00, cb), (2018-01-03 00:00:00+00:00, cboe), (2018-01-03 00:00:00+00:00, cbre), (2018-01-03 00:00:00+00:00, cci), (2018-01-03 00:00:00+00:00, ccl), (2018-01-03 00:00:00+00:00, cdns), (2018-01-03 00:00:00+00:00, celg), (2018-01-03 00:00:00+00:00, cern), (2018-01-03 00:00:00+00:00, cf), (2018-01-03 00:00:00+00:00, cfg), (2018-01-03 00:00:00+00:00, chd), (2018-01-03 00:00:00+00:00, chk), (2018-01-03 00:00:00+00:00, chrw), (2018-01-03 00:00:00+00:00, chtr), (2018-01-03 00:00:00+00:00, ci), (2018-01-03 00:00:00+00:00, cinf), (2018-01-03 00:00:00+00:00, cl), ...]\n",
       "\n",
       "[417106 rows x 0 columns]"
      ]
     },
     "execution_count": 25,
     "metadata": {},
     "output_type": "execute_result"
    }
   ],
   "source": [
    "# Needs VPN\n",
    "snp_scaffolding = get_snp_stock_scaffolding(START_DATE, END_DATE, FREQ)\n",
    "snp_scaffolding"
   ]
  },
  {
   "cell_type": "code",
   "execution_count": 26,
   "metadata": {
    "ExecuteTime": {
     "end_time": "2021-03-09T02:51:08.401478Z",
     "start_time": "2021-03-09T02:51:08.398550Z"
    }
   },
   "outputs": [],
   "source": [
    "stock_list = cleanup_stock_list(snp_scaffolding.index.levels[1].tolist())"
   ]
  },
  {
   "cell_type": "code",
   "execution_count": 27,
   "metadata": {
    "ExecuteTime": {
     "end_time": "2021-03-09T02:51:08.953233Z",
     "start_time": "2021-03-09T02:51:08.422622Z"
    }
   },
   "outputs": [
    {
     "data": {
      "application/vnd.jupyter.widget-view+json": {
       "model_id": "8670508928c04b5691bc3b1bd5d20d23",
       "version_major": 2,
       "version_minor": 0
      },
      "text/plain": [
       "HBox(children=(FloatProgress(value=0.0, max=555.0), HTML(value='')))"
      ]
     },
     "metadata": {},
     "output_type": "display_data"
    },
    {
     "name": "stdout",
     "output_type": "stream",
     "text": [
      "Start processing a...\n",
      "Start processing aal...\n",
      "Start processing aap...\n",
      "Start processing aapl...\n",
      "Start processing abbv...\n",
      "Start processing abc...\n",
      "Start processing abmd...\n",
      "Start processing abt...\n",
      "Start processing acn...\n",
      "Start processing adbe...\n",
      "Start processing adi...\n",
      "Start processing adm...\n",
      "Start processing adp...\n",
      "Start processing ads...\n",
      "Start processing adsk...\n",
      "Start processing aee...\n",
      "Start processing aep...\n",
      "Start processing aes...\n",
      "Start processing aet...\n",
      "Start processing afl...\n",
      "Start processing agn...\n",
      "Start processing aig...\n",
      "Start processing aiv...\n",
      "Start processing aiz...\n",
      "Start processing ajg...\n",
      "Start processing akam...\n",
      "Start processing alb...\n",
      "Start processing algn...\n",
      "Start processing alk...\n",
      "Start processing all...\n",
      "Start processing alle...\n",
      "Start processing alxn...\n",
      "Start processing amat...\n",
      "Start processing amcr...\n",
      "Start processing amd...\n",
      "Start processing ame...\n",
      "Start processing amg...\n",
      "Start processing amgn...\n",
      "Start processing amp...\n",
      "Start processing amt...\n",
      "Start processing amzn...\n",
      "Start processing andv...\n",
      "Start processing anet...\n",
      "Start processing anss...\n",
      "Start processing antm...\n",
      "Start processing aon...\n",
      "Start processing aos...\n",
      "Start processing apa...\n",
      "Start processing apc...\n",
      "Start processing apd...\n",
      "Start processing aph...\n",
      "Start processing aptv...\n",
      "Start processing are...\n",
      "Start processing ato...\n",
      "Start processing atvi...\n",
      "Start processing avb...\n",
      "Start processing avgo...\n",
      "Start processing avy...\n",
      "Start processing awk...\n",
      "Start processing axp...\n",
      "Start processing ayi...\n",
      "Start processing azo...\n",
      "Start processing ba...\n",
      "Start processing bac...\n",
      "Start processing bax...\n",
      "Start processing bby...\n",
      "Start processing bdx...\n",
      "Start processing ben...\n",
      "Start processing bf-b...\n",
      "Start processing bhf...\n",
      "Start processing biib...\n",
      "Start processing bio...\n",
      "Start processing bk...\n",
      "Start processing bkng...\n",
      "Start processing bkr...\n",
      "Start processing blk...\n",
      "Start processing bll...\n",
      "Start processing bmy...\n",
      "Start processing br...\n",
      "Start processing brk-b...\n",
      "Start processing bsx...\n",
      "Start processing bwa...\n",
      "Start processing bxp...\n",
      "Start processing c...\n",
      "Start processing ca...\n",
      "Start processing cag...\n",
      "Start processing cah...\n",
      "Start processing carr...\n",
      "Start processing cat...\n",
      "Start processing cb...\n",
      "Start processing cboe...\n",
      "Start processing cbre...\n",
      "Start processing cci...\n",
      "Start processing ccl...\n",
      "Start processing cdns...\n",
      "Start processing cdw...\n",
      "Start processing ce...\n",
      "Start processing celg...\n",
      "Start processing cern...\n",
      "Start processing cf...\n",
      "Start processing cfg...\n",
      "Start processing chd...\n",
      "Start processing chkaq...\n",
      "Start processing chrw...\n",
      "Start processing chtr...\n",
      "Start processing ci...\n",
      "Start processing cinf...\n",
      "Start processing cl...\n",
      "Start processing clx...\n",
      "Start processing cma...\n",
      "Start processing cmcsa...\n",
      "Start processing cme...\n",
      "Start processing cmg...\n",
      "Start processing cmi...\n",
      "Start processing cms...\n",
      "Start processing cnc...\n",
      "Start processing cnp...\n",
      "Start processing cof...\n",
      "Start processing cog...\n",
      "Start processing col...\n",
      "Start processing coo...\n",
      "Start processing cop...\n",
      "Start processing cost...\n",
      "Start processing coty...\n",
      "Start processing cpb...\n",
      "Start processing cpri...\n",
      "Start processing cprt...\n",
      "Start processing crm...\n",
      "Start processing csco...\n",
      "Start processing csx...\n",
      "Start processing ctas...\n",
      "Start processing ctlt...\n",
      "Start processing ctsh...\n",
      "Start processing ctva...\n",
      "Start processing ctxs...\n",
      "Start processing cvs...\n",
      "Start processing cvx...\n",
      "Start processing d...\n",
      "Start processing dal...\n",
      "Start processing dd...\n",
      "Start processing de...\n",
      "Start processing dfs...\n",
      "Start processing dg...\n",
      "Start processing dgx...\n",
      "Start processing dhi...\n",
      "Start processing dhr...\n",
      "Start processing dis...\n",
      "Start processing disca...\n",
      "Start processing dish...\n",
      "Start processing dlr...\n",
      "Start processing dltr...\n",
      "Start processing dov...\n",
      "Start processing dow...\n",
      "Start processing kdp...\n",
      "Start processing dpz...\n",
      "Start processing dre...\n",
      "Start processing dri...\n",
      "Start processing dte...\n",
      "Start processing duk...\n",
      "Start processing dva...\n",
      "Start processing dvn...\n",
      "Start processing dxc...\n",
      "Start processing dxcm...\n",
      "Start processing ea...\n",
      "Start processing ebay...\n",
      "Start processing ecl...\n",
      "Start processing ed...\n",
      "Start processing efx...\n",
      "Start processing eix...\n",
      "Start processing el...\n",
      "Start processing emn...\n",
      "Start processing emr...\n",
      "Start processing enph...\n",
      "Start processing eog...\n",
      "Start processing eqix...\n",
      "Start processing eqr...\n",
      "Start processing eqt...\n",
      "Start processing es...\n",
      "Start processing esrx...\n",
      "Start processing ess...\n",
      "Start processing etfc...\n",
      "Start processing etn...\n",
      "Start processing etr...\n",
      "Start processing etsy...\n",
      "Start processing evhc...\n",
      "Start processing evrg...\n",
      "Start processing ew...\n",
      "Start processing exc...\n",
      "Start processing expd...\n",
      "Start processing expe...\n",
      "Start processing exr...\n",
      "Start processing f...\n",
      "Start processing fang...\n",
      "Start processing fast...\n",
      "Start processing fb...\n",
      "Start processing fbhs...\n",
      "Start processing fcx...\n",
      "Start processing fdx...\n",
      "Start processing fe...\n",
      "Start processing ffiv...\n",
      "Start processing fis...\n",
      "Start processing fisv...\n",
      "Start processing fitb...\n",
      "Start processing fl...\n",
      "Start processing flir...\n",
      "Start processing flr...\n",
      "Start processing fls...\n",
      "Start processing flt...\n",
      "Start processing fmc...\n",
      "Start processing foxa...\n",
      "Start processing frt...\n",
      "Start processing ftnt...\n",
      "Start processing ftv...\n",
      "Start processing gd...\n",
      "Start processing ge...\n",
      "Start processing ggp...\n",
      "Start processing gild...\n",
      "Start processing gis...\n",
      "Start processing gl...\n",
      "Start processing glw...\n",
      "Start processing gm...\n",
      "Start processing googl...\n",
      "Start processing gpc...\n",
      "Start processing gpn...\n",
      "Start processing gps...\n",
      "Start processing grmn...\n",
      "Start processing gs...\n",
      "Start processing gt...\n",
      "Start processing gww...\n",
      "Start processing hal...\n",
      "Start processing has...\n",
      "Start processing hban...\n",
      "Start processing hbi...\n",
      "Start processing hca...\n",
      "Start processing hd...\n",
      "Start processing hes...\n",
      "Start processing hfc...\n",
      "Start processing hig...\n",
      "Start processing hii...\n",
      "Start processing hlt...\n",
      "Start processing hog...\n",
      "Start processing holx...\n",
      "Start processing hon...\n",
      "Start processing hp...\n",
      "Start processing hpe...\n",
      "Start processing hpq...\n",
      "Start processing hrb...\n",
      "Start processing hrl...\n",
      "Start processing hsic...\n",
      "Start processing hst...\n",
      "Start processing hsy...\n",
      "Start processing hum...\n",
      "Start processing hwm...\n",
      "Start processing ibm...\n",
      "Start processing ice...\n",
      "Start processing idxx...\n",
      "Start processing iex...\n",
      "Start processing iff...\n",
      "Start processing ilmn...\n",
      "Start processing incy...\n",
      "Start processing info...\n",
      "Start processing intc...\n",
      "Start processing intu...\n",
      "Start processing ip...\n",
      "Start processing ipg...\n",
      "Start processing ipgp...\n",
      "Start processing iqv...\n",
      "Start processing ir...\n",
      "Start processing irm...\n",
      "Start processing isrg...\n",
      "Start processing it...\n",
      "Start processing itw...\n",
      "Start processing ivz...\n",
      "Start processing j...\n",
      "Start processing jbht...\n",
      "Start processing jci...\n",
      "Start processing jef...\n",
      "Start processing jkhy...\n",
      "Start processing jnj...\n",
      "Start processing jnpr...\n",
      "Start processing jpm...\n",
      "Start processing jwn...\n",
      "Start processing k...\n",
      "Start processing key...\n",
      "Start processing keys...\n",
      "Start processing khc...\n",
      "Start processing kim...\n",
      "Start processing klac...\n",
      "Start processing kmb...\n",
      "Start processing kmi...\n",
      "Start processing kmx...\n",
      "Start processing ko...\n",
      "Start processing kr...\n",
      "Start processing kss...\n",
      "Start processing ksu...\n",
      "Start processing l...\n",
      "Start processing lb...\n",
      "Start processing ldos...\n",
      "Start processing leg...\n",
      "Start processing len...\n",
      "Start processing lh...\n",
      "Start processing lhx...\n",
      "Start processing lin...\n",
      "Start processing lkq...\n",
      "Start processing lll...\n",
      "Start processing lly...\n",
      "Start processing lmt...\n",
      "Start processing lnc...\n",
      "Start processing lnt...\n",
      "Start processing low...\n",
      "Start processing lrcx...\n",
      "Start processing lumn...\n",
      "Start processing luv...\n",
      "Start processing lvs...\n",
      "Start processing lw...\n",
      "Start processing lyb...\n",
      "Start processing lyv...\n",
      "Start processing m...\n",
      "Start processing ma...\n",
      "Start processing maa...\n",
      "Start processing mac...\n",
      "Start processing mar...\n",
      "Start processing mas...\n",
      "Start processing mat...\n",
      "Start processing mcd...\n",
      "Start processing mchp...\n",
      "Start processing mck...\n",
      "Start processing mco...\n",
      "Start processing mdlz...\n",
      "Start processing mdt...\n",
      "Start processing met...\n",
      "Start processing mgm...\n",
      "Start processing mhk...\n",
      "Start processing mkc...\n",
      "Start processing mktx...\n",
      "Start processing mlm...\n",
      "Start processing mmc...\n",
      "Start processing mmm...\n",
      "Start processing mnst...\n",
      "Start processing mo...\n",
      "Start processing mon...\n",
      "Start processing mos...\n",
      "Start processing mpc...\n",
      "Start processing mrk...\n",
      "Start processing mro...\n",
      "Start processing ms...\n",
      "Start processing msci...\n",
      "Start processing msft...\n",
      "Start processing msi...\n",
      "Start processing mtb...\n",
      "Start processing mtd...\n",
      "Start processing mu...\n",
      "Start processing mxim...\n",
      "Start processing navi...\n",
      "Start processing nbl...\n",
      "Start processing nclh...\n",
      "Start processing ndaq...\n",
      "Start processing nee...\n",
      "Start processing nem...\n",
      "Start processing nflx...\n",
      "Start processing nfx...\n",
      "Start processing ni...\n",
      "Start processing nke...\n",
      "Start processing nktr...\n",
      "Start processing nlok...\n",
      "Start processing nlsn...\n",
      "Start processing noc...\n",
      "Start processing nov...\n",
      "Start processing now...\n",
      "Start processing nrg...\n",
      "Start processing nsc...\n",
      "Start processing ntap...\n",
      "Start processing ntrs...\n",
      "Start processing nue...\n",
      "Start processing nvda...\n",
      "Start processing nvr...\n",
      "Start processing nwl...\n",
      "Start processing nwsa...\n",
      "Start processing o...\n",
      "Start processing odfl...\n",
      "Start processing oke...\n",
      "Start processing omc...\n",
      "Start processing orcl...\n",
      "Start processing orly...\n",
      "Start processing otis...\n",
      "Start processing oxy...\n",
      "Start processing payc...\n",
      "Start processing payx...\n",
      "Start processing pbct...\n",
      "Start processing pcar...\n",
      "Start processing pcg...\n",
      "Start processing pdco...\n",
      "Start processing peak...\n",
      "Start processing peg...\n",
      "Start processing pep...\n",
      "Start processing pfe...\n",
      "Start processing pfg...\n",
      "Start processing pg...\n",
      "Start processing pgr...\n",
      "Start processing ph...\n",
      "Start processing phm...\n",
      "Start processing pkg...\n",
      "Start processing pki...\n",
      "Start processing pld...\n",
      "Start processing pm...\n",
      "Start processing pnc...\n",
      "Start processing pnr...\n",
      "Start processing pnw...\n",
      "Start processing pool...\n",
      "Start processing ppg...\n",
      "Start processing ppl...\n",
      "Start processing prgo...\n",
      "Start processing pru...\n",
      "Start processing psa...\n",
      "Start processing psx...\n",
      "Start processing pvh...\n",
      "Start processing pwr...\n",
      "Start processing pxd...\n",
      "Start processing pypl...\n",
      "Start processing qcom...\n",
      "Start processing qrvo...\n",
      "Start processing rcl...\n",
      "Start processing re...\n",
      "Start processing reg...\n",
      "Start processing regn...\n",
      "Start processing rf...\n",
      "Start processing rhi...\n",
      "Start processing rht...\n",
      "Start processing rjf...\n",
      "Start processing rl...\n",
      "Start processing rmd...\n",
      "Start processing rok...\n",
      "Start processing rol...\n",
      "Start processing rop...\n",
      "Start processing rost...\n",
      "Start processing rrc...\n",
      "Start processing rsg...\n",
      "Start processing rtn...\n",
      "Start processing rtx...\n",
      "Start processing sbac...\n",
      "Start processing sbux...\n",
      "Start processing scg...\n",
      "Start processing schw...\n",
      "Start processing see...\n",
      "Start processing shw...\n",
      "Start processing sig...\n",
      "Start processing sivb...\n",
      "Start processing sjm...\n",
      "Start processing slb...\n",
      "Start processing slg...\n",
      "Start processing sna...\n",
      "Start processing snps...\n",
      "Start processing so...\n",
      "Start processing spg...\n",
      "Start processing spgi...\n",
      "Start processing srcl...\n",
      "Start processing sre...\n",
      "Start processing ste...\n",
      "Start processing sti...\n",
      "Start processing stt...\n",
      "Start processing stx...\n",
      "Start processing stz...\n",
      "Start processing swk...\n",
      "Start processing swks...\n",
      "Start processing syf...\n",
      "Start processing syk...\n",
      "Start processing syy...\n",
      "Start processing t...\n",
      "Start processing tap...\n",
      "Start processing tdg...\n",
      "Start processing tdy...\n",
      "Start processing tel...\n",
      "Start processing ter...\n",
      "Start processing tfc...\n",
      "Start processing tfx...\n",
      "Start processing tgt...\n",
      "Start processing tif...\n",
      "Start processing tjx...\n",
      "Start processing tmo...\n",
      "Start processing tmus...\n",
      "Start processing tpr...\n",
      "Start processing trip...\n",
      "Start processing trmb...\n",
      "Start processing trow...\n",
      "Start processing trv...\n",
      "Start processing tsco...\n",
      "Start processing tsla...\n",
      "Start processing tsn...\n",
      "Start processing tss...\n",
      "Start processing tt...\n",
      "Start processing ttwo...\n",
      "Start processing twtr...\n",
      "Start processing twx...\n",
      "Start processing txn...\n",
      "Start processing txt...\n",
      "Start processing tyl...\n",
      "Start processing uaa...\n",
      "Start processing ual...\n",
      "Start processing udr...\n",
      "Start processing uhs...\n",
      "Start processing ulta...\n",
      "Start processing unh...\n",
      "Start processing unm...\n",
      "Start processing unp...\n",
      "Start processing ups...\n",
      "Start processing uri...\n",
      "Start processing usb...\n",
      "Start processing v...\n",
      "Start processing var...\n",
      "Start processing vfc...\n",
      "Start processing viab...\n",
      "Start processing viac...\n",
      "Start processing vlo...\n",
      "Start processing vmc...\n",
      "Start processing vno...\n",
      "Start processing vnt...\n",
      "Start processing vrsk...\n",
      "Start processing vrsn...\n",
      "Start processing vrtx...\n",
      "Start processing vtr...\n",
      "Start processing vtrs...\n",
      "Start processing vz...\n",
      "Start processing wab...\n",
      "Start processing wat...\n",
      "Start processing wba...\n",
      "Start processing wcg...\n",
      "Start processing wdc...\n",
      "Start processing wec...\n",
      "Start processing well...\n",
      "Start processing wfc...\n",
      "Start processing whr...\n",
      "Start processing wltw...\n",
      "Start processing wm...\n",
      "Start processing wmb...\n",
      "Start processing wmt...\n",
      "Start processing wrb...\n",
      "Start processing wrk...\n",
      "Start processing wst...\n",
      "Start processing wu...\n",
      "Start processing wy...\n",
      "Start processing wh...\n",
      "Start processing wynn...\n",
      "Start processing xec...\n",
      "Start processing xel...\n",
      "Start processing xl...\n",
      "Start processing xlnx...\n",
      "Start processing xom...\n",
      "Start processing xray...\n",
      "Start processing xrx...\n",
      "Start processing xyl...\n",
      "Start processing yum...\n",
      "Start processing zbh...\n",
      "Start processing zbra...\n",
      "Start processing zion...\n",
      "Start processing zts...\n",
      "\n"
     ]
    }
   ],
   "source": [
    "# Get meta data dataframe\n",
    "meta_df = pd.json_normalize(load_meta())\n",
    "meta_df['sicCode'].fillna(0, inplace=True)\n",
    "\n",
    "# Download data\n",
    "for symbol in notebook.tqdm(stock_list):\n",
    "    print(f'Start processing {symbol}...')\n",
    "    download_csv_data(\n",
    "        symbol=symbol,\n",
    "        start_date=START_DATE,\n",
    "        end_date=END_DATE,\n",
    "        freq=FREQ,\n",
    "        path=DATA_PATH\n",
    "    )"
   ]
  },
  {
   "cell_type": "markdown",
   "metadata": {},
   "source": [
    "### Construct factors"
   ]
  },
  {
   "cell_type": "code",
   "execution_count": 28,
   "metadata": {
    "ExecuteTime": {
     "end_time": "2021-03-09T02:54:08.139277Z",
     "start_time": "2021-03-09T02:52:08.495810Z"
    },
    "scrolled": true
   },
   "outputs": [
    {
     "data": {
      "application/vnd.jupyter.widget-view+json": {
       "model_id": "e5aea3a5adf949b59d6b84f82010b6b6",
       "version_major": 2,
       "version_minor": 0
      },
      "text/plain": [
       "HBox(children=(FloatProgress(value=0.0, max=555.0), HTML(value='')))"
      ]
     },
     "metadata": {},
     "output_type": "display_data"
    },
    {
     "name": "stdout",
     "output_type": "stream",
     "text": [
      "vnt\n",
      "\"['statementData.overview.roa'] not in index\"\n",
      "\n",
      "Data has been saved as '~/Desktop/result.csv' with shape (109903, 27)\n"
     ]
    }
   ],
   "source": [
    "alpha_factors = [\n",
    "    ATR1M, ATR3M, ILLIQ, DELTAROA, DELTAROE, SUR0, SUE0, SPTTM, EPTTM,\n",
    "    natural_log_of_market_cap, book_to_price_ratio, ROC20, ROC60, net_profit_growth_rate, \n",
    "    operating_revenue_growth_rate, total_profit_growth_rate, roe_ttm, roa_ttm, VOL20, VOL60\n",
    "]\n",
    "\n",
    "risk_factors = [\n",
    "    get_market_cap, get_adj_price\n",
    "]\n",
    "\n",
    "factors = list(set(alpha_factors + risk_factors))\n",
    "\n",
    "result_df = None\n",
    "\n",
    "for symbol in notebook.tqdm(stock_list):\n",
    "    df, dd = load_data(\n",
    "        symbol=symbol,\n",
    "        start_date=START_DATE,\n",
    "        end_date=END_DATE,\n",
    "        freq=FREQ,\n",
    "        path=DATA_PATH\n",
    "    )\n",
    "            \n",
    "    tmp = df['date'].copy(deep=True)\n",
    "    try:\n",
    "        for func in factors:\n",
    "            tmp = pd.concat([tmp, func(df, dd)], axis=1)\n",
    "    except Exception as e:\n",
    "        print(symbol)\n",
    "        print(e)\n",
    "        continue\n",
    "\n",
    "    try:\n",
    "        # Need to add .iloc[0] as symbol 'xl' has two sicCode\n",
    "        tmp['sicCode'] = int(meta_df[meta_df['ticker'] == symbol]['sicCode'].iloc[0])\n",
    "        tmp['sector'] = meta_df[meta_df['ticker'] == symbol]['sector'].values[0]\n",
    "        tmp['ticker'] = symbol\n",
    "        tmp.dropna(axis=0, inplace=True)\n",
    "    except Exception as e:\n",
    "        print(symbol)\n",
    "        display(meta_df[meta_df['ticker'] == symbol]['sicCode'])\n",
    "        display(meta_df[meta_df['ticker'] == symbol]['sector'])\n",
    "        raise(e)\n",
    "    \n",
    "    if result_df is None:\n",
    "        result_df = tmp\n",
    "    else:\n",
    "        result_df = result_df.append(tmp)\n",
    "\n",
    "result_df['date'] = pd.to_datetime(result_df['date'], utc=True)\n",
    "result_df = result_df.sort_values(['date', 'ticker']).set_index(['date', 'ticker'])\n",
    "\n",
    "result_df.to_csv('/Users/michael/Desktop/result.csv')\n",
    "print(f'Data has been saved as \\'~/Desktop/result.csv\\' with shape {result_df.shape}')"
   ]
  },
  {
   "cell_type": "markdown",
   "metadata": {},
   "source": [
    "### Construct pricing data"
   ]
  },
  {
   "cell_type": "code",
   "execution_count": 29,
   "metadata": {
    "ExecuteTime": {
     "end_time": "2021-03-09T02:54:29.129853Z",
     "start_time": "2021-03-09T02:54:08.261612Z"
    },
    "scrolled": true
   },
   "outputs": [
    {
     "data": {
      "application/vnd.jupyter.widget-view+json": {
       "model_id": "6f87fe157f014311bb01f00ca9bc0619",
       "version_major": 2,
       "version_minor": 0
      },
      "text/plain": [
       "HBox(children=(FloatProgress(value=0.0, max=555.0), HTML(value='')))"
      ]
     },
     "metadata": {},
     "output_type": "display_data"
    },
    {
     "name": "stdout",
     "output_type": "stream",
     "text": [
      "\n"
     ]
    },
    {
     "data": {
      "text/html": [
       "<div>\n",
       "<style scoped>\n",
       "    .dataframe tbody tr th:only-of-type {\n",
       "        vertical-align: middle;\n",
       "    }\n",
       "\n",
       "    .dataframe tbody tr th {\n",
       "        vertical-align: top;\n",
       "    }\n",
       "\n",
       "    .dataframe thead th {\n",
       "        text-align: right;\n",
       "    }\n",
       "</style>\n",
       "<table border=\"1\" class=\"dataframe\">\n",
       "  <thead>\n",
       "    <tr style=\"text-align: right;\">\n",
       "      <th></th>\n",
       "      <th></th>\n",
       "      <th>adjClose</th>\n",
       "    </tr>\n",
       "    <tr>\n",
       "      <th>date</th>\n",
       "      <th>ticker</th>\n",
       "      <th></th>\n",
       "    </tr>\n",
       "  </thead>\n",
       "  <tbody>\n",
       "    <tr>\n",
       "      <th rowspan=\"5\" valign=\"top\">2018-01-02 00:00:00+00:00</th>\n",
       "      <th>a</th>\n",
       "      <td>65.888699</td>\n",
       "    </tr>\n",
       "    <tr>\n",
       "      <th>aal</th>\n",
       "      <td>51.648665</td>\n",
       "    </tr>\n",
       "    <tr>\n",
       "      <th>aap</th>\n",
       "      <td>104.909652</td>\n",
       "    </tr>\n",
       "    <tr>\n",
       "      <th>aapl</th>\n",
       "      <td>41.440086</td>\n",
       "    </tr>\n",
       "    <tr>\n",
       "      <th>abbv</th>\n",
       "      <td>84.038250</td>\n",
       "    </tr>\n",
       "    <tr>\n",
       "      <th>...</th>\n",
       "      <th>...</th>\n",
       "      <td>...</td>\n",
       "    </tr>\n",
       "    <tr>\n",
       "      <th rowspan=\"2\" valign=\"top\">2021-02-12 00:00:00+00:00</th>\n",
       "      <th>nktr</th>\n",
       "      <td>22.860000</td>\n",
       "    </tr>\n",
       "    <tr>\n",
       "      <th>wh</th>\n",
       "      <td>60.200000</td>\n",
       "    </tr>\n",
       "    <tr>\n",
       "      <th rowspan=\"3\" valign=\"top\">2021-02-16 00:00:00+00:00</th>\n",
       "      <th>chkaq</th>\n",
       "      <td>3.050000</td>\n",
       "    </tr>\n",
       "    <tr>\n",
       "      <th>kdp</th>\n",
       "      <td>31.420000</td>\n",
       "    </tr>\n",
       "    <tr>\n",
       "      <th>wh</th>\n",
       "      <td>60.700000</td>\n",
       "    </tr>\n",
       "  </tbody>\n",
       "</table>\n",
       "<p>412398 rows × 1 columns</p>\n",
       "</div>"
      ],
      "text/plain": [
       "                                    adjClose\n",
       "date                      ticker            \n",
       "2018-01-02 00:00:00+00:00 a        65.888699\n",
       "                          aal      51.648665\n",
       "                          aap     104.909652\n",
       "                          aapl     41.440086\n",
       "                          abbv     84.038250\n",
       "...                                      ...\n",
       "2021-02-12 00:00:00+00:00 nktr     22.860000\n",
       "                          wh       60.200000\n",
       "2021-02-16 00:00:00+00:00 chkaq     3.050000\n",
       "                          kdp      31.420000\n",
       "                          wh       60.700000\n",
       "\n",
       "[412398 rows x 1 columns]"
      ]
     },
     "execution_count": 29,
     "metadata": {},
     "output_type": "execute_result"
    }
   ],
   "source": [
    "price_df = None\n",
    "\n",
    "for symbol in notebook.tqdm(stock_list):\n",
    "    df, dd = load_data(\n",
    "        symbol=symbol,\n",
    "        start_date=START_DATE,\n",
    "        end_date=END_DATE,\n",
    "        freq=FREQ,\n",
    "        path=DATA_PATH\n",
    "    )\n",
    "            \n",
    "    tmp = df[['date', 'adjClose']].copy(deep=True)\n",
    "    tmp['ticker'] = symbol\n",
    "    \n",
    "    if price_df is None:\n",
    "        price_df = tmp\n",
    "    else:\n",
    "        price_df = price_df.append(tmp)\n",
    "\n",
    "        \n",
    "price_df['date'] = pd.to_datetime(price_df['date'], utc=True)\n",
    "price_df = price_df.sort_values(['date', 'ticker']).set_index(['date', 'ticker'])\n",
    "\n",
    "price_df.to_csv('/Users/michael/Desktop/price.csv')\n",
    "\n",
    "price_df"
   ]
  },
  {
   "cell_type": "markdown",
   "metadata": {},
   "source": [
    "---"
   ]
  },
  {
   "cell_type": "markdown",
   "metadata": {},
   "source": [
    "# Preprocessing Data"
   ]
  },
  {
   "cell_type": "markdown",
   "metadata": {},
   "source": [
    "## Preparation"
   ]
  },
  {
   "cell_type": "code",
   "execution_count": 30,
   "metadata": {
    "ExecuteTime": {
     "end_time": "2021-03-09T02:54:29.822486Z",
     "start_time": "2021-03-09T02:54:29.244657Z"
    }
   },
   "outputs": [],
   "source": [
    "# 为不破坏原始数据，先对其进行拷贝\n",
    "result_df = pd.read_csv('/Users/michael/Desktop/result.csv', index_col=[0,1])\n",
    "\n",
    "# 获取数据集中的数据名\n",
    "data_names = [\n",
    "    'adjOpen', \n",
    "    'adjHigh', \n",
    "    'adjLow', \n",
    "    'adjClose', \n",
    "    'marketCap', \n",
    "    'sicCode', \n",
    "    'sector'\n",
    "]\n",
    "\n",
    "# 获取数据集中需测试的因子名\n",
    "feature_names = [n for n in result_df.columns.tolist() if n not in data_names + REMOVING_FACTORS]\n",
    "\n",
    "_df = result_df[data_names + feature_names].copy(deep=True)"
   ]
  },
  {
   "cell_type": "markdown",
   "metadata": {},
   "source": [
    "## Process Null"
   ]
  },
  {
   "cell_type": "code",
   "execution_count": 31,
   "metadata": {
    "ExecuteTime": {
     "end_time": "2021-03-09T02:54:30.417009Z",
     "start_time": "2021-03-09T02:54:29.917229Z"
    }
   },
   "outputs": [
    {
     "data": {
      "text/plain": [
       "<matplotlib.axes._subplots.AxesSubplot at 0x7f8d4b372750>"
      ]
     },
     "execution_count": 31,
     "metadata": {},
     "output_type": "execute_result"
    },
    {
     "data": {
      "image/png": "[encoded data removed]",
      "text/plain": [
       "<Figure size 1800x720 with 2 Axes>"
      ]
     },
     "metadata": {
      "needs_background": "light"
     },
     "output_type": "display_data"
    }
   ],
   "source": [
    "import missingno as msno\n",
    "msno.matrix(_df)"
   ]
  },
  {
   "cell_type": "markdown",
   "metadata": {},
   "source": [
    "## Winsorization\n",
    "Reference: [Median Absolute Deviation](https://blog.csdn.net/horses/article/details/78749485)\n",
    "\n",
    "我们采用MAD（Median Absolute Deviation 绝对中位数法）去极值，对于极值部分将其均匀插值到 3-3.5 倍绝对中位数范围内。具体操作如下，首先计算当期所有股票在因子f上的中位数 mf ，然后计算绝对中位数\n",
    "\n",
    "$$MAD = median(\\left\\vert {f-mf}\\right\\vert )$$\n",
    "\n",
    "采用与 3σ 法等价的方法:\n",
    "1. 保留$[mf - 3*1.483*MAD, mf + 3*1.483*MAD]$ 之间股票的因子值不变。\n",
    "2. 取值大于$mf + 3*1.483 * MAD$的所有股票的因子取值按排序均匀压缩到 $[mf+3*1.483*MAD, mf+3.5*1.483*MAD]$ 之间，\n",
    "3. 取值低于$mf - 3*1.483 * MAD$的所有股票的因子取值按排序均匀压缩到 $[mf−3.5*1.483*MAD, mf−3*1.483*MAD]$ 之间\n",
    "4. 这样去除了极值同时也在极值的股票之间保序。"
   ]
  },
  {
   "cell_type": "code",
   "execution_count": 32,
   "metadata": {
    "ExecuteTime": {
     "end_time": "2021-03-09T02:54:30.952486Z",
     "start_time": "2021-03-09T02:54:30.511113Z"
    },
    "cell_style": "center",
    "scrolled": true
   },
   "outputs": [],
   "source": [
    "def winsorizae_3_alpha(df: pd.DataFrame, trim: bool=True) -> pd.DataFrame:\n",
    "    \n",
    "    median = df.median(axis=0)\n",
    "    MAD = abs(df.sub(median, axis=1)).median(axis=0)\n",
    "    MAD_THRESHOLD = 3\n",
    "    MAD_BOUND = 3.5\n",
    "    sigma = df.std(axis=0)\n",
    "\n",
    "    if trim:\n",
    "        df = df.clip(\n",
    "            lower=(median - MAD_THRESHOLD * sigma * MAD), \n",
    "            upper=(median + MAD_THRESHOLD * sigma * MAD), \n",
    "            axis=1\n",
    "        )\n",
    "\n",
    "    else:\n",
    "        upper_lower_range = median + MAD_THRESHOLD * sigma * MAD\n",
    "        upper_higher_range = median + MAD_BOUND * sigma * MAD\n",
    "        upper_target_range = upper_higher_range - upper_lower_range\n",
    "        upper_actual_range = df.max() - upper_lower_range\n",
    "\n",
    "        udiff = upper_actual_range / upper_target_range\n",
    "\n",
    "        lower_lower_range = median - MAD_THRESHOLD * sigma * MAD\n",
    "        lower_higher_range = median - MAD_BOUND * sigma * MAD\n",
    "        lower_target_range = lower_higher_range - lower_lower_range\n",
    "        lower_actual_range = df.min() - lower_lower_range\n",
    "\n",
    "        ldiff = lower_actual_range/lower_target_range\n",
    "\n",
    "        df = df.mask(\n",
    "            df > upper_lower_range, \n",
    "            (df - upper_lower_range) / udiff + upper_lower_range\n",
    "        )\n",
    "        df = df.mask(\n",
    "            df < lower_lower_range, \n",
    "            (df - lower_lower_range) / ldiff + lower_lower_range\n",
    "        )\n",
    "    return df\n",
    "        \n",
    "_df.loc[:, feature_names] = winsorizae_3_alpha(_df.loc[:, feature_names], trim=False)"
   ]
  },
  {
   "cell_type": "markdown",
   "metadata": {},
   "source": [
    "---"
   ]
  },
  {
   "cell_type": "markdown",
   "metadata": {},
   "source": [
    "## Standardization"
   ]
  },
  {
   "cell_type": "code",
   "execution_count": 33,
   "metadata": {
    "ExecuteTime": {
     "end_time": "2021-03-09T02:54:31.407345Z",
     "start_time": "2021-03-09T02:54:31.048559Z"
    }
   },
   "outputs": [],
   "source": [
    "_df.loc[:, feature_names] = (\n",
    "    (\n",
    "        _df.loc[:, feature_names] - \n",
    "        _df.loc[:, feature_names].mean()\n",
    "    ) / _df.loc[:, feature_names].std()\n",
    ")"
   ]
  },
  {
   "cell_type": "markdown",
   "metadata": {
    "cell_style": "center"
   },
   "source": [
    "## Neutralization"
   ]
  },
  {
   "cell_type": "code",
   "execution_count": 34,
   "metadata": {
    "ExecuteTime": {
     "end_time": "2021-03-09T02:54:31.507911Z",
     "start_time": "2021-03-09T02:54:31.504492Z"
    }
   },
   "outputs": [],
   "source": [
    "# 回归取残差\n",
    "def calc_resid(x: pd.DataFrame, y: pd.Series) -> float:\n",
    "    result = sm.OLS(y, x).fit()\n",
    "    return result.resid"
   ]
  },
  {
   "cell_type": "code",
   "execution_count": 35,
   "metadata": {
    "ExecuteTime": {
     "end_time": "2021-03-09T02:54:32.215273Z",
     "start_time": "2021-03-09T02:54:31.622581Z"
    }
   },
   "outputs": [],
   "source": [
    "X = pd.get_dummies(_df['sector'])\n",
    "X['marketCap'] = np.log(_df['marketCap'])\n",
    "\n",
    "neutralized_df = pd.concat([calc_resid(X.fillna(0), _df[i]) for i in feature_names], axis=1)\n",
    "neutralized_df.columns = feature_names\n",
    "\n",
    "neutralized_df['sicCode'] = _df['sicCode']\n",
    "neutralized_df['sector'] = _df['sector']\n",
    "neutralized_df['marketCap'] = _df['marketCap']\n",
    "neutralized_df['adjOpen'] = _df['adjOpen']\n",
    "neutralized_df['adjHigh'] = _df['adjHigh']\n",
    "neutralized_df['adjLow'] = _df['adjLow']\n",
    "neutralized_df['adjClose'] = _df['adjClose']"
   ]
  },
  {
   "cell_type": "markdown",
   "metadata": {},
   "source": [
    "---"
   ]
  },
  {
   "cell_type": "markdown",
   "metadata": {},
   "source": [
    "# Scoring the stocks"
   ]
  },
  {
   "cell_type": "markdown",
   "metadata": {},
   "source": [
    "## Calculate daily/weekly return"
   ]
  },
  {
   "cell_type": "code",
   "execution_count": 36,
   "metadata": {
    "ExecuteTime": {
     "end_time": "2021-03-09T02:54:35.156519Z",
     "start_time": "2021-03-09T02:54:32.326776Z"
    }
   },
   "outputs": [],
   "source": [
    "if USE_ORTHOGONAL_DATA:\n",
    "    prepared_df = orthogonalized_df.copy(deep=True)\n",
    "else:\n",
    "    prepared_df = neutralized_df.copy(deep=True)\n",
    "    \n",
    "prepared_df = prepared_df.reset_index()\n",
    "prepared_df['date'] = pd.to_datetime(prepared_df['date'])\n",
    "prepared_df.set_index(['date', 'ticker'], inplace=True)\n",
    "\n",
    "rtn = prepared_df.reset_index()\n",
    "rtn = pd.pivot(rtn[['date', 'ticker', 'adjClose']], index='date', columns='ticker', values='adjClose')\n",
    "if FREQ == 'daily':\n",
    "    rtn = rtn.pct_change()\n",
    "elif FREQ == 'weekly':\n",
    "    rtn = rtn.pct_change(5)\n",
    "elif FREQ == 'monthly':\n",
    "    rtn = rtn.pct_change(22)\n",
    "else:\n",
    "    raise(Exception('Frequency not setting up'))\n",
    "rtn = rtn.iloc[:-1]\n",
    "rtn = rtn.stack()\n",
    "prepared_df['rtn'] = rtn\n",
    "prepared_df['log_rtn'] = np.log(1 + rtn)\n",
    "\n",
    "# ----------------------------------------\n",
    "if FREQ == 'daily':\n",
    "    pass\n",
    "elif FREQ == 'weekly':\n",
    "    idx = [d for d in prepared_df.index.levels[0] if d.isoweekday() == 1]\n",
    "    prepared_df = prepared_df.loc[idx, :]\n",
    "elif FREQ == 'monthly':\n",
    "    idx = [d for d in prepared_df.index.levels[0] if d.day == 1]\n",
    "    prepared_df = prepared_df.loc[idx, :]\n",
    "else:\n",
    "    raise(Exception('Frequency not setting up'))\n",
    "# ----------------------------------------\n",
    "\n",
    "prepared_df.to_csv('/Users/michael/Desktop/prepared_data.csv')"
   ]
  },
  {
   "cell_type": "code",
   "execution_count": 37,
   "metadata": {
    "ExecuteTime": {
     "end_time": "2021-03-09T02:54:35.598701Z",
     "start_time": "2021-03-09T02:54:35.297438Z"
    }
   },
   "outputs": [],
   "source": [
    "prepared_df = pd.read_csv('/Users/michael/Desktop/prepared_data.csv').sort_values(['date', 'ticker'])\n",
    "prepared_df['date'] = pd.to_datetime(prepared_df['date'])\n",
    "prepared_df.set_index(['date', 'ticker'], inplace=True)"
   ]
  },
  {
   "cell_type": "markdown",
   "metadata": {},
   "source": [
    "## Calculate factor weights in order to calculate final score\n",
    "We are going to implement three different ways to calculate the weight of factors, in order to calculate our final score:\n",
    "1. IC weighted\n",
    "2. IR weighted\n",
    "3. Equal weighted"
   ]
  },
  {
   "cell_type": "code",
   "execution_count": 38,
   "metadata": {
    "ExecuteTime": {
     "end_time": "2021-03-09T02:54:35.829607Z",
     "start_time": "2021-03-09T02:54:35.738971Z"
    }
   },
   "outputs": [],
   "source": [
    "# Required number of sample data per day\n",
    "N = 200\n",
    "prepared_df = prepared_df.dropna().groupby(level='date').filter(lambda x: len(x) > N)"
   ]
  },
  {
   "cell_type": "markdown",
   "metadata": {},
   "source": [
    "### Using IC to calculate the weights for scoring"
   ]
  },
  {
   "cell_type": "markdown",
   "metadata": {},
   "source": [
    "A股不能做空 所以要取绝对值（不然后面权重计算会有问题） 其次时IC代表的是相关性 正负只是方向 所以有时候看abs（ic） 大于一定的阈值就可以确定ic的有效性了"
   ]
  },
  {
   "cell_type": "code",
   "execution_count": 39,
   "metadata": {
    "ExecuteTime": {
     "end_time": "2021-03-09T02:54:36.791244Z",
     "start_time": "2021-03-09T02:54:35.960936Z"
    }
   },
   "outputs": [],
   "source": [
    "IC = prepared_df.groupby(level='date').apply(\n",
    "    lambda x: [stats.spearmanr(x[factor], x['rtn'], nan_policy='omit')[0] for factor in feature_names]\n",
    ")\n",
    "\n",
    "# 计算ic值，得到ic的\n",
    "IC = pd.DataFrame(IC.tolist(), index=IC.index, columns=feature_names)\n",
    "\n",
    "# 计算IC的绝对值\n",
    "IC_abs = IC.abs()\n",
    "\n",
    "# rolling为移动窗口函数,滚动12个月\n",
    "rolling_ic = IC_abs.rolling(12, min_periods=1).mean()\n",
    "\n",
    "# 当滚动计算标准差时，起始日期得到的是缺失值，所以算完权重后，起始日期的值任用原值IC代替\n",
    "rolling_ic_std = IC_abs.rolling(12, min_periods=1).std()\n",
    "\n",
    "# 计算IR值\n",
    "IR = rolling_ic / rolling_ic_std\n",
    "IR.iloc[0,:] = rolling_ic.iloc[0,:]"
   ]
  },
  {
   "cell_type": "code",
   "execution_count": 40,
   "metadata": {
    "ExecuteTime": {
     "end_time": "2021-03-09T02:54:36.959198Z",
     "start_time": "2021-03-09T02:54:36.953737Z"
    }
   },
   "outputs": [],
   "source": [
    "# 计算IR权重,按行求和,按列相除\n",
    "IR_weights = IR.div(IR.sum(axis=1), axis=0)\n",
    "IC_weights = IC_abs.div(IC_abs.sum(axis=1), axis=0)"
   ]
  },
  {
   "cell_type": "markdown",
   "metadata": {},
   "source": [
    "## Scores"
   ]
  },
  {
   "cell_type": "markdown",
   "metadata": {},
   "source": [
    "### Calculate scores \n",
    "`factors5['score'] = (factors5[factor_names].mul(weights.shift())).sum(axis=1)`\n",
    "\n",
    "> PS: 这里计算分数时：\n",
    "> \n",
    "> **因为计算当期weights时，需要先计算IC值，计算IC值时用到了当期的收益率，所以为了避免未来数据，应该是当期因子值乘以上一期的weights**"
   ]
  },
  {
   "cell_type": "code",
   "execution_count": 41,
   "metadata": {
    "ExecuteTime": {
     "end_time": "2021-03-09T02:54:37.148289Z",
     "start_time": "2021-03-09T02:54:37.109209Z"
    }
   },
   "outputs": [],
   "source": [
    "# 计算因子分数\n",
    "if FACTOR_WEIGHT_METHOD == 'IC':\n",
    "    prepared_df['score'] = (prepared_df[feature_names].mul(IC_weights.shift())).sum(axis=1)\n",
    "elif FACTOR_WEIGHT_METHOD == 'IR':\n",
    "    prepared_df['score'] = (prepared_df[feature_names].mul(IR_weights.shift())).sum(axis=1)\n",
    "elif FACTOR_WEIGHT_METHOD == 'EQUAL':\n",
    "    prepared_df['score'] = prepared_df[feature_names].sum(axis=1).shift()"
   ]
  },
  {
   "cell_type": "markdown",
   "metadata": {},
   "source": [
    "### Exam the correlation between score and returns"
   ]
  },
  {
   "cell_type": "code",
   "execution_count": 42,
   "metadata": {
    "ExecuteTime": {
     "end_time": "2021-03-09T02:54:37.350562Z",
     "start_time": "2021-03-09T02:54:37.306827Z"
    }
   },
   "outputs": [
    {
     "data": {
      "text/plain": [
       "0.031366517662232724"
      ]
     },
     "execution_count": 42,
     "metadata": {},
     "output_type": "execute_result"
    }
   ],
   "source": [
    "prepared_df[['log_rtn', 'score']].corr('spearman').iloc[1,0]"
   ]
  },
  {
   "cell_type": "markdown",
   "metadata": {},
   "source": [
    "### Accumulate returns by score groups"
   ]
  },
  {
   "cell_type": "code",
   "execution_count": 43,
   "metadata": {
    "ExecuteTime": {
     "end_time": "2021-03-09T02:54:40.519984Z",
     "start_time": "2021-03-09T02:54:37.564860Z"
    },
    "cell_style": "center"
   },
   "outputs": [],
   "source": [
    "_prepared_df = snp_scaffolding.copy()\n",
    "_prepared_df['sector'] = prepared_df['sector']\n",
    "_prepared_df['score'] = prepared_df['score']\n",
    "_prepared_df['log_rtn'] = prepared_df['log_rtn']\n",
    "_prepared_df.dropna(inplace=True)\n",
    "_prepared_df.index = _prepared_df.index.droplevel(1)\n",
    "_prepared_df.reset_index().drop(columns='date', inplace=True)"
   ]
  },
  {
   "cell_type": "code",
   "execution_count": 44,
   "metadata": {
    "ExecuteTime": {
     "end_time": "2021-03-09T02:54:41.845119Z",
     "start_time": "2021-03-09T02:54:40.664172Z"
    },
    "cell_style": "center",
    "scrolled": false
   },
   "outputs": [
    {
     "data": {
      "text/plain": [
       "<matplotlib.axes._subplots.AxesSubplot at 0x7f8d0e23b290>"
      ]
     },
     "execution_count": 44,
     "metadata": {},
     "output_type": "execute_result"
    },
    {
     "data": {
      "image/png": "[encoded data removed]",
      "text/plain": [
       "<Figure size 1080x720 with 1 Axes>"
      ]
     },
     "metadata": {
      "needs_background": "light"
     },
     "output_type": "display_data"
    }
   ],
   "source": [
    "_prepared_df['rate'] = _prepared_df.groupby('date')['score'].apply(lambda x : pd.cut(x, bins=8, labels=['R8', 'R7', 'R6','R5','R4','R3','R2','R1']))\n",
    "x = _prepared_df.groupby(['date', 'rate'])['log_rtn'].apply(lambda x: x.sum()/len(x)).reset_index().set_index(['rate', 'date'])\n",
    "z = pd.DataFrame(index=x.loc['R1'].index)\n",
    "    \n",
    "for i in range(1,9):\n",
    "    z[f'R{i}'] = x.loc[f'R{i}',:].cumsum()\n",
    "    \n",
    "plt.figure(figsize=(15, 10))\n",
    "plt.xticks(rotation=90)\n",
    "plt.yticks(rotation=45)\n",
    "\n",
    "sns.lineplot(data=z)"
   ]
  },
  {
   "cell_type": "markdown",
   "metadata": {},
   "source": [
    "**Methodology Instruction**\n",
    "1. Get top N stocks by factor score\n",
    "2. Evenly weighted\n",
    "3. Optimization \n",
    "  - Objective: to minimize risk\n",
    "  - Constrain: \n",
    "    - Total weight = 1\n",
    "    - No short"
   ]
  },
  {
   "cell_type": "markdown",
   "metadata": {},
   "source": [
    "## Implementation\n",
    "Adjust the data to make sure they fall into the composition of S&P 500 on that day"
   ]
  },
  {
   "cell_type": "code",
   "execution_count": 45,
   "metadata": {
    "ExecuteTime": {
     "end_time": "2021-03-09T02:54:45.770932Z",
     "start_time": "2021-03-09T02:54:42.018137Z"
    }
   },
   "outputs": [],
   "source": [
    "adjusted_portfolio = snp_scaffolding.copy()\n",
    "adjusted_portfolio['score'] = prepared_df['score']\n",
    "adjusted_portfolio['log_rtn'] = prepared_df['log_rtn']\n",
    "adjusted_portfolio['marketCap'] = prepared_df['marketCap']\n",
    "\n",
    "# Get industry weight\n",
    "adjusted_portfolio['capWeight'] = adjusted_portfolio.groupby('date')['marketCap'].apply(lambda x:x/x.sum())\n",
    "adjusted_portfolio['weighted_rtn'] = adjusted_portfolio['capWeight'] * adjusted_portfolio['log_rtn']\n",
    "\n",
    "adjusted_portfolio.dropna(inplace=True)"
   ]
  },
  {
   "cell_type": "code",
   "execution_count": 46,
   "metadata": {
    "ExecuteTime": {
     "end_time": "2021-03-09T02:54:46.025029Z",
     "start_time": "2021-03-09T02:54:45.964934Z"
    }
   },
   "outputs": [],
   "source": [
    "TOP_N = 20\n",
    "\n",
    "final_portfolio = adjusted_portfolio.reset_index().sort_values(['date', 'score'], ascending=[True, False]).set_index(['date']).groupby('date').head(TOP_N)\n",
    "# Evenly weighted\n",
    "final_portfolio['weighted_rtn'] = final_portfolio['log_rtn'] / TOP_N\n",
    "# Cap weighted\n",
    "# final_portfolio['capWeight'] = final_portfolio.groupby('date')['marketCap'].apply(lambda x:x/x.sum())\n",
    "# final_portfolio['weighted_rtn'] = final_portfolio['capWeight'] * final_portfolio['log_rtn']\n",
    "\n",
    "final_portfolio.dropna(inplace=True)"
   ]
  },
  {
   "cell_type": "code",
   "execution_count": 47,
   "metadata": {
    "ExecuteTime": {
     "end_time": "2021-03-09T02:54:46.250566Z",
     "start_time": "2021-03-09T02:54:46.238065Z"
    },
    "scrolled": true
   },
   "outputs": [
    {
     "data": {
      "text/html": [
       "<div>\n",
       "<style scoped>\n",
       "    .dataframe tbody tr th:only-of-type {\n",
       "        vertical-align: middle;\n",
       "    }\n",
       "\n",
       "    .dataframe tbody tr th {\n",
       "        vertical-align: top;\n",
       "    }\n",
       "\n",
       "    .dataframe thead th {\n",
       "        text-align: right;\n",
       "    }\n",
       "</style>\n",
       "<table border=\"1\" class=\"dataframe\">\n",
       "  <thead>\n",
       "    <tr style=\"text-align: right;\">\n",
       "      <th></th>\n",
       "      <th>ticker</th>\n",
       "      <th>score</th>\n",
       "      <th>log_rtn</th>\n",
       "      <th>marketCap</th>\n",
       "      <th>capWeight</th>\n",
       "      <th>weighted_rtn</th>\n",
       "    </tr>\n",
       "    <tr>\n",
       "      <th>date</th>\n",
       "      <th></th>\n",
       "      <th></th>\n",
       "      <th></th>\n",
       "      <th></th>\n",
       "      <th></th>\n",
       "      <th></th>\n",
       "    </tr>\n",
       "  </thead>\n",
       "  <tbody>\n",
       "    <tr>\n",
       "      <th>2020-04-01 00:00:00+00:00</th>\n",
       "      <td>a</td>\n",
       "      <td>0.000000</td>\n",
       "      <td>-0.038428</td>\n",
       "      <td>2.122544e+10</td>\n",
       "      <td>0.001031</td>\n",
       "      <td>-0.001921</td>\n",
       "    </tr>\n",
       "    <tr>\n",
       "      <th>2020-04-01 00:00:00+00:00</th>\n",
       "      <td>aal</td>\n",
       "      <td>0.000000</td>\n",
       "      <td>-0.131307</td>\n",
       "      <td>4.554568e+09</td>\n",
       "      <td>0.000221</td>\n",
       "      <td>-0.006565</td>\n",
       "    </tr>\n",
       "    <tr>\n",
       "      <th>2020-04-01 00:00:00+00:00</th>\n",
       "      <td>aapl</td>\n",
       "      <td>0.000000</td>\n",
       "      <td>-0.054052</td>\n",
       "      <td>1.047572e+12</td>\n",
       "      <td>0.050862</td>\n",
       "      <td>-0.002703</td>\n",
       "    </tr>\n",
       "    <tr>\n",
       "      <th>2020-04-01 00:00:00+00:00</th>\n",
       "      <td>abbv</td>\n",
       "      <td>0.000000</td>\n",
       "      <td>-0.037034</td>\n",
       "      <td>1.043679e+11</td>\n",
       "      <td>0.005067</td>\n",
       "      <td>-0.001852</td>\n",
       "    </tr>\n",
       "    <tr>\n",
       "      <th>2020-04-01 00:00:00+00:00</th>\n",
       "      <td>abc</td>\n",
       "      <td>0.000000</td>\n",
       "      <td>-0.025984</td>\n",
       "      <td>1.752496e+10</td>\n",
       "      <td>0.000851</td>\n",
       "      <td>-0.001299</td>\n",
       "    </tr>\n",
       "    <tr>\n",
       "      <th>...</th>\n",
       "      <td>...</td>\n",
       "      <td>...</td>\n",
       "      <td>...</td>\n",
       "      <td>...</td>\n",
       "      <td>...</td>\n",
       "      <td>...</td>\n",
       "    </tr>\n",
       "    <tr>\n",
       "      <th>2021-01-20 00:00:00+00:00</th>\n",
       "      <td>dgx</td>\n",
       "      <td>0.709254</td>\n",
       "      <td>0.010815</td>\n",
       "      <td>1.697917e+10</td>\n",
       "      <td>0.000508</td>\n",
       "      <td>0.000541</td>\n",
       "    </tr>\n",
       "    <tr>\n",
       "      <th>2021-01-20 00:00:00+00:00</th>\n",
       "      <td>len</td>\n",
       "      <td>0.646242</td>\n",
       "      <td>0.053381</td>\n",
       "      <td>2.446854e+10</td>\n",
       "      <td>0.000732</td>\n",
       "      <td>0.002669</td>\n",
       "    </tr>\n",
       "    <tr>\n",
       "      <th>2021-01-20 00:00:00+00:00</th>\n",
       "      <td>wdc</td>\n",
       "      <td>0.644692</td>\n",
       "      <td>-0.003275</td>\n",
       "      <td>1.581770e+10</td>\n",
       "      <td>0.000473</td>\n",
       "      <td>-0.000164</td>\n",
       "    </tr>\n",
       "    <tr>\n",
       "      <th>2021-01-20 00:00:00+00:00</th>\n",
       "      <td>ivz</td>\n",
       "      <td>0.633558</td>\n",
       "      <td>0.063149</td>\n",
       "      <td>9.301536e+09</td>\n",
       "      <td>0.000278</td>\n",
       "      <td>0.003157</td>\n",
       "    </tr>\n",
       "    <tr>\n",
       "      <th>2021-01-20 00:00:00+00:00</th>\n",
       "      <td>amzn</td>\n",
       "      <td>0.612078</td>\n",
       "      <td>0.044687</td>\n",
       "      <td>1.565845e+12</td>\n",
       "      <td>0.046818</td>\n",
       "      <td>0.002234</td>\n",
       "    </tr>\n",
       "  </tbody>\n",
       "</table>\n",
       "<p>4060 rows × 6 columns</p>\n",
       "</div>"
      ],
      "text/plain": [
       "                          ticker     score   log_rtn     marketCap  capWeight  \\\n",
       "date                                                                            \n",
       "2020-04-01 00:00:00+00:00      a  0.000000 -0.038428  2.122544e+10   0.001031   \n",
       "2020-04-01 00:00:00+00:00    aal  0.000000 -0.131307  4.554568e+09   0.000221   \n",
       "2020-04-01 00:00:00+00:00   aapl  0.000000 -0.054052  1.047572e+12   0.050862   \n",
       "2020-04-01 00:00:00+00:00   abbv  0.000000 -0.037034  1.043679e+11   0.005067   \n",
       "2020-04-01 00:00:00+00:00    abc  0.000000 -0.025984  1.752496e+10   0.000851   \n",
       "...                          ...       ...       ...           ...        ...   \n",
       "2021-01-20 00:00:00+00:00    dgx  0.709254  0.010815  1.697917e+10   0.000508   \n",
       "2021-01-20 00:00:00+00:00    len  0.646242  0.053381  2.446854e+10   0.000732   \n",
       "2021-01-20 00:00:00+00:00    wdc  0.644692 -0.003275  1.581770e+10   0.000473   \n",
       "2021-01-20 00:00:00+00:00    ivz  0.633558  0.063149  9.301536e+09   0.000278   \n",
       "2021-01-20 00:00:00+00:00   amzn  0.612078  0.044687  1.565845e+12   0.046818   \n",
       "\n",
       "                           weighted_rtn  \n",
       "date                                     \n",
       "2020-04-01 00:00:00+00:00     -0.001921  \n",
       "2020-04-01 00:00:00+00:00     -0.006565  \n",
       "2020-04-01 00:00:00+00:00     -0.002703  \n",
       "2020-04-01 00:00:00+00:00     -0.001852  \n",
       "2020-04-01 00:00:00+00:00     -0.001299  \n",
       "...                                 ...  \n",
       "2021-01-20 00:00:00+00:00      0.000541  \n",
       "2021-01-20 00:00:00+00:00      0.002669  \n",
       "2021-01-20 00:00:00+00:00     -0.000164  \n",
       "2021-01-20 00:00:00+00:00      0.003157  \n",
       "2021-01-20 00:00:00+00:00      0.002234  \n",
       "\n",
       "[4060 rows x 6 columns]"
      ]
     },
     "execution_count": 47,
     "metadata": {},
     "output_type": "execute_result"
    }
   ],
   "source": [
    "final_portfolio"
   ]
  },
  {
   "cell_type": "markdown",
   "metadata": {},
   "source": [
    "## Performance analysis"
   ]
  },
  {
   "cell_type": "markdown",
   "metadata": {},
   "source": [
    "### Portfolio return and line chart"
   ]
  },
  {
   "cell_type": "code",
   "execution_count": 48,
   "metadata": {
    "ExecuteTime": {
     "end_time": "2021-03-09T02:54:46.543401Z",
     "start_time": "2021-03-09T02:54:46.426806Z"
    }
   },
   "outputs": [
    {
     "data": {
      "text/html": [
       "<div>\n",
       "<style scoped>\n",
       "    .dataframe tbody tr th:only-of-type {\n",
       "        vertical-align: middle;\n",
       "    }\n",
       "\n",
       "    .dataframe tbody tr th {\n",
       "        vertical-align: top;\n",
       "    }\n",
       "\n",
       "    .dataframe thead th {\n",
       "        text-align: right;\n",
       "    }\n",
       "</style>\n",
       "<table border=\"1\" class=\"dataframe\">\n",
       "  <thead>\n",
       "    <tr style=\"text-align: right;\">\n",
       "      <th></th>\n",
       "      <th>portfolio</th>\n",
       "      <th>benchmark</th>\n",
       "      <th>excess_rtn</th>\n",
       "    </tr>\n",
       "    <tr>\n",
       "      <th>date</th>\n",
       "      <th></th>\n",
       "      <th></th>\n",
       "      <th></th>\n",
       "    </tr>\n",
       "  </thead>\n",
       "  <tbody>\n",
       "    <tr>\n",
       "      <th>2020-04-01 00:00:00+00:00</th>\n",
       "      <td>-0.059091</td>\n",
       "      <td>-0.044318</td>\n",
       "      <td>-0.014773</td>\n",
       "    </tr>\n",
       "    <tr>\n",
       "      <th>2020-04-02 00:00:00+00:00</th>\n",
       "      <td>-0.052592</td>\n",
       "      <td>-0.021553</td>\n",
       "      <td>-0.031039</td>\n",
       "    </tr>\n",
       "    <tr>\n",
       "      <th>2020-04-03 00:00:00+00:00</th>\n",
       "      <td>-0.060563</td>\n",
       "      <td>-0.036337</td>\n",
       "      <td>-0.024226</td>\n",
       "    </tr>\n",
       "    <tr>\n",
       "      <th>2020-04-06 00:00:00+00:00</th>\n",
       "      <td>0.029612</td>\n",
       "      <td>0.032608</td>\n",
       "      <td>-0.002995</td>\n",
       "    </tr>\n",
       "    <tr>\n",
       "      <th>2020-04-07 00:00:00+00:00</th>\n",
       "      <td>0.049621</td>\n",
       "      <td>0.031145</td>\n",
       "      <td>0.018476</td>\n",
       "    </tr>\n",
       "    <tr>\n",
       "      <th>...</th>\n",
       "      <td>...</td>\n",
       "      <td>...</td>\n",
       "      <td>...</td>\n",
       "    </tr>\n",
       "    <tr>\n",
       "      <th>2021-01-13 00:00:00+00:00</th>\n",
       "      <td>0.799550</td>\n",
       "      <td>0.439105</td>\n",
       "      <td>0.360445</td>\n",
       "    </tr>\n",
       "    <tr>\n",
       "      <th>2021-01-14 00:00:00+00:00</th>\n",
       "      <td>0.810032</td>\n",
       "      <td>0.435206</td>\n",
       "      <td>0.374826</td>\n",
       "    </tr>\n",
       "    <tr>\n",
       "      <th>2021-01-15 00:00:00+00:00</th>\n",
       "      <td>0.800046</td>\n",
       "      <td>0.428291</td>\n",
       "      <td>0.371755</td>\n",
       "    </tr>\n",
       "    <tr>\n",
       "      <th>2021-01-19 00:00:00+00:00</th>\n",
       "      <td>0.814401</td>\n",
       "      <td>0.436622</td>\n",
       "      <td>0.377779</td>\n",
       "    </tr>\n",
       "    <tr>\n",
       "      <th>2021-01-20 00:00:00+00:00</th>\n",
       "      <td>0.826592</td>\n",
       "      <td>0.450826</td>\n",
       "      <td>0.375766</td>\n",
       "    </tr>\n",
       "  </tbody>\n",
       "</table>\n",
       "<p>203 rows × 3 columns</p>\n",
       "</div>"
      ],
      "text/plain": [
       "                           portfolio  benchmark  excess_rtn\n",
       "date                                                       \n",
       "2020-04-01 00:00:00+00:00  -0.059091  -0.044318   -0.014773\n",
       "2020-04-02 00:00:00+00:00  -0.052592  -0.021553   -0.031039\n",
       "2020-04-03 00:00:00+00:00  -0.060563  -0.036337   -0.024226\n",
       "2020-04-06 00:00:00+00:00   0.029612   0.032608   -0.002995\n",
       "2020-04-07 00:00:00+00:00   0.049621   0.031145    0.018476\n",
       "...                              ...        ...         ...\n",
       "2021-01-13 00:00:00+00:00   0.799550   0.439105    0.360445\n",
       "2021-01-14 00:00:00+00:00   0.810032   0.435206    0.374826\n",
       "2021-01-15 00:00:00+00:00   0.800046   0.428291    0.371755\n",
       "2021-01-19 00:00:00+00:00   0.814401   0.436622    0.377779\n",
       "2021-01-20 00:00:00+00:00   0.826592   0.450826    0.375766\n",
       "\n",
       "[203 rows x 3 columns]"
      ]
     },
     "execution_count": 48,
     "metadata": {},
     "output_type": "execute_result"
    }
   ],
   "source": [
    "x = final_portfolio.groupby('date').apply(lambda x: x['weighted_rtn'].sum()).cumsum()\n",
    "benchmark = adjusted_portfolio.reset_index().groupby('date').apply(lambda x: x['weighted_rtn'].sum()).cumsum()\n",
    "z = pd.DataFrame([x.values, benchmark.values], index=[\"portfolio\", \"benchmark\"], columns=x.index).T\n",
    "z['excess_rtn'] = z['portfolio'] - z['benchmark']\n",
    "z"
   ]
  },
  {
   "cell_type": "code",
   "execution_count": 49,
   "metadata": {
    "ExecuteTime": {
     "end_time": "2021-03-09T02:54:47.169885Z",
     "start_time": "2021-03-09T02:54:46.720723Z"
    },
    "scrolled": true
   },
   "outputs": [
    {
     "data": {
      "text/plain": [
       "<matplotlib.axes._subplots.AxesSubplot at 0x7f8ca88bd4d0>"
      ]
     },
     "execution_count": 49,
     "metadata": {},
     "output_type": "execute_result"
    },
    {
     "data": {
      "image/png": "[encoded data removed]",
      "text/plain": [
       "<Figure size 1080x720 with 1 Axes>"
      ]
     },
     "metadata": {},
     "output_type": "display_data"
    }
   ],
   "source": [
    "sns.set_style(\"darkgrid\")\n",
    "plt.figure(figsize=(15, 10))\n",
    "plt.xticks(rotation=45)\n",
    "plt.yticks(rotation=45)\n",
    "sns.lineplot(data=z, markers=True)"
   ]
  },
  {
   "cell_type": "markdown",
   "metadata": {},
   "source": [
    "### Portfolio performance stats"
   ]
  },
  {
   "cell_type": "code",
   "execution_count": 50,
   "metadata": {
    "ExecuteTime": {
     "end_time": "2021-03-09T02:54:47.548123Z",
     "start_time": "2021-03-09T02:54:47.369234Z"
    }
   },
   "outputs": [
    {
     "name": "stdout",
     "output_type": "stream",
     "text": [
      "Portfolio Variance\n",
      "5.22 %\n",
      "Sharpe Ratio\n",
      "14.96\n",
      "Win Rate\n",
      "97.537 %\n",
      "alpha is -0.751\n",
      "beta is 37.009\n"
     ]
    }
   ],
   "source": [
    "ann_factor = 252\n",
    "variance = z['portfolio'].var() * ann_factor / len(z['portfolio'])\n",
    "\n",
    "# Show annualized variance\n",
    "print('Portfolio Variance')\n",
    "print((variance * 100).round(2), '%')\n",
    "\n",
    "# Calculate Sharpe Ratio\n",
    "ann_factor = 252\n",
    "sharpe_ratio = np.sqrt(ann_factor) * z['excess_rtn'].mean() / z['portfolio'].std()\n",
    "  \n",
    "# Show Results\n",
    "print('Sharpe Ratio')\n",
    "print(sharpe_ratio.round(2))\n",
    "\n",
    "win_rate = len(z[z['excess_rtn'] > 0]['excess_rtn']) / z.shape[0]\n",
    "\n",
    "# Show Win Rate\n",
    "print('Win Rate')\n",
    "print(f'{win_rate*100:.3f} %')\n",
    "\n",
    "x = final_portfolio.groupby('date')['log_rtn'].apply(lambda x: x.sum()).cumsum()\n",
    "benchmark = adjusted_portfolio.reset_index().groupby('date')['weighted_rtn'].apply(lambda x: x.sum()).cumsum()\n",
    "z = pd.DataFrame([x.values, benchmark.values], index=[\"portfolio\", \"benchmark\"], columns=x.index).T\n",
    "\n",
    "_x = z['benchmark']\n",
    "_X = sm.add_constant(_x)\n",
    "_y = z['portfolio']\n",
    "\n",
    "res = sm.OLS(_y, _X).fit()\n",
    "\n",
    "alpha, beta = res.params\n",
    "print(f'alpha is {alpha:.3f}')\n",
    "print(f'beta is {beta:.3f}')"
   ]
  },
  {
   "cell_type": "markdown",
   "metadata": {},
   "source": [
    "### Turnover analysis"
   ]
  },
  {
   "cell_type": "code",
   "execution_count": 51,
   "metadata": {
    "ExecuteTime": {
     "end_time": "2021-03-09T02:54:48.168251Z",
     "start_time": "2021-03-09T02:54:47.808173Z"
    },
    "scrolled": true
   },
   "outputs": [
    {
     "data": {
      "text/plain": [
       "<matplotlib.axes._subplots.AxesSubplot at 0x7f8d0b9ae5d0>"
      ]
     },
     "execution_count": 51,
     "metadata": {},
     "output_type": "execute_result"
    },
    {
     "data": {
      "image/png": "[encoded data removed]",
      "text/plain": [
       "<Figure size 1080x576 with 1 Axes>"
      ]
     },
     "metadata": {},
     "output_type": "display_data"
    }
   ],
   "source": [
    "turnover_df = final_portfolio.groupby('date').apply(lambda x: x.loc[:, 'ticker'].values).to_frame('ticker').copy()\n",
    "turnover_df['tt'] = turnover_df.shift()\n",
    "turnover_df['num'] = turnover_df.groupby('date').apply(lambda x: list_diff(x['ticker'], x['tt']))\n",
    "sns.set_style(\"darkgrid\")\n",
    "plt.figure(figsize=(15, 8))\n",
    "plt.xticks(rotation=45)\n",
    "plt.yticks(rotation=45)\n",
    "sns.lineplot(data=turnover_df['num'], markers=True)"
   ]
  },
  {
   "cell_type": "code",
   "execution_count": 52,
   "metadata": {
    "ExecuteTime": {
     "end_time": "2021-03-09T02:54:48.367135Z",
     "start_time": "2021-03-09T02:54:48.364031Z"
    }
   },
   "outputs": [
    {
     "name": "stdout",
     "output_type": "stream",
     "text": [
      "Total turnover over time: 730\n"
     ]
    }
   ],
   "source": [
    "turnover = turnover_df['num'].sum()\n",
    "print(f'Total turnover over time: {turnover}')"
   ]
  },
  {
   "cell_type": "markdown",
   "metadata": {},
   "source": [
    "## Optimization "
   ]
  },
  {
   "cell_type": "markdown",
   "metadata": {},
   "source": [
    "### Methodology Instruction\n",
    "\n",
    "**Objective**\n",
    "1. Minimize portfolio variance\n",
    "\n",
    "**Formula**\n",
    "\n",
    "$x^TPx$\n",
    "\n",
    "**Constraints**\n",
    "1. Total weight = 1\n",
    "2. No short"
   ]
  },
  {
   "cell_type": "markdown",
   "metadata": {},
   "source": [
    "### Optimization"
   ]
  },
  {
   "cell_type": "code",
   "execution_count": 53,
   "metadata": {
    "ExecuteTime": {
     "end_time": "2021-03-09T02:54:54.875003Z",
     "start_time": "2021-03-09T02:54:48.561832Z"
    }
   },
   "outputs": [],
   "source": [
    "unoptimize_portfolio = final_portfolio.copy(deep=True)\n",
    "adjusted_weights = unoptimize_portfolio.groupby(level='date').apply(get_optimized_weights)"
   ]
  },
  {
   "cell_type": "code",
   "execution_count": 54,
   "metadata": {
    "ExecuteTime": {
     "end_time": "2021-03-09T02:54:55.094248Z",
     "start_time": "2021-03-09T02:54:55.082848Z"
    }
   },
   "outputs": [],
   "source": [
    "unoptimize_portfolio = unoptimize_portfolio.reset_index().set_index(['date', 'ticker'])\n",
    "unoptimize_portfolio['adjWeight'] = adjusted_weights\n",
    "unoptimize_portfolio['adj_rtn'] = unoptimize_portfolio['log_rtn'] * unoptimize_portfolio['adjWeight']"
   ]
  },
  {
   "cell_type": "markdown",
   "metadata": {},
   "source": [
    "### Portfolio return and line chart"
   ]
  },
  {
   "cell_type": "code",
   "execution_count": 55,
   "metadata": {
    "ExecuteTime": {
     "end_time": "2021-03-09T02:54:55.435380Z",
     "start_time": "2021-03-09T02:54:55.316792Z"
    }
   },
   "outputs": [
    {
     "data": {
      "text/html": [
       "<div>\n",
       "<style scoped>\n",
       "    .dataframe tbody tr th:only-of-type {\n",
       "        vertical-align: middle;\n",
       "    }\n",
       "\n",
       "    .dataframe tbody tr th {\n",
       "        vertical-align: top;\n",
       "    }\n",
       "\n",
       "    .dataframe thead th {\n",
       "        text-align: right;\n",
       "    }\n",
       "</style>\n",
       "<table border=\"1\" class=\"dataframe\">\n",
       "  <thead>\n",
       "    <tr style=\"text-align: right;\">\n",
       "      <th></th>\n",
       "      <th>portfolio</th>\n",
       "      <th>benchmark</th>\n",
       "      <th>excess_rtn</th>\n",
       "    </tr>\n",
       "    <tr>\n",
       "      <th>date</th>\n",
       "      <th></th>\n",
       "      <th></th>\n",
       "      <th></th>\n",
       "    </tr>\n",
       "  </thead>\n",
       "  <tbody>\n",
       "    <tr>\n",
       "      <th>2020-04-01 00:00:00+00:00</th>\n",
       "      <td>-0.055887</td>\n",
       "      <td>-0.044318</td>\n",
       "      <td>-0.011569</td>\n",
       "    </tr>\n",
       "    <tr>\n",
       "      <th>2020-04-02 00:00:00+00:00</th>\n",
       "      <td>-0.059508</td>\n",
       "      <td>-0.021553</td>\n",
       "      <td>-0.037956</td>\n",
       "    </tr>\n",
       "    <tr>\n",
       "      <th>2020-04-03 00:00:00+00:00</th>\n",
       "      <td>-0.077433</td>\n",
       "      <td>-0.036337</td>\n",
       "      <td>-0.041096</td>\n",
       "    </tr>\n",
       "    <tr>\n",
       "      <th>2020-04-06 00:00:00+00:00</th>\n",
       "      <td>0.025235</td>\n",
       "      <td>0.032608</td>\n",
       "      <td>-0.007373</td>\n",
       "    </tr>\n",
       "    <tr>\n",
       "      <th>2020-04-07 00:00:00+00:00</th>\n",
       "      <td>0.049847</td>\n",
       "      <td>0.031145</td>\n",
       "      <td>0.018702</td>\n",
       "    </tr>\n",
       "    <tr>\n",
       "      <th>...</th>\n",
       "      <td>...</td>\n",
       "      <td>...</td>\n",
       "      <td>...</td>\n",
       "    </tr>\n",
       "    <tr>\n",
       "      <th>2021-01-13 00:00:00+00:00</th>\n",
       "      <td>0.956208</td>\n",
       "      <td>0.439105</td>\n",
       "      <td>0.517103</td>\n",
       "    </tr>\n",
       "    <tr>\n",
       "      <th>2021-01-14 00:00:00+00:00</th>\n",
       "      <td>0.962262</td>\n",
       "      <td>0.435206</td>\n",
       "      <td>0.527056</td>\n",
       "    </tr>\n",
       "    <tr>\n",
       "      <th>2021-01-15 00:00:00+00:00</th>\n",
       "      <td>0.954833</td>\n",
       "      <td>0.428291</td>\n",
       "      <td>0.526542</td>\n",
       "    </tr>\n",
       "    <tr>\n",
       "      <th>2021-01-19 00:00:00+00:00</th>\n",
       "      <td>0.975750</td>\n",
       "      <td>0.436622</td>\n",
       "      <td>0.539128</td>\n",
       "    </tr>\n",
       "    <tr>\n",
       "      <th>2021-01-20 00:00:00+00:00</th>\n",
       "      <td>0.988302</td>\n",
       "      <td>0.450826</td>\n",
       "      <td>0.537476</td>\n",
       "    </tr>\n",
       "  </tbody>\n",
       "</table>\n",
       "<p>203 rows × 3 columns</p>\n",
       "</div>"
      ],
      "text/plain": [
       "                           portfolio  benchmark  excess_rtn\n",
       "date                                                       \n",
       "2020-04-01 00:00:00+00:00  -0.055887  -0.044318   -0.011569\n",
       "2020-04-02 00:00:00+00:00  -0.059508  -0.021553   -0.037956\n",
       "2020-04-03 00:00:00+00:00  -0.077433  -0.036337   -0.041096\n",
       "2020-04-06 00:00:00+00:00   0.025235   0.032608   -0.007373\n",
       "2020-04-07 00:00:00+00:00   0.049847   0.031145    0.018702\n",
       "...                              ...        ...         ...\n",
       "2021-01-13 00:00:00+00:00   0.956208   0.439105    0.517103\n",
       "2021-01-14 00:00:00+00:00   0.962262   0.435206    0.527056\n",
       "2021-01-15 00:00:00+00:00   0.954833   0.428291    0.526542\n",
       "2021-01-19 00:00:00+00:00   0.975750   0.436622    0.539128\n",
       "2021-01-20 00:00:00+00:00   0.988302   0.450826    0.537476\n",
       "\n",
       "[203 rows x 3 columns]"
      ]
     },
     "execution_count": 55,
     "metadata": {},
     "output_type": "execute_result"
    }
   ],
   "source": [
    "x = unoptimize_portfolio.groupby('date')['adj_rtn'].apply(lambda x: x.sum()).cumsum()\n",
    "benchmark = adjusted_portfolio.reset_index().groupby('date')['weighted_rtn'].apply(lambda x: x.sum()).cumsum()\n",
    "z = pd.DataFrame([x.values, benchmark.values], index=[\"portfolio\", \"benchmark\"], columns=x.index).T\n",
    "z['excess_rtn'] = z['portfolio'] - z['benchmark']\n",
    "z"
   ]
  },
  {
   "cell_type": "code",
   "execution_count": 56,
   "metadata": {
    "ExecuteTime": {
     "end_time": "2021-03-09T02:54:56.075156Z",
     "start_time": "2021-03-09T02:54:55.644669Z"
    },
    "cell_style": "center",
    "scrolled": true
   },
   "outputs": [
    {
     "data": {
      "text/plain": [
       "<matplotlib.axes._subplots.AxesSubplot at 0x7f8ca9471c10>"
      ]
     },
     "execution_count": 56,
     "metadata": {},
     "output_type": "execute_result"
    },
    {
     "data": {
      "image/png": "[encoded data removed]",
      "text/plain": [
       "<Figure size 1080x720 with 1 Axes>"
      ]
     },
     "metadata": {},
     "output_type": "display_data"
    }
   ],
   "source": [
    "sns.set_style(\"darkgrid\")\n",
    "plt.figure(figsize=(15, 10))\n",
    "plt.xticks(rotation=45)\n",
    "plt.yticks(rotation=45)\n",
    "sns.lineplot(data=z, markers=True)"
   ]
  },
  {
   "cell_type": "markdown",
   "metadata": {},
   "source": [
    "### Portfolio performance stats"
   ]
  },
  {
   "cell_type": "code",
   "execution_count": 57,
   "metadata": {
    "ExecuteTime": {
     "end_time": "2021-03-09T02:54:56.411134Z",
     "start_time": "2021-03-09T02:54:56.298046Z"
    },
    "cell_style": "center"
   },
   "outputs": [
    {
     "name": "stdout",
     "output_type": "stream",
     "text": [
      "Portfolio Variance\n",
      "7.35 %\n",
      "Sharpe Ratio\n",
      "18.03\n",
      "Win Rate\n",
      "98.030 %\n",
      "alpha is -0.045\n",
      "beta is 2.184\n"
     ]
    }
   ],
   "source": [
    "ann_factor = 252\n",
    "variance = z['portfolio'].var() * ann_factor / len(z['portfolio'])\n",
    "\n",
    "# Show annualized variance\n",
    "print('Portfolio Variance')\n",
    "print((variance * 100).round(2), '%')\n",
    "\n",
    "# Calculate Sharpe Ratio\n",
    "ann_factor = 252\n",
    "sharpe_ratio = np.sqrt(ann_factor) * z['excess_rtn'].mean() / z['portfolio'].std()\n",
    "\n",
    "# Show Results\n",
    "print('Sharpe Ratio')\n",
    "print(sharpe_ratio.round(2))\n",
    "\n",
    "win_rate = len(z[z['excess_rtn'] > 0]['excess_rtn']) / z.shape[0]\n",
    "\n",
    "# Show Win Rate\n",
    "print('Win Rate')\n",
    "print(f'{win_rate*100:.3f} %')\n",
    "\n",
    "# Show alpha and beta\n",
    "x = unoptimize_portfolio.groupby('date')['adj_rtn'].apply(lambda x: x.sum()).cumsum()\n",
    "benchmark = adjusted_portfolio.reset_index().groupby('date')['weighted_rtn'].apply(lambda x: x.sum()).cumsum()\n",
    "z = pd.DataFrame([x.values, benchmark.values], index=[\"portfolio\", \"benchmark\"], columns=x.index).T\n",
    "\n",
    "_x = z['benchmark']\n",
    "_X = sm.add_constant(_x)\n",
    "_y = z['portfolio']\n",
    "\n",
    "res = sm.OLS(_y, _X).fit()\n",
    "\n",
    "alpha, beta = res.params\n",
    "print(f'alpha is {alpha:.3f}')\n",
    "print(f'beta is {beta:.3f}')"
   ]
  },
  {
   "cell_type": "markdown",
   "metadata": {},
   "source": [
    "### Turnover analysis"
   ]
  },
  {
   "cell_type": "code",
   "execution_count": 58,
   "metadata": {
    "ExecuteTime": {
     "end_time": "2021-03-09T02:54:56.999899Z",
     "start_time": "2021-03-09T02:54:56.618168Z"
    },
    "scrolled": true
   },
   "outputs": [
    {
     "data": {
      "text/plain": [
       "<matplotlib.axes._subplots.AxesSubplot at 0x7f8ca953fb10>"
      ]
     },
     "execution_count": 58,
     "metadata": {},
     "output_type": "execute_result"
    },
    {
     "data": {
      "image/png": "[encoded data removed]",
      "text/plain": [
       "<Figure size 1080x576 with 1 Axes>"
      ]
     },
     "metadata": {},
     "output_type": "display_data"
    }
   ],
   "source": [
    "unoptimize_portfolio = unoptimize_portfolio.reset_index().set_index('date')\n",
    "turnover_df = unoptimize_portfolio.groupby('date').apply(lambda x: x.loc[:, 'ticker'].values).to_frame('ticker').copy()\n",
    "turnover_df['tt'] = turnover_df.shift()\n",
    "turnover_df['num'] = turnover_df.groupby('date').apply(lambda x: list_diff(x['ticker'], x['tt']))\n",
    "sns.set_style(\"darkgrid\")\n",
    "plt.figure(figsize=(15, 8))\n",
    "plt.xticks(rotation=45)\n",
    "plt.yticks(rotation=45)\n",
    "sns.lineplot(data=turnover_df['num'], markers=True)"
   ]
  },
  {
   "cell_type": "code",
   "execution_count": 59,
   "metadata": {
    "ExecuteTime": {
     "end_time": "2021-03-09T02:54:57.209635Z",
     "start_time": "2021-03-09T02:54:57.205898Z"
    },
    "scrolled": true
   },
   "outputs": [
    {
     "name": "stdout",
     "output_type": "stream",
     "text": [
      "Total turnover over time: 730\n"
     ]
    }
   ],
   "source": [
    "turnover = turnover_df['num'].sum()\n",
    "print(f'Total turnover over time: {turnover}')"
   ]
  },
  {
   "cell_type": "markdown",
   "metadata": {},
   "source": [
    "---"
   ]
  },
  {
   "cell_type": "markdown",
   "metadata": {},
   "source": [
    "# Conclusion"
   ]
  },
  {
   "cell_type": "markdown",
   "metadata": {},
   "source": [
    "This strategy is profitable with\n",
    "1. Using factors:\n",
    "  1. 'net_profit_growth_rate',\n",
    "  2. 'vol60',\n",
    "  3. 'SUR0',\n",
    "  4. 'vol20',\n",
    "  5. 'book_to_price',\n",
    "2. Using highest score 10~20 stocks\n",
    "  1. No orthogonization needed\n",
    "  2. IR weighted\n",
    "3. Evenly weighted\n",
    "4. Run daily\n",
    "5. Optimization\n",
    "  1. Objective: \n",
    "    1. to minimize risk\n",
    "  2. Constrain:\n",
    "    1. Total weight = 1\n",
    "    2. No short\n",
    "\n",
    "| | Unoptimized | Optimized|\n",
    "|:-- | -- | -- |\n",
    "| Return | 85.9076 % | 98.8302 % |\n",
    "| Portfolio Variance | 5.51 % | 7.35 %|\n",
    "|Sharpe Ratio | 16.84 | 18.03 |\n",
    "| Win Rate | 97.044 % | 98.030 % |"
   ]
  },
  {
   "cell_type": "code",
   "execution_count": null,
   "metadata": {},
   "outputs": [],
   "source": []
  }
 ],
 "metadata": {
  "kernelspec": {
   "display_name": "Python 3.7.7 64-bit ('quant': conda)",
   "language": "python",
   "name": "python37764bitquantconda130da1f8350c44caaea6a82e21a3556d"
  },
  "language_info": {
   "codemirror_mode": {
    "name": "ipython",
    "version": 3
   },
   "file_extension": ".py",
   "mimetype": "text/x-python",
   "name": "python",
   "nbconvert_exporter": "python",
   "pygments_lexer": "ipython3",
   "version": "3.7.7"
  },
  "toc": {
   "base_numbering": "0",
   "nav_menu": {},
   "number_sections": true,
   "sideBar": true,
   "skip_h1_title": false,
   "title_cell": "Table of Contents",
   "title_sidebar": "Contents",
   "toc_cell": false,
   "toc_position": {
    "height": "calc(100% - 180px)",
    "left": "10px",
    "top": "150px",
    "width": "278.719px"
   },
   "toc_section_display": true,
   "toc_window_display": true
  },
  "varInspector": {
   "cols": {
    "lenName": 16,
    "lenType": 16,
    "lenVar": 40
   },
   "kernels_config": {
    "python": {
     "delete_cmd_postfix": "",
     "delete_cmd_prefix": "del ",
     "library": "var_list.py",
     "varRefreshCmd": "print(var_dic_list())"
    },
    "r": {
     "delete_cmd_postfix": ") ",
     "delete_cmd_prefix": "rm(",
     "library": "var_list.r",
     "varRefreshCmd": "cat(var_dic_list()) "
    }
   },
   "types_to_exclude": [
    "module",
    "function",
    "builtin_function_or_method",
    "instance",
    "_Feature"
   ],
   "window_display": false
  }
 },
 "nbformat": 4,
 "nbformat_minor": 4
}
