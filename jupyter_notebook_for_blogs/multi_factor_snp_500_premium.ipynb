{
 "cells": [
  {
   "cell_type": "markdown",
   "metadata": {},
   "source": [
    "# Multi-factor: S&P 500 Index Premium <a class=\"tocSkip\">"
   ]
  },
  {
   "cell_type": "markdown",
   "metadata": {},
   "source": [
    "# Changes\n",
    "- 4.3.1 加了 shift(1)\n",
    "- 4.5.6 Turnover analysis\n",
    "- 4.1 Calculate returns"
   ]
  },
  {
   "cell_type": "markdown",
   "metadata": {},
   "source": [
    "[Context](https://www.joinquant.com/view/community/detail/8c60c343407d41b09def615c52c8693d?type=1#%E5%9B%9B%E3%80%81%E5%9B%A0%E5%AD%90%E5%A4%9A%E9%87%8D%E5%85%B1%E7%BA%BF%E6%80%A7%E7%9A%84%E5%A4%84%E7%90%86)"
   ]
  },
  {
   "cell_type": "code",
   "execution_count": 328,
   "metadata": {
    "ExecuteTime": {
     "end_time": "2021-03-05T04:30:36.386304Z",
     "start_time": "2021-03-05T04:30:36.381956Z"
    }
   },
   "outputs": [],
   "source": [
    "import os\n",
    "import requests\n",
    "import pandas as pd\n",
    "import numpy as np\n",
    "from dateutil.parser import parse\n",
    "import datetime\n",
    "from dotenv import load_dotenv, find_dotenv\n",
    "\n",
    "import statsmodels.api as sm\n",
    "import scipy\n",
    "import scipy.stats as stats\n",
    "import talib as ta\n",
    "\n",
    "import matplotlib.pyplot as plt\n",
    "import seaborn as sns\n",
    "\n",
    "from tqdm import notebook\n",
    "import cvxpy as cvx\n",
    "\n",
    "from pprint import pprint"
   ]
  },
  {
   "cell_type": "code",
   "execution_count": 329,
   "metadata": {
    "ExecuteTime": {
     "end_time": "2021-03-05T04:30:40.533036Z",
     "start_time": "2021-03-05T04:30:40.526784Z"
    },
    "code_folding": []
   },
   "outputs": [],
   "source": [
    "#显示所有列\n",
    "pd.set_option('display.max_columns', None)\n",
    "#显示所有行\n",
    "# pd.set_option('display.max_rows', None)\n",
    "# pd.set_option('display.max_rows', 20)\n",
    "#设置value的显示长度为100，默认为50\n",
    "pd.set_option('max_colwidth',100)\n",
    "\n",
    "\n",
    "load_dotenv(find_dotenv(), verbose=True, override=True)\n",
    "\n",
    "TIINGO_API_TOKEN = os.getenv('TIINGO_API_TOKEN')\n",
    "DATA_PATH = os.path.expanduser(os.path.abspath(f'../data'))"
   ]
  },
  {
   "cell_type": "markdown",
   "metadata": {},
   "source": [
    "# Helper Functions"
   ]
  },
  {
   "cell_type": "markdown",
   "metadata": {},
   "source": [
    "## Tiingo module to get price and fundamental data"
   ]
  },
  {
   "cell_type": "code",
   "execution_count": 330,
   "metadata": {
    "ExecuteTime": {
     "end_time": "2021-03-05T04:30:41.298265Z",
     "start_time": "2021-03-05T04:30:41.295736Z"
    }
   },
   "outputs": [],
   "source": [
    "__headers = {\n",
    "    'Content-Type': 'application/json'\n",
    "}\n",
    "__token = TIINGO_API_TOKEN"
   ]
  },
  {
   "cell_type": "code",
   "execution_count": 331,
   "metadata": {
    "ExecuteTime": {
     "end_time": "2021-03-05T04:30:41.582628Z",
     "start_time": "2021-03-05T04:30:41.578660Z"
    },
    "cell_style": "center"
   },
   "outputs": [],
   "source": [
    "def load_meta() -> str:\n",
    "    fundamental_meta_data_path = os.path.join(DATA_PATH, 'meta.json')\n",
    "    with open(fundamental_meta_data_path, 'r') as fp:\n",
    "        content=fp.read()\n",
    "    content = json.loads(content)\n",
    "    return content"
   ]
  },
  {
   "cell_type": "code",
   "execution_count": 332,
   "metadata": {
    "ExecuteTime": {
     "end_time": "2021-03-05T04:30:41.804342Z",
     "start_time": "2021-03-05T04:30:41.798300Z"
    }
   },
   "outputs": [],
   "source": [
    "def get_price(symbol, start_date=None, end_date=None, resampleFreq='daily'):\n",
    "    \n",
    "    start_param = 'startDate={}'.format(start_date) if start_date is not None else ''\n",
    "    end_param = '&endDate={}'.format(end_date) if end_date is not None else ''\n",
    "    pricing_daily_url = 'https://api.tiingo.com/tiingo/daily/{}/prices?token={}&{}{}&resampleFreq={}'.format(symbol, __token, start_param, end_param, resampleFreq)\n",
    "\n",
    "    try:\n",
    "        pricing_daily_data = requests.get(\n",
    "            url=pricing_daily_url,\n",
    "            headers=__headers\n",
    "        )\n",
    "    except Exception as e:\n",
    "        raise(e)\n",
    "    else:\n",
    "        if pricing_daily_data.status_code == 200:\n",
    "            return pricing_daily_data.json()\n",
    "    print('[{}] \"pricing_daily_url\" doesn\\'t return successfully'.format(symbol))\n",
    "    return None"
   ]
  },
  {
   "cell_type": "code",
   "execution_count": 333,
   "metadata": {
    "ExecuteTime": {
     "end_time": "2021-03-05T04:30:42.020744Z",
     "start_time": "2021-03-05T04:30:42.015769Z"
    }
   },
   "outputs": [],
   "source": [
    "def get_daily_fundamental(symbol, start_date=None, end_date=None):\n",
    "    \n",
    "    start_param = 'startDate={}'.format(start_date) if start_date is not None else ''\n",
    "    end_param = '&endDate={}'.format(end_date) if end_date is not None else ''\n",
    "    fundamental_daily_fundamental_url = 'https://api.tiingo.com/tiingo/fundamentals/{}/daily?token={}&{}{}'.format(symbol, __token, start_param, end_param)\n",
    "    \n",
    "    try:\n",
    "        fundamental_daily_fundamental_data = requests.get(\n",
    "            url=fundamental_daily_fundamental_url,\n",
    "            headers=__headers\n",
    "        )\n",
    "    except Exception as e:\n",
    "        raise(e)\n",
    "    else:\n",
    "        if fundamental_daily_fundamental_data.status_code == 200:\n",
    "            return fundamental_daily_fundamental_data.json()\n",
    "    print('[{}] \"fundamental_daily_fundamental_url\" doesn\\'t return successfully'.format(symbol))\n",
    "    return None"
   ]
  },
  {
   "cell_type": "code",
   "execution_count": 334,
   "metadata": {
    "ExecuteTime": {
     "end_time": "2021-03-05T04:30:42.231672Z",
     "start_time": "2021-03-05T04:30:42.225490Z"
    }
   },
   "outputs": [],
   "source": [
    "def get_quarterly_fundamental(symbol, start_date=None, end_date=None):\n",
    "    \n",
    "    start_param = 'startDate={}'.format(start_date) if start_date is not None else ''\n",
    "    end_param = '&endDate={}'.format(end_date) if end_date is not None else ''\n",
    "    fundamental_quarterly_url = 'https://api.tiingo.com/tiingo/fundamentals/{}/statements?token={}&{}{}'.format(symbol, __token, start_param, end_param)\n",
    "    \n",
    "    try:\n",
    "        fundamental_quarterly_data = requests.get(\n",
    "            url=fundamental_quarterly_url,\n",
    "            headers=__headers\n",
    "        )\n",
    "    except Exception as e:\n",
    "        raise(e)\n",
    "    else:\n",
    "        if fundamental_quarterly_data.status_code == 200:\n",
    "            return fundamental_quarterly_data.json()\n",
    "    print('[{}] \"fundamental_quarterly_url\" doesn\\'t return successfully'.format(symbol))\n",
    "    return None"
   ]
  },
  {
   "cell_type": "code",
   "execution_count": 335,
   "metadata": {
    "ExecuteTime": {
     "end_time": "2021-03-05T04:30:42.578293Z",
     "start_time": "2021-03-05T04:30:42.568899Z"
    }
   },
   "outputs": [],
   "source": [
    "def normalize_fundamental_quarterly_data(data):\n",
    "    \"\"\"[summary]\n",
    "\n",
    "    Args:\n",
    "        data ([type]): [description]\n",
    "\n",
    "    Returns:\n",
    "        [type]: [description]\n",
    "    \"\"\"\n",
    "    df = pd.json_normalize(data)\n",
    "\n",
    "    sheets = [\n",
    "        'statementData.balanceSheet',\n",
    "        'statementData.cashFlow',\n",
    "        'statementData.incomeStatement',\n",
    "        'statementData.overview'\n",
    "    ]\n",
    "\n",
    "    for col in sheets:\n",
    "        if col not in df.columns:\n",
    "            continue\n",
    "\n",
    "        fdf = None\n",
    "        for i in df.index:\n",
    "            dic = {}\n",
    "\n",
    "            if df.iloc[i][col] is np.NaN:\n",
    "                continue\n",
    "            for item in df.iloc[i][col]:\n",
    "                code = None\n",
    "                value = None\n",
    "                for k in item.keys():\n",
    "                    if k == 'dataCode':\n",
    "                        code = item[k]\n",
    "                    if k == 'value':\n",
    "                        value = item[k]\n",
    "                dic[code] = value\n",
    "            data = [x for x in dic.values()]\n",
    "            cols = [col + '.' + x for x in dic.keys()]\n",
    "\n",
    "            if fdf is None:\n",
    "                fdf = pd.DataFrame(np.array([data]), index=[i], columns=cols)\n",
    "            else:\n",
    "                fdf = fdf.append(pd.DataFrame(np.array([data]), index=[i], columns=cols))\n",
    "        df = pd.concat([df, fdf], axis=1)\n",
    "        df = df.drop([col], axis=1)\n",
    "\n",
    "    df['date'] = df['date'].astype('datetime64[ns]')\n",
    "    return df"
   ]
  },
  {
   "cell_type": "markdown",
   "metadata": {},
   "source": [
    "---"
   ]
  },
  {
   "cell_type": "markdown",
   "metadata": {},
   "source": [
    "## Filter Stocks"
   ]
  },
  {
   "cell_type": "code",
   "execution_count": 336,
   "metadata": {
    "ExecuteTime": {
     "end_time": "2021-03-05T04:30:42.892696Z",
     "start_time": "2021-03-05T04:30:42.886044Z"
    }
   },
   "outputs": [],
   "source": [
    "def cleanup_stock_list(stock_list) -> list:\n",
    "    stock_list = [s.lower() for s in stock_list]\n",
    "    stock_list = [s if s != 'brk.b' else 'brk-b' for s in stock_list]\n",
    "    stock_list = [s if s != 'bf.b' else 'bf-b' for s in stock_list]\n",
    "    stock_list = [s if s != 'chk' else 'chkaq' for s in stock_list]\n",
    "    stock_list = [s if s != 'dps' else 'kdp' for s in stock_list]\n",
    "    \n",
    "    # WYN spun-off to WH\n",
    "    stock_list = [s if s != 'wyn' else 'wh' for s in stock_list]\n",
    "\n",
    "    # Fundamental not found\n",
    "    stock_list = [s for s in stock_list if s not in ['frc']]\n",
    "\n",
    "    # Class B or C\n",
    "    # goog => googl\n",
    "    # ua => uaa\n",
    "    # fox => foxa\n",
    "    # nws => nwsa\n",
    "    # disck => disca\n",
    "    stock_list = [s for s in stock_list if s not in ['ua','fox', 'goog', 'nws', 'disck']]\n",
    "\n",
    "    # Stock was acquired by another company @ 2018-01-03\n",
    "    stock_list = [s for s in stock_list if s not in ['bcr']]\n",
    "\n",
    "    # Stock fundamental is only available before 2018-01-01\n",
    "    stock_list = [s for s in stock_list if s not in ['csra', 'sni']]\n",
    "    \n",
    "    # Symbol changed\n",
    "    stock_list = [s for s in stock_list if s not in ['dwdp']]\n",
    "    return stock_list"
   ]
  },
  {
   "cell_type": "code",
   "execution_count": 337,
   "metadata": {
    "ExecuteTime": {
     "end_time": "2021-03-05T04:30:42.914795Z",
     "start_time": "2021-03-05T04:30:42.910896Z"
    }
   },
   "outputs": [],
   "source": [
    "def get_current_snp_tickers() -> list:\n",
    "    _header = {\n",
    "        'authority': 'www.slickcharts.com',\n",
    "        'user-agent': 'Mozilla/5.0 (Macintosh; Intel Mac OS X 11_2_0) AppleWebKit/537.36 (KHTML, like Gecko) Chrome/88.0.4324.146 Safari/537.36'\n",
    "    }\n",
    "    \n",
    "    res = requests.get('https://www.slickcharts.com/sp500', headers=_header)\n",
    "    snp500_current = pd.read_html(res.content, index_col=0)\n",
    "    \n",
    "    # The latest S&P 500 composition (https://www.slickcharts.com/sp500)\n",
    "    l = snp500_current[0].Symbol.to_list()\n",
    "    \n",
    "    return l"
   ]
  },
  {
   "cell_type": "code",
   "execution_count": 338,
   "metadata": {
    "ExecuteTime": {
     "end_time": "2021-03-05T04:30:43.040005Z",
     "start_time": "2021-03-05T04:30:43.015723Z"
    }
   },
   "outputs": [],
   "source": [
    "def get_snp_stock_scaffolding(start_date, end_date, freq='daily'):\n",
    "    data = pd.read_html('https://en.wikipedia.org/wiki/List_of_S%26P_500_companies')\n",
    "\n",
    "    # Get current S&P table and set header column\n",
    "    sp500 = data[0].iloc[1:,[0,1,6,7]]\n",
    "    columns = ['added_ticker', 'name', 'date', 'cik']\n",
    "    sp500.columns = columns\n",
    "    sp500.loc[sp500['date'].isnull(), 'date'] = '1957-01-01'\n",
    "\n",
    "    # One date is in the wrong format. Correcting it.\n",
    "    sp500.loc[:,'date'] = sp500.loc[:,'date'].apply(lambda x: datetime.datetime.strptime(x[:10],'%Y-%m-%d'))\n",
    "    sp500 = pd.melt(sp500, id_vars=['date', 'name', 'cik'], value_vars=['added_ticker'])\n",
    "\n",
    "    sp500_adjustments = data[1]\n",
    "    sp500_adjustments = sp500_adjustments[2:].copy()\n",
    "    columns = ['date', 'added_ticker', 'added_name', 'removed_ticker', 'removed_name', 'reason']\n",
    "    sp500_adjustments.columns = columns\n",
    "    updates = sp500_adjustments[~sp500_adjustments['date'].str.contains(',')].T.shift(1).T\n",
    "    sp500_adjustments['date'].loc[~sp500_adjustments['date'].str.contains(',')] = np.nan\n",
    "    sp500_adjustments[sp500_adjustments['added_ticker'].isnull()]\n",
    "    sp500_adjustments.update(updates)\n",
    "    sp500_adjustments['date'].loc[sp500_adjustments['date'].isnull()] = sp500_adjustments['date'].T.shift(1).T\n",
    "    sp500_adjustments['date'].loc[sp500_adjustments['date'].isnull()] = sp500_adjustments['date'].T.shift(1).T\n",
    "    sp500_adjustments['date'].loc[sp500_adjustments['date'].isnull()] = sp500_adjustments['date'].T.shift(1).T\n",
    "    sp500_adjustments['date'].loc[sp500_adjustments['date'].isnull()] = sp500_adjustments['date'].T.shift(1).T\n",
    "    sp500_adjustments['date'].loc[sp500_adjustments['date'].isnull()] = sp500_adjustments['date'].T.shift(1).T\n",
    "    sp500_additions = sp500_adjustments[~sp500_adjustments['added_ticker'].isnull()]\n",
    "    sp500_additions = sp500_additions[['date', 'added_ticker', 'added_name']]\n",
    "    sp500_additions.rename(columns={'added_name': 'name'}, inplace=True)\n",
    "    sp500_additions = pd.melt(sp500_additions, id_vars=['date','name'], value_vars=['added_ticker'])\n",
    "    sp500_deletions = sp500_adjustments[~sp500_adjustments['removed_ticker'].isnull()]\n",
    "    sp500_deletions = sp500_deletions[['date', 'removed_ticker', 'removed_name']]\n",
    "    sp500_deletions.rename(columns={'removed_name': 'name'}, inplace=True)\n",
    "    sp500_deletions = pd.melt(sp500_deletions, id_vars=['date','name'], value_vars=['removed_ticker'])\n",
    "    sp500_history = pd.concat([sp500_deletions, sp500_additions])\n",
    "    \n",
    "    df = pd.concat([sp500, sp500_history], ignore_index=True)\n",
    "    df['date'] = pd.to_datetime(df['date'], utc=True)\n",
    "    df.sort_values(by='cik', ascending=False, inplace=True)\n",
    "    deduped_df = df[~df.duplicated(['date', 'variable', 'value'])].copy()    \n",
    "    deduped_df = deduped_df.sort_values(['date', 'variable']).set_index(['date', 'variable'])\n",
    "\n",
    "    l = get_current_snp_tickers()\n",
    "    dictionary = {}\n",
    "\n",
    "    for d in deduped_df.index.levels[0][::-1]:\n",
    "        if 'added_ticker' in deduped_df.loc[pd.to_datetime(d),:].index:\n",
    "            removed_stock_list = [s.upper() for s in deduped_df.loc[(pd.to_datetime(d), 'added_ticker'), 'value'].values]\n",
    "        else:\n",
    "            removed_stock_list = []\n",
    "\n",
    "        if 'removed_ticker' in deduped_df.loc[pd.to_datetime(d),:].index:\n",
    "            added_stock_list = [s.upper() for s in deduped_df.loc[(pd.to_datetime(d), 'removed_ticker'), 'value'].values]\n",
    "        else:\n",
    "            added_stock_list = []\n",
    "\n",
    "        l = [x.upper() for x in (l + added_stock_list) if x not in removed_stock_list]\n",
    "        l = list(set(l))\n",
    "        dictionary[d] = l\n",
    "\n",
    "        if d <= pd.to_datetime(START_DATE, utc=True):\n",
    "            break\n",
    "\n",
    "    if freq == 'daily':\n",
    "        # Business Day\n",
    "        re = pd.DataFrame(index=pd.to_datetime(pd.date_range(start_date, end_date, freq = 'B'), utc=True))\n",
    "    elif freq == 'weekly':\n",
    "        # business month start frequency\n",
    "        re = pd.DataFrame(index=pd.to_datetime(pd.date_range(START_DATE,END_DATE, freq = 'BMS'), utc=True))\n",
    "\n",
    "    re['ticker'] = pd.DataFrame([dictionary]).T\n",
    "    re = re.ffill().dropna()\n",
    "    re = re.explode('ticker').reset_index().sort_values(['index', 'ticker'])\n",
    "    re['ticker'] = re['ticker'].str.lower()\n",
    "    re = re.set_index(['index', 'ticker'])\n",
    "    re.index.rename(['date', 'ticker'], inplace=True)\n",
    "    return re"
   ]
  },
  {
   "cell_type": "markdown",
   "metadata": {},
   "source": [
    "---"
   ]
  },
  {
   "cell_type": "markdown",
   "metadata": {},
   "source": [
    "## Fetching data"
   ]
  },
  {
   "cell_type": "code",
   "execution_count": 339,
   "metadata": {
    "ExecuteTime": {
     "end_time": "2021-03-05T04:30:43.498433Z",
     "start_time": "2021-03-05T04:30:43.490389Z"
    }
   },
   "outputs": [],
   "source": [
    "def download_csv_data(symbol, start_date, end_date=None, freq='daily', path=None):\n",
    "    '''\n",
    "    Function for downloading data from Tiingo and storing the results in a CSV file\n",
    "\n",
    "    Parameters\n",
    "    ------------\n",
    "    symbol : str\n",
    "        The symbol of the assset\n",
    "    start_date : str\n",
    "        The start date for downloading the data\n",
    "    end_date : str\n",
    "        The end date for downloading the data\n",
    "    path : str\n",
    "        The path to store the CSV file\n",
    "    freq : str\n",
    "        The frequency of the data\n",
    "    '''\n",
    "    df_path=os.path.join(path, f'{symbol}.csv')\n",
    "    fund_df_path=os.path.join(path, f'{symbol}_fund.csv')\n",
    "    \n",
    "    if os.path.exists(df_path):\n",
    "#         print(f'{symbol}.csv exists')\n",
    "        return\n",
    "    \n",
    "    df = pd.DataFrame(get_price(symbol, start_date, end_date, freq))\n",
    "    df2 = pd.DataFrame(get_daily_fundamental(symbol, start_date, end_date))\n",
    "    df3 = normalize_fundamental_quarterly_data(get_quarterly_fundamental(symbol, start_date, end_date))\n",
    "    df3 = df3[~df3['quarter'].isin([0])]    # Remove the records that quarter = 0\n",
    "    \n",
    "    df['date'] = pd.to_datetime(df['date'], utc=True)\n",
    "    df2['date'] = pd.to_datetime(df2['date'], utc=True)\n",
    "    df3['date'] = pd.to_datetime(df3['date'], utc=True)\n",
    "\n",
    "    dd = pd.merge(df, df2, on='date', how='left')\n",
    "    dd = dd.ffill()\n",
    "    df3 = df3.ffill()\n",
    "    df3 = df3[~df3['quarter'].isin([0])]\n",
    "\n",
    "    dd.to_csv(df_path, header=True, index=True)\n",
    "    df3.to_csv(fund_df_path, header=True, index=True)\n",
    "        \n",
    "    del df\n",
    "    del df2\n",
    "    del df3\n",
    "    del dd"
   ]
  },
  {
   "cell_type": "code",
   "execution_count": 340,
   "metadata": {
    "ExecuteTime": {
     "end_time": "2021-03-05T04:30:43.504142Z",
     "start_time": "2021-03-05T04:30:43.500377Z"
    }
   },
   "outputs": [],
   "source": [
    "def load_data(symbol, start_date, end_date=None, freq='daily', path=None):\n",
    "    df_path=f'{path}/{symbol}.csv'\n",
    "    fund_df_path=f'{path}/{symbol}_fund.csv'\n",
    "    \n",
    "    try:\n",
    "        df = pd.read_csv(df_path, index_col=0)\n",
    "        fund_df = pd.read_csv(fund_df_path, index_col=0)\n",
    "    except Exception as e:\n",
    "        raise(e)\n",
    "        \n",
    "    return df, fund_df"
   ]
  },
  {
   "cell_type": "markdown",
   "metadata": {},
   "source": [
    "## Misc"
   ]
  },
  {
   "cell_type": "code",
   "execution_count": 2320,
   "metadata": {
    "ExecuteTime": {
     "end_time": "2021-03-06T17:22:37.742928Z",
     "start_time": "2021-03-06T17:22:37.738430Z"
    }
   },
   "outputs": [],
   "source": [
    "def get_cov_by_date(date):\n",
    "    return np.cov(\n",
    "        pd.pivot(price_df.loc[(\n",
    "            slice(\n",
    "                (pd.to_datetime(date)-datetime.timedelta(days=60)),\n",
    "                (pd.to_datetime(date))\n",
    "            ), unoptimize_portfolio.loc[pd.to_datetime(date)]['ticker'].values\n",
    "        ), :]['adjClose'].reset_index(),\n",
    "            index='date', \n",
    "            columns='ticker', \n",
    "            values='adjClose'\n",
    "        )[-30:].T.values\n",
    "    )"
   ]
  },
  {
   "cell_type": "code",
   "execution_count": 2321,
   "metadata": {
    "ExecuteTime": {
     "end_time": "2021-03-06T17:22:42.891318Z",
     "start_time": "2021-03-06T17:22:42.886587Z"
    }
   },
   "outputs": [],
   "source": [
    "def get_optimized_weights(df:pd.DataFrame):\n",
    "    df_ = df.copy()\n",
    "    rtn = df_['log_rtn']\n",
    "    cov = get_cov_by_date(df_.index.get_level_values(0)[0])\n",
    "    w = cvx.Variable(rtn.shape[0])\n",
    "    portfolio_variance = cvx.quad_form(w, cov)\n",
    "    objective = cvx.Minimize(portfolio_variance)\n",
    "    constraints = [0 <= w, w <= 0.1, sum(w) == 1]\n",
    "    problem = cvx.Problem(objective, constraints).solve()\n",
    "    return pd.DataFrame(w.value, index=df_['ticker'].values)"
   ]
  },
  {
   "cell_type": "code",
   "execution_count": 2134,
   "metadata": {
    "ExecuteTime": {
     "end_time": "2021-03-06T16:48:45.335676Z",
     "start_time": "2021-03-06T16:48:45.331682Z"
    }
   },
   "outputs": [],
   "source": [
    "def list_diff(l1, l2):\n",
    "    l1 = l1.values[0]\n",
    "    l2 = l2.values[0]\n",
    "\n",
    "    l1 = [] if not isinstance(l1,np.ndarray) else list(l1)\n",
    "    l2 = [] if not isinstance(l2,np.ndarray) else list(l2)\n",
    "    l = list(set(l1)^set(l2))\n",
    "\n",
    "    return len(l)"
   ]
  },
  {
   "cell_type": "markdown",
   "metadata": {},
   "source": [
    "---"
   ]
  },
  {
   "cell_type": "markdown",
   "metadata": {},
   "source": [
    "# Constucting Factors"
   ]
  },
  {
   "cell_type": "markdown",
   "metadata": {},
   "source": [
    "## Define factors"
   ]
  },
  {
   "cell_type": "markdown",
   "metadata": {},
   "source": [
    "### Quality factors"
   ]
  },
  {
   "cell_type": "code",
   "execution_count": 341,
   "metadata": {
    "ExecuteTime": {
     "end_time": "2021-03-05T04:30:44.083080Z",
     "start_time": "2021-03-05T04:30:44.066839Z"
    }
   },
   "outputs": [],
   "source": [
    "def EPTTM(df, qdf):\n",
    "    '''\n",
    "    Description: Reciprocal of pe_ratio TTM (For Trailing Twelve Months)\n",
    "    Method: Earning / Market Value\n",
    "    '''\n",
    "    qdf.sort_values('date', inplace=True)\n",
    "    \n",
    "    fields = ['date']\n",
    "    quarter_fields = ['date', 'statementData.incomeStatement.eps']\n",
    "    \n",
    "    tmp = qdf[quarter_fields].copy(deep=True)\n",
    "    \n",
    "    tmp['trailing_eps'] = tmp['statementData.incomeStatement.eps'].rolling(4).mean()\n",
    "\n",
    "    tmp = pd.merge(df, tmp[['date', 'trailing_eps']], on='date', how='outer').sort_values('date')\n",
    "    tmp['trailing_eps'].ffill(inplace=True)\n",
    "    tmp = tmp[~pd.isna(tmp['close'])]\n",
    "    \n",
    "    tmp['ep_ratio'] = tmp['trailing_eps'] / tmp['adjClose']\n",
    "\n",
    "    return tmp['ep_ratio']\n",
    "\n",
    "def SPTTM(df, qdf):\n",
    "    '''\n",
    "    Description: Reciprocal of ps_ratio TTM (For Trailing Twelve Months)\n",
    "    Method: Sales Income / Market Value\n",
    "    '''\n",
    "    qdf.sort_values('date', inplace=True)\n",
    "    \n",
    "    fields = ['date']\n",
    "    quarter_fields = ['date', 'statementData.overview.rps']\n",
    "    \n",
    "    tmp = qdf[quarter_fields].copy(deep=True)\n",
    "    \n",
    "    tmp['trailing_rps'] = tmp['statementData.overview.rps'].rolling(4).mean()\n",
    "\n",
    "    tmp = pd.merge(df, tmp[['date', 'trailing_rps']], on='date', how='outer').sort_values('date')\n",
    "    tmp['trailing_rps'].ffill(inplace=True)\n",
    "    tmp = tmp[~pd.isna(tmp['close'])]\n",
    "    \n",
    "    tmp['sp_ratio'] = tmp['trailing_rps'] / tmp['adjClose']\n",
    "\n",
    "    return tmp['sp_ratio']\n",
    "\n",
    "def roe_ttm(df, qdf):\n",
    "    '''\n",
    "    Description: ROE TTM (For Trailing Twelve Months)\n",
    "    Method: ROE.mean() for the last 4 seasons\n",
    "    '''\n",
    "    qdf.sort_values('date', inplace=True)\n",
    "    \n",
    "    field = ['date']\n",
    "    quarter_field = ['date', 'statementData.overview.roe']\n",
    "    window = 20\n",
    "    quarter_window = 4\n",
    "    \n",
    "    tmp = qdf[quarter_field].copy(deep=True)\n",
    "    \n",
    "    tmp['ROE_TTM'] = tmp['statementData.overview.roe'].rolling(quarter_window).sum()\n",
    "        \n",
    "    tmp = pd.merge(df, tmp[['date', 'ROE_TTM']], on='date', how='outer').sort_values('date')\n",
    "    tmp['ROE_TTM'].ffill(inplace=True)\n",
    "    tmp = tmp[~pd.isna(tmp['close'])]\n",
    "\n",
    "    return tmp['ROE_TTM']\n",
    "\n",
    "def roa_ttm(df, qdf):\n",
    "    '''\n",
    "    Description: ROA TTM (For Trailing Twelve Months)\n",
    "    Method: ROA.mean() for the last 4 seasons\n",
    "    '''\n",
    "    qdf.sort_values('date', inplace=True)\n",
    "    \n",
    "    field = []\n",
    "    quarter_field = ['date', 'statementData.overview.roa']\n",
    "    window = 20\n",
    "    quarter_window = 4\n",
    "    \n",
    "    tmp = qdf[quarter_field].copy(deep=True)\n",
    "    \n",
    "    tmp['ROA_TTM'] = tmp['statementData.overview.roa'].rolling(quarter_window).sum()\n",
    "        \n",
    "    tmp = pd.merge(df, tmp[['date', 'ROA_TTM']], on='date', how='outer').sort_values('date')\n",
    "    tmp['ROA_TTM'].ffill(inplace=True)\n",
    "    tmp = tmp[~pd.isna(tmp['close'])]\n",
    "\n",
    "    return tmp['ROA_TTM']\n",
    "\n",
    "def book_to_price_ratio(df, qdf):\n",
    "    '''\n",
    "    Description: Book to price ratio\n",
    "    Method: 1 / pbRatio\n",
    "    '''\n",
    "    fields = ['date', 'pbRatio']\n",
    "    \n",
    "    tmp = df[fields].copy(deep=True)\n",
    "    tmp['book_to_price'] = (1 / tmp['pbRatio']).shift(1)\n",
    "\n",
    "    return tmp['book_to_price']"
   ]
  },
  {
   "cell_type": "markdown",
   "metadata": {},
   "source": [
    "### Growth factors"
   ]
  },
  {
   "cell_type": "code",
   "execution_count": 342,
   "metadata": {
    "ExecuteTime": {
     "end_time": "2021-03-05T04:30:44.115483Z",
     "start_time": "2021-03-05T04:30:44.085096Z"
    }
   },
   "outputs": [],
   "source": [
    "def SUE0(df, qdf):\n",
    "    '''\n",
    "    Description: Standardized unexpected profit\n",
    "    Method: (actual net profit in one season - expected net profit)/ expected net profit standard deviation\n",
    "    '''\n",
    "    qdf.sort_values('date', inplace=True)\n",
    "    \n",
    "    fields = ['date']\n",
    "    quarter_fields = ['date', 'statementData.incomeStatement.revenue', 'statementData.incomeStatement.costRev']\n",
    "    \n",
    "    tmp = qdf[quarter_fields].copy(deep=True)\n",
    "    tmp['net_revenue'] = tmp['statementData.incomeStatement.revenue'] - tmp['statementData.incomeStatement.costRev']\n",
    "    tmp['previous_quarter'] = tmp['net_revenue'].shift(1)\n",
    "    tmp['this_quarter_shift_4'] = tmp['net_revenue'].shift(4)\n",
    "    tmp['previous_quarter_shift_4'] = tmp['previous_quarter'].shift(4)\n",
    "    tmp['C'] = (tmp['previous_quarter'] - tmp['previous_quarter_shift_4']).rolling(4).mean()\n",
    "    tmp['epsilon'] = (tmp['previous_quarter'] - tmp['previous_quarter_shift_4']).rolling(4).std()\n",
    "    tmp['Q'] = tmp['this_quarter_shift_4'] + tmp['C'] + tmp['epsilon']\n",
    "    tmp['SUE0'] = (tmp['net_revenue'] - tmp['Q']) / tmp['epsilon']\n",
    "    \n",
    "    tmp = pd.merge(df, tmp[['date', 'SUE0']], on='date', how='outer').sort_values('date')\n",
    "    tmp['SUE0'].ffill(inplace=True)\n",
    "    tmp = tmp[~pd.isna(tmp['close'])]\n",
    "\n",
    "    return tmp['SUE0']\n",
    "\n",
    "\n",
    "def SUR0(df, qdf):\n",
    "    '''\n",
    "    Description: Standardized unexpected revenue\n",
    "    Method: (actual operating income in one season - expected operating income)/ expected operating income standard deviation\n",
    "    '''\n",
    "    qdf.sort_values('date', inplace=True)\n",
    "    \n",
    "    fields = ['date']\n",
    "    quarter_fields = ['date', 'statementData.incomeStatement.opinc']\n",
    "    \n",
    "    tmp = qdf[quarter_fields].copy(deep=True)\n",
    "    tmp['previous_quarter'] = tmp['statementData.incomeStatement.opinc'].shift(1)\n",
    "    tmp['this_quarter_shift_4'] = tmp['statementData.incomeStatement.opinc'].shift(4)\n",
    "    tmp['previous_quarter_shift_4'] = tmp['previous_quarter'].shift(4)\n",
    "    tmp['C'] = (tmp['previous_quarter'] - tmp['previous_quarter_shift_4']).rolling(4).mean()\n",
    "    tmp['epsilon'] = (tmp['previous_quarter'] - tmp['previous_quarter_shift_4']).rolling(4).std()\n",
    "    tmp['Q'] = tmp['this_quarter_shift_4'] + tmp['C'] + tmp['epsilon']\n",
    "    tmp['SUR0'] = (tmp['statementData.incomeStatement.opinc'] - tmp['Q']) / tmp['epsilon']\n",
    "    \n",
    "    tmp = pd.merge(df, tmp[['date', 'SUR0']], on='date', how='outer').sort_values('date')\n",
    "    tmp['SUR0'].ffill(inplace=True)\n",
    "    tmp = tmp[~pd.isna(tmp['close'])]\n",
    "\n",
    "    return tmp['SUR0']\n",
    "\n",
    "def DELTAROE(df, qdf):\n",
    "    '''\n",
    "    Description: Quarter-on-quarter ROE change ratio\n",
    "    Method: ROE this quarter - ROA same quarter last year\n",
    "    '''\n",
    "    qdf.sort_values('date', inplace=True)\n",
    "    \n",
    "    fields = ['date']\n",
    "    quarter_fields = ['date', 'statementData.overview.roe']\n",
    "    \n",
    "    tmp = qdf[quarter_fields].copy(deep=True)\n",
    "    tmp['last_year_roe'] = tmp['statementData.overview.roe'].shift(4)\n",
    "    tmp['DELTAROE'] = tmp['statementData.overview.roe'] - tmp['last_year_roe']\n",
    "\n",
    "    tmp = pd.merge(df, tmp[['date', 'DELTAROE']], on='date', how='outer').sort_values('date')\n",
    "    tmp['DELTAROE'].ffill(inplace=True)\n",
    "    tmp = tmp[~pd.isna(tmp['close'])]\n",
    "\n",
    "    return tmp['DELTAROE']\n",
    "\n",
    "\n",
    "def DELTAROA(df, qdf):\n",
    "    '''\n",
    "    Description: Quarter-on-quarter ROA ratio\n",
    "    Method: ROA this quarter - ROA same quarter last year\n",
    "    '''\n",
    "    qdf.sort_values('date', inplace=True)\n",
    "    \n",
    "    fields = ['date']\n",
    "    quarter_fields = ['date', 'statementData.overview.roa']\n",
    "    \n",
    "    tmp = qdf[quarter_fields].copy(deep=True)\n",
    "    tmp['last_year_roa'] = tmp['statementData.overview.roa'].shift(4)\n",
    "    tmp['DELTAROA'] = tmp['statementData.overview.roa'] - tmp['last_year_roa']\n",
    "\n",
    "    tmp = pd.merge(df, tmp[['date', 'DELTAROA']], on='date', how='outer').sort_values('date')\n",
    "    tmp['DELTAROA'].ffill(inplace=True)\n",
    "    tmp = tmp[~pd.isna(tmp['close'])]\n",
    "\n",
    "    return tmp['DELTAROA']\n",
    "\n",
    "def net_profit_growth_rate(df, qdf):\n",
    "    '''\n",
    "    Description: annual net profit growth rate\n",
    "    Method: (Net profit this year TTM / net profit last year TTM) - 100%\n",
    "    '''\n",
    "    qdf.sort_values('date', inplace=True)\n",
    "    \n",
    "    fields = ['date']\n",
    "    quarter_fields = ['date', 'year', 'quarter', 'statementData.incomeStatement.revenue', 'statementData.incomeStatement.costRev']\n",
    "    quarter_window = 4\n",
    "    \n",
    "    tmp = qdf[quarter_fields].copy(deep=True)\n",
    "    tmp['net_profit'] = tmp['statementData.incomeStatement.revenue'] - tmp['statementData.incomeStatement.costRev']\n",
    "    tmp['net_profit_TTM'] = tmp['net_profit'].rolling(quarter_window).sum()\n",
    "    tmp['net_profit_TTM_shift_4'] = tmp['net_profit_TTM'].shift(quarter_window)\n",
    "    tmp['net_profit_growth_rate'] = (tmp['net_profit_TTM'] / tmp['net_profit_TTM_shift_4']) - 1\n",
    "\n",
    "    tmp = pd.merge(df, tmp[['date', 'net_profit_growth_rate']], on='date', how='outer').sort_values('date')\n",
    "    tmp['net_profit_growth_rate'].ffill(inplace=True)\n",
    "    tmp = tmp[~pd.isna(tmp['close'])]\n",
    "\n",
    "    return tmp['net_profit_growth_rate']\n",
    "\n",
    "def operating_revenue_growth_rate(df, qdf):\n",
    "    '''\n",
    "    Description: annual operating revenue growth rate\n",
    "    Method: (operating revenue this year TTM / operating revenue last year TTM) - 100%\n",
    "    '''\n",
    "    qdf.sort_values('date', inplace=True)\n",
    "    \n",
    "    fields = ['date']\n",
    "    quarter_fields = ['date', 'year', 'quarter', 'statementData.incomeStatement.opinc']\n",
    "    quarter_window = 4\n",
    "    \n",
    "    tmp = qdf[quarter_fields].copy(deep=True)\n",
    "    tmp['revenue_TTM'] = tmp['statementData.incomeStatement.opinc'].rolling(quarter_window).sum()\n",
    "    tmp['revenue_TTM_shift_4'] = tmp['revenue_TTM'].shift(quarter_window)\n",
    "    tmp['total_revenue_growth_rate'] = (tmp['revenue_TTM'] / tmp['revenue_TTM_shift_4']) - 1\n",
    "\n",
    "    tmp = pd.merge(df, tmp[['date', 'total_revenue_growth_rate']], on='date', how='outer').sort_values('date')\n",
    "    tmp['total_revenue_growth_rate'].ffill(inplace=True)\n",
    "    tmp = tmp[~pd.isna(tmp['close'])]\n",
    "\n",
    "    return tmp['total_revenue_growth_rate']\n",
    "\n",
    "def total_profit_growth_rate(df, qdf):\n",
    "    '''\n",
    "    Description: annual total revenue growth rate\n",
    "    Method: (total revenue this year TTM / total revenue last year TTM) - 100%\n",
    "    '''\n",
    "    qdf.sort_values('date', inplace=True)\n",
    "    \n",
    "    fields = ['date']\n",
    "    quarter_fields = ['date', 'year', 'quarter', 'statementData.incomeStatement.revenue']\n",
    "    quarter_window = 4\n",
    "    \n",
    "    tmp = qdf[quarter_fields].copy(deep=True)\n",
    "    tmp['profit_TTM'] = tmp['statementData.incomeStatement.revenue'].rolling(quarter_window).sum()\n",
    "    tmp['profit_TTM_shift_4'] = tmp['profit_TTM'].shift(quarter_window)\n",
    "    tmp['total_profit_growth_rate'] = (tmp['profit_TTM'] / tmp['profit_TTM_shift_4']) - 1\n",
    "\n",
    "    tmp = pd.merge(df, tmp[['date', 'total_profit_growth_rate']], on='date', how='outer').sort_values('date')\n",
    "    tmp['total_profit_growth_rate'].ffill(inplace=True)\n",
    "    tmp = tmp[~pd.isna(tmp['close'])]\n",
    "\n",
    "    return tmp['total_profit_growth_rate']"
   ]
  },
  {
   "cell_type": "markdown",
   "metadata": {},
   "source": [
    "### Momentum factors"
   ]
  },
  {
   "cell_type": "code",
   "execution_count": 343,
   "metadata": {
    "ExecuteTime": {
     "end_time": "2021-03-05T04:30:44.157321Z",
     "start_time": "2021-03-05T04:30:44.146098Z"
    }
   },
   "outputs": [],
   "source": [
    "def ILLIQ(df, qdf):\n",
    "    '''\n",
    "    Description: illiquidity factor\n",
    "    Method: mean of the (absolute value of the price change in the past 20 days / trade volume)\n",
    "    '''\n",
    "    # ! We should use trading money instead of trading volume.\n",
    "    # ! Trading money = the money amount that has been traded on the market\n",
    "    fields = ['adjClose', 'adjVolume']\n",
    "    window = 20\n",
    "    tmp = df[fields].copy(deep=True)\n",
    "    tmp.ffill(inplace=True)\n",
    "    \n",
    "    tmp['pct_change'] = df['adjClose'].pct_change()\n",
    "    tmp['Vol'] = df['adjVolume']\n",
    "    tmp['pct_vol'] = tmp['pct_change'] / tmp['Vol']\n",
    "    tmp['ILLIQ'] = tmp['pct_vol'].rolling(window).mean().shift(1)\n",
    "\n",
    "    return tmp['ILLIQ']\n",
    "\n",
    "def VOL20(df, qdf):\n",
    "    '''\n",
    "    Description: 20-day turnover average\n",
    "    Method: average of turnover in past 20 days\n",
    "    '''\n",
    "    qdf.sort_values('date', inplace=True)\n",
    "    \n",
    "    field = ['adjVolume']\n",
    "    quarter_field = ['date', 'statementData.balanceSheet.sharesBasic']\n",
    "    window = 20\n",
    "    tmp = qdf[quarter_field].copy(deep=True)\n",
    "        \n",
    "    tmp = pd.merge(df, tmp[['date', 'statementData.balanceSheet.sharesBasic']], on='date', how='outer').sort_values('date')\n",
    "    tmp['statementData.balanceSheet.sharesBasic'].ffill(inplace=True)\n",
    "    tmp = tmp[~pd.isna(tmp['close'])]\n",
    "    \n",
    "    tmp['vol'] = tmp['adjVolume'] / tmp['statementData.balanceSheet.sharesBasic']\n",
    "    tmp['vol20'] = tmp['vol'].rolling(window).sum().shift(1)\n",
    "\n",
    "    return tmp['vol20']\n",
    "\n",
    "\n",
    "def VOL60(df, qdf):\n",
    "    '''\n",
    "    Description: 60-day turnover average\n",
    "    Method: average of turnover in past 60 days\n",
    "    '''\n",
    "    field = ['adjVolume']\n",
    "    quarter_field = ['date', 'statementData.balanceSheet.sharesBasic']\n",
    "    window = 60\n",
    "    tmp = qdf[quarter_field].copy(deep=True)\n",
    "        \n",
    "    tmp = pd.merge(df, tmp[['date', 'statementData.balanceSheet.sharesBasic']], on='date', how='outer').sort_values('date')\n",
    "    tmp['statementData.balanceSheet.sharesBasic'].ffill(inplace=True)\n",
    "    tmp = tmp[~pd.isna(tmp['close'])]\n",
    "    \n",
    "    tmp['vol'] = tmp['adjVolume'] / tmp['statementData.balanceSheet.sharesBasic']\n",
    "    tmp['vol60'] = tmp['vol'].rolling(window).sum().shift(1)\n",
    "\n",
    "    return tmp['vol60']"
   ]
  },
  {
   "cell_type": "markdown",
   "metadata": {},
   "source": [
    "### Volatility factors"
   ]
  },
  {
   "cell_type": "code",
   "execution_count": 344,
   "metadata": {
    "ExecuteTime": {
     "end_time": "2021-03-05T04:30:44.297005Z",
     "start_time": "2021-03-05T04:30:44.286347Z"
    }
   },
   "outputs": [],
   "source": [
    "def ATR1M(df, qdf):\n",
    "    '''\n",
    "    Description: Average true range of the past month\n",
    "    Method: Calculate the ATR indicator in the past 20 days\n",
    "    '''\n",
    "\n",
    "    fields = ['date','adjHigh', 'adjLow', 'adjClose']\n",
    "    window = 20\n",
    "    tmp = df[fields].copy(deep=True)\n",
    "    tmp.ffill(inplace=True)\n",
    "    \n",
    "    tmp['high'] = tmp['adjHigh'].shift(1)\n",
    "    tmp['low'] = tmp['adjLow'].shift(1)\n",
    "    tmp['close'] = tmp['adjClose'].shift(1)\n",
    "    \n",
    "    tmp['hml'] = tmp['high'] - tmp['low']\n",
    "    tmp['cmh'] = (tmp['close'].shift(1) - tmp['high']).abs()\n",
    "    tmp['cml'] = (tmp['close'].shift(1) - tmp['low']).abs()\n",
    "    \n",
    "    tmp['TR'] = tmp[['hml', 'cmh', 'cml']].max(axis=1, skipna=False)\n",
    "    tmp['ATR1M'] = tmp['TR'].rolling(window).mean().shift(1)\n",
    "    \n",
    "    return tmp['ATR1M']\n",
    "    \n",
    "def ATR3M(df, qdf):\n",
    "    '''\n",
    "    \n",
    "    Description: Average true range of the past three months\n",
    "    Method: Calculate the ATR indicator in the past 60 days\n",
    "    '''\n",
    "\n",
    "    fields = ['date','adjHigh', 'adjLow', 'adjClose']\n",
    "    window = 60\n",
    "    tmp = df[fields].copy(deep=True)\n",
    "    tmp.fillna(0, inplace=True)\n",
    "    \n",
    "    tmp['high'] = tmp['adjHigh'].shift(1)\n",
    "    tmp['low'] = tmp['adjLow'].shift(1)\n",
    "    tmp['close'] = tmp['adjClose'].shift(1)\n",
    "    \n",
    "    tmp['hml'] = tmp['high'] - tmp['low']\n",
    "    tmp['cmh'] = (tmp['close'].shift(1) - tmp['high']).abs()\n",
    "    tmp['cml'] = (tmp['close'].shift(1) - tmp['low']).abs()\n",
    "    \n",
    "    tmp['TR'] = tmp[['hml', 'cmh', 'cml']].max(axis=1, skipna=False)\n",
    "    tmp['ATR3M'] = tmp['TR'].rolling(window).mean().shift(1)\n",
    "    \n",
    "    return tmp['ATR3M']"
   ]
  },
  {
   "cell_type": "markdown",
   "metadata": {},
   "source": [
    "### Size factors"
   ]
  },
  {
   "cell_type": "code",
   "execution_count": 345,
   "metadata": {
    "ExecuteTime": {
     "end_time": "2021-03-05T04:30:44.424826Z",
     "start_time": "2021-03-05T04:30:44.420763Z"
    }
   },
   "outputs": [],
   "source": [
    "def natural_log_of_market_cap(df, qdf):\n",
    "    '''\n",
    "    Description: natural of the market capital\n",
    "    Method: log(marketCap)\n",
    "    '''\n",
    "    fields = ['date', 'marketCap']\n",
    "    \n",
    "    tmp = df[fields].copy(deep=True)\n",
    "    tmp['ln_of_market_cap'] = tmp['marketCap'].apply(np.log).shift(1)\n",
    "                              \n",
    "    return tmp['ln_of_market_cap']"
   ]
  },
  {
   "cell_type": "markdown",
   "metadata": {},
   "source": [
    "### Technical factors"
   ]
  },
  {
   "cell_type": "code",
   "execution_count": 346,
   "metadata": {
    "ExecuteTime": {
     "end_time": "2021-03-05T04:30:45.415552Z",
     "start_time": "2021-03-05T04:30:45.409001Z"
    }
   },
   "outputs": [],
   "source": [
    "def ROC20(df, qdf):\n",
    "    '''\n",
    "    Description: Price rate of change in 20 days\n",
    "    Method: \n",
    "        1. AX=today's close - 20 days ago close price\n",
    "        2. BX=20 days ago close price\n",
    "        3. ROC=AX/BX*100%\n",
    "    '''\n",
    "\n",
    "    fields = ['date', 'adjClose']\n",
    "\n",
    "    window = 20\n",
    "    tmp = df[fields].copy(deep=True)\n",
    "    tmp.fillna(0, inplace=True)\n",
    "    \n",
    "    tmp['BX'] = tmp['adjClose'].shift(window)\n",
    "    tmp['AX'] = tmp['adjClose'] - tmp['BX']\n",
    "    tmp['ROC20'] = ((tmp['AX'] / tmp['BX'])*100).shift(1)\n",
    "\n",
    "    return tmp['ROC20']\n",
    "\n",
    "\n",
    "def ROC60(df, qdf):\n",
    "    '''\n",
    "    Description: Price rate of change in 60 days\n",
    "    Method: \n",
    "        1. AX=today's close - 60 days ago close price\n",
    "        2. BX=60 days ago close price\n",
    "        3. ROC=AX/BX*100%\n",
    "    '''\n",
    "\n",
    "    fields = ['date', 'adjClose']\n",
    "\n",
    "    window = 60\n",
    "    tmp = df[fields].copy(deep=True)\n",
    "    tmp.fillna(0, inplace=True)\n",
    "    \n",
    "    tmp['BX'] = tmp['adjClose'].shift(window)\n",
    "    tmp['AX'] = tmp['adjClose'] - tmp['BX']\n",
    "    tmp['ROC60'] = ((tmp['AX'] / tmp['BX'])*100).shift(1)\n",
    "\n",
    "    return tmp['ROC60']"
   ]
  },
  {
   "cell_type": "markdown",
   "metadata": {},
   "source": [
    "### Fundamental data"
   ]
  },
  {
   "cell_type": "code",
   "execution_count": 347,
   "metadata": {
    "ExecuteTime": {
     "end_time": "2021-03-05T04:30:45.606095Z",
     "start_time": "2021-03-05T04:30:45.602520Z"
    }
   },
   "outputs": [],
   "source": [
    "def get_market_cap(df, qdf):\n",
    "    '''\n",
    "    Description: marketCap directly from financial report\n",
    "    Method: marketCap\n",
    "    '''\n",
    "    fields = ['date', 'marketCap']\n",
    "                              \n",
    "    return df['marketCap']\n",
    "\n",
    "def get_adj_price(df, qdf):\n",
    "    '''\n",
    "    Description: close price directly from financial report\n",
    "    Method: use adjClose price\n",
    "    '''\n",
    "    fields = ['adjOpen', 'adjHigh', 'adjLow', 'adjClose']\n",
    "                              \n",
    "    return df[fields]"
   ]
  },
  {
   "cell_type": "markdown",
   "metadata": {},
   "source": [
    "## Constants setup"
   ]
  },
  {
   "cell_type": "code",
   "execution_count": 2329,
   "metadata": {
    "ExecuteTime": {
     "end_time": "2021-03-07T02:39:25.511888Z",
     "start_time": "2021-03-07T02:39:25.506924Z"
    }
   },
   "outputs": [],
   "source": [
    "START_DATE = '2018-1-1'\n",
    "END_DATE = (datetime.datetime.now() - datetime.timedelta(days=1)).strftime('%Y-%m-%d')\n",
    "\n",
    "FREQ = 'daily'\n",
    "# daily\n",
    "# weekly\n",
    "# monthly\n",
    "\n",
    "USE_ORTHOGONAL_DATA = False\n",
    "\n",
    "REMOVING_FACTORS = [\n",
    "# Observing\n",
    "    'ILLIQ',\n",
    "    'ATR1M',  \n",
    "    'ATR3M',\n",
    "    'total_revenue_growth_rate',\n",
    "    'ep_ratio',\n",
    "\n",
    "# Negative impact\n",
    "    'ROC60',\n",
    "    'ROC20',\n",
    "    \n",
    "# Good for optional for later check\n",
    "    'SUE0',\n",
    "    'total_profit_growth_rate',\n",
    "    'sp_ratio',\n",
    "    'ln_of_market_cap',\n",
    "    'ROE_TTM',\n",
    "    'ROA_TTM',\n",
    "    'DELTAROE',\n",
    "    'DELTAROA',\n",
    "    \n",
    "# Factor that we are using\n",
    "#     'net_profit_growth_rate',    \n",
    "#     'vol60',\n",
    "#     'SUR0',\n",
    "#     'vol20',\n",
    "#     'book_to_price',\n",
    "]\n",
    "\n",
    "\n",
    "# 'IC'\n",
    "# 'IR'\n",
    "# 'EQUAL'\n",
    "FACTOR_WEIGHT_METHOD = 'IR'"
   ]
  },
  {
   "cell_type": "markdown",
   "metadata": {},
   "source": [
    "## Get factors data"
   ]
  },
  {
   "cell_type": "markdown",
   "metadata": {},
   "source": [
    "### Download raw data"
   ]
  },
  {
   "cell_type": "code",
   "execution_count": 527,
   "metadata": {
    "ExecuteTime": {
     "end_time": "2021-03-05T05:21:15.288639Z",
     "start_time": "2021-03-05T05:21:11.670294Z"
    },
    "scrolled": true
   },
   "outputs": [
    {
     "ename": "KeyboardInterrupt",
     "evalue": "",
     "output_type": "error",
     "traceback": [
      "\u001b[0;31m---------------------------------------------------------------------------\u001b[0m",
      "\u001b[0;31mKeyboardInterrupt\u001b[0m                         Traceback (most recent call last)",
      "\u001b[0;32m<ipython-input-527-0950673fa425>\u001b[0m in \u001b[0;36m<module>\u001b[0;34m\u001b[0m\n\u001b[1;32m      1\u001b[0m \u001b[0;31m# Needs VPN\u001b[0m\u001b[0;34m\u001b[0m\u001b[0;34m\u001b[0m\u001b[0;34m\u001b[0m\u001b[0m\n\u001b[0;32m----> 2\u001b[0;31m \u001b[0msnp_scaffolding\u001b[0m \u001b[0;34m=\u001b[0m \u001b[0mget_snp_stock_scaffolding\u001b[0m\u001b[0;34m(\u001b[0m\u001b[0mSTART_DATE\u001b[0m\u001b[0;34m,\u001b[0m \u001b[0mEND_DATE\u001b[0m\u001b[0;34m,\u001b[0m \u001b[0mFREQ\u001b[0m\u001b[0;34m)\u001b[0m\u001b[0;34m\u001b[0m\u001b[0;34m\u001b[0m\u001b[0m\n\u001b[0m\u001b[1;32m      3\u001b[0m \u001b[0msnp_scaffolding\u001b[0m\u001b[0;34m\u001b[0m\u001b[0;34m\u001b[0m\u001b[0m\n",
      "\u001b[0;32m<ipython-input-338-9a93ee8b44ee>\u001b[0m in \u001b[0;36mget_snp_stock_scaffolding\u001b[0;34m(start_date, end_date, freq)\u001b[0m\n\u001b[1;32m      1\u001b[0m \u001b[0;32mdef\u001b[0m \u001b[0mget_snp_stock_scaffolding\u001b[0m\u001b[0;34m(\u001b[0m\u001b[0mstart_date\u001b[0m\u001b[0;34m,\u001b[0m \u001b[0mend_date\u001b[0m\u001b[0;34m,\u001b[0m \u001b[0mfreq\u001b[0m\u001b[0;34m=\u001b[0m\u001b[0;34m'daily'\u001b[0m\u001b[0;34m)\u001b[0m\u001b[0;34m:\u001b[0m\u001b[0;34m\u001b[0m\u001b[0;34m\u001b[0m\u001b[0m\n\u001b[0;32m----> 2\u001b[0;31m     \u001b[0mdata\u001b[0m \u001b[0;34m=\u001b[0m \u001b[0mpd\u001b[0m\u001b[0;34m.\u001b[0m\u001b[0mread_html\u001b[0m\u001b[0;34m(\u001b[0m\u001b[0;34m'https://en.wikipedia.org/wiki/List_of_S%26P_500_companies'\u001b[0m\u001b[0;34m)\u001b[0m\u001b[0;34m\u001b[0m\u001b[0;34m\u001b[0m\u001b[0m\n\u001b[0m\u001b[1;32m      3\u001b[0m \u001b[0;34m\u001b[0m\u001b[0m\n\u001b[1;32m      4\u001b[0m     \u001b[0;31m# Get current S&P table and set header column\u001b[0m\u001b[0;34m\u001b[0m\u001b[0;34m\u001b[0m\u001b[0;34m\u001b[0m\u001b[0m\n\u001b[1;32m      5\u001b[0m     \u001b[0msp500\u001b[0m \u001b[0;34m=\u001b[0m \u001b[0mdata\u001b[0m\u001b[0;34m[\u001b[0m\u001b[0;36m0\u001b[0m\u001b[0;34m]\u001b[0m\u001b[0;34m.\u001b[0m\u001b[0miloc\u001b[0m\u001b[0;34m[\u001b[0m\u001b[0;36m1\u001b[0m\u001b[0;34m:\u001b[0m\u001b[0;34m,\u001b[0m\u001b[0;34m[\u001b[0m\u001b[0;36m0\u001b[0m\u001b[0;34m,\u001b[0m\u001b[0;36m1\u001b[0m\u001b[0;34m,\u001b[0m\u001b[0;36m6\u001b[0m\u001b[0;34m,\u001b[0m\u001b[0;36m7\u001b[0m\u001b[0;34m]\u001b[0m\u001b[0;34m]\u001b[0m\u001b[0;34m\u001b[0m\u001b[0;34m\u001b[0m\u001b[0m\n",
      "\u001b[0;32m/opt/anaconda3/envs/quant/lib/python3.7/site-packages/pandas/io/html.py\u001b[0m in \u001b[0;36mread_html\u001b[0;34m(io, match, flavor, header, index_col, skiprows, attrs, parse_dates, thousands, encoding, decimal, converters, na_values, keep_default_na, displayed_only)\u001b[0m\n\u001b[1;32m   1098\u001b[0m         \u001b[0mna_values\u001b[0m\u001b[0;34m=\u001b[0m\u001b[0mna_values\u001b[0m\u001b[0;34m,\u001b[0m\u001b[0;34m\u001b[0m\u001b[0;34m\u001b[0m\u001b[0m\n\u001b[1;32m   1099\u001b[0m         \u001b[0mkeep_default_na\u001b[0m\u001b[0;34m=\u001b[0m\u001b[0mkeep_default_na\u001b[0m\u001b[0;34m,\u001b[0m\u001b[0;34m\u001b[0m\u001b[0;34m\u001b[0m\u001b[0m\n\u001b[0;32m-> 1100\u001b[0;31m         \u001b[0mdisplayed_only\u001b[0m\u001b[0;34m=\u001b[0m\u001b[0mdisplayed_only\u001b[0m\u001b[0;34m,\u001b[0m\u001b[0;34m\u001b[0m\u001b[0;34m\u001b[0m\u001b[0m\n\u001b[0m\u001b[1;32m   1101\u001b[0m     )\n",
      "\u001b[0;32m/opt/anaconda3/envs/quant/lib/python3.7/site-packages/pandas/io/html.py\u001b[0m in \u001b[0;36m_parse\u001b[0;34m(flavor, io, match, attrs, encoding, displayed_only, **kwargs)\u001b[0m\n\u001b[1;32m    893\u001b[0m \u001b[0;34m\u001b[0m\u001b[0m\n\u001b[1;32m    894\u001b[0m         \u001b[0;32mtry\u001b[0m\u001b[0;34m:\u001b[0m\u001b[0;34m\u001b[0m\u001b[0;34m\u001b[0m\u001b[0m\n\u001b[0;32m--> 895\u001b[0;31m             \u001b[0mtables\u001b[0m \u001b[0;34m=\u001b[0m \u001b[0mp\u001b[0m\u001b[0;34m.\u001b[0m\u001b[0mparse_tables\u001b[0m\u001b[0;34m(\u001b[0m\u001b[0;34m)\u001b[0m\u001b[0;34m\u001b[0m\u001b[0;34m\u001b[0m\u001b[0m\n\u001b[0m\u001b[1;32m    896\u001b[0m         \u001b[0;32mexcept\u001b[0m \u001b[0mValueError\u001b[0m \u001b[0;32mas\u001b[0m \u001b[0mcaught\u001b[0m\u001b[0;34m:\u001b[0m\u001b[0;34m\u001b[0m\u001b[0;34m\u001b[0m\u001b[0m\n\u001b[1;32m    897\u001b[0m             \u001b[0;31m# if `io` is an io-like object, check if it's seekable\u001b[0m\u001b[0;34m\u001b[0m\u001b[0;34m\u001b[0m\u001b[0;34m\u001b[0m\u001b[0m\n",
      "\u001b[0;32m/opt/anaconda3/envs/quant/lib/python3.7/site-packages/pandas/io/html.py\u001b[0m in \u001b[0;36mparse_tables\u001b[0;34m(self)\u001b[0m\n\u001b[1;32m    211\u001b[0m         \u001b[0mlist\u001b[0m \u001b[0mof\u001b[0m \u001b[0mparsed\u001b[0m \u001b[0;34m(\u001b[0m\u001b[0mheader\u001b[0m\u001b[0;34m,\u001b[0m \u001b[0mbody\u001b[0m\u001b[0;34m,\u001b[0m \u001b[0mfooter\u001b[0m\u001b[0;34m)\u001b[0m \u001b[0mtuples\u001b[0m \u001b[0;32mfrom\u001b[0m \u001b[0mtables\u001b[0m\u001b[0;34m.\u001b[0m\u001b[0;34m\u001b[0m\u001b[0;34m\u001b[0m\u001b[0m\n\u001b[1;32m    212\u001b[0m         \"\"\"\n\u001b[0;32m--> 213\u001b[0;31m         \u001b[0mtables\u001b[0m \u001b[0;34m=\u001b[0m \u001b[0mself\u001b[0m\u001b[0;34m.\u001b[0m\u001b[0m_parse_tables\u001b[0m\u001b[0;34m(\u001b[0m\u001b[0mself\u001b[0m\u001b[0;34m.\u001b[0m\u001b[0m_build_doc\u001b[0m\u001b[0;34m(\u001b[0m\u001b[0;34m)\u001b[0m\u001b[0;34m,\u001b[0m \u001b[0mself\u001b[0m\u001b[0;34m.\u001b[0m\u001b[0mmatch\u001b[0m\u001b[0;34m,\u001b[0m \u001b[0mself\u001b[0m\u001b[0;34m.\u001b[0m\u001b[0mattrs\u001b[0m\u001b[0;34m)\u001b[0m\u001b[0;34m\u001b[0m\u001b[0;34m\u001b[0m\u001b[0m\n\u001b[0m\u001b[1;32m    214\u001b[0m         \u001b[0;32mreturn\u001b[0m \u001b[0;34m(\u001b[0m\u001b[0mself\u001b[0m\u001b[0;34m.\u001b[0m\u001b[0m_parse_thead_tbody_tfoot\u001b[0m\u001b[0;34m(\u001b[0m\u001b[0mtable\u001b[0m\u001b[0;34m)\u001b[0m \u001b[0;32mfor\u001b[0m \u001b[0mtable\u001b[0m \u001b[0;32min\u001b[0m \u001b[0mtables\u001b[0m\u001b[0;34m)\u001b[0m\u001b[0;34m\u001b[0m\u001b[0;34m\u001b[0m\u001b[0m\n\u001b[1;32m    215\u001b[0m \u001b[0;34m\u001b[0m\u001b[0m\n",
      "\u001b[0;32m/opt/anaconda3/envs/quant/lib/python3.7/site-packages/pandas/io/html.py\u001b[0m in \u001b[0;36m_build_doc\u001b[0;34m(self)\u001b[0m\n\u001b[1;32m    712\u001b[0m         \u001b[0;32mtry\u001b[0m\u001b[0;34m:\u001b[0m\u001b[0;34m\u001b[0m\u001b[0;34m\u001b[0m\u001b[0m\n\u001b[1;32m    713\u001b[0m             \u001b[0;32mif\u001b[0m \u001b[0mis_url\u001b[0m\u001b[0;34m(\u001b[0m\u001b[0mself\u001b[0m\u001b[0;34m.\u001b[0m\u001b[0mio\u001b[0m\u001b[0;34m)\u001b[0m\u001b[0;34m:\u001b[0m\u001b[0;34m\u001b[0m\u001b[0;34m\u001b[0m\u001b[0m\n\u001b[0;32m--> 714\u001b[0;31m                 \u001b[0;32mwith\u001b[0m \u001b[0murlopen\u001b[0m\u001b[0;34m(\u001b[0m\u001b[0mself\u001b[0m\u001b[0;34m.\u001b[0m\u001b[0mio\u001b[0m\u001b[0;34m)\u001b[0m \u001b[0;32mas\u001b[0m \u001b[0mf\u001b[0m\u001b[0;34m:\u001b[0m\u001b[0;34m\u001b[0m\u001b[0;34m\u001b[0m\u001b[0m\n\u001b[0m\u001b[1;32m    715\u001b[0m                     \u001b[0mr\u001b[0m \u001b[0;34m=\u001b[0m \u001b[0mparse\u001b[0m\u001b[0;34m(\u001b[0m\u001b[0mf\u001b[0m\u001b[0;34m,\u001b[0m \u001b[0mparser\u001b[0m\u001b[0;34m=\u001b[0m\u001b[0mparser\u001b[0m\u001b[0;34m)\u001b[0m\u001b[0;34m\u001b[0m\u001b[0;34m\u001b[0m\u001b[0m\n\u001b[1;32m    716\u001b[0m             \u001b[0;32melse\u001b[0m\u001b[0;34m:\u001b[0m\u001b[0;34m\u001b[0m\u001b[0;34m\u001b[0m\u001b[0m\n",
      "\u001b[0;32m/opt/anaconda3/envs/quant/lib/python3.7/site-packages/pandas/io/common.py\u001b[0m in \u001b[0;36murlopen\u001b[0;34m(*args, **kwargs)\u001b[0m\n\u001b[1;32m    139\u001b[0m     \u001b[0;32mimport\u001b[0m \u001b[0murllib\u001b[0m\u001b[0;34m.\u001b[0m\u001b[0mrequest\u001b[0m\u001b[0;34m\u001b[0m\u001b[0;34m\u001b[0m\u001b[0m\n\u001b[1;32m    140\u001b[0m \u001b[0;34m\u001b[0m\u001b[0m\n\u001b[0;32m--> 141\u001b[0;31m     \u001b[0;32mreturn\u001b[0m \u001b[0murllib\u001b[0m\u001b[0;34m.\u001b[0m\u001b[0mrequest\u001b[0m\u001b[0;34m.\u001b[0m\u001b[0murlopen\u001b[0m\u001b[0;34m(\u001b[0m\u001b[0;34m*\u001b[0m\u001b[0margs\u001b[0m\u001b[0;34m,\u001b[0m \u001b[0;34m**\u001b[0m\u001b[0mkwargs\u001b[0m\u001b[0;34m)\u001b[0m\u001b[0;34m\u001b[0m\u001b[0;34m\u001b[0m\u001b[0m\n\u001b[0m\u001b[1;32m    142\u001b[0m \u001b[0;34m\u001b[0m\u001b[0m\n\u001b[1;32m    143\u001b[0m \u001b[0;34m\u001b[0m\u001b[0m\n",
      "\u001b[0;32m/opt/anaconda3/envs/quant/lib/python3.7/urllib/request.py\u001b[0m in \u001b[0;36murlopen\u001b[0;34m(url, data, timeout, cafile, capath, cadefault, context)\u001b[0m\n\u001b[1;32m    220\u001b[0m     \u001b[0;32melse\u001b[0m\u001b[0;34m:\u001b[0m\u001b[0;34m\u001b[0m\u001b[0;34m\u001b[0m\u001b[0m\n\u001b[1;32m    221\u001b[0m         \u001b[0mopener\u001b[0m \u001b[0;34m=\u001b[0m \u001b[0m_opener\u001b[0m\u001b[0;34m\u001b[0m\u001b[0;34m\u001b[0m\u001b[0m\n\u001b[0;32m--> 222\u001b[0;31m     \u001b[0;32mreturn\u001b[0m \u001b[0mopener\u001b[0m\u001b[0;34m.\u001b[0m\u001b[0mopen\u001b[0m\u001b[0;34m(\u001b[0m\u001b[0murl\u001b[0m\u001b[0;34m,\u001b[0m \u001b[0mdata\u001b[0m\u001b[0;34m,\u001b[0m \u001b[0mtimeout\u001b[0m\u001b[0;34m)\u001b[0m\u001b[0;34m\u001b[0m\u001b[0;34m\u001b[0m\u001b[0m\n\u001b[0m\u001b[1;32m    223\u001b[0m \u001b[0;34m\u001b[0m\u001b[0m\n\u001b[1;32m    224\u001b[0m \u001b[0;32mdef\u001b[0m \u001b[0minstall_opener\u001b[0m\u001b[0;34m(\u001b[0m\u001b[0mopener\u001b[0m\u001b[0;34m)\u001b[0m\u001b[0;34m:\u001b[0m\u001b[0;34m\u001b[0m\u001b[0;34m\u001b[0m\u001b[0m\n",
      "\u001b[0;32m/opt/anaconda3/envs/quant/lib/python3.7/urllib/request.py\u001b[0m in \u001b[0;36mopen\u001b[0;34m(self, fullurl, data, timeout)\u001b[0m\n\u001b[1;32m    523\u001b[0m             \u001b[0mreq\u001b[0m \u001b[0;34m=\u001b[0m \u001b[0mmeth\u001b[0m\u001b[0;34m(\u001b[0m\u001b[0mreq\u001b[0m\u001b[0;34m)\u001b[0m\u001b[0;34m\u001b[0m\u001b[0;34m\u001b[0m\u001b[0m\n\u001b[1;32m    524\u001b[0m \u001b[0;34m\u001b[0m\u001b[0m\n\u001b[0;32m--> 525\u001b[0;31m         \u001b[0mresponse\u001b[0m \u001b[0;34m=\u001b[0m \u001b[0mself\u001b[0m\u001b[0;34m.\u001b[0m\u001b[0m_open\u001b[0m\u001b[0;34m(\u001b[0m\u001b[0mreq\u001b[0m\u001b[0;34m,\u001b[0m \u001b[0mdata\u001b[0m\u001b[0;34m)\u001b[0m\u001b[0;34m\u001b[0m\u001b[0;34m\u001b[0m\u001b[0m\n\u001b[0m\u001b[1;32m    526\u001b[0m \u001b[0;34m\u001b[0m\u001b[0m\n\u001b[1;32m    527\u001b[0m         \u001b[0;31m# post-process response\u001b[0m\u001b[0;34m\u001b[0m\u001b[0;34m\u001b[0m\u001b[0;34m\u001b[0m\u001b[0m\n",
      "\u001b[0;32m/opt/anaconda3/envs/quant/lib/python3.7/urllib/request.py\u001b[0m in \u001b[0;36m_open\u001b[0;34m(self, req, data)\u001b[0m\n\u001b[1;32m    541\u001b[0m         \u001b[0mprotocol\u001b[0m \u001b[0;34m=\u001b[0m \u001b[0mreq\u001b[0m\u001b[0;34m.\u001b[0m\u001b[0mtype\u001b[0m\u001b[0;34m\u001b[0m\u001b[0;34m\u001b[0m\u001b[0m\n\u001b[1;32m    542\u001b[0m         result = self._call_chain(self.handle_open, protocol, protocol +\n\u001b[0;32m--> 543\u001b[0;31m                                   '_open', req)\n\u001b[0m\u001b[1;32m    544\u001b[0m         \u001b[0;32mif\u001b[0m \u001b[0mresult\u001b[0m\u001b[0;34m:\u001b[0m\u001b[0;34m\u001b[0m\u001b[0;34m\u001b[0m\u001b[0m\n\u001b[1;32m    545\u001b[0m             \u001b[0;32mreturn\u001b[0m \u001b[0mresult\u001b[0m\u001b[0;34m\u001b[0m\u001b[0;34m\u001b[0m\u001b[0m\n",
      "\u001b[0;32m/opt/anaconda3/envs/quant/lib/python3.7/urllib/request.py\u001b[0m in \u001b[0;36m_call_chain\u001b[0;34m(self, chain, kind, meth_name, *args)\u001b[0m\n\u001b[1;32m    501\u001b[0m         \u001b[0;32mfor\u001b[0m \u001b[0mhandler\u001b[0m \u001b[0;32min\u001b[0m \u001b[0mhandlers\u001b[0m\u001b[0;34m:\u001b[0m\u001b[0;34m\u001b[0m\u001b[0;34m\u001b[0m\u001b[0m\n\u001b[1;32m    502\u001b[0m             \u001b[0mfunc\u001b[0m \u001b[0;34m=\u001b[0m \u001b[0mgetattr\u001b[0m\u001b[0;34m(\u001b[0m\u001b[0mhandler\u001b[0m\u001b[0;34m,\u001b[0m \u001b[0mmeth_name\u001b[0m\u001b[0;34m)\u001b[0m\u001b[0;34m\u001b[0m\u001b[0;34m\u001b[0m\u001b[0m\n\u001b[0;32m--> 503\u001b[0;31m             \u001b[0mresult\u001b[0m \u001b[0;34m=\u001b[0m \u001b[0mfunc\u001b[0m\u001b[0;34m(\u001b[0m\u001b[0;34m*\u001b[0m\u001b[0margs\u001b[0m\u001b[0;34m)\u001b[0m\u001b[0;34m\u001b[0m\u001b[0;34m\u001b[0m\u001b[0m\n\u001b[0m\u001b[1;32m    504\u001b[0m             \u001b[0;32mif\u001b[0m \u001b[0mresult\u001b[0m \u001b[0;32mis\u001b[0m \u001b[0;32mnot\u001b[0m \u001b[0;32mNone\u001b[0m\u001b[0;34m:\u001b[0m\u001b[0;34m\u001b[0m\u001b[0;34m\u001b[0m\u001b[0m\n\u001b[1;32m    505\u001b[0m                 \u001b[0;32mreturn\u001b[0m \u001b[0mresult\u001b[0m\u001b[0;34m\u001b[0m\u001b[0;34m\u001b[0m\u001b[0m\n",
      "\u001b[0;32m/opt/anaconda3/envs/quant/lib/python3.7/urllib/request.py\u001b[0m in \u001b[0;36mhttps_open\u001b[0;34m(self, req)\u001b[0m\n\u001b[1;32m   1360\u001b[0m         \u001b[0;32mdef\u001b[0m \u001b[0mhttps_open\u001b[0m\u001b[0;34m(\u001b[0m\u001b[0mself\u001b[0m\u001b[0;34m,\u001b[0m \u001b[0mreq\u001b[0m\u001b[0;34m)\u001b[0m\u001b[0;34m:\u001b[0m\u001b[0;34m\u001b[0m\u001b[0;34m\u001b[0m\u001b[0m\n\u001b[1;32m   1361\u001b[0m             return self.do_open(http.client.HTTPSConnection, req,\n\u001b[0;32m-> 1362\u001b[0;31m                 context=self._context, check_hostname=self._check_hostname)\n\u001b[0m\u001b[1;32m   1363\u001b[0m \u001b[0;34m\u001b[0m\u001b[0m\n\u001b[1;32m   1364\u001b[0m         \u001b[0mhttps_request\u001b[0m \u001b[0;34m=\u001b[0m \u001b[0mAbstractHTTPHandler\u001b[0m\u001b[0;34m.\u001b[0m\u001b[0mdo_request_\u001b[0m\u001b[0;34m\u001b[0m\u001b[0;34m\u001b[0m\u001b[0m\n",
      "\u001b[0;32m/opt/anaconda3/envs/quant/lib/python3.7/urllib/request.py\u001b[0m in \u001b[0;36mdo_open\u001b[0;34m(self, http_class, req, **http_conn_args)\u001b[0m\n\u001b[1;32m   1317\u001b[0m             \u001b[0;32mtry\u001b[0m\u001b[0;34m:\u001b[0m\u001b[0;34m\u001b[0m\u001b[0;34m\u001b[0m\u001b[0m\n\u001b[1;32m   1318\u001b[0m                 h.request(req.get_method(), req.selector, req.data, headers,\n\u001b[0;32m-> 1319\u001b[0;31m                           encode_chunked=req.has_header('Transfer-encoding'))\n\u001b[0m\u001b[1;32m   1320\u001b[0m             \u001b[0;32mexcept\u001b[0m \u001b[0mOSError\u001b[0m \u001b[0;32mas\u001b[0m \u001b[0merr\u001b[0m\u001b[0;34m:\u001b[0m \u001b[0;31m# timeout error\u001b[0m\u001b[0;34m\u001b[0m\u001b[0;34m\u001b[0m\u001b[0m\n\u001b[1;32m   1321\u001b[0m                 \u001b[0;32mraise\u001b[0m \u001b[0mURLError\u001b[0m\u001b[0;34m(\u001b[0m\u001b[0merr\u001b[0m\u001b[0;34m)\u001b[0m\u001b[0;34m\u001b[0m\u001b[0;34m\u001b[0m\u001b[0m\n",
      "\u001b[0;32m/opt/anaconda3/envs/quant/lib/python3.7/http/client.py\u001b[0m in \u001b[0;36mrequest\u001b[0;34m(self, method, url, body, headers, encode_chunked)\u001b[0m\n\u001b[1;32m   1250\u001b[0m                 encode_chunked=False):\n\u001b[1;32m   1251\u001b[0m         \u001b[0;34m\"\"\"Send a complete request to the server.\"\"\"\u001b[0m\u001b[0;34m\u001b[0m\u001b[0;34m\u001b[0m\u001b[0m\n\u001b[0;32m-> 1252\u001b[0;31m         \u001b[0mself\u001b[0m\u001b[0;34m.\u001b[0m\u001b[0m_send_request\u001b[0m\u001b[0;34m(\u001b[0m\u001b[0mmethod\u001b[0m\u001b[0;34m,\u001b[0m \u001b[0murl\u001b[0m\u001b[0;34m,\u001b[0m \u001b[0mbody\u001b[0m\u001b[0;34m,\u001b[0m \u001b[0mheaders\u001b[0m\u001b[0;34m,\u001b[0m \u001b[0mencode_chunked\u001b[0m\u001b[0;34m)\u001b[0m\u001b[0;34m\u001b[0m\u001b[0;34m\u001b[0m\u001b[0m\n\u001b[0m\u001b[1;32m   1253\u001b[0m \u001b[0;34m\u001b[0m\u001b[0m\n\u001b[1;32m   1254\u001b[0m     \u001b[0;32mdef\u001b[0m \u001b[0m_send_request\u001b[0m\u001b[0;34m(\u001b[0m\u001b[0mself\u001b[0m\u001b[0;34m,\u001b[0m \u001b[0mmethod\u001b[0m\u001b[0;34m,\u001b[0m \u001b[0murl\u001b[0m\u001b[0;34m,\u001b[0m \u001b[0mbody\u001b[0m\u001b[0;34m,\u001b[0m \u001b[0mheaders\u001b[0m\u001b[0;34m,\u001b[0m \u001b[0mencode_chunked\u001b[0m\u001b[0;34m)\u001b[0m\u001b[0;34m:\u001b[0m\u001b[0;34m\u001b[0m\u001b[0;34m\u001b[0m\u001b[0m\n",
      "\u001b[0;32m/opt/anaconda3/envs/quant/lib/python3.7/http/client.py\u001b[0m in \u001b[0;36m_send_request\u001b[0;34m(self, method, url, body, headers, encode_chunked)\u001b[0m\n\u001b[1;32m   1296\u001b[0m             \u001b[0;31m# default charset of iso-8859-1.\u001b[0m\u001b[0;34m\u001b[0m\u001b[0;34m\u001b[0m\u001b[0;34m\u001b[0m\u001b[0m\n\u001b[1;32m   1297\u001b[0m             \u001b[0mbody\u001b[0m \u001b[0;34m=\u001b[0m \u001b[0m_encode\u001b[0m\u001b[0;34m(\u001b[0m\u001b[0mbody\u001b[0m\u001b[0;34m,\u001b[0m \u001b[0;34m'body'\u001b[0m\u001b[0;34m)\u001b[0m\u001b[0;34m\u001b[0m\u001b[0;34m\u001b[0m\u001b[0m\n\u001b[0;32m-> 1298\u001b[0;31m         \u001b[0mself\u001b[0m\u001b[0;34m.\u001b[0m\u001b[0mendheaders\u001b[0m\u001b[0;34m(\u001b[0m\u001b[0mbody\u001b[0m\u001b[0;34m,\u001b[0m \u001b[0mencode_chunked\u001b[0m\u001b[0;34m=\u001b[0m\u001b[0mencode_chunked\u001b[0m\u001b[0;34m)\u001b[0m\u001b[0;34m\u001b[0m\u001b[0;34m\u001b[0m\u001b[0m\n\u001b[0m\u001b[1;32m   1299\u001b[0m \u001b[0;34m\u001b[0m\u001b[0m\n\u001b[1;32m   1300\u001b[0m     \u001b[0;32mdef\u001b[0m \u001b[0mgetresponse\u001b[0m\u001b[0;34m(\u001b[0m\u001b[0mself\u001b[0m\u001b[0;34m)\u001b[0m\u001b[0;34m:\u001b[0m\u001b[0;34m\u001b[0m\u001b[0;34m\u001b[0m\u001b[0m\n",
      "\u001b[0;32m/opt/anaconda3/envs/quant/lib/python3.7/http/client.py\u001b[0m in \u001b[0;36mendheaders\u001b[0;34m(self, message_body, encode_chunked)\u001b[0m\n\u001b[1;32m   1245\u001b[0m         \u001b[0;32melse\u001b[0m\u001b[0;34m:\u001b[0m\u001b[0;34m\u001b[0m\u001b[0;34m\u001b[0m\u001b[0m\n\u001b[1;32m   1246\u001b[0m             \u001b[0;32mraise\u001b[0m \u001b[0mCannotSendHeader\u001b[0m\u001b[0;34m(\u001b[0m\u001b[0;34m)\u001b[0m\u001b[0;34m\u001b[0m\u001b[0;34m\u001b[0m\u001b[0m\n\u001b[0;32m-> 1247\u001b[0;31m         \u001b[0mself\u001b[0m\u001b[0;34m.\u001b[0m\u001b[0m_send_output\u001b[0m\u001b[0;34m(\u001b[0m\u001b[0mmessage_body\u001b[0m\u001b[0;34m,\u001b[0m \u001b[0mencode_chunked\u001b[0m\u001b[0;34m=\u001b[0m\u001b[0mencode_chunked\u001b[0m\u001b[0;34m)\u001b[0m\u001b[0;34m\u001b[0m\u001b[0;34m\u001b[0m\u001b[0m\n\u001b[0m\u001b[1;32m   1248\u001b[0m \u001b[0;34m\u001b[0m\u001b[0m\n\u001b[1;32m   1249\u001b[0m     def request(self, method, url, body=None, headers={}, *,\n",
      "\u001b[0;32m/opt/anaconda3/envs/quant/lib/python3.7/http/client.py\u001b[0m in \u001b[0;36m_send_output\u001b[0;34m(self, message_body, encode_chunked)\u001b[0m\n\u001b[1;32m   1024\u001b[0m         \u001b[0mmsg\u001b[0m \u001b[0;34m=\u001b[0m \u001b[0;34mb\"\\r\\n\"\u001b[0m\u001b[0;34m.\u001b[0m\u001b[0mjoin\u001b[0m\u001b[0;34m(\u001b[0m\u001b[0mself\u001b[0m\u001b[0;34m.\u001b[0m\u001b[0m_buffer\u001b[0m\u001b[0;34m)\u001b[0m\u001b[0;34m\u001b[0m\u001b[0;34m\u001b[0m\u001b[0m\n\u001b[1;32m   1025\u001b[0m         \u001b[0;32mdel\u001b[0m \u001b[0mself\u001b[0m\u001b[0;34m.\u001b[0m\u001b[0m_buffer\u001b[0m\u001b[0;34m[\u001b[0m\u001b[0;34m:\u001b[0m\u001b[0;34m]\u001b[0m\u001b[0;34m\u001b[0m\u001b[0;34m\u001b[0m\u001b[0m\n\u001b[0;32m-> 1026\u001b[0;31m         \u001b[0mself\u001b[0m\u001b[0;34m.\u001b[0m\u001b[0msend\u001b[0m\u001b[0;34m(\u001b[0m\u001b[0mmsg\u001b[0m\u001b[0;34m)\u001b[0m\u001b[0;34m\u001b[0m\u001b[0;34m\u001b[0m\u001b[0m\n\u001b[0m\u001b[1;32m   1027\u001b[0m \u001b[0;34m\u001b[0m\u001b[0m\n\u001b[1;32m   1028\u001b[0m         \u001b[0;32mif\u001b[0m \u001b[0mmessage_body\u001b[0m \u001b[0;32mis\u001b[0m \u001b[0;32mnot\u001b[0m \u001b[0;32mNone\u001b[0m\u001b[0;34m:\u001b[0m\u001b[0;34m\u001b[0m\u001b[0;34m\u001b[0m\u001b[0m\n",
      "\u001b[0;32m/opt/anaconda3/envs/quant/lib/python3.7/http/client.py\u001b[0m in \u001b[0;36msend\u001b[0;34m(self, data)\u001b[0m\n\u001b[1;32m    964\u001b[0m         \u001b[0;32mif\u001b[0m \u001b[0mself\u001b[0m\u001b[0;34m.\u001b[0m\u001b[0msock\u001b[0m \u001b[0;32mis\u001b[0m \u001b[0;32mNone\u001b[0m\u001b[0;34m:\u001b[0m\u001b[0;34m\u001b[0m\u001b[0;34m\u001b[0m\u001b[0m\n\u001b[1;32m    965\u001b[0m             \u001b[0;32mif\u001b[0m \u001b[0mself\u001b[0m\u001b[0;34m.\u001b[0m\u001b[0mauto_open\u001b[0m\u001b[0;34m:\u001b[0m\u001b[0;34m\u001b[0m\u001b[0;34m\u001b[0m\u001b[0m\n\u001b[0;32m--> 966\u001b[0;31m                 \u001b[0mself\u001b[0m\u001b[0;34m.\u001b[0m\u001b[0mconnect\u001b[0m\u001b[0;34m(\u001b[0m\u001b[0;34m)\u001b[0m\u001b[0;34m\u001b[0m\u001b[0;34m\u001b[0m\u001b[0m\n\u001b[0m\u001b[1;32m    967\u001b[0m             \u001b[0;32melse\u001b[0m\u001b[0;34m:\u001b[0m\u001b[0;34m\u001b[0m\u001b[0;34m\u001b[0m\u001b[0m\n\u001b[1;32m    968\u001b[0m                 \u001b[0;32mraise\u001b[0m \u001b[0mNotConnected\u001b[0m\u001b[0;34m(\u001b[0m\u001b[0;34m)\u001b[0m\u001b[0;34m\u001b[0m\u001b[0;34m\u001b[0m\u001b[0m\n",
      "\u001b[0;32m/opt/anaconda3/envs/quant/lib/python3.7/http/client.py\u001b[0m in \u001b[0;36mconnect\u001b[0;34m(self)\u001b[0m\n\u001b[1;32m   1420\u001b[0m \u001b[0;34m\u001b[0m\u001b[0m\n\u001b[1;32m   1421\u001b[0m             self.sock = self._context.wrap_socket(self.sock,\n\u001b[0;32m-> 1422\u001b[0;31m                                                   server_hostname=server_hostname)\n\u001b[0m\u001b[1;32m   1423\u001b[0m \u001b[0;34m\u001b[0m\u001b[0m\n\u001b[1;32m   1424\u001b[0m     \u001b[0m__all__\u001b[0m\u001b[0;34m.\u001b[0m\u001b[0mappend\u001b[0m\u001b[0;34m(\u001b[0m\u001b[0;34m\"HTTPSConnection\"\u001b[0m\u001b[0;34m)\u001b[0m\u001b[0;34m\u001b[0m\u001b[0;34m\u001b[0m\u001b[0m\n",
      "\u001b[0;32m/opt/anaconda3/envs/quant/lib/python3.7/ssl.py\u001b[0m in \u001b[0;36mwrap_socket\u001b[0;34m(self, sock, server_side, do_handshake_on_connect, suppress_ragged_eofs, server_hostname, session)\u001b[0m\n\u001b[1;32m    421\u001b[0m             \u001b[0mserver_hostname\u001b[0m\u001b[0;34m=\u001b[0m\u001b[0mserver_hostname\u001b[0m\u001b[0;34m,\u001b[0m\u001b[0;34m\u001b[0m\u001b[0;34m\u001b[0m\u001b[0m\n\u001b[1;32m    422\u001b[0m             \u001b[0mcontext\u001b[0m\u001b[0;34m=\u001b[0m\u001b[0mself\u001b[0m\u001b[0;34m,\u001b[0m\u001b[0;34m\u001b[0m\u001b[0;34m\u001b[0m\u001b[0m\n\u001b[0;32m--> 423\u001b[0;31m             \u001b[0msession\u001b[0m\u001b[0;34m=\u001b[0m\u001b[0msession\u001b[0m\u001b[0;34m\u001b[0m\u001b[0;34m\u001b[0m\u001b[0m\n\u001b[0m\u001b[1;32m    424\u001b[0m         )\n\u001b[1;32m    425\u001b[0m \u001b[0;34m\u001b[0m\u001b[0m\n",
      "\u001b[0;32m/opt/anaconda3/envs/quant/lib/python3.7/ssl.py\u001b[0m in \u001b[0;36m_create\u001b[0;34m(cls, sock, server_side, do_handshake_on_connect, suppress_ragged_eofs, server_hostname, context, session)\u001b[0m\n\u001b[1;32m    868\u001b[0m                         \u001b[0;31m# non-blocking\u001b[0m\u001b[0;34m\u001b[0m\u001b[0;34m\u001b[0m\u001b[0;34m\u001b[0m\u001b[0m\n\u001b[1;32m    869\u001b[0m                         \u001b[0;32mraise\u001b[0m \u001b[0mValueError\u001b[0m\u001b[0;34m(\u001b[0m\u001b[0;34m\"do_handshake_on_connect should not be specified for non-blocking sockets\"\u001b[0m\u001b[0;34m)\u001b[0m\u001b[0;34m\u001b[0m\u001b[0;34m\u001b[0m\u001b[0m\n\u001b[0;32m--> 870\u001b[0;31m                     \u001b[0mself\u001b[0m\u001b[0;34m.\u001b[0m\u001b[0mdo_handshake\u001b[0m\u001b[0;34m(\u001b[0m\u001b[0;34m)\u001b[0m\u001b[0;34m\u001b[0m\u001b[0;34m\u001b[0m\u001b[0m\n\u001b[0m\u001b[1;32m    871\u001b[0m             \u001b[0;32mexcept\u001b[0m \u001b[0;34m(\u001b[0m\u001b[0mOSError\u001b[0m\u001b[0;34m,\u001b[0m \u001b[0mValueError\u001b[0m\u001b[0;34m)\u001b[0m\u001b[0;34m:\u001b[0m\u001b[0;34m\u001b[0m\u001b[0;34m\u001b[0m\u001b[0m\n\u001b[1;32m    872\u001b[0m                 \u001b[0mself\u001b[0m\u001b[0;34m.\u001b[0m\u001b[0mclose\u001b[0m\u001b[0;34m(\u001b[0m\u001b[0;34m)\u001b[0m\u001b[0;34m\u001b[0m\u001b[0;34m\u001b[0m\u001b[0m\n",
      "\u001b[0;32m/opt/anaconda3/envs/quant/lib/python3.7/ssl.py\u001b[0m in \u001b[0;36mdo_handshake\u001b[0;34m(self, block)\u001b[0m\n\u001b[1;32m   1137\u001b[0m             \u001b[0;32mif\u001b[0m \u001b[0mtimeout\u001b[0m \u001b[0;34m==\u001b[0m \u001b[0;36m0.0\u001b[0m \u001b[0;32mand\u001b[0m \u001b[0mblock\u001b[0m\u001b[0;34m:\u001b[0m\u001b[0;34m\u001b[0m\u001b[0;34m\u001b[0m\u001b[0m\n\u001b[1;32m   1138\u001b[0m                 \u001b[0mself\u001b[0m\u001b[0;34m.\u001b[0m\u001b[0msettimeout\u001b[0m\u001b[0;34m(\u001b[0m\u001b[0;32mNone\u001b[0m\u001b[0;34m)\u001b[0m\u001b[0;34m\u001b[0m\u001b[0;34m\u001b[0m\u001b[0m\n\u001b[0;32m-> 1139\u001b[0;31m             \u001b[0mself\u001b[0m\u001b[0;34m.\u001b[0m\u001b[0m_sslobj\u001b[0m\u001b[0;34m.\u001b[0m\u001b[0mdo_handshake\u001b[0m\u001b[0;34m(\u001b[0m\u001b[0;34m)\u001b[0m\u001b[0;34m\u001b[0m\u001b[0;34m\u001b[0m\u001b[0m\n\u001b[0m\u001b[1;32m   1140\u001b[0m         \u001b[0;32mfinally\u001b[0m\u001b[0;34m:\u001b[0m\u001b[0;34m\u001b[0m\u001b[0;34m\u001b[0m\u001b[0m\n\u001b[1;32m   1141\u001b[0m             \u001b[0mself\u001b[0m\u001b[0;34m.\u001b[0m\u001b[0msettimeout\u001b[0m\u001b[0;34m(\u001b[0m\u001b[0mtimeout\u001b[0m\u001b[0;34m)\u001b[0m\u001b[0;34m\u001b[0m\u001b[0;34m\u001b[0m\u001b[0m\n",
      "\u001b[0;31mKeyboardInterrupt\u001b[0m: "
     ]
    }
   ],
   "source": [
    "# Needs VPN\n",
    "snp_scaffolding = get_snp_stock_scaffolding(START_DATE, END_DATE, FREQ)\n",
    "snp_scaffolding"
   ]
  },
  {
   "cell_type": "code",
   "execution_count": null,
   "metadata": {
    "ExecuteTime": {
     "end_time": "2021-03-05T05:21:15.294033Z",
     "start_time": "2021-03-05T05:21:11.890Z"
    }
   },
   "outputs": [],
   "source": [
    "stock_list = cleanup_stock_list(snp_scaffolding.index.levels[1].tolist())"
   ]
  },
  {
   "cell_type": "code",
   "execution_count": null,
   "metadata": {
    "ExecuteTime": {
     "end_time": "2021-03-05T05:21:15.296435Z",
     "start_time": "2021-03-05T05:21:12.116Z"
    }
   },
   "outputs": [],
   "source": [
    "# Get meta data dataframe\n",
    "meta_df = pd.json_normalize(load_meta())\n",
    "meta_df['sicCode'].fillna(0, inplace=True)\n",
    "\n",
    "# Download data\n",
    "for symbol in notebook.tqdm(stock_list):\n",
    "    print(f'Start processing {symbol}...')\n",
    "    download_csv_data(\n",
    "        symbol=symbol,\n",
    "        start_date=START_DATE,\n",
    "        end_date=END_DATE,\n",
    "        freq=FREQ,\n",
    "        path=DATA_PATH\n",
    "    )"
   ]
  },
  {
   "cell_type": "markdown",
   "metadata": {},
   "source": [
    "### Construct factors"
   ]
  },
  {
   "cell_type": "code",
   "execution_count": 352,
   "metadata": {
    "ExecuteTime": {
     "end_time": "2021-03-05T04:32:55.187603Z",
     "start_time": "2021-03-05T04:31:00.010755Z"
    },
    "scrolled": true
   },
   "outputs": [
    {
     "data": {
      "application/vnd.jupyter.widget-view+json": {
       "model_id": "cd51674e79c342d5b41a090544ef2ace",
       "version_major": 2,
       "version_minor": 0
      },
      "text/plain": [
       "HBox(children=(FloatProgress(value=0.0, max=555.0), HTML(value='')))"
      ]
     },
     "metadata": {},
     "output_type": "display_data"
    },
    {
     "name": "stdout",
     "output_type": "stream",
     "text": [
      "vnt\n",
      "\"['statementData.overview.roe'] not in index\"\n",
      "\n",
      "Data has been saved as '~/Desktop/result.csv' with shape (109903, 27)\n"
     ]
    }
   ],
   "source": [
    "alpha_factors = [\n",
    "    ATR1M, ATR3M, ILLIQ, DELTAROA, DELTAROE, SUR0, SUE0, SPTTM, EPTTM,\n",
    "    natural_log_of_market_cap, book_to_price_ratio, ROC20, ROC60, net_profit_growth_rate, \n",
    "    operating_revenue_growth_rate, total_profit_growth_rate, roe_ttm, roa_ttm, VOL20, VOL60\n",
    "]\n",
    "\n",
    "risk_factors = [\n",
    "    get_market_cap, get_adj_price\n",
    "]\n",
    "\n",
    "factors = list(set(alpha_factors + risk_factors))\n",
    "\n",
    "result_df = None\n",
    "\n",
    "for symbol in notebook.tqdm(stock_list):\n",
    "    df, dd = load_data(\n",
    "        symbol=symbol,\n",
    "        start_date=START_DATE,\n",
    "        end_date=END_DATE,\n",
    "        freq=FREQ,\n",
    "        path=DATA_PATH\n",
    "    )\n",
    "            \n",
    "    tmp = df['date'].copy(deep=True)\n",
    "    try:\n",
    "        for func in factors:\n",
    "            tmp = pd.concat([tmp, func(df, dd)], axis=1)\n",
    "    except Exception as e:\n",
    "        print(symbol)\n",
    "        print(e)\n",
    "        continue\n",
    "\n",
    "    try:\n",
    "        # Need to add .iloc[0] as symbol 'xl' has two sicCode\n",
    "        tmp['sicCode'] = int(meta_df[meta_df['ticker'] == symbol]['sicCode'].iloc[0])\n",
    "        tmp['sector'] = meta_df[meta_df['ticker'] == symbol]['sector'].values[0]\n",
    "        tmp['ticker'] = symbol\n",
    "        tmp.dropna(axis=0, inplace=True)\n",
    "    except Exception as e:\n",
    "        print(symbol)\n",
    "        display(meta_df[meta_df['ticker'] == symbol]['sicCode'])\n",
    "        display(meta_df[meta_df['ticker'] == symbol]['sector'])\n",
    "        raise(e)\n",
    "    \n",
    "    if result_df is None:\n",
    "        result_df = tmp\n",
    "    else:\n",
    "        result_df = result_df.append(tmp)\n",
    "\n",
    "result_df['date'] = pd.to_datetime(result_df['date'], utc=True)\n",
    "result_df = result_df.sort_values(['date', 'ticker']).set_index(['date', 'ticker'])\n",
    "\n",
    "result_df.to_csv('/Users/michael/Desktop/result.csv')\n",
    "print(f'Data has been saved as \\'~/Desktop/result.csv\\' with shape {result_df.shape}')"
   ]
  },
  {
   "cell_type": "markdown",
   "metadata": {},
   "source": [
    "### Construct pricing data"
   ]
  },
  {
   "cell_type": "code",
   "execution_count": 1632,
   "metadata": {
    "ExecuteTime": {
     "end_time": "2021-03-05T17:17:06.904753Z",
     "start_time": "2021-03-05T17:16:48.210291Z"
    },
    "scrolled": true
   },
   "outputs": [
    {
     "data": {
      "application/vnd.jupyter.widget-view+json": {
       "model_id": "",
       "version_major": 2,
       "version_minor": 0
      },
      "text/plain": [
       "HBox(children=(FloatProgress(value=0.0, max=555.0), HTML(value='')))"
      ]
     },
     "metadata": {},
     "output_type": "display_data"
    },
    {
     "name": "stdout",
     "output_type": "stream",
     "text": [
      "\n"
     ]
    },
    {
     "data": {
      "text/html": [
       "<div>\n",
       "<style scoped>\n",
       "    .dataframe tbody tr th:only-of-type {\n",
       "        vertical-align: middle;\n",
       "    }\n",
       "\n",
       "    .dataframe tbody tr th {\n",
       "        vertical-align: top;\n",
       "    }\n",
       "\n",
       "    .dataframe thead th {\n",
       "        text-align: right;\n",
       "    }\n",
       "</style>\n",
       "<table border=\"1\" class=\"dataframe\">\n",
       "  <thead>\n",
       "    <tr style=\"text-align: right;\">\n",
       "      <th></th>\n",
       "      <th></th>\n",
       "      <th>adjClose</th>\n",
       "    </tr>\n",
       "    <tr>\n",
       "      <th>date</th>\n",
       "      <th>ticker</th>\n",
       "      <th></th>\n",
       "    </tr>\n",
       "  </thead>\n",
       "  <tbody>\n",
       "    <tr>\n",
       "      <th rowspan=\"5\" valign=\"top\">2018-01-02 00:00:00+00:00</th>\n",
       "      <th>a</th>\n",
       "      <td>65.888699</td>\n",
       "    </tr>\n",
       "    <tr>\n",
       "      <th>aal</th>\n",
       "      <td>51.648665</td>\n",
       "    </tr>\n",
       "    <tr>\n",
       "      <th>aap</th>\n",
       "      <td>104.909652</td>\n",
       "    </tr>\n",
       "    <tr>\n",
       "      <th>aapl</th>\n",
       "      <td>41.440086</td>\n",
       "    </tr>\n",
       "    <tr>\n",
       "      <th>abbv</th>\n",
       "      <td>84.038250</td>\n",
       "    </tr>\n",
       "    <tr>\n",
       "      <th>...</th>\n",
       "      <th>...</th>\n",
       "      <td>...</td>\n",
       "    </tr>\n",
       "    <tr>\n",
       "      <th rowspan=\"2\" valign=\"top\">2021-02-12 00:00:00+00:00</th>\n",
       "      <th>nktr</th>\n",
       "      <td>22.860000</td>\n",
       "    </tr>\n",
       "    <tr>\n",
       "      <th>wh</th>\n",
       "      <td>60.200000</td>\n",
       "    </tr>\n",
       "    <tr>\n",
       "      <th rowspan=\"3\" valign=\"top\">2021-02-16 00:00:00+00:00</th>\n",
       "      <th>chkaq</th>\n",
       "      <td>3.050000</td>\n",
       "    </tr>\n",
       "    <tr>\n",
       "      <th>kdp</th>\n",
       "      <td>31.420000</td>\n",
       "    </tr>\n",
       "    <tr>\n",
       "      <th>wh</th>\n",
       "      <td>60.700000</td>\n",
       "    </tr>\n",
       "  </tbody>\n",
       "</table>\n",
       "<p>412398 rows × 1 columns</p>\n",
       "</div>"
      ],
      "text/plain": [
       "                                    adjClose\n",
       "date                      ticker            \n",
       "2018-01-02 00:00:00+00:00 a        65.888699\n",
       "                          aal      51.648665\n",
       "                          aap     104.909652\n",
       "                          aapl     41.440086\n",
       "                          abbv     84.038250\n",
       "...                                      ...\n",
       "2021-02-12 00:00:00+00:00 nktr     22.860000\n",
       "                          wh       60.200000\n",
       "2021-02-16 00:00:00+00:00 chkaq     3.050000\n",
       "                          kdp      31.420000\n",
       "                          wh       60.700000\n",
       "\n",
       "[412398 rows x 1 columns]"
      ]
     },
     "execution_count": 1632,
     "metadata": {},
     "output_type": "execute_result"
    }
   ],
   "source": [
    "price_df = None\n",
    "\n",
    "for symbol in notebook.tqdm(stock_list):\n",
    "    df, dd = load_data(\n",
    "        symbol=symbol,\n",
    "        start_date=START_DATE,\n",
    "        end_date=END_DATE,\n",
    "        freq=FREQ,\n",
    "        path=DATA_PATH\n",
    "    )\n",
    "            \n",
    "    tmp = df[['date', 'adjClose']].copy(deep=True)\n",
    "    tmp['ticker'] = symbol\n",
    "    \n",
    "    if price_df is None:\n",
    "        price_df = tmp\n",
    "    else:\n",
    "        price_df = price_df.append(tmp)\n",
    "\n",
    "        \n",
    "price_df['date'] = pd.to_datetime(price_df['date'], utc=True)\n",
    "price_df = price_df.sort_values(['date', 'ticker']).set_index(['date', 'ticker'])\n",
    "\n",
    "price_df.to_csv('/Users/michael/Desktop/price.csv')\n",
    "\n",
    "price_df"
   ]
  },
  {
   "cell_type": "markdown",
   "metadata": {},
   "source": [
    "---"
   ]
  },
  {
   "cell_type": "markdown",
   "metadata": {},
   "source": [
    "# Preprocessing Data"
   ]
  },
  {
   "cell_type": "markdown",
   "metadata": {},
   "source": [
    "## Preparation"
   ]
  },
  {
   "cell_type": "code",
   "execution_count": 2330,
   "metadata": {
    "ExecuteTime": {
     "end_time": "2021-03-07T02:39:32.439120Z",
     "start_time": "2021-03-07T02:39:31.889510Z"
    }
   },
   "outputs": [],
   "source": [
    "# 为不破坏原始数据，先对其进行拷贝\n",
    "result_df = pd.read_csv('/Users/michael/Desktop/result.csv', index_col=[0,1])\n",
    "\n",
    "# 获取数据集中的数据名\n",
    "data_names = [\n",
    "    'adjOpen', \n",
    "    'adjHigh', \n",
    "    'adjLow', \n",
    "    'adjClose', \n",
    "    'marketCap', \n",
    "    'sicCode', \n",
    "    'sector'\n",
    "]\n",
    "\n",
    "# 获取数据集中需测试的因子名\n",
    "feature_names = [n for n in result_df.columns.tolist() if n not in data_names + REMOVING_FACTORS]\n",
    "\n",
    "_df = result_df[data_names + feature_names].copy(deep=True)"
   ]
  },
  {
   "cell_type": "markdown",
   "metadata": {},
   "source": [
    "## Process Null"
   ]
  },
  {
   "cell_type": "code",
   "execution_count": 2331,
   "metadata": {
    "ExecuteTime": {
     "end_time": "2021-03-07T02:39:32.890754Z",
     "start_time": "2021-03-07T02:39:32.441537Z"
    }
   },
   "outputs": [
    {
     "data": {
      "text/plain": [
       "<matplotlib.axes._subplots.AxesSubplot at 0x7f8811db0490>"
      ]
     },
     "execution_count": 2331,
     "metadata": {},
     "output_type": "execute_result"
    },
    {
     "data": {
      "image/png": "[encoded data removed]",
      "text/plain": [
       "<Figure size 1800x720 with 2 Axes>"
      ]
     },
     "metadata": {},
     "output_type": "display_data"
    }
   ],
   "source": [
    "import missingno as msno\n",
    "msno.matrix(_df)"
   ]
  },
  {
   "cell_type": "markdown",
   "metadata": {},
   "source": [
    "## Winsorization\n",
    "Reference: [Median Absolute Deviation](https://blog.csdn.net/horses/article/details/78749485)\n",
    "\n",
    "我们采用MAD（Median Absolute Deviation 绝对中位数法）去极值，对于极值部分将其均匀插值到 3-3.5 倍绝对中位数范围内。具体操作如下，首先计算当期所有股票在因子f上的中位数 mf ，然后计算绝对中位数\n",
    "\n",
    "$$MAD = median(\\left\\vert {f-mf}\\right\\vert )$$\n",
    "\n",
    "采用与 3σ 法等价的方法:\n",
    "1. 保留$[mf - 3*1.483*MAD, mf + 3*1.483*MAD]$ 之间股票的因子值不变。\n",
    "2. 取值大于$mf + 3*1.483 * MAD$的所有股票的因子取值按排序均匀压缩到 $[mf+3*1.483*MAD, mf+3.5*1.483*MAD]$ 之间，\n",
    "3. 取值低于$mf - 3*1.483 * MAD$的所有股票的因子取值按排序均匀压缩到 $[mf−3.5*1.483*MAD, mf−3*1.483*MAD]$ 之间\n",
    "4. 这样去除了极值同时也在极值的股票之间保序。"
   ]
  },
  {
   "cell_type": "code",
   "execution_count": 2332,
   "metadata": {
    "ExecuteTime": {
     "end_time": "2021-03-07T02:39:33.087076Z",
     "start_time": "2021-03-07T02:39:32.892743Z"
    },
    "cell_style": "center",
    "scrolled": true
   },
   "outputs": [],
   "source": [
    "def winsorizae_3_alpha(df: pd.DataFrame, trim: bool=True) -> pd.DataFrame:\n",
    "    \n",
    "    median = df.median(axis=0)\n",
    "    MAD = abs(df.sub(median, axis=1)).median(axis=0)\n",
    "    MAD_THRESHOLD = 3\n",
    "    MAD_BOUND = 3.5\n",
    "    sigma = df.std(axis=0)\n",
    "\n",
    "    if trim:\n",
    "        df = df.clip(\n",
    "            lower=(median - MAD_THRESHOLD * sigma * MAD), \n",
    "            upper=(median + MAD_THRESHOLD * sigma * MAD), \n",
    "            axis=1\n",
    "        )\n",
    "\n",
    "    else:\n",
    "        upper_lower_range = median + MAD_THRESHOLD * sigma * MAD\n",
    "        upper_higher_range = median + MAD_BOUND * sigma * MAD\n",
    "        upper_target_range = upper_higher_range - upper_lower_range\n",
    "        upper_actual_range = df.max() - upper_lower_range\n",
    "\n",
    "        udiff = upper_actual_range / upper_target_range\n",
    "\n",
    "        lower_lower_range = median - MAD_THRESHOLD * sigma * MAD\n",
    "        lower_higher_range = median - MAD_BOUND * sigma * MAD\n",
    "        lower_target_range = lower_higher_range - lower_lower_range\n",
    "        lower_actual_range = df.min() - lower_lower_range\n",
    "\n",
    "        ldiff = lower_actual_range/lower_target_range\n",
    "\n",
    "        df = df.mask(\n",
    "            df > upper_lower_range, \n",
    "            (df - upper_lower_range) / udiff + upper_lower_range\n",
    "        )\n",
    "        df = df.mask(\n",
    "            df < lower_lower_range, \n",
    "            (df - lower_lower_range) / ldiff + lower_lower_range\n",
    "        )\n",
    "    return df\n",
    "        \n",
    "_df.loc[:, feature_names] = winsorizae_3_alpha(_df.loc[:, feature_names], trim=False)"
   ]
  },
  {
   "cell_type": "markdown",
   "metadata": {},
   "source": [
    "---"
   ]
  },
  {
   "cell_type": "markdown",
   "metadata": {},
   "source": [
    "## Standardization"
   ]
  },
  {
   "cell_type": "code",
   "execution_count": 2333,
   "metadata": {
    "ExecuteTime": {
     "end_time": "2021-03-07T02:39:34.127800Z",
     "start_time": "2021-03-07T02:39:33.089064Z"
    }
   },
   "outputs": [],
   "source": [
    "_df.loc[:, feature_names] = (\n",
    "    (\n",
    "        _df.loc[:, feature_names] - \n",
    "        _df.loc[:, feature_names].mean()\n",
    "    ) / _df.loc[:, feature_names].std()\n",
    ")"
   ]
  },
  {
   "cell_type": "markdown",
   "metadata": {
    "cell_style": "center"
   },
   "source": [
    "## Neutralization"
   ]
  },
  {
   "cell_type": "code",
   "execution_count": 2334,
   "metadata": {
    "ExecuteTime": {
     "end_time": "2021-03-07T02:39:34.133291Z",
     "start_time": "2021-03-07T02:39:34.129857Z"
    }
   },
   "outputs": [],
   "source": [
    "# 回归取残差\n",
    "def calc_resid(x: pd.DataFrame, y: pd.Series) -> float:\n",
    "    result = sm.OLS(y, x).fit()\n",
    "    return result.resid"
   ]
  },
  {
   "cell_type": "code",
   "execution_count": 2335,
   "metadata": {
    "ExecuteTime": {
     "end_time": "2021-03-07T02:39:34.649396Z",
     "start_time": "2021-03-07T02:39:34.137315Z"
    }
   },
   "outputs": [],
   "source": [
    "X = pd.get_dummies(_df['sector'])\n",
    "X['marketCap'] = np.log(_df['marketCap'])\n",
    "\n",
    "neutralized_df = pd.concat([calc_resid(X.fillna(0), _df[i]) for i in feature_names], axis=1)\n",
    "neutralized_df.columns = feature_names\n",
    "\n",
    "neutralized_df['sicCode'] = _df['sicCode']\n",
    "neutralized_df['sector'] = _df['sector']\n",
    "neutralized_df['marketCap'] = _df['marketCap']\n",
    "neutralized_df['adjOpen'] = _df['adjOpen']\n",
    "neutralized_df['adjHigh'] = _df['adjHigh']\n",
    "neutralized_df['adjLow'] = _df['adjLow']\n",
    "neutralized_df['adjClose'] = _df['adjClose']"
   ]
  },
  {
   "cell_type": "markdown",
   "metadata": {},
   "source": [
    "---"
   ]
  },
  {
   "cell_type": "markdown",
   "metadata": {},
   "source": [
    "# Scoring the stocks"
   ]
  },
  {
   "cell_type": "markdown",
   "metadata": {},
   "source": [
    "## Calculate daily/weekly return"
   ]
  },
  {
   "cell_type": "code",
   "execution_count": 2336,
   "metadata": {
    "ExecuteTime": {
     "end_time": "2021-03-07T02:39:37.132971Z",
     "start_time": "2021-03-07T02:39:34.652640Z"
    }
   },
   "outputs": [],
   "source": [
    "if USE_ORTHOGONAL_DATA:\n",
    "    prepared_df = orthogonalized_df.copy(deep=True)\n",
    "else:\n",
    "    prepared_df = neutralized_df.copy(deep=True)\n",
    "    \n",
    "prepared_df = prepared_df.reset_index()\n",
    "prepared_df['date'] = pd.to_datetime(prepared_df['date'])\n",
    "prepared_df.set_index(['date', 'ticker'], inplace=True)\n",
    "\n",
    "rtn = prepared_df.reset_index()\n",
    "rtn = pd.pivot(rtn[['date', 'ticker', 'adjClose']], index='date', columns='ticker', values='adjClose')\n",
    "if FREQ == 'daily':\n",
    "    rtn = rtn.pct_change()\n",
    "elif FREQ == 'weekly':\n",
    "    rtn = rtn.pct_change(5)\n",
    "elif FREQ == 'monthly':\n",
    "    rtn = rtn.pct_change(22)\n",
    "else:\n",
    "    raise(Exception('Frequency not setting up'))\n",
    "rtn = rtn.iloc[:-1]\n",
    "rtn = rtn.stack()\n",
    "prepared_df['rtn'] = rtn\n",
    "prepared_df['log_rtn'] = np.log(1 + rtn)\n",
    "\n",
    "# ----------------------------------------\n",
    "if FREQ == 'daily':\n",
    "    pass\n",
    "elif FREQ == 'weekly':\n",
    "    idx = [d for d in prepared_df.index.levels[0] if d.isoweekday() == 1]\n",
    "    prepared_df = prepared_df.loc[idx, :]\n",
    "elif FREQ == 'monthly':\n",
    "    idx = [d for d in prepared_df.index.levels[0] if d.day == 1]\n",
    "    prepared_df = prepared_df.loc[idx, :]\n",
    "else:\n",
    "    raise(Exception('Frequency not setting up'))\n",
    "# ----------------------------------------\n",
    "\n",
    "prepared_df.to_csv('/Users/michael/Desktop/prepared_data.csv')"
   ]
  },
  {
   "cell_type": "code",
   "execution_count": 2337,
   "metadata": {
    "ExecuteTime": {
     "end_time": "2021-03-07T02:39:37.438365Z",
     "start_time": "2021-03-07T02:39:37.135329Z"
    }
   },
   "outputs": [],
   "source": [
    "prepared_df = pd.read_csv('/Users/michael/Desktop/prepared_data.csv').sort_values(['date', 'ticker'])\n",
    "prepared_df['date'] = pd.to_datetime(prepared_df['date'])\n",
    "prepared_df.set_index(['date', 'ticker'], inplace=True)"
   ]
  },
  {
   "cell_type": "markdown",
   "metadata": {},
   "source": [
    "## Calculate factor weights in order to calculate final score\n",
    "We are going to implement three different ways to calculate the weight of factors, in order to calculate our final score:\n",
    "1. IC weighted\n",
    "2. IR weighted\n",
    "3. Equal weighted"
   ]
  },
  {
   "cell_type": "code",
   "execution_count": 2338,
   "metadata": {
    "ExecuteTime": {
     "end_time": "2021-03-07T02:40:29.623967Z",
     "start_time": "2021-03-07T02:40:29.504294Z"
    }
   },
   "outputs": [],
   "source": [
    "# Required number of sample data per day\n",
    "N = 200\n",
    "prepared_df = prepared_df.dropna().groupby(level='date').filter(lambda x: len(x) > N)"
   ]
  },
  {
   "cell_type": "markdown",
   "metadata": {},
   "source": [
    "### Using IC to calculate the weights for scoring"
   ]
  },
  {
   "cell_type": "markdown",
   "metadata": {},
   "source": [
    "A股不能做空 所以要取绝对值（不然后面权重计算会有问题） 其次时IC代表的是相关性 正负只是方向 所以有时候看abs（ic） 大于一定的阈值就可以确定ic的有效性了"
   ]
  },
  {
   "cell_type": "code",
   "execution_count": 2339,
   "metadata": {
    "ExecuteTime": {
     "end_time": "2021-03-07T02:40:36.448320Z",
     "start_time": "2021-03-07T02:40:35.770176Z"
    }
   },
   "outputs": [],
   "source": [
    "IC = prepared_df.groupby(level='date').apply(\n",
    "    lambda x: [stats.spearmanr(x[factor], x['rtn'], nan_policy='omit')[0] for factor in feature_names]\n",
    ")\n",
    "\n",
    "# 计算ic值，得到ic的\n",
    "IC = pd.DataFrame(IC.tolist(), index=IC.index, columns=feature_names)\n",
    "\n",
    "# 计算IC的绝对值\n",
    "IC_abs = IC.abs()\n",
    "\n",
    "# rolling为移动窗口函数,滚动12个月\n",
    "rolling_ic = IC_abs.rolling(12, min_periods=1).mean()\n",
    "\n",
    "# 当滚动计算标准差时，起始日期得到的是缺失值，所以算完权重后，起始日期的值任用原值IC代替\n",
    "rolling_ic_std = IC_abs.rolling(12, min_periods=1).std()\n",
    "\n",
    "# 计算IR值\n",
    "IR = rolling_ic / rolling_ic_std\n",
    "IR.iloc[0,:] = rolling_ic.iloc[0,:]"
   ]
  },
  {
   "cell_type": "code",
   "execution_count": 2340,
   "metadata": {
    "ExecuteTime": {
     "end_time": "2021-03-07T02:40:36.455519Z",
     "start_time": "2021-03-07T02:40:36.450599Z"
    }
   },
   "outputs": [],
   "source": [
    "# 计算IR权重,按行求和,按列相除\n",
    "IR_weights = IR.div(IR.sum(axis=1), axis=0)\n",
    "IC_weights = IC_abs.div(IC_abs.sum(axis=1), axis=0)"
   ]
  },
  {
   "cell_type": "markdown",
   "metadata": {},
   "source": [
    "## Scores"
   ]
  },
  {
   "cell_type": "markdown",
   "metadata": {},
   "source": [
    "### Calculate scores \n",
    "`factors5['score'] = (factors5[factor_names].mul(weights.shift())).sum(axis=1)`\n",
    "\n",
    "> PS: 这里计算分数时：\n",
    "> \n",
    "> **因为计算当期weights时，需要先计算IC值，计算IC值时用到了当期的收益率，所以为了避免未来数据，应该是当期因子值乘以上一期的weights**"
   ]
  },
  {
   "cell_type": "code",
   "execution_count": 2341,
   "metadata": {
    "ExecuteTime": {
     "end_time": "2021-03-07T02:40:48.070092Z",
     "start_time": "2021-03-07T02:40:48.035766Z"
    }
   },
   "outputs": [],
   "source": [
    "# 计算因子分数\n",
    "if FACTOR_WEIGHT_METHOD == 'IC':\n",
    "    prepared_df['score'] = (prepared_df[feature_names].mul(IC_weights.shift())).sum(axis=1)\n",
    "elif FACTOR_WEIGHT_METHOD == 'IR':\n",
    "    prepared_df['score'] = (prepared_df[feature_names].mul(IR_weights.shift())).sum(axis=1)\n",
    "elif FACTOR_WEIGHT_METHOD == 'EQUAL':\n",
    "    prepared_df['score'] = prepared_df[feature_names].sum(axis=1).shift()"
   ]
  },
  {
   "cell_type": "markdown",
   "metadata": {},
   "source": [
    "### Exam the correlation between score and returns"
   ]
  },
  {
   "cell_type": "code",
   "execution_count": 2342,
   "metadata": {
    "ExecuteTime": {
     "end_time": "2021-03-07T02:40:53.725262Z",
     "start_time": "2021-03-07T02:40:53.683113Z"
    }
   },
   "outputs": [
    {
     "data": {
      "text/plain": [
       "0.031366517662232724"
      ]
     },
     "execution_count": 2342,
     "metadata": {},
     "output_type": "execute_result"
    }
   ],
   "source": [
    "prepared_df[['log_rtn', 'score']].corr('spearman').iloc[1,0]"
   ]
  },
  {
   "cell_type": "markdown",
   "metadata": {},
   "source": [
    "### Accumulate returns by score groups"
   ]
  },
  {
   "cell_type": "code",
   "execution_count": 2343,
   "metadata": {
    "ExecuteTime": {
     "end_time": "2021-03-07T02:41:02.959383Z",
     "start_time": "2021-03-07T02:40:59.281315Z"
    },
    "cell_style": "center"
   },
   "outputs": [],
   "source": [
    "_prepared_df = snp_scaffolding.copy()\n",
    "_prepared_df['sector'] = prepared_df['sector']\n",
    "_prepared_df['score'] = prepared_df['score']\n",
    "_prepared_df['log_rtn'] = prepared_df['log_rtn']\n",
    "_prepared_df.dropna(inplace=True)\n",
    "_prepared_df.index = _prepared_df.index.droplevel(1)\n",
    "_prepared_df.reset_index().drop(columns='date', inplace=True)"
   ]
  },
  {
   "cell_type": "code",
   "execution_count": 2344,
   "metadata": {
    "ExecuteTime": {
     "end_time": "2021-03-07T02:41:09.631525Z",
     "start_time": "2021-03-07T02:41:08.446356Z"
    },
    "cell_style": "center",
    "scrolled": false
   },
   "outputs": [
    {
     "data": {
      "text/plain": [
       "<matplotlib.axes._subplots.AxesSubplot at 0x7f8873da5210>"
      ]
     },
     "execution_count": 2344,
     "metadata": {},
     "output_type": "execute_result"
    },
    {
     "data": {
      "image/png": "[encoded data removed]",
      "text/plain": [
       "<Figure size 1080x720 with 1 Axes>"
      ]
     },
     "metadata": {},
     "output_type": "display_data"
    }
   ],
   "source": [
    "_prepared_df['rate'] = _prepared_df.groupby('date')['score'].apply(lambda x : pd.cut(x, bins=8, labels=['R8', 'R7', 'R6','R5','R4','R3','R2','R1']))\n",
    "x = _prepared_df.groupby(['date', 'rate'])['log_rtn'].apply(lambda x: x.sum()/len(x)).reset_index().set_index(['rate', 'date'])\n",
    "z = pd.DataFrame(index=x.loc['R1'].index)\n",
    "    \n",
    "for i in range(1,9):\n",
    "    z[f'R{i}'] = x.loc[f'R{i}',:].cumsum()\n",
    "    \n",
    "plt.figure(figsize=(15, 10))\n",
    "plt.xticks(rotation=90)\n",
    "plt.yticks(rotation=45)\n",
    "\n",
    "sns.lineplot(data=z)"
   ]
  },
  {
   "cell_type": "markdown",
   "metadata": {},
   "source": [
    "**Methodology Instruction**\n",
    "1. Get top N stocks by factor score\n",
    "2. Evenly weighted\n",
    "3. Optimization \n",
    "  - Objective: to minimize risk\n",
    "  - Constrain: \n",
    "    - Total weight = 1\n",
    "    - No short"
   ]
  },
  {
   "cell_type": "markdown",
   "metadata": {},
   "source": [
    "## Implementation\n",
    "Adjust the data to make sure they fall into the composition of S&P 500 on that day"
   ]
  },
  {
   "cell_type": "code",
   "execution_count": 2345,
   "metadata": {
    "ExecuteTime": {
     "end_time": "2021-03-07T02:41:18.738039Z",
     "start_time": "2021-03-07T02:41:15.342701Z"
    }
   },
   "outputs": [],
   "source": [
    "adjusted_portfolio = snp_scaffolding.copy()\n",
    "adjusted_portfolio['score'] = prepared_df['score']\n",
    "adjusted_portfolio['log_rtn'] = prepared_df['log_rtn']\n",
    "adjusted_portfolio['marketCap'] = prepared_df['marketCap']\n",
    "\n",
    "# Get industry weight\n",
    "adjusted_portfolio['capWeight'] = adjusted_portfolio.groupby('date')['marketCap'].apply(lambda x:x/x.sum())\n",
    "adjusted_portfolio['weighted_rtn'] = adjusted_portfolio['capWeight'] * adjusted_portfolio['log_rtn']\n",
    "\n",
    "adjusted_portfolio.dropna(inplace=True)"
   ]
  },
  {
   "cell_type": "code",
   "execution_count": 2346,
   "metadata": {
    "ExecuteTime": {
     "end_time": "2021-03-07T02:41:24.949995Z",
     "start_time": "2021-03-07T02:41:24.894841Z"
    }
   },
   "outputs": [],
   "source": [
    "TOP_N = 20\n",
    "\n",
    "final_portfolio = adjusted_portfolio.reset_index().sort_values(['date', 'score'], ascending=[True, False]).set_index(['date']).groupby('date').head(TOP_N)\n",
    "# Evenly weighted\n",
    "final_portfolio['weighted_rtn'] = final_portfolio['log_rtn'] / TOP_N\n",
    "# Cap weighted\n",
    "# final_portfolio['capWeight'] = final_portfolio.groupby('date')['marketCap'].apply(lambda x:x/x.sum())\n",
    "# final_portfolio['weighted_rtn'] = final_portfolio['capWeight'] * final_portfolio['log_rtn']\n",
    "\n",
    "final_portfolio.dropna(inplace=True)"
   ]
  },
  {
   "cell_type": "code",
   "execution_count": 2347,
   "metadata": {
    "ExecuteTime": {
     "end_time": "2021-03-07T02:41:30.952243Z",
     "start_time": "2021-03-07T02:41:30.938732Z"
    },
    "scrolled": true
   },
   "outputs": [
    {
     "data": {
      "text/html": [
       "<div>\n",
       "<style scoped>\n",
       "    .dataframe tbody tr th:only-of-type {\n",
       "        vertical-align: middle;\n",
       "    }\n",
       "\n",
       "    .dataframe tbody tr th {\n",
       "        vertical-align: top;\n",
       "    }\n",
       "\n",
       "    .dataframe thead th {\n",
       "        text-align: right;\n",
       "    }\n",
       "</style>\n",
       "<table border=\"1\" class=\"dataframe\">\n",
       "  <thead>\n",
       "    <tr style=\"text-align: right;\">\n",
       "      <th></th>\n",
       "      <th>ticker</th>\n",
       "      <th>score</th>\n",
       "      <th>log_rtn</th>\n",
       "      <th>marketCap</th>\n",
       "      <th>capWeight</th>\n",
       "      <th>weighted_rtn</th>\n",
       "    </tr>\n",
       "    <tr>\n",
       "      <th>date</th>\n",
       "      <th></th>\n",
       "      <th></th>\n",
       "      <th></th>\n",
       "      <th></th>\n",
       "      <th></th>\n",
       "      <th></th>\n",
       "    </tr>\n",
       "  </thead>\n",
       "  <tbody>\n",
       "    <tr>\n",
       "      <th>2020-04-01 00:00:00+00:00</th>\n",
       "      <td>a</td>\n",
       "      <td>0.000000</td>\n",
       "      <td>-0.038428</td>\n",
       "      <td>2.122544e+10</td>\n",
       "      <td>0.001031</td>\n",
       "      <td>-0.001921</td>\n",
       "    </tr>\n",
       "    <tr>\n",
       "      <th>2020-04-01 00:00:00+00:00</th>\n",
       "      <td>aal</td>\n",
       "      <td>0.000000</td>\n",
       "      <td>-0.131307</td>\n",
       "      <td>4.554568e+09</td>\n",
       "      <td>0.000221</td>\n",
       "      <td>-0.006565</td>\n",
       "    </tr>\n",
       "    <tr>\n",
       "      <th>2020-04-01 00:00:00+00:00</th>\n",
       "      <td>aapl</td>\n",
       "      <td>0.000000</td>\n",
       "      <td>-0.054052</td>\n",
       "      <td>1.047572e+12</td>\n",
       "      <td>0.050862</td>\n",
       "      <td>-0.002703</td>\n",
       "    </tr>\n",
       "    <tr>\n",
       "      <th>2020-04-01 00:00:00+00:00</th>\n",
       "      <td>abbv</td>\n",
       "      <td>0.000000</td>\n",
       "      <td>-0.037034</td>\n",
       "      <td>1.043679e+11</td>\n",
       "      <td>0.005067</td>\n",
       "      <td>-0.001852</td>\n",
       "    </tr>\n",
       "    <tr>\n",
       "      <th>2020-04-01 00:00:00+00:00</th>\n",
       "      <td>abc</td>\n",
       "      <td>0.000000</td>\n",
       "      <td>-0.025984</td>\n",
       "      <td>1.752496e+10</td>\n",
       "      <td>0.000851</td>\n",
       "      <td>-0.001299</td>\n",
       "    </tr>\n",
       "    <tr>\n",
       "      <th>...</th>\n",
       "      <td>...</td>\n",
       "      <td>...</td>\n",
       "      <td>...</td>\n",
       "      <td>...</td>\n",
       "      <td>...</td>\n",
       "      <td>...</td>\n",
       "    </tr>\n",
       "    <tr>\n",
       "      <th>2021-01-20 00:00:00+00:00</th>\n",
       "      <td>dgx</td>\n",
       "      <td>0.709254</td>\n",
       "      <td>0.010815</td>\n",
       "      <td>1.697917e+10</td>\n",
       "      <td>0.000508</td>\n",
       "      <td>0.000541</td>\n",
       "    </tr>\n",
       "    <tr>\n",
       "      <th>2021-01-20 00:00:00+00:00</th>\n",
       "      <td>len</td>\n",
       "      <td>0.646242</td>\n",
       "      <td>0.053381</td>\n",
       "      <td>2.446854e+10</td>\n",
       "      <td>0.000732</td>\n",
       "      <td>0.002669</td>\n",
       "    </tr>\n",
       "    <tr>\n",
       "      <th>2021-01-20 00:00:00+00:00</th>\n",
       "      <td>wdc</td>\n",
       "      <td>0.644692</td>\n",
       "      <td>-0.003275</td>\n",
       "      <td>1.581770e+10</td>\n",
       "      <td>0.000473</td>\n",
       "      <td>-0.000164</td>\n",
       "    </tr>\n",
       "    <tr>\n",
       "      <th>2021-01-20 00:00:00+00:00</th>\n",
       "      <td>ivz</td>\n",
       "      <td>0.633558</td>\n",
       "      <td>0.063149</td>\n",
       "      <td>9.301536e+09</td>\n",
       "      <td>0.000278</td>\n",
       "      <td>0.003157</td>\n",
       "    </tr>\n",
       "    <tr>\n",
       "      <th>2021-01-20 00:00:00+00:00</th>\n",
       "      <td>amzn</td>\n",
       "      <td>0.612078</td>\n",
       "      <td>0.044687</td>\n",
       "      <td>1.565845e+12</td>\n",
       "      <td>0.046818</td>\n",
       "      <td>0.002234</td>\n",
       "    </tr>\n",
       "  </tbody>\n",
       "</table>\n",
       "<p>4060 rows × 6 columns</p>\n",
       "</div>"
      ],
      "text/plain": [
       "                          ticker     score   log_rtn     marketCap  capWeight  \\\n",
       "date                                                                            \n",
       "2020-04-01 00:00:00+00:00      a  0.000000 -0.038428  2.122544e+10   0.001031   \n",
       "2020-04-01 00:00:00+00:00    aal  0.000000 -0.131307  4.554568e+09   0.000221   \n",
       "2020-04-01 00:00:00+00:00   aapl  0.000000 -0.054052  1.047572e+12   0.050862   \n",
       "2020-04-01 00:00:00+00:00   abbv  0.000000 -0.037034  1.043679e+11   0.005067   \n",
       "2020-04-01 00:00:00+00:00    abc  0.000000 -0.025984  1.752496e+10   0.000851   \n",
       "...                          ...       ...       ...           ...        ...   \n",
       "2021-01-20 00:00:00+00:00    dgx  0.709254  0.010815  1.697917e+10   0.000508   \n",
       "2021-01-20 00:00:00+00:00    len  0.646242  0.053381  2.446854e+10   0.000732   \n",
       "2021-01-20 00:00:00+00:00    wdc  0.644692 -0.003275  1.581770e+10   0.000473   \n",
       "2021-01-20 00:00:00+00:00    ivz  0.633558  0.063149  9.301536e+09   0.000278   \n",
       "2021-01-20 00:00:00+00:00   amzn  0.612078  0.044687  1.565845e+12   0.046818   \n",
       "\n",
       "                           weighted_rtn  \n",
       "date                                     \n",
       "2020-04-01 00:00:00+00:00     -0.001921  \n",
       "2020-04-01 00:00:00+00:00     -0.006565  \n",
       "2020-04-01 00:00:00+00:00     -0.002703  \n",
       "2020-04-01 00:00:00+00:00     -0.001852  \n",
       "2020-04-01 00:00:00+00:00     -0.001299  \n",
       "...                                 ...  \n",
       "2021-01-20 00:00:00+00:00      0.000541  \n",
       "2021-01-20 00:00:00+00:00      0.002669  \n",
       "2021-01-20 00:00:00+00:00     -0.000164  \n",
       "2021-01-20 00:00:00+00:00      0.003157  \n",
       "2021-01-20 00:00:00+00:00      0.002234  \n",
       "\n",
       "[4060 rows x 6 columns]"
      ]
     },
     "execution_count": 2347,
     "metadata": {},
     "output_type": "execute_result"
    }
   ],
   "source": [
    "final_portfolio"
   ]
  },
  {
   "cell_type": "markdown",
   "metadata": {},
   "source": [
    "## Performance analysis"
   ]
  },
  {
   "cell_type": "markdown",
   "metadata": {},
   "source": [
    "### Portfolio return and line chart"
   ]
  },
  {
   "cell_type": "code",
   "execution_count": 2348,
   "metadata": {
    "ExecuteTime": {
     "end_time": "2021-03-07T02:41:37.147910Z",
     "start_time": "2021-03-07T02:41:36.998012Z"
    }
   },
   "outputs": [
    {
     "data": {
      "text/html": [
       "<div>\n",
       "<style scoped>\n",
       "    .dataframe tbody tr th:only-of-type {\n",
       "        vertical-align: middle;\n",
       "    }\n",
       "\n",
       "    .dataframe tbody tr th {\n",
       "        vertical-align: top;\n",
       "    }\n",
       "\n",
       "    .dataframe thead th {\n",
       "        text-align: right;\n",
       "    }\n",
       "</style>\n",
       "<table border=\"1\" class=\"dataframe\">\n",
       "  <thead>\n",
       "    <tr style=\"text-align: right;\">\n",
       "      <th></th>\n",
       "      <th>portfolio</th>\n",
       "      <th>benchmark</th>\n",
       "      <th>excess_rtn</th>\n",
       "    </tr>\n",
       "    <tr>\n",
       "      <th>date</th>\n",
       "      <th></th>\n",
       "      <th></th>\n",
       "      <th></th>\n",
       "    </tr>\n",
       "  </thead>\n",
       "  <tbody>\n",
       "    <tr>\n",
       "      <th>2020-04-01 00:00:00+00:00</th>\n",
       "      <td>-0.059091</td>\n",
       "      <td>-0.044318</td>\n",
       "      <td>-0.014773</td>\n",
       "    </tr>\n",
       "    <tr>\n",
       "      <th>2020-04-02 00:00:00+00:00</th>\n",
       "      <td>-0.052592</td>\n",
       "      <td>-0.021553</td>\n",
       "      <td>-0.031039</td>\n",
       "    </tr>\n",
       "    <tr>\n",
       "      <th>2020-04-03 00:00:00+00:00</th>\n",
       "      <td>-0.060563</td>\n",
       "      <td>-0.036337</td>\n",
       "      <td>-0.024226</td>\n",
       "    </tr>\n",
       "    <tr>\n",
       "      <th>2020-04-06 00:00:00+00:00</th>\n",
       "      <td>0.029612</td>\n",
       "      <td>0.032608</td>\n",
       "      <td>-0.002995</td>\n",
       "    </tr>\n",
       "    <tr>\n",
       "      <th>2020-04-07 00:00:00+00:00</th>\n",
       "      <td>0.049621</td>\n",
       "      <td>0.031145</td>\n",
       "      <td>0.018476</td>\n",
       "    </tr>\n",
       "    <tr>\n",
       "      <th>...</th>\n",
       "      <td>...</td>\n",
       "      <td>...</td>\n",
       "      <td>...</td>\n",
       "    </tr>\n",
       "    <tr>\n",
       "      <th>2021-01-13 00:00:00+00:00</th>\n",
       "      <td>0.799550</td>\n",
       "      <td>0.439105</td>\n",
       "      <td>0.360445</td>\n",
       "    </tr>\n",
       "    <tr>\n",
       "      <th>2021-01-14 00:00:00+00:00</th>\n",
       "      <td>0.810032</td>\n",
       "      <td>0.435206</td>\n",
       "      <td>0.374826</td>\n",
       "    </tr>\n",
       "    <tr>\n",
       "      <th>2021-01-15 00:00:00+00:00</th>\n",
       "      <td>0.800046</td>\n",
       "      <td>0.428291</td>\n",
       "      <td>0.371755</td>\n",
       "    </tr>\n",
       "    <tr>\n",
       "      <th>2021-01-19 00:00:00+00:00</th>\n",
       "      <td>0.814401</td>\n",
       "      <td>0.436622</td>\n",
       "      <td>0.377779</td>\n",
       "    </tr>\n",
       "    <tr>\n",
       "      <th>2021-01-20 00:00:00+00:00</th>\n",
       "      <td>0.826592</td>\n",
       "      <td>0.450826</td>\n",
       "      <td>0.375766</td>\n",
       "    </tr>\n",
       "  </tbody>\n",
       "</table>\n",
       "<p>203 rows × 3 columns</p>\n",
       "</div>"
      ],
      "text/plain": [
       "                           portfolio  benchmark  excess_rtn\n",
       "date                                                       \n",
       "2020-04-01 00:00:00+00:00  -0.059091  -0.044318   -0.014773\n",
       "2020-04-02 00:00:00+00:00  -0.052592  -0.021553   -0.031039\n",
       "2020-04-03 00:00:00+00:00  -0.060563  -0.036337   -0.024226\n",
       "2020-04-06 00:00:00+00:00   0.029612   0.032608   -0.002995\n",
       "2020-04-07 00:00:00+00:00   0.049621   0.031145    0.018476\n",
       "...                              ...        ...         ...\n",
       "2021-01-13 00:00:00+00:00   0.799550   0.439105    0.360445\n",
       "2021-01-14 00:00:00+00:00   0.810032   0.435206    0.374826\n",
       "2021-01-15 00:00:00+00:00   0.800046   0.428291    0.371755\n",
       "2021-01-19 00:00:00+00:00   0.814401   0.436622    0.377779\n",
       "2021-01-20 00:00:00+00:00   0.826592   0.450826    0.375766\n",
       "\n",
       "[203 rows x 3 columns]"
      ]
     },
     "execution_count": 2348,
     "metadata": {},
     "output_type": "execute_result"
    }
   ],
   "source": [
    "x = final_portfolio.groupby('date').apply(lambda x: x['weighted_rtn'].sum()).cumsum()\n",
    "benchmark = adjusted_portfolio.reset_index().groupby('date').apply(lambda x: x['weighted_rtn'].sum()).cumsum()\n",
    "z = pd.DataFrame([x.values, benchmark.values], index=[\"portfolio\", \"benchmark\"], columns=x.index).T\n",
    "z['excess_rtn'] = z['portfolio'] - z['benchmark']\n",
    "z"
   ]
  },
  {
   "cell_type": "code",
   "execution_count": 2349,
   "metadata": {
    "ExecuteTime": {
     "end_time": "2021-03-07T02:41:43.744895Z",
     "start_time": "2021-03-07T02:41:43.366656Z"
    },
    "scrolled": true
   },
   "outputs": [
    {
     "data": {
      "text/plain": [
       "<matplotlib.axes._subplots.AxesSubplot at 0x7f88a2d03850>"
      ]
     },
     "execution_count": 2349,
     "metadata": {},
     "output_type": "execute_result"
    },
    {
     "data": {
      "image/png": "[encoded data removed]",
      "text/plain": [
       "<Figure size 1080x720 with 1 Axes>"
      ]
     },
     "metadata": {},
     "output_type": "display_data"
    }
   ],
   "source": [
    "sns.set_style(\"darkgrid\")\n",
    "plt.figure(figsize=(15, 10))\n",
    "plt.xticks(rotation=45)\n",
    "plt.yticks(rotation=45)\n",
    "sns.lineplot(data=z, markers=True)"
   ]
  },
  {
   "cell_type": "markdown",
   "metadata": {},
   "source": [
    "### Portfolio performance stats"
   ]
  },
  {
   "cell_type": "code",
   "execution_count": 2350,
   "metadata": {
    "ExecuteTime": {
     "end_time": "2021-03-07T02:41:49.454697Z",
     "start_time": "2021-03-07T02:41:49.341983Z"
    }
   },
   "outputs": [
    {
     "name": "stdout",
     "output_type": "stream",
     "text": [
      "Portfolio Variance\n",
      "5.22 %\n",
      "Sharpe Ratio\n",
      "14.96\n",
      "Win Rate\n",
      "97.537 %\n",
      "alpha is -0.751\n",
      "beta is 37.009\n"
     ]
    }
   ],
   "source": [
    "ann_factor = 252\n",
    "variance = z['portfolio'].var() * ann_factor / len(z['portfolio'])\n",
    "\n",
    "# Show annualized variance\n",
    "print('Portfolio Variance')\n",
    "print((variance * 100).round(2), '%')\n",
    "\n",
    "# Calculate Sharpe Ratio\n",
    "ann_factor = 252\n",
    "sharpe_ratio = np.sqrt(ann_factor) * z['excess_rtn'].mean() / z['portfolio'].std()\n",
    "  \n",
    "# Show Results\n",
    "print('Sharpe Ratio')\n",
    "print(sharpe_ratio.round(2))\n",
    "\n",
    "win_rate = len(z[z['excess_rtn'] > 0]['excess_rtn']) / z.shape[0]\n",
    "\n",
    "# Show Win Rate\n",
    "print('Win Rate')\n",
    "print(f'{win_rate*100:.3f} %')\n",
    "\n",
    "x = final_portfolio.groupby('date')['log_rtn'].apply(lambda x: x.sum()).cumsum()\n",
    "benchmark = adjusted_portfolio.reset_index().groupby('date')['weighted_rtn'].apply(lambda x: x.sum()).cumsum()\n",
    "z = pd.DataFrame([x.values, benchmark.values], index=[\"portfolio\", \"benchmark\"], columns=x.index).T\n",
    "\n",
    "_x = z['benchmark']\n",
    "_X = sm.add_constant(_x)\n",
    "_y = z['portfolio']\n",
    "\n",
    "res = sm.OLS(_y, _X).fit()\n",
    "\n",
    "alpha, beta = res.params\n",
    "print(f'alpha is {alpha:.3f}')\n",
    "print(f'beta is {beta:.3f}')"
   ]
  },
  {
   "cell_type": "markdown",
   "metadata": {},
   "source": [
    "### Turnover analysis"
   ]
  },
  {
   "cell_type": "code",
   "execution_count": 2351,
   "metadata": {
    "ExecuteTime": {
     "end_time": "2021-03-07T02:41:58.251853Z",
     "start_time": "2021-03-07T02:41:57.672303Z"
    },
    "scrolled": true
   },
   "outputs": [
    {
     "data": {
      "text/plain": [
       "<matplotlib.axes._subplots.AxesSubplot at 0x7f8866a619d0>"
      ]
     },
     "execution_count": 2351,
     "metadata": {},
     "output_type": "execute_result"
    },
    {
     "data": {
      "image/png": "[encoded data removed]",
      "text/plain": [
       "<Figure size 1080x576 with 1 Axes>"
      ]
     },
     "metadata": {},
     "output_type": "display_data"
    }
   ],
   "source": [
    "turnover_df = final_portfolio.groupby('date').apply(lambda x: x.loc[:, 'ticker'].values).to_frame('ticker').copy()\n",
    "turnover_df['tt'] = turnover_df.shift()\n",
    "turnover_df['num'] = turnover_df.groupby('date').apply(lambda x: list_diff(x['ticker'], x['tt']))\n",
    "sns.set_style(\"darkgrid\")\n",
    "plt.figure(figsize=(15, 8))\n",
    "plt.xticks(rotation=45)\n",
    "plt.yticks(rotation=45)\n",
    "sns.lineplot(data=turnover_df['num'], markers=True)"
   ]
  },
  {
   "cell_type": "code",
   "execution_count": 2352,
   "metadata": {
    "ExecuteTime": {
     "end_time": "2021-03-07T02:42:05.920313Z",
     "start_time": "2021-03-07T02:42:05.917323Z"
    }
   },
   "outputs": [
    {
     "name": "stdout",
     "output_type": "stream",
     "text": [
      "Total turnover over time: 730\n"
     ]
    }
   ],
   "source": [
    "turnover = turnover_df['num'].sum()\n",
    "print(f'Total turnover over time: {turnover}')"
   ]
  },
  {
   "cell_type": "markdown",
   "metadata": {},
   "source": [
    "## Optimization "
   ]
  },
  {
   "cell_type": "markdown",
   "metadata": {},
   "source": [
    "### Methodology Instruction\n",
    "\n",
    "**Objective**\n",
    "1. Minimize portfolio variance\n",
    "\n",
    "**Formula**\n",
    "\n",
    "$x^TPx$\n",
    "\n",
    "**Constraints**\n",
    "1. Total weight = 1\n",
    "2. No short"
   ]
  },
  {
   "cell_type": "markdown",
   "metadata": {},
   "source": [
    "### Optimization"
   ]
  },
  {
   "cell_type": "code",
   "execution_count": 2353,
   "metadata": {
    "ExecuteTime": {
     "end_time": "2021-03-07T02:42:18.368014Z",
     "start_time": "2021-03-07T02:42:11.684420Z"
    }
   },
   "outputs": [],
   "source": [
    "unoptimize_portfolio = final_portfolio.copy(deep=True)\n",
    "adjusted_weights = unoptimize_portfolio.groupby(level='date').apply(get_optimized_weights)"
   ]
  },
  {
   "cell_type": "code",
   "execution_count": 2354,
   "metadata": {
    "ExecuteTime": {
     "end_time": "2021-03-07T02:42:24.083282Z",
     "start_time": "2021-03-07T02:42:24.070418Z"
    }
   },
   "outputs": [],
   "source": [
    "unoptimize_portfolio = unoptimize_portfolio.reset_index().set_index(['date', 'ticker'])\n",
    "unoptimize_portfolio['adjWeight'] = adjusted_weights\n",
    "unoptimize_portfolio['adj_rtn'] = unoptimize_portfolio['log_rtn'] * unoptimize_portfolio['adjWeight']"
   ]
  },
  {
   "cell_type": "markdown",
   "metadata": {},
   "source": [
    "### Portfolio return and line chart"
   ]
  },
  {
   "cell_type": "code",
   "execution_count": 2355,
   "metadata": {
    "ExecuteTime": {
     "end_time": "2021-03-07T02:42:31.734738Z",
     "start_time": "2021-03-07T02:42:31.616262Z"
    }
   },
   "outputs": [
    {
     "data": {
      "text/html": [
       "<div>\n",
       "<style scoped>\n",
       "    .dataframe tbody tr th:only-of-type {\n",
       "        vertical-align: middle;\n",
       "    }\n",
       "\n",
       "    .dataframe tbody tr th {\n",
       "        vertical-align: top;\n",
       "    }\n",
       "\n",
       "    .dataframe thead th {\n",
       "        text-align: right;\n",
       "    }\n",
       "</style>\n",
       "<table border=\"1\" class=\"dataframe\">\n",
       "  <thead>\n",
       "    <tr style=\"text-align: right;\">\n",
       "      <th></th>\n",
       "      <th>portfolio</th>\n",
       "      <th>benchmark</th>\n",
       "      <th>excess_rtn</th>\n",
       "    </tr>\n",
       "    <tr>\n",
       "      <th>date</th>\n",
       "      <th></th>\n",
       "      <th></th>\n",
       "      <th></th>\n",
       "    </tr>\n",
       "  </thead>\n",
       "  <tbody>\n",
       "    <tr>\n",
       "      <th>2020-04-01 00:00:00+00:00</th>\n",
       "      <td>-0.055887</td>\n",
       "      <td>-0.044318</td>\n",
       "      <td>-0.011569</td>\n",
       "    </tr>\n",
       "    <tr>\n",
       "      <th>2020-04-02 00:00:00+00:00</th>\n",
       "      <td>-0.059508</td>\n",
       "      <td>-0.021553</td>\n",
       "      <td>-0.037956</td>\n",
       "    </tr>\n",
       "    <tr>\n",
       "      <th>2020-04-03 00:00:00+00:00</th>\n",
       "      <td>-0.077433</td>\n",
       "      <td>-0.036337</td>\n",
       "      <td>-0.041096</td>\n",
       "    </tr>\n",
       "    <tr>\n",
       "      <th>2020-04-06 00:00:00+00:00</th>\n",
       "      <td>0.025235</td>\n",
       "      <td>0.032608</td>\n",
       "      <td>-0.007373</td>\n",
       "    </tr>\n",
       "    <tr>\n",
       "      <th>2020-04-07 00:00:00+00:00</th>\n",
       "      <td>0.049847</td>\n",
       "      <td>0.031145</td>\n",
       "      <td>0.018702</td>\n",
       "    </tr>\n",
       "    <tr>\n",
       "      <th>...</th>\n",
       "      <td>...</td>\n",
       "      <td>...</td>\n",
       "      <td>...</td>\n",
       "    </tr>\n",
       "    <tr>\n",
       "      <th>2021-01-13 00:00:00+00:00</th>\n",
       "      <td>0.956208</td>\n",
       "      <td>0.439105</td>\n",
       "      <td>0.517103</td>\n",
       "    </tr>\n",
       "    <tr>\n",
       "      <th>2021-01-14 00:00:00+00:00</th>\n",
       "      <td>0.962262</td>\n",
       "      <td>0.435206</td>\n",
       "      <td>0.527056</td>\n",
       "    </tr>\n",
       "    <tr>\n",
       "      <th>2021-01-15 00:00:00+00:00</th>\n",
       "      <td>0.954833</td>\n",
       "      <td>0.428291</td>\n",
       "      <td>0.526542</td>\n",
       "    </tr>\n",
       "    <tr>\n",
       "      <th>2021-01-19 00:00:00+00:00</th>\n",
       "      <td>0.975750</td>\n",
       "      <td>0.436622</td>\n",
       "      <td>0.539128</td>\n",
       "    </tr>\n",
       "    <tr>\n",
       "      <th>2021-01-20 00:00:00+00:00</th>\n",
       "      <td>0.988302</td>\n",
       "      <td>0.450826</td>\n",
       "      <td>0.537476</td>\n",
       "    </tr>\n",
       "  </tbody>\n",
       "</table>\n",
       "<p>203 rows × 3 columns</p>\n",
       "</div>"
      ],
      "text/plain": [
       "                           portfolio  benchmark  excess_rtn\n",
       "date                                                       \n",
       "2020-04-01 00:00:00+00:00  -0.055887  -0.044318   -0.011569\n",
       "2020-04-02 00:00:00+00:00  -0.059508  -0.021553   -0.037956\n",
       "2020-04-03 00:00:00+00:00  -0.077433  -0.036337   -0.041096\n",
       "2020-04-06 00:00:00+00:00   0.025235   0.032608   -0.007373\n",
       "2020-04-07 00:00:00+00:00   0.049847   0.031145    0.018702\n",
       "...                              ...        ...         ...\n",
       "2021-01-13 00:00:00+00:00   0.956208   0.439105    0.517103\n",
       "2021-01-14 00:00:00+00:00   0.962262   0.435206    0.527056\n",
       "2021-01-15 00:00:00+00:00   0.954833   0.428291    0.526542\n",
       "2021-01-19 00:00:00+00:00   0.975750   0.436622    0.539128\n",
       "2021-01-20 00:00:00+00:00   0.988302   0.450826    0.537476\n",
       "\n",
       "[203 rows x 3 columns]"
      ]
     },
     "execution_count": 2355,
     "metadata": {},
     "output_type": "execute_result"
    }
   ],
   "source": [
    "x = unoptimize_portfolio.groupby('date')['adj_rtn'].apply(lambda x: x.sum()).cumsum()\n",
    "benchmark = adjusted_portfolio.reset_index().groupby('date')['weighted_rtn'].apply(lambda x: x.sum()).cumsum()\n",
    "z = pd.DataFrame([x.values, benchmark.values], index=[\"portfolio\", \"benchmark\"], columns=x.index).T\n",
    "z['excess_rtn'] = z['portfolio'] - z['benchmark']\n",
    "z"
   ]
  },
  {
   "cell_type": "code",
   "execution_count": 2356,
   "metadata": {
    "ExecuteTime": {
     "end_time": "2021-03-07T02:42:40.730820Z",
     "start_time": "2021-03-07T02:42:40.265939Z"
    },
    "cell_style": "center",
    "scrolled": true
   },
   "outputs": [
    {
     "data": {
      "text/plain": [
       "<matplotlib.axes._subplots.AxesSubplot at 0x7f88131b4210>"
      ]
     },
     "execution_count": 2356,
     "metadata": {},
     "output_type": "execute_result"
    },
    {
     "data": {
      "image/png": "[encoded data removed]",
      "text/plain": [
       "<Figure size 1080x720 with 1 Axes>"
      ]
     },
     "metadata": {},
     "output_type": "display_data"
    }
   ],
   "source": [
    "sns.set_style(\"darkgrid\")\n",
    "plt.figure(figsize=(15, 10))\n",
    "plt.xticks(rotation=45)\n",
    "plt.yticks(rotation=45)\n",
    "sns.lineplot(data=z, markers=True)"
   ]
  },
  {
   "cell_type": "markdown",
   "metadata": {},
   "source": [
    "### Portfolio performance stats"
   ]
  },
  {
   "cell_type": "code",
   "execution_count": 2357,
   "metadata": {
    "ExecuteTime": {
     "end_time": "2021-03-07T02:42:47.984232Z",
     "start_time": "2021-03-07T02:42:47.880875Z"
    },
    "cell_style": "center"
   },
   "outputs": [
    {
     "name": "stdout",
     "output_type": "stream",
     "text": [
      "Portfolio Variance\n",
      "7.35 %\n",
      "Sharpe Ratio\n",
      "18.03\n",
      "Win Rate\n",
      "98.030 %\n",
      "alpha is -0.045\n",
      "beta is 2.184\n"
     ]
    }
   ],
   "source": [
    "ann_factor = 252\n",
    "variance = z['portfolio'].var() * ann_factor / len(z['portfolio'])\n",
    "\n",
    "# Show annualized variance\n",
    "print('Portfolio Variance')\n",
    "print((variance * 100).round(2), '%')\n",
    "\n",
    "# Calculate Sharpe Ratio\n",
    "ann_factor = 252\n",
    "sharpe_ratio = np.sqrt(ann_factor) * z['excess_rtn'].mean() / z['portfolio'].std()\n",
    "\n",
    "# Show Results\n",
    "print('Sharpe Ratio')\n",
    "print(sharpe_ratio.round(2))\n",
    "\n",
    "win_rate = len(z[z['excess_rtn'] > 0]['excess_rtn']) / z.shape[0]\n",
    "\n",
    "# Show Win Rate\n",
    "print('Win Rate')\n",
    "print(f'{win_rate*100:.3f} %')\n",
    "\n",
    "# Show alpha and beta\n",
    "x = unoptimize_portfolio.groupby('date')['adj_rtn'].apply(lambda x: x.sum()).cumsum()\n",
    "benchmark = adjusted_portfolio.reset_index().groupby('date')['weighted_rtn'].apply(lambda x: x.sum()).cumsum()\n",
    "z = pd.DataFrame([x.values, benchmark.values], index=[\"portfolio\", \"benchmark\"], columns=x.index).T\n",
    "\n",
    "_x = z['benchmark']\n",
    "_X = sm.add_constant(_x)\n",
    "_y = z['portfolio']\n",
    "\n",
    "res = sm.OLS(_y, _X).fit()\n",
    "\n",
    "alpha, beta = res.params\n",
    "print(f'alpha is {alpha:.3f}')\n",
    "print(f'beta is {beta:.3f}')"
   ]
  },
  {
   "cell_type": "markdown",
   "metadata": {},
   "source": [
    "### Turnover analysis"
   ]
  },
  {
   "cell_type": "code",
   "execution_count": 2358,
   "metadata": {
    "ExecuteTime": {
     "end_time": "2021-03-07T02:42:54.606837Z",
     "start_time": "2021-03-07T02:42:54.225363Z"
    },
    "scrolled": true
   },
   "outputs": [
    {
     "data": {
      "text/plain": [
       "<matplotlib.axes._subplots.AxesSubplot at 0x7f88131b4650>"
      ]
     },
     "execution_count": 2358,
     "metadata": {},
     "output_type": "execute_result"
    },
    {
     "data": {
      "image/png": "[encoded data removed]",
      "text/plain": [
       "<Figure size 1080x576 with 1 Axes>"
      ]
     },
     "metadata": {},
     "output_type": "display_data"
    }
   ],
   "source": [
    "unoptimize_portfolio = unoptimize_portfolio.reset_index().set_index('date')\n",
    "turnover_df = unoptimize_portfolio.groupby('date').apply(lambda x: x.loc[:, 'ticker'].values).to_frame('ticker').copy()\n",
    "turnover_df['tt'] = turnover_df.shift()\n",
    "turnover_df['num'] = turnover_df.groupby('date').apply(lambda x: list_diff(x['ticker'], x['tt']))\n",
    "sns.set_style(\"darkgrid\")\n",
    "plt.figure(figsize=(15, 8))\n",
    "plt.xticks(rotation=45)\n",
    "plt.yticks(rotation=45)\n",
    "sns.lineplot(data=turnover_df['num'], markers=True)"
   ]
  },
  {
   "cell_type": "code",
   "execution_count": 2359,
   "metadata": {
    "ExecuteTime": {
     "end_time": "2021-03-07T02:43:00.867266Z",
     "start_time": "2021-03-07T02:43:00.863881Z"
    },
    "scrolled": true
   },
   "outputs": [
    {
     "name": "stdout",
     "output_type": "stream",
     "text": [
      "Total turnover over time: 730\n"
     ]
    }
   ],
   "source": [
    "turnover = turnover_df['num'].sum()\n",
    "print(f'Total turnover over time: {turnover}')"
   ]
  },
  {
   "cell_type": "markdown",
   "metadata": {},
   "source": [
    "---"
   ]
  },
  {
   "cell_type": "markdown",
   "metadata": {},
   "source": [
    "# Conclusion"
   ]
  },
  {
   "attachments": {},
   "cell_type": "markdown",
   "metadata": {},
   "source": [
    "This strategy is profitable with\n",
    "1. Using factors:\n",
    "  1. 'net_profit_growth_rate',\n",
    "  2. 'vol60',\n",
    "  3. 'SUR0',\n",
    "  4. 'vol20',\n",
    "  5. 'book_to_price',\n",
    "2. Using highest score 10~20 stocks\n",
    "  1. No orthogonization needed\n",
    "  2. IR weighted\n",
    "3. Evenly weighted\n",
    "4. Run daily\n",
    "5. Optimization\n",
    "  1. Objective: \n",
    "    1. to minimize risk\n",
    "  2. Constrain:\n",
    "    1. Total weight = 1\n",
    "    2. No short\n",
    "\n",
    "| | Unoptimized | Optimized|\n",
    "|:-- | -- | -- |\n",
    "| Return | 85.9076 % | 98.8302 % |\n",
    "| Portfolio Variance | 5.51 % | 7.35 %|\n",
    "|Sharpe Ratio | 16.84 | 18.03 |\n",
    "| Win Rate | 97.044 % | 98.030 % |"
   ]
  }
 ],
 "metadata": {
  "kernelspec": {
   "display_name": "Python 3.7.7 64-bit ('quant': conda)",
   "language": "python",
   "name": "python37764bitquantconda130da1f8350c44caaea6a82e21a3556d"
  },
  "language_info": {
   "codemirror_mode": {
    "name": "ipython",
    "version": 3
   },
   "file_extension": ".py",
   "mimetype": "text/x-python",
   "name": "python",
   "nbconvert_exporter": "python",
   "pygments_lexer": "ipython3",
   "version": "3.7.7"
  },
  "toc": {
   "base_numbering": "0",
   "nav_menu": {},
   "number_sections": true,
   "sideBar": true,
   "skip_h1_title": false,
   "title_cell": "Table of Contents",
   "title_sidebar": "Contents",
   "toc_cell": false,
   "toc_position": {
    "height": "calc(100% - 180px)",
    "left": "10px",
    "top": "150px",
    "width": "278.719px"
   },
   "toc_section_display": true,
   "toc_window_display": true
  },
  "varInspector": {
   "cols": {
    "lenName": 16,
    "lenType": 16,
    "lenVar": 40
   },
   "kernels_config": {
    "python": {
     "delete_cmd_postfix": "",
     "delete_cmd_prefix": "del ",
     "library": "var_list.py",
     "varRefreshCmd": "print(var_dic_list())"
    },
    "r": {
     "delete_cmd_postfix": ") ",
     "delete_cmd_prefix": "rm(",
     "library": "var_list.r",
     "varRefreshCmd": "cat(var_dic_list()) "
    }
   },
   "types_to_exclude": [
    "module",
    "function",
    "builtin_function_or_method",
    "instance",
    "_Feature"
   ],
   "window_display": false
  }
 },
 "nbformat": 4,
 "nbformat_minor": 4
}
