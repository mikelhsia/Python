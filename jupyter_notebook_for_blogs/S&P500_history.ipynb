{
 "cells": [
  {
   "cell_type": "markdown",
   "metadata": {
    "toc": true
   },
   "source": [
    "<h1>Table of Contents<span class=\"tocSkip\"></span></h1>\n",
    "<div class=\"toc\"><ul class=\"toc-item\"><li><span><a href=\"#Train-of-thought\" data-toc-modified-id=\"Train-of-thought-1\"><span class=\"toc-item-num\">1&nbsp;&nbsp;</span>Train of thought</a></span></li><li><span><a href=\"#Get-S&amp;P-500-composition-change-history\" data-toc-modified-id=\"Get-S&amp;P-500-composition-change-history-2\"><span class=\"toc-item-num\">2&nbsp;&nbsp;</span>Get S&amp;P 500 composition change history</a></span></li><li><span><a href=\"#Constructing-the-portfolio-from-historic-date-to-now\" data-toc-modified-id=\"Constructing-the-portfolio-from-historic-date-to-now-3\"><span class=\"toc-item-num\">3&nbsp;&nbsp;</span>Constructing the portfolio from historic date to now</a></span><ul class=\"toc-item\"><li><span><a href=\"#Let's-get-started\" data-toc-modified-id=\"Let's-get-started-3.1\"><span class=\"toc-item-num\">3.1&nbsp;&nbsp;</span>Let's get started</a></span></li><li><span><a href=\"#Get-current-S&amp;P-500-composition\" data-toc-modified-id=\"Get-current-S&amp;P-500-composition-3.2\"><span class=\"toc-item-num\">3.2&nbsp;&nbsp;</span>Get current S&amp;P 500 composition</a></span></li><li><span><a href=\"#Exam-the-results-when-constructing-the-S&amp;P-500-composition-from-history\" data-toc-modified-id=\"Exam-the-results-when-constructing-the-S&amp;P-500-composition-from-history-3.3\"><span class=\"toc-item-num\">3.3&nbsp;&nbsp;</span>Exam the results when constructing the S&amp;P 500 composition from history</a></span></li></ul></li><li><span><a href=\"#Reverse:-We-construct-the-S&amp;P-500-composition-from-present-day-to-before\" data-toc-modified-id=\"Reverse:-We-construct-the-S&amp;P-500-composition-from-present-day-to-before-4\"><span class=\"toc-item-num\">4&nbsp;&nbsp;</span>Reverse: We construct the S&amp;P 500 composition from present day to before</a></span><ul class=\"toc-item\"><li><span><a href=\"#Let's-build-the-composition-of-S&amp;P-500-from-bottom-up\" data-toc-modified-id=\"Let's-build-the-composition-of-S&amp;P-500-from-bottom-up-4.1\"><span class=\"toc-item-num\">4.1&nbsp;&nbsp;</span>Let's build the composition of S&amp;P 500 from bottom up</a></span></li></ul></li><li><span><a href=\"#How-to-build-your-historic-S&amp;P-500-composition\" data-toc-modified-id=\"How-to-build-your-historic-S&amp;P-500-composition-5\"><span class=\"toc-item-num\">5&nbsp;&nbsp;</span>How to build your historic S&amp;P 500 composition</a></span></li><li><span><a href=\"#Reference\" data-toc-modified-id=\"Reference-6\"><span class=\"toc-item-num\">6&nbsp;&nbsp;</span>Reference</a></span></li></ul></div>"
   ]
  },
  {
   "cell_type": "markdown",
   "metadata": {},
   "source": [
    "## Train of thought\n",
    "First of all, I gotta say I'm a stingy guy. Even though there are paid resources that we're able to get according to [The S&P 500 Historical Components & Changes](https://analyzingalpha.com/sp500-historical-components-and-changes), I'm still inclining to use free resources to construct my own data source.\n",
    "\n",
    "After reading [The S&P 500 Historical Components & Changes](https://analyzingalpha.com/sp500-historical-components-and-changes), I considered that the result that we've got from this article is not enough as we need the composition of the S&P 500 over time. After found a json file in [The S&P 500 Historical Components & Changes](https://analyzingalpha.com/sp500-historical-components-and-changes), which is already a list that we desired. But it is limited from `2008`~`2019`, I'm going to use this list and the changes in the original article to build the list we need further.\n",
    "\n",
    "**Methodology**\n",
    "\n",
    "I'm going to use the list provided in the json file, and then use the changelog that we extracted from the S&P 500 wiki page to update the S&P 500 composition over time."
   ]
  },
  {
   "cell_type": "markdown",
   "metadata": {},
   "source": [
    "## Get S&P 500 composition change history\n",
    "Context: [The S&P 500 Historical Components & Changes](https://analyzingalpha.com/sp500-historical-components-and-changes)\n",
    "\n",
    "Let's start with following this article to get the changelog over time"
   ]
  },
  {
   "cell_type": "code",
   "execution_count": 405,
   "metadata": {
    "ExecuteTime": {
     "end_time": "2021-02-14T17:54:44.736955Z",
     "start_time": "2021-02-14T17:54:44.732307Z"
    }
   },
   "outputs": [],
   "source": [
    "import pandas as pd\n",
    "from datetime import datetime\n",
    "import numpy as np\n",
    "import requests\n",
    "import datetime"
   ]
  },
  {
   "cell_type": "code",
   "execution_count": 318,
   "metadata": {
    "ExecuteTime": {
     "end_time": "2021-02-12T16:49:46.099871Z",
     "start_time": "2021-02-12T16:49:46.079458Z"
    }
   },
   "outputs": [
    {
     "data": {
      "text/html": [
       "<div>\n",
       "<style scoped>\n",
       "    .dataframe tbody tr th:only-of-type {\n",
       "        vertical-align: middle;\n",
       "    }\n",
       "\n",
       "    .dataframe tbody tr th {\n",
       "        vertical-align: top;\n",
       "    }\n",
       "\n",
       "    .dataframe thead th {\n",
       "        text-align: right;\n",
       "    }\n",
       "</style>\n",
       "<table border=\"1\" class=\"dataframe\">\n",
       "  <thead>\n",
       "    <tr style=\"text-align: right;\">\n",
       "      <th></th>\n",
       "      <th>Symbol</th>\n",
       "      <th>Security</th>\n",
       "      <th>Date first added</th>\n",
       "      <th>CIK</th>\n",
       "    </tr>\n",
       "  </thead>\n",
       "  <tbody>\n",
       "    <tr>\n",
       "      <th>1</th>\n",
       "      <td>ABT</td>\n",
       "      <td>Abbott Laboratories</td>\n",
       "      <td>1964-03-31</td>\n",
       "      <td>1800</td>\n",
       "    </tr>\n",
       "    <tr>\n",
       "      <th>2</th>\n",
       "      <td>ABBV</td>\n",
       "      <td>AbbVie Inc.</td>\n",
       "      <td>2012-12-31</td>\n",
       "      <td>1551152</td>\n",
       "    </tr>\n",
       "    <tr>\n",
       "      <th>3</th>\n",
       "      <td>ABMD</td>\n",
       "      <td>Abiomed</td>\n",
       "      <td>2018-05-31</td>\n",
       "      <td>815094</td>\n",
       "    </tr>\n",
       "    <tr>\n",
       "      <th>4</th>\n",
       "      <td>ACN</td>\n",
       "      <td>Accenture plc</td>\n",
       "      <td>2011-07-06</td>\n",
       "      <td>1467373</td>\n",
       "    </tr>\n",
       "    <tr>\n",
       "      <th>5</th>\n",
       "      <td>ATVI</td>\n",
       "      <td>Activision Blizzard</td>\n",
       "      <td>2015-08-31</td>\n",
       "      <td>718877</td>\n",
       "    </tr>\n",
       "    <tr>\n",
       "      <th>...</th>\n",
       "      <td>...</td>\n",
       "      <td>...</td>\n",
       "      <td>...</td>\n",
       "      <td>...</td>\n",
       "    </tr>\n",
       "    <tr>\n",
       "      <th>500</th>\n",
       "      <td>YUM</td>\n",
       "      <td>Yum! Brands Inc</td>\n",
       "      <td>1997-10-06</td>\n",
       "      <td>1041061</td>\n",
       "    </tr>\n",
       "    <tr>\n",
       "      <th>501</th>\n",
       "      <td>ZBRA</td>\n",
       "      <td>Zebra Technologies</td>\n",
       "      <td>2019-12-23</td>\n",
       "      <td>877212</td>\n",
       "    </tr>\n",
       "    <tr>\n",
       "      <th>502</th>\n",
       "      <td>ZBH</td>\n",
       "      <td>Zimmer Biomet</td>\n",
       "      <td>2001-08-07</td>\n",
       "      <td>1136869</td>\n",
       "    </tr>\n",
       "    <tr>\n",
       "      <th>503</th>\n",
       "      <td>ZION</td>\n",
       "      <td>Zions Bancorp</td>\n",
       "      <td>2001-06-22</td>\n",
       "      <td>109380</td>\n",
       "    </tr>\n",
       "    <tr>\n",
       "      <th>504</th>\n",
       "      <td>ZTS</td>\n",
       "      <td>Zoetis</td>\n",
       "      <td>2013-06-21</td>\n",
       "      <td>1555280</td>\n",
       "    </tr>\n",
       "  </tbody>\n",
       "</table>\n",
       "<p>504 rows × 4 columns</p>\n",
       "</div>"
      ],
      "text/plain": [
       "    Symbol             Security Date first added      CIK\n",
       "1      ABT  Abbott Laboratories       1964-03-31     1800\n",
       "2     ABBV          AbbVie Inc.       2012-12-31  1551152\n",
       "3     ABMD              Abiomed       2018-05-31   815094\n",
       "4      ACN        Accenture plc       2011-07-06  1467373\n",
       "5     ATVI  Activision Blizzard       2015-08-31   718877\n",
       "..     ...                  ...              ...      ...\n",
       "500    YUM      Yum! Brands Inc       1997-10-06  1041061\n",
       "501   ZBRA   Zebra Technologies       2019-12-23   877212\n",
       "502    ZBH        Zimmer Biomet       2001-08-07  1136869\n",
       "503   ZION        Zions Bancorp       2001-06-22   109380\n",
       "504    ZTS               Zoetis       2013-06-21  1555280\n",
       "\n",
       "[504 rows x 4 columns]"
      ]
     },
     "execution_count": 318,
     "metadata": {},
     "output_type": "execute_result"
    }
   ],
   "source": [
    "data = pd.read_html('https://en.wikipedia.org/wiki/List_of_S%26P_500_companies')\n",
    "sp500 = data[0].iloc[1:,[0,1,6,7]]\n",
    "sp500"
   ]
  },
  {
   "cell_type": "code",
   "execution_count": 319,
   "metadata": {
    "ExecuteTime": {
     "end_time": "2021-02-12T16:49:48.888016Z",
     "start_time": "2021-02-12T16:49:48.847429Z"
    },
    "scrolled": true
   },
   "outputs": [
    {
     "data": {
      "text/html": [
       "<div>\n",
       "<style scoped>\n",
       "    .dataframe tbody tr th:only-of-type {\n",
       "        vertical-align: middle;\n",
       "    }\n",
       "\n",
       "    .dataframe tbody tr th {\n",
       "        vertical-align: top;\n",
       "    }\n",
       "\n",
       "    .dataframe thead th {\n",
       "        text-align: right;\n",
       "    }\n",
       "</style>\n",
       "<table border=\"1\" class=\"dataframe\">\n",
       "  <thead>\n",
       "    <tr style=\"text-align: right;\">\n",
       "      <th></th>\n",
       "      <th>date</th>\n",
       "      <th>name</th>\n",
       "      <th>cik</th>\n",
       "      <th>variable</th>\n",
       "      <th>value</th>\n",
       "    </tr>\n",
       "  </thead>\n",
       "  <tbody>\n",
       "    <tr>\n",
       "      <th>0</th>\n",
       "      <td>1964-03-31</td>\n",
       "      <td>Abbott Laboratories</td>\n",
       "      <td>1800</td>\n",
       "      <td>added_ticker</td>\n",
       "      <td>ABT</td>\n",
       "    </tr>\n",
       "    <tr>\n",
       "      <th>1</th>\n",
       "      <td>2012-12-31</td>\n",
       "      <td>AbbVie Inc.</td>\n",
       "      <td>1551152</td>\n",
       "      <td>added_ticker</td>\n",
       "      <td>ABBV</td>\n",
       "    </tr>\n",
       "    <tr>\n",
       "      <th>2</th>\n",
       "      <td>2018-05-31</td>\n",
       "      <td>Abiomed</td>\n",
       "      <td>815094</td>\n",
       "      <td>added_ticker</td>\n",
       "      <td>ABMD</td>\n",
       "    </tr>\n",
       "    <tr>\n",
       "      <th>3</th>\n",
       "      <td>2011-07-06</td>\n",
       "      <td>Accenture plc</td>\n",
       "      <td>1467373</td>\n",
       "      <td>added_ticker</td>\n",
       "      <td>ACN</td>\n",
       "    </tr>\n",
       "    <tr>\n",
       "      <th>4</th>\n",
       "      <td>2015-08-31</td>\n",
       "      <td>Activision Blizzard</td>\n",
       "      <td>718877</td>\n",
       "      <td>added_ticker</td>\n",
       "      <td>ATVI</td>\n",
       "    </tr>\n",
       "  </tbody>\n",
       "</table>\n",
       "</div>"
      ],
      "text/plain": [
       "        date                 name      cik      variable value\n",
       "0 1964-03-31  Abbott Laboratories     1800  added_ticker   ABT\n",
       "1 2012-12-31          AbbVie Inc.  1551152  added_ticker  ABBV\n",
       "2 2018-05-31              Abiomed   815094  added_ticker  ABMD\n",
       "3 2011-07-06        Accenture plc  1467373  added_ticker   ACN\n",
       "4 2015-08-31  Activision Blizzard   718877  added_ticker  ATVI"
      ]
     },
     "execution_count": 319,
     "metadata": {},
     "output_type": "execute_result"
    }
   ],
   "source": [
    "# Get current S&P table and set header column\n",
    "sp500 = data[0].iloc[1:,[0,1,6,7]]\n",
    "columns = ['added_ticker', 'name', 'date', 'cik']\n",
    "sp500.columns = columns\n",
    "sp500.loc[sp500['date'].isnull(), 'date'] = '1957-01-01'\n",
    "\n",
    "# One date is in the wrong format. Correcting it.\n",
    "sp500.loc[:,'date'] = sp500.loc[:,'date'].apply(lambda x: datetime.strptime(x[:10],'%Y-%m-%d'))\n",
    "sp500 = pd.melt(sp500, id_vars=['date', 'name', 'cik'], value_vars=['added_ticker'])\n",
    "sp500.head()"
   ]
  },
  {
   "cell_type": "code",
   "execution_count": 320,
   "metadata": {
    "ExecuteTime": {
     "end_time": "2021-02-12T16:49:52.043505Z",
     "start_time": "2021-02-12T16:49:51.948092Z"
    }
   },
   "outputs": [
    {
     "data": {
      "text/html": [
       "<div>\n",
       "<style scoped>\n",
       "    .dataframe tbody tr th:only-of-type {\n",
       "        vertical-align: middle;\n",
       "    }\n",
       "\n",
       "    .dataframe tbody tr th {\n",
       "        vertical-align: top;\n",
       "    }\n",
       "\n",
       "    .dataframe thead th {\n",
       "        text-align: right;\n",
       "    }\n",
       "</style>\n",
       "<table border=\"1\" class=\"dataframe\">\n",
       "  <thead>\n",
       "    <tr style=\"text-align: right;\">\n",
       "      <th></th>\n",
       "      <th>date</th>\n",
       "      <th>name</th>\n",
       "      <th>variable</th>\n",
       "      <th>value</th>\n",
       "    </tr>\n",
       "  </thead>\n",
       "  <tbody>\n",
       "    <tr>\n",
       "      <th>0</th>\n",
       "      <td>December 21, 2020</td>\n",
       "      <td>Apartment Investment &amp; Management</td>\n",
       "      <td>removed_ticker</td>\n",
       "      <td>AIV</td>\n",
       "    </tr>\n",
       "    <tr>\n",
       "      <th>1</th>\n",
       "      <td>October 12, 2020</td>\n",
       "      <td>Noble Energy</td>\n",
       "      <td>removed_ticker</td>\n",
       "      <td>NBL</td>\n",
       "    </tr>\n",
       "    <tr>\n",
       "      <th>2</th>\n",
       "      <td>October 7, 2020</td>\n",
       "      <td>E*TRADE Financial</td>\n",
       "      <td>removed_ticker</td>\n",
       "      <td>ETFC</td>\n",
       "    </tr>\n",
       "    <tr>\n",
       "      <th>3</th>\n",
       "      <td>September 21, 2020</td>\n",
       "      <td>H&amp;R Block</td>\n",
       "      <td>removed_ticker</td>\n",
       "      <td>HRB</td>\n",
       "    </tr>\n",
       "    <tr>\n",
       "      <th>4</th>\n",
       "      <td>September 21, 2020</td>\n",
       "      <td>Coty Inc.</td>\n",
       "      <td>removed_ticker</td>\n",
       "      <td>COTY</td>\n",
       "    </tr>\n",
       "  </tbody>\n",
       "</table>\n",
       "</div>"
      ],
      "text/plain": [
       "                 date                               name        variable value\n",
       "0   December 21, 2020  Apartment Investment & Management  removed_ticker   AIV\n",
       "1    October 12, 2020                       Noble Energy  removed_ticker   NBL\n",
       "2     October 7, 2020                  E*TRADE Financial  removed_ticker  ETFC\n",
       "3  September 21, 2020                          H&R Block  removed_ticker   HRB\n",
       "4  September 21, 2020                          Coty Inc.  removed_ticker  COTY"
      ]
     },
     "execution_count": 320,
     "metadata": {},
     "output_type": "execute_result"
    }
   ],
   "source": [
    "# Get S&P500 adjustments table and set columns\n",
    "sp500_adjustments = data[1]\n",
    "sp500_adjustments = sp500_adjustments[2:].copy()\n",
    "columns = ['date', 'added_ticker', 'added_name', 'removed_ticker', 'removed_name', 'reason']\n",
    "sp500_adjustments.columns = columns\n",
    "updates = sp500_adjustments[~sp500_adjustments['date'].str.contains(',')].T.shift(1).T\n",
    "sp500_adjustments['date'].loc[~sp500_adjustments['date'].str.contains(',')] = np.nan\n",
    "sp500_adjustments[sp500_adjustments['added_ticker'].isnull()]\n",
    "sp500_adjustments.update(updates)\n",
    "sp500_adjustments['date'].loc[sp500_adjustments['date'].isnull()] = sp500_adjustments['date'].T.shift(1).T\n",
    "sp500_adjustments['date'].loc[sp500_adjustments['date'].isnull()] = sp500_adjustments['date'].T.shift(1).T\n",
    "sp500_adjustments['date'].loc[sp500_adjustments['date'].isnull()] = sp500_adjustments['date'].T.shift(1).T\n",
    "sp500_adjustments['date'].loc[sp500_adjustments['date'].isnull()] = sp500_adjustments['date'].T.shift(1).T\n",
    "sp500_adjustments['date'].loc[sp500_adjustments['date'].isnull()] = sp500_adjustments['date'].T.shift(1).T\n",
    "sp500_additions = sp500_adjustments[~sp500_adjustments['added_ticker'].isnull()]\n",
    "sp500_additions = sp500_additions[['date', 'added_ticker', 'added_name']]\n",
    "sp500_additions.rename(columns={'added_name': 'name'}, inplace=True)\n",
    "sp500_additions = pd.melt(sp500_additions, id_vars=['date','name'], value_vars=['added_ticker'])\n",
    "sp500_deletions = sp500_adjustments[~sp500_adjustments['removed_ticker'].isnull()]\n",
    "sp500_deletions = sp500_deletions[['date', 'removed_ticker', 'removed_name']]\n",
    "sp500_deletions.rename(columns={'removed_name': 'name'}, inplace=True)\n",
    "sp500_deletions = pd.melt(sp500_deletions, id_vars=['date','name'], value_vars=['removed_ticker'])\n",
    "sp500_history = pd.concat([sp500_deletions, sp500_additions])\n",
    "sp500_history.head()"
   ]
  },
  {
   "cell_type": "code",
   "execution_count": 321,
   "metadata": {
    "ExecuteTime": {
     "end_time": "2021-02-12T16:49:55.167796Z",
     "start_time": "2021-02-12T16:49:55.022147Z"
    },
    "scrolled": false
   },
   "outputs": [
    {
     "data": {
      "text/html": [
       "<div>\n",
       "<style scoped>\n",
       "    .dataframe tbody tr th:only-of-type {\n",
       "        vertical-align: middle;\n",
       "    }\n",
       "\n",
       "    .dataframe tbody tr th {\n",
       "        vertical-align: top;\n",
       "    }\n",
       "\n",
       "    .dataframe thead th {\n",
       "        text-align: right;\n",
       "    }\n",
       "</style>\n",
       "<table border=\"1\" class=\"dataframe\">\n",
       "  <thead>\n",
       "    <tr style=\"text-align: right;\">\n",
       "      <th></th>\n",
       "      <th>date</th>\n",
       "      <th>name</th>\n",
       "      <th>cik</th>\n",
       "      <th>variable</th>\n",
       "      <th>value</th>\n",
       "    </tr>\n",
       "  </thead>\n",
       "  <tbody>\n",
       "    <tr>\n",
       "      <th>373</th>\n",
       "      <td>1957-01-01</td>\n",
       "      <td>PPL Corp.</td>\n",
       "      <td>922224.0</td>\n",
       "      <td>added_ticker</td>\n",
       "      <td>PPL</td>\n",
       "    </tr>\n",
       "    <tr>\n",
       "      <th>120</th>\n",
       "      <td>1957-01-01</td>\n",
       "      <td>Consolidated Edison</td>\n",
       "      <td>1047862.0</td>\n",
       "      <td>added_ticker</td>\n",
       "      <td>ED</td>\n",
       "    </tr>\n",
       "    <tr>\n",
       "      <th>402</th>\n",
       "      <td>1957-01-01</td>\n",
       "      <td>S&amp;P Global Inc.</td>\n",
       "      <td>64040.0</td>\n",
       "      <td>added_ticker</td>\n",
       "      <td>SPGI</td>\n",
       "    </tr>\n",
       "    <tr>\n",
       "      <th>389</th>\n",
       "      <td>1957-01-01</td>\n",
       "      <td>Raytheon Technologies</td>\n",
       "      <td>101829.0</td>\n",
       "      <td>added_ticker</td>\n",
       "      <td>RTX</td>\n",
       "    </tr>\n",
       "    <tr>\n",
       "      <th>321</th>\n",
       "      <td>1957-01-01</td>\n",
       "      <td>Moody's Corp</td>\n",
       "      <td>1059556.0</td>\n",
       "      <td>added_ticker</td>\n",
       "      <td>MCO</td>\n",
       "    </tr>\n",
       "  </tbody>\n",
       "</table>\n",
       "</div>"
      ],
      "text/plain": [
       "          date                   name        cik      variable value\n",
       "373 1957-01-01              PPL Corp.   922224.0  added_ticker   PPL\n",
       "120 1957-01-01    Consolidated Edison  1047862.0  added_ticker    ED\n",
       "402 1957-01-01        S&P Global Inc.    64040.0  added_ticker  SPGI\n",
       "389 1957-01-01  Raytheon Technologies   101829.0  added_ticker   RTX\n",
       "321 1957-01-01           Moody's Corp  1059556.0  added_ticker   MCO"
      ]
     },
     "execution_count": 321,
     "metadata": {},
     "output_type": "execute_result"
    }
   ],
   "source": [
    "df = pd.concat([sp500, sp500_history], ignore_index=True)\n",
    "df['date'] = pd.to_datetime(df['date'])\n",
    "df.sort_values(by='cik', ascending=False, inplace=True)\n",
    "deduped_df = df[~df.duplicated(['date', 'variable', 'value'])].copy()\n",
    "deduped_df.sort_values(by='date',inplace=True)\n",
    "deduped_df.to_csv(\"sp500_history.csv\")\n",
    "deduped_df.head()"
   ]
  },
  {
   "cell_type": "markdown",
   "metadata": {},
   "source": [
    "So far, we have successfully extracted the changelog we need from the S&P 500 Wikipedia page. We can examine the added symbol and removed symbol with the following code:"
   ]
  },
  {
   "cell_type": "code",
   "execution_count": 337,
   "metadata": {
    "ExecuteTime": {
     "end_time": "2021-02-12T17:00:29.117729Z",
     "start_time": "2021-02-12T17:00:29.107546Z"
    },
    "scrolled": true
   },
   "outputs": [],
   "source": [
    "x = deduped_df.sort_values(['date', 'variable']).set_index(['date', 'variable'])"
   ]
  },
  {
   "cell_type": "code",
   "execution_count": 338,
   "metadata": {
    "ExecuteTime": {
     "end_time": "2021-02-12T17:00:31.824273Z",
     "start_time": "2021-02-12T17:00:31.811876Z"
    }
   },
   "outputs": [
    {
     "data": {
      "text/html": [
       "<div>\n",
       "<style scoped>\n",
       "    .dataframe tbody tr th:only-of-type {\n",
       "        vertical-align: middle;\n",
       "    }\n",
       "\n",
       "    .dataframe tbody tr th {\n",
       "        vertical-align: top;\n",
       "    }\n",
       "\n",
       "    .dataframe thead th {\n",
       "        text-align: right;\n",
       "    }\n",
       "</style>\n",
       "<table border=\"1\" class=\"dataframe\">\n",
       "  <thead>\n",
       "    <tr style=\"text-align: right;\">\n",
       "      <th></th>\n",
       "      <th>name</th>\n",
       "      <th>cik</th>\n",
       "      <th>value</th>\n",
       "    </tr>\n",
       "    <tr>\n",
       "      <th>variable</th>\n",
       "      <th></th>\n",
       "      <th></th>\n",
       "      <th></th>\n",
       "    </tr>\n",
       "  </thead>\n",
       "  <tbody>\n",
       "    <tr>\n",
       "      <th>added_ticker</th>\n",
       "      <td>Yahoo!</td>\n",
       "      <td>NaN</td>\n",
       "      <td>YHOO</td>\n",
       "    </tr>\n",
       "    <tr>\n",
       "      <th>removed_ticker</th>\n",
       "      <td>Laidlaw</td>\n",
       "      <td>NaN</td>\n",
       "      <td>LDW</td>\n",
       "    </tr>\n",
       "  </tbody>\n",
       "</table>\n",
       "</div>"
      ],
      "text/plain": [
       "                   name  cik value\n",
       "variable                          \n",
       "added_ticker     Yahoo!  NaN  YHOO\n",
       "removed_ticker  Laidlaw  NaN   LDW"
      ]
     },
     "execution_count": 338,
     "metadata": {},
     "output_type": "execute_result"
    }
   ],
   "source": [
    "x.loc[pd.to_datetime('1999-12-07'), :]"
   ]
  },
  {
   "cell_type": "markdown",
   "metadata": {},
   "source": [
    "---"
   ]
  },
  {
   "cell_type": "markdown",
   "metadata": {},
   "source": [
    "## Constructing the portfolio from historic date to now\n",
    "Context: [Some other people prepared this json file of S&P 500 historic composition](https://gist.github.com/kafkasl/078f2c65c4299d367b57c9835b34c333)\n",
    "\n",
    "### Let's get started\n",
    "Now, we're going to use the list we've found as a base to update the S&P 500 composition over time. I'm going to use the `2008/01/31`, `2018/01/03`, and `2019/02/27` compositions we found in the json file, and then compare with the most updated composition of S&P 500 from [S&P 500 Companies by Weight](https://www.slickcharts.com/sp500)."
   ]
  },
  {
   "cell_type": "code",
   "execution_count": 423,
   "metadata": {
    "ExecuteTime": {
     "end_time": "2021-02-15T04:32:53.093797Z",
     "start_time": "2021-02-15T04:32:52.911003Z"
    },
    "scrolled": true
   },
   "outputs": [
    {
     "name": "stdout",
     "output_type": "stream",
     "text": [
      "2019-02-15 00:00:00\n",
      "509  +  1  -  1 =  509\n",
      "2019-02-27 00:00:00\n",
      "509  +  1  -  1 =  509\n",
      "2019-04-01 00:00:00\n",
      "509  +  1  -  0 =  509\n",
      "2019-04-02 00:00:00\n",
      "509  +  2  -  1 =  509\n",
      "2019-06-03 00:00:00\n",
      "509  +  2  -  2 =  509\n",
      "2019-06-07 00:00:00\n",
      "509  +  2  -  1 =  510\n",
      "2019-07-01 00:00:00\n",
      "510  +  1  -  1 =  510\n",
      "2019-07-15 00:00:00\n",
      "510  +  1  -  1 =  510\n",
      "2019-08-09 00:00:00\n",
      "510  +  2  -  2 =  510\n",
      "2019-09-23 00:00:00\n",
      "510  +  1  -  1 =  510\n",
      "2019-09-26 00:00:00\n",
      "510  +  1  -  1 =  511\n",
      "2019-10-03 00:00:00\n",
      "511  +  1  -  1 =  511\n",
      "2019-11-21 00:00:00\n",
      "511  +  1  -  1 =  511\n",
      "2019-12-05 00:00:00\n",
      "511  +  1  -  1 =  511\n",
      "2019-12-09 00:00:00\n",
      "511  +  1  -  1 =  511\n",
      "2019-12-23 00:00:00\n",
      "511  +  3  -  3 =  511\n",
      "2020-01-28 00:00:00\n",
      "511  +  1  -  1 =  511\n",
      "2020-03-03 00:00:00\n",
      "511  +  2  -  1 =  511\n",
      "2020-04-03 00:00:00\n",
      "511  +  2  -  0 =  513\n",
      "2020-04-06 00:00:00\n",
      "513  +  0  -  2 =  511\n",
      "2020-05-12 00:00:00\n",
      "511  +  2  -  2 =  512\n",
      "2020-05-22 00:00:00\n",
      "512  +  1  -  1 =  512\n",
      "2020-06-22 00:00:00\n",
      "512  +  3  -  3 =  512\n",
      "2020-09-21 00:00:00\n",
      "512  +  3  -  3 =  512\n",
      "2020-10-07 00:00:00\n",
      "512  +  1  -  1 =  512\n",
      "2020-10-09 00:00:00\n",
      "512  +  1  -  0 =  513\n",
      "2020-10-12 00:00:00\n",
      "513  +  0  -  1 =  512\n",
      "2020-12-21 00:00:00\n",
      "512  +  1  -  1 =  512\n",
      "2021-01-07 00:00:00\n",
      "512  +  1  -  0 =  513\n",
      "2021-01-21 00:00:00\n",
      "513  +  1  -  0 =  514\n"
     ]
    }
   ],
   "source": [
    "dictionary = {}\n",
    "# l = []\n",
    "# 2008/01/31 - [167:]\n",
    "# l = list(set([\"GHC\", \"MDP\", \"GAS\", \"AZO\", \"MIL\", \"MXA\", \"ASH\", \"SNA\", \"R\", \"RL\", \"DDS\", \"HAR\", \"BDK\", \"GWW\", \"ICE\", \"SHLD\", \"MTZ\", \"OMX\", \"TEG\", \"KBH\", \"WHR\", \"AVB\", \"MTG\", \"IFF\", \"SWK\", \"EMN\", \"JNY\", \"CIEN\", \"ANF\", \"BFB\", \"TIE\", \"FII\", \"BC\", \"WEN\", \"VFC\", \"FLR\", \"SSP\", \"TMK\", \"LXK\", \"SAF\", \"BIG\", \"AIZ\", \"AIV\", \"PNW\", \"ACS\", \"WAT\", \"ABKFQ\", \"BLL\", \"FNP\", \"BCR\", \"ATI\", \"TEX\", \"BMS\", \"WPI\", \"SHW\", \"AVY\", \"BRL\", \"ZION\", \"VMC\", \"CTL\", \"RDC\", \"HPC\", \"EL\", \"BSC\", \"LH\", \"NVLS\", \"USX\", \"SUN\", \"BXP\", \"PKI\", \"JEC\", \"CTX\", \"PLL\", \"DDR\", \"PSA\", \"GR\", \"LLL\", \"VAR\", \"MBI\", \"FHN\", \"ROH\", \"MKC\", \"MWW\", \"MTW\", \"PTV\", \"SIAL\", \"EFX\", \"DF\", \"CVG\", \"VNO\", \"LM\", \"CTAS\", \"RSHCQ\", \"TIF\", \"TAP\", \"TSO\", \"QLG\", \"APOL\", \"PCP\", \"AN\", \"CLX\", \"LEN\", \"PBG\", \"WFM\", \"PDCO\", \"DRI\", \"MOLX\", \"FDO\", \"NYT\", \"ESV\", \"ETN\", \"HAS\", \"RRC\", \"ROK\", \"CMA\", \"FO\", \"EQ\", \"JNS\", \"CVH\", \"DGX\", \"UST\", \"HSP\", \"GME\", \"SEE\", \"BEN\", \"RHI\", \"COL\", \"PPG\", \"DTE\", \"FISV\", \"AKAM\", \"AYE\", \"CCTYQ\", \"CINF\", \"HSY\", \"PH\", \"LUK\", \"ABC\", \"GPC\", \"HUM\", \"ABI\", \"FIS\", \"CHRW\", \"RAI\", \"NBL\", \"TT\", \"STR\", \"CSC\", \"PCL\", \"LEG\", \"ECL\", \"WYN\", \"XL\", \"TER\", \"TDC\", \"CEG\", \"CBE\", \"ITT\", \"CNX\", \"KLAC\", \"MWV\", \"IAC\", \"MUR\", \"CTXS\", \"JWN\", \"CITGQ\", \"NTRS\", \"ACAS\", \"STZ\", \"RX\", \"ETR\", \"CBH\", \"BMC\", \"CBG\", \"TSS\", \"HOT\", \"DOV\", \"POM\", \"SII\", \"CMI\", \"JBL\", \"EXPE\", \"AEE\", \"WY\", \"TE\", \"SVU\", \"PHM\", \"EXPD\", \"APD\", \"MCO\", \"RRD\", \"MCHP\", \"WWY\", \"PBI\", \"UNS\", \"VRSN\", \"JCP\", \"SPG\", \"LLTC\", \"CPB\", \"CMS\", \"CAM\", \"SNDK\", \"WFR\", \"ADSK\", \"TGNA\", \"GOOGL\", \"AMP\", \"ZBH\", \"NSM\", \"SYK\", \"GT\", \"KG\", \"HOG\", \"BDX\", \"GGP\", \"EOG\", \"TXT\", \"ESRX\", \"KIM\", \"DHR\", \"PEG\", \"SCN\", \"PGN\", \"MI\", \"SRE\", \"PFG\", \"UNP\", \"K\", \"TROW\", \"NYX\", \"BTU\", \"GENZ\", \"BBBY\", \"NE\", \"LNC\", \"ODP\", \"ED\", \"EQR\", \"TSN\", \"NI\", \"IR\", \"DHI\", \"HES\", \"NWL\", \"CI\", \"NBR\", \"CCE\", \"CPWR\", \"EKDKQ\", \"NUE\", \"AW\", \"MCK\", \"CTSH\", \"BIIB\", \"BJS\", \"AON\", \"XLNX\", \"BNI\", \"MYL\", \"ADI\", \"FE\", \"AG\", \"AMZN\", \"FDX\", \"FRX\", \"HIG\", \"MAR\", \"LTD\", \"KSS\", \"EA\", \"PX\", \"IGT\", \"HNZ\", \"BHI\", \"RIG\", \"CNP\", \"HRB\", \"EIX\", \"OMC\", \"ACE\", \"MHFI\", \"APA\", \"FTR\", \"INTU\", \"PAYX\", \"ALTR\", \"WFT\", \"GIS\", \"NTH\", \"STJ\", \"UIS\", \"NTAP\", \"NOVL\", \"LOM\", \"PNC\", \"STI\", \"BBY\", \"PCG\", \"NOV\", \"SOV\", \"UUM\", \"CAH\", \"HBAN\", \"MAT\", \"MAS\", \"PCAR\", \"COH\", \"PPL\", \"FCX\", \"NKE\", \"CB\", \"A\", \"CELG\", \"STT\", \"NSC\", \"KEY\", \"COF\", \"CA\", \"GS\", \"AEP\", \"GD\", \"AMT\", \"NEE\", \"ITW\", \"XEL\", \"CSX\", \"TMO\", \"KMB\", \"IP\", \"RTN\", \"AVP\", \"M\", \"COST\", \"TLAB\", \"CCL\", \"TJX\", \"LTR\", \"GNW\", \"SWY\", \"DE\", \"DVN\", \"NEM\", \"CHK\", \"PRU\", \"ETFC\", \"AAZ\", \"GPS\", \"IPG\", \"BRCM\", \"THC\", \"DC\", \"WIN\", \"XTO\", \"CAG\", \"DYNIQ\", \"TYC\", \"TEL\", \"COV\", \"CCU\", \"AET\", \"YUM\", \"WM\", \"CL\", \"EDS\", \"SLM\", \"JNPR\", \"MMC\", \"HST\", \"HCBK\", \"ADP\", \"LEHMQ\", \"FITB\", \"MHS\", \"MON\", \"BBT\", \"VLO\", \"NVDA\", \"MTLQQ\", \"ALL\", \"ANTM\", \"ADBE\", \"CFC\", \"D\", \"JCI\", \"WMB\", \"AMD\", \"SYY\", \"SE\", \"NCC\", \"BAX\", \"CAT\", \"ADM\", \"PA\", \"VIAB\", \"EXC\", \"FMCC\", \"AES\", \"KR\", \"CBS\", \"RN\", \"EP\", \"PGR\", \"SPLS\", \"MRO\", \"LSI\", \"MMM\", \"DTV\", \"SLE\", \"SBUX\", \"BUD\", \"LUV\", \"MWZ\", \"ALD\", \"WU\", \"MU\", \"SO\", \"BA\", \"EMR\", \"OXY\", \"JAVA\", \"TGT\", \"AA\", \"MER\", \"SYMC\", \"WAMUQ\", \"AAPL\", \"HAL\", \"DD\", \"XRX\", \"GILD\", \"SWG\", \"DOW\", \"FNMA\", \"LLY\", \"UTX\", \"WAG\", \"UPS\", \"MS\", \"AMGN\", \"MDT\", \"EBAY\", \"BK\", \"AEC\", \"MCD\", \"SLBA\", \"DUK\", \"UNH\", \"YHOO\", \"WYE\", \"BSX\", \"IBM\", \"AMAT\", \"TXN\", \"LOW\", \"CVS\", \"ABT\", \"KFT\", \"QWST\", \"GLW\", \"COP\", \"PEP\", \"MRK\", \"QCI\", \"HD\", \"USB\", \"DIS\", \"WB\", \"BMY\", \"KO\", \"EMC\", \"MO\", \"F\", \"CVX\", \"MRK\", \"DELL\", \"MOT\", \"NCRA\", \"WMT\", \"AIG\", \"HPQ\", \"S\", \"JNJ\", \"VZ\", \"CMCSA\", \"PG\", \"JPM\", \"WFC\", \"TWX\", \"ORCL\", \"BAC\", \"R\", \"XOM\", \"INCO\", \"T\", \"CSCO\", \"BGIXX\", \"PFE\", \"MSFT\", \"GEC\"]))\n",
    "\n",
    "# 2018/01/03 - [-50:]\n",
    "# l = list(set([\"AAPL\", \"MSFT\", \"AMZN\", \"FB\", \"XOM\", \"JNJ\", \"BRKB\", \"JPM\", \"GOOGL\", \"GOOG\", \"GE\", \"WFC\", \"BAC\", \"T\", \"PG\", \"CVX\", \"PFE\", \"HD\", \"VZ\", \"CMCSA\", \"INTC\", \"MRK\", \"V\", \"PM\", \"CSCO\", \"KO\", \"C\", \"UNH\", \"DIS\", \"PEP\", \"MO\", \"IBM\", \"ORCL\", \"AMGN\", \"MMM\", \"MCD\", \"MDT\", \"WMT\", \"MA\", \"ABBV\", \"BA\", \"HON\", \"SLB\", \"CELG\", \"PCLN\", \"BMY\", \"UNP\", \"AVGO\", \"UTX\", \"SBUX\", \"GILD\", \"GS\", \"USB\", \"CVS\", \"AGN\", \"QCOM\", \"TXN\", \"COST\", \"LLY\", \"TWX\", \"ABT\", \"ACN\", \"LOW\", \"UPS\", \"WBA\", \"NKE\", \"CHTR\", \"DOW\", \"MDLZ\", \"LMT\", \"NFLX\", \"ADBE\", \"TMO\", \"CB\", \"CL\", \"MS\", \"NEE\", \"NVDA\", \"AXP\", \"PNC\", \"CAT\", \"BIIB\", \"COP\", \"DUK\", \"AIG\", \"MET\", \"CRM\", \"GD\", \"PYPL\", \"AMT\", \"KHC\", \"SPG\", \"EOG\", \"TJX\", \"MON\", \"DHR\", \"BK\", \"SCHW\", \"SO\", \"D\", \"CSX\", \"ANTM\", \"BLK\", \"PRU\", \"FDX\", \"AET\", \"OXY\", \"RTN\", \"GM\", \"KMB\", \"AMAT\", \"ADP\", \"F\", \"ITW\", \"NOC\", \"BLKFDS\", \"SYK\", \"CI\", \"CME\", \"COF\", \"HAL\", \"BDX\", \"JCI\", \"KMI\", \"EMR\", \"MMC\", \"ESRX\", \"CTSH\", \"ATVI\", \"BSX\", \"ICE\", \"LUV\", \"PX\", \"BBT\", \"DAL\", \"PSX\", \"SPGI\", \"ETN\", \"NSC\", \"PCG\", \"TRV\", \"CCI\", \"EBAY\", \"HUM\", \"AEP\", \"ECL\", \"EQIX\", \"GIS\", \"DE\", \"TGT\", \"HPQ\", \"AON\", \"EXC\", \"APD\", \"ISRG\", \"REGN\", \"ALL\", \"HPE\", \"PSA\", \"MAR\", \"INTU\", \"FOXA\", \"STT\", \"STZ\", \"AFL\", \"VRTX\", \"WM\", \"MCK\", \"ALXN\", \"VLO\", \"EA\", \"APC\", \"MU\", \"PXD\", \"STI\", \"PLD\", \"PPG\", \"SRE\", \"ADI\", \"ILMN\", \"ZTS\", \"FIS\", \"BAX\", \"KR\", \"SHW\", \"MPC\", \"LYB\", \"GLW\", \"TEL\", \"SYY\", \"CCL\", \"AVB\", \"PPL\", \"WDC\", \"EIX\", \"ROST\", \"FISV\", \"WMB\", \"HCN\", \"BHI\", \"WY\", \"CMI\", \"MTB\", \"LRCX\", \"ED\", \"ZBH\", \"HCA\", \"PCAR\", \"DFS\", \"CBS\", \"ADM\", \"EQR\", \"DLPH\", \"PGR\", \"EW\", \"IR\", \"YUM\", \"CAH\", \"ORLY\", \"XEL\", \"SYF\", \"AAL\", \"VTR\", \"PEG\", \"ROP\", \"APH\", \"DXC\", \"NWL\", \"IP\", \"PH\", \"UAL\", \"SWK\", \"INCY\", \"EL\", \"KEY\", \"DVN\", \"AMP\", \"AZO\", \"ROK\", \"MCO\", \"SYMC\", \"NTRS\", \"OMC\", \"DLTR\", \"CXO\", \"NUE\", \"BXP\", \"WEC\", \"FTV\", \"CERN\", \"CFG\", \"DG\", \"SWKS\", \"ES\", \"DTE\", \"PAYX\", \"APA\", \"FITB\", \"HIG\", \"RCL\", \"ADSK\", \"A\", \"MNST\", \"TSN\", \"DLR\", \"VFC\", \"PFG\", \"NEM\", \"TROW\", \"K\", \"WLTW\", \"RF\", \"MYL\", \"ULTA\", \"VMC\", \"COL\", \"CLX\", \"EXPE\", \"TAP\", \"DPS\", \"EFX\", \"ESS\", \"MCHP\", \"VNO\", \"FCX\", \"O\", \"KLAC\", \"CAG\", \"XLNX\", \"RHT\", \"MLM\", \"HSY\", \"LNC\", \"DGX\", \"BEN\", \"SJM\", \"XRAY\", \"FTI\", \"MHK\", \"HCP\", \"RSG\", \"HBAN\", \"LH\", \"ADS\", \"MSI\", \"IDXX\", \"CTL\", \"BBY\", \"AWK\", \"USD\", \"HSIC\", \"ETR\", \"WHR\", \"WAT\", \"VIAB\", \"FOX\", \"NBL\", \"HRS\", \"CMG\", \"DISH\", \"AME\", \"NLSN\", \"GPC\", \"CTXS\", \"ABC\", \"WRK\", \"HST\", \"MTD\", \"GGP\", \"BLL\", \"FAST\", \"LLL\", \"AEE\", \"IVZ\", \"L\", \"CNC\", \"NOV\", \"FE\", \"CMA\", \"CMS\", \"LB\", \"HES\", \"TXT\", \"MRO\", \"CHD\", \"HOLX\", \"STX\", \"GPN\", \"TDG\", \"ALB\", \"DOV\", \"CNP\", \"ARNC\", \"COH\", \"VRSK\", \"MAS\", \"COG\", \"JNPR\", \"EMN\", \"XEC\", \"MKC\", \"HAS\", \"SNPS\", \"XL\", \"MAA\", \"OKE\", \"DHI\", \"UHS\", \"IFF\", \"CPB\", \"KMX\", \"DRI\", \"NTAP\", \"PNR\", \"ALK\", \"UNM\", \"CBG\", \"CINF\", \"SLG\", \"CTAS\", \"AAP\", \"CHRW\", \"PRGO\", \"GWW\", \"DVA\", \"CA\", \"EQT\", \"IT\", \"LEN\", \"FL\", \"ARE\", \"ETFC\", \"WYN\", \"COO\", \"WYNN\", \"UDR\", \"TIF\", \"RJF\", \"LKQ\", \"EXPD\", \"HOG\", \"AJG\", \"FBHS\", \"SNA\", \"FRT\", \"FMC\", \"TSS\", \"KSU\", \"IPG\", \"PNW\", \"HRL\", \"SCG\", \"AKAM\", \"REG\", \"WU\", \"EXR\", \"URI\", \"XYL\", \"LNT\", \"GT\", \"AMG\", \"M\", \"SEE\", \"QRVO\", \"KIM\", \"VAR\", \"COTY\", \"IRM\", \"BFB\", \"TMK\", \"LUK\", \"MOS\", \"BWA\", \"FFIV\", \"TSCO\", \"ZION\", \"AMD\", \"VRSN\", \"NDAQ\", \"PVH\", \"JBHT\", \"HBI\", \"NI\", \"AYI\", \"AVY\", \"CBOE\", \"MAC\", \"ALLE\", \"AES\", \"MAT\", \"SRCL\", \"FLR\", \"LEG\", \"NFX\", \"KSS\", \"EVHC\", \"AIV\", \"JEC\", \"HP\", \"FLS\", \"PKI\", \"SNI\", \"PHM\", \"XRX\", \"KORS\", \"PBCT\", \"CF\", \"RHI\", \"GRMN\", \"AIZ\", \"JWN\", \"GPS\", \"DISCK\", \"PWR\", \"HRB\", \"TRIP\", \"FLIR\", \"RRC\", \"NWSA\", \"NRG\", \"SIG\", \"RL\", \"NAVI\", \"CHK\", \"CSRA\", \"DISCA\", \"UAA\", \"PDCO\", \"UA\", \"UBFUT\", \"NWS\", \"ESM\", \"INFO\", \"HLT\", \"ALGN\", \"ANSS\", \"RE\", \"DRE\", \"AOS\", \"PKG\", \"RMD\", \"MGM\", \"ANDV\", \"BHF\", \"Q\", \"SBAC\", \"CDNS\", \"NCLH\", \"HII\"]))\n",
    "\n",
    "# 2019/02/27 - [-30:]\n",
    "l = list(set([\"AAPL\", \"MSFT\", \"AMZN\", \"FB\", \"XOM\", \"JNJ\", \"BRKB\", \"JPM\", \"GOOGL\", \"GOOG\", \"GE\", \"WFC\", \"BAC\", \"T\", \"PG\", \"CVX\", \"PFE\", \"HD\", \"VZ\", \"CMCSA\", \"INTC\", \"MRK\", \"V\", \"PM\", \"CSCO\", \"KO\", \"C\", \"UNH\", \"DIS\", \"PEP\", \"MO\", \"IBM\", \"ORCL\", \"AMGN\", \"MMM\", \"MCD\", \"MDT\", \"WMT\", \"MA\", \"ABBV\", \"BA\", \"HON\", \"SLB\", \"CELG\", \"PCLN\", \"BMY\", \"UNP\", \"AVGO\", \"UTX\", \"SBUX\", \"GILD\", \"GS\", \"USB\", \"CVS\", \"AGN\", \"QCOM\", \"TXN\", \"COST\", \"LLY\", \"ABT\", \"ACN\", \"LOW\", \"UPS\", \"WBA\", \"NKE\", \"CHTR\", \"DOW\", \"MDLZ\", \"LMT\", \"NFLX\", \"ADBE\", \"TMO\", \"CB\", \"CL\", \"MS\", \"NEE\", \"NVDA\", \"AXP\", \"PNC\", \"CAT\", \"BIIB\", \"COP\", \"DUK\", \"AIG\", \"MET\", \"CRM\", \"GD\", \"PYPL\", \"AMT\", \"KHC\", \"SPG\", \"EOG\", \"TJX\", \"DHR\", \"BK\", \"SCHW\", \"SO\", \"D\", \"CSX\", \"ANTM\", \"BLK\", \"PRU\", \"FDX\", \"OXY\", \"RTN\", \"GM\", \"KMB\", \"AMAT\", \"ADP\", \"F\", \"ITW\", \"NOC\", \"BLKFDS\", \"SYK\", \"CI\", \"CME\", \"COF\", \"HAL\", \"BDX\", \"JCI\", \"KMI\", \"EMR\", \"MMC\", \"CTSH\", \"ATVI\", \"BSX\", \"ICE\", \"LUV\", \"PX\", \"BBT\", \"DAL\", \"PSX\", \"SPGI\", \"ETN\", \"NSC\", \"TRV\", \"CCI\", \"EBAY\", \"HUM\", \"AEP\", \"ECL\", \"EQIX\", \"GIS\", \"DE\", \"TGT\", \"HPQ\", \"AON\", \"EXC\", \"APD\", \"ISRG\", \"REGN\", \"ALL\", \"HPE\", \"PSA\", \"MAR\", \"INTU\", \"FOXA\", \"STT\", \"STZ\", \"AFL\", \"VRTX\", \"WM\", \"MCK\", \"ALXN\", \"VLO\", \"EA\", \"APC\", \"MU\", \"PXD\", \"STI\", \"PLD\", \"PPG\", \"SRE\", \"ADI\", \"ILMN\", \"ZTS\", \"FIS\", \"BAX\", \"KR\", \"SHW\", \"MPC\", \"LYB\", \"GLW\", \"TEL\", \"SYY\", \"CCL\", \"AVB\", \"PPL\", \"WDC\", \"EIX\", \"ROST\", \"FISV\", \"WMB\", \"HCN\", \"BHI\", \"WY\", \"CMI\", \"MTB\", \"LRCX\", \"ED\", \"ZBH\", \"HCA\", \"PCAR\", \"DFS\", \"CBS\", \"ADM\", \"EQR\", \"DLPH\", \"PGR\", \"EW\", \"IR\", \"YUM\", \"CAH\", \"ORLY\", \"XEL\", \"SYF\", \"AAL\", \"VTR\", \"PEG\", \"ROP\", \"APH\", \"DXC\", \"NWL\", \"IP\", \"PH\", \"UAL\", \"SWK\", \"INCY\", \"EL\", \"KEY\", \"DVN\", \"AMP\", \"AZO\", \"ROK\", \"MCO\", \"SYMC\", \"NTRS\", \"OMC\", \"DLTR\", \"CXO\", \"NUE\", \"BXP\", \"WEC\", \"FTV\", \"CERN\", \"CFG\", \"DG\", \"SWKS\", \"ES\", \"DTE\", \"PAYX\", \"APA\", \"FITB\", \"HIG\", \"RCL\", \"ADSK\", \"A\", \"MNST\", \"TSN\", \"DLR\", \"VFC\", \"PFG\", \"NEM\", \"TROW\", \"K\", \"WLTW\", \"RF\", \"MYL\", \"ULTA\", \"VMC\", \"CLX\", \"EXPE\", \"TAP\", \"EFX\", \"ESS\", \"MCHP\", \"VNO\", \"FCX\", \"O\", \"KLAC\", \"CAG\", \"XLNX\", \"RHT\", \"MLM\", \"HSY\", \"LNC\", \"DGX\", \"BEN\", \"SJM\", \"XRAY\", \"FTI\", \"MHK\", \"HCP\", \"RSG\", \"HBAN\", \"LH\", \"ADS\", \"MSI\", \"IDXX\", \"CTL\", \"BBY\", \"AWK\", \"USD\", \"HSIC\", \"ETR\", \"WHR\", \"WAT\", \"VIAB\", \"FOX\", \"NBL\", \"HRS\", \"CMG\", \"DISH\", \"AME\", \"NLSN\", \"GPC\", \"CTXS\", \"ABC\", \"WRK\", \"HST\", \"MTD\", \"BLL\", \"FAST\", \"LLL\", \"AEE\", \"IVZ\", \"L\", \"CNC\", \"NOV\", \"FE\", \"CMA\", \"CMS\", \"LB\", \"HES\", \"TXT\", \"MRO\", \"CHD\", \"HOLX\", \"STX\", \"GPN\", \"TDG\", \"ALB\", \"DOV\", \"CNP\", \"ARNC\", \"COH\", \"VRSK\", \"MAS\", \"COG\", \"JNPR\", \"EMN\", \"XEC\", \"MKC\", \"HAS\", \"SNPS\", \"MAA\", \"OKE\", \"DHI\", \"UHS\", \"IFF\", \"CPB\", \"KMX\", \"DRI\", \"NTAP\", \"PNR\", \"ALK\", \"UNM\", \"CBG\", \"CINF\", \"SLG\", \"CTAS\", \"AAP\", \"CHRW\", \"PRGO\", \"GWW\", \"DVA\", \"IT\", \"LEN\", \"FL\", \"ARE\", \"ETFC\", \"COO\", \"WYNN\", \"UDR\", \"TIF\", \"RJF\", \"LKQ\", \"EXPD\", \"HOG\", \"AJG\", \"FBHS\", \"SNA\", \"FRT\", \"FMC\", \"TSS\", \"KSU\", \"IPG\", \"PNW\", \"HRL\", \"AKAM\", \"REG\", \"WU\", \"EXR\", \"URI\", \"XYL\", \"LNT\", \"AMG\", \"M\", \"SEE\", \"QRVO\", \"KIM\", \"VAR\", \"COTY\", \"IRM\", \"BFB\", \"TMK\", \"LUK\", \"MOS\", \"BWA\", \"FFIV\", \"TSCO\", \"ZION\", \"AMD\", \"VRSN\", \"NDAQ\", \"PVH\", \"JBHT\", \"HBI\", \"NI\", \"AVY\", \"CBOE\", \"MAC\", \"ALLE\", \"AES\", \"MAT\", \"FLR\", \"LEG\", \"KSS\", \"AIV\", \"JEC\", \"HP\", \"FLS\", \"PKI\", \"PHM\", \"XRX\", \"KORS\", \"PBCT\", \"CF\", \"RHI\", \"GRMN\", \"AIZ\", \"JWN\", \"GPS\", \"DISCK\", \"PWR\", \"HRB\", \"TRIP\", \"FLIR\", \"NWSA\", \"NRG\", \"RL\", \"DISCA\", \"UAA\", \"UA\", \"UBFUT\", \"NWS\", \"ESM\", \"INFO\", \"HLT\", \"ALGN\", \"ANSS\", \"RE\", \"DRE\", \"AOS\", \"PKG\", \"RMD\", \"MGM\", \"BHF\", \"Q\", \"SBAC\", \"CDNS\", \"NCLH\", \"HII\", \"IPGP\", \"TTWO\", \"SIVB\", \"NKTR\", \"MSCI\", \"ABMD\", \"EVRG\", \"TWTR\", \"BR\", \"HFC\", \"FLT\", \"CPRT\", \"ANET\", \"WCG\", \"ROL\", \"FTNT\", \"KEYS\", \"JKHY\", \"LW\", \"MXIM\", \"FANG\", \"CE\", \"FRC\", \"TFX\", \"ATO\", \"WAB\"]))\n",
    "\n",
    "for d in x.index.levels[0][-30:]:\n",
    "    if 'added_ticker' in x.loc[pd.to_datetime(d),:].index:\n",
    "        added_stock_list = [s.upper() for s in x.loc[(pd.to_datetime(d), 'added_ticker'), 'value'].values]\n",
    "    else:\n",
    "        added_stock_list = []\n",
    "    \n",
    "    if 'removed_ticker' in x.loc[pd.to_datetime(d),:].index:\n",
    "        removed_stock_list = [s.upper() for s in x.loc[(pd.to_datetime(d), 'removed_ticker'), 'value'].values]\n",
    "    else:\n",
    "        removed_stock_list = []\n",
    "    \n",
    "    print(d)\n",
    "    print(len(l), ' + ', len(added_stock_list), ' - ', len(removed_stock_list), end='')\n",
    "\n",
    "    l = [x.upper() for x in (l + added_stock_list) if x not in removed_stock_list]\n",
    "    l = list(set(l))\n",
    "    \n",
    "    print(' = ', len(l))\n",
    "    \n",
    "    dictionary[d] = l"
   ]
  },
  {
   "cell_type": "markdown",
   "metadata": {},
   "source": [
    "### Get current S&P 500 composition\n",
    "**Context**: [S&P 500 Companies by Weight](https://www.slickcharts.com/sp500)\n",
    "\n",
    "Directly read the html from the webpage `https://www.slickcharts.com/sp500` does not work for your reference. After tested a couple of times, I realized we need to add the `user-agent` so that the webserver won't reject our request."
   ]
  },
  {
   "cell_type": "code",
   "execution_count": 332,
   "metadata": {
    "ExecuteTime": {
     "end_time": "2021-02-12T16:52:54.789602Z",
     "start_time": "2021-02-12T16:52:52.666797Z"
    },
    "scrolled": true
   },
   "outputs": [
    {
     "data": {
      "text/html": [
       "<div>\n",
       "<style scoped>\n",
       "    .dataframe tbody tr th:only-of-type {\n",
       "        vertical-align: middle;\n",
       "    }\n",
       "\n",
       "    .dataframe tbody tr th {\n",
       "        vertical-align: top;\n",
       "    }\n",
       "\n",
       "    .dataframe thead th {\n",
       "        text-align: right;\n",
       "    }\n",
       "</style>\n",
       "<table border=\"1\" class=\"dataframe\">\n",
       "  <thead>\n",
       "    <tr style=\"text-align: right;\">\n",
       "      <th></th>\n",
       "      <th>Company</th>\n",
       "      <th>Symbol</th>\n",
       "      <th>Weight</th>\n",
       "      <th>Price</th>\n",
       "      <th>Chg</th>\n",
       "      <th>% Chg</th>\n",
       "    </tr>\n",
       "    <tr>\n",
       "      <th>#</th>\n",
       "      <th></th>\n",
       "      <th></th>\n",
       "      <th></th>\n",
       "      <th></th>\n",
       "      <th></th>\n",
       "      <th></th>\n",
       "    </tr>\n",
       "  </thead>\n",
       "  <tbody>\n",
       "    <tr>\n",
       "      <th>1</th>\n",
       "      <td>Apple Inc.</td>\n",
       "      <td>AAPL</td>\n",
       "      <td>6.531168</td>\n",
       "      <td>134.43</td>\n",
       "      <td>-0.70</td>\n",
       "      <td>(-0.52%)</td>\n",
       "    </tr>\n",
       "    <tr>\n",
       "      <th>2</th>\n",
       "      <td>Microsoft Corporation</td>\n",
       "      <td>MSFT</td>\n",
       "      <td>5.590199</td>\n",
       "      <td>243.70</td>\n",
       "      <td>-0.79</td>\n",
       "      <td>(-0.32%)</td>\n",
       "    </tr>\n",
       "    <tr>\n",
       "      <th>3</th>\n",
       "      <td>Amazon.com Inc.</td>\n",
       "      <td>AMZN</td>\n",
       "      <td>4.207520</td>\n",
       "      <td>3253.37</td>\n",
       "      <td>-8.76</td>\n",
       "      <td>(-0.27%)</td>\n",
       "    </tr>\n",
       "    <tr>\n",
       "      <th>4</th>\n",
       "      <td>Facebook Inc. Class A</td>\n",
       "      <td>FB</td>\n",
       "      <td>1.965785</td>\n",
       "      <td>269.47</td>\n",
       "      <td>-0.92</td>\n",
       "      <td>(-0.34%)</td>\n",
       "    </tr>\n",
       "    <tr>\n",
       "      <th>5</th>\n",
       "      <td>Alphabet Inc. Class A</td>\n",
       "      <td>GOOGL</td>\n",
       "      <td>1.899114</td>\n",
       "      <td>2085.78</td>\n",
       "      <td>-2.97</td>\n",
       "      <td>(-0.14%)</td>\n",
       "    </tr>\n",
       "    <tr>\n",
       "      <th>...</th>\n",
       "      <td>...</td>\n",
       "      <td>...</td>\n",
       "      <td>...</td>\n",
       "      <td>...</td>\n",
       "      <td>...</td>\n",
       "      <td>...</td>\n",
       "    </tr>\n",
       "    <tr>\n",
       "      <th>501</th>\n",
       "      <td>Vontier Corp</td>\n",
       "      <td>VNT</td>\n",
       "      <td>0.013780</td>\n",
       "      <td>33.96</td>\n",
       "      <td>0.03</td>\n",
       "      <td>(0.09%)</td>\n",
       "    </tr>\n",
       "    <tr>\n",
       "      <th>502</th>\n",
       "      <td>Under Armour Inc. Class A</td>\n",
       "      <td>UAA</td>\n",
       "      <td>0.013064</td>\n",
       "      <td>22.72</td>\n",
       "      <td>-0.28</td>\n",
       "      <td>(-1.20%)</td>\n",
       "    </tr>\n",
       "    <tr>\n",
       "      <th>503</th>\n",
       "      <td>Xerox Holdings Corporation</td>\n",
       "      <td>XRX</td>\n",
       "      <td>0.011916</td>\n",
       "      <td>23.51</td>\n",
       "      <td>-0.07</td>\n",
       "      <td>(-0.30%)</td>\n",
       "    </tr>\n",
       "    <tr>\n",
       "      <th>504</th>\n",
       "      <td>Under Armour Inc. Class C</td>\n",
       "      <td>UA</td>\n",
       "      <td>0.011328</td>\n",
       "      <td>19.04</td>\n",
       "      <td>-0.17</td>\n",
       "      <td>(-0.88%)</td>\n",
       "    </tr>\n",
       "    <tr>\n",
       "      <th>505</th>\n",
       "      <td>News Corporation Class B</td>\n",
       "      <td>NWS</td>\n",
       "      <td>0.008475</td>\n",
       "      <td>23.27</td>\n",
       "      <td>0.30</td>\n",
       "      <td>(1.31%)</td>\n",
       "    </tr>\n",
       "  </tbody>\n",
       "</table>\n",
       "<p>505 rows × 6 columns</p>\n",
       "</div>"
      ],
      "text/plain": [
       "                        Company Symbol    Weight    Price   Chg     % Chg\n",
       "#                                                                        \n",
       "1                    Apple Inc.   AAPL  6.531168   134.43 -0.70  (-0.52%)\n",
       "2         Microsoft Corporation   MSFT  5.590199   243.70 -0.79  (-0.32%)\n",
       "3               Amazon.com Inc.   AMZN  4.207520  3253.37 -8.76  (-0.27%)\n",
       "4         Facebook Inc. Class A     FB  1.965785   269.47 -0.92  (-0.34%)\n",
       "5         Alphabet Inc. Class A  GOOGL  1.899114  2085.78 -2.97  (-0.14%)\n",
       "..                          ...    ...       ...      ...   ...       ...\n",
       "501                Vontier Corp    VNT  0.013780    33.96  0.03   (0.09%)\n",
       "502   Under Armour Inc. Class A    UAA  0.013064    22.72 -0.28  (-1.20%)\n",
       "503  Xerox Holdings Corporation    XRX  0.011916    23.51 -0.07  (-0.30%)\n",
       "504   Under Armour Inc. Class C     UA  0.011328    19.04 -0.17  (-0.88%)\n",
       "505    News Corporation Class B    NWS  0.008475    23.27  0.30   (1.31%)\n",
       "\n",
       "[505 rows x 6 columns]"
      ]
     },
     "execution_count": 332,
     "metadata": {},
     "output_type": "execute_result"
    }
   ],
   "source": [
    "_header = {\n",
    "    'authority': 'www.slickcharts.com',\n",
    "    'user-agent': 'Mozilla/5.0 (Macintosh; Intel Mac OS X 11_2_0) AppleWebKit/537.36 (KHTML, like Gecko) Chrome/88.0.4324.146 Safari/537.36'\n",
    "}\n",
    "req = requests.get('https://www.slickcharts.com/sp500', headers=_header)\n",
    "snp500_current = pd.read_html(req.content, index_col=0)\n",
    "snp500_current[0]"
   ]
  },
  {
   "cell_type": "markdown",
   "metadata": {},
   "source": [
    "### Exam the results when constructing the S&P 500 composition from history\n",
    "Let's examine the results now and compare them with the most updated list. We're going to use the python library `missingno` to find out what has been missing from the most updated composition."
   ]
  },
  {
   "cell_type": "code",
   "execution_count": 407,
   "metadata": {
    "ExecuteTime": {
     "end_time": "2021-02-14T18:17:53.457305Z",
     "start_time": "2021-02-14T18:17:53.360274Z"
    }
   },
   "outputs": [],
   "source": [
    "# In 2008/01/31\n",
    "a = ['PEAK', 'TROW', 'IBM', 'AWK', 'EQ', 'DHR', 'BDK', 'FOXA', 'TRMB', 'VFC', 'EXPD', 'EXR', 'LOW', 'CMCSA', 'UNP', 'HIG', 'UPS', 'DISCA', 'AMD', 'SBAC', 'DDR', 'FIS', 'OXY', 'JAVA', 'BA', 'PM', 'FLT', 'IDXX', 'DHI', 'WST', 'NCRA', 'ROK', 'MCD', 'TWTR', 'VRSN', 'FAST', 'FTNT', 'SHW', 'LKQ', 'MWV', 'NKE', 'EXPE', 'XRAY', 'ALGN', 'ED', 'JEC', 'KORS', 'QWST', 'LLY', 'BSC', 'INTU', 'CMS', 'IQV', 'PBG', 'MTD', 'GWW', 'HBI', 'HES', 'BK', 'XOM', 'MPC', 'BIIB', 'LEG', 'DVA', 'NSC', 'CCI', 'PH', 'WELL', 'NCLH', 'AVY', 'SBUX', 'MCO', 'MRO', 'ZBH', 'FNMA', 'HSIC', 'PSA', 'BMS', 'MWZ', 'XLNX', 'BKR', 'LUV', 'CBS', 'CCU', 'MDT', 'CLX', 'BBT', 'AME', 'BSX', 'MKC', 'OKE', 'BLK', 'MHFI', 'SAIC', 'BIO', 'IPG', 'GPS', 'ROL', 'NCC', 'PX', 'SEE', 'HAL', 'CAT', 'WYE', 'SLG', 'PKI', 'CTSH', 'RSG', 'CXO', 'ADP', 'KSU', 'ITW', 'VNT', 'ALD', 'KO', 'PNR', 'MTW', 'STX', 'SO', 'HRS', 'DC', 'SLBA', 'PAYX', 'ALB', 'ANSS', 'IEX', 'CTLT', 'ROP', 'GILD', 'CBG', 'AEE', 'NOW', 'ULTA', 'EFX', 'MKTX', 'CTL', 'ILMN', 'FBHS', 'BC', 'CDW', 'YUM', 'COG', 'WHR', 'LTR', 'NVDA', 'ATVI', 'NEM', 'EXC', 'MDP', 'RE', 'CSCO', 'LEN', 'QLG', 'INCO', 'GPC', 'MOS', 'LH', 'BGIXX', 'APA', 'KHC', 'RJF', 'ORLY', 'ZTS', 'WU', 'K', 'QCI', 'T', 'AVGO', 'CCL', 'DD', 'EW', 'TMK', 'CFC', 'WYNN', 'HCA', 'SWKS', 'UA', 'EQIX', 'DYNIQ', 'ABI', 'AEC', 'LYB', 'NWSA', 'DAL', 'MXIM', 'SPG', 'CCTYQ', 'VTR', 'DPZ', 'MU', 'LW', 'PRU', 'AVB', 'ANTM', 'ADSK', 'STT', 'DRE', 'JNJ', 'GDI', 'FMCC', 'PEG', 'DE', 'ATO', 'DG', 'MGM', 'UTX', 'EQR', 'CTXS', 'FE', 'BAX', 'PPG', 'NUE', 'GEC', 'IPGP', 'IAC', 'PPL', 'WPI', 'FITB', 'MLM', 'ECL', 'MMC', 'USB', 'UST', 'KMB', 'TEL', 'XYL', 'MHK', 'CE', 'SRE', 'AMT', 'CI', 'INFO', 'EIX', 'CVX', 'SIVB', 'JPM', 'OMX', 'SNA', 'WWY', 'PGR', 'TIF', 'FANG', 'APD', 'IRM', 'NDAQ', 'DUK', 'NFLX', 'EMR', 'LNT', 'MRK', 'FCX', 'SYK', 'SYY', 'CRM', 'TSCO', 'MSCI', 'ADI', 'DDS', 'BRK.B', 'IVZ', 'BXP', 'TDG', 'EKDKQ', 'EVRG', 'CNC', 'EA', 'VLO', 'IP', 'WAG', 'COST', 'AZO', 'NOV', 'BUD', 'DOW', 'EL', 'NEE', 'DXCM', 'HII', 'MS', 'NVR', 'LUK', 'ABKFQ', 'ABT', 'PYPL', 'VNO', 'UNS', 'ADM', 'FFIV', 'UAA', 'CITGQ', 'ABBV', 'FRC', 'WRB', 'HPC', 'FNP', 'SNPS', 'MXA', 'GOOGL', 'BMY', 'MDLZ', 'APH', 'QRVO', 'BKNG', 'O', 'SWG', 'KFT', 'FRT', 'TSLA', 'GRMN', 'NI', 'TYL', 'DTE', 'AAL', 'MTG', 'ALL', 'HFC', 'DISCK', 'ASH', 'FMC', 'EOG', 'AW', 'TDY', 'PRGO', 'MO', 'WY', 'HPE', 'NWS', 'KEY', 'D', 'ETN', 'RN', 'PFE', 'LTD', 'VAR', 'IR', 'RHI', 'KR', 'WAMUQ', 'PNW', 'HOLX', 'CINF', 'AG', 'UUM', 'ETR', 'WAT', 'NRG', 'TEX', 'ACN', 'USX', 'LOM', 'AKAM', 'AES', 'FLS', 'SYMC', 'AMGN', 'PWR', 'MOT', 'ABMD', 'TGT', 'CFG', 'FO', 'BDX', 'PXD', 'CL', 'SWK', 'ETSY', 'NTAP', 'AMCR', 'DGX', 'UHS', 'ZION', 'WMT', 'MNST', 'UAL', 'CSX', 'PBCT', 'AAP', 'ICE', 'ABC', 'V', 'HAS', 'RL', 'AON', 'SOV', 'DVN', 'FDX', 'TT', 'APTV', 'HPQ', 'TER', 'ROST', 'WEN', 'GIS', 'ENPH', 'IFF', 'POOL', 'ACS', 'CAG', 'TJX', 'CTX', 'CF', 'CARR', 'COH', 'FB', 'HD', 'NWL', 'GLW', 'PEP', 'XEL', 'KEYS', 'SSP', 'AJG', 'AMZN', 'LVS', 'WEC', 'AAZ', 'PCLN', 'ANET', 'AMP', 'BAC', 'NLSN', 'ADBE', 'MAA', 'AIZ', 'DISH', 'ISRG', 'OMC', 'WM', 'PFG', 'F', 'PCAR', 'MA', 'JBHT', 'KIM', 'ARE', 'EMN', 'REG', 'PNC', 'TMO', 'BLL', 'GD', 'COO', 'ALK', 'TXT', 'EDS', 'STZ', 'PAYC', 'PA', 'HUM', 'TSN', 'UNH', 'DLR', 'AEP', 'RSHCQ', 'HST', 'IT', 'CERN', 'BBY', 'TFX', 'ACE', 'INCY', 'OTIS', 'LYV', 'BRL', 'MMM', 'TXN', 'MYL', 'AMAT', 'MTLQQ', 'VMC', 'DIS', 'REGN', 'ZBRA', 'COF', 'MCHP', 'FOX', 'ESS', 'SCN', 'WFT', 'XRX', 'FTI', 'WMB', 'NTH', 'LNC', 'VRTX', 'SYF', 'PG', 'CTAS', 'STE', 'CPB', 'CHD', 'NTRS', 'CMI', 'PSX', 'MER', 'AOS', 'JNPR', 'CVS', 'DRI', 'FISV', 'MBI', 'CMG', 'WFC', 'CHTR', 'GS', 'MAS', 'PVH', 'HRL', 'KLAC', 'ALLE', 'ARNC', 'KMI', 'CTVA', 'MTZ', 'EBAY', 'BWA', 'SAF', 'UIS', 'GPN', 'WLTW', 'MCK', 'RCL', 'HLT', 'TAP', 'TYC', 'TSO', 'KMX', 'RMD', 'CDNS', 'JKHY', 'UDR', 'AIG', 'CHRW', 'CBOE', 'TMUS', 'ROH', 'DLPH', 'ORCL', 'A', 'WAB', 'URI', 'HBAN', 'BFB', 'COP', 'DXC', 'CPRT', 'SJM', 'LRCX', 'VZ', 'DLTR', 'TTWO', 'CMA', 'PKG', 'FTV', 'CAH', 'MSFT', 'BHI', 'BNI', 'CNP', 'FLIR', 'HSY', 'MAR', 'Q', 'LEHMQ', 'BEN', 'PHM', 'BR', 'GM', 'DOV', 'ALXN', 'ODFL', 'VRSK', 'CBH', 'WDC', 'AAPL', 'LDOS']\n",
    "\n",
    "# In 2018/01/03\n",
    "b = ['IBM', 'TROW', 'AWK', 'DHR', 'ES', 'FOXA', 'TRMB', 'VFC', 'EXPD', 'EXR', 'LOW', 'CMCSA', 'UNP', 'UPS', 'HIG', 'DISCA', 'AMD', 'SBAC', 'FIS', 'OXY', 'BA', 'PM', 'FLT', 'IDXX', 'DHI', 'WST', 'RF', 'ROK', 'MCD', 'TWTR', 'VRSN', 'FAST', 'FTNT', 'SHW', 'LKQ', 'NKE', 'EXPE', 'XRAY', 'ALGN', 'ED', 'JCI', 'JEC', 'KORS', 'LLY', 'INTU', 'CMS', 'MTD', 'GWW', 'HBI', 'BK', 'HES', 'XOM', 'MPC', 'BIIB', 'LEG', 'DVA', 'NSC', 'CCI', 'PH', 'NCLH', 'AVY', 'SBUX', 'MCO', 'MRO', 'ZBH', 'BLKFDS', 'HSIC', 'PSA', 'BMS', 'XLNX', 'LUV', 'MDT', 'CBS', 'CLX', 'BBT', 'AME', 'BSX', 'MKC', 'OKE', 'BLK', 'BIO', 'IPG', 'GPS', 'ROL', 'PX', 'SEE', 'HAL', 'CAT', 'SLG', 'PKI', 'CTSH', 'RSG', 'CXO', 'ADP', 'KSU', 'ITW', 'VNT', 'PNR', 'KO', 'STX', 'SO', 'HRS', 'PAYX', 'ALB', 'ANSS', 'IEX', 'CTLT', 'ROP', 'GILD', 'CBG', 'AEE', 'NOW', 'ULTA', 'EFX', 'MKTX', 'CTL', 'ILMN', 'SCHW', 'FBHS', 'CDW', 'YUM', 'COG', 'WHR', 'NVDA', 'ATVI', 'NEM', 'EXC', 'RE', 'CSCO', 'LEN', 'GPC', 'MOS', 'LH', 'KHC', 'APA', 'RJF', 'ORLY', 'ZTS', 'WU', 'K', 'T', 'AVGO', 'AXP', 'CCL', 'EW', 'TMK', 'DD', 'HCA', 'WYNN', 'SWKS', 'UA', 'EQIX', 'LYB', 'NWSA', 'DAL', 'MXIM', 'SPG', 'VTR', 'DPZ', 'MU', 'LW', 'PRU', 'AVB', 'ANTM', 'ADSK', 'STT', 'DRE', 'JNJ', 'GDI', 'PEG', 'DE', 'ATO', 'DG', 'MGM', 'UTX', 'EQR', 'CTXS', 'FE', 'BAX', 'TRV', 'PPG', 'NUE', 'WBA', 'IPGP', 'PPL', 'FITB', 'BRKB', 'MLM', 'UNM', 'ECL', 'MMC', 'USB', 'KMB', 'TEL', 'XYL', 'MHK', 'CE', 'HON', 'AMT', 'CI', 'SRE', 'CVX', 'EIX', 'INFO', 'SIVB', 'JPM', 'SNA', 'PGR', 'TIF', 'AFL', 'FANG', 'APD', 'IRM', 'NDAQ', 'DUK', 'NFLX', 'EMR', 'LNT', 'INTC', 'MRK', 'FCX', 'SYK', 'SYY', 'CRM', 'TSCO', 'MSCI', 'ADI', 'IVZ', 'BXP', 'TDG', 'EVRG', 'CNC', 'EA', 'VLO', 'IP', 'COST', 'AZO', 'NOV', 'DOW', 'EL', 'NEE', 'DXCM', 'HII', 'MS', 'NVR', 'LUK', 'ABT', 'PYPL', 'VNO', 'ADM', 'L', 'FFIV', 'UAA', 'ABBV', 'FRC', 'WRB', 'SNPS', 'GOOGL', 'BMY', 'MDLZ', 'APH', 'QRVO', 'O', 'NOC', 'FRT', 'MSI', 'TSLA', 'GRMN', 'NI', 'ESM', 'TYL', 'DTE', 'AAL', 'ALL', 'HFC', 'DISCK', 'FMC', 'EOG', 'TDY', 'PRGO', 'MO', 'WY', 'HCN', 'HPE', 'NWS', 'KEY', 'D', 'PFE', 'ETN', 'VAR', 'IR', 'RHI', 'KR', 'HOLX', 'PNW', 'CINF', 'ETR', 'WAT', 'NRG', 'ACN', 'FLS', 'AKAM', 'AES', 'SYMC', 'AMGN', 'PWR', 'ABMD', 'TGT', 'CFG', 'BDX', 'PXD', 'CL', 'SWK', 'ETSY', 'NTAP', 'GE', 'SLB', 'AMCR', 'DGX', 'WRK', 'UHS', 'ZION', 'WMT', 'MNST', 'UAL', 'CSX', 'PBCT', 'AAP', 'ICE', 'ABC', 'V', 'HAS', 'CB', 'RL', 'AON', 'DVN', 'FDX', 'UBFUT', 'HPQ', 'TER', 'ROST', 'LMT', 'GIS', 'ENPH', 'IFF', 'POOL', 'CAG', 'TJX', 'CF', 'CARR', 'USD', 'COH', 'FB', 'HD', 'NWL', 'GLW', 'PEP', 'XEL', 'KEYS', 'AJG', 'AMZN', 'LVS', 'WEC', 'PCLN', 'ANET', 'AMP', 'BAC', 'NLSN', 'ADBE', 'MAA', 'DISH', 'AIZ', 'ISRG', 'OMC', 'SPGI', 'WM', 'PFG', 'F', 'PCAR', 'MA', 'JBHT', 'KIM', 'ARE', 'EMN', 'REG', 'PNC', 'TMO', 'GD', 'BLL', 'COO', 'C', 'ALK', 'TXT', 'STZ', 'PAYC', 'HUM', 'TSN', 'UNH', 'DLR', 'AEP', 'TFX', 'HST', 'IT', 'CERN', 'BBY', 'INCY', 'OTIS', 'LYV', 'MMM', 'TXN', 'MYL', 'AMAT', 'GOOG', 'DIS', 'VMC', 'REGN', 'ZBRA', 'COF', 'MCHP', 'FOX', 'CME', 'ESS', 'XRX', 'FTI', 'WMB', 'LNC', 'VRTX', 'SYF', 'PG', 'CTAS', 'STE', 'CPB', 'CHD', 'CMI', 'NTRS', 'PSX', 'AOS', 'HCP', 'CVS', 'JNPR', 'DRI', 'FISV', 'CMG', 'WFC', 'CHTR', 'GS', 'MAS', 'PVH', 'HRL', 'KLAC', 'ARNC', 'ALLE', 'KMI', 'QCOM', 'CTVA', 'EBAY', 'BWA', 'GPN', 'WLTW', 'MCK', 'RCL', 'HLT', 'TAP', 'KMX', 'RMD', 'CDNS', 'JKHY', 'UDR', 'MTB', 'AIG', 'CHRW', 'CBOE', 'TMUS', 'DFS', 'DLPH', 'ORCL', 'A', 'WAB', 'MET', 'URI', 'HBAN', 'BFB', 'COP', 'DXC', 'CPRT', 'SJM', 'LRCX', 'VZ', 'DLTR', 'TTWO', 'CMA', 'PKG', 'FTV', 'CAH', 'MSFT', 'BHI', 'CNP', 'FLIR', 'HSY', 'MAR', 'PLD', 'Q', 'BEN', 'PHM', 'BR', 'LB', 'GM', 'DOV', 'ALXN', 'ODFL', 'VRSK', 'WDC', 'AAPL', 'LDOS']\n",
    "\n",
    "# In 2019/02/27\n",
    "c = ['IBM', 'TROW', 'AWK', 'DHR', 'ES', 'FOXA', 'TRMB', 'VFC', 'EXPD', 'EXR', 'LOW', 'CMCSA', 'UNP', 'UPS', 'HIG', 'DISCA', 'AMD', 'SBAC', 'FIS', 'OXY', 'BA', 'PM', 'FLT', 'IDXX', 'DHI', 'WST', 'RF', 'ROK', 'MCD', 'TWTR', 'VRSN', 'FAST', 'FTNT', 'SHW', 'LKQ', 'NKE', 'EXPE', 'XRAY', 'ALGN', 'ED', 'JCI', 'JEC', 'KORS', 'LLY', 'INTU', 'CMS', 'MTD', 'GWW', 'HBI', 'BK', 'HES', 'XOM', 'MPC', 'BIIB', 'LEG', 'DVA', 'NSC', 'CCI', 'PH', 'NCLH', 'AVY', 'SBUX', 'MCO', 'MRO', 'ZBH', 'BLKFDS', 'HSIC', 'PSA', 'BMS', 'XLNX', 'LUV', 'MDT', 'CBS', 'CLX', 'BBT', 'AME', 'BSX', 'MKC', 'OKE', 'BLK', 'BIO', 'IPG', 'GPS', 'ROL', 'PX', 'SEE', 'HAL', 'CAT', 'SLG', 'PKI', 'CTSH', 'RSG', 'CXO', 'ADP', 'KSU', 'ITW', 'VNT', 'PNR', 'KO', 'STX', 'SO', 'HRS', 'PAYX', 'ALB', 'ANSS', 'IEX', 'CTLT', 'ROP', 'GILD', 'CBG', 'AEE', 'NOW', 'ULTA', 'EFX', 'MKTX', 'CTL', 'ILMN', 'SCHW', 'FBHS', 'CDW', 'YUM', 'COG', 'WHR', 'NVDA', 'ATVI', 'NEM', 'EXC', 'RE', 'CSCO', 'LEN', 'GPC', 'MOS', 'LH', 'KHC', 'APA', 'RJF', 'ORLY', 'ZTS', 'WU', 'K', 'T', 'AVGO', 'AXP', 'CCL', 'EW', 'TMK', 'DD', 'HCA', 'WYNN', 'SWKS', 'UA', 'EQIX', 'LYB', 'NWSA', 'DAL', 'MXIM', 'SPG', 'VTR', 'DPZ', 'MU', 'LW', 'PRU', 'AVB', 'ANTM', 'ADSK', 'STT', 'DRE', 'JNJ', 'GDI', 'PEG', 'DE', 'ATO', 'DG', 'MGM', 'UTX', 'EQR', 'CTXS', 'FE', 'BAX', 'TRV', 'PPG', 'NUE', 'WBA', 'IPGP', 'PPL', 'FITB', 'BRKB', 'MLM', 'UNM', 'ECL', 'MMC', 'USB', 'KMB', 'TEL', 'XYL', 'MHK', 'CE', 'HON', 'AMT', 'CI', 'SRE', 'CVX', 'EIX', 'INFO', 'SIVB', 'JPM', 'SNA', 'PGR', 'TIF', 'AFL', 'FANG', 'APD', 'IRM', 'NDAQ', 'DUK', 'NFLX', 'EMR', 'LNT', 'INTC', 'MRK', 'FCX', 'SYK', 'SYY', 'CRM', 'TSCO', 'MSCI', 'ADI', 'IVZ', 'BXP', 'TDG', 'EVRG', 'CNC', 'EA', 'VLO', 'IP', 'COST', 'AZO', 'NOV', 'DOW', 'EL', 'NEE', 'DXCM', 'HII', 'MS', 'NVR', 'LUK', 'ABT', 'PYPL', 'VNO', 'ADM', 'L', 'FFIV', 'UAA', 'ABBV', 'FRC', 'WRB', 'SNPS', 'GOOGL', 'BMY', 'MDLZ', 'APH', 'QRVO', 'O', 'NOC', 'FRT', 'MSI', 'TSLA', 'GRMN', 'NI', 'ESM', 'TYL', 'DTE', 'AAL', 'ALL', 'HFC', 'DISCK', 'FMC', 'EOG', 'TDY', 'PRGO', 'MO', 'WY', 'HCN', 'HPE', 'NWS', 'KEY', 'D', 'PFE', 'ETN', 'VAR', 'IR', 'RHI', 'KR', 'HOLX', 'PNW', 'CINF', 'ETR', 'WAT', 'NRG', 'ACN', 'FLS', 'AKAM', 'AES', 'SYMC', 'AMGN', 'PWR', 'ABMD', 'TGT', 'CFG', 'BDX', 'PXD', 'CL', 'SWK', 'ETSY', 'NTAP', 'GE', 'SLB', 'AMCR', 'DGX', 'WRK', 'UHS', 'ZION', 'WMT', 'MNST', 'UAL', 'CSX', 'PBCT', 'AAP', 'ICE', 'ABC', 'V', 'HAS', 'CB', 'RL', 'AON', 'DVN', 'FDX', 'UBFUT', 'HPQ', 'TER', 'ROST', 'LMT', 'GIS', 'ENPH', 'IFF', 'POOL', 'CAG', 'TJX', 'CF', 'CARR', 'USD', 'COH', 'FB', 'HD', 'NWL', 'GLW', 'PEP', 'XEL', 'KEYS', 'AJG', 'AMZN', 'LVS', 'WEC', 'PCLN', 'ANET', 'AMP', 'BAC', 'NLSN', 'ADBE', 'MAA', 'DISH', 'AIZ', 'ISRG', 'OMC', 'SPGI', 'WM', 'PFG', 'F', 'PCAR', 'MA', 'JBHT', 'KIM', 'ARE', 'EMN', 'REG', 'PNC', 'TMO', 'GD', 'BLL', 'COO', 'C', 'ALK', 'TXT', 'STZ', 'PAYC', 'HUM', 'TSN', 'UNH', 'DLR', 'AEP', 'TFX', 'HST', 'IT', 'CERN', 'BBY', 'INCY', 'OTIS', 'LYV', 'MMM', 'TXN', 'MYL', 'AMAT', 'GOOG', 'DIS', 'VMC', 'REGN', 'ZBRA', 'COF', 'MCHP', 'FOX', 'CME', 'ESS', 'XRX', 'FTI', 'WMB', 'LNC', 'VRTX', 'SYF', 'PG', 'CTAS', 'STE', 'CPB', 'CHD', 'CMI', 'NTRS', 'PSX', 'AOS', 'HCP', 'CVS', 'JNPR', 'DRI', 'FISV', 'CMG', 'WFC', 'CHTR', 'GS', 'MAS', 'PVH', 'HRL', 'KLAC', 'ARNC', 'ALLE', 'KMI', 'QCOM', 'CTVA', 'EBAY', 'BWA', 'GPN', 'WLTW', 'MCK', 'RCL', 'HLT', 'TAP', 'KMX', 'RMD', 'CDNS', 'JKHY', 'UDR', 'MTB', 'AIG', 'CHRW', 'CBOE', 'TMUS', 'DFS', 'DLPH', 'ORCL', 'A', 'WAB', 'MET', 'URI', 'HBAN', 'BFB', 'COP', 'DXC', 'CPRT', 'SJM', 'LRCX', 'VZ', 'DLTR', 'TTWO', 'CMA', 'PKG', 'FTV', 'CAH', 'MSFT', 'BHI', 'CNP', 'FLIR', 'HSY', 'MAR', 'PLD', 'Q', 'BEN', 'PHM', 'BR', 'LB', 'GM', 'DOV', 'ALXN', 'ODFL', 'VRSK', 'WDC', 'AAPL', 'LDOS']\n",
    "\n",
    "adf = pd.DataFrame(a, index=a, columns=['ticker'])\n",
    "bdf = pd.DataFrame(b, index=b, columns=['ticker'])\n",
    "cdf = pd.DataFrame(c, index=c, columns=['ticker'])\n",
    "sp500df = pd.DataFrame(snp500_current[0].Symbol.to_list(), index=snp500_current[0].Symbol.to_list(), columns=['current'])\n",
    "\n",
    "compare = sp500df\n",
    "compare['2008'] = adf\n",
    "compare['2018'] = cdf\n",
    "compare['2019'] = bdf"
   ]
  },
  {
   "cell_type": "code",
   "execution_count": 408,
   "metadata": {
    "ExecuteTime": {
     "end_time": "2021-02-14T18:17:57.073279Z",
     "start_time": "2021-02-14T18:17:56.759444Z"
    },
    "scrolled": false
   },
   "outputs": [
    {
     "data": {
      "text/plain": [
       "<matplotlib.axes._subplots.AxesSubplot at 0x7fca9ad34910>"
      ]
     },
     "execution_count": 408,
     "metadata": {},
     "output_type": "execute_result"
    },
    {
     "data": {
      "image/png": "[encoded data removed]",
      "text/plain": [
       "<Figure size 1800x720 with 2 Axes>"
      ]
     },
     "metadata": {
      "needs_background": "light"
     },
     "output_type": "display_data"
    }
   ],
   "source": [
    "import missingno as msno\n",
    "msno.matrix(compare)"
   ]
  },
  {
   "cell_type": "markdown",
   "metadata": {},
   "source": [
    "**Conclusion**: \n",
    "\n",
    "Um..... This doesn't seem a good way to build our S&P 500 historic composition as there are many stocks missing compared to the current composition of the S&P 500."
   ]
  },
  {
   "cell_type": "markdown",
   "metadata": {},
   "source": [
    "---"
   ]
  },
  {
   "cell_type": "markdown",
   "metadata": {},
   "source": [
    "## Reverse: We construct the S&P 500 composition from present day to before"
   ]
  },
  {
   "cell_type": "markdown",
   "metadata": {},
   "source": [
    "### Let's build the composition of S&P 500 from bottom up"
   ]
  },
  {
   "cell_type": "code",
   "execution_count": 394,
   "metadata": {
    "ExecuteTime": {
     "end_time": "2021-02-14T16:21:19.972793Z",
     "start_time": "2021-02-14T16:21:19.796980Z"
    }
   },
   "outputs": [
    {
     "name": "stdout",
     "output_type": "stream",
     "text": [
      "2021-01-21 00:00:00\n",
      "505  +  0  -  1 =  504\n",
      "----------\n",
      "2021-01-07 00:00:00\n",
      "504  +  0  -  1 =  503\n",
      "----------\n",
      "2020-12-21 00:00:00\n",
      "503  +  1  -  1 =  503\n",
      "----------\n",
      "2020-10-12 00:00:00\n",
      "503  +  1  -  0 =  504\n",
      "----------\n",
      "2020-10-09 00:00:00\n",
      "504  +  0  -  1 =  503\n",
      "----------\n",
      "2020-10-07 00:00:00\n",
      "503  +  1  -  1 =  503\n",
      "----------\n",
      "2020-09-21 00:00:00\n",
      "503  +  3  -  3 =  503\n",
      "----------\n",
      "2020-06-22 00:00:00\n",
      "503  +  3  -  3 =  503\n",
      "----------\n",
      "2020-05-22 00:00:00\n",
      "503  +  1  -  1 =  503\n",
      "----------\n",
      "2020-05-12 00:00:00\n",
      "503  +  2  -  2 =  503\n",
      "----------\n",
      "2020-04-06 00:00:00\n",
      "503  +  2  -  0 =  505\n",
      "----------\n",
      "2020-04-03 00:00:00\n",
      "505  +  0  -  2 =  503\n",
      "----------\n",
      "2020-03-03 00:00:00\n",
      "503  +  1  -  2 =  503\n",
      "----------\n",
      "2020-01-28 00:00:00\n",
      "503  +  1  -  1 =  503\n",
      "----------\n",
      "2019-12-23 00:00:00\n",
      "503  +  3  -  3 =  503\n",
      "----------\n",
      "2019-12-09 00:00:00\n",
      "503  +  1  -  1 =  503\n",
      "----------\n",
      "2019-12-05 00:00:00\n",
      "503  +  1  -  1 =  503\n",
      "----------\n",
      "2019-11-21 00:00:00\n",
      "503  +  1  -  1 =  503\n",
      "----------\n",
      "2019-10-03 00:00:00\n",
      "503  +  1  -  1 =  503\n",
      "----------\n",
      "2019-09-26 00:00:00\n",
      "503  +  1  -  1 =  503\n",
      "----------\n",
      "2019-09-23 00:00:00\n",
      "503  +  1  -  1 =  503\n",
      "----------\n",
      "2019-08-09 00:00:00\n",
      "503  +  2  -  2 =  503\n",
      "----------\n",
      "2019-07-15 00:00:00\n",
      "503  +  1  -  1 =  503\n",
      "----------\n",
      "2019-07-01 00:00:00\n",
      "503  +  1  -  1 =  503\n",
      "----------\n",
      "2019-06-07 00:00:00\n",
      "503  +  1  -  2 =  503\n",
      "----------\n",
      "2019-06-03 00:00:00\n",
      "503  +  2  -  2 =  503\n",
      "----------\n",
      "2019-04-02 00:00:00\n",
      "503  +  1  -  2 =  503\n",
      "----------\n",
      "2019-04-01 00:00:00\n",
      "503  +  0  -  1 =  503\n",
      "----------\n",
      "2019-02-27 00:00:00\n",
      "503  +  1  -  1 =  503\n",
      "----------\n",
      "2019-02-15 00:00:00\n",
      "503  +  1  -  1 =  503\n",
      "----------\n",
      "2019-01-18 00:00:00\n",
      "503  +  1  -  1 =  503\n",
      "----------\n",
      "2019-01-02 00:00:00\n",
      "503  +  1  -  1 =  503\n",
      "----------\n",
      "2018-12-24 00:00:00\n",
      "503  +  1  -  1 =  503\n",
      "----------\n",
      "2018-12-03 00:00:00\n",
      "503  +  3  -  3 =  503\n",
      "----------\n",
      "2018-11-13 00:00:00\n",
      "503  +  1  -  1 =  503\n",
      "----------\n",
      "2018-11-06 00:00:00\n",
      "503  +  1  -  1 =  503\n",
      "----------\n",
      "2018-10-11 00:00:00\n",
      "503  +  1  -  1 =  503\n",
      "----------\n",
      "2018-10-01 00:00:00\n",
      "503  +  1  -  1 =  503\n",
      "----------\n",
      "2018-09-14 00:00:00\n",
      "503  +  1  -  1 =  503\n",
      "----------\n",
      "2018-08-28 00:00:00\n",
      "503  +  1  -  1 =  503\n",
      "----------\n",
      "2018-07-02 00:00:00\n",
      "503  +  1  -  1 =  503\n",
      "----------\n",
      "2018-06-20 00:00:00\n",
      "503  +  1  -  1 =  503\n",
      "----------\n",
      "2018-06-18 00:00:00\n",
      "503  +  2  -  2 =  503\n",
      "----------\n",
      "2018-06-07 00:00:00\n",
      "503  +  1  -  1 =  503\n",
      "----------\n",
      "2018-06-05 00:00:00\n",
      "503  +  1  -  1 =  503\n",
      "----------\n",
      "2018-05-31 00:00:00\n",
      "503  +  1  -  1 =  503\n",
      "----------\n",
      "2018-04-04 00:00:00\n",
      "503  +  1  -  1 =  503\n",
      "----------\n",
      "2018-03-19 00:00:00\n",
      "503  +  3  -  3 =  503\n",
      "----------\n",
      "2018-03-07 00:00:00\n",
      "503  +  1  -  1 =  503\n",
      "----------\n",
      "2018-01-03 00:00:00\n",
      "503  +  1  -  1 =  503\n",
      "----------\n"
     ]
    }
   ],
   "source": [
    "dictionary = {}\n",
    "# The latest S&P 500 composition (https://www.slickcharts.com/sp500)\n",
    "l = snp500_current[0].Symbol.to_list()\n",
    "\n",
    "for d in x.index.levels[0][:-51:-1]:\n",
    "    if 'added_ticker' in x.loc[pd.to_datetime(d),:].index:\n",
    "        removed_stock_list = [s.upper() for s in x.loc[(pd.to_datetime(d), 'added_ticker'), 'value'].values]\n",
    "    else:\n",
    "        removed_stock_list = []\n",
    "    \n",
    "    if 'removed_ticker' in x.loc[pd.to_datetime(d),:].index:\n",
    "        added_stock_list = [s.upper() for s in x.loc[(pd.to_datetime(d), 'removed_ticker'), 'value'].values]\n",
    "    else:\n",
    "        added_stock_list = []\n",
    "\n",
    "    print(d)\n",
    "    print(len(l), ' + ', len(added_stock_list), ' - ', len(removed_stock_list), end='')\n",
    "\n",
    "    l = [x.upper() for x in (l + added_stock_list) if x not in removed_stock_list]\n",
    "    l = list(set(l))\n",
    "    \n",
    "    print(' = ', len(l), end='\\n----------\\n')\n",
    "    \n",
    "    dictionary[d] = l"
   ]
  },
  {
   "cell_type": "markdown",
   "metadata": {},
   "source": [
    "And here's what we have:"
   ]
  },
  {
   "cell_type": "code",
   "execution_count": 420,
   "metadata": {
    "ExecuteTime": {
     "end_time": "2021-02-15T03:34:39.954684Z",
     "start_time": "2021-02-15T03:34:39.920394Z"
    }
   },
   "outputs": [
    {
     "data": {
      "text/html": [
       "<div>\n",
       "<style scoped>\n",
       "    .dataframe tbody tr th:only-of-type {\n",
       "        vertical-align: middle;\n",
       "    }\n",
       "\n",
       "    .dataframe tbody tr th {\n",
       "        vertical-align: top;\n",
       "    }\n",
       "\n",
       "    .dataframe thead th {\n",
       "        text-align: right;\n",
       "    }\n",
       "</style>\n",
       "<table border=\"1\" class=\"dataframe\">\n",
       "  <thead>\n",
       "    <tr style=\"text-align: right;\">\n",
       "      <th></th>\n",
       "      <th>ticker</th>\n",
       "      <th>num</th>\n",
       "    </tr>\n",
       "  </thead>\n",
       "  <tbody>\n",
       "    <tr>\n",
       "      <th>2021-01-21</th>\n",
       "      <td>[PEAK, IBM, TROW, AWK, DHR, ES, FOXA, MPWR, VF...</td>\n",
       "      <td>504</td>\n",
       "    </tr>\n",
       "    <tr>\n",
       "      <th>2021-01-07</th>\n",
       "      <td>[PEAK, IBM, TROW, AWK, DHR, ES, FOXA, MPWR, VF...</td>\n",
       "      <td>503</td>\n",
       "    </tr>\n",
       "    <tr>\n",
       "      <th>2020-12-21</th>\n",
       "      <td>[PEAK, IBM, TROW, AWK, DHR, ES, FOXA, MPWR, VF...</td>\n",
       "      <td>503</td>\n",
       "    </tr>\n",
       "    <tr>\n",
       "      <th>2020-10-12</th>\n",
       "      <td>[PEAK, IBM, TROW, AWK, DHR, ES, FOXA, MPWR, VF...</td>\n",
       "      <td>504</td>\n",
       "    </tr>\n",
       "    <tr>\n",
       "      <th>2020-10-09</th>\n",
       "      <td>[PEAK, IBM, TROW, AWK, DHR, ES, FOXA, MPWR, VF...</td>\n",
       "      <td>503</td>\n",
       "    </tr>\n",
       "  </tbody>\n",
       "</table>\n",
       "</div>"
      ],
      "text/plain": [
       "                                                       ticker  num\n",
       "2021-01-21  [PEAK, IBM, TROW, AWK, DHR, ES, FOXA, MPWR, VF...  504\n",
       "2021-01-07  [PEAK, IBM, TROW, AWK, DHR, ES, FOXA, MPWR, VF...  503\n",
       "2020-12-21  [PEAK, IBM, TROW, AWK, DHR, ES, FOXA, MPWR, VF...  503\n",
       "2020-10-12  [PEAK, IBM, TROW, AWK, DHR, ES, FOXA, MPWR, VF...  504\n",
       "2020-10-09  [PEAK, IBM, TROW, AWK, DHR, ES, FOXA, MPWR, VF...  503"
      ]
     },
     "execution_count": 420,
     "metadata": {},
     "output_type": "execute_result"
    }
   ],
   "source": [
    "e = pd.DataFrame([dictionary], index=['ticker']).T\n",
    "e['num'] = e.apply(lambda x: len(x['ticker']), axis=1)\n",
    "e.head()"
   ]
  },
  {
   "cell_type": "markdown",
   "metadata": {},
   "source": [
    "By looking at the total number of the composition of S&P 500, the number stays in the range of around 500 very consistently. Hence, this method seems much more reliable than our previous method.\n",
    "\n",
    "As the last step to wrap up this session, we're going to slightly reorganize the data we have acquired and make it more intuitive to check and to utilize."
   ]
  },
  {
   "cell_type": "markdown",
   "metadata": {},
   "source": [
    "---"
   ]
  },
  {
   "cell_type": "markdown",
   "metadata": {},
   "source": [
    "## How to build your historic S&P 500 composition\n",
    "Let's define the scaffold of the DataFrame we're going to use by defining:\n",
    "1. start date\n",
    "2. end date\n",
    "3. then constructing the `DatetimeIndex` from the start date and end date\n",
    "4. build the DataFrame scaffold"
   ]
  },
  {
   "cell_type": "code",
   "execution_count": 395,
   "metadata": {
    "ExecuteTime": {
     "end_time": "2021-02-14T16:21:36.088013Z",
     "start_time": "2021-02-14T16:21:36.084892Z"
    }
   },
   "outputs": [],
   "source": [
    "START_DATE = '2018-1-1'\n",
    "END_DATE = (datetime.datetime.now() - datetime.timedelta(days=1)).strftime('%Y-%m-%d')"
   ]
  },
  {
   "cell_type": "code",
   "execution_count": 422,
   "metadata": {
    "ExecuteTime": {
     "end_time": "2021-02-15T04:29:56.615549Z",
     "start_time": "2021-02-15T04:29:56.593669Z"
    }
   },
   "outputs": [
    {
     "data": {
      "text/plain": [
       "DatetimeIndex(['2018-01-01', '2018-01-02', '2018-01-03', '2018-01-04',\n",
       "               '2018-01-05', '2018-01-08', '2018-01-09', '2018-01-10',\n",
       "               '2018-01-11', '2018-01-12',\n",
       "               ...\n",
       "               '2021-02-01', '2021-02-02', '2021-02-03', '2021-02-04',\n",
       "               '2021-02-05', '2021-02-08', '2021-02-09', '2021-02-10',\n",
       "               '2021-02-11', '2021-02-12'],\n",
       "              dtype='datetime64[ns]', length=815, freq='B')"
      ]
     },
     "execution_count": 422,
     "metadata": {},
     "output_type": "execute_result"
    }
   ],
   "source": [
    "# Use 'B' to find the dates that are business days\n",
    "pd.date_range(START_DATE,END_DATE, freq = 'B')"
   ]
  },
  {
   "cell_type": "code",
   "execution_count": 397,
   "metadata": {
    "ExecuteTime": {
     "end_time": "2021-02-14T16:21:40.671697Z",
     "start_time": "2021-02-14T16:21:40.654668Z"
    }
   },
   "outputs": [],
   "source": [
    "# Business Day\n",
    "test = pd.DataFrame(index=pd.date_range(START_DATE,END_DATE, freq = 'B'))\n",
    "\n",
    "# business month start frequency\n",
    "# test = pd.DataFrame(index=pd.date_range(START_DATE,END_DATE, freq = 'BMS'))"
   ]
  },
  {
   "cell_type": "code",
   "execution_count": 421,
   "metadata": {
    "ExecuteTime": {
     "end_time": "2021-02-15T03:36:18.052813Z",
     "start_time": "2021-02-15T03:36:17.743425Z"
    }
   },
   "outputs": [
    {
     "data": {
      "text/html": [
       "<div>\n",
       "<style scoped>\n",
       "    .dataframe tbody tr th:only-of-type {\n",
       "        vertical-align: middle;\n",
       "    }\n",
       "\n",
       "    .dataframe tbody tr th {\n",
       "        vertical-align: top;\n",
       "    }\n",
       "\n",
       "    .dataframe thead th {\n",
       "        text-align: right;\n",
       "    }\n",
       "</style>\n",
       "<table border=\"1\" class=\"dataframe\">\n",
       "  <thead>\n",
       "    <tr style=\"text-align: right;\">\n",
       "      <th></th>\n",
       "      <th></th>\n",
       "      <th>num</th>\n",
       "    </tr>\n",
       "    <tr>\n",
       "      <th>index</th>\n",
       "      <th>ticker</th>\n",
       "      <th></th>\n",
       "    </tr>\n",
       "  </thead>\n",
       "  <tbody>\n",
       "    <tr>\n",
       "      <th rowspan=\"5\" valign=\"top\">2018-01-03</th>\n",
       "      <th>A</th>\n",
       "      <td>503</td>\n",
       "    </tr>\n",
       "    <tr>\n",
       "      <th>AAL</th>\n",
       "      <td>503</td>\n",
       "    </tr>\n",
       "    <tr>\n",
       "      <th>AAP</th>\n",
       "      <td>503</td>\n",
       "    </tr>\n",
       "    <tr>\n",
       "      <th>AAPL</th>\n",
       "      <td>503</td>\n",
       "    </tr>\n",
       "    <tr>\n",
       "      <th>ABBV</th>\n",
       "      <td>503</td>\n",
       "    </tr>\n",
       "    <tr>\n",
       "      <th>...</th>\n",
       "      <th>...</th>\n",
       "      <td>...</td>\n",
       "    </tr>\n",
       "    <tr>\n",
       "      <th rowspan=\"5\" valign=\"top\">2021-02-12</th>\n",
       "      <th>YUM</th>\n",
       "      <td>504</td>\n",
       "    </tr>\n",
       "    <tr>\n",
       "      <th>ZBH</th>\n",
       "      <td>504</td>\n",
       "    </tr>\n",
       "    <tr>\n",
       "      <th>ZBRA</th>\n",
       "      <td>504</td>\n",
       "    </tr>\n",
       "    <tr>\n",
       "      <th>ZION</th>\n",
       "      <td>504</td>\n",
       "    </tr>\n",
       "    <tr>\n",
       "      <th>ZTS</th>\n",
       "      <td>504</td>\n",
       "    </tr>\n",
       "  </tbody>\n",
       "</table>\n",
       "<p>409058 rows × 1 columns</p>\n",
       "</div>"
      ],
      "text/plain": [
       "                   num\n",
       "index      ticker     \n",
       "2018-01-03 A       503\n",
       "           AAL     503\n",
       "           AAP     503\n",
       "           AAPL    503\n",
       "           ABBV    503\n",
       "...                ...\n",
       "2021-02-12 YUM     504\n",
       "           ZBH     504\n",
       "           ZBRA    504\n",
       "           ZION    504\n",
       "           ZTS     504\n",
       "\n",
       "[409058 rows x 1 columns]"
      ]
     },
     "execution_count": 421,
     "metadata": {},
     "output_type": "execute_result"
    }
   ],
   "source": [
    "test['ticker'] = pd.DataFrame([dictionary]).T\n",
    "z = test.ffill().dropna()\n",
    "z['num'] = z.apply(lambda x: len(x['ticker']), axis=1)\n",
    "z.explode('ticker').reset_index().sort_values(['index', 'ticker']).set_index(['index', 'ticker'])"
   ]
  },
  {
   "cell_type": "markdown",
   "metadata": {},
   "source": [
    "Done! Now we can concat or merge any data such as close price or any other fundamental data."
   ]
  },
  {
   "cell_type": "markdown",
   "metadata": {},
   "source": [
    "---"
   ]
  },
  {
   "cell_type": "markdown",
   "metadata": {},
   "source": [
    "## Reference\n",
    "- [The S&P 500 Historical Components & Changes](https://analyzingalpha.com/sp500-historical-components-and-changes)\n",
    "- [List of S&P 500 companies - Wikipedia](https://en.wikipedia.org/wiki/List_of_S%26P_500_companies)\n",
    "- [S&P 500 Companies by Weight](https://www.slickcharts.com/sp500)\n",
    "- [Some other people prepared this json file of S&P 500 historic composition](https://gist.github.com/kafkasl/078f2c65c4299d367b57c9835b34c333)"
   ]
  },
  {
   "cell_type": "markdown",
   "metadata": {},
   "source": [
    "*PS: You need VPN to access the Wikipedia page*"
   ]
  },
  {
   "cell_type": "code",
   "execution_count": null,
   "metadata": {},
   "outputs": [],
   "source": []
  }
 ],
 "metadata": {
  "kernelspec": {
   "display_name": "Python 3.7.7 64-bit ('quant': conda)",
   "language": "python",
   "name": "python37764bitquantconda130da1f8350c44caaea6a82e21a3556d"
  },
  "language_info": {
   "codemirror_mode": {
    "name": "ipython",
    "version": 3
   },
   "file_extension": ".py",
   "mimetype": "text/x-python",
   "name": "python",
   "nbconvert_exporter": "python",
   "pygments_lexer": "ipython3",
   "version": "3.7.7"
  },
  "toc": {
   "base_numbering": 1,
   "nav_menu": {},
   "number_sections": true,
   "sideBar": true,
   "skip_h1_title": true,
   "title_cell": "Table of Contents",
   "title_sidebar": "Contents",
   "toc_cell": true,
   "toc_position": {},
   "toc_section_display": true,
   "toc_window_display": false
  },
  "varInspector": {
   "cols": {
    "lenName": 16,
    "lenType": 16,
    "lenVar": 40
   },
   "kernels_config": {
    "python": {
     "delete_cmd_postfix": "",
     "delete_cmd_prefix": "del ",
     "library": "var_list.py",
     "varRefreshCmd": "print(var_dic_list())"
    },
    "r": {
     "delete_cmd_postfix": ") ",
     "delete_cmd_prefix": "rm(",
     "library": "var_list.r",
     "varRefreshCmd": "cat(var_dic_list()) "
    }
   },
   "types_to_exclude": [
    "module",
    "function",
    "builtin_function_or_method",
    "instance",
    "_Feature"
   ],
   "window_display": false
  }
 },
 "nbformat": 4,
 "nbformat_minor": 4
}
