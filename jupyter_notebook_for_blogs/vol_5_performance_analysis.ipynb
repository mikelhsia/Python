{
 "cells": [
  {
   "cell_type": "markdown",
   "metadata": {},
   "source": [
    "# Vol. 5. Performance analysis"
   ]
  },
  {
   "cell_type": "markdown",
   "metadata": {
    "toc": true
   },
   "source": [
    "<h1>Table of Contents<span class=\"tocSkip\"></span></h1>\n",
    "<div class=\"toc\"><ul class=\"toc-item\"><li><span><a href=\"#Strategy\" data-toc-modified-id=\"Strategy-1\"><span class=\"toc-item-num\">1&nbsp;&nbsp;</span>Strategy</a></span><ul class=\"toc-item\"><li><span><a href=\"#Using-the-updated-S&amp;P-500-composition-over-time\" data-toc-modified-id=\"Using-the-updated-S&amp;P-500-composition-over-time-1.1\"><span class=\"toc-item-num\">1.1&nbsp;&nbsp;</span>Using the updated S&amp;P 500 composition over time</a></span></li><li><span><a href=\"#Get-groups\" data-toc-modified-id=\"Get-groups-1.2\"><span class=\"toc-item-num\">1.2&nbsp;&nbsp;</span>Get groups</a></span></li><li><span><a href=\"#Pick-the-stocks-with-the-highest-score-in-each-group\" data-toc-modified-id=\"Pick-the-stocks-with-the-highest-score-in-each-group-1.3\"><span class=\"toc-item-num\">1.3&nbsp;&nbsp;</span>Pick the stocks with the highest score in each group</a></span></li></ul></li><li><span><a href=\"#Performance-analysis\" data-toc-modified-id=\"Performance-analysis-2\"><span class=\"toc-item-num\">2&nbsp;&nbsp;</span>Performance analysis</a></span><ul class=\"toc-item\"><li><span><a href=\"#Use-cumulative-sum-to-compared-with-benchmark-performance\" data-toc-modified-id=\"Use-cumulative-sum-to-compared-with-benchmark-performance-2.1\"><span class=\"toc-item-num\">2.1&nbsp;&nbsp;</span>Use cumulative sum to compared with benchmark performance</a></span></li><li><span><a href=\"#Plot-the-lineplot-with-seaborn-library\" data-toc-modified-id=\"Plot-the-lineplot-with-seaborn-library-2.2\"><span class=\"toc-item-num\">2.2&nbsp;&nbsp;</span>Plot the lineplot with seaborn library</a></span></li><li><span><a href=\"#Portfolio-sharpe-ratio\" data-toc-modified-id=\"Portfolio-sharpe-ratio-2.3\"><span class=\"toc-item-num\">2.3&nbsp;&nbsp;</span>Portfolio sharpe ratio</a></span></li><li><span><a href=\"#Portfolio-Win-Rate\" data-toc-modified-id=\"Portfolio-Win-Rate-2.4\"><span class=\"toc-item-num\">2.4&nbsp;&nbsp;</span>Portfolio Win Rate</a></span></li><li><span><a href=\"#Conclusion\" data-toc-modified-id=\"Conclusion-2.5\"><span class=\"toc-item-num\">2.5&nbsp;&nbsp;</span>Conclusion</a></span></li></ul></li><li><span><a href=\"#Final-words\" data-toc-modified-id=\"Final-words-3\"><span class=\"toc-item-num\">3&nbsp;&nbsp;</span>Final words</a></span></li></ul></div>"
   ]
  },
  {
   "cell_type": "markdown",
   "metadata": {},
   "source": [
    "## Strategy\n",
    "Reference: [【分享】多因子指数增强](https://www.joinquant.com/view/community/detail/8c60c343407d41b09def615c52c8693d?type=1#%E5%9B%9B%E3%80%81%E5%9B%A0%E5%AD%90%E5%A4%9A%E9%87%8D%E5%85%B1%E7%BA%BF%E6%80%A7%E7%9A%84%E5%A4%84%E7%90%86)\n",
    "\n",
    "\n",
    "1. The central idea of this strategy is to track the performance of the S&P 500 index by buying stocks from every industry sector. \n",
    "2. On top of that, we need to avoid the scenario of `survivor bias` which using the same stock set over time. Here is where we get the update S&P 500 index composition from: [【How 2】 Vol. 4. How to produce the S&P 500 Historical Components & Changes](https://mikelhsia.github.io/2021/02/15/2021-02-15-how2-snp500-historic-composition/).\n",
    "2. Regroup the stocks into three groups by market cap in each industry. \n",
    "  - We're going to use `sector` instead of `sicCode` to be our category as the number of sicCode is more than 100 and the number of `sector` is 14.\n",
    "3. Calculate the total weight of each group accounted for the total weight in the original S&P 500 index\n",
    "4. Pick the highest score in each group. Then we make its weight equal to the weight we got in step 3. So that we can sample the original S&P 500 index composition with higher quality."
   ]
  },
  {
   "cell_type": "markdown",
   "metadata": {},
   "source": [
    "### Using the updated S&P 500 composition over time\n",
    "Instead of using the same stock throughout our backtest period, we use the S&P 500 scaffolding we built in the post earlier. Think about this, `Tesla` has been added to S&P 500 index on December 21st, but `Tesla`'s stock price has been skyrocketing for months before that. If we're sticking with our strategy stated previously, we wouldn't be able to long `Tesla` as it is not in the S&P 500 index composition until December 21st, 2020. \n",
    "\n",
    "Therefore, use the current S&P 500 index composition to run this backtest from 2018, we would purchase `Tesla` early, which, we don't even know whether `Tesla` is a company going to invent this disruptive innovation/technology. It's crucial to make sure you avoid this `survivor bias` when you conduct the factor analysis research."
   ]
  },
  {
   "cell_type": "code",
   "execution_count": 162,
   "metadata": {
    "ExecuteTime": {
     "end_time": "2021-03-01T02:26:11.929974Z",
     "start_time": "2021-03-01T02:26:06.094560Z"
    }
   },
   "outputs": [],
   "source": [
    "adjusted_portfolio = snp_scaffolding.copy()\n",
    "adjusted_portfolio['sector'] = prepared_df['sector']\n",
    "adjusted_portfolio['score'] = prepared_df['SCORE']\n",
    "adjusted_portfolio['log_rtn'] = prepared_df['log_rtn']\n",
    "adjusted_portfolio['rtn'] = prepared_df['rtn']\n",
    "adjusted_portfolio['log_rtn'] = prepared_df['log_rtn']\n",
    "adjusted_portfolio['marketCap'] = prepared_df['marketCap']\n",
    "\n",
    "# Get industry weight\n",
    "adjusted_portfolio['capWeight'] = adjusted_portfolio.groupby('date')['marketCap'].apply(lambda x:x/x.sum())\n",
    "adjusted_portfolio['weighted_rtn'] = adjusted_portfolio['capWeight'] * adjusted_portfolio['log_rtn']\n",
    "\n",
    "adjusted_portfolio.dropna(inplace=True)"
   ]
  },
  {
   "cell_type": "code",
   "execution_count": 163,
   "metadata": {
    "ExecuteTime": {
     "end_time": "2021-03-01T02:26:13.459946Z",
     "start_time": "2021-03-01T02:26:13.435334Z"
    }
   },
   "outputs": [
    {
     "data": {
      "text/html": [
       "<div>\n",
       "<style scoped>\n",
       "    .dataframe tbody tr th:only-of-type {\n",
       "        vertical-align: middle;\n",
       "    }\n",
       "\n",
       "    .dataframe tbody tr th {\n",
       "        vertical-align: top;\n",
       "    }\n",
       "\n",
       "    .dataframe thead th {\n",
       "        text-align: right;\n",
       "    }\n",
       "</style>\n",
       "<table border=\"1\" class=\"dataframe\">\n",
       "  <thead>\n",
       "    <tr style=\"text-align: right;\">\n",
       "      <th></th>\n",
       "      <th></th>\n",
       "      <th>sector</th>\n",
       "      <th>score</th>\n",
       "      <th>log_rtn</th>\n",
       "      <th>rtn</th>\n",
       "      <th>marketCap</th>\n",
       "      <th>capWeight</th>\n",
       "      <th>weighted_rtn</th>\n",
       "    </tr>\n",
       "    <tr>\n",
       "      <th>date</th>\n",
       "      <th>ticker</th>\n",
       "      <th></th>\n",
       "      <th></th>\n",
       "      <th></th>\n",
       "      <th></th>\n",
       "      <th></th>\n",
       "      <th></th>\n",
       "      <th></th>\n",
       "    </tr>\n",
       "  </thead>\n",
       "  <tbody>\n",
       "    <tr>\n",
       "      <th rowspan=\"5\" valign=\"top\">2020-04-01 00:00:00+00:00</th>\n",
       "      <th>a</th>\n",
       "      <td>Healthcare</td>\n",
       "      <td>0.123935</td>\n",
       "      <td>-0.038428</td>\n",
       "      <td>-0.037699</td>\n",
       "      <td>2.122544e+10</td>\n",
       "      <td>0.001031</td>\n",
       "      <td>-0.000040</td>\n",
       "    </tr>\n",
       "    <tr>\n",
       "      <th>aal</th>\n",
       "      <td>Industrials</td>\n",
       "      <td>-0.661694</td>\n",
       "      <td>-0.131307</td>\n",
       "      <td>-0.123052</td>\n",
       "      <td>4.554568e+09</td>\n",
       "      <td>0.000221</td>\n",
       "      <td>-0.000029</td>\n",
       "    </tr>\n",
       "    <tr>\n",
       "      <th>aapl</th>\n",
       "      <td>Technology</td>\n",
       "      <td>1.054552</td>\n",
       "      <td>-0.054052</td>\n",
       "      <td>-0.052617</td>\n",
       "      <td>1.047572e+12</td>\n",
       "      <td>0.050862</td>\n",
       "      <td>-0.002749</td>\n",
       "    </tr>\n",
       "    <tr>\n",
       "      <th>abbv</th>\n",
       "      <td>Healthcare</td>\n",
       "      <td>0.559987</td>\n",
       "      <td>-0.037034</td>\n",
       "      <td>-0.036356</td>\n",
       "      <td>1.043679e+11</td>\n",
       "      <td>0.005067</td>\n",
       "      <td>-0.000188</td>\n",
       "    </tr>\n",
       "    <tr>\n",
       "      <th>abc</th>\n",
       "      <td>Healthcare</td>\n",
       "      <td>0.244697</td>\n",
       "      <td>-0.025984</td>\n",
       "      <td>-0.025650</td>\n",
       "      <td>1.752496e+10</td>\n",
       "      <td>0.000851</td>\n",
       "      <td>-0.000022</td>\n",
       "    </tr>\n",
       "    <tr>\n",
       "      <th>...</th>\n",
       "      <th>...</th>\n",
       "      <td>...</td>\n",
       "      <td>...</td>\n",
       "      <td>...</td>\n",
       "      <td>...</td>\n",
       "      <td>...</td>\n",
       "      <td>...</td>\n",
       "      <td>...</td>\n",
       "    </tr>\n",
       "    <tr>\n",
       "      <th rowspan=\"5\" valign=\"top\">2021-01-20 00:00:00+00:00</th>\n",
       "      <th>yum</th>\n",
       "      <td>Consumer Cyclical</td>\n",
       "      <td>-0.661477</td>\n",
       "      <td>0.018635</td>\n",
       "      <td>0.018810</td>\n",
       "      <td>3.239614e+10</td>\n",
       "      <td>0.000969</td>\n",
       "      <td>0.000018</td>\n",
       "    </tr>\n",
       "    <tr>\n",
       "      <th>zbh</th>\n",
       "      <td>Healthcare</td>\n",
       "      <td>-0.215117</td>\n",
       "      <td>0.021832</td>\n",
       "      <td>0.022072</td>\n",
       "      <td>3.315003e+10</td>\n",
       "      <td>0.000991</td>\n",
       "      <td>0.000022</td>\n",
       "    </tr>\n",
       "    <tr>\n",
       "      <th>zbra</th>\n",
       "      <td>Technology</td>\n",
       "      <td>-0.521714</td>\n",
       "      <td>0.001748</td>\n",
       "      <td>0.001749</td>\n",
       "      <td>2.163793e+10</td>\n",
       "      <td>0.000647</td>\n",
       "      <td>0.000001</td>\n",
       "    </tr>\n",
       "    <tr>\n",
       "      <th>zion</th>\n",
       "      <td>Financial Services</td>\n",
       "      <td>0.266265</td>\n",
       "      <td>-0.021101</td>\n",
       "      <td>-0.020880</td>\n",
       "      <td>8.090692e+09</td>\n",
       "      <td>0.000242</td>\n",
       "      <td>-0.000005</td>\n",
       "    </tr>\n",
       "    <tr>\n",
       "      <th>zts</th>\n",
       "      <td>Healthcare</td>\n",
       "      <td>-0.280524</td>\n",
       "      <td>0.004848</td>\n",
       "      <td>0.004859</td>\n",
       "      <td>7.726429e+10</td>\n",
       "      <td>0.002310</td>\n",
       "      <td>0.000011</td>\n",
       "    </tr>\n",
       "  </tbody>\n",
       "</table>\n",
       "<p>99553 rows × 7 columns</p>\n",
       "</div>"
      ],
      "text/plain": [
       "                                              sector     score   log_rtn  \\\n",
       "date                      ticker                                           \n",
       "2020-04-01 00:00:00+00:00 a               Healthcare  0.123935 -0.038428   \n",
       "                          aal            Industrials -0.661694 -0.131307   \n",
       "                          aapl            Technology  1.054552 -0.054052   \n",
       "                          abbv            Healthcare  0.559987 -0.037034   \n",
       "                          abc             Healthcare  0.244697 -0.025984   \n",
       "...                                              ...       ...       ...   \n",
       "2021-01-20 00:00:00+00:00 yum      Consumer Cyclical -0.661477  0.018635   \n",
       "                          zbh             Healthcare -0.215117  0.021832   \n",
       "                          zbra            Technology -0.521714  0.001748   \n",
       "                          zion    Financial Services  0.266265 -0.021101   \n",
       "                          zts             Healthcare -0.280524  0.004848   \n",
       "\n",
       "                                       rtn     marketCap  capWeight  \\\n",
       "date                      ticker                                      \n",
       "2020-04-01 00:00:00+00:00 a      -0.037699  2.122544e+10   0.001031   \n",
       "                          aal    -0.123052  4.554568e+09   0.000221   \n",
       "                          aapl   -0.052617  1.047572e+12   0.050862   \n",
       "                          abbv   -0.036356  1.043679e+11   0.005067   \n",
       "                          abc    -0.025650  1.752496e+10   0.000851   \n",
       "...                                    ...           ...        ...   \n",
       "2021-01-20 00:00:00+00:00 yum     0.018810  3.239614e+10   0.000969   \n",
       "                          zbh     0.022072  3.315003e+10   0.000991   \n",
       "                          zbra    0.001749  2.163793e+10   0.000647   \n",
       "                          zion   -0.020880  8.090692e+09   0.000242   \n",
       "                          zts     0.004859  7.726429e+10   0.002310   \n",
       "\n",
       "                                  weighted_rtn  \n",
       "date                      ticker                \n",
       "2020-04-01 00:00:00+00:00 a          -0.000040  \n",
       "                          aal        -0.000029  \n",
       "                          aapl       -0.002749  \n",
       "                          abbv       -0.000188  \n",
       "                          abc        -0.000022  \n",
       "...                                        ...  \n",
       "2021-01-20 00:00:00+00:00 yum         0.000018  \n",
       "                          zbh         0.000022  \n",
       "                          zbra        0.000001  \n",
       "                          zion       -0.000005  \n",
       "                          zts         0.000011  \n",
       "\n",
       "[99553 rows x 7 columns]"
      ]
     },
     "execution_count": 163,
     "metadata": {},
     "output_type": "execute_result"
    }
   ],
   "source": [
    "adjusted_portfolio"
   ]
  },
  {
   "cell_type": "markdown",
   "metadata": {},
   "source": [
    "### Get groups\n",
    "\n",
    "Let's start grouping the stock by market cap. We use `pd.cut(data, bins=N, labels=[])` function to label each stock by group 1~3"
   ]
  },
  {
   "cell_type": "code",
   "execution_count": 164,
   "metadata": {
    "ExecuteTime": {
     "end_time": "2021-03-01T02:26:14.801472Z",
     "start_time": "2021-03-01T02:26:14.796926Z"
    }
   },
   "outputs": [],
   "source": [
    "def get_group(ser:pd.Series,N:int=3,ascend:bool=True)->pd.Series:\n",
    "    # Split the stocks into 3 groups, ascendingly\n",
    "    ranks = ser.rank(ascending=ascend)\n",
    "    label = ['G'+str(i) for i in range(1,N + 1)]\n",
    "    \n",
    "    return pd.cut(ranks,bins=N,labels=label) "
   ]
  },
  {
   "cell_type": "code",
   "execution_count": 165,
   "metadata": {
    "ExecuteTime": {
     "end_time": "2021-03-01T02:26:22.058797Z",
     "start_time": "2021-03-01T02:26:15.998812Z"
    }
   },
   "outputs": [],
   "source": [
    "group_c = [\n",
    "    pd.Grouper(level='date'),\n",
    "    pd.Grouper(key='sector')\n",
    "]\n",
    "\n",
    "adjusted_portfolio['group'] = adjusted_portfolio.groupby(group_c)['marketCap'].apply(lambda x:get_group(x, 3))"
   ]
  },
  {
   "cell_type": "code",
   "execution_count": 166,
   "metadata": {
    "ExecuteTime": {
     "end_time": "2021-03-01T02:26:23.296555Z",
     "start_time": "2021-03-01T02:26:23.268992Z"
    }
   },
   "outputs": [
    {
     "data": {
      "text/html": [
       "<div>\n",
       "<style scoped>\n",
       "    .dataframe tbody tr th:only-of-type {\n",
       "        vertical-align: middle;\n",
       "    }\n",
       "\n",
       "    .dataframe tbody tr th {\n",
       "        vertical-align: top;\n",
       "    }\n",
       "\n",
       "    .dataframe thead th {\n",
       "        text-align: right;\n",
       "    }\n",
       "</style>\n",
       "<table border=\"1\" class=\"dataframe\">\n",
       "  <thead>\n",
       "    <tr style=\"text-align: right;\">\n",
       "      <th></th>\n",
       "      <th></th>\n",
       "      <th>sector</th>\n",
       "      <th>score</th>\n",
       "      <th>log_rtn</th>\n",
       "      <th>rtn</th>\n",
       "      <th>marketCap</th>\n",
       "      <th>capWeight</th>\n",
       "      <th>weighted_rtn</th>\n",
       "      <th>group</th>\n",
       "    </tr>\n",
       "    <tr>\n",
       "      <th>date</th>\n",
       "      <th>ticker</th>\n",
       "      <th></th>\n",
       "      <th></th>\n",
       "      <th></th>\n",
       "      <th></th>\n",
       "      <th></th>\n",
       "      <th></th>\n",
       "      <th></th>\n",
       "      <th></th>\n",
       "    </tr>\n",
       "  </thead>\n",
       "  <tbody>\n",
       "    <tr>\n",
       "      <th rowspan=\"5\" valign=\"top\">2020-04-01 00:00:00+00:00</th>\n",
       "      <th>a</th>\n",
       "      <td>Healthcare</td>\n",
       "      <td>0.123935</td>\n",
       "      <td>-0.038428</td>\n",
       "      <td>-0.037699</td>\n",
       "      <td>2.122544e+10</td>\n",
       "      <td>0.001031</td>\n",
       "      <td>-0.000040</td>\n",
       "      <td>G2</td>\n",
       "    </tr>\n",
       "    <tr>\n",
       "      <th>aal</th>\n",
       "      <td>Industrials</td>\n",
       "      <td>-0.661694</td>\n",
       "      <td>-0.131307</td>\n",
       "      <td>-0.123052</td>\n",
       "      <td>4.554568e+09</td>\n",
       "      <td>0.000221</td>\n",
       "      <td>-0.000029</td>\n",
       "      <td>G1</td>\n",
       "    </tr>\n",
       "    <tr>\n",
       "      <th>aapl</th>\n",
       "      <td>Technology</td>\n",
       "      <td>1.054552</td>\n",
       "      <td>-0.054052</td>\n",
       "      <td>-0.052617</td>\n",
       "      <td>1.047572e+12</td>\n",
       "      <td>0.050862</td>\n",
       "      <td>-0.002749</td>\n",
       "      <td>G3</td>\n",
       "    </tr>\n",
       "    <tr>\n",
       "      <th>abbv</th>\n",
       "      <td>Healthcare</td>\n",
       "      <td>0.559987</td>\n",
       "      <td>-0.037034</td>\n",
       "      <td>-0.036356</td>\n",
       "      <td>1.043679e+11</td>\n",
       "      <td>0.005067</td>\n",
       "      <td>-0.000188</td>\n",
       "      <td>G3</td>\n",
       "    </tr>\n",
       "    <tr>\n",
       "      <th>abc</th>\n",
       "      <td>Healthcare</td>\n",
       "      <td>0.244697</td>\n",
       "      <td>-0.025984</td>\n",
       "      <td>-0.025650</td>\n",
       "      <td>1.752496e+10</td>\n",
       "      <td>0.000851</td>\n",
       "      <td>-0.000022</td>\n",
       "      <td>G1</td>\n",
       "    </tr>\n",
       "    <tr>\n",
       "      <th>...</th>\n",
       "      <th>...</th>\n",
       "      <td>...</td>\n",
       "      <td>...</td>\n",
       "      <td>...</td>\n",
       "      <td>...</td>\n",
       "      <td>...</td>\n",
       "      <td>...</td>\n",
       "      <td>...</td>\n",
       "      <td>...</td>\n",
       "    </tr>\n",
       "    <tr>\n",
       "      <th rowspan=\"5\" valign=\"top\">2021-01-20 00:00:00+00:00</th>\n",
       "      <th>yum</th>\n",
       "      <td>Consumer Cyclical</td>\n",
       "      <td>-0.661477</td>\n",
       "      <td>0.018635</td>\n",
       "      <td>0.018810</td>\n",
       "      <td>3.239614e+10</td>\n",
       "      <td>0.000969</td>\n",
       "      <td>0.000018</td>\n",
       "      <td>G3</td>\n",
       "    </tr>\n",
       "    <tr>\n",
       "      <th>zbh</th>\n",
       "      <td>Healthcare</td>\n",
       "      <td>-0.215117</td>\n",
       "      <td>0.021832</td>\n",
       "      <td>0.022072</td>\n",
       "      <td>3.315003e+10</td>\n",
       "      <td>0.000991</td>\n",
       "      <td>0.000022</td>\n",
       "      <td>G2</td>\n",
       "    </tr>\n",
       "    <tr>\n",
       "      <th>zbra</th>\n",
       "      <td>Technology</td>\n",
       "      <td>-0.521714</td>\n",
       "      <td>0.001748</td>\n",
       "      <td>0.001749</td>\n",
       "      <td>2.163793e+10</td>\n",
       "      <td>0.000647</td>\n",
       "      <td>0.000001</td>\n",
       "      <td>G1</td>\n",
       "    </tr>\n",
       "    <tr>\n",
       "      <th>zion</th>\n",
       "      <td>Financial Services</td>\n",
       "      <td>0.266265</td>\n",
       "      <td>-0.021101</td>\n",
       "      <td>-0.020880</td>\n",
       "      <td>8.090692e+09</td>\n",
       "      <td>0.000242</td>\n",
       "      <td>-0.000005</td>\n",
       "      <td>G1</td>\n",
       "    </tr>\n",
       "    <tr>\n",
       "      <th>zts</th>\n",
       "      <td>Healthcare</td>\n",
       "      <td>-0.280524</td>\n",
       "      <td>0.004848</td>\n",
       "      <td>0.004859</td>\n",
       "      <td>7.726429e+10</td>\n",
       "      <td>0.002310</td>\n",
       "      <td>0.000011</td>\n",
       "      <td>G3</td>\n",
       "    </tr>\n",
       "  </tbody>\n",
       "</table>\n",
       "<p>99553 rows × 8 columns</p>\n",
       "</div>"
      ],
      "text/plain": [
       "                                              sector     score   log_rtn  \\\n",
       "date                      ticker                                           \n",
       "2020-04-01 00:00:00+00:00 a               Healthcare  0.123935 -0.038428   \n",
       "                          aal            Industrials -0.661694 -0.131307   \n",
       "                          aapl            Technology  1.054552 -0.054052   \n",
       "                          abbv            Healthcare  0.559987 -0.037034   \n",
       "                          abc             Healthcare  0.244697 -0.025984   \n",
       "...                                              ...       ...       ...   \n",
       "2021-01-20 00:00:00+00:00 yum      Consumer Cyclical -0.661477  0.018635   \n",
       "                          zbh             Healthcare -0.215117  0.021832   \n",
       "                          zbra            Technology -0.521714  0.001748   \n",
       "                          zion    Financial Services  0.266265 -0.021101   \n",
       "                          zts             Healthcare -0.280524  0.004848   \n",
       "\n",
       "                                       rtn     marketCap  capWeight  \\\n",
       "date                      ticker                                      \n",
       "2020-04-01 00:00:00+00:00 a      -0.037699  2.122544e+10   0.001031   \n",
       "                          aal    -0.123052  4.554568e+09   0.000221   \n",
       "                          aapl   -0.052617  1.047572e+12   0.050862   \n",
       "                          abbv   -0.036356  1.043679e+11   0.005067   \n",
       "                          abc    -0.025650  1.752496e+10   0.000851   \n",
       "...                                    ...           ...        ...   \n",
       "2021-01-20 00:00:00+00:00 yum     0.018810  3.239614e+10   0.000969   \n",
       "                          zbh     0.022072  3.315003e+10   0.000991   \n",
       "                          zbra    0.001749  2.163793e+10   0.000647   \n",
       "                          zion   -0.020880  8.090692e+09   0.000242   \n",
       "                          zts     0.004859  7.726429e+10   0.002310   \n",
       "\n",
       "                                  weighted_rtn group  \n",
       "date                      ticker                      \n",
       "2020-04-01 00:00:00+00:00 a          -0.000040    G2  \n",
       "                          aal        -0.000029    G1  \n",
       "                          aapl       -0.002749    G3  \n",
       "                          abbv       -0.000188    G3  \n",
       "                          abc        -0.000022    G1  \n",
       "...                                        ...   ...  \n",
       "2021-01-20 00:00:00+00:00 yum         0.000018    G3  \n",
       "                          zbh         0.000022    G2  \n",
       "                          zbra        0.000001    G1  \n",
       "                          zion       -0.000005    G1  \n",
       "                          zts         0.000011    G3  \n",
       "\n",
       "[99553 rows x 8 columns]"
      ]
     },
     "execution_count": 166,
     "metadata": {},
     "output_type": "execute_result"
    }
   ],
   "source": [
    "adjusted_portfolio"
   ]
  },
  {
   "cell_type": "markdown",
   "metadata": {},
   "source": [
    "### Pick the stocks with the highest score in each group"
   ]
  },
  {
   "cell_type": "code",
   "execution_count": 167,
   "metadata": {
    "ExecuteTime": {
     "end_time": "2021-03-01T02:26:26.519939Z",
     "start_time": "2021-03-01T02:26:24.546047Z"
    }
   },
   "outputs": [],
   "source": [
    "group_c2 = [\n",
    "    pd.Grouper(level='date'),\n",
    "    pd.Grouper(key='sector'),\n",
    "    pd.Grouper(key='group')\n",
    "]\n",
    "\n",
    "final_portfolio = adjusted_portfolio.groupby(group_c2)['score'].apply(lambda x: x.idxmax()[1])"
   ]
  },
  {
   "cell_type": "code",
   "execution_count": 168,
   "metadata": {
    "ExecuteTime": {
     "end_time": "2021-03-01T02:26:27.942279Z",
     "start_time": "2021-03-01T02:26:27.925402Z"
    }
   },
   "outputs": [
    {
     "data": {
      "text/plain": [
       "date                       sector                  group\n",
       "2020-04-01 00:00:00+00:00  Basic Materials         G1        fcx\n",
       "                                                   G2        iff\n",
       "                                                   G3         dd\n",
       "                           Communication Services  G1       lumn\n",
       "                                                   G2          t\n",
       "                                                            ... \n",
       "2021-01-20 00:00:00+00:00  Technology              G2       twtr\n",
       "                                                   G3        amd\n",
       "                           Utilities               G1       evrg\n",
       "                                                   G2        aes\n",
       "                                                   G3        aep\n",
       "Name: score, Length: 6699, dtype: object"
      ]
     },
     "execution_count": 168,
     "metadata": {},
     "output_type": "execute_result"
    }
   ],
   "source": [
    "final_portfolio"
   ]
  },
  {
   "cell_type": "code",
   "execution_count": 169,
   "metadata": {
    "ExecuteTime": {
     "end_time": "2021-03-01T02:26:29.427693Z",
     "start_time": "2021-03-01T02:26:29.236842Z"
    }
   },
   "outputs": [],
   "source": [
    "# Readjust the format\n",
    "final_portfolio = final_portfolio.reset_index()\n",
    "final_portfolio = final_portfolio.set_index(['date', 'score'])\n",
    "final_portfolio.index.names = ['date', 'ticker']\n",
    "\n",
    "final_portfolio['rtn'] = adjusted_portfolio['rtn']\n",
    "final_portfolio['log_rtn'] = adjusted_portfolio['log_rtn']\n",
    "final_portfolio['weight'] = adjusted_portfolio['capWeight']\n",
    "\n",
    "# Make the total weight equal to 1\n",
    "final_portfolio['w'] = final_portfolio.groupby(\n",
    "    level='date'\n",
    ")['weight'].transform(\n",
    "    lambda x: x / x.sum()\n",
    ")\n",
    "\n",
    "final_portfolio['weighted_rtn'] = final_portfolio['w'] * final_portfolio['log_rtn']"
   ]
  },
  {
   "cell_type": "code",
   "execution_count": 170,
   "metadata": {
    "ExecuteTime": {
     "end_time": "2021-03-01T02:26:30.817365Z",
     "start_time": "2021-03-01T02:26:30.723563Z"
    }
   },
   "outputs": [
    {
     "data": {
      "text/html": [
       "<div>\n",
       "<style scoped>\n",
       "    .dataframe tbody tr th:only-of-type {\n",
       "        vertical-align: middle;\n",
       "    }\n",
       "\n",
       "    .dataframe tbody tr th {\n",
       "        vertical-align: top;\n",
       "    }\n",
       "\n",
       "    .dataframe thead th {\n",
       "        text-align: right;\n",
       "    }\n",
       "</style>\n",
       "<table border=\"1\" class=\"dataframe\">\n",
       "  <thead>\n",
       "    <tr style=\"text-align: right;\">\n",
       "      <th></th>\n",
       "      <th></th>\n",
       "      <th>sector</th>\n",
       "      <th>group</th>\n",
       "      <th>rtn</th>\n",
       "      <th>log_rtn</th>\n",
       "      <th>weight</th>\n",
       "      <th>w</th>\n",
       "      <th>weighted_rtn</th>\n",
       "    </tr>\n",
       "    <tr>\n",
       "      <th>date</th>\n",
       "      <th>ticker</th>\n",
       "      <th></th>\n",
       "      <th></th>\n",
       "      <th></th>\n",
       "      <th></th>\n",
       "      <th></th>\n",
       "      <th></th>\n",
       "      <th></th>\n",
       "    </tr>\n",
       "  </thead>\n",
       "  <tbody>\n",
       "    <tr>\n",
       "      <th rowspan=\"5\" valign=\"top\">2020-04-01 00:00:00+00:00</th>\n",
       "      <th>fcx</th>\n",
       "      <td>Basic Materials</td>\n",
       "      <td>G1</td>\n",
       "      <td>-0.065185</td>\n",
       "      <td>-0.067407</td>\n",
       "      <td>0.000445</td>\n",
       "      <td>0.007991</td>\n",
       "      <td>-0.000539</td>\n",
       "    </tr>\n",
       "    <tr>\n",
       "      <th>iff</th>\n",
       "      <td>Basic Materials</td>\n",
       "      <td>G2</td>\n",
       "      <td>-0.013225</td>\n",
       "      <td>-0.013313</td>\n",
       "      <td>0.000512</td>\n",
       "      <td>0.009207</td>\n",
       "      <td>-0.000123</td>\n",
       "    </tr>\n",
       "    <tr>\n",
       "      <th>dd</th>\n",
       "      <td>Basic Materials</td>\n",
       "      <td>G3</td>\n",
       "      <td>-0.046334</td>\n",
       "      <td>-0.047442</td>\n",
       "      <td>0.001149</td>\n",
       "      <td>0.020651</td>\n",
       "      <td>-0.000980</td>\n",
       "    </tr>\n",
       "    <tr>\n",
       "      <th>lumn</th>\n",
       "      <td>Communication Services</td>\n",
       "      <td>G1</td>\n",
       "      <td>-0.070825</td>\n",
       "      <td>-0.073458</td>\n",
       "      <td>0.000433</td>\n",
       "      <td>0.007784</td>\n",
       "      <td>-0.000572</td>\n",
       "    </tr>\n",
       "    <tr>\n",
       "      <th>t</th>\n",
       "      <td>Communication Services</td>\n",
       "      <td>G2</td>\n",
       "      <td>-0.037736</td>\n",
       "      <td>-0.038466</td>\n",
       "      <td>0.009104</td>\n",
       "      <td>0.163664</td>\n",
       "      <td>-0.006296</td>\n",
       "    </tr>\n",
       "    <tr>\n",
       "      <th>...</th>\n",
       "      <th>...</th>\n",
       "      <td>...</td>\n",
       "      <td>...</td>\n",
       "      <td>...</td>\n",
       "      <td>...</td>\n",
       "      <td>...</td>\n",
       "      <td>...</td>\n",
       "      <td>...</td>\n",
       "    </tr>\n",
       "    <tr>\n",
       "      <th rowspan=\"5\" valign=\"top\">2021-01-20 00:00:00+00:00</th>\n",
       "      <th>twtr</th>\n",
       "      <td>Technology</td>\n",
       "      <td>G2</td>\n",
       "      <td>0.036360</td>\n",
       "      <td>0.035714</td>\n",
       "      <td>0.001092</td>\n",
       "      <td>0.015781</td>\n",
       "      <td>0.000564</td>\n",
       "    </tr>\n",
       "    <tr>\n",
       "      <th>amd</th>\n",
       "      <td>Technology</td>\n",
       "      <td>G3</td>\n",
       "      <td>-0.007826</td>\n",
       "      <td>-0.007856</td>\n",
       "      <td>0.003217</td>\n",
       "      <td>0.046474</td>\n",
       "      <td>-0.000365</td>\n",
       "    </tr>\n",
       "    <tr>\n",
       "      <th>evrg</th>\n",
       "      <td>Utilities</td>\n",
       "      <td>G1</td>\n",
       "      <td>0.009554</td>\n",
       "      <td>0.009509</td>\n",
       "      <td>0.000362</td>\n",
       "      <td>0.005231</td>\n",
       "      <td>0.000050</td>\n",
       "    </tr>\n",
       "    <tr>\n",
       "      <th>aes</th>\n",
       "      <td>Utilities</td>\n",
       "      <td>G2</td>\n",
       "      <td>-0.001426</td>\n",
       "      <td>-0.001427</td>\n",
       "      <td>0.000558</td>\n",
       "      <td>0.008062</td>\n",
       "      <td>-0.000012</td>\n",
       "    </tr>\n",
       "    <tr>\n",
       "      <th>aep</th>\n",
       "      <td>Utilities</td>\n",
       "      <td>G3</td>\n",
       "      <td>0.000496</td>\n",
       "      <td>0.000495</td>\n",
       "      <td>0.001198</td>\n",
       "      <td>0.017307</td>\n",
       "      <td>0.000009</td>\n",
       "    </tr>\n",
       "  </tbody>\n",
       "</table>\n",
       "<p>6699 rows × 7 columns</p>\n",
       "</div>"
      ],
      "text/plain": [
       "                                                  sector group       rtn  \\\n",
       "date                      ticker                                           \n",
       "2020-04-01 00:00:00+00:00 fcx            Basic Materials    G1 -0.065185   \n",
       "                          iff            Basic Materials    G2 -0.013225   \n",
       "                          dd             Basic Materials    G3 -0.046334   \n",
       "                          lumn    Communication Services    G1 -0.070825   \n",
       "                          t       Communication Services    G2 -0.037736   \n",
       "...                                                  ...   ...       ...   \n",
       "2021-01-20 00:00:00+00:00 twtr                Technology    G2  0.036360   \n",
       "                          amd                 Technology    G3 -0.007826   \n",
       "                          evrg                 Utilities    G1  0.009554   \n",
       "                          aes                  Utilities    G2 -0.001426   \n",
       "                          aep                  Utilities    G3  0.000496   \n",
       "\n",
       "                                   log_rtn    weight         w  weighted_rtn  \n",
       "date                      ticker                                              \n",
       "2020-04-01 00:00:00+00:00 fcx    -0.067407  0.000445  0.007991     -0.000539  \n",
       "                          iff    -0.013313  0.000512  0.009207     -0.000123  \n",
       "                          dd     -0.047442  0.001149  0.020651     -0.000980  \n",
       "                          lumn   -0.073458  0.000433  0.007784     -0.000572  \n",
       "                          t      -0.038466  0.009104  0.163664     -0.006296  \n",
       "...                                    ...       ...       ...           ...  \n",
       "2021-01-20 00:00:00+00:00 twtr    0.035714  0.001092  0.015781      0.000564  \n",
       "                          amd    -0.007856  0.003217  0.046474     -0.000365  \n",
       "                          evrg    0.009509  0.000362  0.005231      0.000050  \n",
       "                          aes    -0.001427  0.000558  0.008062     -0.000012  \n",
       "                          aep     0.000495  0.001198  0.017307      0.000009  \n",
       "\n",
       "[6699 rows x 7 columns]"
      ]
     },
     "execution_count": 170,
     "metadata": {},
     "output_type": "execute_result"
    }
   ],
   "source": [
    "final_portfolio.to_csv('/Users/michael/Desktop/portfolio.csv')\n",
    "final_portfolio"
   ]
  },
  {
   "cell_type": "code",
   "execution_count": 171,
   "metadata": {
    "ExecuteTime": {
     "end_time": "2021-03-01T02:26:32.146217Z",
     "start_time": "2021-03-01T02:26:32.140077Z"
    }
   },
   "outputs": [
    {
     "data": {
      "text/plain": [
       "33"
      ]
     },
     "execution_count": 171,
     "metadata": {},
     "output_type": "execute_result"
    }
   ],
   "source": [
    "len(final_portfolio.loc[pd.to_datetime('2020-12-18'), :])"
   ]
  },
  {
   "cell_type": "markdown",
   "metadata": {},
   "source": [
    "This is what our final portfolio looks like! Each day, we have one stock picked from the big, medium, small-cap from each sector, which total 33 stocks per day. Now let's start to evaluate the performance against the benchmark."
   ]
  },
  {
   "cell_type": "markdown",
   "metadata": {},
   "source": [
    "## Performance analysis"
   ]
  },
  {
   "cell_type": "markdown",
   "metadata": {},
   "source": [
    "### Use cumulative sum to compared with benchmark performance"
   ]
  },
  {
   "cell_type": "code",
   "execution_count": 172,
   "metadata": {
    "ExecuteTime": {
     "end_time": "2021-03-01T02:26:33.666264Z",
     "start_time": "2021-03-01T02:26:33.490536Z"
    }
   },
   "outputs": [
    {
     "data": {
      "text/html": [
       "<div>\n",
       "<style scoped>\n",
       "    .dataframe tbody tr th:only-of-type {\n",
       "        vertical-align: middle;\n",
       "    }\n",
       "\n",
       "    .dataframe tbody tr th {\n",
       "        vertical-align: top;\n",
       "    }\n",
       "\n",
       "    .dataframe thead th {\n",
       "        text-align: right;\n",
       "    }\n",
       "</style>\n",
       "<table border=\"1\" class=\"dataframe\">\n",
       "  <thead>\n",
       "    <tr style=\"text-align: right;\">\n",
       "      <th></th>\n",
       "      <th>portfolio</th>\n",
       "      <th>benchmark</th>\n",
       "      <th>excess_rtn</th>\n",
       "    </tr>\n",
       "    <tr>\n",
       "      <th>date</th>\n",
       "      <th></th>\n",
       "      <th></th>\n",
       "      <th></th>\n",
       "    </tr>\n",
       "  </thead>\n",
       "  <tbody>\n",
       "    <tr>\n",
       "      <th>2020-04-01 00:00:00+00:00</th>\n",
       "      <td>-0.040067</td>\n",
       "      <td>-0.044318</td>\n",
       "      <td>0.004251</td>\n",
       "    </tr>\n",
       "    <tr>\n",
       "      <th>2020-04-02 00:00:00+00:00</th>\n",
       "      <td>-0.015274</td>\n",
       "      <td>-0.021553</td>\n",
       "      <td>0.006279</td>\n",
       "    </tr>\n",
       "    <tr>\n",
       "      <th>2020-04-03 00:00:00+00:00</th>\n",
       "      <td>-0.032768</td>\n",
       "      <td>-0.036337</td>\n",
       "      <td>0.003569</td>\n",
       "    </tr>\n",
       "    <tr>\n",
       "      <th>2020-04-06 00:00:00+00:00</th>\n",
       "      <td>0.026215</td>\n",
       "      <td>0.032608</td>\n",
       "      <td>-0.006393</td>\n",
       "    </tr>\n",
       "    <tr>\n",
       "      <th>2020-04-07 00:00:00+00:00</th>\n",
       "      <td>0.023597</td>\n",
       "      <td>0.031145</td>\n",
       "      <td>-0.007548</td>\n",
       "    </tr>\n",
       "    <tr>\n",
       "      <th>...</th>\n",
       "      <td>...</td>\n",
       "      <td>...</td>\n",
       "      <td>...</td>\n",
       "    </tr>\n",
       "    <tr>\n",
       "      <th>2021-01-13 00:00:00+00:00</th>\n",
       "      <td>0.442975</td>\n",
       "      <td>0.439105</td>\n",
       "      <td>0.003870</td>\n",
       "    </tr>\n",
       "    <tr>\n",
       "      <th>2021-01-14 00:00:00+00:00</th>\n",
       "      <td>0.448232</td>\n",
       "      <td>0.435206</td>\n",
       "      <td>0.013026</td>\n",
       "    </tr>\n",
       "    <tr>\n",
       "      <th>2021-01-15 00:00:00+00:00</th>\n",
       "      <td>0.430714</td>\n",
       "      <td>0.428291</td>\n",
       "      <td>0.002423</td>\n",
       "    </tr>\n",
       "    <tr>\n",
       "      <th>2021-01-19 00:00:00+00:00</th>\n",
       "      <td>0.442026</td>\n",
       "      <td>0.436622</td>\n",
       "      <td>0.005404</td>\n",
       "    </tr>\n",
       "    <tr>\n",
       "      <th>2021-01-20 00:00:00+00:00</th>\n",
       "      <td>0.444437</td>\n",
       "      <td>0.450826</td>\n",
       "      <td>-0.006389</td>\n",
       "    </tr>\n",
       "  </tbody>\n",
       "</table>\n",
       "<p>203 rows × 3 columns</p>\n",
       "</div>"
      ],
      "text/plain": [
       "                           portfolio  benchmark  excess_rtn\n",
       "date                                                       \n",
       "2020-04-01 00:00:00+00:00  -0.040067  -0.044318    0.004251\n",
       "2020-04-02 00:00:00+00:00  -0.015274  -0.021553    0.006279\n",
       "2020-04-03 00:00:00+00:00  -0.032768  -0.036337    0.003569\n",
       "2020-04-06 00:00:00+00:00   0.026215   0.032608   -0.006393\n",
       "2020-04-07 00:00:00+00:00   0.023597   0.031145   -0.007548\n",
       "...                              ...        ...         ...\n",
       "2021-01-13 00:00:00+00:00   0.442975   0.439105    0.003870\n",
       "2021-01-14 00:00:00+00:00   0.448232   0.435206    0.013026\n",
       "2021-01-15 00:00:00+00:00   0.430714   0.428291    0.002423\n",
       "2021-01-19 00:00:00+00:00   0.442026   0.436622    0.005404\n",
       "2021-01-20 00:00:00+00:00   0.444437   0.450826   -0.006389\n",
       "\n",
       "[203 rows x 3 columns]"
      ]
     },
     "execution_count": 172,
     "metadata": {},
     "output_type": "execute_result"
    }
   ],
   "source": [
    "x = final_portfolio.groupby('date')['weighted_rtn'].apply(lambda x: x.sum()).cumsum()\n",
    "benchmark = adjusted_portfolio.reset_index().groupby('date')['weighted_rtn'].apply(lambda x: x.sum()).cumsum()\n",
    "z = pd.DataFrame([x.values, benchmark.values], index=[\"portfolio\", \"benchmark\"], columns=x.index).T\n",
    "z['excess_rtn'] = z['portfolio'] - z['benchmark']\n",
    "z"
   ]
  },
  {
   "cell_type": "markdown",
   "metadata": {},
   "source": [
    "### Plot the lineplot with seaborn library"
   ]
  },
  {
   "cell_type": "code",
   "execution_count": 173,
   "metadata": {
    "ExecuteTime": {
     "end_time": "2021-03-01T02:26:35.352748Z",
     "start_time": "2021-03-01T02:26:34.981252Z"
    }
   },
   "outputs": [
    {
     "data": {
      "text/plain": [
       "<matplotlib.axes._subplots.AxesSubplot at 0x7fa4a8e41190>"
      ]
     },
     "execution_count": 173,
     "metadata": {},
     "output_type": "execute_result"
    },
    {
     "data": {
      "image/png": "[encoded data removed]",
      "text/plain": [
       "<Figure size 1080x720 with 1 Axes>"
      ]
     },
     "metadata": {},
     "output_type": "display_data"
    }
   ],
   "source": [
    "sns.set_style(\"darkgrid\")\n",
    "plt.figure(figsize=(15, 10))\n",
    "plt.xticks(rotation=45)\n",
    "plt.yticks(rotation=45)\n",
    "sns.lineplot(data=z, markers=True)"
   ]
  },
  {
   "cell_type": "markdown",
   "metadata": {
    "cell_style": "split"
   },
   "source": [
    "### Portfolio sharpe ratio"
   ]
  },
  {
   "cell_type": "markdown",
   "metadata": {
    "cell_style": "split"
   },
   "source": [
    "### Portfolio Win Rate"
   ]
  },
  {
   "cell_type": "code",
   "execution_count": 174,
   "metadata": {
    "ExecuteTime": {
     "end_time": "2021-03-01T02:26:36.797655Z",
     "start_time": "2021-03-01T02:26:36.792982Z"
    },
    "cell_style": "split"
   },
   "outputs": [
    {
     "name": "stdout",
     "output_type": "stream",
     "text": [
      "Sharpe Ratio\n",
      "-1.05\n"
     ]
    }
   ],
   "source": [
    "# Calculate Sharpe Ratio\n",
    "ann_factor = 252\n",
    "sharpe_ratio = np.sqrt(ann_factor) * z['excess_rtn'].mean() / z['portfolio'].std()\n",
    "  \n",
    "# Show Results\n",
    "print('Sharpe Ratio')\n",
    "print(sharpe_ratio.round(2))"
   ]
  },
  {
   "cell_type": "code",
   "execution_count": 175,
   "metadata": {
    "ExecuteTime": {
     "end_time": "2021-03-01T02:26:38.117164Z",
     "start_time": "2021-03-01T02:26:38.112696Z"
    },
    "cell_style": "split"
   },
   "outputs": [
    {
     "name": "stdout",
     "output_type": "stream",
     "text": [
      "Win Rate\n",
      "33.990 %\n"
     ]
    }
   ],
   "source": [
    "win_rate = len(z[z['excess_rtn'] > 0]['excess_rtn']) / z.shape[0]\n",
    "\n",
    "# Show Win Rate\n",
    "print('Win Rate')\n",
    "print(f'{win_rate*100:.3f} %')"
   ]
  },
  {
   "cell_type": "markdown",
   "metadata": {},
   "source": [
    "### Conclusion\n",
    "> |Factors| Strategy return | Benchmark return | Sharpe ratio | Win rate |\n",
    "> | -- | -- | -- | -- | -- |\n",
    "> |'SUR0', 'vol60', 'book_to_price', 'vol20'|39.8%|45.08%|-5.82%|13.38%|\n",
    ">\n",
    "> In the end, our portfolio is ~0.6% behind the benchmark portfolio, with a negative Sharpe ratio *(-1.05)* and win rate of *33.990%*. To conclude, this factor set ['SUE0', 'vol60', 'book_to_price', 'vol20'] is average effective when scoring the high-quality stocks. But considering building a ststainible index as the S&P 500 index, it's relatively less costly to construct such a portfolio using `33 stocks` comparing to using `500 stocks`.\n",
    "\n",
    "Once we have this analysis part done, we can conclude that whether our predefined factor set can help us pick high quality stocks. But remember, since we have the framework settled, we can definitely pick another set of factors and easily re-run every cell again to find out the best-fit factors.\n",
    "\n",
    "You can also build your own strategy like `S&P 500 index premium portfolio` by simply select the top N stocks that have the highest score. I'll leave that to you to find out."
   ]
  },
  {
   "cell_type": "markdown",
   "metadata": {},
   "source": [
    "## Final words\n",
    "\n",
    "\n",
    "This would be the last post in our [Factor Analysis] series. Hope this series could help you get the idea of what factor analysis is about. This methodology doesn't have to be applied to stocks, it could also be applied to the stock market. As said in [【Factor analysis】 Vol. 1. Introduction the idea of factor analysis](https://mikelhsia.github.io/2021/01/31/2021-01-31-factor-analysis/), as long as you can clearly describe the question, collect relative data, and then quantify them, you'll able to use the same framework to help you understand how the data can be interpreted.\n",
    "\n",
    "See you next time."
   ]
  }
 ],
 "metadata": {
  "kernelspec": {
   "display_name": "Python 3.7.7 64-bit ('quant': conda)",
   "language": "python",
   "name": "python37764bitquantconda130da1f8350c44caaea6a82e21a3556d"
  },
  "language_info": {
   "codemirror_mode": {
    "name": "ipython",
    "version": 3
   },
   "file_extension": ".py",
   "mimetype": "text/x-python",
   "name": "python",
   "nbconvert_exporter": "python",
   "pygments_lexer": "ipython3",
   "version": "3.7.7"
  },
  "toc": {
   "base_numbering": 1,
   "nav_menu": {},
   "number_sections": true,
   "sideBar": true,
   "skip_h1_title": true,
   "title_cell": "Table of Contents",
   "title_sidebar": "Contents",
   "toc_cell": true,
   "toc_position": {
    "height": "calc(100% - 180px)",
    "left": "10px",
    "top": "150px",
    "width": "288px"
   },
   "toc_section_display": true,
   "toc_window_display": false
  },
  "varInspector": {
   "cols": {
    "lenName": 16,
    "lenType": 16,
    "lenVar": 40
   },
   "kernels_config": {
    "python": {
     "delete_cmd_postfix": "",
     "delete_cmd_prefix": "del ",
     "library": "var_list.py",
     "varRefreshCmd": "print(var_dic_list())"
    },
    "r": {
     "delete_cmd_postfix": ") ",
     "delete_cmd_prefix": "rm(",
     "library": "var_list.r",
     "varRefreshCmd": "cat(var_dic_list()) "
    }
   },
   "types_to_exclude": [
    "module",
    "function",
    "builtin_function_or_method",
    "instance",
    "_Feature"
   ],
   "window_display": false
  }
 },
 "nbformat": 4,
 "nbformat_minor": 4
}
