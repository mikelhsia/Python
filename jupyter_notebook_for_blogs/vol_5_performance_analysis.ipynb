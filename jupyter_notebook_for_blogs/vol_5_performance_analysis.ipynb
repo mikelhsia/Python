{
 "cells": [
  {
   "cell_type": "markdown",
   "metadata": {
    "toc": true
   },
   "source": [
    "<h1>Table of Contents<span class=\"tocSkip\"></span></h1>\n",
    "<div class=\"toc\"><ul class=\"toc-item\"><li><span><a href=\"#Preparation\" data-toc-modified-id=\"Preparation-1\"><span class=\"toc-item-num\">1&nbsp;&nbsp;</span>Preparation</a></span></li><li><span><a href=\"#Set-up-the-helper-functions\" data-toc-modified-id=\"Set-up-the-helper-functions-2\"><span class=\"toc-item-num\">2&nbsp;&nbsp;</span>Set up the helper functions</a></span><ul class=\"toc-item\"><li><span><a href=\"#Tiingo-module---meta-data\" data-toc-modified-id=\"Tiingo-module---meta-data-2.1\"><span class=\"toc-item-num\">2.1&nbsp;&nbsp;</span>Tiingo module - meta data</a></span></li><li><span><a href=\"#Price-data\" data-toc-modified-id=\"Price-data-2.2\"><span class=\"toc-item-num\">2.2&nbsp;&nbsp;</span>Price data</a></span></li><li><span><a href=\"#Daily-fundamental-data\" data-toc-modified-id=\"Daily-fundamental-data-2.3\"><span class=\"toc-item-num\">2.3&nbsp;&nbsp;</span>Daily fundamental data</a></span></li><li><span><a href=\"#Get-quarterly-fundamental\" data-toc-modified-id=\"Get-quarterly-fundamental-2.4\"><span class=\"toc-item-num\">2.4&nbsp;&nbsp;</span>Get quarterly fundamental</a></span></li><li><span><a href=\"#Filter-Stocks\" data-toc-modified-id=\"Filter-Stocks-2.5\"><span class=\"toc-item-num\">2.5&nbsp;&nbsp;</span>Filter Stocks</a></span></li><li><span><a href=\"#Fetching-data\" data-toc-modified-id=\"Fetching-data-2.6\"><span class=\"toc-item-num\">2.6&nbsp;&nbsp;</span>Fetching data</a></span></li></ul></li><li><span><a href=\"#Wrap-up-and-start-downloading\" data-toc-modified-id=\"Wrap-up-and-start-downloading-3\"><span class=\"toc-item-num\">3&nbsp;&nbsp;</span>Wrap up and start downloading</a></span><ul class=\"toc-item\"><li><span><a href=\"#Get-the-stock-symbols\" data-toc-modified-id=\"Get-the-stock-symbols-3.1\"><span class=\"toc-item-num\">3.1&nbsp;&nbsp;</span>Get the stock symbols</a></span></li><li><span><a href=\"#Start-downloading-the-data-we-need\" data-toc-modified-id=\"Start-downloading-the-data-we-need-3.2\"><span class=\"toc-item-num\">3.2&nbsp;&nbsp;</span>Start downloading the data we need</a></span></li></ul></li><li><span><a href=\"#Constucting-Factors\" data-toc-modified-id=\"Constucting-Factors-4\"><span class=\"toc-item-num\">4&nbsp;&nbsp;</span>Constucting Factors</a></span><ul class=\"toc-item\"><li><span><a href=\"#Define-factors\" data-toc-modified-id=\"Define-factors-4.1\"><span class=\"toc-item-num\">4.1&nbsp;&nbsp;</span>Define factors</a></span><ul class=\"toc-item\"><li><span><a href=\"#Quality-factors\" data-toc-modified-id=\"Quality-factors-4.1.1\"><span class=\"toc-item-num\">4.1.1&nbsp;&nbsp;</span>Quality factors</a></span></li><li><span><a href=\"#Growth-factors\" data-toc-modified-id=\"Growth-factors-4.1.2\"><span class=\"toc-item-num\">4.1.2&nbsp;&nbsp;</span>Growth factors</a></span></li><li><span><a href=\"#Momentum-factors\" data-toc-modified-id=\"Momentum-factors-4.1.3\"><span class=\"toc-item-num\">4.1.3&nbsp;&nbsp;</span>Momentum factors</a></span></li><li><span><a href=\"#Volatility-factors\" data-toc-modified-id=\"Volatility-factors-4.1.4\"><span class=\"toc-item-num\">4.1.4&nbsp;&nbsp;</span>Volatility factors</a></span></li><li><span><a href=\"#Size-factors\" data-toc-modified-id=\"Size-factors-4.1.5\"><span class=\"toc-item-num\">4.1.5&nbsp;&nbsp;</span>Size factors</a></span></li><li><span><a href=\"#Technical-factors\" data-toc-modified-id=\"Technical-factors-4.1.6\"><span class=\"toc-item-num\">4.1.6&nbsp;&nbsp;</span>Technical factors</a></span></li><li><span><a href=\"#Fundamental-factors\" data-toc-modified-id=\"Fundamental-factors-4.1.7\"><span class=\"toc-item-num\">4.1.7&nbsp;&nbsp;</span>Fundamental factors</a></span></li></ul></li><li><span><a href=\"#Get-factor-data\" data-toc-modified-id=\"Get-factor-data-4.2\"><span class=\"toc-item-num\">4.2&nbsp;&nbsp;</span>Get factor data</a></span><ul class=\"toc-item\"><li><span><a href=\"#Construct-factors\" data-toc-modified-id=\"Construct-factors-4.2.1\"><span class=\"toc-item-num\">4.2.1&nbsp;&nbsp;</span>Construct factors</a></span></li></ul></li></ul></li><li><span><a href=\"#Preprocessing-Data\" data-toc-modified-id=\"Preprocessing-Data-5\"><span class=\"toc-item-num\">5&nbsp;&nbsp;</span>Preprocessing Data</a></span><ul class=\"toc-item\"><li><span><a href=\"#Preparation\" data-toc-modified-id=\"Preparation-5.1\"><span class=\"toc-item-num\">5.1&nbsp;&nbsp;</span>Preparation</a></span></li><li><span><a href=\"#Inspect-the-DataFrame\" data-toc-modified-id=\"Inspect-the-DataFrame-5.2\"><span class=\"toc-item-num\">5.2&nbsp;&nbsp;</span>Inspect the DataFrame</a></span></li><li><span><a href=\"#Winsorization\" data-toc-modified-id=\"Winsorization-5.3\"><span class=\"toc-item-num\">5.3&nbsp;&nbsp;</span>Winsorization</a></span></li><li><span><a href=\"#Standardization\" data-toc-modified-id=\"Standardization-5.4\"><span class=\"toc-item-num\">5.4&nbsp;&nbsp;</span>Standardization</a></span></li><li><span><a href=\"#Neutralization\" data-toc-modified-id=\"Neutralization-5.5\"><span class=\"toc-item-num\">5.5&nbsp;&nbsp;</span>Neutralization</a></span></li></ul></li><li><span><a href=\"#Scoring-the-stocks\" data-toc-modified-id=\"Scoring-the-stocks-6\"><span class=\"toc-item-num\">6&nbsp;&nbsp;</span>Scoring the stocks</a></span><ul class=\"toc-item\"><li><span><a href=\"#Calculate-daily-return\" data-toc-modified-id=\"Calculate-daily-return-6.1\"><span class=\"toc-item-num\">6.1&nbsp;&nbsp;</span>Calculate daily return</a></span></li><li><span><a href=\"#Calculate-factor-weights-in-order-to-calculate-final-score\" data-toc-modified-id=\"Calculate-factor-weights-in-order-to-calculate-final-score-6.2\"><span class=\"toc-item-num\">6.2&nbsp;&nbsp;</span>Calculate factor weights in order to calculate final score</a></span></li><li><span><a href=\"#Scores\" data-toc-modified-id=\"Scores-6.3\"><span class=\"toc-item-num\">6.3&nbsp;&nbsp;</span>Scores</a></span><ul class=\"toc-item\"><li><span><a href=\"#Calculate-factor-weights-in-order-to-calculate-final-score\" data-toc-modified-id=\"Calculate-factor-weights-in-order-to-calculate-final-score-6.3.1\"><span class=\"toc-item-num\">6.3.1&nbsp;&nbsp;</span>Calculate factor weights in order to calculate final score</a></span></li><li><span><a href=\"#Calculate-scores\" data-toc-modified-id=\"Calculate-scores-6.3.2\"><span class=\"toc-item-num\">6.3.2&nbsp;&nbsp;</span>Calculate scores</a></span></li></ul></li><li><span><a href=\"#Check-the-results\" data-toc-modified-id=\"Check-the-results-6.4\"><span class=\"toc-item-num\">6.4&nbsp;&nbsp;</span>Check the results</a></span><ul class=\"toc-item\"><li><span><a href=\"#The-correlation-between-score-and-returns\" data-toc-modified-id=\"The-correlation-between-score-and-returns-6.4.1\"><span class=\"toc-item-num\">6.4.1&nbsp;&nbsp;</span>The correlation between score and returns</a></span></li><li><span><a href=\"#Accumulate-returns-by-score-groups\" data-toc-modified-id=\"Accumulate-returns-by-score-groups-6.4.2\"><span class=\"toc-item-num\">6.4.2&nbsp;&nbsp;</span>Accumulate returns by score groups</a></span></li></ul></li></ul></li><li><span><a href=\"#Strategy\" data-toc-modified-id=\"Strategy-7\"><span class=\"toc-item-num\">7&nbsp;&nbsp;</span>Strategy</a></span><ul class=\"toc-item\"><li><span><a href=\"#Using-the-updated-S&amp;P-500-composition-over-time\" data-toc-modified-id=\"Using-the-updated-S&amp;P-500-composition-over-time-7.1\"><span class=\"toc-item-num\">7.1&nbsp;&nbsp;</span>Using the updated S&amp;P 500 composition over time</a></span></li><li><span><a href=\"#Get-groups\" data-toc-modified-id=\"Get-groups-7.2\"><span class=\"toc-item-num\">7.2&nbsp;&nbsp;</span>Get groups</a></span></li><li><span><a href=\"#Pick-the-stocks-with-the-highest-score-in-each-group\" data-toc-modified-id=\"Pick-the-stocks-with-the-highest-score-in-each-group-7.3\"><span class=\"toc-item-num\">7.3&nbsp;&nbsp;</span>Pick the stocks with the highest score in each group</a></span></li></ul></li><li><span><a href=\"#Performance-analysis\" data-toc-modified-id=\"Performance-analysis-8\"><span class=\"toc-item-num\">8&nbsp;&nbsp;</span>Performance analysis</a></span><ul class=\"toc-item\"><li><span><a href=\"#Use-cumulative-sum-to-compared-with-benchmark-performance\" data-toc-modified-id=\"Use-cumulative-sum-to-compared-with-benchmark-performance-8.1\"><span class=\"toc-item-num\">8.1&nbsp;&nbsp;</span>Use cumulative sum to compared with benchmark performance</a></span></li><li><span><a href=\"#Plot-the-lineplot-with-seaborn-library\" data-toc-modified-id=\"Plot-the-lineplot-with-seaborn-library-8.2\"><span class=\"toc-item-num\">8.2&nbsp;&nbsp;</span>Plot the lineplot with seaborn library</a></span></li><li><span><a href=\"#Portfolio-sharpe-ratio\" data-toc-modified-id=\"Portfolio-sharpe-ratio-8.3\"><span class=\"toc-item-num\">8.3&nbsp;&nbsp;</span>Portfolio sharpe ratio</a></span></li><li><span><a href=\"#Portfolio-Win-Rate\" data-toc-modified-id=\"Portfolio-Win-Rate-8.4\"><span class=\"toc-item-num\">8.4&nbsp;&nbsp;</span>Portfolio Win Rate</a></span></li></ul></li><li><span><a href=\"#Conclusion\" data-toc-modified-id=\"Conclusion-9\"><span class=\"toc-item-num\">9&nbsp;&nbsp;</span>Conclusion</a></span></li><li><span><a href=\"#Misc-test-result\" data-toc-modified-id=\"Misc-test-result-10\"><span class=\"toc-item-num\">10&nbsp;&nbsp;</span>Misc test result</a></span></li></ul></div>"
   ]
  },
  {
   "cell_type": "markdown",
   "metadata": {},
   "source": [
    "## Strategy\n",
    "Reference: [【分享】多因子指数增强](https://www.joinquant.com/view/community/detail/8c60c343407d41b09def615c52c8693d?type=1#%E5%9B%9B%E3%80%81%E5%9B%A0%E5%AD%90%E5%A4%9A%E9%87%8D%E5%85%B1%E7%BA%BF%E6%80%A7%E7%9A%84%E5%A4%84%E7%90%86)\n",
    "\n",
    "\n",
    "1. The central idea of this strategy is to track the performance of the S&P 500 index by buying stocks from every industry sector. \n",
    "2. On top of that, we need to avoid the scenario of `survivor bias` which using the same stock set over time. Here is where we get the update S&P 500 index composition from: [【How 2】 Vol. 4. How to produce the S&P 500 Historical Components & Changes](https://mikelhsia.github.io/2021/02/15/2021-02-15-how2-snp500-historic-composition/).\n",
    "2. Regroup the stocks into three groups by market cap in each industry. \n",
    "  - We're going to use `sector` instead of `sicCode` to be our category as the number of sicCode is more than 100 and the number of `sector` is 14.\n",
    "3. Calculate the total weight of each group accounted for the total weight in the original S&P 500 index\n",
    "4. Pick the highest score in each group. Then we make its weight equal to the weight we got in step 3. So that we can sample the original S&P 500 index composition with higher quality."
   ]
  },
  {
   "cell_type": "markdown",
   "metadata": {},
   "source": [
    "### Using the updated S&P 500 composition over time\n",
    "Instead of using the same stock throughout our backtest period, we use the S&P 500 scaffolding we built in the post earlier. Think about this, `Tesla` has been added to S&P 500 index on December 21st, but `Tesla`'s stock price has been skyrocketing for months before that. If we're sticking with our strategy stated previously, we wouldn't be able to long `Tesla` as it is not in the S&P 500 index composition until December 21st, 2020. \n",
    "\n",
    "Therefore, use the current S&P 500 index composition to run this backtest from 2018, we would purchase `Tesla` early, which, we don't even know whether `Tesla` is a company going to invent this disruptive innovation/technology. It's crucial to make sure you avoid this `survivor bias` when you conduct the factor analysis research."
   ]
  },
  {
   "cell_type": "code",
   "execution_count": 54,
   "metadata": {
    "ExecuteTime": {
     "end_time": "2021-02-28T07:28:04.164545Z",
     "start_time": "2021-02-28T07:27:58.465236Z"
    }
   },
   "outputs": [],
   "source": [
    "adjusted_portfolio = snp_scaffolding.copy()\n",
    "adjusted_portfolio['sector'] = prepared_df['sector']\n",
    "adjusted_portfolio['score'] = prepared_df['SCORE']\n",
    "adjusted_portfolio['log_rtn'] = prepared_df['log_rtn']\n",
    "adjusted_portfolio['rtn'] = prepared_df['rtn']\n",
    "adjusted_portfolio['log_rtn'] = prepared_df['log_rtn']\n",
    "adjusted_portfolio['marketCap'] = prepared_df['marketCap']\n",
    "\n",
    "# Get industry weight\n",
    "adjusted_portfolio['capWeight'] = adjusted_portfolio.groupby('date')['marketCap'].apply(lambda x:x/x.sum())\n",
    "adjusted_portfolio['weighted_rtn'] = adjusted_portfolio['capWeight'] * adjusted_portfolio['log_rtn']\n",
    "\n",
    "adjusted_portfolio.dropna(inplace=True)"
   ]
  },
  {
   "cell_type": "code",
   "execution_count": 55,
   "metadata": {
    "ExecuteTime": {
     "end_time": "2021-02-28T07:28:04.659045Z",
     "start_time": "2021-02-28T07:28:04.642706Z"
    }
   },
   "outputs": [
    {
     "data": {
      "text/html": [
       "<div>\n",
       "<style scoped>\n",
       "    .dataframe tbody tr th:only-of-type {\n",
       "        vertical-align: middle;\n",
       "    }\n",
       "\n",
       "    .dataframe tbody tr th {\n",
       "        vertical-align: top;\n",
       "    }\n",
       "\n",
       "    .dataframe thead th {\n",
       "        text-align: right;\n",
       "    }\n",
       "</style>\n",
       "<table border=\"1\" class=\"dataframe\">\n",
       "  <thead>\n",
       "    <tr style=\"text-align: right;\">\n",
       "      <th></th>\n",
       "      <th></th>\n",
       "      <th>sector</th>\n",
       "      <th>score</th>\n",
       "      <th>log_rtn</th>\n",
       "      <th>rtn</th>\n",
       "      <th>marketCap</th>\n",
       "      <th>capWeight</th>\n",
       "      <th>weighted_rtn</th>\n",
       "    </tr>\n",
       "    <tr>\n",
       "      <th>date</th>\n",
       "      <th>ticker</th>\n",
       "      <th></th>\n",
       "      <th></th>\n",
       "      <th></th>\n",
       "      <th></th>\n",
       "      <th></th>\n",
       "      <th></th>\n",
       "      <th></th>\n",
       "    </tr>\n",
       "  </thead>\n",
       "  <tbody>\n",
       "    <tr>\n",
       "      <th rowspan=\"5\" valign=\"top\">2020-04-01 00:00:00+00:00</th>\n",
       "      <th>a</th>\n",
       "      <td>Healthcare</td>\n",
       "      <td>-0.138756</td>\n",
       "      <td>-0.038428</td>\n",
       "      <td>-0.037699</td>\n",
       "      <td>2.122544e+10</td>\n",
       "      <td>0.001031</td>\n",
       "      <td>-0.000040</td>\n",
       "    </tr>\n",
       "    <tr>\n",
       "      <th>aal</th>\n",
       "      <td>Industrials</td>\n",
       "      <td>-1.569399</td>\n",
       "      <td>-0.131307</td>\n",
       "      <td>-0.123052</td>\n",
       "      <td>4.554568e+09</td>\n",
       "      <td>0.000221</td>\n",
       "      <td>-0.000029</td>\n",
       "    </tr>\n",
       "    <tr>\n",
       "      <th>aapl</th>\n",
       "      <td>Technology</td>\n",
       "      <td>0.852474</td>\n",
       "      <td>-0.054052</td>\n",
       "      <td>-0.052617</td>\n",
       "      <td>1.047572e+12</td>\n",
       "      <td>0.050862</td>\n",
       "      <td>-0.002749</td>\n",
       "    </tr>\n",
       "    <tr>\n",
       "      <th>abbv</th>\n",
       "      <td>Healthcare</td>\n",
       "      <td>0.396461</td>\n",
       "      <td>-0.037034</td>\n",
       "      <td>-0.036356</td>\n",
       "      <td>1.043679e+11</td>\n",
       "      <td>0.005067</td>\n",
       "      <td>-0.000188</td>\n",
       "    </tr>\n",
       "    <tr>\n",
       "      <th>abc</th>\n",
       "      <td>Healthcare</td>\n",
       "      <td>0.384771</td>\n",
       "      <td>-0.025984</td>\n",
       "      <td>-0.025650</td>\n",
       "      <td>1.752496e+10</td>\n",
       "      <td>0.000851</td>\n",
       "      <td>-0.000022</td>\n",
       "    </tr>\n",
       "    <tr>\n",
       "      <th>...</th>\n",
       "      <th>...</th>\n",
       "      <td>...</td>\n",
       "      <td>...</td>\n",
       "      <td>...</td>\n",
       "      <td>...</td>\n",
       "      <td>...</td>\n",
       "      <td>...</td>\n",
       "      <td>...</td>\n",
       "    </tr>\n",
       "    <tr>\n",
       "      <th rowspan=\"5\" valign=\"top\">2021-01-20 00:00:00+00:00</th>\n",
       "      <th>yum</th>\n",
       "      <td>Consumer Cyclical</td>\n",
       "      <td>-0.561203</td>\n",
       "      <td>0.018635</td>\n",
       "      <td>0.018810</td>\n",
       "      <td>3.239614e+10</td>\n",
       "      <td>0.000969</td>\n",
       "      <td>0.000018</td>\n",
       "    </tr>\n",
       "    <tr>\n",
       "      <th>zbh</th>\n",
       "      <td>Healthcare</td>\n",
       "      <td>-0.248970</td>\n",
       "      <td>0.021832</td>\n",
       "      <td>0.022072</td>\n",
       "      <td>3.315003e+10</td>\n",
       "      <td>0.000991</td>\n",
       "      <td>0.000022</td>\n",
       "    </tr>\n",
       "    <tr>\n",
       "      <th>zbra</th>\n",
       "      <td>Technology</td>\n",
       "      <td>-0.595314</td>\n",
       "      <td>0.001748</td>\n",
       "      <td>0.001749</td>\n",
       "      <td>2.163793e+10</td>\n",
       "      <td>0.000647</td>\n",
       "      <td>0.000001</td>\n",
       "    </tr>\n",
       "    <tr>\n",
       "      <th>zion</th>\n",
       "      <td>Financial Services</td>\n",
       "      <td>0.249939</td>\n",
       "      <td>-0.021101</td>\n",
       "      <td>-0.020880</td>\n",
       "      <td>8.090692e+09</td>\n",
       "      <td>0.000242</td>\n",
       "      <td>-0.000005</td>\n",
       "    </tr>\n",
       "    <tr>\n",
       "      <th>zts</th>\n",
       "      <td>Healthcare</td>\n",
       "      <td>-0.325479</td>\n",
       "      <td>0.004848</td>\n",
       "      <td>0.004859</td>\n",
       "      <td>7.726429e+10</td>\n",
       "      <td>0.002310</td>\n",
       "      <td>0.000011</td>\n",
       "    </tr>\n",
       "  </tbody>\n",
       "</table>\n",
       "<p>99553 rows × 7 columns</p>\n",
       "</div>"
      ],
      "text/plain": [
       "                                              sector     score   log_rtn  \\\n",
       "date                      ticker                                           \n",
       "2020-04-01 00:00:00+00:00 a               Healthcare -0.138756 -0.038428   \n",
       "                          aal            Industrials -1.569399 -0.131307   \n",
       "                          aapl            Technology  0.852474 -0.054052   \n",
       "                          abbv            Healthcare  0.396461 -0.037034   \n",
       "                          abc             Healthcare  0.384771 -0.025984   \n",
       "...                                              ...       ...       ...   \n",
       "2021-01-20 00:00:00+00:00 yum      Consumer Cyclical -0.561203  0.018635   \n",
       "                          zbh             Healthcare -0.248970  0.021832   \n",
       "                          zbra            Technology -0.595314  0.001748   \n",
       "                          zion    Financial Services  0.249939 -0.021101   \n",
       "                          zts             Healthcare -0.325479  0.004848   \n",
       "\n",
       "                                       rtn     marketCap  capWeight  \\\n",
       "date                      ticker                                      \n",
       "2020-04-01 00:00:00+00:00 a      -0.037699  2.122544e+10   0.001031   \n",
       "                          aal    -0.123052  4.554568e+09   0.000221   \n",
       "                          aapl   -0.052617  1.047572e+12   0.050862   \n",
       "                          abbv   -0.036356  1.043679e+11   0.005067   \n",
       "                          abc    -0.025650  1.752496e+10   0.000851   \n",
       "...                                    ...           ...        ...   \n",
       "2021-01-20 00:00:00+00:00 yum     0.018810  3.239614e+10   0.000969   \n",
       "                          zbh     0.022072  3.315003e+10   0.000991   \n",
       "                          zbra    0.001749  2.163793e+10   0.000647   \n",
       "                          zion   -0.020880  8.090692e+09   0.000242   \n",
       "                          zts     0.004859  7.726429e+10   0.002310   \n",
       "\n",
       "                                  weighted_rtn  \n",
       "date                      ticker                \n",
       "2020-04-01 00:00:00+00:00 a          -0.000040  \n",
       "                          aal        -0.000029  \n",
       "                          aapl       -0.002749  \n",
       "                          abbv       -0.000188  \n",
       "                          abc        -0.000022  \n",
       "...                                        ...  \n",
       "2021-01-20 00:00:00+00:00 yum         0.000018  \n",
       "                          zbh         0.000022  \n",
       "                          zbra        0.000001  \n",
       "                          zion       -0.000005  \n",
       "                          zts         0.000011  \n",
       "\n",
       "[99553 rows x 7 columns]"
      ]
     },
     "execution_count": 55,
     "metadata": {},
     "output_type": "execute_result"
    }
   ],
   "source": [
    "adjusted_portfolio"
   ]
  },
  {
   "cell_type": "markdown",
   "metadata": {},
   "source": [
    "### Get groups\n",
    "\n",
    "Let's start grouping the stock by market cap. We use `pd.cut(data, bins=N, labels=[])` function to label each stock by group 1~3"
   ]
  },
  {
   "cell_type": "code",
   "execution_count": 68,
   "metadata": {
    "ExecuteTime": {
     "end_time": "2021-02-28T08:34:56.418840Z",
     "start_time": "2021-02-28T08:34:56.414320Z"
    }
   },
   "outputs": [],
   "source": [
    "def get_group(ser:pd.Series,N:int=3,ascend:bool=True)->pd.Series:\n",
    "    # Split the stocks into 3 groups, ascendingly\n",
    "    ranks = ser.rank(ascending=ascend)\n",
    "    label = ['G'+str(i) for i in range(1,N + 1)]\n",
    "    \n",
    "    return pd.cut(ranks,bins=N,labels=label) "
   ]
  },
  {
   "cell_type": "code",
   "execution_count": 69,
   "metadata": {
    "ExecuteTime": {
     "end_time": "2021-02-28T08:35:02.787843Z",
     "start_time": "2021-02-28T08:34:57.430276Z"
    }
   },
   "outputs": [],
   "source": [
    "group_c = [\n",
    "    pd.Grouper(level='date'),\n",
    "    pd.Grouper(key='sector')\n",
    "]\n",
    "\n",
    "adjusted_portfolio['group'] = adjusted_portfolio.groupby(group_c)['marketCap'].apply(lambda x:get_group(x, 3))"
   ]
  },
  {
   "cell_type": "code",
   "execution_count": 70,
   "metadata": {
    "ExecuteTime": {
     "end_time": "2021-02-28T08:35:03.473053Z",
     "start_time": "2021-02-28T08:35:03.448416Z"
    }
   },
   "outputs": [
    {
     "data": {
      "text/html": [
       "<div>\n",
       "<style scoped>\n",
       "    .dataframe tbody tr th:only-of-type {\n",
       "        vertical-align: middle;\n",
       "    }\n",
       "\n",
       "    .dataframe tbody tr th {\n",
       "        vertical-align: top;\n",
       "    }\n",
       "\n",
       "    .dataframe thead th {\n",
       "        text-align: right;\n",
       "    }\n",
       "</style>\n",
       "<table border=\"1\" class=\"dataframe\">\n",
       "  <thead>\n",
       "    <tr style=\"text-align: right;\">\n",
       "      <th></th>\n",
       "      <th></th>\n",
       "      <th>sector</th>\n",
       "      <th>score</th>\n",
       "      <th>log_rtn</th>\n",
       "      <th>rtn</th>\n",
       "      <th>marketCap</th>\n",
       "      <th>capWeight</th>\n",
       "      <th>weighted_rtn</th>\n",
       "      <th>group</th>\n",
       "    </tr>\n",
       "    <tr>\n",
       "      <th>date</th>\n",
       "      <th>ticker</th>\n",
       "      <th></th>\n",
       "      <th></th>\n",
       "      <th></th>\n",
       "      <th></th>\n",
       "      <th></th>\n",
       "      <th></th>\n",
       "      <th></th>\n",
       "      <th></th>\n",
       "    </tr>\n",
       "  </thead>\n",
       "  <tbody>\n",
       "    <tr>\n",
       "      <th rowspan=\"5\" valign=\"top\">2020-04-01 00:00:00+00:00</th>\n",
       "      <th>a</th>\n",
       "      <td>Healthcare</td>\n",
       "      <td>-0.138756</td>\n",
       "      <td>-0.038428</td>\n",
       "      <td>-0.037699</td>\n",
       "      <td>2.122544e+10</td>\n",
       "      <td>0.001031</td>\n",
       "      <td>-0.000040</td>\n",
       "      <td>G2</td>\n",
       "    </tr>\n",
       "    <tr>\n",
       "      <th>aal</th>\n",
       "      <td>Industrials</td>\n",
       "      <td>-1.569399</td>\n",
       "      <td>-0.131307</td>\n",
       "      <td>-0.123052</td>\n",
       "      <td>4.554568e+09</td>\n",
       "      <td>0.000221</td>\n",
       "      <td>-0.000029</td>\n",
       "      <td>G1</td>\n",
       "    </tr>\n",
       "    <tr>\n",
       "      <th>aapl</th>\n",
       "      <td>Technology</td>\n",
       "      <td>0.852474</td>\n",
       "      <td>-0.054052</td>\n",
       "      <td>-0.052617</td>\n",
       "      <td>1.047572e+12</td>\n",
       "      <td>0.050862</td>\n",
       "      <td>-0.002749</td>\n",
       "      <td>G3</td>\n",
       "    </tr>\n",
       "    <tr>\n",
       "      <th>abbv</th>\n",
       "      <td>Healthcare</td>\n",
       "      <td>0.396461</td>\n",
       "      <td>-0.037034</td>\n",
       "      <td>-0.036356</td>\n",
       "      <td>1.043679e+11</td>\n",
       "      <td>0.005067</td>\n",
       "      <td>-0.000188</td>\n",
       "      <td>G3</td>\n",
       "    </tr>\n",
       "    <tr>\n",
       "      <th>abc</th>\n",
       "      <td>Healthcare</td>\n",
       "      <td>0.384771</td>\n",
       "      <td>-0.025984</td>\n",
       "      <td>-0.025650</td>\n",
       "      <td>1.752496e+10</td>\n",
       "      <td>0.000851</td>\n",
       "      <td>-0.000022</td>\n",
       "      <td>G1</td>\n",
       "    </tr>\n",
       "    <tr>\n",
       "      <th>...</th>\n",
       "      <th>...</th>\n",
       "      <td>...</td>\n",
       "      <td>...</td>\n",
       "      <td>...</td>\n",
       "      <td>...</td>\n",
       "      <td>...</td>\n",
       "      <td>...</td>\n",
       "      <td>...</td>\n",
       "      <td>...</td>\n",
       "    </tr>\n",
       "    <tr>\n",
       "      <th rowspan=\"5\" valign=\"top\">2021-01-20 00:00:00+00:00</th>\n",
       "      <th>yum</th>\n",
       "      <td>Consumer Cyclical</td>\n",
       "      <td>-0.561203</td>\n",
       "      <td>0.018635</td>\n",
       "      <td>0.018810</td>\n",
       "      <td>3.239614e+10</td>\n",
       "      <td>0.000969</td>\n",
       "      <td>0.000018</td>\n",
       "      <td>G3</td>\n",
       "    </tr>\n",
       "    <tr>\n",
       "      <th>zbh</th>\n",
       "      <td>Healthcare</td>\n",
       "      <td>-0.248970</td>\n",
       "      <td>0.021832</td>\n",
       "      <td>0.022072</td>\n",
       "      <td>3.315003e+10</td>\n",
       "      <td>0.000991</td>\n",
       "      <td>0.000022</td>\n",
       "      <td>G2</td>\n",
       "    </tr>\n",
       "    <tr>\n",
       "      <th>zbra</th>\n",
       "      <td>Technology</td>\n",
       "      <td>-0.595314</td>\n",
       "      <td>0.001748</td>\n",
       "      <td>0.001749</td>\n",
       "      <td>2.163793e+10</td>\n",
       "      <td>0.000647</td>\n",
       "      <td>0.000001</td>\n",
       "      <td>G1</td>\n",
       "    </tr>\n",
       "    <tr>\n",
       "      <th>zion</th>\n",
       "      <td>Financial Services</td>\n",
       "      <td>0.249939</td>\n",
       "      <td>-0.021101</td>\n",
       "      <td>-0.020880</td>\n",
       "      <td>8.090692e+09</td>\n",
       "      <td>0.000242</td>\n",
       "      <td>-0.000005</td>\n",
       "      <td>G1</td>\n",
       "    </tr>\n",
       "    <tr>\n",
       "      <th>zts</th>\n",
       "      <td>Healthcare</td>\n",
       "      <td>-0.325479</td>\n",
       "      <td>0.004848</td>\n",
       "      <td>0.004859</td>\n",
       "      <td>7.726429e+10</td>\n",
       "      <td>0.002310</td>\n",
       "      <td>0.000011</td>\n",
       "      <td>G3</td>\n",
       "    </tr>\n",
       "  </tbody>\n",
       "</table>\n",
       "<p>99553 rows × 8 columns</p>\n",
       "</div>"
      ],
      "text/plain": [
       "                                              sector     score   log_rtn  \\\n",
       "date                      ticker                                           \n",
       "2020-04-01 00:00:00+00:00 a               Healthcare -0.138756 -0.038428   \n",
       "                          aal            Industrials -1.569399 -0.131307   \n",
       "                          aapl            Technology  0.852474 -0.054052   \n",
       "                          abbv            Healthcare  0.396461 -0.037034   \n",
       "                          abc             Healthcare  0.384771 -0.025984   \n",
       "...                                              ...       ...       ...   \n",
       "2021-01-20 00:00:00+00:00 yum      Consumer Cyclical -0.561203  0.018635   \n",
       "                          zbh             Healthcare -0.248970  0.021832   \n",
       "                          zbra            Technology -0.595314  0.001748   \n",
       "                          zion    Financial Services  0.249939 -0.021101   \n",
       "                          zts             Healthcare -0.325479  0.004848   \n",
       "\n",
       "                                       rtn     marketCap  capWeight  \\\n",
       "date                      ticker                                      \n",
       "2020-04-01 00:00:00+00:00 a      -0.037699  2.122544e+10   0.001031   \n",
       "                          aal    -0.123052  4.554568e+09   0.000221   \n",
       "                          aapl   -0.052617  1.047572e+12   0.050862   \n",
       "                          abbv   -0.036356  1.043679e+11   0.005067   \n",
       "                          abc    -0.025650  1.752496e+10   0.000851   \n",
       "...                                    ...           ...        ...   \n",
       "2021-01-20 00:00:00+00:00 yum     0.018810  3.239614e+10   0.000969   \n",
       "                          zbh     0.022072  3.315003e+10   0.000991   \n",
       "                          zbra    0.001749  2.163793e+10   0.000647   \n",
       "                          zion   -0.020880  8.090692e+09   0.000242   \n",
       "                          zts     0.004859  7.726429e+10   0.002310   \n",
       "\n",
       "                                  weighted_rtn group  \n",
       "date                      ticker                      \n",
       "2020-04-01 00:00:00+00:00 a          -0.000040    G2  \n",
       "                          aal        -0.000029    G1  \n",
       "                          aapl       -0.002749    G3  \n",
       "                          abbv       -0.000188    G3  \n",
       "                          abc        -0.000022    G1  \n",
       "...                                        ...   ...  \n",
       "2021-01-20 00:00:00+00:00 yum         0.000018    G3  \n",
       "                          zbh         0.000022    G2  \n",
       "                          zbra        0.000001    G1  \n",
       "                          zion       -0.000005    G1  \n",
       "                          zts         0.000011    G3  \n",
       "\n",
       "[99553 rows x 8 columns]"
      ]
     },
     "execution_count": 70,
     "metadata": {},
     "output_type": "execute_result"
    }
   ],
   "source": [
    "adjusted_portfolio"
   ]
  },
  {
   "cell_type": "markdown",
   "metadata": {},
   "source": [
    "### Pick the stocks with the highest score in each group"
   ]
  },
  {
   "cell_type": "code",
   "execution_count": 71,
   "metadata": {
    "ExecuteTime": {
     "end_time": "2021-02-28T08:35:06.006732Z",
     "start_time": "2021-02-28T08:35:04.123200Z"
    }
   },
   "outputs": [],
   "source": [
    "group_c2 = [\n",
    "    pd.Grouper(level='date'),\n",
    "    pd.Grouper(key='sector'),\n",
    "    pd.Grouper(key='group')\n",
    "]\n",
    "\n",
    "final_portfolio = adjusted_portfolio.groupby(group_c2)['score'].apply(lambda x: x.idxmax()[1])"
   ]
  },
  {
   "cell_type": "code",
   "execution_count": 72,
   "metadata": {
    "ExecuteTime": {
     "end_time": "2021-02-28T08:35:06.658939Z",
     "start_time": "2021-02-28T08:35:06.645308Z"
    }
   },
   "outputs": [
    {
     "data": {
      "text/plain": [
       "date                       sector                  group\n",
       "2020-04-01 00:00:00+00:00  Basic Materials         G1        mos\n",
       "                                                   G2        iff\n",
       "                                                   G3         dd\n",
       "                           Communication Services  G1       lumn\n",
       "                                                   G2          t\n",
       "                                                            ... \n",
       "2021-01-20 00:00:00+00:00  Technology              G2       twtr\n",
       "                                                   G3         mu\n",
       "                           Utilities               G1         fe\n",
       "                                                   G2         ed\n",
       "                                                   G3        aep\n",
       "Name: score, Length: 6699, dtype: object"
      ]
     },
     "execution_count": 72,
     "metadata": {},
     "output_type": "execute_result"
    }
   ],
   "source": [
    "final_portfolio"
   ]
  },
  {
   "cell_type": "code",
   "execution_count": 74,
   "metadata": {
    "ExecuteTime": {
     "end_time": "2021-02-28T08:35:08.068589Z",
     "start_time": "2021-02-28T08:35:07.935935Z"
    }
   },
   "outputs": [],
   "source": [
    "# Readjust the format\n",
    "final_portfolio = final_portfolio.reset_index()\n",
    "final_portfolio = final_portfolio.set_index(['date', 'score'])\n",
    "final_portfolio.index.names = ['date', 'ticker']\n",
    "\n",
    "final_portfolio['rtn'] = adjusted_portfolio['rtn']\n",
    "final_portfolio['log_rtn'] = adjusted_portfolio['log_rtn']\n",
    "final_portfolio['weight'] = adjusted_portfolio['capWeight']\n",
    "\n",
    "# Make the total weight equal to 1\n",
    "final_portfolio['w'] = final_portfolio.groupby(\n",
    "    level='date'\n",
    ")['weight'].transform(\n",
    "    lambda x: x / x.sum()\n",
    ")\n",
    "\n",
    "final_portfolio['weighted_rtn'] = final_portfolio['w'] * final_portfolio['log_rtn']"
   ]
  },
  {
   "cell_type": "code",
   "execution_count": 75,
   "metadata": {
    "ExecuteTime": {
     "end_time": "2021-02-28T08:35:08.877077Z",
     "start_time": "2021-02-28T08:35:08.791005Z"
    }
   },
   "outputs": [
    {
     "data": {
      "text/html": [
       "<div>\n",
       "<style scoped>\n",
       "    .dataframe tbody tr th:only-of-type {\n",
       "        vertical-align: middle;\n",
       "    }\n",
       "\n",
       "    .dataframe tbody tr th {\n",
       "        vertical-align: top;\n",
       "    }\n",
       "\n",
       "    .dataframe thead th {\n",
       "        text-align: right;\n",
       "    }\n",
       "</style>\n",
       "<table border=\"1\" class=\"dataframe\">\n",
       "  <thead>\n",
       "    <tr style=\"text-align: right;\">\n",
       "      <th></th>\n",
       "      <th></th>\n",
       "      <th>sector</th>\n",
       "      <th>group</th>\n",
       "      <th>rtn</th>\n",
       "      <th>log_rtn</th>\n",
       "      <th>weight</th>\n",
       "      <th>w</th>\n",
       "      <th>weighted_rtn</th>\n",
       "    </tr>\n",
       "    <tr>\n",
       "      <th>date</th>\n",
       "      <th>ticker</th>\n",
       "      <th></th>\n",
       "      <th></th>\n",
       "      <th></th>\n",
       "      <th></th>\n",
       "      <th></th>\n",
       "      <th></th>\n",
       "      <th></th>\n",
       "    </tr>\n",
       "  </thead>\n",
       "  <tbody>\n",
       "    <tr>\n",
       "      <th rowspan=\"5\" valign=\"top\">2020-04-01 00:00:00+00:00</th>\n",
       "      <th>mos</th>\n",
       "      <td>Basic Materials</td>\n",
       "      <td>G1</td>\n",
       "      <td>-0.065619</td>\n",
       "      <td>-0.067871</td>\n",
       "      <td>0.000184</td>\n",
       "      <td>0.003451</td>\n",
       "      <td>-0.000234</td>\n",
       "    </tr>\n",
       "    <tr>\n",
       "      <th>iff</th>\n",
       "      <td>Basic Materials</td>\n",
       "      <td>G2</td>\n",
       "      <td>-0.013225</td>\n",
       "      <td>-0.013313</td>\n",
       "      <td>0.000512</td>\n",
       "      <td>0.009589</td>\n",
       "      <td>-0.000128</td>\n",
       "    </tr>\n",
       "    <tr>\n",
       "      <th>dd</th>\n",
       "      <td>Basic Materials</td>\n",
       "      <td>G3</td>\n",
       "      <td>-0.046334</td>\n",
       "      <td>-0.047442</td>\n",
       "      <td>0.001149</td>\n",
       "      <td>0.021509</td>\n",
       "      <td>-0.001020</td>\n",
       "    </tr>\n",
       "    <tr>\n",
       "      <th>lumn</th>\n",
       "      <td>Communication Services</td>\n",
       "      <td>G1</td>\n",
       "      <td>-0.070825</td>\n",
       "      <td>-0.073458</td>\n",
       "      <td>0.000433</td>\n",
       "      <td>0.008108</td>\n",
       "      <td>-0.000596</td>\n",
       "    </tr>\n",
       "    <tr>\n",
       "      <th>t</th>\n",
       "      <td>Communication Services</td>\n",
       "      <td>G2</td>\n",
       "      <td>-0.037736</td>\n",
       "      <td>-0.038466</td>\n",
       "      <td>0.009104</td>\n",
       "      <td>0.170461</td>\n",
       "      <td>-0.006557</td>\n",
       "    </tr>\n",
       "    <tr>\n",
       "      <th>...</th>\n",
       "      <th>...</th>\n",
       "      <td>...</td>\n",
       "      <td>...</td>\n",
       "      <td>...</td>\n",
       "      <td>...</td>\n",
       "      <td>...</td>\n",
       "      <td>...</td>\n",
       "      <td>...</td>\n",
       "    </tr>\n",
       "    <tr>\n",
       "      <th rowspan=\"5\" valign=\"top\">2021-01-20 00:00:00+00:00</th>\n",
       "      <th>twtr</th>\n",
       "      <td>Technology</td>\n",
       "      <td>G2</td>\n",
       "      <td>0.036360</td>\n",
       "      <td>0.035714</td>\n",
       "      <td>0.001092</td>\n",
       "      <td>0.015194</td>\n",
       "      <td>0.000543</td>\n",
       "    </tr>\n",
       "    <tr>\n",
       "      <th>mu</th>\n",
       "      <td>Technology</td>\n",
       "      <td>G3</td>\n",
       "      <td>-0.023392</td>\n",
       "      <td>-0.023670</td>\n",
       "      <td>0.002860</td>\n",
       "      <td>0.039782</td>\n",
       "      <td>-0.000942</td>\n",
       "    </tr>\n",
       "    <tr>\n",
       "      <th>fe</th>\n",
       "      <td>Utilities</td>\n",
       "      <td>G1</td>\n",
       "      <td>0.007072</td>\n",
       "      <td>0.007047</td>\n",
       "      <td>0.000505</td>\n",
       "      <td>0.007021</td>\n",
       "      <td>0.000049</td>\n",
       "    </tr>\n",
       "    <tr>\n",
       "      <th>ed</th>\n",
       "      <td>Utilities</td>\n",
       "      <td>G2</td>\n",
       "      <td>0.006621</td>\n",
       "      <td>0.006599</td>\n",
       "      <td>0.000696</td>\n",
       "      <td>0.009677</td>\n",
       "      <td>0.000064</td>\n",
       "    </tr>\n",
       "    <tr>\n",
       "      <th>aep</th>\n",
       "      <td>Utilities</td>\n",
       "      <td>G3</td>\n",
       "      <td>0.000496</td>\n",
       "      <td>0.000495</td>\n",
       "      <td>0.001198</td>\n",
       "      <td>0.016663</td>\n",
       "      <td>0.000008</td>\n",
       "    </tr>\n",
       "  </tbody>\n",
       "</table>\n",
       "<p>6699 rows × 7 columns</p>\n",
       "</div>"
      ],
      "text/plain": [
       "                                                  sector group       rtn  \\\n",
       "date                      ticker                                           \n",
       "2020-04-01 00:00:00+00:00 mos            Basic Materials    G1 -0.065619   \n",
       "                          iff            Basic Materials    G2 -0.013225   \n",
       "                          dd             Basic Materials    G3 -0.046334   \n",
       "                          lumn    Communication Services    G1 -0.070825   \n",
       "                          t       Communication Services    G2 -0.037736   \n",
       "...                                                  ...   ...       ...   \n",
       "2021-01-20 00:00:00+00:00 twtr                Technology    G2  0.036360   \n",
       "                          mu                  Technology    G3 -0.023392   \n",
       "                          fe                   Utilities    G1  0.007072   \n",
       "                          ed                   Utilities    G2  0.006621   \n",
       "                          aep                  Utilities    G3  0.000496   \n",
       "\n",
       "                                   log_rtn    weight         w  weighted_rtn  \n",
       "date                      ticker                                              \n",
       "2020-04-01 00:00:00+00:00 mos    -0.067871  0.000184  0.003451     -0.000234  \n",
       "                          iff    -0.013313  0.000512  0.009589     -0.000128  \n",
       "                          dd     -0.047442  0.001149  0.021509     -0.001020  \n",
       "                          lumn   -0.073458  0.000433  0.008108     -0.000596  \n",
       "                          t      -0.038466  0.009104  0.170461     -0.006557  \n",
       "...                                    ...       ...       ...           ...  \n",
       "2021-01-20 00:00:00+00:00 twtr    0.035714  0.001092  0.015194      0.000543  \n",
       "                          mu     -0.023670  0.002860  0.039782     -0.000942  \n",
       "                          fe      0.007047  0.000505  0.007021      0.000049  \n",
       "                          ed      0.006599  0.000696  0.009677      0.000064  \n",
       "                          aep     0.000495  0.001198  0.016663      0.000008  \n",
       "\n",
       "[6699 rows x 7 columns]"
      ]
     },
     "execution_count": 75,
     "metadata": {},
     "output_type": "execute_result"
    }
   ],
   "source": [
    "final_portfolio.to_csv('/Users/michael/Desktop/portfolio.csv')\n",
    "final_portfolio"
   ]
  },
  {
   "cell_type": "code",
   "execution_count": 86,
   "metadata": {
    "ExecuteTime": {
     "end_time": "2021-02-28T08:47:47.526271Z",
     "start_time": "2021-02-28T08:47:47.519567Z"
    }
   },
   "outputs": [
    {
     "data": {
      "text/plain": [
       "33"
      ]
     },
     "execution_count": 86,
     "metadata": {},
     "output_type": "execute_result"
    }
   ],
   "source": [
    "len(final_portfolio.loc[pd.to_datetime('2020-12-18'), :])"
   ]
  },
  {
   "cell_type": "markdown",
   "metadata": {},
   "source": [
    "This is what our final portfolio looks like! Each day, we have one stock picked from the big, medium, small-cap from each sector, which total 33 stocks per day. Now let's start to evaluate the performance against the benchmark."
   ]
  },
  {
   "cell_type": "markdown",
   "metadata": {},
   "source": [
    "## Performance analysis"
   ]
  },
  {
   "cell_type": "markdown",
   "metadata": {},
   "source": [
    "### Use cumulative sum to compared with benchmark performance"
   ]
  },
  {
   "cell_type": "code",
   "execution_count": 76,
   "metadata": {
    "ExecuteTime": {
     "end_time": "2021-02-28T08:35:09.751751Z",
     "start_time": "2021-02-28T08:35:09.611640Z"
    }
   },
   "outputs": [
    {
     "data": {
      "text/html": [
       "<div>\n",
       "<style scoped>\n",
       "    .dataframe tbody tr th:only-of-type {\n",
       "        vertical-align: middle;\n",
       "    }\n",
       "\n",
       "    .dataframe tbody tr th {\n",
       "        vertical-align: top;\n",
       "    }\n",
       "\n",
       "    .dataframe thead th {\n",
       "        text-align: right;\n",
       "    }\n",
       "</style>\n",
       "<table border=\"1\" class=\"dataframe\">\n",
       "  <thead>\n",
       "    <tr style=\"text-align: right;\">\n",
       "      <th></th>\n",
       "      <th>portfolio</th>\n",
       "      <th>benchmark</th>\n",
       "      <th>excess_rtn</th>\n",
       "    </tr>\n",
       "    <tr>\n",
       "      <th>date</th>\n",
       "      <th></th>\n",
       "      <th></th>\n",
       "      <th></th>\n",
       "    </tr>\n",
       "  </thead>\n",
       "  <tbody>\n",
       "    <tr>\n",
       "      <th>2020-04-01 00:00:00+00:00</th>\n",
       "      <td>-0.034366</td>\n",
       "      <td>-0.044318</td>\n",
       "      <td>0.009952</td>\n",
       "    </tr>\n",
       "    <tr>\n",
       "      <th>2020-04-02 00:00:00+00:00</th>\n",
       "      <td>-0.010003</td>\n",
       "      <td>-0.021553</td>\n",
       "      <td>0.011550</td>\n",
       "    </tr>\n",
       "    <tr>\n",
       "      <th>2020-04-03 00:00:00+00:00</th>\n",
       "      <td>-0.024642</td>\n",
       "      <td>-0.036337</td>\n",
       "      <td>0.011695</td>\n",
       "    </tr>\n",
       "    <tr>\n",
       "      <th>2020-04-06 00:00:00+00:00</th>\n",
       "      <td>0.041409</td>\n",
       "      <td>0.032608</td>\n",
       "      <td>0.008801</td>\n",
       "    </tr>\n",
       "    <tr>\n",
       "      <th>2020-04-07 00:00:00+00:00</th>\n",
       "      <td>0.040941</td>\n",
       "      <td>0.031145</td>\n",
       "      <td>0.009796</td>\n",
       "    </tr>\n",
       "    <tr>\n",
       "      <th>...</th>\n",
       "      <td>...</td>\n",
       "      <td>...</td>\n",
       "      <td>...</td>\n",
       "    </tr>\n",
       "    <tr>\n",
       "      <th>2021-01-13 00:00:00+00:00</th>\n",
       "      <td>0.379370</td>\n",
       "      <td>0.439105</td>\n",
       "      <td>-0.059735</td>\n",
       "    </tr>\n",
       "    <tr>\n",
       "      <th>2021-01-14 00:00:00+00:00</th>\n",
       "      <td>0.392918</td>\n",
       "      <td>0.435206</td>\n",
       "      <td>-0.042288</td>\n",
       "    </tr>\n",
       "    <tr>\n",
       "      <th>2021-01-15 00:00:00+00:00</th>\n",
       "      <td>0.385142</td>\n",
       "      <td>0.428291</td>\n",
       "      <td>-0.043149</td>\n",
       "    </tr>\n",
       "    <tr>\n",
       "      <th>2021-01-19 00:00:00+00:00</th>\n",
       "      <td>0.395516</td>\n",
       "      <td>0.436622</td>\n",
       "      <td>-0.041106</td>\n",
       "    </tr>\n",
       "    <tr>\n",
       "      <th>2021-01-20 00:00:00+00:00</th>\n",
       "      <td>0.397997</td>\n",
       "      <td>0.450826</td>\n",
       "      <td>-0.052829</td>\n",
       "    </tr>\n",
       "  </tbody>\n",
       "</table>\n",
       "<p>203 rows × 3 columns</p>\n",
       "</div>"
      ],
      "text/plain": [
       "                           portfolio  benchmark  excess_rtn\n",
       "date                                                       \n",
       "2020-04-01 00:00:00+00:00  -0.034366  -0.044318    0.009952\n",
       "2020-04-02 00:00:00+00:00  -0.010003  -0.021553    0.011550\n",
       "2020-04-03 00:00:00+00:00  -0.024642  -0.036337    0.011695\n",
       "2020-04-06 00:00:00+00:00   0.041409   0.032608    0.008801\n",
       "2020-04-07 00:00:00+00:00   0.040941   0.031145    0.009796\n",
       "...                              ...        ...         ...\n",
       "2021-01-13 00:00:00+00:00   0.379370   0.439105   -0.059735\n",
       "2021-01-14 00:00:00+00:00   0.392918   0.435206   -0.042288\n",
       "2021-01-15 00:00:00+00:00   0.385142   0.428291   -0.043149\n",
       "2021-01-19 00:00:00+00:00   0.395516   0.436622   -0.041106\n",
       "2021-01-20 00:00:00+00:00   0.397997   0.450826   -0.052829\n",
       "\n",
       "[203 rows x 3 columns]"
      ]
     },
     "execution_count": 76,
     "metadata": {},
     "output_type": "execute_result"
    }
   ],
   "source": [
    "x = final_portfolio.groupby('date')['weighted_rtn'].apply(lambda x: x.sum()).cumsum()\n",
    "benchmark = adjusted_portfolio.reset_index().groupby('date')['weighted_rtn'].apply(lambda x: x.sum()).cumsum()\n",
    "z = pd.DataFrame([x.values, benchmark.values], index=[\"portfolio\", \"benchmark\"], columns=x.index).T\n",
    "z['excess_rtn'] = z['portfolio'] - z['benchmark']\n",
    "z"
   ]
  },
  {
   "cell_type": "markdown",
   "metadata": {},
   "source": [
    "### Plot the lineplot with seaborn library"
   ]
  },
  {
   "cell_type": "code",
   "execution_count": 77,
   "metadata": {
    "ExecuteTime": {
     "end_time": "2021-02-28T08:35:10.840989Z",
     "start_time": "2021-02-28T08:35:10.439899Z"
    }
   },
   "outputs": [
    {
     "data": {
      "text/plain": [
       "<matplotlib.axes._subplots.AxesSubplot at 0x7fa54cdcbad0>"
      ]
     },
     "execution_count": 77,
     "metadata": {},
     "output_type": "execute_result"
    },
    {
     "data": {
      "image/png": "[encoded data removed]",
      "text/plain": [
       "<Figure size 1080x720 with 1 Axes>"
      ]
     },
     "metadata": {},
     "output_type": "display_data"
    }
   ],
   "source": [
    "sns.set_style(\"darkgrid\")\n",
    "plt.figure(figsize=(15, 10))\n",
    "plt.xticks(rotation=45)\n",
    "plt.yticks(rotation=45)\n",
    "sns.lineplot(data=z, markers=True)"
   ]
  },
  {
   "cell_type": "markdown",
   "metadata": {
    "cell_style": "split"
   },
   "source": [
    "### Portfolio sharpe ratio"
   ]
  },
  {
   "cell_type": "markdown",
   "metadata": {
    "cell_style": "split"
   },
   "source": [
    "### Portfolio Win Rate"
   ]
  },
  {
   "cell_type": "code",
   "execution_count": 87,
   "metadata": {
    "ExecuteTime": {
     "end_time": "2021-02-28T08:50:42.055795Z",
     "start_time": "2021-02-28T08:50:42.050682Z"
    },
    "cell_style": "split"
   },
   "outputs": [
    {
     "name": "stdout",
     "output_type": "stream",
     "text": [
      "Sharpe Ratio\n",
      "-5.82\n"
     ]
    }
   ],
   "source": [
    "# Calculate Sharpe Ratio\n",
    "ann_factor = 252\n",
    "sharpe_ratio = np.sqrt(ann_factor) * z['excess_rtn'].mean() / z['portfolio'].std()\n",
    "  \n",
    "# Show Results\n",
    "print('Sharpe Ratio')\n",
    "print(sharpe_ratio.round(2))"
   ]
  },
  {
   "cell_type": "code",
   "execution_count": 79,
   "metadata": {
    "ExecuteTime": {
     "end_time": "2021-02-28T08:35:12.211654Z",
     "start_time": "2021-02-28T08:35:12.206988Z"
    },
    "cell_style": "split"
   },
   "outputs": [
    {
     "name": "stdout",
     "output_type": "stream",
     "text": [
      "Win Rate\n",
      "13.300 %\n"
     ]
    }
   ],
   "source": [
    "win_rate = len(z[z['excess_rtn'] > 0]['excess_rtn']) / z.shape[0]\n",
    "\n",
    "# Show Win Rate\n",
    "print('Win Rate')\n",
    "print(f'{win_rate*100:.3f} %')"
   ]
  },
  {
   "cell_type": "markdown",
   "metadata": {},
   "source": [
    "> In the end, our portfolio is ~5% behind the benchmark portfolio, with a negative Sharpe ratio *(-5.82)* and win rate of *13.3%*. To conclude, this factor set ['SUR0', 'vol60', 'book_to_price', 'vol20'] is not effective enough to help us score the high-quality stocks.\n",
    "\n",
    "Once we have this analysis part done, we can conclude that whether our predefined factor set can help us pick high quality stocks. But remember, since we have the framework settled, we can definitely pick another set of factors and easily re-run every cell again to find out the best-fit factors."
   ]
  },
  {
   "cell_type": "markdown",
   "metadata": {},
   "source": [
    "## Conclusion\n",
    "This would be the last post in our [Factor Analysis] series. Hope this series could help you get the idea of what factor analysis is about. This methodology doesn't have to be applied to stocks, it could also be applied to the stock market. As said in [【Factor analysis】 Vol. 1. Introduction the idea of factor analysis](https://mikelhsia.github.io/2021/01/31/2021-01-31-factor-analysis/), as long as you can clearly describe the question, collect relative data, and then quantify them, you'll able to use the same framework to help you understand how the data can be interpreted.\n",
    "\n",
    "See you next time."
   ]
  }
 ],
 "metadata": {
  "kernelspec": {
   "display_name": "Python 3.7.7 64-bit ('quant': conda)",
   "language": "python",
   "name": "python37764bitquantconda130da1f8350c44caaea6a82e21a3556d"
  },
  "language_info": {
   "codemirror_mode": {
    "name": "ipython",
    "version": 3
   },
   "file_extension": ".py",
   "mimetype": "text/x-python",
   "name": "python",
   "nbconvert_exporter": "python",
   "pygments_lexer": "ipython3",
   "version": "3.7.7"
  },
  "toc": {
   "base_numbering": 1,
   "nav_menu": {},
   "number_sections": true,
   "sideBar": true,
   "skip_h1_title": true,
   "title_cell": "Table of Contents",
   "title_sidebar": "Contents",
   "toc_cell": true,
   "toc_position": {
    "height": "calc(100% - 180px)",
    "left": "10px",
    "top": "150px",
    "width": "288px"
   },
   "toc_section_display": true,
   "toc_window_display": false
  },
  "varInspector": {
   "cols": {
    "lenName": 16,
    "lenType": 16,
    "lenVar": 40
   },
   "kernels_config": {
    "python": {
     "delete_cmd_postfix": "",
     "delete_cmd_prefix": "del ",
     "library": "var_list.py",
     "varRefreshCmd": "print(var_dic_list())"
    },
    "r": {
     "delete_cmd_postfix": ") ",
     "delete_cmd_prefix": "rm(",
     "library": "var_list.r",
     "varRefreshCmd": "cat(var_dic_list()) "
    }
   },
   "types_to_exclude": [
    "module",
    "function",
    "builtin_function_or_method",
    "instance",
    "_Feature"
   ],
   "window_display": false
  }
 },
 "nbformat": 4,
 "nbformat_minor": 4
}
